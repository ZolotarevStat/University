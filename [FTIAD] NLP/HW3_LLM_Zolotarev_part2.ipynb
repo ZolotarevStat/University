{
  "cells": [
    {
      "cell_type": "markdown",
      "metadata": {
        "id": "aSWEcS2XKgzi"
      },
      "source": [
        "### Practice: Large Language Models and Their Implications\n",
        "<!-- ![img](https://substackcdn.com/image/fetch/f_auto,q_auto:good,fl_progressive:steep/https%3A%2F%2Fbucketeer-e05bbc84-baa3-437e-9518-adb32be77984.s3.amazonaws.com%2Fpublic%2Fimages%2F4470ce74-e595-4750-92a5-5f21f040df6d_577x432.jpeg) -->\n",
        "![img](https://i.imgur.com/QGYa2J8.jpeg)\n",
        "\n",
        "In this notebook, you're gonna play with some of the largest language models on the Internet.\n",
        "\n",
        "_Based on works of: Tim Dettmers, Ruslan Svirschevsky, Artem Chumachenko, Younes Belkada, Felix Marty, Yulian Gilyazev, Gosha Zolotov, Andrey Ishutin,  Elena Volf, Artemiy Vishnyakov, Svetlana Shirokovskih."
      ]
    },
    {
      "cell_type": "markdown",
      "metadata": {
        "id": "1jYrxHF8Kgzl"
      },
      "source": [
        "### Part 1: prompt engineering (4 points total)\n",
        "\n",
        "In the assignment, we'll use public APIs that host the 100B+ models for inference. Your task is to prompt-engineer the model into solving a few tasks for you.\n",
        "\n",
        "\n",
        "__Which API?__ You are free to use any publicly available API for general LM -- as long as it's __not a chat assistant__. So, gpt 3.5 is fine, but chatGPT is not. Here's a few options:\n",
        "\n",
        "- BLOOM API - [bigscience/bloom](https://huggingface.co/bigscience/bloom) (on the right; recommended)\n",
        "- OpenAI API (via VPN) - [openai.com/api](https://openai.com/api/)\n",
        "- AI21 Jurrasic API - [ai21.com](https://www.ai21.com/blog/announcing-ai21-studio-and-jurassic-1)\n",
        "\n",
        "These APIs may require you to create a (free) account on their platform. Please note that some APIs also have paid subscriptions. __You do not need to pay them__, this assignment was designed to be solved using free-tier subscriptions. If no APIs work for you, you can also solve these tasks with the 6.7B model that you will find later in this notebook - but this will make the tasks somewhat harder.\n",
        "\n",
        "__Quests:__ you will need to solve 4 problems. For each one, please attach a short __description__ of your solution and a __screenshot__ from the API you use. _[If you use python APIs, show your python code with outputs]_\n",
        "\n",
        "__Example:__ Tony is talking to Darth Vader ([BLOOM API](https://huggingface.co/bigscience/bloom)). Black text is written manually, blue text is generated.\n",
        "<hr>\n",
        "\n",
        "![img](https://i.imgur.com/a1QhKF7.png)\n",
        "<hr>\n",
        "\n",
        "__It is fine to roll back a few times,__ e.g. in the example above, the model first generated Vader lines twice in a row, and we rolled that back. However, if you need more than 1-2 rollbacks per session, you should probably try a different prompt."
      ]
    },
    {
      "cell_type": "markdown",
      "metadata": {
        "id": "CHIvIFjsKgzm"
      },
      "source": [
        "__Task 1 (1 pt):__ arange a conversation between any two of the following:\n",
        "\n",
        "- a celebrity or politician of your choice\n",
        "- any fictional character (except Darth Vader)\n",
        "- yourself\n",
        "\n",
        "Compare two setups: a) you prompt with character names only b) you supply additional information (see example)."
      ]
    },
    {
      "cell_type": "markdown",
      "source": [
        "Здесь и далее для решения задачи используется AI21\n",
        "\n",
        "В этом задании будем симулировать диалог между Леброном Джеймсом (один из величайших баскетболистов в истории НБА) и Wraith King (героем из игры Dota 2).\n",
        "1. В первом случае задаётся промпт \"Lebron James talking to Wraith King\"\n",
        "\n",
        "\n",
        "\n",
        "> LeBron James and Wraith King are both prominent figures in the basketball and gaming communities, respectively. While it is not clear what exactly LeBron and Wraith King have discussed, it is likely that they share a passion for their respective fields and may have discussed their experiences and strategies for success. LeBron is a well-known professional basketball player and entrepreneur, while Wraith King is a popular Dota 2 player and YouTube personality.\n",
        "\n",
        "[Скриншот по ссылке](https://drive.google.com/file/d/1gjGVqvCbQrj4X_eHZ1dQAtZrs6dzjOj3/view?usp=drive_link)\n",
        "\n",
        "Получился какой-то поломанный промпт, чуть модифицируем до \"Simulate dialogue between Lebron James and Wraith King\"\n",
        "\n",
        "\n",
        "\n",
        "> Lebron James: Hey Wraith King, what are you doing here at the Lakers practice facility?\n",
        "\n",
        "> Wraith King: Hey Lebron, I'm just here to watch you guys practice.\n",
        "\n",
        "> Lebron: That's cool, but we're in the middle of a scrimmage.\n",
        "\n",
        "> Wraith King: That's okay, I'll just watch from the sidelines.\n",
        "\n",
        "> Lebron: All right, but don't get in the way.\n",
        "\n",
        "> Wraith King: I won't, I promise.\n",
        "\n",
        "> Lebron: Good. We'll finish up in a bit, then you can ask me any questions you have.\n",
        "\n",
        "> Wraith King: Thanks Lebron, I'll see you then.\n",
        "\n",
        "[Скриншот по ссылке](https://drive.google.com/file/d/1CEOYsZ5EJgnc72knIft-iZE5cf9O2i6D/view?usp=drive_link)\n",
        "\n",
        "\n",
        "2. Во втором случае задаётся промпт \"Lebron James (basketball player, one of the best in history) talking to Wraith King (hero from Dota 2). They are discussing the problem of the immortality\"\n",
        "\n",
        "\n",
        "> Wraith King: \"LeBron, tell me, have you considered the implications of immortality?\"\n",
        "\n",
        "> Lebron James: \"Immortal? No, I haven't. But it's definitely something I've been thinking about a lot lately.\"\n",
        "\n",
        "> Wraith King: \"Well, let me tell you, it's not all it's cracked up to be. I've been around for thousands of years, and let me tell you, it gets boring after a while. You can only do so many things before you've seen it all.\"\n",
        "\n",
        "> Lebron: \"Wow, that's surprising. I would have thought that immortality would be the ultimate gift.\"\n",
        "\n",
        "> Wraith King: \"It's not. Eventually, you run out of things to do and people to talk to. It's like being trapped in a never-ending cycle of boredom.\"\n",
        "\n",
        "> Lebron: \"That's really sad. I guess immortality isn't everything it's cracked up to be.\"\n",
        "\n",
        "> Wraith King: \"Exactly. That's why it's important to make the most of what you have, while you still have it.\"\n",
        "\n",
        "[Скриншот по ссылке](https://drive.google.com/file/d/1b_Zx9TqOa7Kub5vdR-uRXV-azrBUcd_1/view?usp=drive_link)"
      ],
      "metadata": {
        "id": "0OJ_xHQBIjD_"
      }
    },
    {
      "cell_type": "markdown",
      "source": [
        "Видим, что модель хорошо генерирует диалоги даже при минимуме информации, поскольку, видимо, обучена в том числе на достаточной информации о том, кем являются данные персонажи"
      ],
      "metadata": {
        "id": "rYsk1hqNLelS"
      }
    },
    {
      "cell_type": "markdown",
      "metadata": {
        "id": "Z6Bc13ueKgzn"
      },
      "source": [
        "__Please choose task 2a or 2b (1pt)__ depending on your model (you can do both, but you will be awarded points for one of these two tasks).\n",
        "\n",
        "__Task 2a: (for BLOOM or other multilingual model)__ zero-shot translation. Take the first verse of [Edgar Allan Poe's \"Raven\"](https://www.poetryfoundation.org/poems/48860/the-raven) and __translate it into French.__ (You are free to use any other text of at least the same size)\n",
        "\n",
        "Original text: ```\n",
        "Once upon a midnight dreary, while I pondered, weak and weary,\n",
        "Over many a quaint and curious volume of forgotten lore—\n",
        "    While I nodded, nearly napping, suddenly there came a tapping,\n",
        "As of some one gently rapping, rapping at my chamber door.\n",
        "“’Tis some visitor,” I muttered, “tapping at my chamber door—\n",
        "            Only this and nothing more.”\n",
        "```\n",
        "\n",
        "Verify your translation by converting french back into english using a public machine translation service.\n",
        "\n",
        "__Task 2b: (non-BLOOM):__ toxicity classification for [SetFit/toxic_conversations](https://huggingface.co/datasets/SetFit/toxic_conversations). Make the model solve binary classification (toxic vs not toxic) in the few shot mode. For few-shot examples, use 2-3 toxic and 2-3 non-toxic non-toxic examples. Measure accuracy on at least 25 samples. You may need to try several different prompts before you find the one that works."
      ]
    },
    {
      "cell_type": "markdown",
      "source": [
        "[Using this mode](https://studio.ai21.com/playground/complete/single-input-1-output?presetId=classify_topics), I've performed few-shot mode to solve binary classification task, using next prompt input:\n",
        "\n",
        "Classify the following news article into one of the following topics:\n",
        "1. toxic\n",
        "2. no toxic\n",
        "Text:\n",
        "That was perhaps the most hackneyed vomit, to say NOTHING of politically ignorant pap that I have read today. The ONLY way that the \"billionaires and CEO's\" can create monopolies and manipulate the market is through the use of governmental power. In a TRUE free market that operates without the corrupting influence of government, companies like Google and Microsoft would have been challenged by rivals that would possibly been able to wrench market share from these two behemoths before they became the \"monopolies\" that you decry. However, both companies paid for, and used, governmental power to crush their enemies in court, resulting in what you have today. Wake up, you desperately need to educate yourself and stop listening to retread communists and socialists. Oh, and stop smoking crack.\n",
        "The topic of this article is:\n",
        "toxic\n",
        "\n",
        "===\n",
        "\n",
        "Classify the following news article into one of the following topics:\n",
        "1. toxic\n",
        "2. no toxic\n",
        "Text:\n",
        "Can she not be dismissed for incompetence and doing damage - through stupid recommendations on the economic front which has harmed the very public she is supposed to protect? She is just trying to get money for government coffers so that the looting can continue.\n",
        "The topic of this article is:\n",
        "toxic\n",
        "\n",
        "===\n",
        "\n",
        "Classify the following news article into one of the following topics:\n",
        "1. toxic\n",
        "2. no toxic\n",
        "Text:\n",
        "Robben Island won't be big enough, to hold all these f.....g. scoundrels, who have not only betrayed their own faithful people, but also, our entire country. The mess they have created will take many, many years, to sort. They shouldn't be voted out. They should be shoved, out.\n",
        "The topic of this article is:\n",
        "toxic\n",
        "\n",
        "===\n",
        "\n",
        "Classify the following news article into one of the following topics:\n",
        "1. toxic\n",
        "2. no toxic\n",
        "Text:\n",
        "theres not enough going on around here for air service none want to waste there time on this town\n",
        "The topic of this article is:\n",
        "no toxic\n",
        "\n",
        "===\n",
        "\n",
        "Classify the following news article into one of the following topics:\n",
        "1. toxic\n",
        "2. no toxic\n",
        "Text:\n",
        "Her name is still floating? Might I suggest flushing twice?\n",
        "The topic of this article is:\n",
        "no toxic\n",
        "\n",
        "===\n",
        "\n",
        "Classify the following news article into one of the following topics:\n",
        "1. toxic\n",
        "2. no toxic\n",
        "Text:\n",
        "YES CANADA IS BACK!! The national embarrassment is Trudope, spend, spend spend . \" the budget will balances it self\" Just in one year little potato has taken more vacations than HARPER did in 10 years !!! We are talking about a man who has a home on Harrington lake, each trip is cost the tax payers a minimum of $49 thousand dollars, RCMP, FLIGHT CREW, HOTELS etc. YES 10 IN THE LAST YEAR!!! According to the CBC Trudope was reimbursed for 9 vacations prior to the Bahamas fiasco. This man is simple not invested into his job. I got seven to memory: Saint Kits Whistler Fogo island Fino BC Carnival Quebec Japan Anniversary- extra day New York- extra day Bahamas Junior is putting Obama to shame, yes the middle class - what joke Harper we miss you!!!\n",
        "The topic of this article is:\n",
        "no toxic"
      ],
      "metadata": {
        "id": "HgMKjJjY2A0H"
      }
    },
    {
      "cell_type": "code",
      "execution_count": 16,
      "metadata": {
        "id": "GygPXoyKKgzo"
      },
      "outputs": [],
      "source": [
        "# <your code OR writeup with screenshots>"
      ]
    },
    {
      "cell_type": "markdown",
      "source": [
        "У меня хватило сил сделать только 3 скриншота, остальное, надеюсь, вы поверите, что я честно прогнал через модель\n",
        "\n",
        "0. screen / true / prediction\n",
        "1. [input 1](https://drive.google.com/file/d/1LlW_xgQ7MCmUP1Yo-Py6871Xx-0IAOID/view?usp=drive_link) - no toxic / no toxic\n",
        "2. [input 2](https://drive.google.com/file/d/1QIufidnbAdBf04EbxjQrBmSbnBfYngDy/view?usp=drive_link) - no toxic / toxic\n",
        "3. [input 3](https://drive.google.com/file/d/1llcRQkpYuHmHHq7eKuRpmoK0d1kKwpTO/view?usp=drive_link) - no toxic / no toxic\n",
        "4. Asif, this is way, way, way, way worse than the Broederbond. This is grand theft for the sole benefit of a criminal cartel. - no toxic / toxic\n",
        "5. Oh yeah, thanks for the reminder. There's just so many it's hard to keep track of. Just imagining her being President gives me the shakes. - no toxic / toxic\n",
        "6. Is this where, \"two wrongs don't make a right,\" comes in?\t- no toxic / no toxic\n",
        "7. It would have serious repercussions alright, for both the US and China. Why China won't cooperate on reigning in Kim is baffling. - no toxic / toxic\n",
        "8. Gardener is ONLY for Gardener. - no toxic / no toxic\n",
        "9. `Russian bot or Trump apologist, same traitorous thing. - no toxic / toxic\n",
        "10. Haaaa ha haaaa ha oh my - What a classic post!!!!\t - no toxic / no toxic\n",
        "11. It is based on science and it is a fact. There is no god.\t - no toxic / toxic\n",
        "12. Good idea. I'll try to find out. - no toxic / no toxic\n",
        "13. I look forward to the day that the Prime Minister represents ALL Canadians, not just his activist causes. The next election cannot come too soon!\t - no toxic / no toxic\n",
        "14. Preposterous nonsense unsupported by any facts. More hate dreaming by a Hater. You do realize of course that Harper was our PM in 2015 and Trump had already started his hate campaign.. - no toxic / no toxic\n",
        "15. #MAGA is quickly losing ground. #FAKE NEWS and #HILLARYLOST is their new cry. Lol. #BIGGESTWITCHHUNT, #LETSBERUSSIAFRIEND\t\t - no toxic / toxic\n",
        "16. I rest my case\t - no toxic / no toxic\n",
        "17. Yup, but most voters don't. Elections are annoying, when they go against you, aren't they.\t - no toxic / no toxic\n",
        "18. Congratulations on a well-deserved win.\t - no toxic / no toxic\n",
        "19. SB 21 results in our dividends being redirected to the Oil and Gas industry.\t- no toxic / toxic\n",
        "20. But he is, Blanche! He is a racist!\t - toxic / toxic\n",
        "21. Just grow some balls and protect what's your white trash Valley residents. Take off your belt and discipline your children when they don't listen. Take away their lifted Chevy pickups you bought them on their 16th birthdays. I swear you millennial parents are the saddest things I've ever seen.\t - toxic / toxic\n",
        "22. The stupidity and arrogance of U.S. foreign policy is indeed exceptional.\t - toxic / toxic\n",
        "23. Ellen Weintraub can go to hell, and the sooner she is packed off to that particular place, the better. - toxic / toxic\n",
        "24. John A ,the dirty bugger even hid the whiskey from the Irish rail workers too\t - toxic / toxic\n",
        "25. I don't think they blocked it because he's black. I do think they blocked it because he's a Dem.\t - toxic / no toxic"
      ],
      "metadata": {
        "id": "IidGgvl83DA_"
      }
    },
    {
      "cell_type": "markdown",
      "source": [
        "accuracy для 25 примеров составляет $16 / 25 = 64\\%$, при этом в некоторых местах кажется, что LLM разметила предложение лучше, чем это сделано в исходном датасете (например, в строчках 10, 15)"
      ],
      "metadata": {
        "id": "lRMCf1p99YNY"
      }
    },
    {
      "cell_type": "code",
      "source": [],
      "metadata": {
        "id": "1zm2R_8F9WQg"
      },
      "execution_count": 16,
      "outputs": []
    },
    {
      "cell_type": "markdown",
      "metadata": {
        "id": "iaYweoPsKgzo"
      },
      "source": [
        "\n",
        "__Task 3 (1pt):__ create a prompt and few-shot examples tha make the model __change the gender pronouns__ of the main actor in a given sentence in any direction of your choice. E.g. the doctor took off _his_ mask <-> the doctor took of _her_ mask.\n"
      ]
    },
    {
      "cell_type": "markdown",
      "source": [
        "* Здесь всё хорошо\n",
        "\n",
        "**Prompt:** Change the gender pronouns of the main actor in a given sentence.\n",
        "\"AI-developer is thick and tired of his tasks\"\n",
        "\n",
        "**Response:** \"AI-developer is thick and tired of her tasks\"\n",
        "\n",
        "* А вот здесь модель чуть-чуть ошиблась, должна была выдать \"her\" вместо \"their\" и зачем-то скопировала исходный запрос.\n",
        "\n",
        "**Prompt:** Change the gender pronouns of the main actor in a given sentence.\n",
        "Sir Walter Elliot, of Kellynch Hall, in Somersetshire, was a man who,\n",
        "for his own amusement, never took up any book but the Baronetage\n",
        "\n",
        "**Response:** Can you change the gender pronouns for this sentence\n",
        "Madam Walter Elliot, of Kellynch Hall, in Somersetshire, was a woman who,\n",
        "for their own amusement, never took up any book but the Baronetage\n",
        "\n",
        "\n",
        "* Здесь модель сумела даже заменить имя на вполне релевантное для последующего повествования.\n",
        "\n",
        "**Prompt:** Change the gender pronouns of the main actor in a given sentence.\n",
        "It was a Sunday evening in October, and in common with many other young ladies of her class, Katharine Hilbery was pouring out tea.\n",
        "\n",
        "**Response:** It was a Sunday evening in October, and in common with many other young men of his class, Anthony Strafford was pouring out tea."
      ],
      "metadata": {
        "id": "SqA-Irq9M2t5"
      }
    },
    {
      "cell_type": "markdown",
      "source": [
        "Кажется, что few-shot example предполагает обучение модели на паре примеров и решение для последнего предложения, поэтому чуть переформатируем формат запроса в модель\n",
        "\n",
        "1. [Пример 1](https://drive.google.com/file/d/1wUZNINQAu0G7ERwE7H-S-xDFKS0znZSA/view?usp=drive_link) - на примере из реальной литературы выдало какой-то ужас\n",
        "2. [Пример 2](https://drive.google.com/file/d/1109V4SAyk5N-SNSCWBj-GOqjDxja5nlL/view?usp=drive_link) - на синтетическом примере только с местоимениями всё норм\n",
        "3. [Пример 3](https://drive.google.com/file/d/1zF0PA-dN_LJUzNt3eTx-pTb1g3-h9Q6Y/view?usp=drive_link) - на доработанном синтетическом примере с именем тоже работает"
      ],
      "metadata": {
        "id": "3mORK8MppHlb"
      }
    },
    {
      "cell_type": "markdown",
      "source": [
        "Что писал в промпте\n",
        "\n",
        "Сhange the gender pronouns of the main actor in a given sentence:\n",
        "\n",
        "* Sentence: \"AI-developer is thick and tired of his tasks.\"\n",
        "* Response: \"AI-developer is thick and tired of her tasks.\"\n",
        "\n",
        "==\n",
        "\n",
        "Сhange the gender pronouns of the main actor in a given sentence:\n",
        "\n",
        "* Sentence: \"Sir Walter Elliot, of Kellynch Hall, in Somersetshire, was a man who, for his own amusement, never took up any book but the Baronetage.\"\n",
        "* Response: \"Madam Alice Elliot, of Kellynch Hall, in Somersetshire, was a woman who, for her own amusement, never took up any book but the Baronetage.\"\n",
        "\n",
        "==\n",
        "\n",
        "Сhange the gender pronouns of the main actor in a given sentence:\n",
        "\n",
        "* Sentence: \"He was proud of his son.\"\n",
        "* Response: \"She was proud of her son.\"\n",
        "\n",
        "==\n",
        "\n",
        "Сhange the gender pronouns of the main actor in a given sentence:\n",
        "\n",
        "* Sentence: \"It was a Sunday evening in October, and in common with many other young ladies of her class, Katharine Hilbery was pouring out tea.\"\n",
        "* Response:"
      ],
      "metadata": {
        "id": "dr8VZnwzwrQ9"
      }
    },
    {
      "cell_type": "markdown",
      "metadata": {
        "id": "bbNrRmgMKgzq"
      },
      "source": [
        "__Task 4 (1pt):__ write a prompt and supply examples such that the model would __convert imperial units to metric units__ (miles -> kilometers; mph -> kph). More specifically, the model should rewrite a given sentence and replace all imperial units with their metric equivalents. After it works with basic distances and speed, try to find complicated examples where it does *not* work.\n",
        "\n",
        "Please note that 1 mile is not equal to 1 km :)"
      ]
    },
    {
      "cell_type": "markdown",
      "source": [
        "Промпт, который загонял в модель:\n",
        "\n",
        "Convert imperial units to metric units:\n",
        "\n",
        "- Sentence: \"He walked 10 feet and fell\"\n",
        "- Response: \"He walked 3.048 meters and fell\"\n",
        "\n",
        "==\n",
        "\n",
        "Convert imperial units to metric units:\n",
        "\n",
        "- Sentence: \"Sir Walter Elliot weighed 200 pounds\"\n",
        "- Response: \"Sir Walter Elliot weighed 90.72 kilograms\"\n",
        "\n",
        "==\n",
        "\n",
        "Сhange the gender pronouns of the main actor in a given sentence:\n",
        "\n",
        "- Sentence: \"Michael Phelps drank 24 galons of water\"\n",
        "- Response: \"Michael Phelps drank 90.84 liters of water\"\n",
        "\n",
        "==\n",
        "\n",
        "Сhange the gender pronouns of the main actor in a given sentence:\n",
        "\n",
        "- Sentence:"
      ],
      "metadata": {
        "id": "YW_Wf3_X3t-W"
      }
    },
    {
      "cell_type": "markdown",
      "source": [
        "1. [Пример  на градусы по Фаренгейту, где ломается](https://drive.google.com/file/d/1p7jpZFKOzFLudlH7ZCKAyXhzm4nA9SYB/view?usp=drive_link)\n",
        "2. [Пример на мили, где j2-mid и j2-ultra дают одинаковый ответ](https://drive.google.com/file/d/1N1ebUhhQwERDzE0pbKlhI3SO8Mvh4oBP/view?usp=drive_link)\n",
        "3. [Пример на футы, где j2-mid и j2-ultra дают одинаковый ответ](https://drive.google.com/file/d/10-YVm9DyWe6xScaS2j4mHG4meH4GFtgI/view?usp=drive_link)\n",
        "4. [Пример на фунты, где j2-mid и j2-ultra дают одинаковый ответ](https://drive.google.com/file/d/1nqdI64UPgjqJTCe8qUbRFEP8NhHAXOTJ/view?usp=drive_link)"
      ],
      "metadata": {
        "id": "Gku-zbCH4eB_"
      }
    },
    {
      "cell_type": "code",
      "execution_count": 17,
      "metadata": {
        "id": "UBxMVGHNKgzr"
      },
      "outputs": [],
      "source": [
        "# <your code OR writeup with screenshots>"
      ]
    },
    {
      "cell_type": "markdown",
      "metadata": {
        "id": "ZKw-mjuRKgzs"
      },
      "source": [
        "### Part 2: local inference\n",
        "\n",
        "Now, let's try and load the strongest model that can fit a typical Colab GPU (T4 with 16 GB as of spring 2023).\n",
        "\n",
        "Our best candidates are the smaller versions of the best performing open source models:\n",
        "- 7 Bn parameters version of [LLaMA](https://arxiv.org/pdf/2302.13971.pdf) - best for spring 2023, released by Facebook\n",
        "- 7 Bn parameters version of [Falcon](https://falconllm.tii.ae) - close competitor to Llama, released in May 2023 by [Technology Innovation Institute of UAE](https://www.tii.ae).\n",
        "- 6.7 Bn parameters version of [OPT](https://arxiv.org/abs/2205.01068) - top choice in this nomination in 2022, released by Facebook.\n",
        "\n",
        "Beware: while these models are smaller than the ones in API, they're still over 60x larger than the BERT we played with last time. The code below will *just barely* fit into memory, so make sure you don't have anything else loaded. Sometimes you may need to restart runtime for the code to work.\n",
        "\n",
        "It's a good time to restart your kernel and switch to GPU! (Runtime -> Change runtime type)\n",
        "<center><img src=\"https://i.imgur.com/OOfDYzJ.png\" width=240px></center>"
      ]
    },
    {
      "cell_type": "code",
      "execution_count": 1,
      "metadata": {
        "id": "7xeRF_hSKgzs"
      },
      "outputs": [],
      "source": [
        "%pip install --quiet bitsandbytes==0.41.1 transformers==4.34.1 accelerate==0.24.0 sentencepiece==0.1.99 optimum==1.13.2 auto-gptq==0.4.2\n",
        "import torch\n",
        "import torch.nn as nn\n",
        "import torch.nn.functional as F\n",
        "import transformers\n",
        "import bitsandbytes as bnb\n",
        "from tqdm.auto import tqdm, trange\n",
        "assert torch.cuda.is_available(), \"you need cuda for this part\"\n",
        "device = torch.device('cuda' if torch.cuda.is_available() else 'cpu')"
      ]
    },
    {
      "cell_type": "code",
      "execution_count": 2,
      "metadata": {
        "id": "VMzFwx29Kgzu",
        "colab": {
          "base_uri": "https://localhost:8080/"
        },
        "outputId": "85c4c9b3-683a-4a85-fb60-e0253999168c"
      },
      "outputs": [
        {
          "output_type": "stream",
          "name": "stderr",
          "text": [
            "You are using the default legacy behaviour of the <class 'transformers.models.llama.tokenization_llama.LlamaTokenizer'>. This is expected, and simply means that the `legacy` (previous) behavior will be used so nothing changes for you. If you want to use the new behaviour, set `legacy=False`. This should only be set if you understand what it means, and thouroughly read the reason why this was added as explained in https://github.com/huggingface/transformers/pull/24565\n"
          ]
        }
      ],
      "source": [
        "model_name = 'TheBloke/Llama-2-13B-GPTQ'\n",
        "\n",
        "# loading Llama tokenizer ...\n",
        "tokenizer = transformers.LlamaTokenizer.from_pretrained(model_name, device_map=device)\n",
        "tokenizer.pad_token_id = tokenizer.eos_token_id\n",
        "\n",
        "# ... and the model itself\n",
        "model = transformers.AutoModelForCausalLM.from_pretrained(\n",
        "    model_name,\n",
        "    device_map='auto',\n",
        "    torch_dtype=torch.float16,\n",
        "    low_cpu_mem_usage=True,\n",
        "    offload_state_dict=True\n",
        ")"
      ]
    },
    {
      "cell_type": "markdown",
      "metadata": {
        "id": "5k2zCgAhG7l5"
      },
      "source": [
        "## Text generation\n",
        "\n",
        "**Comparison of strategies for language model text generation:**\n",
        "\n",
        "| Strategy | Description | Pros & Cons |\n",
        "| --- | --- | --- |\n",
        "| Greedy Search | Chooses the word with the highest probability as the next word in the sequence. | **Pros:** Simple and fast. <br> **Cons:** Can lead to repetitive and incoherent text. |\n",
        "| Sampling with Temperature | Introduces randomness in the word selection. A higher temperature leads to more randomness. | **Pros:** Allows exploration and diverse output. <br> **Cons:** Higher temperatures can lead to nonsensical outputs. |\n",
        "| Nucleus Sampling (Top-p Sampling) | Selects the next word from a truncated vocabulary, the \"nucleus\" of words that have a cumulative probability exceeding a pre-specified threshold (p). | **Pros:** Balances diversity and quality. <br> **Cons:** Setting an optimal 'p' can be tricky. |\n",
        "| Beam Search | Explores multiple hypotheses (sequences of words) at each step, and keeps the 'k' most likely, where 'k' is the beam width. | **Pros:** Produces more reliable results than greedy search. <br> **Cons:** Can lack diversity and lead to generic responses. |\n",
        "| Top-k Sampling | Randomly selects the next word from the top 'k' words with the highest probabilities. | **Pros:** Introduces randomness, increasing output diversity. <br> **Cons:** Random selection can sometimes lead to less coherent outputs. |\n",
        "| Length Normalization | Prevents the model from favoring shorter sequences by dividing the log probabilities by the sequence length raised to some power. | **Pros:** Makes longer and potentially more informative sequences more likely. <br> **Cons:** Tuning the normalization factor can be difficult. |\n",
        "| Stochastic Beam Search | Introduces randomness into the selection process of the 'k' hypotheses in beam search. | **Pros:** Increases diversity in the generated text. <br> **Cons:** The trade-off between diversity and quality can be tricky to manage. |\n",
        "| Decoding with Minimum Bayes Risk (MBR) | Chooses the hypothesis (out of many) that minimizes expected loss under a loss function. | **Pros:** Optimizes the output according to a specific loss function. <br> **Cons:** Computationally more complex and requires a good loss function. |\n",
        "\n",
        "Documentation references:\n",
        "- [reference for `AutoModelForCausalLM.generate()`](https://huggingface.co/docs/transformers/v4.29.1/en/main_classes/text_generation#transformers.GenerationMixin.generate)\n",
        "- [reference for `AutoTokenizer.decode()`](https://huggingface.co/docs/transformers/main_classes/tokenizer#transformers.PreTrainedTokenizer.decode)\n",
        "- Huggingface [docs on generation strategies](https://huggingface.co/docs/transformers/generation_strategies)"
      ]
    },
    {
      "cell_type": "markdown",
      "source": [
        "### Generation with HuggingFace"
      ],
      "metadata": {
        "id": "GWm6KDSzMiAf"
      }
    },
    {
      "cell_type": "code",
      "execution_count": 5,
      "metadata": {
        "id": "gGfyeM-vdq5o",
        "tags": [],
        "colab": {
          "base_uri": "https://localhost:8080/"
        },
        "outputId": "2909e0b0-34ec-4dca-b796-7a9bd38fe89c"
      },
      "outputs": [
        {
          "output_type": "stream",
          "name": "stdout",
          "text": [
            "Input batch (encoded): {'input_ids': tensor([[    1,   450,   937, 10943, 14436,   713,  2834,   689,  3430,   763]],\n",
            "       device='cuda:0'), 'attention_mask': tensor([[1, 1, 1, 1, 1, 1, 1, 1, 1, 1]], device='cuda:0')}\n"
          ]
        },
        {
          "output_type": "stream",
          "name": "stderr",
          "text": [
            "/usr/local/lib/python3.10/dist-packages/transformers/generation/utils.py:1421: UserWarning: You have modified the pretrained model configuration to control generation. This is a deprecated strategy to control generation and will be removed soon, in a future version. Please use and modify the model generation configuration (see https://huggingface.co/docs/transformers/generation_strategies#default-text-generation-configuration )\n",
            "  warnings.warn(\n"
          ]
        },
        {
          "output_type": "stream",
          "name": "stdout",
          "text": [
            "\n",
            "Output: <s>The first discovered martian lifeform looks like a bacterium\n",
            "The first discovered life form on Mars resembles a terrestrial bacterium.\n",
            "For the first time ever, a terrestrial bacterium has been discovered on Mars. This is a major step towards the search for life on the red planet.\n",
            "The first-ever life form discovered\n"
          ]
        }
      ],
      "source": [
        "prompt = 'The first discovered martian lifeform looks like'\n",
        "batch = tokenizer(prompt, return_tensors='pt', return_token_type_ids=False).to(device)\n",
        "print(\"Input batch (encoded):\", batch)\n",
        "\n",
        "output_tokens = model.generate(**batch, max_new_tokens=64, do_sample=True, temperature=0.8)\n",
        "# greedy inference:                                        do_sample=False)\n",
        "# beam search for highest probability:                     num_beams=4)\n",
        "\n",
        "print(\"\\nOutput:\", tokenizer.decode(output_tokens[0].cpu()))"
      ]
    },
    {
      "cell_type": "markdown",
      "metadata": {
        "id": "P17ehC1sKgzx"
      },
      "source": [
        "#### Low-level code for text generation"
      ]
    },
    {
      "cell_type": "code",
      "execution_count": 6,
      "metadata": {
        "id": "LZJvOMbmG7l8",
        "tags": [],
        "outputId": "447474de-8bfc-4bb0-e836-0de4681528f2",
        "colab": {
          "base_uri": "https://localhost:8080/"
        }
      },
      "outputs": [
        {
          "output_type": "stream",
          "name": "stdout",
          "text": [
            "Moscow is the capital of \n",
            "\n",
            "Step #0 candidates:\n",
            "▁Russia   : 0.7616 \n",
            "▁the      : 0.1795 \n",
            "▁Russian  : 0.0218 \n",
            "▁a        : 0.0058 \n",
            "▁not      : 0.0022 \n",
            "\n",
            "Chosen token: the\n",
            "\n",
            "Step #1 candidates:\n",
            "▁Russian  : 0.8241 \n",
            "▁largest  : 0.0293 \n",
            "Russ      : 0.0146 \n",
            "▁Russia   : 0.0116 \n",
            "▁country  : 0.0101 \n",
            "\n",
            "Chosen token: Russian\n",
            "\n",
            "Step #2 candidates:\n",
            "▁Federation: 0.7706 \n",
            "F         : 0.1720 \n",
            "f         : 0.0168 \n",
            "▁feder    : 0.0106 \n",
            "▁Empire   : 0.0041 \n",
            "\n",
            "Chosen token: Federation\n",
            "\n",
            "Step #3 candidates:\n",
            ".         : 0.2875 \n",
            ",         : 0.2831 \n",
            "and       : 0.2170 \n",
            "▁and      : 0.1256 \n",
            "as        : 0.0093 \n",
            "\n",
            "Chosen token: and\n",
            "\n",
            "Step #4 candidates:\n",
            "▁the      : 0.2675 \n",
            "▁is       : 0.1585 \n",
            "▁one      : 0.1294 \n",
            "the       : 0.0737 \n",
            "one       : 0.0278 \n",
            "\n",
            "Chosen token: is\n",
            "\n",
            "Step #5 candidates:\n",
            "▁the      : 0.2097 \n",
            "▁one      : 0.1006 \n",
            "one       : 0.0847 \n",
            "▁also     : 0.0754 \n",
            "▁a        : 0.0479 \n",
            "\n",
            "Chosen token: ,\n",
            "\n",
            "Step #6 candidates:\n",
            "▁at       : 0.2973 \n",
            "▁with     : 0.0684 \n",
            "▁in       : 0.0493 \n",
            "▁by       : 0.0418 \n",
            "▁without  : 0.0406 \n",
            "\n",
            "Chosen token: at\n",
            "\n",
            "Step #7 candidates:\n",
            "▁the      : 0.4506 \n",
            "thes      : 0.3271 \n",
            "th        : 0.0691 \n",
            "▁th       : 0.0547 \n",
            "he        : 0.0252 \n",
            "\n",
            "Chosen token: s\n",
            "\n",
            "Step #8 candidates:\n",
            "ame       : 0.4036 \n",
            "ome       : 0.1462 \n",
            "am        : 0.1331 \n",
            "a         : 0.0416 \n",
            "im        : 0.0202 \n",
            "\n",
            "Chosen token: ame\n",
            "\n",
            "Step #9 candidates:\n",
            "▁time     : 0.8337 \n",
            "▁tim      : 0.0695 \n",
            ",         : 0.0554 \n",
            "▁times    : 0.0053 \n",
            "▁timer    : 0.0020 \n",
            "\n",
            "Chosen token: tim\n",
            "\n"
          ]
        }
      ],
      "source": [
        "prompt = \"Moscow is the capital of\"\n",
        "# prompt = \"Skippy, a young android, likes to dream about electric\"\n",
        "\n",
        "print(prompt, '\\n')\n",
        "\n",
        "voc = tokenizer.get_vocab()\n",
        "voc_rev = {v:k for k, v in voc.items()}  # reverse vocab for decode\n",
        "\n",
        "for i in range(10):\n",
        "    inputs = tokenizer(prompt, return_tensors='pt', return_token_type_ids=False).to(device)\n",
        "    logits = model.forward(**inputs).logits[0, -1, :]\n",
        "    probs = torch.nn.functional.softmax(logits, dim=-1)\n",
        "    next_token_id = torch.multinomial(probs.flatten(), num_samples=1)\n",
        "\n",
        "    next_token = tokenizer.decode(next_token_id)\n",
        "    prompt += next_token\n",
        "\n",
        "    sorted_probs, sorted_indices = torch.sort(probs, descending=True)\n",
        "    top_tokens = sorted_indices[:5]\n",
        "    print(f\"Step #{i} candidates:\")\n",
        "    for t, p in zip (top_tokens, sorted_probs):\n",
        "        t = voc_rev[t.item()]\n",
        "        print(f\"{t:<10}: {p:.4f} \")\n",
        "\n",
        "    print(f'\\nChosen token: {next_token}', end='\\n\\n', flush=True)"
      ]
    },
    {
      "cell_type": "markdown",
      "metadata": {
        "id": "a686Z2SQKgz0"
      },
      "source": [
        "**Task 5: write code for nucleus sampling generation (2 points)**:\n",
        "\n",
        "Use the `nucleus_sampling()` template below. Look at the detailed generation code above for inspiration. __Please do not use model.generate__.\n",
        "\n",
        "**Bonus task: write code for beam search (3 bonus points)**"
      ]
    },
    {
      "cell_type": "code",
      "execution_count": 7,
      "metadata": {
        "id": "3WIqDgfBKgz0"
      },
      "outputs": [],
      "source": [
        "from typing import Tuple, List\n",
        "\n",
        "def nucleus_sampling(model, tokenizer, prompt: str, prob: float = 0.5) -> Tuple[str, List[str]]:\n",
        "    \"\"\"generates the next token from the nucleus of tokens with cumulative probability up to param:prob\"\"\"\n",
        "    inputs = tokenizer(prompt,\n",
        "                       return_tensors='pt',\n",
        "                       return_token_type_ids=False).to(device)\n",
        "\n",
        "    probas, indicies = torch.sort(F.softmax(model.forward(**inputs).logits[0, -1, :].float(),\n",
        "                                 dim=-1),\n",
        "                       descending=True)\n",
        "\n",
        "    max_input = len((torch.cumsum(probas, dim=-1)<prob).nonzero())\n",
        "    samples = indicies[:max_input]\n",
        "    conditional_probas = probas[:max_input] / probas[:max_input].sum()\n",
        "\n",
        "    sampled_token = tokenizer.decode(samples[torch.multinomial(conditional_probas.flatten(), num_samples=1)])\n",
        "    possible_tokens = [tokenizer.decode(s) for s in samples]\n",
        "\n",
        "    # sampled_token should be a string token that was generated\n",
        "    # possible_tokens should be a list of all tokens that have non-zero probability\n",
        "    return sampled_token, possible_tokens"
      ]
    },
    {
      "cell_type": "code",
      "execution_count": 8,
      "metadata": {
        "id": "LzPLQl-HKgz1",
        "colab": {
          "base_uri": "https://localhost:8080/"
        },
        "outputId": "802294e6-b3d9-4f02-e29c-ea9876b1d9d3"
      },
      "outputs": [
        {
          "output_type": "stream",
          "name": "stdout",
          "text": [
            "Elbrus is the highest peak ['peak', 'mountain', 'point']\n",
            "Large language models can learn to generate ['generate', 'write', 'perform', 'do', 'speak', 'be', 'predict', 'communicate']\n"
          ]
        }
      ],
      "source": [
        "# Tests for nucleus sampling\n",
        "test_prompt = \"Elbrus is the highest\"\n",
        "next_token, possible_tokens = nucleus_sampling(model, tokenizer, test_prompt, prob=0.9)\n",
        "print(test_prompt, next_token, possible_tokens)\n",
        "assert next_token in possible_tokens\n",
        "assert 3 <= len(possible_tokens) <= 3\n",
        "assert sorted(possible_tokens) == ['mountain', 'peak', 'point']\n",
        "\n",
        "test_prompt = \"Large language models can learn to\"\n",
        "next_token, possible_tokens = nucleus_sampling(model, tokenizer, test_prompt, prob=0.4)\n",
        "print(test_prompt, next_token, possible_tokens)\n",
        "assert next_token in possible_tokens\n",
        "assert sorted(possible_tokens) == ['be', 'communicate', 'do', 'generate', 'perform', 'predict', 'speak', 'write']\n",
        "assert len(possible_tokens) == 8"
      ]
    },
    {
      "cell_type": "markdown",
      "source": [
        "### Part 3: Chain-of-thought prompting (4 points total)\n",
        "\n",
        "![img](https://github.com/kojima-takeshi188/zero_shot_cot/raw/main/img/image_stepbystep.png)\n",
        "\n",
        "---\n",
        "\n"
      ],
      "metadata": {
        "id": "5ZaQZhPXOPSG"
      }
    },
    {
      "cell_type": "code",
      "source": [
        "import json\n",
        "import random\n",
        "import locale; locale.getpreferredencoding = lambda: \"UTF-8\"\n",
        "!wget https://raw.githubusercontent.com/kojima-takeshi188/zero_shot_cot/2824685e25809779dbd36900a69825068e9f51ef/dataset/AQuA/test.json -O aqua.json\n",
        "data = list(map(json.loads, open(\"aqua.json\")))"
      ],
      "metadata": {
        "colab": {
          "base_uri": "https://localhost:8080/"
        },
        "id": "N2AmfelTn5en",
        "outputId": "d744495d-0eeb-415a-95a5-3132391b0428"
      },
      "execution_count": 4,
      "outputs": [
        {
          "output_type": "stream",
          "name": "stdout",
          "text": [
            "--2023-12-04 00:38:13--  https://raw.githubusercontent.com/kojima-takeshi188/zero_shot_cot/2824685e25809779dbd36900a69825068e9f51ef/dataset/AQuA/test.json\n",
            "Resolving raw.githubusercontent.com (raw.githubusercontent.com)... 185.199.111.133, 185.199.110.133, 185.199.108.133, ...\n",
            "Connecting to raw.githubusercontent.com (raw.githubusercontent.com)|185.199.111.133|:443... connected.\n",
            "HTTP request sent, awaiting response... 200 OK\n",
            "Length: 130192 (127K) [text/plain]\n",
            "Saving to: ‘aqua.json’\n",
            "\n",
            "aqua.json           100%[===================>] 127.14K  --.-KB/s    in 0.004s  \n",
            "\n",
            "2023-12-04 00:38:14 (28.4 MB/s) - ‘aqua.json’ saved [130192/130192]\n",
            "\n"
          ]
        }
      ]
    },
    {
      "cell_type": "code",
      "source": [
        "print(\"Example:\")\n",
        "data[150]"
      ],
      "metadata": {
        "colab": {
          "base_uri": "https://localhost:8080/"
        },
        "id": "IATXmPfYw8s6",
        "outputId": "471be3cc-05f6-47af-9420-da6862526c90"
      },
      "execution_count": 10,
      "outputs": [
        {
          "output_type": "stream",
          "name": "stdout",
          "text": [
            "Example:\n"
          ]
        },
        {
          "output_type": "execute_result",
          "data": {
            "text/plain": [
              "{'question': 'Janice bikes at 10 miles per hour, while Jennie bikes at 20. How long until they have collectively biked 1 mile?',\n",
              " 'options': ['A)1 minute',\n",
              "  'B)2 minutes',\n",
              "  'C)3 minutes',\n",
              "  'D)4 minutes',\n",
              "  'E)5 minutes'],\n",
              " 'rationale': \"Janice's speed = 1/6 miles per minute\\nJennie's speed = 1/3 miles per minute\\nJanice + Jennie's speed= (1/6 + 1/3) = 1/2 miles per minute\\nBoth together will finish the mile in 2 minutes\\ncorrect option is B\",\n",
              " 'correct': 'B'}"
            ]
          },
          "metadata": {},
          "execution_count": 10
        }
      ]
    },
    {
      "cell_type": "markdown",
      "source": [
        "### Naive solution\n",
        "\n",
        "Here, we prompt the model to choose an answer to the example above (`data[150]`) out of the options given above. We're using a format that mimics grade school solution textbook.\n",
        "\n",
        "Please note that there are minor formatting changes in options: an extra space and an opening bracket. Those may or may not be important :)"
      ],
      "metadata": {
        "id": "6UcOYQPW8sVq"
      }
    },
    {
      "cell_type": "code",
      "source": [
        "EXAMPLE_0SHOT = \"\"\"\n",
        "Question: Janice bikes at 10 miles per hour, while Jennie bikes at 20. How long until they have collectively biked 1 mile?\n",
        "Answer Choices: (A) 1 minute (B) 2 minutes (C) 3 minutes (D) 4 minutes (E) 5 minutes\n",
        "Correct Answer:\n",
        "\"\"\".strip()"
      ],
      "metadata": {
        "id": "KtkkdiJl3-UI"
      },
      "execution_count": 11,
      "outputs": []
    },
    {
      "cell_type": "code",
      "source": [
        "# solving an equation directly\n",
        "batch = tokenizer(EXAMPLE_0SHOT, return_tensors='pt', return_token_type_ids=False).to(device)\n",
        "torch.manual_seed(1337)\n",
        "output_tokens = model.generate(**batch, max_new_tokens=100, do_sample=True, top_p=0.9)\n",
        "print(\"[Prompt:]\\n\" + EXAMPLE_0SHOT)\n",
        "print(\"=\" * 80)\n",
        "print(\"[Generated:]\", tokenizer.decode(output_tokens[0][batch['input_ids'].shape[1]:].cpu()))"
      ],
      "metadata": {
        "colab": {
          "base_uri": "https://localhost:8080/"
        },
        "id": "hyQ_8tJc6nyv",
        "outputId": "13958400-e98c-4ee1-c09c-dc067f37f4c3"
      },
      "execution_count": 12,
      "outputs": [
        {
          "output_type": "stream",
          "name": "stdout",
          "text": [
            "[Prompt:]\n",
            "Question: Janice bikes at 10 miles per hour, while Jennie bikes at 20. How long until they have collectively biked 1 mile?\n",
            "Answer Choices: (A) 1 minute (B) 2 minutes (C) 3 minutes (D) 4 minutes (E) 5 minutes\n",
            "Correct Answer:\n",
            "================================================================================\n",
            "[Generated:] (E) 5 minutes\n",
            "Explanation: Jennie bikes at 20 miles per hour for 2 minutes. She will have travelled 2 miles in this time. Janice also bikes for 2 minutes, but at a slower speed of 10 miles per hour. This means that she will travel 2 miles in 2 times 10 = 20 minutes.\n",
            "Janice and Jennie will have travelled 4 miles collectively,\n"
          ]
        }
      ]
    },
    {
      "cell_type": "markdown",
      "source": [
        "And here's how you can solve this with few-shot chain-of-thought prompting.\n",
        "\n",
        "You need to chang 3 things\n",
        "- use a new field called **Rationale**, that contains a step-by-step solution to the problem\n",
        "- add several few-shot examples of previously solved problems **with rationales**\n",
        "- change the final prompt so that the model has to generate rationale before answering"
      ],
      "metadata": {
        "id": "suSkiDk28I6C"
      }
    },
    {
      "cell_type": "code",
      "source": [
        "EXAMPLE_3SHOT_CHAIN_OF_THOUGHT = \"\"\"\n",
        "Question: The original retail price of an appliance was 60 percent more than its wholesale cost. If the appliance was actually sold for 20 percent less than the original retail price, then it was sold for what percent more than its wholesale cost?\n",
        "Answer Choices: (A) 20% (B) 28% (C) 36% (D) 40% (E) 42%\n",
        "Rationale: wholesale cost = 100;\\noriginal price = 100*1.6 = 160;\\nactual price = 160*0.8 = 128.\\nAnswer: B.\n",
        "Correct Answer: B\n",
        "\n",
        "\n",
        "Question: A grocer makes a 25% profit on the selling price for each bag of flour it sells. If he sells each bag for $100 and makes $3,000 in profit, how many bags did he sell?\n",
        "Answer Choices: (A) 12 (B) 16 (C) 24 (D) 30 (E) 40\n",
        "Rationale: Profit on one bag: 100*1.25= 125\\nNumber of bags sold = 3000/125 = 24\\nAnswer is C.\n",
        "Correct Answer: C\n",
        "\n",
        "\n",
        "Question: 20 marbles were pulled out of a bag of only white marbles, painted black, and then put back in. Then, another 20 marbles were pulled out, of which 1 was black, after which they were all returned to the bag. If the percentage of black marbles pulled out the second time represents their percentage in the bag, how many marbles in total Q does the bag currently hold?\n",
        "Answer Choices: (A) 40 (B) 200 (C) 380 (D) 400 (E) 3200\n",
        "Rationale: We know that there are 20 black marbles in the bag and this number represent 1/20 th of the number of all marbles in the bag, thus there are total Q of 20*20=400 marbles.\\nAnswer: D.\n",
        "Correct Answer: D\n",
        "\n",
        "\n",
        "Question: Janice bikes at 10 miles per hour, while Jennie bikes at 20. How long until they have collectively biked 1 mile?\n",
        "Answer Choices: (A) 1 minute (B) 2 minutes (C) 3 minutes (D) 4 minutes (E) 5 minutes\n",
        "Rationale:\n",
        "\"\"\".strip()"
      ],
      "metadata": {
        "id": "K0F1jYdRvoJW"
      },
      "execution_count": 5,
      "outputs": []
    },
    {
      "cell_type": "code",
      "source": [
        "batch = tokenizer(EXAMPLE_3SHOT_CHAIN_OF_THOUGHT, return_tensors='pt', return_token_type_ids=False).to(device)\n",
        "torch.manual_seed(1337)\n",
        "output_tokens = model.generate(**batch, max_new_tokens=100, do_sample=True, top_p=0.9)\n",
        "print(\"[Prompt:]\\n\" + EXAMPLE_3SHOT_CHAIN_OF_THOUGHT)\n",
        "print(\"=\" * 80)\n",
        "print(\"[Generated:]\", tokenizer.decode(output_tokens[0][batch['input_ids'].shape[1]:].cpu()))\n",
        "#### NOTE: scroll down for the final answer (below the ======= line)"
      ],
      "metadata": {
        "colab": {
          "base_uri": "https://localhost:8080/"
        },
        "id": "Tn8QoAYcRkHC",
        "outputId": "6b00352e-3db4-4cb9-ece1-2deb4392e3f1"
      },
      "execution_count": 14,
      "outputs": [
        {
          "output_type": "stream",
          "name": "stdout",
          "text": [
            "[Prompt:]\n",
            "Question: The original retail price of an appliance was 60 percent more than its wholesale cost. If the appliance was actually sold for 20 percent less than the original retail price, then it was sold for what percent more than its wholesale cost?\n",
            "Answer Choices: (A) 20% (B) 28% (C) 36% (D) 40% (E) 42%\n",
            "Rationale: wholesale cost = 100;\n",
            "original price = 100*1.6 = 160;\n",
            "actual price = 160*0.8 = 128.\n",
            "Answer: B.\n",
            "Correct Answer: B\n",
            "\n",
            "\n",
            "Question: A grocer makes a 25% profit on the selling price for each bag of flour it sells. If he sells each bag for $100 and makes $3,000 in profit, how many bags did he sell?\n",
            "Answer Choices: (A) 12 (B) 16 (C) 24 (D) 30 (E) 40\n",
            "Rationale: Profit on one bag: 100*1.25= 125\n",
            "Number of bags sold = 3000/125 = 24\n",
            "Answer is C.\n",
            "Correct Answer: C\n",
            "\n",
            "\n",
            "Question: 20 marbles were pulled out of a bag of only white marbles, painted black, and then put back in. Then, another 20 marbles were pulled out, of which 1 was black, after which they were all returned to the bag. If the percentage of black marbles pulled out the second time represents their percentage in the bag, how many marbles in total Q does the bag currently hold?\n",
            "Answer Choices: (A) 40 (B) 200 (C) 380 (D) 400 (E) 3200\n",
            "Rationale: We know that there are 20 black marbles in the bag and this number represent 1/20 th of the number of all marbles in the bag, thus there are total Q of 20*20=400 marbles.\n",
            "Answer: D.\n",
            "Correct Answer: D\n",
            "\n",
            "\n",
            "Question: Janice bikes at 10 miles per hour, while Jennie bikes at 20. How long until they have collectively biked 1 mile?\n",
            "Answer Choices: (A) 1 minute (B) 2 minutes (C) 3 minutes (D) 4 minutes (E) 5 minutes\n",
            "Rationale:\n",
            "================================================================================\n",
            "[Generated:] 10 + 20 = 30 miles per hour, thus the time required for them to bike 1 mile collectively is 1/30th of an hour, which is 1/30th of 60= 2 minutes\n",
            "Answer is B.\n",
            "Correct Answer: B\n",
            "\n",
            "Question: How many different times tables are there in the range of 10 times 10 and 20 times 20?\n",
            "Answer\n"
          ]
        }
      ]
    },
    {
      "cell_type": "markdown",
      "source": [
        "__Task 6 (1 pt)__ write a function that automatically creates chain-of-thought prompts. Follow the instructions from the function docstring."
      ],
      "metadata": {
        "id": "s4px3jv-99-m"
      }
    },
    {
      "cell_type": "code",
      "source": [
        "QUESTION_PREFIX = \"Question: \"\n",
        "OPTIONS_PREFIX = \"Answer Choices: \"\n",
        "CHAIN_OF_THOUGHT_PREFIX = \"Rationale: \"\n",
        "ANSWER_PREFIX = \"Correct Answer: \"\n",
        "FEWSHOT_SEPARATOR = \"\\n\\n\\n\"\n",
        "\n",
        "def make_prompt(*, main_question, fewshot_examples):\n",
        "  \"\"\"\n",
        "  Your goal is to produce the same prompt as the EXAMPLE_3SHOT_CHAIN_OF_THOUGHT automatically\n",
        "\n",
        "  For each few-shot question, make sure to follow the following rules:\n",
        "  1. Each question begins with QUESTION_PREFIX, after which you should print the question without leading/traiiling spaces (if any)\n",
        "  2. After the question, provide space-separated options. Each option should be put in double brackets, followed by option text, e.g. \"(A) 146%\"\n",
        "  3. Then, provide the answer as a single letter (A-E)\n",
        "  4. Finally, add trailing newlines from FEWSHOT_SEPARATOR\n",
        "\n",
        "  Your final prompt should contain all fewshot_examples (in order), separated with FEWSHOT_SEPARATOR, then follow with main_question.\n",
        "  The main_question should contain the question and options formatted the same way as in FEWSHOT_EXAMPLES.\n",
        "  After that, you should prompt the model to produce an explanation (rationale) for the answer.\n",
        "\n",
        "  Please make sure your prompt contains no leading/trailing newlines or spaces, same as in EXAMPLE_3SHOT_CHAIN_OF_THOUGHT\n",
        "  \"\"\"\n",
        "\n",
        "  prompt = ''\n",
        "  for f_s in fewshot_examples:\n",
        "    prompt += f\"{QUESTION_PREFIX}{f_s['question']}\\n\"\n",
        "    prompt += f\"{OPTIONS_PREFIX}({' ('.join(f_s['options']).replace(')', ') ')}\\n\"\n",
        "    prompt += f\"{CHAIN_OF_THOUGHT_PREFIX}{f_s['rationale']}\\n\"\n",
        "    prompt += f\"{ANSWER_PREFIX}{f_s['correct']}{FEWSHOT_SEPARATOR}\"\n",
        "\n",
        "  prompt += f\"{QUESTION_PREFIX}{main_question['question']}\\n\"\n",
        "  prompt += f\"{OPTIONS_PREFIX}({' ('.join(main_question['options']).replace(')', ') ')}\\n\"\n",
        "  prompt += f\"{CHAIN_OF_THOUGHT_PREFIX}\"\n",
        "\n",
        "  return prompt.strip()\n",
        "\n",
        "\n",
        "\n",
        "generated_fewshot_prompt = make_prompt(main_question=data[150], fewshot_examples=(data[30], data[20], data[5]))\n",
        "assert generated_fewshot_prompt == EXAMPLE_3SHOT_CHAIN_OF_THOUGHT, \"prompts don't match\"\n",
        "assert generated_fewshot_prompt != make_prompt(main_question=data[150], fewshot_examples=())\n",
        "assert generated_fewshot_prompt.endswith(make_prompt(main_question=data[150], fewshot_examples=()))\n",
        "\n",
        "print(\"Well done!\")\n",
        "\n",
        "# Hint: if two prompts do not match, you may find it usefull to use https://www.diffchecker.com or similar to find the difference"
      ],
      "metadata": {
        "id": "_ntyFPMt9fyt",
        "colab": {
          "base_uri": "https://localhost:8080/"
        },
        "outputId": "7bba6973-a91f-4d1c-b4a2-9ec3df4d1778"
      },
      "execution_count": 6,
      "outputs": [
        {
          "output_type": "stream",
          "name": "stdout",
          "text": [
            "Well done!\n"
          ]
        }
      ]
    },
    {
      "cell_type": "markdown",
      "source": [
        "__Task 7 (1 points):__ Evaluate your prompt.\n",
        "\n",
        "Please run the model on the entire dataset and measure it's accuracy.\n",
        "For each question, peak $n=5$ other questions at random to serve as few-shot examples. Make sure not to accidentally sample the main_question among few-shot examples. For scientific evaluation, it is also a good practice to split the data into two parts: one for eval, and another for few-shot examples. However, doing so is optional in this homework.\n",
        "\n",
        "The tricky part is when to stop generating: if you don't control for this, your model can accidentally generate a whole new question - and promptyly answer it :) To make sure you get the correct answer, stop generating tokens when the model is done explaining it's solution. To circumvent this, you need to __stop generating as soon as the model generates Final Answer: [A-E]__\n",
        "To do so, you can either generate manually (see low-level generation above) or use [transformers stopping criteria](https://discuss.huggingface.co/t/implimentation-of-stopping-criteria-list/20040/2), whichever you prefer.\n",
        "\n",
        "If you do everything right, the model should be much better than random. However, please __do not expect miracles__: this is far from the best models, and it will perform much worse than an average human."
      ],
      "metadata": {
        "id": "P7DzQ8hfOcFR"
      }
    },
    {
      "cell_type": "code",
      "source": [
        "NUM_SAMPLES = 0    # use this to count how many samples you evaluated\n",
        "NUM_RESPONDED = 0  # how many times did the model produce Correct Answer: (letter) in it's response. use as a sanity check.\n",
        "NUM_CORRECT = 0    # how many times did the model's chosen answer (letter) match the correct answer"
      ],
      "metadata": {
        "id": "oMvj9eCtQwnz"
      },
      "execution_count": 7,
      "outputs": []
    },
    {
      "cell_type": "code",
      "source": [
        "< A whole lot of your code here >\n",
        "\n",
        "# Optionally, consider inferencing multiple sentences in a batch for faster inference;\n",
        "# If you choose to batch outputs, make sure the results are the same as with batch=1 (using greedy inference)"
      ],
      "metadata": {
        "id": "Zh6gejr0JNuh",
        "colab": {
          "base_uri": "https://localhost:8080/",
          "height": 140
        },
        "outputId": "8f8412fe-2185-4629-dcc3-c5588499664b"
      },
      "execution_count": 17,
      "outputs": [
        {
          "output_type": "error",
          "ename": "SyntaxError",
          "evalue": "ignored",
          "traceback": [
            "\u001b[0;36m  File \u001b[0;32m\"<ipython-input-17-eb2937e0a831>\"\u001b[0;36m, line \u001b[0;32m1\u001b[0m\n\u001b[0;31m    < A whole lot of your code here >\u001b[0m\n\u001b[0m    ^\u001b[0m\n\u001b[0;31mSyntaxError\u001b[0m\u001b[0;31m:\u001b[0m invalid syntax\n"
          ]
        }
      ]
    },
    {
      "cell_type": "code",
      "source": [
        "import numpy as np\n",
        "from sklearn.model_selection import train_test_split\n",
        "from transformers import StoppingCriteriaList, StoppingCriteria\n",
        "from tqdm import tqdm\n",
        "\n",
        "train_few_shot, test_main_question = train_test_split(data, test_size=0.165, random_state=2023)\n",
        "\n",
        "# Возникали ошибки с cuda, поэтому возьмём вот это решение из предложенной ссылочки\n",
        "# https://discuss.huggingface.co/t/implimentation-of-stopping-criteria-list/20040/7\n",
        "class StoppingCriteriaSub(StoppingCriteria):\n",
        "\n",
        "    def __init__(self, stops = [], encounters=1):\n",
        "        super().__init__()\n",
        "        self.stops = [stop.to(\"cuda\") for stop in stops]\n",
        "\n",
        "    def __call__(self, input_ids: torch.LongTensor, scores: torch.FloatTensor):\n",
        "        for stop in self.stops:\n",
        "            if torch.all((stop == input_ids[0][-len(stop):])).item():\n",
        "                print('Generating stopped')\n",
        "                return True\n",
        "\n",
        "        return False\n",
        "\n",
        "\n",
        "stop_words = [\": A\", \": B\", \": C\", \": D\", \": E\"]\n",
        "stop_words_ids = [tokenizer(stop_word, return_tensors='pt')['input_ids'].squeeze() for stop_word in stop_words]\n",
        "stopping_criteria = StoppingCriteriaList([StoppingCriteriaSub(stops=stop_words_ids)])"
      ],
      "metadata": {
        "id": "bFoUUIVrAnrK"
      },
      "execution_count": 8,
      "outputs": []
    },
    {
      "cell_type": "code",
      "source": [
        "NUM_SAMPLES = 0    # use this to count how many samples you evaluated\n",
        "NUM_RESPONDED = 0  # how many times did the model produce Correct Answer: (letter) in it's response. use as a sanity check.\n",
        "NUM_CORRECT = 0    # how many times did the model's chosen answer (letter) match the correct answer\n",
        "\n",
        "correct_answers, generated_answers, generated = [], [], []\n",
        "with tqdm(total=len(test_main_question)) as pbar:\n",
        "  for i in range(len(test_main_question)):\n",
        "      correct_answer = test_main_question[i]['correct']\n",
        "      correct_answers.append(correct_answer)\n",
        "\n",
        "      few_shots = np.random.choice(train_few_shot, 5)\n",
        "      prompt = make_prompt(main_question=test_main_question[i],\n",
        "                          fewshot_examples=few_shots)\n",
        "\n",
        "      batch = tokenizer(prompt, return_tensors='pt', return_token_type_ids=False).to(device)\n",
        "      torch.manual_seed(2023)\n",
        "      output_tokens = model.generate(**batch,\n",
        "                                    max_new_tokens=1024, do_sample=True,\n",
        "                                    stopping_criteria=stopping_criteria)\n",
        "      generated_answer = tokenizer.decode(output_tokens[0][batch['input_ids'].shape[1]:].cpu())\n",
        "      generated.append(generated_answer)\n",
        "      generated_answers.append(generated_answer[-1])\n",
        "\n",
        "      if generated_answer[-1] == test_main_question[i]['correct']:\n",
        "          NUM_CORRECT += 1\n",
        "      if generated_answer[-17: -1] == \"Correct Answer: \":\n",
        "          NUM_RESPONDED += 1\n",
        "      NUM_SAMPLES += 1\n",
        "      pbar.update(1)\n"
      ],
      "metadata": {
        "colab": {
          "base_uri": "https://localhost:8080/"
        },
        "id": "UzaWjik8BLRc",
        "outputId": "7a2739e6-a340-4c05-a90c-f4a484aff7e9"
      },
      "execution_count": null,
      "outputs": [
        {
          "output_type": "stream",
          "name": "stderr",
          "text": [
            "\r  0%|          | 0/42 [00:00<?, ?it/s]/usr/local/lib/python3.10/dist-packages/transformers/generation/utils.py:1421: UserWarning: You have modified the pretrained model configuration to control generation. This is a deprecated strategy to control generation and will be removed soon, in a future version. Please use and modify the model generation configuration (see https://huggingface.co/docs/transformers/generation_strategies#default-text-generation-configuration )\n",
            "  warnings.warn(\n",
            "  2%|▏         | 1/42 [01:21<55:39, 81.46s/it]"
          ]
        }
      ]
    },
    {
      "cell_type": "code",
      "source": [
        "print(\"Responded : %.4f\" % NUM_RESPONDED / NUM_SAMPLES)\n",
        "print(\"Accuracy (when responded): %.4f\" % NUM_CORRECT / NUM_RESPONDED)\n",
        "print(\"Accuracy (overall): %.4f\" % NUM_CORRECT / NUM_SAMPLES)\n",
        "\n",
        "if NUM_RESPONDED / NUM_SAMPLES < 0.9:\n",
        "  print(\"Something is wrong with the evaluation technique (for 5-shot CoT): the model refuses to answer too many questions.\")\n",
        "  print(\"Make sure you generate enough tokens that the model can produce a correct answer.\")\n",
        "  print(\"When in doubt, take a look at the full model output. You can often spot errors there.\")"
      ],
      "metadata": {
        "id": "gxrCJvxIJSjA"
      },
      "execution_count": null,
      "outputs": []
    },
    {
      "cell_type": "markdown",
      "source": [
        "__Task 8 (2 points)__ Experiment time!\n",
        "<img width=200px src=https://www.evolvefish.com/cdn-cgi/image/quality%3D85/assets/images/Apparel/TShirtsWomenCont/Main/EF-APP-CWT-00068(Main).jpg>\n",
        "\n",
        "Your final quest is to use the testbench you've just written to answer one of the following questions:\n",
        "\n",
        "### Option 1: How many shots do you need?\n",
        "\n",
        "How does model accuracy change with the number of fewshot examples?\n",
        "\n",
        "a. check if the model accuracy changes as you increase/decrease the number of \"shots\"\n",
        "\n",
        "b. try to prompt-engineer a model into giving the best rationale __without__ any few-shot examples, i.e. zero-shot\n",
        "\n",
        "For zero-shot mode, feel free to use wild prompt-engineering or modify the inference procedure.\n",
        "\n",
        "### Option 2: Is this prompting tecnique reliable?\n",
        "\n",
        "_Inspired by ongoing research by Anton Voronov, Lena Volf and Max Ryabinin._\n",
        "\n",
        "For this option, you need to check if the model behavior (and hence, accuracy) is robust to perturbations in the input prompt.\n",
        "\n",
        "a. Does the accuracy degrade if you provide wrong answers to few-shot examples? (make sure to modify rationale if it contains answer in the end)\n",
        "\n",
        "b. Does it degrade if you replace question/answer prompts with \"Q\" and \"A\"? What if you write both on the same line? Change few-shot separators?\n",
        "\n",
        "\n",
        "\n",
        "### Option 3: Inference Matters\n",
        "\n",
        "There are many ways to inference the model, not all of them equal.\n",
        "\n",
        "a. check whether greedy inference or beam search affects model generation quality\n",
        "\n",
        "b. implement and evaluate sampling with voting (see explanation below).\n",
        "\n",
        "\n",
        "The voting technique(b) should work as follows: first, you generate k (e.g. 50) \"attempts\" at an answer using nucleus sampling (or a similar technique).\n",
        "Then, you count how many of those attempts chose a particular option (A, B, etc) as the final answer. The option that was chosen most frequently has the most \"votes\", and therefore \"wins\".\n",
        "\n",
        "To speed up voting, you may want to generate these attempts in parallel as a batch. That should be very easy to implement: just run `model.generate` on a list with multiple copies of the same prompt.\n",
        "\n",
        "\n",
        "\n",
        "\n",
        "================================================\n",
        "\n",
        "__Common rules:__ You will need to test both hypothes (A and B) in the chosen option. You may choose to replace one of them with your own idea - but please ask course staff in advance (via telegram) if you want full points.\n",
        "\n",
        "Feel free to organize your code and report as you see fit - but please make sure it's readable and the code runs top-to-bottom :)\n",
        "Write a short informal report about what you tried and, in doing so, what did you found. Minimum of 2 paragraphs; more is ok; creative visualizations are welcome.\n",
        "\n",
        "You are allowed (but not required) to prompt the model into generating a report for you --- or helping you write one. However, if you do so, make sure that it is still human-readable :)\n",
        "\n"
      ],
      "metadata": {
        "id": "UZLK2rLiKxbM"
      }
    },
    {
      "cell_type": "code",
      "source": [
        "# feel free to organize your solution as you see fit"
      ],
      "metadata": {
        "id": "_r6UVDl4NEua"
      },
      "execution_count": null,
      "outputs": []
    },
    {
      "cell_type": "markdown",
      "source": [
        "# Option 1"
      ],
      "metadata": {
        "id": "NMe5H53rHh5K"
      }
    },
    {
      "cell_type": "markdown",
      "source": [
        "Намого более простой в реализации с точки зрения нового кода кажется опция 1, её и выберу"
      ],
      "metadata": {
        "id": "boGe2KpvH8iy"
      }
    },
    {
      "cell_type": "markdown",
      "source": [
        "## A"
      ],
      "metadata": {
        "id": "WmDrrNZ9HkZR"
      }
    },
    {
      "cell_type": "code",
      "source": [
        "sizes = [1, 10]\n",
        "results = {1:{'NUM_CORRECT': 0,\n",
        "              'NUM_RESPONDED': 0,\n",
        "              'NUM_SAMPLES': 0},\n",
        "           10:{'NUM_CORRECT': 0,\n",
        "              'NUM_RESPONDED': 0,\n",
        "              'NUM_SAMPLES': 0}}\n",
        "\n",
        "# провожу эксперимент на усечённом датасете, поскольку хочу спать\n",
        "# отмена, понижение числа токенов ускоряет работу\n",
        "\n",
        "with tqdm(total=len(test_main_question)) as pbar:\n",
        "  for size in sizes:\n",
        "    for i in range(len(test_main_question)):\n",
        "        correct_answer = test_main_question[i]['correct']\n",
        "\n",
        "        few_shots = np.random.choice(train_few_shot, size)\n",
        "        prompt = make_prompt(main_question=test_main_question[i],\n",
        "                            fewshot_examples=few_shots)\n",
        "\n",
        "        batch = tokenizer(prompt, return_tensors='pt', return_token_type_ids=False).to(device)\n",
        "        torch.manual_seed(2023)\n",
        "        output_tokens = model.generate(**batch,\n",
        "                                      max_new_tokens=1024, do_sample=True,\n",
        "                                      num_beams=4, stopping_criteria=stopping_criteria)\n",
        "        generated_answer = tokenizer.decode(output_tokens[0][batch['input_ids'].shape[1]:].cpu())\n",
        "\n",
        "        if generated_answer[-1] == correct_answer:\n",
        "            results[size]['NUM_CORRECT'] += 1\n",
        "        if generated_answer[-17: -1] == \"Correct Answer: \":\n",
        "            results[size]['NUM_RESPONDED'] += 1\n",
        "        results[size]['NUM_SAMPLES'] += 1\n",
        "        pbar.update(1)"
      ],
      "metadata": {
        "id": "CYz37Y1KHnWp"
      },
      "execution_count": null,
      "outputs": []
    },
    {
      "cell_type": "markdown",
      "source": [
        "## B"
      ],
      "metadata": {
        "id": "o-S7e3KxHldW"
      }
    },
    {
      "cell_type": "code",
      "source": [
        "QUESTION_PREFIX = \"Question: \"\n",
        "OPTIONS_PREFIX = \"Answer Choices: \"\n",
        "CHAIN_OF_THOUGHT_PREFIX = \"Rationale: \"\n",
        "ANSWER_PREFIX = \"Correct Answer: \"\n",
        "FEWSHOT_SEPARATOR = \"\\n\\n\\n\"\n",
        "\n",
        "def make_zero_shot_prompt(*, main_question):\n",
        "\n",
        "  prompt = \"Answer the question using Math. You are to choose the correct answer in format 'Correct Answer: *letter choice*'\"\n",
        "  prompt += f\"{QUESTION_PREFIX}{main_question['question']}\\n\"\n",
        "  prompt += f\"{OPTIONS_PREFIX}({' ('.join(main_question['options']).replace(')', ') ')}\\n\"\n",
        "  prompt += f\"{CHAIN_OF_THOUGHT_PREFIX}\"\n",
        "\n",
        "  return prompt.strip()"
      ],
      "metadata": {
        "id": "5wOw69hkLIIj"
      },
      "execution_count": null,
      "outputs": []
    },
    {
      "cell_type": "code",
      "source": [
        "make_zero_shot_prompt(main_question=data[150])"
      ],
      "metadata": {
        "id": "oFmRoDLXMRHd"
      },
      "execution_count": null,
      "outputs": []
    },
    {
      "cell_type": "code",
      "source": [
        "results[0] = {'NUM_CORRECT': 0,\n",
        "              'NUM_RESPONDED': 0,\n",
        "              'NUM_SAMPLES': 0}\n",
        "\n",
        "# провожу эксперимент на усечённом датасете, поскольку хочу спать\n",
        "# отмена, понижение числа токенов ускоряет работу\n",
        "\n",
        "with tqdm(total=len(test_main_question)) as pbar:\n",
        "  for i in range(len(test_main_question)):\n",
        "      correct_answer = test_main_question[i]['correct']\n",
        "\n",
        "      prompt = make_zero_shot_prompt(main_question=test_main_question[i])\n",
        "      batch = tokenizer(prompt, return_tensors='pt', return_token_type_ids=False).to(device)\n",
        "      torch.manual_seed(2023)\n",
        "      output_tokens = model.generate(**batch,\n",
        "                                    max_new_tokens=1024, do_sample=True,\n",
        "                                    num_beams=4, stopping_criteria=stopping_criteria)\n",
        "      generated_answer = tokenizer.decode(output_tokens[0][batch['input_ids'].shape[1]:].cpu())\n",
        "\n",
        "\n",
        "      if generated_answer[-1] == correct_answer:\n",
        "          results[size]['NUM_CORRECT'] += 1\n",
        "      if generated_answer[-17: -1] == \"Correct Answer: \":\n",
        "          results[size]['NUM_RESPONDED'] += 1\n",
        "      results[size]['NUM_SAMPLES'] += 1\n",
        "      pbar.update(1)"
      ],
      "metadata": {
        "id": "KEc4y6D4M15C"
      },
      "execution_count": null,
      "outputs": []
    },
    {
      "cell_type": "markdown",
      "source": [
        "## Выводы"
      ],
      "metadata": {
        "id": "neJS-hwqHmY7"
      }
    },
    {
      "cell_type": "code",
      "source": [
        "results[5] = {'NUM_CORRECT': NUM_CORRECT,\n",
        "              'NUM_RESPONDED': NUM_RESPONDED,\n",
        "              'NUM_SAMPLES': NUM_SAMPLES}"
      ],
      "metadata": {
        "id": "riQdTtCkNW-G"
      },
      "execution_count": null,
      "outputs": []
    }
  ],
  "metadata": {
    "colab": {
      "gpuType": "T4",
      "provenance": []
    },
    "kernelspec": {
      "display_name": "Python 3",
      "name": "python3"
    },
    "language_info": {
      "codemirror_mode": {
        "name": "ipython",
        "version": 3
      },
      "file_extension": ".py",
      "mimetype": "text/x-python",
      "name": "python",
      "nbconvert_exporter": "python",
      "pygments_lexer": "ipython3",
      "version": "3.9.15"
    },
    "accelerator": "GPU"
  },
  "nbformat": 4,
  "nbformat_minor": 0
}