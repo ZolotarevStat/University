{
 "cells": [
  {
   "cell_type": "markdown",
   "id": "ad178c2b",
   "metadata": {},
   "source": [
    "# Zolotarev Anton, BST183. Final Test"
   ]
  },
  {
   "attachments": {},
   "cell_type": "markdown",
   "id": "9b952d66",
   "metadata": {},
   "source": [
    "File - Telco_segm2.sav\n",
    "\n",
    "Clustering method - Hierarchical, num of clusters = 7\n",
    "\n",
    "Classification method - Logistic regression\n",
    "\n",
    "Variables - CALL_SMS_OUT_CNT_R (log10), LOG_CALLS_CNT, LOG_SMS_CNT, LOG_DATA_TRAFFIC_MB"
   ]
  },
  {
   "cell_type": "markdown",
   "id": "82a40810",
   "metadata": {},
   "source": [
    "# Data transformation\n",
    "\n",
    "* Transform one variable from your set of variables by use of Log10 function.\n",
    "* Add small positive value to the original variable (0.01) to avoid missing values in the transformed variable.\n",
    "* Compare distributions of the original and transformed variables."
   ]
  },
  {
   "cell_type": "markdown",
   "id": "d366f699",
   "metadata": {},
   "source": [
    "Let's open data file, and then add small positive value to 'CALL_SMS_OUT_CNT_R' before logarithmization. "
   ]
  },
  {
   "cell_type": "code",
   "execution_count": 5,
   "id": "82fe3f09",
   "metadata": {
    "ExecuteTime": {
     "end_time": "2021-10-23T06:49:09.120956Z",
     "start_time": "2021-10-23T06:49:09.069104Z"
    }
   },
   "outputs": [
    {
     "data": {
      "text/html": [
       "<div>\n",
       "<style scoped>\n",
       "    .dataframe tbody tr th:only-of-type {\n",
       "        vertical-align: middle;\n",
       "    }\n",
       "\n",
       "    .dataframe tbody tr th {\n",
       "        vertical-align: top;\n",
       "    }\n",
       "\n",
       "    .dataframe thead th {\n",
       "        text-align: right;\n",
       "    }\n",
       "</style>\n",
       "<table border=\"1\" class=\"dataframe\">\n",
       "  <thead>\n",
       "    <tr style=\"text-align: right;\">\n",
       "      <th></th>\n",
       "      <th>CALL_SMS_OUT_CNT_R</th>\n",
       "      <th>LOG_CALLS_CNT</th>\n",
       "      <th>LOG_SMS_CNT</th>\n",
       "      <th>LOG_DATA_TRAFFIC_MB</th>\n",
       "      <th>LOG_CALL_SMS_OUT_CNT_R</th>\n",
       "    </tr>\n",
       "  </thead>\n",
       "  <tbody>\n",
       "    <tr>\n",
       "      <th>0</th>\n",
       "      <td>21.000000</td>\n",
       "      <td>2.503791</td>\n",
       "      <td>2.454845</td>\n",
       "      <td>2.371306</td>\n",
       "      <td>1.322240</td>\n",
       "    </tr>\n",
       "    <tr>\n",
       "      <th>1</th>\n",
       "      <td>0.000000</td>\n",
       "      <td>2.374748</td>\n",
       "      <td>2.371068</td>\n",
       "      <td>2.371068</td>\n",
       "      <td>-3.000000</td>\n",
       "    </tr>\n",
       "    <tr>\n",
       "      <th>2</th>\n",
       "      <td>0.000000</td>\n",
       "      <td>2.913284</td>\n",
       "      <td>2.460898</td>\n",
       "      <td>2.371068</td>\n",
       "      <td>-3.000000</td>\n",
       "    </tr>\n",
       "    <tr>\n",
       "      <th>3</th>\n",
       "      <td>5.014493</td>\n",
       "      <td>3.461948</td>\n",
       "      <td>3.542203</td>\n",
       "      <td>3.769534</td>\n",
       "      <td>0.700314</td>\n",
       "    </tr>\n",
       "    <tr>\n",
       "      <th>4</th>\n",
       "      <td>32.277778</td>\n",
       "      <td>3.326541</td>\n",
       "      <td>2.959518</td>\n",
       "      <td>4.832665</td>\n",
       "      <td>1.508917</td>\n",
       "    </tr>\n",
       "    <tr>\n",
       "      <th>...</th>\n",
       "      <td>...</td>\n",
       "      <td>...</td>\n",
       "      <td>...</td>\n",
       "      <td>...</td>\n",
       "      <td>...</td>\n",
       "    </tr>\n",
       "    <tr>\n",
       "      <th>1467</th>\n",
       "      <td>0.000000</td>\n",
       "      <td>2.469822</td>\n",
       "      <td>2.646404</td>\n",
       "      <td>2.371068</td>\n",
       "      <td>-3.000000</td>\n",
       "    </tr>\n",
       "    <tr>\n",
       "      <th>1468</th>\n",
       "      <td>60.000000</td>\n",
       "      <td>3.175222</td>\n",
       "      <td>2.980003</td>\n",
       "      <td>4.311307</td>\n",
       "      <td>1.778158</td>\n",
       "    </tr>\n",
       "    <tr>\n",
       "      <th>1469</th>\n",
       "      <td>13.657895</td>\n",
       "      <td>3.487845</td>\n",
       "      <td>2.968016</td>\n",
       "      <td>4.752391</td>\n",
       "      <td>1.135416</td>\n",
       "    </tr>\n",
       "    <tr>\n",
       "      <th>1470</th>\n",
       "      <td>30.250000</td>\n",
       "      <td>2.885926</td>\n",
       "      <td>2.611723</td>\n",
       "      <td>4.752026</td>\n",
       "      <td>1.480740</td>\n",
       "    </tr>\n",
       "    <tr>\n",
       "      <th>1471</th>\n",
       "      <td>22.000000</td>\n",
       "      <td>2.733197</td>\n",
       "      <td>2.783189</td>\n",
       "      <td>2.372152</td>\n",
       "      <td>1.342442</td>\n",
       "    </tr>\n",
       "  </tbody>\n",
       "</table>\n",
       "<p>1472 rows × 5 columns</p>\n",
       "</div>"
      ],
      "text/plain": [
       "      CALL_SMS_OUT_CNT_R  LOG_CALLS_CNT  LOG_SMS_CNT  LOG_DATA_TRAFFIC_MB  \\\n",
       "0              21.000000       2.503791     2.454845             2.371306   \n",
       "1               0.000000       2.374748     2.371068             2.371068   \n",
       "2               0.000000       2.913284     2.460898             2.371068   \n",
       "3               5.014493       3.461948     3.542203             3.769534   \n",
       "4              32.277778       3.326541     2.959518             4.832665   \n",
       "...                  ...            ...          ...                  ...   \n",
       "1467            0.000000       2.469822     2.646404             2.371068   \n",
       "1468           60.000000       3.175222     2.980003             4.311307   \n",
       "1469           13.657895       3.487845     2.968016             4.752391   \n",
       "1470           30.250000       2.885926     2.611723             4.752026   \n",
       "1471           22.000000       2.733197     2.783189             2.372152   \n",
       "\n",
       "      LOG_CALL_SMS_OUT_CNT_R  \n",
       "0                   1.322240  \n",
       "1                  -3.000000  \n",
       "2                  -3.000000  \n",
       "3                   0.700314  \n",
       "4                   1.508917  \n",
       "...                      ...  \n",
       "1467               -3.000000  \n",
       "1468                1.778158  \n",
       "1469                1.135416  \n",
       "1470                1.480740  \n",
       "1471                1.342442  \n",
       "\n",
       "[1472 rows x 5 columns]"
      ]
     },
     "execution_count": 5,
     "metadata": {},
     "output_type": "execute_result"
    }
   ],
   "source": [
    "import pandas as pd\n",
    "import numpy as np\n",
    "\n",
    "data = pd.read_spss(r'C:\\Users\\zolotarev\\Downloads\\Telco_Segm_2.sav')\n",
    "data = data[['CALL_SMS_OUT_CNT_R', 'LOG_CALLS_CNT', 'LOG_SMS_CNT', 'LOG_DATA_TRAFFIC_MB']]\n",
    "data['LOG_CALL_SMS_OUT_CNT_R'] = np.log10(data['CALL_SMS_OUT_CNT_R']+0.001)\n",
    "data"
   ]
  },
  {
   "cell_type": "markdown",
   "id": "1c716498",
   "metadata": {},
   "source": [
    "Let's compare kernel density distribution of variable 'CALL_SMS_OUT_CNT_R' before and after logarithmization."
   ]
  },
  {
   "cell_type": "code",
   "execution_count": 16,
   "id": "8f917923",
   "metadata": {
    "ExecuteTime": {
     "end_time": "2021-10-23T06:54:38.890073Z",
     "start_time": "2021-10-23T06:54:37.928402Z"
    }
   },
   "outputs": [
    {
     "data": {
      "text/plain": [
       "<seaborn.axisgrid.FacetGrid at 0x1a0ca46e460>"
      ]
     },
     "execution_count": 16,
     "metadata": {},
     "output_type": "execute_result"
    },
    {
     "data": {
      "image/png": "[encoded data removed]",
      "text/plain": [
       "<Figure size 360x360 with 1 Axes>"
      ]
     },
     "metadata": {
      "needs_background": "light"
     },
     "output_type": "display_data"
    },
    {
     "data": {
      "image/png": "[encoded data removed]",
      "text/plain": [
       "<Figure size 360x360 with 1 Axes>"
      ]
     },
     "metadata": {
      "needs_background": "light"
     },
     "output_type": "display_data"
    }
   ],
   "source": [
    "import seaborn as sns\n",
    "import matplotlib.pyplot as plt\n",
    "sns.displot(data['CALL_SMS_OUT_CNT_R'], kde=True, bins=10)\n",
    "sns.displot(data['LOG_CALL_SMS_OUT_CNT_R'], kde=True, bins=10)"
   ]
  },
  {
   "cell_type": "markdown",
   "id": "c7d37bb5",
   "metadata": {},
   "source": [
    "# Cluster analysis\n",
    "\n",
    "* Perform cluster analysis.\n",
    "* Analyze the results: cluster sizes, measure of quality of cluster solution, compare cluster profiles.\n",
    "* Use clustering variables plus additional variable CHARGE in cluster profiling."
   ]
  },
  {
   "cell_type": "markdown",
   "id": "3c6aeaec",
   "metadata": {},
   "source": [
    "Let's build sklearn model to evaluate hierarchical clusterization"
   ]
  },
  {
   "cell_type": "code",
   "execution_count": 30,
   "id": "a4d1916c",
   "metadata": {
    "ExecuteTime": {
     "end_time": "2021-10-23T07:21:56.483228Z",
     "start_time": "2021-10-23T07:21:56.338531Z"
    }
   },
   "outputs": [
    {
     "data": {
      "text/plain": [
       "(array([0, 1, 2, 3, 4, 5, 6], dtype=int64),\n",
       " array([1143,  186,   21,    5,   40,    8,   69], dtype=int64))"
      ]
     },
     "execution_count": 30,
     "metadata": {},
     "output_type": "execute_result"
    }
   ],
   "source": [
    " from sklearn.cluster import AgglomerativeClustering\n",
    "clustering = AgglomerativeClustering(n_clusters=7, linkage='ward').fit(data)\n",
    "labels = clustering.labels_\n",
    "np.unique(labels, return_counts=True)"
   ]
  },
  {
   "cell_type": "markdown",
   "id": "c0313840",
   "metadata": {},
   "source": [
    "We can observe that cluster size seems to build imbalance classification task."
   ]
  },
  {
   "cell_type": "markdown",
   "id": "dd5b659f",
   "metadata": {},
   "source": [
    "Let's perform Hierarchical clusterization with 7 clusters by using linkage method from scipy to derive distance matrix:"
   ]
  },
  {
   "cell_type": "code",
   "execution_count": 20,
   "id": "5eb65f0b",
   "metadata": {
    "ExecuteTime": {
     "end_time": "2021-10-23T07:07:18.424406Z",
     "start_time": "2021-10-23T07:07:17.933414Z"
    }
   },
   "outputs": [
    {
     "data": {
      "image/png": "[encoded data removed]",
      "text/plain": [
       "<Figure size 432x288 with 1 Axes>"
      ]
     },
     "metadata": {
      "needs_background": "light"
     },
     "output_type": "display_data"
    }
   ],
   "source": [
    "import scipy.cluster.hierarchy as sch\n",
    "#Lets create a dendrogram variable linkage is actually the algorithm \n",
    "#itself of hierarchical clustering and then in linkage we have to \n",
    "#specify on which data we apply and engage. This is X dataset\n",
    "dendrogram = sch.dendrogram(sch.linkage(data, method  = \"ward\"), p=7, truncate_mode='lastp')\n",
    "plt.title('Dendrogram')\n",
    "plt.xlabel('# of observations')\n",
    "plt.ylabel('Euclidean distances')\n",
    "plt.show()"
   ]
  },
  {
   "cell_type": "markdown",
   "id": "609e0e09",
   "metadata": {
    "ExecuteTime": {
     "end_time": "2021-10-23T07:18:47.850911Z",
     "start_time": "2021-10-23T07:18:47.835044Z"
    }
   },
   "source": [
    "We can profile our clusterization by embedding data to 2 components:"
   ]
  },
  {
   "cell_type": "code",
   "execution_count": 35,
   "id": "c5c71d99",
   "metadata": {
    "ExecuteTime": {
     "end_time": "2021-10-23T07:33:04.773526Z",
     "start_time": "2021-10-23T07:33:03.801821Z"
    }
   },
   "outputs": [
    {
     "data": {
      "image/png": "[encoded data removed]",
      "text/plain": [
       "<Figure size 1440x864 with 1 Axes>"
      ]
     },
     "metadata": {
      "needs_background": "light"
     },
     "output_type": "display_data"
    }
   ],
   "source": [
    "from sklearn import manifold\n",
    "\n",
    "X_embedded = manifold.SpectralEmbedding(n_components=2).fit_transform(data)\n",
    "\n",
    "plt.figure(figsize=(20, 12))\n",
    "plt.scatter(X_embedded[:,0], X_embedded[:,1], c = labels)\n",
    "plt.title(\"Ward linkage\")\n",
    "plt.show()"
   ]
  },
  {
   "cell_type": "markdown",
   "id": "69e95db0",
   "metadata": {},
   "source": [
    "We can use elbow method to estimate quality of clusterization"
   ]
  },
  {
   "cell_type": "code",
   "execution_count": 65,
   "id": "bd1d1425",
   "metadata": {
    "ExecuteTime": {
     "end_time": "2021-10-23T08:04:45.186018Z",
     "start_time": "2021-10-23T08:04:44.908883Z"
    }
   },
   "outputs": [
    {
     "ename": "AttributeError",
     "evalue": "'AgglomerativeClustering' object has no attribute 'cluster_centers_'",
     "output_type": "error",
     "traceback": [
      "\u001b[1;31m---------------------------------------------------------------------------\u001b[0m",
      "\u001b[1;31mAttributeError\u001b[0m                            Traceback (most recent call last)",
      "\u001b[1;32m<ipython-input-65-94ea11f6f8a7>\u001b[0m in \u001b[0;36m<module>\u001b[1;34m\u001b[0m\n\u001b[0;32m     11\u001b[0m     \u001b[0mmodel\u001b[0m \u001b[1;33m=\u001b[0m \u001b[0mAgglomerativeClustering\u001b[0m\u001b[1;33m(\u001b[0m\u001b[0mn_clusters\u001b[0m\u001b[1;33m=\u001b[0m\u001b[0mk\u001b[0m\u001b[1;33m)\u001b[0m\u001b[1;33m.\u001b[0m\u001b[0mfit\u001b[0m\u001b[1;33m(\u001b[0m\u001b[0mdata\u001b[0m\u001b[1;33m)\u001b[0m\u001b[1;33m\u001b[0m\u001b[1;33m\u001b[0m\u001b[0m\n\u001b[0;32m     12\u001b[0m     \u001b[0mmodel\u001b[0m\u001b[1;33m.\u001b[0m\u001b[0mfit\u001b[0m\u001b[1;33m(\u001b[0m\u001b[0mdata\u001b[0m\u001b[1;33m)\u001b[0m\u001b[1;33m\u001b[0m\u001b[1;33m\u001b[0m\u001b[0m\n\u001b[1;32m---> 13\u001b[1;33m     distortions.append(sum(np.min(cdist(data, model.cluster_centers_,\n\u001b[0m\u001b[0;32m     14\u001b[0m                                         'euclidean'), axis=1)) / X.shape[0])\n\u001b[0;32m     15\u001b[0m     \u001b[0minertias\u001b[0m\u001b[1;33m.\u001b[0m\u001b[0mappend\u001b[0m\u001b[1;33m(\u001b[0m\u001b[0mmodel\u001b[0m\u001b[1;33m.\u001b[0m\u001b[0minertia_\u001b[0m\u001b[1;33m)\u001b[0m\u001b[1;33m\u001b[0m\u001b[1;33m\u001b[0m\u001b[0m\n",
      "\u001b[1;31mAttributeError\u001b[0m: 'AgglomerativeClustering' object has no attribute 'cluster_centers_'"
     ]
    }
   ],
   "source": [
    "from sklearn import metrics\n",
    "from scipy.spatial.distance import cdist\n",
    "distortions = []\n",
    "inertias = []\n",
    "mapping1 = {}\n",
    "mapping2 = {}\n",
    "K = range(1, 10)\n",
    " \n",
    "for k in K:\n",
    "    # Building and fitting the model\n",
    "    model = AgglomerativeClustering(n_clusters=k).fit(data)\n",
    "    model.fit(data)\n",
    "    distortions.append(sum(np.min(cdist(data, model.cluster_centers_,\n",
    "                                        'euclidean'), axis=1)) / X.shape[0])\n",
    "    inertias.append(model.inertia_)\n",
    "    mapping1[k] = sum(np.min(cdist(coord, model.cluster_centers_,\n",
    "                                   'euclidean'), axis=1)) / X.shape[0]\n",
    "    mapping2[k] = model.inertia_\n",
    "    \n",
    "for key, val in mapping1.items():\n",
    "    print(f'{key} : {val}')\n",
    "\n",
    "import matplotlib.pyplot as plt\n",
    "plt.plot(K, distortions, 'bx-')\n",
    "plt.xlabel('Количество кластеров')\n",
    "plt.ylabel('Среднее расстояние до центра кластера')\n",
    "plt.title('Метод локтя для определения оптимального количества кластеров')\n",
    "plt.show()"
   ]
  },
  {
   "cell_type": "code",
   "execution_count": 39,
   "id": "a2f1ef0b",
   "metadata": {
    "ExecuteTime": {
     "end_time": "2021-10-23T07:43:30.373203Z",
     "start_time": "2021-10-23T07:43:30.357376Z"
    }
   },
   "outputs": [],
   "source": [
    "data.drop('CALL_SMS_OUT_CNT_R', axis=1, inplace=True)"
   ]
  },
  {
   "cell_type": "code",
   "execution_count": 40,
   "id": "2368774d",
   "metadata": {
    "ExecuteTime": {
     "end_time": "2021-10-23T07:44:09.199881Z",
     "start_time": "2021-10-23T07:44:09.139806Z"
    }
   },
   "outputs": [
    {
     "data": {
      "text/plain": [
       "0        434.40\n",
       "1        234.98\n",
       "2        381.60\n",
       "3       2936.40\n",
       "4       3632.00\n",
       "         ...   \n",
       "1467     326.40\n",
       "1468    2409.00\n",
       "1469    2875.98\n",
       "1470    1667.40\n",
       "1471     883.52\n",
       "Name: CHARGE, Length: 1472, dtype: float64"
      ]
     },
     "execution_count": 40,
     "metadata": {},
     "output_type": "execute_result"
    }
   ],
   "source": [
    "df = pd.read_spss(r'C:\\Users\\zolotarev\\Downloads\\Telco_Segm_2.sav')\n",
    "charge = df['CHARGE']\n",
    "charge"
   ]
  },
  {
   "cell_type": "code",
   "execution_count": 45,
   "id": "2600308a",
   "metadata": {
    "ExecuteTime": {
     "end_time": "2021-10-23T07:47:05.736137Z",
     "start_time": "2021-10-23T07:47:05.686798Z"
    }
   },
   "outputs": [
    {
     "data": {
      "text/html": [
       "<div>\n",
       "<style scoped>\n",
       "    .dataframe tbody tr th:only-of-type {\n",
       "        vertical-align: middle;\n",
       "    }\n",
       "\n",
       "    .dataframe tbody tr th {\n",
       "        vertical-align: top;\n",
       "    }\n",
       "\n",
       "    .dataframe thead th {\n",
       "        text-align: right;\n",
       "    }\n",
       "</style>\n",
       "<table border=\"1\" class=\"dataframe\">\n",
       "  <thead>\n",
       "    <tr style=\"text-align: right;\">\n",
       "      <th></th>\n",
       "      <th>LOG_CALLS_CNT</th>\n",
       "      <th>LOG_SMS_CNT</th>\n",
       "      <th>LOG_DATA_TRAFFIC_MB</th>\n",
       "      <th>LOG_CALL_SMS_OUT_CNT_R</th>\n",
       "      <th>CHARGE</th>\n",
       "      <th>0</th>\n",
       "    </tr>\n",
       "  </thead>\n",
       "  <tbody>\n",
       "    <tr>\n",
       "      <th>0</th>\n",
       "      <td>2.503791</td>\n",
       "      <td>2.454845</td>\n",
       "      <td>2.371306</td>\n",
       "      <td>1.322240</td>\n",
       "      <td>434.40</td>\n",
       "      <td>0</td>\n",
       "    </tr>\n",
       "    <tr>\n",
       "      <th>1</th>\n",
       "      <td>2.374748</td>\n",
       "      <td>2.371068</td>\n",
       "      <td>2.371068</td>\n",
       "      <td>-3.000000</td>\n",
       "      <td>234.98</td>\n",
       "      <td>0</td>\n",
       "    </tr>\n",
       "    <tr>\n",
       "      <th>2</th>\n",
       "      <td>2.913284</td>\n",
       "      <td>2.460898</td>\n",
       "      <td>2.371068</td>\n",
       "      <td>-3.000000</td>\n",
       "      <td>381.60</td>\n",
       "      <td>0</td>\n",
       "    </tr>\n",
       "    <tr>\n",
       "      <th>3</th>\n",
       "      <td>3.461948</td>\n",
       "      <td>3.542203</td>\n",
       "      <td>3.769534</td>\n",
       "      <td>0.700314</td>\n",
       "      <td>2936.40</td>\n",
       "      <td>0</td>\n",
       "    </tr>\n",
       "    <tr>\n",
       "      <th>4</th>\n",
       "      <td>3.326541</td>\n",
       "      <td>2.959518</td>\n",
       "      <td>4.832665</td>\n",
       "      <td>1.508917</td>\n",
       "      <td>3632.00</td>\n",
       "      <td>0</td>\n",
       "    </tr>\n",
       "    <tr>\n",
       "      <th>...</th>\n",
       "      <td>...</td>\n",
       "      <td>...</td>\n",
       "      <td>...</td>\n",
       "      <td>...</td>\n",
       "      <td>...</td>\n",
       "      <td>...</td>\n",
       "    </tr>\n",
       "    <tr>\n",
       "      <th>1467</th>\n",
       "      <td>2.469822</td>\n",
       "      <td>2.646404</td>\n",
       "      <td>2.371068</td>\n",
       "      <td>-3.000000</td>\n",
       "      <td>326.40</td>\n",
       "      <td>0</td>\n",
       "    </tr>\n",
       "    <tr>\n",
       "      <th>1468</th>\n",
       "      <td>3.175222</td>\n",
       "      <td>2.980003</td>\n",
       "      <td>4.311307</td>\n",
       "      <td>1.778158</td>\n",
       "      <td>2409.00</td>\n",
       "      <td>1</td>\n",
       "    </tr>\n",
       "    <tr>\n",
       "      <th>1469</th>\n",
       "      <td>3.487845</td>\n",
       "      <td>2.968016</td>\n",
       "      <td>4.752391</td>\n",
       "      <td>1.135416</td>\n",
       "      <td>2875.98</td>\n",
       "      <td>0</td>\n",
       "    </tr>\n",
       "    <tr>\n",
       "      <th>1470</th>\n",
       "      <td>2.885926</td>\n",
       "      <td>2.611723</td>\n",
       "      <td>4.752026</td>\n",
       "      <td>1.480740</td>\n",
       "      <td>1667.40</td>\n",
       "      <td>0</td>\n",
       "    </tr>\n",
       "    <tr>\n",
       "      <th>1471</th>\n",
       "      <td>2.733197</td>\n",
       "      <td>2.783189</td>\n",
       "      <td>2.372152</td>\n",
       "      <td>1.342442</td>\n",
       "      <td>883.52</td>\n",
       "      <td>0</td>\n",
       "    </tr>\n",
       "  </tbody>\n",
       "</table>\n",
       "<p>1472 rows × 6 columns</p>\n",
       "</div>"
      ],
      "text/plain": [
       "      LOG_CALLS_CNT  LOG_SMS_CNT  LOG_DATA_TRAFFIC_MB  LOG_CALL_SMS_OUT_CNT_R  \\\n",
       "0          2.503791     2.454845             2.371306                1.322240   \n",
       "1          2.374748     2.371068             2.371068               -3.000000   \n",
       "2          2.913284     2.460898             2.371068               -3.000000   \n",
       "3          3.461948     3.542203             3.769534                0.700314   \n",
       "4          3.326541     2.959518             4.832665                1.508917   \n",
       "...             ...          ...                  ...                     ...   \n",
       "1467       2.469822     2.646404             2.371068               -3.000000   \n",
       "1468       3.175222     2.980003             4.311307                1.778158   \n",
       "1469       3.487845     2.968016             4.752391                1.135416   \n",
       "1470       2.885926     2.611723             4.752026                1.480740   \n",
       "1471       2.733197     2.783189             2.372152                1.342442   \n",
       "\n",
       "       CHARGE  0  \n",
       "0      434.40  0  \n",
       "1      234.98  0  \n",
       "2      381.60  0  \n",
       "3     2936.40  0  \n",
       "4     3632.00  0  \n",
       "...       ... ..  \n",
       "1467   326.40  0  \n",
       "1468  2409.00  1  \n",
       "1469  2875.98  0  \n",
       "1470  1667.40  0  \n",
       "1471   883.52  0  \n",
       "\n",
       "[1472 rows x 6 columns]"
      ]
     },
     "execution_count": 45,
     "metadata": {},
     "output_type": "execute_result"
    }
   ],
   "source": [
    "clusterized_data = pd.concat([data, charge, pd.Series(labels)], axis=1)\n",
    "clusterized_data"
   ]
  },
  {
   "cell_type": "code",
   "execution_count": 47,
   "id": "a7ce3ea5",
   "metadata": {
    "ExecuteTime": {
     "end_time": "2021-10-23T07:47:57.747655Z",
     "start_time": "2021-10-23T07:47:57.374283Z"
    }
   },
   "outputs": [
    {
     "data": {
      "image/png": "[encoded data removed]",
      "text/plain": [
       "<Figure size 1440x864 with 1 Axes>"
      ]
     },
     "metadata": {
      "needs_background": "light"
     },
     "output_type": "display_data"
    }
   ],
   "source": [
    "plt.figure(figsize=(20, 12))\n",
    "plt.scatter(clusterized_data['CHARGE'], labels)\n",
    "plt.title(\"Ward linkage\")\n",
    "plt.show()"
   ]
  },
  {
   "cell_type": "code",
   "execution_count": null,
   "id": "4b42e8a6",
   "metadata": {
    "ExecuteTime": {
     "start_time": "2021-10-23T08:08:37.147Z"
    }
   },
   "outputs": [],
   "source": [
    "ax = sns.boxplot(x=\"CHARGE\", y=0, data=clusterized_data)"
   ]
  },
  {
   "cell_type": "markdown",
   "id": "65b6aa52",
   "metadata": {},
   "source": [
    "There is no high dependency between cluster number and distribution of CHARGE variable"
   ]
  },
  {
   "cell_type": "markdown",
   "id": "3449ddd9",
   "metadata": {},
   "source": [
    "# Predictive modeling\n",
    "* Select 2 clusters with highest average CHARGE.\n",
    "* Create a flag variable for these clusters and use it as a target variable to build a model to predict that a subscriber belongs to these clusters.\n",
    "* Build model on balanced sample.\n",
    "* Analyze the results, model's accuracy on the train and test samples."
   ]
  },
  {
   "cell_type": "code",
   "execution_count": 49,
   "id": "e6be1638",
   "metadata": {
    "ExecuteTime": {
     "end_time": "2021-10-23T07:50:39.980082Z",
     "start_time": "2021-10-23T07:50:39.932426Z"
    }
   },
   "outputs": [
    {
     "data": {
      "text/html": [
       "<div>\n",
       "<style scoped>\n",
       "    .dataframe tbody tr th:only-of-type {\n",
       "        vertical-align: middle;\n",
       "    }\n",
       "\n",
       "    .dataframe tbody tr th {\n",
       "        vertical-align: top;\n",
       "    }\n",
       "\n",
       "    .dataframe thead th {\n",
       "        text-align: right;\n",
       "    }\n",
       "</style>\n",
       "<table border=\"1\" class=\"dataframe\">\n",
       "  <thead>\n",
       "    <tr style=\"text-align: right;\">\n",
       "      <th></th>\n",
       "      <th>mean</th>\n",
       "    </tr>\n",
       "    <tr>\n",
       "      <th>0</th>\n",
       "      <th></th>\n",
       "    </tr>\n",
       "  </thead>\n",
       "  <tbody>\n",
       "    <tr>\n",
       "      <th>0</th>\n",
       "      <td>1492.597390</td>\n",
       "    </tr>\n",
       "    <tr>\n",
       "      <th>1</th>\n",
       "      <td>2084.733763</td>\n",
       "    </tr>\n",
       "    <tr>\n",
       "      <th>2</th>\n",
       "      <td>2023.031429</td>\n",
       "    </tr>\n",
       "    <tr>\n",
       "      <th>3</th>\n",
       "      <td>2871.881333</td>\n",
       "    </tr>\n",
       "    <tr>\n",
       "      <th>4</th>\n",
       "      <td>2274.819000</td>\n",
       "    </tr>\n",
       "    <tr>\n",
       "      <th>5</th>\n",
       "      <td>2745.162500</td>\n",
       "    </tr>\n",
       "    <tr>\n",
       "      <th>6</th>\n",
       "      <td>2044.749855</td>\n",
       "    </tr>\n",
       "  </tbody>\n",
       "</table>\n",
       "</div>"
      ],
      "text/plain": [
       "          mean\n",
       "0             \n",
       "0  1492.597390\n",
       "1  2084.733763\n",
       "2  2023.031429\n",
       "3  2871.881333\n",
       "4  2274.819000\n",
       "5  2745.162500\n",
       "6  2044.749855"
      ]
     },
     "execution_count": 49,
     "metadata": {},
     "output_type": "execute_result"
    }
   ],
   "source": [
    "clusterized_data.groupby(0).CHARGE.agg(['mean'])"
   ]
  },
  {
   "cell_type": "markdown",
   "id": "e55ea308",
   "metadata": {},
   "source": [
    "Suchwise, clusters with highest mean CHARGE are 3 and 5. Let's take them:"
   ]
  },
  {
   "cell_type": "code",
   "execution_count": 51,
   "id": "c756c837",
   "metadata": {
    "ExecuteTime": {
     "end_time": "2021-10-23T07:52:15.551870Z",
     "start_time": "2021-10-23T07:52:15.512294Z"
    }
   },
   "outputs": [
    {
     "data": {
      "text/html": [
       "<div>\n",
       "<style scoped>\n",
       "    .dataframe tbody tr th:only-of-type {\n",
       "        vertical-align: middle;\n",
       "    }\n",
       "\n",
       "    .dataframe tbody tr th {\n",
       "        vertical-align: top;\n",
       "    }\n",
       "\n",
       "    .dataframe thead th {\n",
       "        text-align: right;\n",
       "    }\n",
       "</style>\n",
       "<table border=\"1\" class=\"dataframe\">\n",
       "  <thead>\n",
       "    <tr style=\"text-align: right;\">\n",
       "      <th></th>\n",
       "      <th>LOG_CALLS_CNT</th>\n",
       "      <th>LOG_SMS_CNT</th>\n",
       "      <th>LOG_DATA_TRAFFIC_MB</th>\n",
       "      <th>LOG_CALL_SMS_OUT_CNT_R</th>\n",
       "      <th>CHARGE</th>\n",
       "      <th>0</th>\n",
       "    </tr>\n",
       "  </thead>\n",
       "  <tbody>\n",
       "    <tr>\n",
       "      <th>100</th>\n",
       "      <td>3.927422</td>\n",
       "      <td>3.517064</td>\n",
       "      <td>2.371068</td>\n",
       "      <td>2.733037</td>\n",
       "      <td>5566.400000</td>\n",
       "      <td>5</td>\n",
       "    </tr>\n",
       "    <tr>\n",
       "      <th>170</th>\n",
       "      <td>3.388279</td>\n",
       "      <td>2.834421</td>\n",
       "      <td>4.695250</td>\n",
       "      <td>2.835057</td>\n",
       "      <td>2538.600000</td>\n",
       "      <td>5</td>\n",
       "    </tr>\n",
       "    <tr>\n",
       "      <th>380</th>\n",
       "      <td>3.839038</td>\n",
       "      <td>2.598791</td>\n",
       "      <td>2.371068</td>\n",
       "      <td>3.018701</td>\n",
       "      <td>3219.806667</td>\n",
       "      <td>3</td>\n",
       "    </tr>\n",
       "    <tr>\n",
       "      <th>457</th>\n",
       "      <td>3.236285</td>\n",
       "      <td>2.781755</td>\n",
       "      <td>3.600925</td>\n",
       "      <td>2.773055</td>\n",
       "      <td>2535.800000</td>\n",
       "      <td>5</td>\n",
       "    </tr>\n",
       "    <tr>\n",
       "      <th>554</th>\n",
       "      <td>3.759441</td>\n",
       "      <td>3.150142</td>\n",
       "      <td>4.999243</td>\n",
       "      <td>2.707571</td>\n",
       "      <td>2291.500000</td>\n",
       "      <td>5</td>\n",
       "    </tr>\n",
       "    <tr>\n",
       "      <th>762</th>\n",
       "      <td>3.483016</td>\n",
       "      <td>2.954725</td>\n",
       "      <td>4.703694</td>\n",
       "      <td>2.795881</td>\n",
       "      <td>1450.000000</td>\n",
       "      <td>5</td>\n",
       "    </tr>\n",
       "    <tr>\n",
       "      <th>798</th>\n",
       "      <td>3.249687</td>\n",
       "      <td>2.756636</td>\n",
       "      <td>2.371068</td>\n",
       "      <td>2.725912</td>\n",
       "      <td>2397.600000</td>\n",
       "      <td>5</td>\n",
       "    </tr>\n",
       "    <tr>\n",
       "      <th>801</th>\n",
       "      <td>3.510947</td>\n",
       "      <td>2.728354</td>\n",
       "      <td>4.093989</td>\n",
       "      <td>2.949878</td>\n",
       "      <td>1746.000000</td>\n",
       "      <td>3</td>\n",
       "    </tr>\n",
       "    <tr>\n",
       "      <th>806</th>\n",
       "      <td>3.536432</td>\n",
       "      <td>3.484727</td>\n",
       "      <td>3.818080</td>\n",
       "      <td>2.727135</td>\n",
       "      <td>3033.800000</td>\n",
       "      <td>5</td>\n",
       "    </tr>\n",
       "    <tr>\n",
       "      <th>944</th>\n",
       "      <td>3.678063</td>\n",
       "      <td>3.188928</td>\n",
       "      <td>4.885972</td>\n",
       "      <td>2.987667</td>\n",
       "      <td>3099.400000</td>\n",
       "      <td>3</td>\n",
       "    </tr>\n",
       "    <tr>\n",
       "      <th>1016</th>\n",
       "      <td>3.467312</td>\n",
       "      <td>2.998695</td>\n",
       "      <td>4.311142</td>\n",
       "      <td>2.974512</td>\n",
       "      <td>3036.200000</td>\n",
       "      <td>3</td>\n",
       "    </tr>\n",
       "    <tr>\n",
       "      <th>1203</th>\n",
       "      <td>3.295127</td>\n",
       "      <td>2.756636</td>\n",
       "      <td>2.371069</td>\n",
       "      <td>2.774518</td>\n",
       "      <td>2147.600000</td>\n",
       "      <td>5</td>\n",
       "    </tr>\n",
       "    <tr>\n",
       "      <th>1392</th>\n",
       "      <td>3.488974</td>\n",
       "      <td>3.078819</td>\n",
       "      <td>4.960339</td>\n",
       "      <td>2.895975</td>\n",
       "      <td>3258.000000</td>\n",
       "      <td>3</td>\n",
       "    </tr>\n",
       "  </tbody>\n",
       "</table>\n",
       "</div>"
      ],
      "text/plain": [
       "      LOG_CALLS_CNT  LOG_SMS_CNT  LOG_DATA_TRAFFIC_MB  LOG_CALL_SMS_OUT_CNT_R  \\\n",
       "100        3.927422     3.517064             2.371068                2.733037   \n",
       "170        3.388279     2.834421             4.695250                2.835057   \n",
       "380        3.839038     2.598791             2.371068                3.018701   \n",
       "457        3.236285     2.781755             3.600925                2.773055   \n",
       "554        3.759441     3.150142             4.999243                2.707571   \n",
       "762        3.483016     2.954725             4.703694                2.795881   \n",
       "798        3.249687     2.756636             2.371068                2.725912   \n",
       "801        3.510947     2.728354             4.093989                2.949878   \n",
       "806        3.536432     3.484727             3.818080                2.727135   \n",
       "944        3.678063     3.188928             4.885972                2.987667   \n",
       "1016       3.467312     2.998695             4.311142                2.974512   \n",
       "1203       3.295127     2.756636             2.371069                2.774518   \n",
       "1392       3.488974     3.078819             4.960339                2.895975   \n",
       "\n",
       "           CHARGE  0  \n",
       "100   5566.400000  5  \n",
       "170   2538.600000  5  \n",
       "380   3219.806667  3  \n",
       "457   2535.800000  5  \n",
       "554   2291.500000  5  \n",
       "762   1450.000000  5  \n",
       "798   2397.600000  5  \n",
       "801   1746.000000  3  \n",
       "806   3033.800000  5  \n",
       "944   3099.400000  3  \n",
       "1016  3036.200000  3  \n",
       "1203  2147.600000  5  \n",
       "1392  3258.000000  3  "
      ]
     },
     "execution_count": 51,
     "metadata": {},
     "output_type": "execute_result"
    }
   ],
   "source": [
    "clf_data = clusterized_data[(clusterized_data[0]==3) | (clusterized_data[0]==5)]\n",
    "clf_data"
   ]
  },
  {
   "cell_type": "code",
   "execution_count": 52,
   "id": "d7e11bc6",
   "metadata": {
    "ExecuteTime": {
     "end_time": "2021-10-23T07:55:02.184580Z",
     "start_time": "2021-10-23T07:55:02.108419Z"
    }
   },
   "outputs": [
    {
     "name": "stderr",
     "output_type": "stream",
     "text": [
      "<ipython-input-52-8e52d2ae8efd>:1: SettingWithCopyWarning: \n",
      "A value is trying to be set on a copy of a slice from a DataFrame.\n",
      "Try using .loc[row_indexer,col_indexer] = value instead\n",
      "\n",
      "See the caveats in the documentation: https://pandas.pydata.org/pandas-docs/stable/user_guide/indexing.html#returning-a-view-versus-a-copy\n",
      "  clf_data['class'] = 0\n",
      "C:\\Users\\zolotarev\\Anaconda3\\lib\\site-packages\\pandas\\core\\indexing.py:1720: SettingWithCopyWarning: \n",
      "A value is trying to be set on a copy of a slice from a DataFrame.\n",
      "Try using .loc[row_indexer,col_indexer] = value instead\n",
      "\n",
      "See the caveats in the documentation: https://pandas.pydata.org/pandas-docs/stable/user_guide/indexing.html#returning-a-view-versus-a-copy\n",
      "  self._setitem_single_column(loc, value, pi)\n"
     ]
    },
    {
     "data": {
      "text/html": [
       "<div>\n",
       "<style scoped>\n",
       "    .dataframe tbody tr th:only-of-type {\n",
       "        vertical-align: middle;\n",
       "    }\n",
       "\n",
       "    .dataframe tbody tr th {\n",
       "        vertical-align: top;\n",
       "    }\n",
       "\n",
       "    .dataframe thead th {\n",
       "        text-align: right;\n",
       "    }\n",
       "</style>\n",
       "<table border=\"1\" class=\"dataframe\">\n",
       "  <thead>\n",
       "    <tr style=\"text-align: right;\">\n",
       "      <th></th>\n",
       "      <th>LOG_CALLS_CNT</th>\n",
       "      <th>LOG_SMS_CNT</th>\n",
       "      <th>LOG_DATA_TRAFFIC_MB</th>\n",
       "      <th>LOG_CALL_SMS_OUT_CNT_R</th>\n",
       "      <th>CHARGE</th>\n",
       "      <th>0</th>\n",
       "      <th>class</th>\n",
       "    </tr>\n",
       "  </thead>\n",
       "  <tbody>\n",
       "    <tr>\n",
       "      <th>100</th>\n",
       "      <td>3.927422</td>\n",
       "      <td>3.517064</td>\n",
       "      <td>2.371068</td>\n",
       "      <td>2.733037</td>\n",
       "      <td>5566.400000</td>\n",
       "      <td>5</td>\n",
       "      <td>1</td>\n",
       "    </tr>\n",
       "    <tr>\n",
       "      <th>170</th>\n",
       "      <td>3.388279</td>\n",
       "      <td>2.834421</td>\n",
       "      <td>4.695250</td>\n",
       "      <td>2.835057</td>\n",
       "      <td>2538.600000</td>\n",
       "      <td>5</td>\n",
       "      <td>1</td>\n",
       "    </tr>\n",
       "    <tr>\n",
       "      <th>380</th>\n",
       "      <td>3.839038</td>\n",
       "      <td>2.598791</td>\n",
       "      <td>2.371068</td>\n",
       "      <td>3.018701</td>\n",
       "      <td>3219.806667</td>\n",
       "      <td>3</td>\n",
       "      <td>0</td>\n",
       "    </tr>\n",
       "    <tr>\n",
       "      <th>457</th>\n",
       "      <td>3.236285</td>\n",
       "      <td>2.781755</td>\n",
       "      <td>3.600925</td>\n",
       "      <td>2.773055</td>\n",
       "      <td>2535.800000</td>\n",
       "      <td>5</td>\n",
       "      <td>1</td>\n",
       "    </tr>\n",
       "    <tr>\n",
       "      <th>554</th>\n",
       "      <td>3.759441</td>\n",
       "      <td>3.150142</td>\n",
       "      <td>4.999243</td>\n",
       "      <td>2.707571</td>\n",
       "      <td>2291.500000</td>\n",
       "      <td>5</td>\n",
       "      <td>1</td>\n",
       "    </tr>\n",
       "    <tr>\n",
       "      <th>762</th>\n",
       "      <td>3.483016</td>\n",
       "      <td>2.954725</td>\n",
       "      <td>4.703694</td>\n",
       "      <td>2.795881</td>\n",
       "      <td>1450.000000</td>\n",
       "      <td>5</td>\n",
       "      <td>1</td>\n",
       "    </tr>\n",
       "    <tr>\n",
       "      <th>798</th>\n",
       "      <td>3.249687</td>\n",
       "      <td>2.756636</td>\n",
       "      <td>2.371068</td>\n",
       "      <td>2.725912</td>\n",
       "      <td>2397.600000</td>\n",
       "      <td>5</td>\n",
       "      <td>1</td>\n",
       "    </tr>\n",
       "    <tr>\n",
       "      <th>801</th>\n",
       "      <td>3.510947</td>\n",
       "      <td>2.728354</td>\n",
       "      <td>4.093989</td>\n",
       "      <td>2.949878</td>\n",
       "      <td>1746.000000</td>\n",
       "      <td>3</td>\n",
       "      <td>0</td>\n",
       "    </tr>\n",
       "    <tr>\n",
       "      <th>806</th>\n",
       "      <td>3.536432</td>\n",
       "      <td>3.484727</td>\n",
       "      <td>3.818080</td>\n",
       "      <td>2.727135</td>\n",
       "      <td>3033.800000</td>\n",
       "      <td>5</td>\n",
       "      <td>1</td>\n",
       "    </tr>\n",
       "    <tr>\n",
       "      <th>944</th>\n",
       "      <td>3.678063</td>\n",
       "      <td>3.188928</td>\n",
       "      <td>4.885972</td>\n",
       "      <td>2.987667</td>\n",
       "      <td>3099.400000</td>\n",
       "      <td>3</td>\n",
       "      <td>0</td>\n",
       "    </tr>\n",
       "    <tr>\n",
       "      <th>1016</th>\n",
       "      <td>3.467312</td>\n",
       "      <td>2.998695</td>\n",
       "      <td>4.311142</td>\n",
       "      <td>2.974512</td>\n",
       "      <td>3036.200000</td>\n",
       "      <td>3</td>\n",
       "      <td>0</td>\n",
       "    </tr>\n",
       "    <tr>\n",
       "      <th>1203</th>\n",
       "      <td>3.295127</td>\n",
       "      <td>2.756636</td>\n",
       "      <td>2.371069</td>\n",
       "      <td>2.774518</td>\n",
       "      <td>2147.600000</td>\n",
       "      <td>5</td>\n",
       "      <td>1</td>\n",
       "    </tr>\n",
       "    <tr>\n",
       "      <th>1392</th>\n",
       "      <td>3.488974</td>\n",
       "      <td>3.078819</td>\n",
       "      <td>4.960339</td>\n",
       "      <td>2.895975</td>\n",
       "      <td>3258.000000</td>\n",
       "      <td>3</td>\n",
       "      <td>0</td>\n",
       "    </tr>\n",
       "  </tbody>\n",
       "</table>\n",
       "</div>"
      ],
      "text/plain": [
       "      LOG_CALLS_CNT  LOG_SMS_CNT  LOG_DATA_TRAFFIC_MB  LOG_CALL_SMS_OUT_CNT_R  \\\n",
       "100        3.927422     3.517064             2.371068                2.733037   \n",
       "170        3.388279     2.834421             4.695250                2.835057   \n",
       "380        3.839038     2.598791             2.371068                3.018701   \n",
       "457        3.236285     2.781755             3.600925                2.773055   \n",
       "554        3.759441     3.150142             4.999243                2.707571   \n",
       "762        3.483016     2.954725             4.703694                2.795881   \n",
       "798        3.249687     2.756636             2.371068                2.725912   \n",
       "801        3.510947     2.728354             4.093989                2.949878   \n",
       "806        3.536432     3.484727             3.818080                2.727135   \n",
       "944        3.678063     3.188928             4.885972                2.987667   \n",
       "1016       3.467312     2.998695             4.311142                2.974512   \n",
       "1203       3.295127     2.756636             2.371069                2.774518   \n",
       "1392       3.488974     3.078819             4.960339                2.895975   \n",
       "\n",
       "           CHARGE  0  class  \n",
       "100   5566.400000  5      1  \n",
       "170   2538.600000  5      1  \n",
       "380   3219.806667  3      0  \n",
       "457   2535.800000  5      1  \n",
       "554   2291.500000  5      1  \n",
       "762   1450.000000  5      1  \n",
       "798   2397.600000  5      1  \n",
       "801   1746.000000  3      0  \n",
       "806   3033.800000  5      1  \n",
       "944   3099.400000  3      0  \n",
       "1016  3036.200000  3      0  \n",
       "1203  2147.600000  5      1  \n",
       "1392  3258.000000  3      0  "
      ]
     },
     "execution_count": 52,
     "metadata": {},
     "output_type": "execute_result"
    }
   ],
   "source": [
    "clf_data['class'] = 0\n",
    "clf_data.loc[clf_data[0]==5, 'class'] = 1\n",
    "clf_data"
   ]
  },
  {
   "cell_type": "code",
   "execution_count": 58,
   "id": "ed6de0c4",
   "metadata": {
    "ExecuteTime": {
     "end_time": "2021-10-23T07:57:05.059218Z",
     "start_time": "2021-10-23T07:57:04.693446Z"
    }
   },
   "outputs": [
    {
     "data": {
      "text/plain": [
       "<AxesSubplot:ylabel='Frequency'>"
      ]
     },
     "execution_count": 58,
     "metadata": {},
     "output_type": "execute_result"
    },
    {
     "data": {
      "image/png": "[encoded data removed]",
      "text/plain": [
       "<Figure size 432x288 with 1 Axes>"
      ]
     },
     "metadata": {
      "needs_background": "light"
     },
     "output_type": "display_data"
    }
   ],
   "source": [
    "clf_data['class'].plot.hist()"
   ]
  },
  {
   "cell_type": "markdown",
   "id": "a94cae8d",
   "metadata": {},
   "source": [
    "It seems to be pretty balanced. Will not make any balancing operations. Let's build Logistic regression"
   ]
  },
  {
   "cell_type": "code",
   "execution_count": 61,
   "id": "e903be14",
   "metadata": {
    "ExecuteTime": {
     "end_time": "2021-10-23T08:01:03.621866Z",
     "start_time": "2021-10-23T08:01:03.593400Z"
    }
   },
   "outputs": [
    {
     "data": {
      "text/plain": [
       "((9, 4), (4, 4), (9,), (4,))"
      ]
     },
     "execution_count": 61,
     "metadata": {},
     "output_type": "execute_result"
    }
   ],
   "source": [
    "from sklearn.model_selection import train_test_split\n",
    "from sklearn.linear_model import LogisticRegression\n",
    "\n",
    "X_train, X_val, y_train, y_val = train_test_split(clf_data[['LOG_CALL_SMS_OUT_CNT_R', 'LOG_CALLS_CNT', 'LOG_SMS_CNT', 'LOG_DATA_TRAFFIC_MB']],\n",
    "                                                  clf_data['class'], random_state=23102021)\n",
    "\n",
    "X_train.shape, X_val.shape, y_train.shape, y_val.shape"
   ]
  },
  {
   "cell_type": "code",
   "execution_count": 62,
   "id": "35f89900",
   "metadata": {
    "ExecuteTime": {
     "end_time": "2021-10-23T08:01:09.558263Z",
     "start_time": "2021-10-23T08:01:09.480798Z"
    }
   },
   "outputs": [
    {
     "data": {
      "text/plain": [
       "0.25"
      ]
     },
     "execution_count": 62,
     "metadata": {},
     "output_type": "execute_result"
    }
   ],
   "source": [
    "clf = LogisticRegression(random_state=0).fit(X_train, y_train)\n",
    "clf.score(X_val, y_val)"
   ]
  },
  {
   "cell_type": "code",
   "execution_count": 64,
   "id": "ff179a5b",
   "metadata": {
    "ExecuteTime": {
     "end_time": "2021-10-23T08:02:12.323234Z",
     "start_time": "2021-10-23T08:02:12.299274Z"
    }
   },
   "outputs": [
    {
     "name": "stdout",
     "output_type": "stream",
     "text": [
      "              precision    recall  f1-score   support\n",
      "\n",
      "           0       0.80      0.80      0.80         5\n",
      "           1       0.75      0.75      0.75         4\n",
      "\n",
      "    accuracy                           0.78         9\n",
      "   macro avg       0.78      0.78      0.78         9\n",
      "weighted avg       0.78      0.78      0.78         9\n",
      "\n"
     ]
    }
   ],
   "source": [
    "from sklearn.metrics import classification_report\n",
    "y_pred = clf.predict(X_train)\n",
    "print(classification_report(y_train, y_pred))"
   ]
  },
  {
   "cell_type": "code",
   "execution_count": 63,
   "id": "0d010b89",
   "metadata": {
    "ExecuteTime": {
     "end_time": "2021-10-23T08:01:12.268998Z",
     "start_time": "2021-10-23T08:01:12.202021Z"
    }
   },
   "outputs": [
    {
     "name": "stdout",
     "output_type": "stream",
     "text": [
      "              precision    recall  f1-score   support\n",
      "\n",
      "           0       0.00      0.00      0.00         0\n",
      "           1       1.00      0.25      0.40         4\n",
      "\n",
      "    accuracy                           0.25         4\n",
      "   macro avg       0.50      0.12      0.20         4\n",
      "weighted avg       1.00      0.25      0.40         4\n",
      "\n"
     ]
    },
    {
     "name": "stderr",
     "output_type": "stream",
     "text": [
      "C:\\Users\\zolotarev\\Anaconda3\\lib\\site-packages\\sklearn\\metrics\\_classification.py:1245: UndefinedMetricWarning: Recall and F-score are ill-defined and being set to 0.0 in labels with no true samples. Use `zero_division` parameter to control this behavior.\n",
      "  _warn_prf(average, modifier, msg_start, len(result))\n",
      "C:\\Users\\zolotarev\\Anaconda3\\lib\\site-packages\\sklearn\\metrics\\_classification.py:1245: UndefinedMetricWarning: Recall and F-score are ill-defined and being set to 0.0 in labels with no true samples. Use `zero_division` parameter to control this behavior.\n",
      "  _warn_prf(average, modifier, msg_start, len(result))\n",
      "C:\\Users\\zolotarev\\Anaconda3\\lib\\site-packages\\sklearn\\metrics\\_classification.py:1245: UndefinedMetricWarning: Recall and F-score are ill-defined and being set to 0.0 in labels with no true samples. Use `zero_division` parameter to control this behavior.\n",
      "  _warn_prf(average, modifier, msg_start, len(result))\n"
     ]
    }
   ],
   "source": [
    "y_pred = clf.predict(X_val)\n",
    "print(classification_report(y_val, y_pred))"
   ]
  },
  {
   "cell_type": "markdown",
   "id": "c0a6f5d1",
   "metadata": {},
   "source": [
    "We can observe quite satisfying results on train dataset and very poor quality on test dataset. It can be explained with very low size of both clusters and lack of cross-validation in process of model building."
   ]
  },
  {
   "cell_type": "code",
   "execution_count": null,
   "id": "533323e1",
   "metadata": {},
   "outputs": [],
   "source": []
  }
 ],
 "metadata": {
  "kernelspec": {
   "display_name": "Python 3",
   "language": "python",
   "name": "python3"
  },
  "language_info": {
   "codemirror_mode": {
    "name": "ipython",
    "version": 3
   },
   "file_extension": ".py",
   "mimetype": "text/x-python",
   "name": "python",
   "nbconvert_exporter": "python",
   "pygments_lexer": "ipython3",
   "version": "3.8.8"
  },
  "toc": {
   "base_numbering": 1,
   "nav_menu": {},
   "number_sections": true,
   "sideBar": true,
   "skip_h1_title": false,
   "title_cell": "Table of Contents",
   "title_sidebar": "Contents",
   "toc_cell": false,
   "toc_position": {},
   "toc_section_display": true,
   "toc_window_display": false
  },
  "varInspector": {
   "cols": {
    "lenName": 16,
    "lenType": 16,
    "lenVar": 40
   },
   "kernels_config": {
    "python": {
     "delete_cmd_postfix": "",
     "delete_cmd_prefix": "del ",
     "library": "var_list.py",
     "varRefreshCmd": "print(var_dic_list())"
    },
    "r": {
     "delete_cmd_postfix": ") ",
     "delete_cmd_prefix": "rm(",
     "library": "var_list.r",
     "varRefreshCmd": "cat(var_dic_list()) "
    }
   },
   "types_to_exclude": [
    "module",
    "function",
    "builtin_function_or_method",
    "instance",
    "_Feature"
   ],
   "window_display": false
  }
 },
 "nbformat": 4,
 "nbformat_minor": 5
}
