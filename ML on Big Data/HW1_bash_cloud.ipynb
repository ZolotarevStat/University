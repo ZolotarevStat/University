{
 "cells": [
  {
   "cell_type": "markdown",
   "id": "6d79232b",
   "metadata": {},
   "source": [
    "```bash\n",
    "ssh -A -J yc-user@51.250.6.126 ubuntu@rc1a-dataproc-c-0430dmrwee1whrn9.mdb.yandexcloud.net\n",
    "\n",
    "sudo apt install p7zip-full\n",
    "pip install -q kaggle\n",
    "\n",
    "mkdir ~/.kaggle\n",
    "wget https://storage.yandexcloud.net/bucket-zolotarev-bst/kaggle.json\n",
    "mv kaggle.json ~/.kaggle/kaggle.json\n",
    "\n",
    "kaggle competitions download -c avito-context-ad-clicks -f VisitsStream.tsv.7z\n",
    "mkdir mhw1\n",
    "mv VisitsStream.tsv.7z mhw1/VisitsStream.tsv.7z\n",
    "cd mhw1\n",
    "\n",
    "mkdir 7z-mhw1\n",
    "7z x VisitsStream.tsv.7z -o7z-mhw1\n",
    "cd 7z-mhw1\n",
    "\n",
    "cat VisitsStream.tsv | cut -f1 |  head -n 1000001 | tail -n +2 | sort -n | uniq -c | sort -n -r -k1,1 | head -n 10 > top10.txt\n",
    "\n",
    "hdfs dfs -put top10.txt s3a://bucket-zolotarev-bst/top10.txt\n",
    "```"
   ]
  },
  {
   "cell_type": "markdown",
   "id": "d9e557c6",
   "metadata": {},
   "source": [
    "Note: Чтобы установить API Kaggle на сервере, перекинул полученный JSON в бакет, откуда через ``` wget ``` стащил его"
   ]
  },
  {
   "cell_type": "markdown",
   "id": "c2fe342a",
   "metadata": {},
   "source": [
    "**Note:** Выбрал неправильную последовательность действий и сначала остановил кластер, потом хотел вытащить историю команд из Git Bash, забыв выйти с сервера. В итоге Git лёг и не сохранил историю команд. Выписывал их обратно по памяти, возможно, что-то забыл упомянуть... Простите..."
   ]
  },
  {
   "cell_type": "markdown",
   "id": "4c5ad674",
   "metadata": {},
   "source": [
    "[Ссылка на топ-10 пользователей по количеству входов](https://storage.yandexcloud.net/bucket-zolotarev-bst/top10.txt)"
   ]
  },
  {
   "cell_type": "code",
   "execution_count": 9,
   "id": "b3b9017c",
   "metadata": {
    "ExecuteTime": {
     "end_time": "2022-01-26T10:34:01.370182Z",
     "start_time": "2022-01-26T10:34:01.352193Z"
    }
   },
   "outputs": [
    {
     "name": "stdout",
     "output_type": "stream",
     "text": [
      "   2814 4285777\n",
      "   1657 769640\n",
      "    731 4325557\n",
      "    394 3210937\n",
      "    381 4263912\n",
      "    336 760745\n",
      "    334 3669654\n",
      "    323 350213\n",
      "    316 2356324\n",
      "    309 1192247\n",
      "\n"
     ]
    }
   ],
   "source": [
    "with open('./top10.txt') as f:\n",
    "    contents = f.read()\n",
    "    print(contents)"
   ]
  }
 ],
 "metadata": {
  "kernelspec": {
   "display_name": "Python 3",
   "language": "python",
   "name": "python3"
  },
  "language_info": {
   "codemirror_mode": {
    "name": "ipython",
    "version": 3
   },
   "file_extension": ".py",
   "mimetype": "text/x-python",
   "name": "python",
   "nbconvert_exporter": "python",
   "pygments_lexer": "ipython3",
   "version": "3.8.8"
  },
  "toc": {
   "base_numbering": 1,
   "nav_menu": {},
   "number_sections": true,
   "sideBar": true,
   "skip_h1_title": false,
   "title_cell": "Table of Contents",
   "title_sidebar": "Contents",
   "toc_cell": false,
   "toc_position": {},
   "toc_section_display": true,
   "toc_window_display": false
  },
  "varInspector": {
   "cols": {
    "lenName": 16,
    "lenType": 16,
    "lenVar": 40
   },
   "kernels_config": {
    "python": {
     "delete_cmd_postfix": "",
     "delete_cmd_prefix": "del ",
     "library": "var_list.py",
     "varRefreshCmd": "print(var_dic_list())"
    },
    "r": {
     "delete_cmd_postfix": ") ",
     "delete_cmd_prefix": "rm(",
     "library": "var_list.r",
     "varRefreshCmd": "cat(var_dic_list()) "
    }
   },
   "types_to_exclude": [
    "module",
    "function",
    "builtin_function_or_method",
    "instance",
    "_Feature"
   ],
   "window_display": false
  }
 },
 "nbformat": 4,
 "nbformat_minor": 5
}
