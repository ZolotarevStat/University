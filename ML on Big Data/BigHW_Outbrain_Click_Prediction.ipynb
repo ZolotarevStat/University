{
 "cells": [
  {
   "cell_type": "markdown",
   "id": "3874458f",
   "metadata": {},
   "source": [
    "# Рабочая тетрадь\n",
    "\n",
    "## по машинному обучению на больших данных\n",
    "\n",
    "## ученика 4 \"В\" класса\n",
    "\n",
    "## НИУ ВШЭ\n",
    "\n",
    "## Золотарева Антона"
   ]
  },
  {
   "cell_type": "markdown",
   "id": "433cdc5b",
   "metadata": {},
   "source": [
    "Соревнование на Kaggle, с задачей про предсказание кликов по рекламе: https://www.kaggle.com/c/outbrain-click-prediction\n",
    "\n",
    "Вам необходимо решить указанную задачу. Есть небольшие ограничения:\n",
    "* Сбор датасета для обучения необходимо производить средствами Spark\n",
    "* Нельзя обучать модели из sklearn (другие функции оттуда брать можно, например для оценки качества)\n",
    "\n",
    "В качестве сдачи вам необходимо прислать ноутбук, в котором будет:\n",
    "* Код на Spark в котором вы собираете датасет\n",
    "* Код обучения вашей модели\n",
    "* Скриншот из Kaggle, где видна ваша посылка и метрика на ней\n",
    "\n",
    "**Важно** В задании есть лик в данных (https://www.kaggle.com/its7171/outbrain-click-prediction/leakage-solution дает +0.015), его использовать нельзя!"
   ]
  },
  {
   "cell_type": "markdown",
   "id": "6f00ec23",
   "metadata": {},
   "source": [
    "Будем смотреть на MAP посылки, полученный на тестовой выборке соревнования:\n",
    "* `< 0.64` (это AUC ~0.73) - до 4 баллов\n",
    "* `>= 0.64` - 5\n",
    "* `>= 0.65` - 6\n",
    "* `>= 0.66` - 7\n",
    "* `>= 0.67` (AUC примерно 0.75) - 8\n",
    "* `>= 0.671` - 9\n",
    "* `>= 0.672` - 10\n",
    "\n",
    "В связи с этим есть еще один нюанс - ваше финальное решение должно получаться запуском всего вашего ноутбука при помощи “Run All Cells” на свежем кластере."
   ]
  },
  {
   "cell_type": "markdown",
   "id": "6721e28d",
   "metadata": {},
   "source": [
    "### Заметки на полях\n",
    "\n",
    "**1.** Сохраняйте промежуточные результаты. За один присест вы домашку не решите, поэтому почаще сохраняйте свои результаты, чтобы вам не было мучительно больно за бесцельно прожитые часы ожидания работы кластера.\n",
    "\n",
    "**2.** Конвертируйте данные в Parquet и используйте по максимуму Dataframe API. Вам придется исследовать данные и проверять гипотезы, поэтому используйте быстрые инструменты для этого.\n",
    "\n",
    "**3.** Перед тем как запускать большой запрос, проверьте вашу идею на небольшом семпле, если это возможно. Это спасет сам кучу часов.\n",
    "\n",
    "**4.** Тьюнингом параметров VW можно выжать AUC 0.732 из очень простых признаков. Для более крутых фичей советую почитать отчет одного участника конкурса: http://dsnotes.com/post/2017-01-27-lessons-learned-from-outbrain-click-prediction-kaggle-competition/ ( pdf странички https://www.dropbox.com/s/hd86p0kvf3ad5sy/Large%20data%2C%20feature%20hashing%20and%20online%20learning%20%C2%B7%20Data%20Science%20notes.pdf?dl=0 ). На тупых фичах у них AUC 0.737, MAP 0.654 (они добавили еще interactions длины 2), на умных AUC 0.752, MAP 0.673, ориентируйтесь на них, они попали в топ 50. У них кстати довольно простые фичи по page_views, у них там весь код про то, как это на одной машине посчитать, у вас таких проблем нет.\n"
   ]
  },
  {
   "cell_type": "markdown",
   "id": "c328e85b",
   "metadata": {},
   "source": [
    "# Задание\n",
    "\n",
    "Outbrain - платформа, генерирующая рекомендации на самых разных сайтах. Нужно построить рекомендательную систему, максимизирующую Mean Average Precision @12:\n",
    "\n",
    "$MAP@12 = \\frac{1}{|U|}\\sum\\limits_{u=1}^{|U|}\\sum\\limits_{k=1}^{min(12,n)} P(k)$\n",
    "\n",
    "$|U|$ - количество display_id, размер выборки в задаче\n",
    "\n",
    "$n$ - количество предсказанных ad_id для конкретного display_id\n",
    "\n",
    "$P(k) - presicion@k = \\frac{\\text{# of relevant items in top k}}{k}$"
   ]
  },
  {
   "cell_type": "markdown",
   "id": "e044cb4d",
   "metadata": {},
   "source": [
    "### Пример работы метрики\n",
    "\n",
    "Пусть $|U|=1$, $n=13$\n",
    "\n",
    "Прогноз наиболее вероятных для клика реклам для единственного дисплея\\сайта такой: [101, 102, 103, 104, 105, 106, 107, 108, 109, 110, 111, 112, 113]\n",
    "\n",
    "Фактически была кликнута следующая реклама: [103]\n",
    "\n",
    "Тогда значение метрики будет следующим:\n",
    "\n",
    "Если n - номер кликнутой статьи $MAP@12 = \\sum\\limits_{k=1}^{min(12,n)} P(k) = \\frac{0}{1}+\\frac{0}{2}+\\frac{1}{3}=\\frac{1}{3}$"
   ]
  },
  {
   "cell_type": "markdown",
   "id": "2a26908a",
   "metadata": {},
   "source": [
    "page_views.csv - самый большой набор данных с логами документов, 2млрд\n",
    "\n",
    "display_id - context - set of recs to specific user >= 1 click\n",
    "\n",
    "uuid - unique user\n",
    "\n",
    "document_id - web page with set of ads\n",
    "\n",
    "ad_id - advertisment displayed on document\n",
    "\n",
    "campaign_id - заказчик рекламы, его продукцию рекламируют\n",
    "\n",
    "advertiser_id - производитель рекламы"
   ]
  },
  {
   "cell_type": "markdown",
   "id": "4297037a",
   "metadata": {
    "ExecuteTime": {
     "end_time": "2022-03-16T11:30:45.784903Z",
     "start_time": "2022-03-16T11:30:45.733582Z"
    }
   },
   "source": [
    "![Схема](Untitled.jpg)"
   ]
  },
  {
   "cell_type": "markdown",
   "id": "85ba80cd",
   "metadata": {},
   "source": [
    "## Рутина с окружением"
   ]
  },
  {
   "cell_type": "code",
   "execution_count": 7,
   "id": "fb8d70aa",
   "metadata": {},
   "outputs": [
    {
     "name": "stdout",
     "output_type": "stream",
     "text": [
      "--2022-03-28 16:16:59--  https://storage.yandexcloud.net/bucket-zolotarev-bst/kaggle.json\n",
      "Resolving storage.yandexcloud.net (storage.yandexcloud.net)... 213.180.193.243, 2a02:6b8::1d9\n",
      "Connecting to storage.yandexcloud.net (storage.yandexcloud.net)|213.180.193.243|:443... connected.\n",
      "HTTP request sent, awaiting response... 200 OK\n",
      "Length: 76 [application/json]\n",
      "Saving to: ‘kaggle.json’\n",
      "\n",
      "kaggle.json         100%[===================>]      76  --.-KB/s    in 0s      \n",
      "\n",
      "2022-03-28 16:16:59 (10.9 MB/s) - ‘kaggle.json’ saved [76/76]\n",
      "\n"
     ]
    }
   ],
   "source": [
    "!rm -r ~/.kaggle\n",
    "!mkdir ~/.kaggle\n",
    "!wget https://storage.yandexcloud.net/bucket-zolotarev-bst/kaggle.json\n",
    "!mv kaggle.json ~/.kaggle/kaggle.json"
   ]
  },
  {
   "cell_type": "code",
   "execution_count": 8,
   "id": "dd03bba0",
   "metadata": {},
   "outputs": [],
   "source": [
    "import os \n",
    "\n",
    "os.environ['PATH'] = '~/.local/bin:' + os.environ['PATH']"
   ]
  },
  {
   "cell_type": "code",
   "execution_count": 9,
   "id": "87bb19d0",
   "metadata": {},
   "outputs": [],
   "source": [
    "!chmod 600 /home/ubuntu/.kaggle/kaggle.json"
   ]
  },
  {
   "cell_type": "markdown",
   "id": "7e2aa328",
   "metadata": {},
   "source": [
    "## Выгружаем и предобрабатываем данные"
   ]
  },
  {
   "cell_type": "code",
   "execution_count": 31,
   "id": "56605b19",
   "metadata": {},
   "outputs": [
    {
     "name": "stdout",
     "output_type": "stream",
     "text": [
      "Downloading clicks_test.csv.zip to /home/ubuntu\n",
      " 95%|██████████████████████████████████████  | 129M/135M [00:02<00:00, 33.2MB/s]\n",
      "100%|████████████████████████████████████████| 135M/135M [00:02<00:00, 64.2MB/s]\n",
      "Downloading clicks_train.csv.zip to /home/ubuntu\n",
      " 98%|████████████████████████████████████████ | 381M/390M [00:03<00:00, 128MB/s]\n",
      "100%|█████████████████████████████████████████| 390M/390M [00:03<00:00, 132MB/s]\n",
      "Downloading documents_categories.csv.zip to /home/ubuntu\n",
      " 90%|██████████████████████████████████    | 29.0M/32.3M [00:00<00:00, 83.1MB/s]\n",
      "100%|██████████████████████████████████████| 32.3M/32.3M [00:00<00:00, 74.5MB/s]\n",
      "Downloading documents_entities.csv.zip to /home/ubuntu\n",
      " 88%|████████████████████████████████████▏    | 111M/126M [00:00<00:00, 168MB/s]\n",
      "100%|█████████████████████████████████████████| 126M/126M [00:00<00:00, 139MB/s]\n",
      "Downloading documents_meta.csv.zip to /home/ubuntu\n",
      " 13%|████▉                                 | 2.00M/15.5M [00:00<00:00, 19.5MB/s]\n",
      "100%|██████████████████████████████████████| 15.5M/15.5M [00:00<00:00, 87.0MB/s]\n",
      "Downloading documents_topics.csv.zip to /home/ubuntu\n",
      " 96%|██████████████████████████████████████▍ | 116M/121M [00:01<00:00, 76.9MB/s]\n",
      "100%|████████████████████████████████████████| 121M/121M [00:01<00:00, 94.6MB/s]\n",
      "Downloading events.csv.zip to /home/ubuntu\n",
      " 99%|████████████████████████████████████████▌| 472M/478M [00:05<00:00, 114MB/s]\n",
      "100%|████████████████████████████████████████| 478M/478M [00:05<00:00, 97.0MB/s]\n",
      "Downloading page_views.csv.zip to /home/ubuntu\n",
      "100%|██████████████████████████████████████▉| 34.8G/34.8G [04:45<00:00, 181MB/s]\n",
      "100%|███████████████████████████████████████| 34.8G/34.8G [04:46<00:00, 130MB/s]\n",
      "Downloading page_views_sample.csv.zip to /home/ubuntu\n",
      " 95%|█████████████████████████████████████▉  | 141M/149M [00:01<00:00, 95.6MB/s]\n",
      "100%|█████████████████████████████████████████| 149M/149M [00:01<00:00, 119MB/s]\n",
      "Downloading promoted_content.csv.zip to /home/ubuntu\n",
      " 40%|███████████████                       | 1.00M/2.52M [00:00<00:00, 9.72MB/s]\n",
      "100%|██████████████████████████████████████| 2.52M/2.52M [00:00<00:00, 20.0MB/s]\n",
      "Downloading sample_submission.csv.zip to /home/ubuntu\n",
      " 94%|████████████████████████████████████▊  | 94.0M/99.6M [00:00<00:00, 133MB/s]\n",
      "100%|███████████████████████████████████████| 99.6M/99.6M [00:00<00:00, 117MB/s]\n"
     ]
    }
   ],
   "source": [
    "! rm -r ~/bhw\n",
    "!mkdir bhw\n",
    "!cd bhw\n",
    "!kaggle competitions download -c outbrain-click-prediction -f clicks_test.csv.zip\n",
    "!kaggle competitions download -c outbrain-click-prediction -f clicks_train.csv.zip\n",
    "!kaggle competitions download -c outbrain-click-prediction -f documents_categories.csv.zip\n",
    "!kaggle competitions download -c outbrain-click-prediction -f documents_entities.csv.zip\n",
    "!kaggle competitions download -c outbrain-click-prediction -f documents_meta.csv.zip\n",
    "!kaggle competitions download -c outbrain-click-prediction -f documents_topics.csv.zip\n",
    "!kaggle competitions download -c outbrain-click-prediction -f events.csv.zip\n",
    "!kaggle competitions download -c outbrain-click-prediction -f page_views.csv.zip\n",
    "!kaggle competitions download -c outbrain-click-prediction -f page_views_sample.csv.zip\n",
    "!kaggle competitions download -c outbrain-click-prediction -f promoted_content.csv.zip\n",
    "!kaggle competitions download -c outbrain-click-prediction -f sample_submission.csv.zip"
   ]
  },
  {
   "cell_type": "code",
   "execution_count": 35,
   "id": "cce9a6e9",
   "metadata": {},
   "outputs": [
    {
     "name": "stdout",
     "output_type": "stream",
     "text": [
      "mv: './bhw/clicks_train.csv.zip' and '/home/ubuntu/bhw/clicks_train.csv.zip' are the same file\r\n"
     ]
    }
   ],
   "source": [
    "!find . -name '*.zip' -exec mv {} ~/bhw \\;"
   ]
  },
  {
   "cell_type": "code",
   "execution_count": 38,
   "id": "60524174",
   "metadata": {},
   "outputs": [
    {
     "name": "stdout",
     "output_type": "stream",
     "text": [
      " bhw  'Big Homework - start.ipynb'   Untitled.ipynb   Untitled.jpg\r\n"
     ]
    }
   ],
   "source": [
    "!cd ~\n",
    "!ls"
   ]
  },
  {
   "cell_type": "code",
   "execution_count": 53,
   "id": "45133b06",
   "metadata": {},
   "outputs": [
    {
     "name": "stdout",
     "output_type": "stream",
     "text": [
      "/home/ubuntu/bhw\n"
     ]
    }
   ],
   "source": [
    "%cd ~/bhw/"
   ]
  },
  {
   "cell_type": "code",
   "execution_count": 54,
   "id": "0c5971b4",
   "metadata": {},
   "outputs": [
    {
     "name": "stdout",
     "output_type": "stream",
     "text": [
      "clicks_test.csv.zip\t      events.csv.zip\r\n",
      "clicks_train.csv.zip\t      page_views.csv.zip\r\n",
      "documents_categories.csv.zip  page_views_sample.csv.zip\r\n",
      "documents_entities.csv.zip    promoted_content.csv.zip\r\n",
      "documents_meta.csv.zip\t      sample_submission.csv.zip\r\n",
      "documents_topics.csv.zip\r\n"
     ]
    }
   ],
   "source": [
    "!ls"
   ]
  },
  {
   "cell_type": "code",
   "execution_count": null,
   "id": "44988b40",
   "metadata": {},
   "outputs": [],
   "source": [
    "!sudo apt-get install zip unzip"
   ]
  },
  {
   "cell_type": "code",
   "execution_count": 55,
   "id": "50e8f5dc",
   "metadata": {
    "ExecuteTime": {
     "end_time": "2022-03-16T12:12:00.793882Z",
     "start_time": "2022-03-16T12:12:00.783902Z"
    }
   },
   "outputs": [
    {
     "name": "stdout",
     "output_type": "stream",
     "text": [
      "Archive:  clicks_test.csv.zip\n",
      "  inflating: clicks_test.csv         \n",
      "Archive:  clicks_train.csv.zip\n",
      "  inflating: clicks_train.csv        \n",
      "Archive:  documents_categories.csv.zip\n",
      "  inflating: documents_categories.csv  \n",
      "Archive:  documents_entities.csv.zip\n",
      "  inflating: documents_entities.csv  \n",
      "Archive:  documents_meta.csv.zip\n",
      "  inflating: documents_meta.csv      \n",
      "Archive:  documents_topics.csv.zip\n",
      "  inflating: documents_topics.csv    \n",
      "Archive:  events.csv.zip\n",
      "  inflating: events.csv              \n",
      "Archive:  page_views.csv.zip\n",
      "  inflating: page_views.csv          \n",
      "Archive:  page_views_sample.csv.zip\n",
      "  inflating: page_views_sample.csv   \n",
      "Archive:  promoted_content.csv.zip\n",
      "  inflating: promoted_content.csv    \n",
      "Archive:  sample_submission.csv.zip\n",
      "  inflating: sample_submission.csv   \n"
     ]
    }
   ],
   "source": [
    "!unzip clicks_test.csv.zip \n",
    "!unzip clicks_train.csv.zip\n",
    "!unzip documents_categories.csv.zip\n",
    "!unzip documents_entities.csv.zip\n",
    "!unzip documents_meta.csv.zip\n",
    "!unzip documents_topics.csv.zip\n",
    "!unzip events.csv.zip\n",
    "!unzip page_views.csv.zip\n",
    "!unzip page_views_sample.csv.zip\n",
    "!unzip promoted_content.csv.zip\n",
    "!unzip sample_submission.csv.zip"
   ]
  },
  {
   "cell_type": "code",
   "execution_count": 58,
   "id": "2e0080ad",
   "metadata": {},
   "outputs": [
    {
     "name": "stdout",
     "output_type": "stream",
     "text": [
      "clicks_test.csv\t\t  documents_meta.csv\tpage_views_sample.csv\r\n",
      "clicks_train.csv\t  documents_topics.csv\tpromoted_content.csv\r\n",
      "documents_categories.csv  events.csv\t\tsample_submission.csv\r\n",
      "documents_entities.csv\t  page_views.csv\r\n"
     ]
    }
   ],
   "source": [
    "!ls"
   ]
  },
  {
   "cell_type": "code",
   "execution_count": 56,
   "id": "a495cd80",
   "metadata": {},
   "outputs": [
    {
     "name": "stdout",
     "output_type": "stream",
     "text": [
      "./clicks_train.csv.zip\r\n",
      "./documents_meta.csv.zip\r\n",
      "./page_views.csv.zip\r\n",
      "./documents_entities.csv.zip\r\n",
      "./page_views_sample.csv.zip\r\n",
      "./clicks_test.csv.zip\r\n",
      "./documents_categories.csv.zip\r\n",
      "./promoted_content.csv.zip\r\n",
      "./documents_topics.csv.zip\r\n",
      "./sample_submission.csv.zip\r\n",
      "./events.csv.zip\r\n"
     ]
    }
   ],
   "source": [
    "!find . -name \"*.zip\" -type f"
   ]
  },
  {
   "cell_type": "code",
   "execution_count": 57,
   "id": "f30c825f",
   "metadata": {},
   "outputs": [],
   "source": [
    "!find . -name \"*.zip\" -type f -delete"
   ]
  },
  {
   "cell_type": "code",
   "execution_count": 59,
   "id": "357394cb",
   "metadata": {},
   "outputs": [],
   "source": [
    "!hdfs dfs -mkdir -p /user/outbrain/data"
   ]
  },
  {
   "cell_type": "code",
   "execution_count": 60,
   "id": "9e181c39",
   "metadata": {},
   "outputs": [],
   "source": [
    "!hdfs dfs -put clicks_test.csv  /user/outbrain/data\n",
    "!hdfs dfs -put clicks_train.csv /user/outbrain/data\n",
    "!hdfs dfs -put documents_categories.csv /user/outbrain/data\n",
    "!hdfs dfs -put documents_entities.csv /user/outbrain/data\n",
    "!hdfs dfs -put documents_meta.csv /user/outbrain/data\n",
    "!hdfs dfs -put documents_topics.csv /user/outbrain/data\n",
    "!hdfs dfs -put events.csv /user/outbrain/data\n",
    "!hdfs dfs -put page_views.csv /user/outbrain/data\n",
    "!hdfs dfs -put page_views_sample.csv /user/outbrain/data\n",
    "!hdfs dfs -put promoted_content.csv /user/outbrain/data\n",
    "!hdfs dfs -put sample_submission.csv /user/outbrain/data"
   ]
  },
  {
   "cell_type": "code",
   "execution_count": 65,
   "id": "1ed155a8",
   "metadata": {},
   "outputs": [],
   "source": [
    "!sudo chmod 777 -R /usr/lib/hadoop/"
   ]
  },
  {
   "cell_type": "code",
   "execution_count": 66,
   "id": "9c869790",
   "metadata": {},
   "outputs": [
    {
     "name": "stdout",
     "output_type": "stream",
     "text": [
      "2022-03-17 22:03:45,484 INFO balancer.Balancer: namenodes  = [hdfs://rc1a-dataproc-m-5qpakob61ma7t4ug.mdb.yandexcloud.net:8020]\n",
      "2022-03-17 22:03:45,488 INFO balancer.Balancer: parameters = Balancer.BalancerParameters [BalancingPolicy.Node, threshold = 10.0, max idle iteration = 5, #excluded nodes = 0, #included nodes = 0, #source nodes = 0, #blockpools = 0, run during upgrade = false]\n",
      "2022-03-17 22:03:45,488 INFO balancer.Balancer: included nodes = []\n",
      "2022-03-17 22:03:45,488 INFO balancer.Balancer: excluded nodes = []\n",
      "2022-03-17 22:03:45,489 INFO balancer.Balancer: source nodes = []\n",
      "Time Stamp               Iteration#  Bytes Already Moved  Bytes Left To Move  Bytes Being Moved  NameNode\n",
      "2022-03-17 22:03:45,492 INFO balancer.NameNodeConnector: getBlocks calls for hdfs://rc1a-dataproc-m-5qpakob61ma7t4ug.mdb.yandexcloud.net:8020 will be rate-limited to 20 per second\n",
      "2022-03-17 22:03:46,454 INFO balancer.Balancer: dfs.namenode.get-blocks.max-qps = 20 (default=20)\n",
      "2022-03-17 22:03:46,454 INFO balancer.Balancer: dfs.balancer.movedWinWidth = 5400000 (default=5400000)\n",
      "2022-03-17 22:03:46,454 INFO balancer.Balancer: dfs.balancer.moverThreads = 1000 (default=1000)\n",
      "2022-03-17 22:03:46,454 INFO balancer.Balancer: dfs.balancer.dispatcherThreads = 200 (default=200)\n",
      "2022-03-17 22:03:46,454 INFO balancer.Balancer: dfs.balancer.getBlocks.size = 2147483648 (default=2147483648)\n",
      "2022-03-17 22:03:46,455 INFO balancer.Balancer: dfs.balancer.getBlocks.min-block-size = 10485760 (default=10485760)\n",
      "2022-03-17 22:03:46,455 INFO balancer.Balancer: dfs.datanode.balance.max.concurrent.moves = 50 (default=50)\n",
      "2022-03-17 22:03:46,455 INFO balancer.Balancer: dfs.datanode.balance.bandwidthPerSec = 10485760 (default=10485760)\n",
      "2022-03-17 22:03:46,467 INFO balancer.Balancer: dfs.balancer.max-size-to-move = 10737418240 (default=10737418240)\n",
      "2022-03-17 22:03:46,467 INFO balancer.Balancer: dfs.blocksize = 268435456 (default=134217728)\n",
      "2022-03-17 22:03:46,507 INFO net.NetworkTopology: Adding a new node: /default-rack/10.128.0.37:9866\n",
      "2022-03-17 22:03:46,507 INFO net.NetworkTopology: Adding a new node: /default-rack/10.128.0.17:9866\n",
      "2022-03-17 22:03:46,510 INFO balancer.Balancer: 0 over-utilized: []\n",
      "2022-03-17 22:03:46,510 INFO balancer.Balancer: 0 underutilized: []\n",
      "The cluster is balanced. Exiting...\n",
      "Mar 17, 2022 10:03:46 PM          0                  0 B                 0 B                0 B  hdfs://rc1a-dataproc-m-5qpakob61ma7t4ug.mdb.yandexcloud.net:8020\n",
      "Mar 17, 2022 10:03:46 PM Balancing took 1.214 seconds\n"
     ]
    }
   ],
   "source": [
    "! sudo -u hdfs hdfs balancer "
   ]
  },
  {
   "cell_type": "code",
   "execution_count": 68,
   "id": "3e8b6d7c",
   "metadata": {},
   "outputs": [
    {
     "name": "stdout",
     "output_type": "stream",
     "text": [
      "Collecting findspark\n",
      "  Downloading findspark-2.0.1-py2.py3-none-any.whl (4.4 kB)\n",
      "Installing collected packages: findspark\n",
      "Successfully installed findspark-2.0.1\n"
     ]
    }
   ],
   "source": [
    "!pip install findspark"
   ]
  },
  {
   "cell_type": "code",
   "execution_count": 78,
   "id": "ecc78ddf",
   "metadata": {},
   "outputs": [
    {
     "name": "stdout",
     "output_type": "stream",
     "text": [
      "clicks_test.csv\t\t  documents_meta.csv\tpage_views_sample.csv\r\n",
      "clicks_train.csv\t  documents_topics.csv\tpromoted_content.csv\r\n",
      "documents_categories.csv  events.csv\t\tsample_submission.csv\r\n",
      "documents_entities.csv\t  page_views.csv\r\n"
     ]
    }
   ],
   "source": [
    "!ls"
   ]
  },
  {
   "cell_type": "code",
   "execution_count": 1,
   "id": "e1d9b504",
   "metadata": {},
   "outputs": [],
   "source": [
    "import findspark\n",
    "findspark.init()"
   ]
  },
  {
   "cell_type": "code",
   "execution_count": 2,
   "id": "3146d9cf",
   "metadata": {},
   "outputs": [
    {
     "name": "stderr",
     "output_type": "stream",
     "text": [
      "SLF4J: Class path contains multiple SLF4J bindings.\n",
      "SLF4J: Found binding in [jar:file:/usr/lib/spark/jars/slf4j-log4j12-1.7.30.jar!/org/slf4j/impl/StaticLoggerBinder.class]\n",
      "SLF4J: Found binding in [jar:file:/usr/lib/hadoop/lib/slf4j-log4j12-1.7.25.jar!/org/slf4j/impl/StaticLoggerBinder.class]\n",
      "SLF4J: See http://www.slf4j.org/codes.html#multiple_bindings for an explanation.\n",
      "SLF4J: Actual binding is of type [org.slf4j.impl.Log4jLoggerFactory]\n",
      "Setting default log level to \"WARN\".\n",
      "To adjust logging level use sc.setLogLevel(newLevel). For SparkR, use setLogLevel(newLevel).\n",
      "2022-03-27 16:50:39,112 WARN util.Utils: spark.executor.instances less than spark.dynamicAllocation.minExecutors is invalid, ignoring its setting, please update your configs.\n",
      "2022-03-27 16:50:51,088 WARN util.Utils: spark.executor.instances less than spark.dynamicAllocation.minExecutors is invalid, ignoring its setting, please update your configs.\n",
      "2022-03-27 16:50:51,099 WARN cluster.YarnSchedulerBackend$YarnSchedulerEndpoint: Attempted to request executors before the AM has registered!\n"
     ]
    }
   ],
   "source": [
    "import pyspark\n",
    "sc = pyspark.SparkContext(appName=\"lsml-bhw\")"
   ]
  },
  {
   "cell_type": "code",
   "execution_count": 3,
   "id": "c17fcec8",
   "metadata": {},
   "outputs": [],
   "source": [
    "from pyspark.sql import SparkSession, Row\n",
    "se = SparkSession(sc)"
   ]
  },
  {
   "cell_type": "code",
   "execution_count": 83,
   "id": "017d5f2f",
   "metadata": {},
   "outputs": [],
   "source": [
    "clicks_test = se.read.csv(\"/user/outbrain/data/clicks_test.csv\", header=True, inferSchema=True, sep=',')\n",
    "clicks_train = se.read.csv(\"/user/outbrain/data/clicks_train.csv\", header=True, inferSchema=True, sep=',')\n",
    "documents_categories = se.read.csv(\"/user/outbrain/data/documents_categories.csv\", header=True, inferSchema=True, sep=',')\n",
    "documents_entities = se.read.csv(\"/user/outbrain/data/documents_entities.csv\", header=True, inferSchema=True, sep=',')\n",
    "documents_meta = se.read.csv(\"/user/outbrain/data/documents_meta.csv\", header=True, inferSchema=True, sep=',')\n",
    "documents_topics = se.read.csv(\"/user/outbrain/data/documents_topics.csv\", header=True, inferSchema=True, sep=',')\n",
    "events = se.read.csv(\"/user/outbrain/data/events.csv\", header=True, inferSchema=True, sep=',')\n",
    "page_views = se.read.csv(\"/user/outbrain/data/page_views.csv\", header=True, inferSchema=True, sep=',')\n",
    "page_views_sample = se.read.csv(\"/user/outbrain/data/page_views_sample.csv\", header=True, inferSchema=True, sep=',')\n",
    "promoted_content = se.read.csv(\"/user/outbrain/data/promoted_content.csv\", header=True, inferSchema=True, sep=',')\n",
    "sample_submission = se.read.csv(\"/user/outbrain/data/sample_submission.csv\", header=True, inferSchema=True, sep=',')"
   ]
  },
  {
   "cell_type": "code",
   "execution_count": 79,
   "id": "d622383c",
   "metadata": {},
   "outputs": [],
   "source": [
    "! hdfs dfs -mkdir -p /user/outbrain/data/parquet"
   ]
  },
  {
   "cell_type": "code",
   "execution_count": 85,
   "id": "9e736624",
   "metadata": {},
   "outputs": [],
   "source": [
    "clicks_test.write.parquet(\"/user/outbrain/data/parquet/clicks_test.parquet\")\n",
    "clicks_train.write.parquet(\"/user/outbrain/data/parquet/clicks_train.parquet\")\n",
    "documents_categories.write.parquet(\"/user/outbrain/data/parquet/documents_categories.parquet\")\n",
    "documents_entities.write.parquet(\"/user/outbrain/data/parquet/documents_entities.parquet\")\n",
    "documents_meta.write.parquet(\"/user/outbrain/data/parquet/documents_meta.parquet\")\n",
    "documents_topics.write.parquet(\"/user/outbrain/data/parquet/documents_topics.parquet\")\n",
    "events.write.parquet(\"/user/outbrain/data/parquet/events.parquet\")\n",
    "page_views.write.parquet(\"/user/outbrain/data/parquet/page_views.parquet\")\n",
    "page_views_sample.write.parquet(\"/user/outbrain/data/parquet/page_views_sample.parquet\")\n",
    "promoted_content.write.parquet(\"/user/outbrain/data/parquet/promoted_content.parquet\")\n",
    "sample_submission.write.parquet(\"/user/outbrain/data/parquet/sample_submission.parquet\")"
   ]
  },
  {
   "cell_type": "markdown",
   "id": "9a61921f",
   "metadata": {},
   "source": [
    "## Предварительный анализ данных"
   ]
  },
  {
   "cell_type": "code",
   "execution_count": 22,
   "id": "f5141ff3",
   "metadata": {},
   "outputs": [
    {
     "name": "stdout",
     "output_type": "stream",
     "text": [
      " bhw  'Big Homework - start.ipynb'   Untitled.ipynb   Untitled.jpg\r\n"
     ]
    }
   ],
   "source": [
    "!ls"
   ]
  },
  {
   "cell_type": "code",
   "execution_count": 4,
   "id": "26711775",
   "metadata": {},
   "outputs": [],
   "source": [
    "from pyspark.sql import functions as F"
   ]
  },
  {
   "cell_type": "code",
   "execution_count": 5,
   "id": "bf6c9911",
   "metadata": {},
   "outputs": [
    {
     "name": "stderr",
     "output_type": "stream",
     "text": [
      "                                                                                \r"
     ]
    }
   ],
   "source": [
    "clicks_test = se.read.parquet('/user/outbrain/data/parquet/clicks_test.parquet')\n",
    "clicks_train = se.read.parquet('/user/outbrain/data/parquet/clicks_train.parquet')\n",
    "documents_categories = se.read.parquet('/user/outbrain/data/parquet/documents_categories.parquet')\n",
    "documents_entities = se.read.parquet('/user/outbrain/data/parquet/documents_entities.parquet')\n",
    "documents_meta = se.read.parquet('/user/outbrain/data/parquet/documents_meta.parquet')\n",
    "documents_topics = se.read.parquet('/user/outbrain/data/parquet/documents_topics.parquet')\n",
    "events = se.read.parquet('/user/outbrain/data/parquet/events.parquet')\n",
    "page_views = se.read.parquet('/user/outbrain/data/parquet/page_views.parquet')\n",
    "promoted_content = se.read.parquet('/user/outbrain/data/parquet/promoted_content.parquet')\n",
    "sample_submission = se.read.parquet('/user/outbrain/data/parquet/sample_submission.parquet')\n",
    "\n",
    "clicks_test.registerTempTable(\"clicks_test\")\n",
    "clicks_train.registerTempTable(\"clicks_train\")\n",
    "documents_categories.registerTempTable(\"documents_categories\")\n",
    "documents_entities.registerTempTable(\"documents_entities\")\n",
    "documents_meta.registerTempTable(\"documents_meta\")\n",
    "documents_topics.registerTempTable(\"documents_topics\")\n",
    "events.registerTempTable(\"events\")\n",
    "page_views.registerTempTable(\"page_views\")\n",
    "promoted_content.registerTempTable(\"promoted_content\")\n",
    "sample_submission.registerTempTable(\"sample_submission\")"
   ]
  },
  {
   "cell_type": "code",
   "execution_count": 23,
   "id": "258c3baa",
   "metadata": {},
   "outputs": [
    {
     "data": {
      "text/html": [
       "<div>\n",
       "<style scoped>\n",
       "    .dataframe tbody tr th:only-of-type {\n",
       "        vertical-align: middle;\n",
       "    }\n",
       "\n",
       "    .dataframe tbody tr th {\n",
       "        vertical-align: top;\n",
       "    }\n",
       "\n",
       "    .dataframe thead th {\n",
       "        text-align: right;\n",
       "    }\n",
       "</style>\n",
       "<table border=\"1\" class=\"dataframe\">\n",
       "  <thead>\n",
       "    <tr style=\"text-align: right;\">\n",
       "      <th></th>\n",
       "      <th>display_id</th>\n",
       "      <th>ad_id</th>\n",
       "      <th>clicked</th>\n",
       "    </tr>\n",
       "  </thead>\n",
       "  <tbody>\n",
       "    <tr>\n",
       "      <th>0</th>\n",
       "      <td>1</td>\n",
       "      <td>42337</td>\n",
       "      <td>0</td>\n",
       "    </tr>\n",
       "    <tr>\n",
       "      <th>1</th>\n",
       "      <td>1</td>\n",
       "      <td>139684</td>\n",
       "      <td>0</td>\n",
       "    </tr>\n",
       "    <tr>\n",
       "      <th>2</th>\n",
       "      <td>1</td>\n",
       "      <td>144739</td>\n",
       "      <td>1</td>\n",
       "    </tr>\n",
       "    <tr>\n",
       "      <th>3</th>\n",
       "      <td>1</td>\n",
       "      <td>156824</td>\n",
       "      <td>0</td>\n",
       "    </tr>\n",
       "    <tr>\n",
       "      <th>4</th>\n",
       "      <td>1</td>\n",
       "      <td>279295</td>\n",
       "      <td>0</td>\n",
       "    </tr>\n",
       "    <tr>\n",
       "      <th>5</th>\n",
       "      <td>1</td>\n",
       "      <td>296965</td>\n",
       "      <td>0</td>\n",
       "    </tr>\n",
       "    <tr>\n",
       "      <th>6</th>\n",
       "      <td>2</td>\n",
       "      <td>125211</td>\n",
       "      <td>0</td>\n",
       "    </tr>\n",
       "    <tr>\n",
       "      <th>7</th>\n",
       "      <td>2</td>\n",
       "      <td>156535</td>\n",
       "      <td>0</td>\n",
       "    </tr>\n",
       "    <tr>\n",
       "      <th>8</th>\n",
       "      <td>2</td>\n",
       "      <td>169564</td>\n",
       "      <td>0</td>\n",
       "    </tr>\n",
       "    <tr>\n",
       "      <th>9</th>\n",
       "      <td>2</td>\n",
       "      <td>308455</td>\n",
       "      <td>1</td>\n",
       "    </tr>\n",
       "  </tbody>\n",
       "</table>\n",
       "</div>"
      ],
      "text/plain": [
       "   display_id   ad_id  clicked\n",
       "0           1   42337        0\n",
       "1           1  139684        0\n",
       "2           1  144739        1\n",
       "3           1  156824        0\n",
       "4           1  279295        0\n",
       "5           1  296965        0\n",
       "6           2  125211        0\n",
       "7           2  156535        0\n",
       "8           2  169564        0\n",
       "9           2  308455        1"
      ]
     },
     "execution_count": 23,
     "metadata": {},
     "output_type": "execute_result"
    }
   ],
   "source": [
    "se.sql(\"\"\"\n",
    "    SELECT *\n",
    "    FROM clicks_train\n",
    "    LIMIT 10\n",
    "\"\"\").toPandas()"
   ]
  },
  {
   "cell_type": "code",
   "execution_count": 17,
   "id": "609e22b0",
   "metadata": {},
   "outputs": [
    {
     "name": "stdout",
     "output_type": "stream",
     "text": [
      "Количество строчек - 87141731\n",
      "Количество дисплеев - 16874593\n",
      "Количество реклам - 478950\n"
     ]
    }
   ],
   "source": [
    "print('Количество строчек -', clicks_train.count())\n",
    "print('Количество дисплеев -', str(clicks_train.select(F.countDistinct(\"display_id\")).collect()[0][0]))\n",
    "print('Количество реклам -', str(clicks_train.select(F.countDistinct(\"ad_id\")).collect()[0][0]))"
   ]
  },
  {
   "cell_type": "code",
   "execution_count": 87,
   "id": "d0b59750",
   "metadata": {},
   "outputs": [
    {
     "data": {
      "text/html": [
       "<div>\n",
       "<style scoped>\n",
       "    .dataframe tbody tr th:only-of-type {\n",
       "        vertical-align: middle;\n",
       "    }\n",
       "\n",
       "    .dataframe tbody tr th {\n",
       "        vertical-align: top;\n",
       "    }\n",
       "\n",
       "    .dataframe thead th {\n",
       "        text-align: right;\n",
       "    }\n",
       "</style>\n",
       "<table border=\"1\" class=\"dataframe\">\n",
       "  <thead>\n",
       "    <tr style=\"text-align: right;\">\n",
       "      <th></th>\n",
       "      <th>display_id</th>\n",
       "      <th>ad_id</th>\n",
       "    </tr>\n",
       "  </thead>\n",
       "  <tbody>\n",
       "    <tr>\n",
       "      <th>0</th>\n",
       "      <td>16874594</td>\n",
       "      <td>66758</td>\n",
       "    </tr>\n",
       "    <tr>\n",
       "      <th>1</th>\n",
       "      <td>16874594</td>\n",
       "      <td>150083</td>\n",
       "    </tr>\n",
       "    <tr>\n",
       "      <th>2</th>\n",
       "      <td>16874594</td>\n",
       "      <td>162754</td>\n",
       "    </tr>\n",
       "    <tr>\n",
       "      <th>3</th>\n",
       "      <td>16874594</td>\n",
       "      <td>170392</td>\n",
       "    </tr>\n",
       "    <tr>\n",
       "      <th>4</th>\n",
       "      <td>16874594</td>\n",
       "      <td>172888</td>\n",
       "    </tr>\n",
       "    <tr>\n",
       "      <th>5</th>\n",
       "      <td>16874594</td>\n",
       "      <td>180797</td>\n",
       "    </tr>\n",
       "    <tr>\n",
       "      <th>6</th>\n",
       "      <td>16874595</td>\n",
       "      <td>8846</td>\n",
       "    </tr>\n",
       "    <tr>\n",
       "      <th>7</th>\n",
       "      <td>16874595</td>\n",
       "      <td>30609</td>\n",
       "    </tr>\n",
       "    <tr>\n",
       "      <th>8</th>\n",
       "      <td>16874595</td>\n",
       "      <td>143982</td>\n",
       "    </tr>\n",
       "    <tr>\n",
       "      <th>9</th>\n",
       "      <td>16874596</td>\n",
       "      <td>11430</td>\n",
       "    </tr>\n",
       "  </tbody>\n",
       "</table>\n",
       "</div>"
      ],
      "text/plain": [
       "   display_id   ad_id\n",
       "0    16874594   66758\n",
       "1    16874594  150083\n",
       "2    16874594  162754\n",
       "3    16874594  170392\n",
       "4    16874594  172888\n",
       "5    16874594  180797\n",
       "6    16874595    8846\n",
       "7    16874595   30609\n",
       "8    16874595  143982\n",
       "9    16874596   11430"
      ]
     },
     "execution_count": 87,
     "metadata": {},
     "output_type": "execute_result"
    }
   ],
   "source": [
    "se.sql(\"\"\"\n",
    "    SELECT *\n",
    "    FROM clicks_test\n",
    "    LIMIT 10\n",
    "\"\"\").toPandas()"
   ]
  },
  {
   "cell_type": "code",
   "execution_count": 18,
   "id": "e13e9d0f",
   "metadata": {},
   "outputs": [
    {
     "name": "stdout",
     "output_type": "stream",
     "text": [
      "Количество строчек в тесте - 32225162\n",
      "Количество дисплеев в тесте - 6245533\n",
      "Количество реклам в тесте - 381385\n"
     ]
    }
   ],
   "source": [
    "print('Количество строчек в тесте -', clicks_test.count())\n",
    "print('Количество дисплеев в тесте -', str(clicks_test.select(F.countDistinct(\"display_id\")).collect()[0][0]))\n",
    "print('Количество реклам в тесте -', str(clicks_test.select(F.countDistinct(\"ad_id\")).collect()[0][0]))"
   ]
  },
  {
   "cell_type": "code",
   "execution_count": 89,
   "id": "4ecb0b2c",
   "metadata": {},
   "outputs": [
    {
     "data": {
      "text/html": [
       "<div>\n",
       "<style scoped>\n",
       "    .dataframe tbody tr th:only-of-type {\n",
       "        vertical-align: middle;\n",
       "    }\n",
       "\n",
       "    .dataframe tbody tr th {\n",
       "        vertical-align: top;\n",
       "    }\n",
       "\n",
       "    .dataframe thead th {\n",
       "        text-align: right;\n",
       "    }\n",
       "</style>\n",
       "<table border=\"1\" class=\"dataframe\">\n",
       "  <thead>\n",
       "    <tr style=\"text-align: right;\">\n",
       "      <th></th>\n",
       "      <th>document_id</th>\n",
       "      <th>category_id</th>\n",
       "      <th>confidence_level</th>\n",
       "    </tr>\n",
       "  </thead>\n",
       "  <tbody>\n",
       "    <tr>\n",
       "      <th>0</th>\n",
       "      <td>207043</td>\n",
       "      <td>2100</td>\n",
       "      <td>0.042078</td>\n",
       "    </tr>\n",
       "    <tr>\n",
       "      <th>1</th>\n",
       "      <td>220116</td>\n",
       "      <td>1603</td>\n",
       "      <td>0.212542</td>\n",
       "    </tr>\n",
       "    <tr>\n",
       "      <th>2</th>\n",
       "      <td>220116</td>\n",
       "      <td>1602</td>\n",
       "      <td>0.212542</td>\n",
       "    </tr>\n",
       "    <tr>\n",
       "      <th>3</th>\n",
       "      <td>205501</td>\n",
       "      <td>1808</td>\n",
       "      <td>0.284978</td>\n",
       "    </tr>\n",
       "    <tr>\n",
       "      <th>4</th>\n",
       "      <td>205501</td>\n",
       "      <td>1403</td>\n",
       "      <td>0.021683</td>\n",
       "    </tr>\n",
       "    <tr>\n",
       "      <th>5</th>\n",
       "      <td>203874</td>\n",
       "      <td>1808</td>\n",
       "      <td>0.927000</td>\n",
       "    </tr>\n",
       "    <tr>\n",
       "      <th>6</th>\n",
       "      <td>203874</td>\n",
       "      <td>2100</td>\n",
       "      <td>0.069000</td>\n",
       "    </tr>\n",
       "    <tr>\n",
       "      <th>7</th>\n",
       "      <td>206960</td>\n",
       "      <td>1807</td>\n",
       "      <td>0.645087</td>\n",
       "    </tr>\n",
       "    <tr>\n",
       "      <th>8</th>\n",
       "      <td>206960</td>\n",
       "      <td>1703</td>\n",
       "      <td>0.049083</td>\n",
       "    </tr>\n",
       "    <tr>\n",
       "      <th>9</th>\n",
       "      <td>206624</td>\n",
       "      <td>2100</td>\n",
       "      <td>0.533704</td>\n",
       "    </tr>\n",
       "  </tbody>\n",
       "</table>\n",
       "</div>"
      ],
      "text/plain": [
       "   document_id  category_id  confidence_level\n",
       "0       207043         2100          0.042078\n",
       "1       220116         1603          0.212542\n",
       "2       220116         1602          0.212542\n",
       "3       205501         1808          0.284978\n",
       "4       205501         1403          0.021683\n",
       "5       203874         1808          0.927000\n",
       "6       203874         2100          0.069000\n",
       "7       206960         1807          0.645087\n",
       "8       206960         1703          0.049083\n",
       "9       206624         2100          0.533704"
      ]
     },
     "execution_count": 89,
     "metadata": {},
     "output_type": "execute_result"
    }
   ],
   "source": [
    "se.sql(\"\"\"\n",
    "    SELECT *\n",
    "    FROM documents_categories\n",
    "    LIMIT 10\n",
    "\"\"\").toPandas()"
   ]
  },
  {
   "cell_type": "code",
   "execution_count": 19,
   "id": "30cf65b8",
   "metadata": {},
   "outputs": [
    {
     "name": "stdout",
     "output_type": "stream",
     "text": [
      "Количество пар документ-категория - 5481475\n"
     ]
    }
   ],
   "source": [
    "print('Количество пар документ-категория -', documents_categories.count())"
   ]
  },
  {
   "cell_type": "code",
   "execution_count": 20,
   "id": "86d05657",
   "metadata": {},
   "outputs": [],
   "source": [
    "import pandas as pd"
   ]
  },
  {
   "cell_type": "code",
   "execution_count": 21,
   "id": "cba88b5d",
   "metadata": {},
   "outputs": [
    {
     "data": {
      "text/plain": [
       "<matplotlib.axes._subplots.AxesSubplot at 0x7fc5722ffdc0>"
      ]
     },
     "execution_count": 21,
     "metadata": {},
     "output_type": "execute_result"
    },
    {
     "data": {
      "image/png": "[encoded data removed]",
      "text/plain": [
       "<Figure size 432x288 with 1 Axes>"
      ]
     },
     "metadata": {
      "needs_background": "light"
     },
     "output_type": "display_data"
    }
   ],
   "source": [
    "categories_confidence = documents_categories.select('confidence_level').rdd.flatMap(lambda x: x).histogram(11)\n",
    "\n",
    "pd.DataFrame(\n",
    "            list(zip(*categories_confidence)),\n",
    "            columns=['bin', 'frequency']).set_index('bin').plot(kind='bar')"
   ]
  },
  {
   "cell_type": "code",
   "execution_count": 90,
   "id": "06c0e9df",
   "metadata": {},
   "outputs": [
    {
     "data": {
      "text/html": [
       "<div>\n",
       "<style scoped>\n",
       "    .dataframe tbody tr th:only-of-type {\n",
       "        vertical-align: middle;\n",
       "    }\n",
       "\n",
       "    .dataframe tbody tr th {\n",
       "        vertical-align: top;\n",
       "    }\n",
       "\n",
       "    .dataframe thead th {\n",
       "        text-align: right;\n",
       "    }\n",
       "</style>\n",
       "<table border=\"1\" class=\"dataframe\">\n",
       "  <thead>\n",
       "    <tr style=\"text-align: right;\">\n",
       "      <th></th>\n",
       "      <th>document_id</th>\n",
       "      <th>entity_id</th>\n",
       "      <th>confidence_level</th>\n",
       "    </tr>\n",
       "  </thead>\n",
       "  <tbody>\n",
       "    <tr>\n",
       "      <th>0</th>\n",
       "      <td>1524246</td>\n",
       "      <td>f9eec25663db4cd83183f5c805186f16</td>\n",
       "      <td>0.672865</td>\n",
       "    </tr>\n",
       "    <tr>\n",
       "      <th>1</th>\n",
       "      <td>1524246</td>\n",
       "      <td>55ebcfbdaff1d6f60b3907151f38527a</td>\n",
       "      <td>0.399114</td>\n",
       "    </tr>\n",
       "    <tr>\n",
       "      <th>2</th>\n",
       "      <td>1524246</td>\n",
       "      <td>839907a972930b17b125eb0247898412</td>\n",
       "      <td>0.392096</td>\n",
       "    </tr>\n",
       "    <tr>\n",
       "      <th>3</th>\n",
       "      <td>1524246</td>\n",
       "      <td>04d8f9a1ad48f126d5806a9236872604</td>\n",
       "      <td>0.213996</td>\n",
       "    </tr>\n",
       "    <tr>\n",
       "      <th>4</th>\n",
       "      <td>1617787</td>\n",
       "      <td>612a1d17685a498aff4f036c1ee02c16</td>\n",
       "      <td>0.386193</td>\n",
       "    </tr>\n",
       "    <tr>\n",
       "      <th>5</th>\n",
       "      <td>1617787</td>\n",
       "      <td>fb8c6cb0879e0de876298177eb1d3fcc</td>\n",
       "      <td>0.364116</td>\n",
       "    </tr>\n",
       "    <tr>\n",
       "      <th>6</th>\n",
       "      <td>1617787</td>\n",
       "      <td>793c6a6cf386edb820600d49df045475</td>\n",
       "      <td>0.349168</td>\n",
       "    </tr>\n",
       "    <tr>\n",
       "      <th>7</th>\n",
       "      <td>1617787</td>\n",
       "      <td>b525b84d5ed52a34565b8fb870555abe</td>\n",
       "      <td>0.287005</td>\n",
       "    </tr>\n",
       "    <tr>\n",
       "      <th>8</th>\n",
       "      <td>1617787</td>\n",
       "      <td>758cb9cb3014607cb4a691cbd485cc94</td>\n",
       "      <td>0.237957</td>\n",
       "    </tr>\n",
       "    <tr>\n",
       "      <th>9</th>\n",
       "      <td>1617787</td>\n",
       "      <td>d523aaba6d3916f8b7039fcce0f29639</td>\n",
       "      <td>0.235799</td>\n",
       "    </tr>\n",
       "  </tbody>\n",
       "</table>\n",
       "</div>"
      ],
      "text/plain": [
       "   document_id                         entity_id  confidence_level\n",
       "0      1524246  f9eec25663db4cd83183f5c805186f16          0.672865\n",
       "1      1524246  55ebcfbdaff1d6f60b3907151f38527a          0.399114\n",
       "2      1524246  839907a972930b17b125eb0247898412          0.392096\n",
       "3      1524246  04d8f9a1ad48f126d5806a9236872604          0.213996\n",
       "4      1617787  612a1d17685a498aff4f036c1ee02c16          0.386193\n",
       "5      1617787  fb8c6cb0879e0de876298177eb1d3fcc          0.364116\n",
       "6      1617787  793c6a6cf386edb820600d49df045475          0.349168\n",
       "7      1617787  b525b84d5ed52a34565b8fb870555abe          0.287005\n",
       "8      1617787  758cb9cb3014607cb4a691cbd485cc94          0.237957\n",
       "9      1617787  d523aaba6d3916f8b7039fcce0f29639          0.235799"
      ]
     },
     "execution_count": 90,
     "metadata": {},
     "output_type": "execute_result"
    }
   ],
   "source": [
    "se.sql(\"\"\"\n",
    "    SELECT *\n",
    "    FROM documents_entities\n",
    "    LIMIT 10\n",
    "\"\"\").toPandas()"
   ]
  },
  {
   "cell_type": "code",
   "execution_count": 97,
   "id": "ee349008",
   "metadata": {},
   "outputs": [
    {
     "data": {
      "text/html": [
       "<div>\n",
       "<style scoped>\n",
       "    .dataframe tbody tr th:only-of-type {\n",
       "        vertical-align: middle;\n",
       "    }\n",
       "\n",
       "    .dataframe tbody tr th {\n",
       "        vertical-align: top;\n",
       "    }\n",
       "\n",
       "    .dataframe thead th {\n",
       "        text-align: right;\n",
       "    }\n",
       "</style>\n",
       "<table border=\"1\" class=\"dataframe\">\n",
       "  <thead>\n",
       "    <tr style=\"text-align: right;\">\n",
       "      <th></th>\n",
       "      <th>document_id</th>\n",
       "      <th>source_id</th>\n",
       "      <th>publisher_id</th>\n",
       "      <th>publish_time</th>\n",
       "    </tr>\n",
       "  </thead>\n",
       "  <tbody>\n",
       "    <tr>\n",
       "      <th>0</th>\n",
       "      <td>620150</td>\n",
       "      <td>722</td>\n",
       "      <td>925</td>\n",
       "      <td>2013-01-26 00:00:00</td>\n",
       "    </tr>\n",
       "    <tr>\n",
       "      <th>1</th>\n",
       "      <td>623792</td>\n",
       "      <td>722</td>\n",
       "      <td>925</td>\n",
       "      <td>2001-09-15 00:00:00</td>\n",
       "    </tr>\n",
       "    <tr>\n",
       "      <th>2</th>\n",
       "      <td>623977</td>\n",
       "      <td>722</td>\n",
       "      <td>925</td>\n",
       "      <td>2002-05-15 00:00:00</td>\n",
       "    </tr>\n",
       "    <tr>\n",
       "      <th>3</th>\n",
       "      <td>624657</td>\n",
       "      <td>722</td>\n",
       "      <td>925</td>\n",
       "      <td>2009-10-15 00:00:00</td>\n",
       "    </tr>\n",
       "    <tr>\n",
       "      <th>4</th>\n",
       "      <td>624667</td>\n",
       "      <td>722</td>\n",
       "      <td>925</td>\n",
       "      <td>2009-10-15 00:00:00</td>\n",
       "    </tr>\n",
       "    <tr>\n",
       "      <th>5</th>\n",
       "      <td>624722</td>\n",
       "      <td>722</td>\n",
       "      <td>925</td>\n",
       "      <td>2009-10-15 00:00:00</td>\n",
       "    </tr>\n",
       "    <tr>\n",
       "      <th>6</th>\n",
       "      <td>624743</td>\n",
       "      <td>722</td>\n",
       "      <td>925</td>\n",
       "      <td>2009-10-15 00:00:00</td>\n",
       "    </tr>\n",
       "    <tr>\n",
       "      <th>7</th>\n",
       "      <td>624777</td>\n",
       "      <td>722</td>\n",
       "      <td>925</td>\n",
       "      <td>2009-03-15 00:00:00</td>\n",
       "    </tr>\n",
       "    <tr>\n",
       "      <th>8</th>\n",
       "      <td>624791</td>\n",
       "      <td>722</td>\n",
       "      <td>925</td>\n",
       "      <td>2002-05-15 00:00:00</td>\n",
       "    </tr>\n",
       "    <tr>\n",
       "      <th>9</th>\n",
       "      <td>625257</td>\n",
       "      <td>722</td>\n",
       "      <td>925</td>\n",
       "      <td>2009-10-15 00:00:00</td>\n",
       "    </tr>\n",
       "  </tbody>\n",
       "</table>\n",
       "</div>"
      ],
      "text/plain": [
       "   document_id  source_id  publisher_id         publish_time\n",
       "0       620150        722           925  2013-01-26 00:00:00\n",
       "1       623792        722           925  2001-09-15 00:00:00\n",
       "2       623977        722           925  2002-05-15 00:00:00\n",
       "3       624657        722           925  2009-10-15 00:00:00\n",
       "4       624667        722           925  2009-10-15 00:00:00\n",
       "5       624722        722           925  2009-10-15 00:00:00\n",
       "6       624743        722           925  2009-10-15 00:00:00\n",
       "7       624777        722           925  2009-03-15 00:00:00\n",
       "8       624791        722           925  2002-05-15 00:00:00\n",
       "9       625257        722           925  2009-10-15 00:00:00"
      ]
     },
     "execution_count": 97,
     "metadata": {},
     "output_type": "execute_result"
    }
   ],
   "source": [
    "# documents_meta\n",
    "se.sql(\"\"\"\n",
    "    SELECT *\n",
    "    FROM documents_meta\n",
    "    WHERE publish_time IS NOT NULL\n",
    "    LIMIT 10\n",
    "\"\"\").toPandas()"
   ]
  },
  {
   "cell_type": "code",
   "execution_count": 6,
   "id": "519fbe6f",
   "metadata": {},
   "outputs": [
    {
     "name": "stdout",
     "output_type": "stream",
     "text": [
      "+-----------+---------+------------+------------+\n",
      "|document_id|source_id|publisher_id|publish_year|\n",
      "+-----------+---------+------------+------------+\n",
      "|     614868|      722|         925|        null|\n",
      "|     614869|      722|         925|        null|\n",
      "|     614870|      722|         925|        null|\n",
      "|     614871|      722|         925|        null|\n",
      "|     614872|      722|         925|        null|\n",
      "|     614873|      722|         925|        null|\n",
      "|     614874|      722|         925|        null|\n",
      "|     614875|      722|         925|        null|\n",
      "|     614876|      722|         925|        null|\n",
      "|     614877|      722|         925|        null|\n",
      "|     614879|      722|         925|        null|\n",
      "|     614880|      722|         925|        null|\n",
      "|     614881|      722|         925|        null|\n",
      "|     614882|      722|         925|        null|\n",
      "|     614883|      722|         925|        null|\n",
      "|     614885|      722|         925|        null|\n",
      "|     614886|      722|         925|        null|\n",
      "|     614887|      722|         925|        null|\n",
      "|     614888|      722|         925|        null|\n",
      "|     614890|      722|         925|        null|\n",
      "+-----------+---------+------------+------------+\n",
      "only showing top 20 rows\n",
      "\n",
      "CPU times: user 6.66 ms, sys: 0 ns, total: 6.66 ms\n",
      "Wall time: 2.66 s\n"
     ]
    }
   ],
   "source": [
    "%%time\n",
    "split_col = F.split(F.substring(documents_meta.publish_time, 1, 10), '-')\n",
    "documents_meta = documents_meta.withColumn('publish_year', split_col.getItem(0)) \\\n",
    "       .drop(documents_meta.publish_time)\n",
    "documents_meta.show()\n",
    "documents_meta.registerTempTable(\"documents_meta\")"
   ]
  },
  {
   "cell_type": "code",
   "execution_count": 145,
   "id": "bfda74d2",
   "metadata": {},
   "outputs": [
    {
     "data": {
      "text/html": [
       "<div>\n",
       "<style scoped>\n",
       "    .dataframe tbody tr th:only-of-type {\n",
       "        vertical-align: middle;\n",
       "    }\n",
       "\n",
       "    .dataframe tbody tr th {\n",
       "        vertical-align: top;\n",
       "    }\n",
       "\n",
       "    .dataframe thead th {\n",
       "        text-align: right;\n",
       "    }\n",
       "</style>\n",
       "<table border=\"1\" class=\"dataframe\">\n",
       "  <thead>\n",
       "    <tr style=\"text-align: right;\">\n",
       "      <th></th>\n",
       "      <th>document_id</th>\n",
       "      <th>source_id</th>\n",
       "      <th>publisher_id</th>\n",
       "      <th>publish_year</th>\n",
       "      <th>publish_month</th>\n",
       "      <th>publish_day</th>\n",
       "    </tr>\n",
       "  </thead>\n",
       "  <tbody>\n",
       "    <tr>\n",
       "      <th>0</th>\n",
       "      <td>620150</td>\n",
       "      <td>722</td>\n",
       "      <td>925</td>\n",
       "      <td>2013</td>\n",
       "      <td>01</td>\n",
       "      <td>26</td>\n",
       "    </tr>\n",
       "    <tr>\n",
       "      <th>1</th>\n",
       "      <td>623792</td>\n",
       "      <td>722</td>\n",
       "      <td>925</td>\n",
       "      <td>2001</td>\n",
       "      <td>09</td>\n",
       "      <td>15</td>\n",
       "    </tr>\n",
       "    <tr>\n",
       "      <th>2</th>\n",
       "      <td>623977</td>\n",
       "      <td>722</td>\n",
       "      <td>925</td>\n",
       "      <td>2002</td>\n",
       "      <td>05</td>\n",
       "      <td>15</td>\n",
       "    </tr>\n",
       "    <tr>\n",
       "      <th>3</th>\n",
       "      <td>624657</td>\n",
       "      <td>722</td>\n",
       "      <td>925</td>\n",
       "      <td>2009</td>\n",
       "      <td>10</td>\n",
       "      <td>15</td>\n",
       "    </tr>\n",
       "    <tr>\n",
       "      <th>4</th>\n",
       "      <td>624667</td>\n",
       "      <td>722</td>\n",
       "      <td>925</td>\n",
       "      <td>2009</td>\n",
       "      <td>10</td>\n",
       "      <td>15</td>\n",
       "    </tr>\n",
       "    <tr>\n",
       "      <th>5</th>\n",
       "      <td>624722</td>\n",
       "      <td>722</td>\n",
       "      <td>925</td>\n",
       "      <td>2009</td>\n",
       "      <td>10</td>\n",
       "      <td>15</td>\n",
       "    </tr>\n",
       "    <tr>\n",
       "      <th>6</th>\n",
       "      <td>624743</td>\n",
       "      <td>722</td>\n",
       "      <td>925</td>\n",
       "      <td>2009</td>\n",
       "      <td>10</td>\n",
       "      <td>15</td>\n",
       "    </tr>\n",
       "    <tr>\n",
       "      <th>7</th>\n",
       "      <td>624777</td>\n",
       "      <td>722</td>\n",
       "      <td>925</td>\n",
       "      <td>2009</td>\n",
       "      <td>03</td>\n",
       "      <td>15</td>\n",
       "    </tr>\n",
       "    <tr>\n",
       "      <th>8</th>\n",
       "      <td>624791</td>\n",
       "      <td>722</td>\n",
       "      <td>925</td>\n",
       "      <td>2002</td>\n",
       "      <td>05</td>\n",
       "      <td>15</td>\n",
       "    </tr>\n",
       "    <tr>\n",
       "      <th>9</th>\n",
       "      <td>625257</td>\n",
       "      <td>722</td>\n",
       "      <td>925</td>\n",
       "      <td>2009</td>\n",
       "      <td>10</td>\n",
       "      <td>15</td>\n",
       "    </tr>\n",
       "  </tbody>\n",
       "</table>\n",
       "</div>"
      ],
      "text/plain": [
       "   document_id  source_id  publisher_id publish_year publish_month publish_day\n",
       "0       620150        722           925         2013            01          26\n",
       "1       623792        722           925         2001            09          15\n",
       "2       623977        722           925         2002            05          15\n",
       "3       624657        722           925         2009            10          15\n",
       "4       624667        722           925         2009            10          15\n",
       "5       624722        722           925         2009            10          15\n",
       "6       624743        722           925         2009            10          15\n",
       "7       624777        722           925         2009            03          15\n",
       "8       624791        722           925         2002            05          15\n",
       "9       625257        722           925         2009            10          15"
      ]
     },
     "execution_count": 145,
     "metadata": {},
     "output_type": "execute_result"
    }
   ],
   "source": [
    "# documents_meta\n",
    "se.sql(\"\"\"\n",
    "    SELECT *\n",
    "    FROM documents_meta\n",
    "    WHERE publish_year IS NOT NULL\n",
    "    LIMIT 10\n",
    "\"\"\").toPandas()"
   ]
  },
  {
   "cell_type": "code",
   "execution_count": 127,
   "id": "6300923a",
   "metadata": {},
   "outputs": [
    {
     "data": {
      "text/html": [
       "<div>\n",
       "<style scoped>\n",
       "    .dataframe tbody tr th:only-of-type {\n",
       "        vertical-align: middle;\n",
       "    }\n",
       "\n",
       "    .dataframe tbody tr th {\n",
       "        vertical-align: top;\n",
       "    }\n",
       "\n",
       "    .dataframe thead th {\n",
       "        text-align: right;\n",
       "    }\n",
       "</style>\n",
       "<table border=\"1\" class=\"dataframe\">\n",
       "  <thead>\n",
       "    <tr style=\"text-align: right;\">\n",
       "      <th></th>\n",
       "      <th>document_id</th>\n",
       "      <th>topic_id</th>\n",
       "      <th>confidence_level</th>\n",
       "    </tr>\n",
       "  </thead>\n",
       "  <tbody>\n",
       "    <tr>\n",
       "      <th>0</th>\n",
       "      <td>1363957</td>\n",
       "      <td>194</td>\n",
       "      <td>0.071710</td>\n",
       "    </tr>\n",
       "    <tr>\n",
       "      <th>1</th>\n",
       "      <td>1363957</td>\n",
       "      <td>102</td>\n",
       "      <td>0.054414</td>\n",
       "    </tr>\n",
       "    <tr>\n",
       "      <th>2</th>\n",
       "      <td>1363957</td>\n",
       "      <td>290</td>\n",
       "      <td>0.054014</td>\n",
       "    </tr>\n",
       "    <tr>\n",
       "      <th>3</th>\n",
       "      <td>1363957</td>\n",
       "      <td>41</td>\n",
       "      <td>0.038811</td>\n",
       "    </tr>\n",
       "    <tr>\n",
       "      <th>4</th>\n",
       "      <td>1363957</td>\n",
       "      <td>196</td>\n",
       "      <td>0.031833</td>\n",
       "    </tr>\n",
       "    <tr>\n",
       "      <th>5</th>\n",
       "      <td>1363957</td>\n",
       "      <td>202</td>\n",
       "      <td>0.014734</td>\n",
       "    </tr>\n",
       "    <tr>\n",
       "      <th>6</th>\n",
       "      <td>1452655</td>\n",
       "      <td>196</td>\n",
       "      <td>0.106394</td>\n",
       "    </tr>\n",
       "    <tr>\n",
       "      <th>7</th>\n",
       "      <td>1452655</td>\n",
       "      <td>200</td>\n",
       "      <td>0.088584</td>\n",
       "    </tr>\n",
       "    <tr>\n",
       "      <th>8</th>\n",
       "      <td>1452655</td>\n",
       "      <td>290</td>\n",
       "      <td>0.082351</td>\n",
       "    </tr>\n",
       "    <tr>\n",
       "      <th>9</th>\n",
       "      <td>1452655</td>\n",
       "      <td>168</td>\n",
       "      <td>0.051342</td>\n",
       "    </tr>\n",
       "  </tbody>\n",
       "</table>\n",
       "</div>"
      ],
      "text/plain": [
       "   document_id  topic_id  confidence_level\n",
       "0      1363957       194          0.071710\n",
       "1      1363957       102          0.054414\n",
       "2      1363957       290          0.054014\n",
       "3      1363957        41          0.038811\n",
       "4      1363957       196          0.031833\n",
       "5      1363957       202          0.014734\n",
       "6      1452655       196          0.106394\n",
       "7      1452655       200          0.088584\n",
       "8      1452655       290          0.082351\n",
       "9      1452655       168          0.051342"
      ]
     },
     "execution_count": 127,
     "metadata": {},
     "output_type": "execute_result"
    }
   ],
   "source": [
    "# documents_topics\n",
    "se.sql(\"\"\"\n",
    "    SELECT *\n",
    "    FROM documents_topics\n",
    "    LIMIT 10\n",
    "\"\"\").toPandas()"
   ]
  },
  {
   "cell_type": "code",
   "execution_count": 7,
   "id": "1097f9f6",
   "metadata": {},
   "outputs": [
    {
     "name": "stdout",
     "output_type": "stream",
     "text": [
      "+----------+--------------+-----------+---------+--------+-------+-----+----+\n",
      "|display_id|          uuid|document_id|timestamp|platform|country|state|area|\n",
      "+----------+--------------+-----------+---------+--------+-------+-----+----+\n",
      "|         1|cb8c55702adb93|     379743|       61|       3|     US|   SC| 519|\n",
      "|         2|79a85fa78311b9|    1794259|       81|       2|     US|   CA| 807|\n",
      "|         3|822932ce3d8757|    1179111|      182|       2|     US|   MI| 505|\n",
      "|         4|85281d0a49f7ac|    1777797|      234|       2|     US|   WV| 564|\n",
      "|         5|8d0daef4bf5b56|     252458|      338|       2|     SG|   00|null|\n",
      "|         6|7765b4faae4ad4|    1773517|      395|       3|     US|   OH| 510|\n",
      "|         7|2cc3f6457d16da|    1149661|      602|       2|     US|   MT| 762|\n",
      "|         8|166fc654d73c98|    1330329|      638|       2|     US|   PA| 566|\n",
      "|         9|9dddccf70f6067|    1772126|      667|       1|     US|   FL| 528|\n",
      "|        10|b09a0e92aa4d17|     157455|      693|       1|     US| null|null|\n",
      "|        11|602e210c5831e5|    1773230|      710|       3|     US|   IL| 675|\n",
      "|        12|6fa993bd0e0157|     892701|      718|       1|     US|   TX| 612|\n",
      "|        13|7355615832b3af|    1778533|      739|       1|     US|   AZ| 753|\n",
      "|        14|daef797fc210a2|    1759953|      798|       3|     US|   NC| 560|\n",
      "|        15|24c64dc30891c0|    1777136|     1000|       2|     GB| null|null|\n",
      "|        16|30c0ad12b36375|    1727882|     1033|       1|     US|   FL| 561|\n",
      "|        17|c80c06d718ba65|    1667725|     1044|       2|     US|   MI| 540|\n",
      "|        18|eb58e66b4f6bb0|     429183|     1175|       2|     US|   OR| 820|\n",
      "|        19|c419799a427c72|    1155107|     1202|       3|     US|   HI| 744|\n",
      "|        20|650e3b5699738b|    1642724|     1282|       2|     US|   MI| 505|\n",
      "+----------+--------------+-----------+---------+--------+-------+-----+----+\n",
      "only showing top 20 rows\n",
      "\n"
     ]
    }
   ],
   "source": [
    "split_col = F.split(events['geo_location'], '>')\n",
    "events = events.withColumn('country', split_col.getItem(0)) \\\n",
    "       .withColumn('state', split_col.getItem(1)) \\\n",
    "       .withColumn('area', split_col.getItem(2)) \\\n",
    "       .drop(events.geo_location)\n",
    "events.show()"
   ]
  },
  {
   "cell_type": "code",
   "execution_count": 9,
   "id": "19ee0349",
   "metadata": {},
   "outputs": [],
   "source": [
    "events = se.sql(\"\"\"\n",
    "    SELECT display_id, uuid, document_id, platform,\n",
    "    hash(country) as country,\n",
    "    hash(state) as state,\n",
    "    area\n",
    "    FROM events\n",
    "    \"\"\")"
   ]
  },
  {
   "cell_type": "code",
   "execution_count": 10,
   "id": "ffcde2ce",
   "metadata": {},
   "outputs": [],
   "source": [
    "events.registerTempTable(\"events\")"
   ]
  },
  {
   "cell_type": "code",
   "execution_count": 14,
   "id": "9cd02da7",
   "metadata": {},
   "outputs": [
    {
     "data": {
      "text/html": [
       "<div>\n",
       "<style scoped>\n",
       "    .dataframe tbody tr th:only-of-type {\n",
       "        vertical-align: middle;\n",
       "    }\n",
       "\n",
       "    .dataframe tbody tr th {\n",
       "        vertical-align: top;\n",
       "    }\n",
       "\n",
       "    .dataframe thead th {\n",
       "        text-align: right;\n",
       "    }\n",
       "</style>\n",
       "<table border=\"1\" class=\"dataframe\">\n",
       "  <thead>\n",
       "    <tr style=\"text-align: right;\">\n",
       "      <th></th>\n",
       "      <th>display_id</th>\n",
       "      <th>uuid</th>\n",
       "      <th>document_id</th>\n",
       "      <th>platform</th>\n",
       "      <th>country</th>\n",
       "      <th>state</th>\n",
       "      <th>area</th>\n",
       "    </tr>\n",
       "  </thead>\n",
       "  <tbody>\n",
       "    <tr>\n",
       "      <th>0</th>\n",
       "      <td>1</td>\n",
       "      <td>cb8c55702adb93</td>\n",
       "      <td>379743</td>\n",
       "      <td>3</td>\n",
       "      <td>-1077041708</td>\n",
       "      <td>1448733804</td>\n",
       "      <td>519</td>\n",
       "    </tr>\n",
       "    <tr>\n",
       "      <th>1</th>\n",
       "      <td>2</td>\n",
       "      <td>79a85fa78311b9</td>\n",
       "      <td>1794259</td>\n",
       "      <td>2</td>\n",
       "      <td>-1077041708</td>\n",
       "      <td>1886535265</td>\n",
       "      <td>807</td>\n",
       "    </tr>\n",
       "    <tr>\n",
       "      <th>2</th>\n",
       "      <td>3</td>\n",
       "      <td>822932ce3d8757</td>\n",
       "      <td>1179111</td>\n",
       "      <td>2</td>\n",
       "      <td>-1077041708</td>\n",
       "      <td>1854557654</td>\n",
       "      <td>505</td>\n",
       "    </tr>\n",
       "    <tr>\n",
       "      <th>3</th>\n",
       "      <td>4</td>\n",
       "      <td>85281d0a49f7ac</td>\n",
       "      <td>1777797</td>\n",
       "      <td>2</td>\n",
       "      <td>-1077041708</td>\n",
       "      <td>418063954</td>\n",
       "      <td>564</td>\n",
       "    </tr>\n",
       "    <tr>\n",
       "      <th>4</th>\n",
       "      <td>5</td>\n",
       "      <td>8d0daef4bf5b56</td>\n",
       "      <td>252458</td>\n",
       "      <td>2</td>\n",
       "      <td>-524695278</td>\n",
       "      <td>2030285661</td>\n",
       "      <td>None</td>\n",
       "    </tr>\n",
       "    <tr>\n",
       "      <th>5</th>\n",
       "      <td>6</td>\n",
       "      <td>7765b4faae4ad4</td>\n",
       "      <td>1773517</td>\n",
       "      <td>3</td>\n",
       "      <td>-1077041708</td>\n",
       "      <td>1054775907</td>\n",
       "      <td>510</td>\n",
       "    </tr>\n",
       "    <tr>\n",
       "      <th>6</th>\n",
       "      <td>7</td>\n",
       "      <td>2cc3f6457d16da</td>\n",
       "      <td>1149661</td>\n",
       "      <td>2</td>\n",
       "      <td>-1077041708</td>\n",
       "      <td>-2096415533</td>\n",
       "      <td>762</td>\n",
       "    </tr>\n",
       "    <tr>\n",
       "      <th>7</th>\n",
       "      <td>8</td>\n",
       "      <td>166fc654d73c98</td>\n",
       "      <td>1330329</td>\n",
       "      <td>2</td>\n",
       "      <td>-1077041708</td>\n",
       "      <td>410653915</td>\n",
       "      <td>566</td>\n",
       "    </tr>\n",
       "    <tr>\n",
       "      <th>8</th>\n",
       "      <td>9</td>\n",
       "      <td>9dddccf70f6067</td>\n",
       "      <td>1772126</td>\n",
       "      <td>1</td>\n",
       "      <td>-1077041708</td>\n",
       "      <td>-1832830425</td>\n",
       "      <td>528</td>\n",
       "    </tr>\n",
       "    <tr>\n",
       "      <th>9</th>\n",
       "      <td>10</td>\n",
       "      <td>b09a0e92aa4d17</td>\n",
       "      <td>157455</td>\n",
       "      <td>1</td>\n",
       "      <td>-1077041708</td>\n",
       "      <td>42</td>\n",
       "      <td>None</td>\n",
       "    </tr>\n",
       "  </tbody>\n",
       "</table>\n",
       "</div>"
      ],
      "text/plain": [
       "   display_id            uuid  document_id platform     country       state  \\\n",
       "0           1  cb8c55702adb93       379743        3 -1077041708  1448733804   \n",
       "1           2  79a85fa78311b9      1794259        2 -1077041708  1886535265   \n",
       "2           3  822932ce3d8757      1179111        2 -1077041708  1854557654   \n",
       "3           4  85281d0a49f7ac      1777797        2 -1077041708   418063954   \n",
       "4           5  8d0daef4bf5b56       252458        2  -524695278  2030285661   \n",
       "5           6  7765b4faae4ad4      1773517        3 -1077041708  1054775907   \n",
       "6           7  2cc3f6457d16da      1149661        2 -1077041708 -2096415533   \n",
       "7           8  166fc654d73c98      1330329        2 -1077041708   410653915   \n",
       "8           9  9dddccf70f6067      1772126        1 -1077041708 -1832830425   \n",
       "9          10  b09a0e92aa4d17       157455        1 -1077041708          42   \n",
       "\n",
       "   area  \n",
       "0   519  \n",
       "1   807  \n",
       "2   505  \n",
       "3   564  \n",
       "4  None  \n",
       "5   510  \n",
       "6   762  \n",
       "7   566  \n",
       "8   528  \n",
       "9  None  "
      ]
     },
     "execution_count": 14,
     "metadata": {},
     "output_type": "execute_result"
    }
   ],
   "source": [
    "# events\n",
    "se.sql(\"\"\"\n",
    "    SELECT *\n",
    "    FROM events\n",
    "    LIMIT 10\n",
    "\"\"\").toPandas()"
   ]
  },
  {
   "cell_type": "code",
   "execution_count": 11,
   "id": "b245470f",
   "metadata": {},
   "outputs": [
    {
     "name": "stdout",
     "output_type": "stream",
     "text": [
      "+--------------+-----------+---------+--------+--------------+-------+-----+----+\n",
      "|          uuid|document_id|timestamp|platform|traffic_source|country|state|area|\n",
      "+--------------+-----------+---------+--------+--------------+-------+-----+----+\n",
      "|68fb8eb72c49c4|    1201414| 63621328|       3|             2|     GB|   F8|null|\n",
      "|a88f8816ca5830|    1201414| 84129394|       2|             1|     US|   GA| 524|\n",
      "|fe8feabea9f4dc|    1201414| 18200114|       2|             1|     PK|   04|null|\n",
      "|23dd0b38da6247|    1201414| 47379374|       2|             2|     NP|   00|null|\n",
      "|cb7d81b02f4c1b|    1201414| 33703433|       1|             1|     GB|   G5|null|\n",
      "|ea22c4ad6bbeca|    1201414| 59265600|       3|             2|     GB|   H8|null|\n",
      "|cb5d44b9a021f2|    1201414| 77977381|       2|             2|     US|   TX| 625|\n",
      "|2b543e55a6b5c3|    1201414| 72045760|       3|             1|     US|   FL| 528|\n",
      "|7fe78227bbba60|    1201414| 80636557|       2|             2|     IN|   25|null|\n",
      "|3ab2db024b9933|    1201414| 56230624|       3|             2|     CZ|   52|null|\n",
      "|3e299e20d28c5b|    1201414| 63796646|       1|             2|     GB|   V2|null|\n",
      "|1393e124e67e75|    1201414| 76846944|       2|             1|     IN|   36|null|\n",
      "|6ca2a10fac58df|    1201414|    20529|       2|             1|     US|   GA| 524|\n",
      "|7f3e5cc0166ad7|    1201414| 11086453|       2|             1|     PH|   F2|null|\n",
      "|f254a2ffc39f8e|    1201414| 10510506|       2|             1|     CA|   BC|null|\n",
      "|d059e780ce2f16|    1201414| 73670831|       2|             1|     US| null|null|\n",
      "|259d6c6719ce7e|    1201414| 47404034|       2|             2|     US|   NJ| 504|\n",
      "|3926b065b6de5d|    1201414|  6946932|       2|             2|     IN|   34|null|\n",
      "|1920ba4ac8e16c|    1201414| 82857185|       2|             1|     US|   ID| 757|\n",
      "|cbdcca6f5af78f|    1201414| 67441992|       2|             1|     US|   AZ|null|\n",
      "+--------------+-----------+---------+--------+--------------+-------+-----+----+\n",
      "only showing top 20 rows\n",
      "\n"
     ]
    }
   ],
   "source": [
    "split_col = F.split(page_views['geo_location'], '>')\n",
    "page_views = page_views.withColumn('country', split_col.getItem(0)) \\\n",
    "       .withColumn('state', split_col.getItem(1)) \\\n",
    "       .withColumn('area', split_col.getItem(2)) \\\n",
    "       .drop(page_views.geo_location)\n",
    "page_views.show()\n",
    "page_views.registerTempTable(\"page_views\")"
   ]
  },
  {
   "cell_type": "code",
   "execution_count": 19,
   "id": "65fa3cf9",
   "metadata": {},
   "outputs": [
    {
     "data": {
      "text/html": [
       "<div>\n",
       "<style scoped>\n",
       "    .dataframe tbody tr th:only-of-type {\n",
       "        vertical-align: middle;\n",
       "    }\n",
       "\n",
       "    .dataframe tbody tr th {\n",
       "        vertical-align: top;\n",
       "    }\n",
       "\n",
       "    .dataframe thead th {\n",
       "        text-align: right;\n",
       "    }\n",
       "</style>\n",
       "<table border=\"1\" class=\"dataframe\">\n",
       "  <thead>\n",
       "    <tr style=\"text-align: right;\">\n",
       "      <th></th>\n",
       "      <th>uuid</th>\n",
       "      <th>document_id</th>\n",
       "      <th>count(timestamp)</th>\n",
       "      <th>min(timestamp)</th>\n",
       "      <th>max(timestamp)</th>\n",
       "      <th>mean(timestamp)</th>\n",
       "    </tr>\n",
       "  </thead>\n",
       "  <tbody>\n",
       "    <tr>\n",
       "      <th>0</th>\n",
       "      <td>de23616b89b0be</td>\n",
       "      <td>448345</td>\n",
       "      <td>15</td>\n",
       "      <td>31185862</td>\n",
       "      <td>1240298545</td>\n",
       "      <td>6.365275e+08</td>\n",
       "    </tr>\n",
       "    <tr>\n",
       "      <th>1</th>\n",
       "      <td>b550c142306268</td>\n",
       "      <td>448345</td>\n",
       "      <td>15</td>\n",
       "      <td>30175607</td>\n",
       "      <td>1246494108</td>\n",
       "      <td>6.411534e+08</td>\n",
       "    </tr>\n",
       "    <tr>\n",
       "      <th>2</th>\n",
       "      <td>8efc158c14e834</td>\n",
       "      <td>448345</td>\n",
       "      <td>15</td>\n",
       "      <td>13975206</td>\n",
       "      <td>1227026351</td>\n",
       "      <td>6.241406e+08</td>\n",
       "    </tr>\n",
       "    <tr>\n",
       "      <th>3</th>\n",
       "      <td>4f0b0731bf5e6c</td>\n",
       "      <td>448345</td>\n",
       "      <td>15</td>\n",
       "      <td>32599899</td>\n",
       "      <td>1239896815</td>\n",
       "      <td>6.393809e+08</td>\n",
       "    </tr>\n",
       "    <tr>\n",
       "      <th>4</th>\n",
       "      <td>53a1cb33df216a</td>\n",
       "      <td>448345</td>\n",
       "      <td>15</td>\n",
       "      <td>60504394</td>\n",
       "      <td>1263133532</td>\n",
       "      <td>6.594406e+08</td>\n",
       "    </tr>\n",
       "    <tr>\n",
       "      <th>5</th>\n",
       "      <td>c180b70eb5993d</td>\n",
       "      <td>448345</td>\n",
       "      <td>15</td>\n",
       "      <td>47962536</td>\n",
       "      <td>1255102452</td>\n",
       "      <td>6.478484e+08</td>\n",
       "    </tr>\n",
       "    <tr>\n",
       "      <th>6</th>\n",
       "      <td>380e532372aef5</td>\n",
       "      <td>448345</td>\n",
       "      <td>15</td>\n",
       "      <td>42564366</td>\n",
       "      <td>1255859313</td>\n",
       "      <td>6.520817e+08</td>\n",
       "    </tr>\n",
       "    <tr>\n",
       "      <th>7</th>\n",
       "      <td>602b3f4c78d29e</td>\n",
       "      <td>448345</td>\n",
       "      <td>15</td>\n",
       "      <td>75427768</td>\n",
       "      <td>1283479267</td>\n",
       "      <td>6.810942e+08</td>\n",
       "    </tr>\n",
       "    <tr>\n",
       "      <th>8</th>\n",
       "      <td>f719a2661ae16b</td>\n",
       "      <td>615200</td>\n",
       "      <td>15</td>\n",
       "      <td>45754178</td>\n",
       "      <td>1258738661</td>\n",
       "      <td>6.560161e+08</td>\n",
       "    </tr>\n",
       "    <tr>\n",
       "      <th>9</th>\n",
       "      <td>43a9f6266942f7</td>\n",
       "      <td>266255</td>\n",
       "      <td>15</td>\n",
       "      <td>36549303</td>\n",
       "      <td>1235107553</td>\n",
       "      <td>6.417342e+08</td>\n",
       "    </tr>\n",
       "  </tbody>\n",
       "</table>\n",
       "</div>"
      ],
      "text/plain": [
       "             uuid  document_id  count(timestamp)  min(timestamp)  \\\n",
       "0  de23616b89b0be       448345                15        31185862   \n",
       "1  b550c142306268       448345                15        30175607   \n",
       "2  8efc158c14e834       448345                15        13975206   \n",
       "3  4f0b0731bf5e6c       448345                15        32599899   \n",
       "4  53a1cb33df216a       448345                15        60504394   \n",
       "5  c180b70eb5993d       448345                15        47962536   \n",
       "6  380e532372aef5       448345                15        42564366   \n",
       "7  602b3f4c78d29e       448345                15        75427768   \n",
       "8  f719a2661ae16b       615200                15        45754178   \n",
       "9  43a9f6266942f7       266255                15        36549303   \n",
       "\n",
       "   max(timestamp)  mean(timestamp)  \n",
       "0      1240298545     6.365275e+08  \n",
       "1      1246494108     6.411534e+08  \n",
       "2      1227026351     6.241406e+08  \n",
       "3      1239896815     6.393809e+08  \n",
       "4      1263133532     6.594406e+08  \n",
       "5      1255102452     6.478484e+08  \n",
       "6      1255859313     6.520817e+08  \n",
       "7      1283479267     6.810942e+08  \n",
       "8      1258738661     6.560161e+08  \n",
       "9      1235107553     6.417342e+08  "
      ]
     },
     "execution_count": 19,
     "metadata": {},
     "output_type": "execute_result"
    }
   ],
   "source": [
    "# page_views\n",
    "se.sql(\"\"\"\n",
    "    SELECT uuid, document_id, count(timestamp), min(timestamp), max(timestamp), mean(timestamp)\n",
    "    FROM page_views\n",
    "    GROUP BY uuid, document_id\n",
    "    ORDER BY count(timestamp) DESC\n",
    "    LIMIT 10\n",
    "\"\"\").toPandas()"
   ]
  },
  {
   "cell_type": "markdown",
   "id": "efd6329c",
   "metadata": {},
   "source": [
    "Выцепим из page_views 3 фичи таймстемпов - количство входов в документ со стороны уникального пользователя, разница между первым и последним входом, среднее время входа\n",
    "\n",
    "Мне кажется, что эти фичи не являются ликом, описанным в приложенной к заданию страничке, поскольку количество входов и остальные значения в целом предопределены, и я не буду пытаться вывести ликовые таймстемпы из словаря таймстемпов, как это сделано в leakage_solution.ipynb"
   ]
  },
  {
   "cell_type": "code",
   "execution_count": 12,
   "id": "a977d7df",
   "metadata": {},
   "outputs": [],
   "source": [
    "se.sql(\"\"\"\n",
    "    SELECT uuid, document_id, count(timestamp) as timestamp_count, \n",
    "    max(timestamp)-min(timestamp) as timestamp_interval\n",
    "    FROM page_views\n",
    "    GROUP BY uuid, document_id\n",
    "\"\"\").registerTempTable(\"page_views_agg\")"
   ]
  },
  {
   "cell_type": "code",
   "execution_count": 101,
   "id": "07aa18f7",
   "metadata": {},
   "outputs": [
    {
     "data": {
      "text/html": [
       "<div>\n",
       "<style scoped>\n",
       "    .dataframe tbody tr th:only-of-type {\n",
       "        vertical-align: middle;\n",
       "    }\n",
       "\n",
       "    .dataframe tbody tr th {\n",
       "        vertical-align: top;\n",
       "    }\n",
       "\n",
       "    .dataframe thead th {\n",
       "        text-align: right;\n",
       "    }\n",
       "</style>\n",
       "<table border=\"1\" class=\"dataframe\">\n",
       "  <thead>\n",
       "    <tr style=\"text-align: right;\">\n",
       "      <th></th>\n",
       "      <th>ad_id</th>\n",
       "      <th>document_id</th>\n",
       "      <th>campaign_id</th>\n",
       "      <th>advertiser_id</th>\n",
       "    </tr>\n",
       "  </thead>\n",
       "  <tbody>\n",
       "    <tr>\n",
       "      <th>0</th>\n",
       "      <td>1</td>\n",
       "      <td>6614</td>\n",
       "      <td>1</td>\n",
       "      <td>7</td>\n",
       "    </tr>\n",
       "    <tr>\n",
       "      <th>1</th>\n",
       "      <td>2</td>\n",
       "      <td>471467</td>\n",
       "      <td>2</td>\n",
       "      <td>7</td>\n",
       "    </tr>\n",
       "    <tr>\n",
       "      <th>2</th>\n",
       "      <td>3</td>\n",
       "      <td>7692</td>\n",
       "      <td>3</td>\n",
       "      <td>7</td>\n",
       "    </tr>\n",
       "    <tr>\n",
       "      <th>3</th>\n",
       "      <td>4</td>\n",
       "      <td>471471</td>\n",
       "      <td>2</td>\n",
       "      <td>7</td>\n",
       "    </tr>\n",
       "    <tr>\n",
       "      <th>4</th>\n",
       "      <td>5</td>\n",
       "      <td>471472</td>\n",
       "      <td>2</td>\n",
       "      <td>7</td>\n",
       "    </tr>\n",
       "    <tr>\n",
       "      <th>5</th>\n",
       "      <td>6</td>\n",
       "      <td>12736</td>\n",
       "      <td>1</td>\n",
       "      <td>7</td>\n",
       "    </tr>\n",
       "    <tr>\n",
       "      <th>6</th>\n",
       "      <td>7</td>\n",
       "      <td>12808</td>\n",
       "      <td>1</td>\n",
       "      <td>7</td>\n",
       "    </tr>\n",
       "    <tr>\n",
       "      <th>7</th>\n",
       "      <td>8</td>\n",
       "      <td>471477</td>\n",
       "      <td>2</td>\n",
       "      <td>7</td>\n",
       "    </tr>\n",
       "    <tr>\n",
       "      <th>8</th>\n",
       "      <td>9</td>\n",
       "      <td>13379</td>\n",
       "      <td>1</td>\n",
       "      <td>7</td>\n",
       "    </tr>\n",
       "    <tr>\n",
       "      <th>9</th>\n",
       "      <td>10</td>\n",
       "      <td>13885</td>\n",
       "      <td>1</td>\n",
       "      <td>7</td>\n",
       "    </tr>\n",
       "  </tbody>\n",
       "</table>\n",
       "</div>"
      ],
      "text/plain": [
       "   ad_id  document_id  campaign_id  advertiser_id\n",
       "0      1         6614            1              7\n",
       "1      2       471467            2              7\n",
       "2      3         7692            3              7\n",
       "3      4       471471            2              7\n",
       "4      5       471472            2              7\n",
       "5      6        12736            1              7\n",
       "6      7        12808            1              7\n",
       "7      8       471477            2              7\n",
       "8      9        13379            1              7\n",
       "9     10        13885            1              7"
      ]
     },
     "execution_count": 101,
     "metadata": {},
     "output_type": "execute_result"
    }
   ],
   "source": [
    "# promoted_content\n",
    "se.sql(\"\"\"\n",
    "    SELECT *\n",
    "    FROM promoted_content\n",
    "    LIMIT 10\n",
    "\"\"\").toPandas()"
   ]
  },
  {
   "cell_type": "markdown",
   "id": "75cc3e77",
   "metadata": {},
   "source": [
    "## Отбор признакового пространства\n",
    "\n",
    "В качестве объясняющих признаков будем использовать следующие:\n",
    "1. display_id, ad_id - идентификаторы наблюдения\n",
    "2. document_id, uuid - идентификаторы пары \"документ-пользователь\" для каждого display_id\n",
    "3. timestamp_count \\ timestamp_interval \\ timestamp_mean - агрегация меток времени из page_views\n",
    "4. promo_document_id\n",
    "5. campaign_id\n",
    "6. advertiser_id\n",
    "6. platform\n",
    "7. traffic_source\n",
    "8. country/state/area и для uuid, и для document_id\n",
    "9. publisher_id\n",
    "9. year/month/day для публикаций\n",
    "10. confidence_level и для entity_id, и для source_id"
   ]
  },
  {
   "cell_type": "markdown",
   "id": "ef8e7088",
   "metadata": {},
   "source": [
    "## Начинаем соединять таблички для подготовки датасета"
   ]
  },
  {
   "cell_type": "markdown",
   "id": "1c31576b",
   "metadata": {},
   "source": [
    "Начнём с присоединения таблички events"
   ]
  },
  {
   "cell_type": "code",
   "execution_count": 27,
   "id": "11f0348e",
   "metadata": {},
   "outputs": [
    {
     "data": {
      "text/plain": [
       "<function __main__.to_number(raw_value)>"
      ]
     },
     "execution_count": 27,
     "metadata": {},
     "output_type": "execute_result"
    }
   ],
   "source": [
    "def to_number(raw_value):\n",
    "    try:\n",
    "        return float(raw_value)\n",
    "    except:\n",
    "        return 0.0\n",
    "    \n",
    "se.udf.register(\"to_number\", to_number, \"float\")"
   ]
  },
  {
   "cell_type": "markdown",
   "id": "17f0e1d0",
   "metadata": {},
   "source": [
    "Предобработаем таймстемпы и переведём всё в дни по аналогии с бейзлайном, предложенным в задании"
   ]
  },
  {
   "cell_type": "code",
   "execution_count": 14,
   "id": "520a94ec",
   "metadata": {},
   "outputs": [
    {
     "name": "stdout",
     "output_type": "stream",
     "text": [
      "+----------+------+-------+--------------+-----------+--------+-----------+-----------+----+\n",
      "|display_id| ad_id|clicked|          uuid|document_id|platform|    country|      state|area|\n",
      "+----------+------+-------+--------------+-----------+--------+-----------+-----------+----+\n",
      "|       148| 89351|      1|9adce6a5363308|    1205772|       2|-1077041708| 1660582409| 612|\n",
      "|       148|152140|      0|9adce6a5363308|    1205772|       2|-1077041708| 1660582409| 612|\n",
      "|       148|152656|      0|9adce6a5363308|    1205772|       2|-1077041708| 1660582409| 612|\n",
      "|       148|326768|      0|9adce6a5363308|    1205772|       2|-1077041708| 1660582409| 612|\n",
      "|       463| 28270|      0|85d999a1dd5483|    1787133|       1|-1077041708| -377763884| 764|\n",
      "|       463| 38813|      1|85d999a1dd5483|    1787133|       1|-1077041708| -377763884| 764|\n",
      "|       463|104911|      0|85d999a1dd5483|    1787133|       1|-1077041708| -377763884| 764|\n",
      "|       463|170148|      0|85d999a1dd5483|    1787133|       1|-1077041708| -377763884| 764|\n",
      "|       463|187292|      0|85d999a1dd5483|    1787133|       1|-1077041708| -377763884| 764|\n",
      "|       463|221740|      0|85d999a1dd5483|    1787133|       1|-1077041708| -377763884| 764|\n",
      "|       463|221782|      0|85d999a1dd5483|    1787133|       1|-1077041708| -377763884| 764|\n",
      "|       463|240837|      0|85d999a1dd5483|    1787133|       1|-1077041708| -377763884| 764|\n",
      "|       463|327054|      0|85d999a1dd5483|    1787133|       1|-1077041708| -377763884| 764|\n",
      "|       463|327114|      0|85d999a1dd5483|    1787133|       1|-1077041708| -377763884| 764|\n",
      "|       471| 22811|      0|277636b1739ae4|     814331|       2|-1077041708| 1193196075| 504|\n",
      "|       471|164323|      0|277636b1739ae4|     814331|       2|-1077041708| 1193196075| 504|\n",
      "|       471|173384|      0|277636b1739ae4|     814331|       2|-1077041708| 1193196075| 504|\n",
      "|       471|198155|      1|277636b1739ae4|     814331|       2|-1077041708| 1193196075| 504|\n",
      "|       496| 44460|      0|1ebc05d117ee8e|     986872|       2| 1886535265|-1130428357|null|\n",
      "|       496|124745|      0|1ebc05d117ee8e|     986872|       2| 1886535265|-1130428357|null|\n",
      "+----------+------+-------+--------------+-----------+--------+-----------+-----------+----+\n",
      "only showing top 20 rows\n",
      "\n"
     ]
    }
   ],
   "source": [
    "train = se.sql(\n",
    "        \"\"\"\n",
    "        SELECT clicks_train.*, events.uuid, events.document_id, \\\n",
    "        events.platform, events.country, events.state, events.area\n",
    "        FROM clicks_train JOIN events ON clicks_train.display_id == events.display_id\n",
    "        \"\"\")\n",
    "train.show()"
   ]
  },
  {
   "cell_type": "code",
   "execution_count": 13,
   "id": "4ed417c5",
   "metadata": {},
   "outputs": [
    {
     "name": "stdout",
     "output_type": "stream",
     "text": [
      "+----------+------+--------------+-----------+--------+-----------+----------+----+\n",
      "|display_id| ad_id|          uuid|document_id|platform|    country|     state|area|\n",
      "+----------+------+--------------+-----------+--------+-----------+----------+----+\n",
      "|  16874807|137006|a296494aa7a041|     399863|       2|  899366864|1554269903|null|\n",
      "|  16874807|192759|a296494aa7a041|     399863|       2|  899366864|1554269903|null|\n",
      "|  16874807|192855|a296494aa7a041|     399863|       2|  899366864|1554269903|null|\n",
      "|  16874807|213769|a296494aa7a041|     399863|       2|  899366864|1554269903|null|\n",
      "|  16874827| 64762|d134b1a0c43628|    1754388|       1|-1077041708|1886535265| 803|\n",
      "|  16874827|137842|d134b1a0c43628|    1754388|       1|-1077041708|1886535265| 803|\n",
      "|  16874827|144741|d134b1a0c43628|    1754388|       1|-1077041708|1886535265| 803|\n",
      "|  16874827|235104|d134b1a0c43628|    1754388|       1|-1077041708|1886535265| 803|\n",
      "|  16874827|257524|d134b1a0c43628|    1754388|       1|-1077041708|1886535265| 803|\n",
      "|  16874838| 37887|7e39222a4073b7|    1777395|       2|-1077041708|1886535265| 803|\n",
      "|  16874838|117307|7e39222a4073b7|    1777395|       2|-1077041708|1886535265| 803|\n",
      "|  16874838|123702|7e39222a4073b7|    1777395|       2|-1077041708|1886535265| 803|\n",
      "|  16874838|160448|7e39222a4073b7|    1777395|       2|-1077041708|1886535265| 803|\n",
      "|  16874919|  3784|57ef64b34822dc|    1788531|       2|-1077041708|-847081225| 751|\n",
      "|  16874919|117198|57ef64b34822dc|    1788531|       2|-1077041708|-847081225| 751|\n",
      "|  16874919|132295|57ef64b34822dc|    1788531|       2|-1077041708|-847081225| 751|\n",
      "|  16874919|137126|57ef64b34822dc|    1788531|       2|-1077041708|-847081225| 751|\n",
      "|  16875012| 35050|67c1f627685cff|    1666953|       1|-1077041708|-408552990| 725|\n",
      "|  16875012|188159|67c1f627685cff|    1666953|       1|-1077041708|-408552990| 725|\n",
      "|  16875012|329206|67c1f627685cff|    1666953|       1|-1077041708|-408552990| 725|\n",
      "+----------+------+--------------+-----------+--------+-----------+----------+----+\n",
      "only showing top 20 rows\n",
      "\n"
     ]
    }
   ],
   "source": [
    "test = se.sql(\n",
    "        \"\"\"\n",
    "        SELECT clicks_test.*, events.uuid, events.document_id, \\\n",
    "        events.platform, events.country, events.state, events.area\n",
    "        FROM clicks_test JOIN events ON clicks_test.display_id == events.display_id\n",
    "        \"\"\")\n",
    "test.show()"
   ]
  },
  {
   "cell_type": "code",
   "execution_count": 14,
   "id": "bf8dde08",
   "metadata": {},
   "outputs": [],
   "source": [
    "#train.registerTempTable(\"train\")\n",
    "test.registerTempTable(\"test\")"
   ]
  },
  {
   "cell_type": "markdown",
   "id": "394fe1c5",
   "metadata": {},
   "source": [
    "Теперь добавим инфу из таблички page_views"
   ]
  },
  {
   "cell_type": "code",
   "execution_count": 17,
   "id": "4611b364",
   "metadata": {
    "scrolled": true
   },
   "outputs": [
    {
     "name": "stdout",
     "output_type": "stream",
     "text": [
      "+----------+------+-------+--------------+-----------+--------+-----------+----------+----+---------------+------------------+\n",
      "|display_id| ad_id|clicked|          uuid|document_id|platform|    country|     state|area|timestamp_count|timestamp_interval|\n",
      "+----------+------+-------+--------------+-----------+--------+-----------+----------+----+---------------+------------------+\n",
      "|   3749002| 33973|      0|100025359c1e4b|     542474|       3| 1209325285|        42|null|              1|                 0|\n",
      "|   3749002| 34234|      0|100025359c1e4b|     542474|       3| 1209325285|        42|null|              1|                 0|\n",
      "|   3749002| 43531|      0|100025359c1e4b|     542474|       3| 1209325285|        42|null|              1|                 0|\n",
      "|   3749002| 81202|      1|100025359c1e4b|     542474|       3| 1209325285|        42|null|              1|                 0|\n",
      "|   3749002|200826|      0|100025359c1e4b|     542474|       3| 1209325285|        42|null|              1|                 0|\n",
      "|   3749002|386703|      0|100025359c1e4b|     542474|       3| 1209325285|        42|null|              1|                 0|\n",
      "|   3972594| 29281|      0|10003a00054aa3|     573399|       2|-1077041708|1210295967| 506|              1|                 0|\n",
      "|   3972594| 31367|      0|10003a00054aa3|     573399|       2|-1077041708|1210295967| 506|              1|                 0|\n",
      "|   3972594| 50861|      0|10003a00054aa3|     573399|       2|-1077041708|1210295967| 506|              1|                 0|\n",
      "|   3972594|149047|      0|10003a00054aa3|     573399|       2|-1077041708|1210295967| 506|              1|                 0|\n",
      "|   3972594|158632|      0|10003a00054aa3|     573399|       2|-1077041708|1210295967| 506|              1|                 0|\n",
      "|   3972594|190760|      0|10003a00054aa3|     573399|       2|-1077041708|1210295967| 506|              1|                 0|\n",
      "|   3972594|190939|      1|10003a00054aa3|     573399|       2|-1077041708|1210295967| 506|              1|                 0|\n",
      "|   3972594|238037|      0|10003a00054aa3|     573399|       2|-1077041708|1210295967| 506|              1|                 0|\n",
      "|   9359025|  5855|      0|10013cf2933dd1|    2287664|       1|-1077041708|1517794078| 609|              1|                 0|\n",
      "|   9359025|146273|      1|10013cf2933dd1|    2287664|       1|-1077041708|1517794078| 609|              1|                 0|\n",
      "|   9359025|154575|      0|10013cf2933dd1|    2287664|       1|-1077041708|1517794078| 609|              1|                 0|\n",
      "|   9359025|163664|      0|10013cf2933dd1|    2287664|       1|-1077041708|1517794078| 609|              1|                 0|\n",
      "|   9359025|183591|      0|10013cf2933dd1|    2287664|       1|-1077041708|1517794078| 609|              1|                 0|\n",
      "|   9359025|269777|      0|10013cf2933dd1|    2287664|       1|-1077041708|1517794078| 609|              1|                 0|\n",
      "+----------+------+-------+--------------+-----------+--------+-----------+----------+----+---------------+------------------+\n",
      "only showing top 20 rows\n",
      "\n"
     ]
    }
   ],
   "source": [
    "train = se.sql(\n",
    "        \"\"\"\n",
    "        SELECT train.*, page_views_agg.timestamp_count, page_views_agg.timestamp_interval\n",
    "        FROM train LEFT JOIN page_views_agg ON train.uuid == page_views_agg.uuid AND train.document_id == page_views_agg.document_id\n",
    "        \"\"\")\n",
    "train.show()"
   ]
  },
  {
   "cell_type": "code",
   "execution_count": null,
   "id": "a5ff80df",
   "metadata": {},
   "outputs": [],
   "source": [
    "print('Количество строчек в тесте -', train.count())\n",
    "print('Количество дисплеев в тесте -', str(train.select(F.countDistinct(\"display_id\")).collect()[0][0]))\n",
    "print('Количество реклам в тесте -', str(train.select(F.countDistinct(\"ad_id\")).collect()[0][0]))"
   ]
  },
  {
   "cell_type": "markdown",
   "id": "7800a6db",
   "metadata": {},
   "source": [
    "Ячейка выше дала на первой строчке такой же результат, как и было изначально, я остановил ячейку, остановил джобы в спарк контексте и скрыл аутпут, чтобы не мучить вас листанием логов keybord interrupt"
   ]
  },
  {
   "cell_type": "code",
   "execution_count": 15,
   "id": "2fc6775f",
   "metadata": {},
   "outputs": [
    {
     "name": "stdout",
     "output_type": "stream",
     "text": [
      "+----------+------+--------------+-----------+--------+-----------+----------+----+---------------+------------------+\n",
      "|display_id| ad_id|          uuid|document_id|platform|    country|     state|area|timestamp_count|timestamp_interval|\n",
      "+----------+------+--------------+-----------+--------+-----------+----------+----+---------------+------------------+\n",
      "|  21485757|  7033|10012c47f7317b|    2897953|       3|-1077041708|-847081225| 751|              2|           5258911|\n",
      "|  21485757| 73704|10012c47f7317b|    2897953|       3|-1077041708|-847081225| 751|              2|           5258911|\n",
      "|  21485757| 85928|10012c47f7317b|    2897953|       3|-1077041708|-847081225| 751|              2|           5258911|\n",
      "|  21485757|164376|10012c47f7317b|    2897953|       3|-1077041708|-847081225| 751|              2|           5258911|\n",
      "|  21485757|175592|10012c47f7317b|    2897953|       3|-1077041708|-847081225| 751|              2|           5258911|\n",
      "|  21485757|184220|10012c47f7317b|    2897953|       3|-1077041708|-847081225| 751|              2|           5258911|\n",
      "|  21485757|470780|10012c47f7317b|    2897953|       3|-1077041708|-847081225| 751|              2|           5258911|\n",
      "|  21485757|515785|10012c47f7317b|    2897953|       3|-1077041708|-847081225| 751|              2|           5258911|\n",
      "|  21485757|547380|10012c47f7317b|    2897953|       3|-1077041708|-847081225| 751|              2|           5258911|\n",
      "|  18800263|139376|1003a343464da3|     641298|       1|-1077041708|1854557654| 563|              1|                 0|\n",
      "|  18800263|171480|1003a343464da3|     641298|       1|-1077041708|1854557654| 563|              1|                 0|\n",
      "|  18800263|406675|1003a343464da3|     641298|       1|-1077041708|1854557654| 563|              1|                 0|\n",
      "|  19160961|  8748|1003b0110e0e82|    2631247|       1|-1077041708|-916423235| 503|              1|                 0|\n",
      "|  19160961| 16912|1003b0110e0e82|    2631247|       1|-1077041708|-916423235| 503|              1|                 0|\n",
      "|  19160961| 23365|1003b0110e0e82|    2631247|       1|-1077041708|-916423235| 503|              1|                 0|\n",
      "|  19160961|106789|1003b0110e0e82|    2631247|       1|-1077041708|-916423235| 503|              1|                 0|\n",
      "|  19160961|151028|1003b0110e0e82|    2631247|       1|-1077041708|-916423235| 503|              1|                 0|\n",
      "|  19160961|268540|1003b0110e0e82|    2631247|       1|-1077041708|-916423235| 503|              1|                 0|\n",
      "|  22943569|144709|1006a35734679c|    2729051|       3| -221901904|-155192030|null|              1|                 0|\n",
      "|  22943569|284796|1006a35734679c|    2729051|       3| -221901904|-155192030|null|              1|                 0|\n",
      "+----------+------+--------------+-----------+--------+-----------+----------+----+---------------+------------------+\n",
      "only showing top 20 rows\n",
      "\n"
     ]
    }
   ],
   "source": [
    "test = se.sql(\n",
    "        \"\"\"\n",
    "        SELECT test.*, page_views_agg.timestamp_count, page_views_agg.timestamp_interval\n",
    "        FROM test LEFT JOIN page_views_agg ON test.uuid == page_views_agg.uuid AND test.document_id == page_views_agg.document_id\n",
    "        \"\"\")\n",
    "test.show()"
   ]
  },
  {
   "cell_type": "code",
   "execution_count": 16,
   "id": "22013a6f",
   "metadata": {},
   "outputs": [],
   "source": [
    "#train.registerTempTable(\"train\")\n",
    "test.registerTempTable(\"test\")"
   ]
  },
  {
   "cell_type": "markdown",
   "id": "e13fa878",
   "metadata": {},
   "source": [
    "Теперь добавим данные по предлагаемому контенту и категориальные метки campaign_id, advertiser_id из promoted_content"
   ]
  },
  {
   "cell_type": "code",
   "execution_count": 20,
   "id": "337ce522",
   "metadata": {},
   "outputs": [
    {
     "name": "stdout",
     "output_type": "stream",
     "text": [
      "+----------+------+-------+--------------+-----------+--------+-----------+----------+----+---------------+------------------+--------------+-----------+-------------+\n",
      "|display_id| ad_id|clicked|          uuid|document_id|platform|    country|     state|area|timestamp_count|timestamp_interval|ad_document_id|campaign_id|advertiser_id|\n",
      "+----------+------+-------+--------------+-----------+--------+-----------+----------+----+---------------+------------------+--------------+-----------+-------------+\n",
      "|   3749002| 33973|      0|100025359c1e4b|     542474|       3| 1209325285|        42|null|              1|                 0|        872253|       4964|         1983|\n",
      "|   3749002| 34234|      0|100025359c1e4b|     542474|       3| 1209325285|        42|null|              1|                 0|        870875|       4909|         1452|\n",
      "|   3749002| 43531|      0|100025359c1e4b|     542474|       3| 1209325285|        42|null|              1|                 0|        942981|       4948|         1925|\n",
      "|   3749002| 81202|      1|100025359c1e4b|     542474|       3| 1209325285|        42|null|              1|                 0|       1084700|      10686|         1024|\n",
      "|   3749002|200826|      0|100025359c1e4b|     542474|       3| 1209325285|        42|null|              1|                 0|       1399545|      20198|         2225|\n",
      "|   3749002|386703|      0|100025359c1e4b|     542474|       3| 1209325285|        42|null|              1|                 0|       1867675|      30463|         3562|\n",
      "|   3972594| 29281|      0|10003a00054aa3|     573399|       2|-1077041708|1210295967| 506|              1|                 0|        690073|       4488|           19|\n",
      "|   3972594| 31367|      0|10003a00054aa3|     573399|       2|-1077041708|1210295967| 506|              1|                 0|        861466|       4673|         1774|\n",
      "|   3972594| 50861|      0|10003a00054aa3|     573399|       2|-1077041708|1210295967| 506|              1|                 0|        971212|       6787|         2169|\n",
      "|   3972594|149047|      0|10003a00054aa3|     573399|       2|-1077041708|1210295967| 506|              1|                 0|       1169985|      16636|          380|\n",
      "|   3972594|158632|      0|10003a00054aa3|     573399|       2|-1077041708|1210295967| 506|              1|                 0|       1086095|      13005|         1570|\n",
      "|   3972594|190760|      0|10003a00054aa3|     573399|       2|-1077041708|1210295967| 506|              1|                 0|       1476802|      22654|         3399|\n",
      "|   3972594|190939|      1|10003a00054aa3|     573399|       2|-1077041708|1210295967| 506|              1|                 0|       1477793|       1253|          302|\n",
      "|   3972594|238037|      0|10003a00054aa3|     573399|       2|-1077041708|1210295967| 506|              1|                 0|        900292|      25740|         2079|\n",
      "|   9359025|  5855|      0|10013cf2933dd1|    2287664|       1|-1077041708|1517794078| 609|              1|                 0|        462921|        363|           19|\n",
      "|   9359025|146273|      1|10013cf2933dd1|    2287664|       1|-1077041708|1517794078| 609|              1|                 0|       1343502|        503|          353|\n",
      "|   9359025|154575|      0|10013cf2933dd1|    2287664|       1|-1077041708|1517794078| 609|              1|                 0|       1381560|      19670|         1378|\n",
      "|   9359025|163664|      0|10013cf2933dd1|    2287664|       1|-1077041708|1517794078| 609|              1|                 0|       1218459|      17315|         1650|\n",
      "|   9359025|183591|      0|10013cf2933dd1|    2287664|       1|-1077041708|1517794078| 609|              1|                 0|       1459616|      22104|         3127|\n",
      "|   9359025|269777|      0|10013cf2933dd1|    2287664|       1|-1077041708|1517794078| 609|              1|                 0|       1650422|      17402|         1055|\n",
      "+----------+------+-------+--------------+-----------+--------+-----------+----------+----+---------------+------------------+--------------+-----------+-------------+\n",
      "only showing top 20 rows\n",
      "\n"
     ]
    }
   ],
   "source": [
    "train = se.sql(\n",
    "        \"\"\"\n",
    "        SELECT train.*, promoted_content.document_id as ad_document_id, \\\n",
    "        promoted_content.campaign_id, promoted_content.advertiser_id\n",
    "        FROM train LEFT JOIN promoted_content ON train.ad_id == promoted_content.ad_id\n",
    "        \"\"\")\n",
    "train.show()"
   ]
  },
  {
   "cell_type": "code",
   "execution_count": 17,
   "id": "e20d30d3",
   "metadata": {},
   "outputs": [
    {
     "name": "stdout",
     "output_type": "stream",
     "text": [
      "+----------+------+--------------+-----------+--------+-----------+----------+----+---------------+------------------+--------------+-----------+-------------+\n",
      "|display_id| ad_id|          uuid|document_id|platform|    country|     state|area|timestamp_count|timestamp_interval|ad_document_id|campaign_id|advertiser_id|\n",
      "+----------+------+--------------+-----------+--------+-----------+----------+----+---------------+------------------+--------------+-----------+-------------+\n",
      "|  21485757|  7033|10012c47f7317b|    2897953|       3|-1077041708|-847081225| 751|              2|           5258911|        393333|        530|          386|\n",
      "|  21485757| 73704|10012c47f7317b|    2897953|       3|-1077041708|-847081225| 751|              2|           5258911|        205960|       9844|           19|\n",
      "|  21485757| 85928|10012c47f7317b|    2897953|       3|-1077041708|-847081225| 751|              2|           5258911|       1086097|      11148|         1663|\n",
      "|  21485757|164376|10012c47f7317b|    2897953|       3|-1077041708|-847081225| 751|              2|           5258911|       1151028|        674|          769|\n",
      "|  21485757|175592|10012c47f7317b|    2897953|       3|-1077041708|-847081225| 751|              2|           5258911|       1442827|      21380|         1684|\n",
      "|  21485757|184220|10012c47f7317b|    2897953|       3|-1077041708|-847081225| 751|              2|           5258911|       1422613|      22159|         2484|\n",
      "|  21485757|470780|10012c47f7317b|    2897953|       3|-1077041708|-847081225| 751|              2|           5258911|       2319414|      17402|         1055|\n",
      "|  21485757|515785|10012c47f7317b|    2897953|       3|-1077041708|-847081225| 751|              2|           5258911|       2562888|      33064|         3119|\n",
      "|  21485757|547380|10012c47f7317b|    2897953|       3|-1077041708|-847081225| 751|              2|           5258911|       2818023|       7243|          283|\n",
      "|  18800263|139376|1003a343464da3|     641298|       1|-1077041708|1854557654| 563|              1|                 0|       1318414|      17858|         2557|\n",
      "|  18800263|171480|1003a343464da3|     641298|       1|-1077041708|1854557654| 563|              1|                 0|        737679|      20897|         1607|\n",
      "|  18800263|406675|1003a343464da3|     641298|       1|-1077041708|1854557654| 563|              1|                 0|       1671134|      27505|         2879|\n",
      "|  19160961|  8748|1003b0110e0e82|    2631247|       1|-1077041708|-916423235| 503|              1|                 0|        555095|        129|          141|\n",
      "|  19160961| 16912|1003b0110e0e82|    2631247|       1|-1077041708|-916423235| 503|              1|                 0|        737388|       2811|          554|\n",
      "|  19160961| 23365|1003b0110e0e82|    2631247|       1|-1077041708|-916423235| 503|              1|                 0|        819705|       3647|         1227|\n",
      "|  19160961|106789|1003b0110e0e82|    2631247|       1|-1077041708|-916423235| 503|              1|                 0|        905507|       7615|           12|\n",
      "|  19160961|151028|1003b0110e0e82|    2631247|       1|-1077041708|-916423235| 503|              1|                 0|       1270285|      18075|          865|\n",
      "|  19160961|268540|1003b0110e0e82|    2631247|       1|-1077041708|-916423235| 503|              1|                 0|       1377696|      26600|          555|\n",
      "|  22943569|144709|1006a35734679c|    2729051|       3| -221901904|-155192030|null|              1|                 0|       1337073|      18487|          600|\n",
      "|  22943569|284796|1006a35734679c|    2729051|       3| -221901904|-155192030|null|              1|                 0|       1471161|      27793|         3474|\n",
      "+----------+------+--------------+-----------+--------+-----------+----------+----+---------------+------------------+--------------+-----------+-------------+\n",
      "only showing top 20 rows\n",
      "\n"
     ]
    }
   ],
   "source": [
    "test = se.sql(\n",
    "        \"\"\"\n",
    "        SELECT test.*, promoted_content.document_id as ad_document_id, \\\n",
    "        promoted_content.campaign_id, promoted_content.advertiser_id\n",
    "        FROM test LEFT JOIN promoted_content ON test.ad_id == promoted_content.ad_id\n",
    "        \"\"\")\n",
    "test.show()"
   ]
  },
  {
   "cell_type": "code",
   "execution_count": 18,
   "id": "41cd1357",
   "metadata": {},
   "outputs": [],
   "source": [
    "#train.registerTempTable(\"train\")\n",
    "test.registerTempTable(\"test\")"
   ]
  },
  {
   "cell_type": "code",
   "execution_count": 19,
   "id": "8c774d50",
   "metadata": {},
   "outputs": [
    {
     "name": "stdout",
     "output_type": "stream",
     "text": [
      "Количество строчек в тесте - 32225162\n"
     ]
    }
   ],
   "source": [
    "print('Количество строчек в тесте -', test.count())"
   ]
  },
  {
   "cell_type": "code",
   "execution_count": null,
   "id": "2a62775f",
   "metadata": {},
   "outputs": [],
   "source": [
    "# if upper cell != 32225162\n",
    "print('Количество дисплеев в тесте -', str(clicks_test.select(F.countDistinct(\"display_id\")).collect()[0][0]))\n",
    "print('Количество реклам в тесте -', str(clicks_test.select(F.countDistinct(\"ad_id\")).collect()[0][0]))"
   ]
  },
  {
   "cell_type": "markdown",
   "id": "08974f66",
   "metadata": {},
   "source": [
    "Теперь добавим информацию по документам"
   ]
  },
  {
   "cell_type": "code",
   "execution_count": 23,
   "id": "da3d8efe",
   "metadata": {
    "scrolled": true
   },
   "outputs": [
    {
     "name": "stdout",
     "output_type": "stream",
     "text": [
      "+----------+------+-------+--------------+-----------+--------+----------+----------+----+---------------+------------------+--------------+-----------+-------------+---------+------------+------------+------------------+-----------------+-------+\n",
      "|display_id| ad_id|clicked|          uuid|document_id|platform|   country|     state|area|timestamp_count|timestamp_interval|ad_document_id|campaign_id|advertiser_id|source_id|publisher_id|publish_year|           dt_conf|          de_conf|dc_conf|\n",
      "+----------+------+-------+--------------+-----------+--------+----------+----------+----+---------------+------------------+--------------+-----------+-------------+---------+------------+------------+------------------+-----------------+-------+\n",
      "|   7022830|131323|      0|2738bdc48b0b51|        148|       1|1062621904|1297677906|null|              1|                 0|       1225365|      16346|         2988|     1787|         118|        2008|0.0752369712571181|0.632025758366959|   0.92|\n",
      "|   7022830|131323|      0|2738bdc48b0b51|        148|       1|1062621904|1297677906|null|              1|                 0|       1225365|      16346|         2988|     1787|         118|        2008|0.0752369712571181|0.632025758366959|   0.07|\n",
      "|   7022830|131323|      0|2738bdc48b0b51|        148|       1|1062621904|1297677906|null|              1|                 0|       1225365|      16346|         2988|     1787|         118|        2008|0.0752369712571181|0.404909109697693|   0.92|\n",
      "|   7022830|131323|      0|2738bdc48b0b51|        148|       1|1062621904|1297677906|null|              1|                 0|       1225365|      16346|         2988|     1787|         118|        2008|0.0752369712571181|0.404909109697693|   0.07|\n",
      "|   7022830|131323|      0|2738bdc48b0b51|        148|       1|1062621904|1297677906|null|              1|                 0|       1225365|      16346|         2988|     1787|         118|        2008|0.0752369712571181|0.276364701967659|   0.92|\n",
      "|   7022830|131323|      0|2738bdc48b0b51|        148|       1|1062621904|1297677906|null|              1|                 0|       1225365|      16346|         2988|     1787|         118|        2008|0.0752369712571181|0.276364701967659|   0.07|\n",
      "|   7022830|131323|      0|2738bdc48b0b51|        148|       1|1062621904|1297677906|null|              1|                 0|       1225365|      16346|         2988|     1787|         118|        2008|0.0752369712571181|0.272666585584267|   0.92|\n",
      "|   7022830|131323|      0|2738bdc48b0b51|        148|       1|1062621904|1297677906|null|              1|                 0|       1225365|      16346|         2988|     1787|         118|        2008|0.0752369712571181|0.272666585584267|   0.07|\n",
      "|   7022830|131323|      0|2738bdc48b0b51|        148|       1|1062621904|1297677906|null|              1|                 0|       1225365|      16346|         2988|     1787|         118|        2008|0.0752369712571181|0.266430219967596|   0.92|\n",
      "|   7022830|131323|      0|2738bdc48b0b51|        148|       1|1062621904|1297677906|null|              1|                 0|       1225365|      16346|         2988|     1787|         118|        2008|0.0752369712571181|0.266430219967596|   0.07|\n",
      "|   7022830|131323|      0|2738bdc48b0b51|        148|       1|1062621904|1297677906|null|              1|                 0|       1225365|      16346|         2988|     1787|         118|        2008|0.0752369712571181|0.259955185083912|   0.92|\n",
      "|   7022830|131323|      0|2738bdc48b0b51|        148|       1|1062621904|1297677906|null|              1|                 0|       1225365|      16346|         2988|     1787|         118|        2008|0.0752369712571181|0.259955185083912|   0.07|\n",
      "|   7022830|131323|      0|2738bdc48b0b51|        148|       1|1062621904|1297677906|null|              1|                 0|       1225365|      16346|         2988|     1787|         118|        2008|0.0752369712571181|0.221496101629345|   0.92|\n",
      "|   7022830|131323|      0|2738bdc48b0b51|        148|       1|1062621904|1297677906|null|              1|                 0|       1225365|      16346|         2988|     1787|         118|        2008|0.0752369712571181|0.221496101629345|   0.07|\n",
      "|   7022830|131323|      0|2738bdc48b0b51|        148|       1|1062621904|1297677906|null|              1|                 0|       1225365|      16346|         2988|     1787|         118|        2008|0.0752369712571181|0.212876549025939|   0.92|\n",
      "|   7022830|131323|      0|2738bdc48b0b51|        148|       1|1062621904|1297677906|null|              1|                 0|       1225365|      16346|         2988|     1787|         118|        2008|0.0752369712571181|0.212876549025939|   0.07|\n",
      "|   7022830|131323|      0|2738bdc48b0b51|        148|       1|1062621904|1297677906|null|              1|                 0|       1225365|      16346|         2988|     1787|         118|        2008|0.0719832117961455|0.632025758366959|   0.92|\n",
      "|   7022830|131323|      0|2738bdc48b0b51|        148|       1|1062621904|1297677906|null|              1|                 0|       1225365|      16346|         2988|     1787|         118|        2008|0.0719832117961455|0.632025758366959|   0.07|\n",
      "|   7022830|131323|      0|2738bdc48b0b51|        148|       1|1062621904|1297677906|null|              1|                 0|       1225365|      16346|         2988|     1787|         118|        2008|0.0719832117961455|0.404909109697693|   0.92|\n",
      "|   7022830|131323|      0|2738bdc48b0b51|        148|       1|1062621904|1297677906|null|              1|                 0|       1225365|      16346|         2988|     1787|         118|        2008|0.0719832117961455|0.404909109697693|   0.07|\n",
      "+----------+------+-------+--------------+-----------+--------+----------+----------+----+---------------+------------------+--------------+-----------+-------------+---------+------------+------------+------------------+-----------------+-------+\n",
      "only showing top 20 rows\n",
      "\n"
     ]
    }
   ],
   "source": [
    "train = se.sql(\n",
    "        \"\"\"\n",
    "        SELECT train.*, dm.source_id, dm.publisher_id, dm.publish_year, \\\n",
    "        dt.confidence_level as dt_conf, \\\n",
    "        de.confidence_level as de_conf, \\\n",
    "        dc.confidence_level as dc_conf\n",
    "        FROM train \n",
    "        LEFT JOIN documents_meta dm ON train.document_id == dm.document_id\n",
    "        LEFT JOIN documents_topics dt ON train.document_id == dt.document_id\n",
    "        LEFT JOIN documents_entities de ON train.document_id == de.document_id\n",
    "        LEFT JOIN documents_categories dc ON train.document_id == dc.document_id\n",
    "        \"\"\")\n",
    "train.show()"
   ]
  },
  {
   "cell_type": "code",
   "execution_count": 20,
   "id": "5eabd15d",
   "metadata": {},
   "outputs": [
    {
     "name": "stdout",
     "output_type": "stream",
     "text": [
      "+----------+------+--------------+-----------+--------+-----------+----------+----+---------------+------------------+--------------+-----------+-------------+---------+------------+------------+-------------------+-------+-----------+\n",
      "|display_id| ad_id|          uuid|document_id|platform|    country|     state|area|timestamp_count|timestamp_interval|ad_document_id|campaign_id|advertiser_id|source_id|publisher_id|publish_year|            dt_conf|de_conf|    dc_conf|\n",
      "+----------+------+--------------+-----------+--------+-----------+----------+----+---------------+------------------+--------------+-----------+-------------+---------+------------+------------+-------------------+-------+-----------+\n",
      "|  18923026| 61159|98884b3a72de24|       1342|       1|-1077041708|1854557654| 553|              1|                 0|        992370|       7283|         1919|      475|         937|        2015| 0.0457308985405448|   null|0.428357428|\n",
      "|  18923026| 61159|98884b3a72de24|       1342|       1|-1077041708|1854557654| 553|              1|                 0|        992370|       7283|         1919|      475|         937|        2015| 0.0457308985405448|   null|0.032592413|\n",
      "|  18923026| 61159|98884b3a72de24|       1342|       1|-1077041708|1854557654| 553|              1|                 0|        992370|       7283|         1919|      475|         937|        2015| 0.0253200983718879|   null|0.428357428|\n",
      "|  18923026| 61159|98884b3a72de24|       1342|       1|-1077041708|1854557654| 553|              1|                 0|        992370|       7283|         1919|      475|         937|        2015| 0.0253200983718879|   null|0.032592413|\n",
      "|  18923026| 61159|98884b3a72de24|       1342|       1|-1077041708|1854557654| 553|              1|                 0|        992370|       7283|         1919|      475|         937|        2015| 0.0121216178798431|   null|0.428357428|\n",
      "|  18923026| 61159|98884b3a72de24|       1342|       1|-1077041708|1854557654| 553|              1|                 0|        992370|       7283|         1919|      475|         937|        2015| 0.0121216178798431|   null|0.032592413|\n",
      "|  18923026| 61159|98884b3a72de24|       1342|       1|-1077041708|1854557654| 553|              1|                 0|        992370|       7283|         1919|      475|         937|        2015|0.00957425613019312|   null|0.428357428|\n",
      "|  18923026| 61159|98884b3a72de24|       1342|       1|-1077041708|1854557654| 553|              1|                 0|        992370|       7283|         1919|      475|         937|        2015|0.00957425613019312|   null|0.032592413|\n",
      "|  18923026| 61159|98884b3a72de24|       1342|       1|-1077041708|1854557654| 553|              1|                 0|        992370|       7283|         1919|      475|         937|        2015|0.00912912398263153|   null|0.428357428|\n",
      "|  18923026| 61159|98884b3a72de24|       1342|       1|-1077041708|1854557654| 553|              1|                 0|        992370|       7283|         1919|      475|         937|        2015|0.00912912398263153|   null|0.032592413|\n",
      "|  18923026| 61159|98884b3a72de24|       1342|       1|-1077041708|1854557654| 553|              1|                 0|        992370|       7283|         1919|      475|         937|        2015|0.00828971014826808|   null|0.428357428|\n",
      "|  18923026| 61159|98884b3a72de24|       1342|       1|-1077041708|1854557654| 553|              1|                 0|        992370|       7283|         1919|      475|         937|        2015|0.00828971014826808|   null|0.032592413|\n",
      "|  18923026|129490|98884b3a72de24|       1342|       1|-1077041708|1854557654| 553|              1|                 0|       1060089|       9756|         1593|      475|         937|        2015| 0.0457308985405448|   null|0.428357428|\n",
      "|  18923026|129490|98884b3a72de24|       1342|       1|-1077041708|1854557654| 553|              1|                 0|       1060089|       9756|         1593|      475|         937|        2015| 0.0457308985405448|   null|0.032592413|\n",
      "|  18923026|129490|98884b3a72de24|       1342|       1|-1077041708|1854557654| 553|              1|                 0|       1060089|       9756|         1593|      475|         937|        2015| 0.0253200983718879|   null|0.428357428|\n",
      "|  18923026|129490|98884b3a72de24|       1342|       1|-1077041708|1854557654| 553|              1|                 0|       1060089|       9756|         1593|      475|         937|        2015| 0.0253200983718879|   null|0.032592413|\n",
      "|  18923026|129490|98884b3a72de24|       1342|       1|-1077041708|1854557654| 553|              1|                 0|       1060089|       9756|         1593|      475|         937|        2015| 0.0121216178798431|   null|0.428357428|\n",
      "|  18923026|129490|98884b3a72de24|       1342|       1|-1077041708|1854557654| 553|              1|                 0|       1060089|       9756|         1593|      475|         937|        2015| 0.0121216178798431|   null|0.032592413|\n",
      "|  18923026|129490|98884b3a72de24|       1342|       1|-1077041708|1854557654| 553|              1|                 0|       1060089|       9756|         1593|      475|         937|        2015|0.00957425613019312|   null|0.428357428|\n",
      "|  18923026|129490|98884b3a72de24|       1342|       1|-1077041708|1854557654| 553|              1|                 0|       1060089|       9756|         1593|      475|         937|        2015|0.00957425613019312|   null|0.032592413|\n",
      "+----------+------+--------------+-----------+--------+-----------+----------+----+---------------+------------------+--------------+-----------+-------------+---------+------------+------------+-------------------+-------+-----------+\n",
      "only showing top 20 rows\n",
      "\n"
     ]
    }
   ],
   "source": [
    "test = se.sql(\n",
    "        \"\"\"\n",
    "        SELECT test.*, dm.source_id, dm.publisher_id, dm.publish_year, \\\n",
    "        dt.confidence_level as dt_conf, \\\n",
    "        de.confidence_level as de_conf, \\\n",
    "        dc.confidence_level as dc_conf\n",
    "        FROM test \n",
    "        LEFT JOIN documents_meta dm ON test.document_id == dm.document_id\n",
    "        LEFT JOIN documents_topics dt ON test.document_id == dt.document_id\n",
    "        LEFT JOIN documents_entities de ON test.document_id == de.document_id\n",
    "        LEFT JOIN documents_categories dc ON test.document_id == dc.document_id\n",
    "        \"\"\")\n",
    "test.show()"
   ]
  },
  {
   "cell_type": "code",
   "execution_count": 31,
   "id": "bbe83ca4",
   "metadata": {},
   "outputs": [
    {
     "name": "stdout",
     "output_type": "stream",
     "text": [
      "+----------+------+--------------+-----------+--------+-----------+-----------+----+---------------+------------------+--------------+-----------+-------------+---------+------------+------------+-------------------+-------+-----------+\n",
      "|display_id| ad_id|          uuid|document_id|platform|    country|      state|area|timestamp_count|timestamp_interval|ad_document_id|campaign_id|advertiser_id|source_id|publisher_id|publish_year|            dt_conf|de_conf|    dc_conf|\n",
      "+----------+------+--------------+-----------+--------+-----------+-----------+----+---------------+------------------+--------------+-----------+-------------+---------+------------+------------+-------------------+-------+-----------+\n",
      "|  21309971|271469|c6028b6abe7e2f|       1342|       1|-1077041708|-1832830425| 539|              1|                 0|       1653374|      27136|         2260|      475|         937|        2015| 0.0457308985405448|   null|0.428357428|\n",
      "|  21309971|271469|c6028b6abe7e2f|       1342|       1|-1077041708|-1832830425| 539|              1|                 0|       1653374|      27136|         2260|      475|         937|        2015| 0.0457308985405448|   null|0.032592413|\n",
      "|  21309971|271469|c6028b6abe7e2f|       1342|       1|-1077041708|-1832830425| 539|              1|                 0|       1653374|      27136|         2260|      475|         937|        2015| 0.0253200983718879|   null|0.428357428|\n",
      "|  21309971|271469|c6028b6abe7e2f|       1342|       1|-1077041708|-1832830425| 539|              1|                 0|       1653374|      27136|         2260|      475|         937|        2015| 0.0253200983718879|   null|0.032592413|\n",
      "|  21309971|271469|c6028b6abe7e2f|       1342|       1|-1077041708|-1832830425| 539|              1|                 0|       1653374|      27136|         2260|      475|         937|        2015| 0.0121216178798431|   null|0.428357428|\n",
      "|  21309971|271469|c6028b6abe7e2f|       1342|       1|-1077041708|-1832830425| 539|              1|                 0|       1653374|      27136|         2260|      475|         937|        2015| 0.0121216178798431|   null|0.032592413|\n",
      "|  21309971|271469|c6028b6abe7e2f|       1342|       1|-1077041708|-1832830425| 539|              1|                 0|       1653374|      27136|         2260|      475|         937|        2015|0.00957425613019312|   null|0.428357428|\n",
      "|  21309971|271469|c6028b6abe7e2f|       1342|       1|-1077041708|-1832830425| 539|              1|                 0|       1653374|      27136|         2260|      475|         937|        2015|0.00957425613019312|   null|0.032592413|\n",
      "|  21309971|271469|c6028b6abe7e2f|       1342|       1|-1077041708|-1832830425| 539|              1|                 0|       1653374|      27136|         2260|      475|         937|        2015|0.00912912398263153|   null|0.428357428|\n",
      "|  21309971|271469|c6028b6abe7e2f|       1342|       1|-1077041708|-1832830425| 539|              1|                 0|       1653374|      27136|         2260|      475|         937|        2015|0.00912912398263153|   null|0.032592413|\n",
      "|  21309971|271469|c6028b6abe7e2f|       1342|       1|-1077041708|-1832830425| 539|              1|                 0|       1653374|      27136|         2260|      475|         937|        2015|0.00828971014826808|   null|0.428357428|\n",
      "|  21309971|271469|c6028b6abe7e2f|       1342|       1|-1077041708|-1832830425| 539|              1|                 0|       1653374|      27136|         2260|      475|         937|        2015|0.00828971014826808|   null|0.032592413|\n",
      "|  21309971|513181|c6028b6abe7e2f|       1342|       1|-1077041708|-1832830425| 539|              1|                 0|       1507352|      33376|         1731|      475|         937|        2015| 0.0457308985405448|   null|0.428357428|\n",
      "|  21309971|513181|c6028b6abe7e2f|       1342|       1|-1077041708|-1832830425| 539|              1|                 0|       1507352|      33376|         1731|      475|         937|        2015| 0.0457308985405448|   null|0.032592413|\n",
      "|  21309971|513181|c6028b6abe7e2f|       1342|       1|-1077041708|-1832830425| 539|              1|                 0|       1507352|      33376|         1731|      475|         937|        2015| 0.0253200983718879|   null|0.428357428|\n",
      "|  21309971|513181|c6028b6abe7e2f|       1342|       1|-1077041708|-1832830425| 539|              1|                 0|       1507352|      33376|         1731|      475|         937|        2015| 0.0253200983718879|   null|0.032592413|\n",
      "|  21309971|513181|c6028b6abe7e2f|       1342|       1|-1077041708|-1832830425| 539|              1|                 0|       1507352|      33376|         1731|      475|         937|        2015| 0.0121216178798431|   null|0.428357428|\n",
      "|  21309971|513181|c6028b6abe7e2f|       1342|       1|-1077041708|-1832830425| 539|              1|                 0|       1507352|      33376|         1731|      475|         937|        2015| 0.0121216178798431|   null|0.032592413|\n",
      "|  21309971|513181|c6028b6abe7e2f|       1342|       1|-1077041708|-1832830425| 539|              1|                 0|       1507352|      33376|         1731|      475|         937|        2015|0.00957425613019312|   null|0.428357428|\n",
      "|  21309971|513181|c6028b6abe7e2f|       1342|       1|-1077041708|-1832830425| 539|              1|                 0|       1507352|      33376|         1731|      475|         937|        2015|0.00957425613019312|   null|0.032592413|\n",
      "+----------+------+--------------+-----------+--------+-----------+-----------+----+---------------+------------------+--------------+-----------+-------------+---------+------------+------------+-------------------+-------+-----------+\n",
      "only showing top 20 rows\n",
      "\n"
     ]
    }
   ],
   "source": [
    "test.show()"
   ]
  },
  {
   "cell_type": "code",
   "execution_count": 29,
   "id": "8131d428",
   "metadata": {},
   "outputs": [
    {
     "data": {
      "text/plain": [
       "['display_id',\n",
       " 'ad_id',\n",
       " 'clicked',\n",
       " 'uuid',\n",
       " 'document_id',\n",
       " 'platform',\n",
       " 'country',\n",
       " 'state',\n",
       " 'area',\n",
       " 'timestamp_count',\n",
       " 'timestamp_interval',\n",
       " 'ad_document_id',\n",
       " 'campaign_id',\n",
       " 'advertiser_id',\n",
       " 'source_id',\n",
       " 'publisher_id',\n",
       " 'publish_year',\n",
       " 'dt_conf',\n",
       " 'de_conf',\n",
       " 'dc_conf']"
      ]
     },
     "execution_count": 29,
     "metadata": {},
     "output_type": "execute_result"
    }
   ],
   "source": [
    "train.columns"
   ]
  },
  {
   "cell_type": "code",
   "execution_count": 30,
   "id": "14b68662",
   "metadata": {},
   "outputs": [
    {
     "data": {
      "text/plain": [
       "['display_id',\n",
       " 'ad_id',\n",
       " 'uuid',\n",
       " 'document_id',\n",
       " 'platform',\n",
       " 'country',\n",
       " 'state',\n",
       " 'area',\n",
       " 'timestamp_count',\n",
       " 'timestamp_interval',\n",
       " 'ad_document_id',\n",
       " 'campaign_id',\n",
       " 'advertiser_id',\n",
       " 'source_id',\n",
       " 'publisher_id',\n",
       " 'publish_year',\n",
       " 'dt_conf',\n",
       " 'de_conf',\n",
       " 'dc_conf']"
      ]
     },
     "execution_count": 30,
     "metadata": {},
     "output_type": "execute_result"
    }
   ],
   "source": [
    "test.columns"
   ]
  },
  {
   "cell_type": "code",
   "execution_count": 21,
   "id": "d6452de2",
   "metadata": {},
   "outputs": [],
   "source": [
    "#train.registerTempTable(\"train\")\n",
    "test.registerTempTable(\"test\")"
   ]
  },
  {
   "cell_type": "markdown",
   "id": "8ba11704",
   "metadata": {},
   "source": [
    "## Отправка данных в VW"
   ]
  },
  {
   "cell_type": "markdown",
   "id": "07ec741b",
   "metadata": {},
   "source": [
    "**Спойлер** всё вплоть до следующего заголовка оказалось неактуальным. Я неделю пытался создать датасет с большим количеством фичей, дебажил разные баги, но днём воскресенья после попытки обучить модель на этих 24 фичах у меня начали вылетать логи, свидетельствующие о том, что в некоторых численных фичах (publish_year) есть пропуски, которые почему-то не убрались при вызове df.na.fill(0). В итоге я отправил в мусорку этот датасет на 600гб, предварительно восстановив тетрадку, почищенную от логов на 600к строчек и 200мб веса (запустилась только в notepad++, в бразуере всё плохо и грустно было). Поэтому на своём опыте сделал для себя вывод, что в больших данных нужно аккуратнее относиться к принципу \"больше - лучше\""
   ]
  },
  {
   "cell_type": "code",
   "execution_count": 39,
   "id": "2fad5025",
   "metadata": {},
   "outputs": [],
   "source": [
    "import numpy as np"
   ]
  },
  {
   "cell_type": "code",
   "execution_count": 41,
   "id": "0611033f",
   "metadata": {},
   "outputs": [
    {
     "name": "stdout",
     "output_type": "stream",
     "text": [
      "+----------+\n",
      "|display_id|\n",
      "+----------+\n",
      "|   7409487|\n",
      "|   1669113|\n",
      "|   5542913|\n",
      "|    247014|\n",
      "|  12181190|\n",
      "|  16091547|\n",
      "|   4219541|\n",
      "|   4172827|\n",
      "|    481989|\n",
      "|   6737045|\n",
      "|   3348231|\n",
      "|   6246567|\n",
      "|   9692390|\n",
      "|   8055831|\n",
      "|   7213458|\n",
      "|  12571579|\n",
      "|   7168341|\n",
      "|   3938525|\n",
      "|   6151850|\n",
      "|  15220669|\n",
      "+----------+\n",
      "only showing top 20 rows\n",
      "\n"
     ]
    },
    {
     "ename": "TypeError",
     "evalue": "object of type 'NoneType' has no len()",
     "output_type": "error",
     "traceback": [
      "\u001b[0;31m---------------------------------------------------------------------------\u001b[0m",
      "\u001b[0;31mTypeError\u001b[0m                                 Traceback (most recent call last)",
      "\u001b[0;32m<ipython-input-41-828079faa686>\u001b[0m in \u001b[0;36m<module>\u001b[0;34m\u001b[0m\n\u001b[1;32m      1\u001b[0m \u001b[0mids\u001b[0m \u001b[0;34m=\u001b[0m \u001b[0mtrain\u001b[0m\u001b[0;34m.\u001b[0m\u001b[0mselect\u001b[0m\u001b[0;34m(\u001b[0m\u001b[0;34m\"display_id\"\u001b[0m\u001b[0;34m)\u001b[0m\u001b[0;34m.\u001b[0m\u001b[0mdistinct\u001b[0m\u001b[0;34m(\u001b[0m\u001b[0;34m)\u001b[0m\u001b[0;34m.\u001b[0m\u001b[0mshow\u001b[0m\u001b[0;34m(\u001b[0m\u001b[0;34m)\u001b[0m\u001b[0;34m\u001b[0m\u001b[0;34m\u001b[0m\u001b[0m\n\u001b[1;32m      2\u001b[0m \u001b[0;31m# возьмём 25% в валидацию, чтобы размеры валидационной и тестовой выборок были примерно равны\u001b[0m\u001b[0;34m\u001b[0m\u001b[0;34m\u001b[0m\u001b[0;34m\u001b[0m\u001b[0m\n\u001b[0;32m----> 3\u001b[0;31m \u001b[0mids\u001b[0m \u001b[0;34m=\u001b[0m \u001b[0mnp\u001b[0m\u001b[0;34m.\u001b[0m\u001b[0mrandom\u001b[0m\u001b[0;34m.\u001b[0m\u001b[0mchoice\u001b[0m\u001b[0;34m(\u001b[0m\u001b[0mids\u001b[0m\u001b[0;34m,\u001b[0m \u001b[0msize\u001b[0m\u001b[0;34m=\u001b[0m\u001b[0mlen\u001b[0m\u001b[0;34m(\u001b[0m\u001b[0mids\u001b[0m\u001b[0;34m)\u001b[0m\u001b[0;34m*\u001b[0m\u001b[0;36m0.25\u001b[0m\u001b[0;34m,\u001b[0m \u001b[0mreplace\u001b[0m\u001b[0;34m=\u001b[0m\u001b[0;32mFalse\u001b[0m\u001b[0;34m)\u001b[0m\u001b[0;34m\u001b[0m\u001b[0;34m\u001b[0m\u001b[0m\n\u001b[0m\u001b[1;32m      4\u001b[0m \u001b[0;34m\u001b[0m\u001b[0m\n\u001b[1;32m      5\u001b[0m \u001b[0mval\u001b[0m \u001b[0;34m=\u001b[0m \u001b[0mtrain\u001b[0m\u001b[0;34m[\u001b[0m\u001b[0mtrain\u001b[0m\u001b[0;34m.\u001b[0m\u001b[0mdisplay_id\u001b[0m\u001b[0;34m.\u001b[0m\u001b[0misin\u001b[0m\u001b[0;34m(\u001b[0m\u001b[0mids\u001b[0m\u001b[0;34m)\u001b[0m\u001b[0;34m]\u001b[0m\u001b[0;34m\u001b[0m\u001b[0;34m\u001b[0m\u001b[0m\n",
      "\u001b[0;31mTypeError\u001b[0m: object of type 'NoneType' has no len()"
     ]
    }
   ],
   "source": [
    "ids = train.select(\"display_id\").distinct().show()\n",
    "# возьмём 25% в валидацию, чтобы размеры валидационной и тестовой выборок были примерно равны\n",
    "ids = np.random.choice(ids, size=len(ids)*0.25, replace=False)\n",
    "\n",
    "val = train[train.display_id.isin(ids)]\n",
    "train = train[~train.display_id.isin(ids)]"
   ]
  },
  {
   "cell_type": "markdown",
   "id": "eee2f4ae",
   "metadata": {},
   "source": [
    "Разделить выборку на трейн и валидацию с группировкой по дисплею не получилось снахлёсту, поэтому в качестве безлайна воспользуемся простым рандомным разбиением и отнесёмся индиффирентно к тому, что один и тот же дисплей может оказаться и в трейне, и в валидации, ведь по сути мы обучаем модель под задачу классификации, то есть модель должна запомнить какие столбцы уже известных нам признаков лучше дифференцируют вероятность клика по конкретной рекламе.\n",
    "\n",
    "Если окажется, что в текущих условиях качество будет слишком плохим или наоборот подозрительно хорошим, то вернёмся к задаче группировки по дисплею"
   ]
  },
  {
   "cell_type": "code",
   "execution_count": 33,
   "id": "efe3f50f",
   "metadata": {},
   "outputs": [],
   "source": [
    "train, val = train.randomSplit([.75, .25], 2022)\n",
    "train, val = train.cache(), val.cache()"
   ]
  },
  {
   "cell_type": "code",
   "execution_count": 49,
   "id": "a0562ce5",
   "metadata": {},
   "outputs": [
    {
     "data": {
      "text/plain": [
       "['display_id',\n",
       " 'ad_id',\n",
       " 'clicked',\n",
       " 'uuid',\n",
       " 'document_id',\n",
       " 'day',\n",
       " 'platform',\n",
       " 'country',\n",
       " 'state',\n",
       " 'area',\n",
       " 'timestamp_count',\n",
       " 'timestamp_interval',\n",
       " 'timestamp_mean',\n",
       " 'ad_document_id',\n",
       " 'campaign_id',\n",
       " 'advertiser_id',\n",
       " 'source_id',\n",
       " 'publisher_id',\n",
       " 'publish_year',\n",
       " 'topic_id',\n",
       " 'dt_conf',\n",
       " 'entity_id',\n",
       " 'de_conf',\n",
       " 'category_id',\n",
       " 'dc_conf']"
      ]
     },
     "execution_count": 49,
     "metadata": {},
     "output_type": "execute_result"
    }
   ],
   "source": [
    "train.columns"
   ]
  },
  {
   "cell_type": "code",
   "execution_count": 22,
   "id": "9b02c249",
   "metadata": {},
   "outputs": [],
   "source": [
    "def convert_to_vw_class(\n",
    "    data,\n",
    "    is_train=True):\n",
    "    data = data.asDict()\n",
    "    \n",
    "    tags = 'display_id_'+str(data['display_id'])+'_ad_id_'+str(data['ad_id'])+'|'\n",
    "        \n",
    "    # сначала единым namespace добавляем числовые фичи, явно отражая это через :\n",
    "    \n",
    "    features = 'numeric time_c:'+str(data['timestamp_count'])+\\\n",
    "                ' time_i:'+str(data['timestamp_interval'])+\\\n",
    "                ' pub_y:'+str(data['publish_year'])+\\\n",
    "                ' dt_c:'+str(data['dt_conf'])[:5]+\\\n",
    "                ' de_c:'+str(data['de_conf'])[:5]+\\\n",
    "                ' dc_c:'+str(data['dc_conf'])[:5]+\\\n",
    "                            ' |a '+str(data['display_id'])+\\\n",
    "                            ' |b '+str(data['ad_id'])+\\\n",
    "                            ' |c '+str(data['uuid'])+\\\n",
    "                            ' |d '+str(data['document_id'])+\\\n",
    "                            ' |e '+str(data['platform'])+\\\n",
    "                            ' |f '+str(data['country'])+\\\n",
    "                            ' |g '+str(data['state'])+\\\n",
    "                            ' |h '+str(data['area'])+\\\n",
    "                            ' |i '+str(data['ad_document_id'])+\\\n",
    "                            ' |j '+str(data['campaign_id'])+\\\n",
    "                            ' |k '+str(data['advertiser_id'])+\\\n",
    "                            ' |l '+str(data['source_id'])+\\\n",
    "                            ' |m '+str(data['publisher_id'])\n",
    "    \n",
    "    if is_train:\n",
    "        if data['clicked'] == 0:\n",
    "            data['clicked'] = -1\n",
    "        template = '{target} {tags}{features}'\n",
    "        return template.format(\n",
    "            target=data['clicked'], \n",
    "            features=features, \n",
    "            tags=tags)\n",
    "    else:\n",
    "        template = '{tags}{features}'\n",
    "        return template.format(\n",
    "                        features=features,\n",
    "                        tags=tags)"
   ]
  },
  {
   "cell_type": "code",
   "execution_count": 36,
   "id": "99916047",
   "metadata": {},
   "outputs": [
    {
     "data": {
      "text/plain": [
       "'numeric time_c:9 time_i:10 pub_y:16 dt_c:17 de_c:18 dc_c:19 |a 0 |b 1 |c 3 |d 4 |e 5 |f 6 |g 7 |h 8 |i 11 |j 12 |k 13 |l 14 |m 15'"
      ]
     },
     "execution_count": 36,
     "metadata": {},
     "output_type": "execute_result"
    }
   ],
   "source": [
    "abc = dict(zip(train.columns, range(len(train.columns))))\n",
    "\n",
    "features = 'numeric time_c:'+str(abc['timestamp_count'])+\\\n",
    "                ' time_i:'+str(abc['timestamp_interval'])+\\\n",
    "                ' pub_y:'+str(abc['publish_year'])+\\\n",
    "                ' dt_c:'+str(abc['dt_conf'])[:5]+\\\n",
    "                ' de_c:'+str(abc['de_conf'])[:5]+\\\n",
    "                ' dc_c:'+str(abc['dc_conf'])[:5]+\\\n",
    "                    ' |a '+str(abc['display_id'])+\\\n",
    "                    ' |b '+str(abc['ad_id'])+\\\n",
    "                    ' |c '+str(abc['uuid'])+\\\n",
    "                    ' |d '+str(abc['document_id'])+\\\n",
    "                    ' |e '+str(abc['platform'])+\\\n",
    "                    ' |f '+str(abc['country'])+\\\n",
    "                    ' |g '+str(abc['state'])+\\\n",
    "                    ' |h '+str(abc['area'])+\\\n",
    "                    ' |i '+str(abc['ad_document_id'])+\\\n",
    "                    ' |j '+str(abc['campaign_id'])+\\\n",
    "                    ' |k '+str(abc['advertiser_id'])+\\\n",
    "                    ' |l '+str(abc['source_id'])+\\\n",
    "                    ' |m '+str(abc['publisher_id'])\n",
    "\n",
    "features"
   ]
  },
  {
   "cell_type": "code",
   "execution_count": 39,
   "id": "34428bea",
   "metadata": {},
   "outputs": [
    {
     "name": "stdout",
     "output_type": "stream",
     "text": [
      "2 display_id_0_ad_id_1|numeric time_c:9 time_i:10 pub_y:16 dt_c:17 de_c:18 dc_c:19  |a 0 |b 1 |c 3 |d 4 |e 5 |f 6 |g 7 |h 8 |i 11 |j 12 |k 13 |l 14 |m 15\n"
     ]
    }
   ],
   "source": [
    "print(convert_to_vw_class(abc))"
   ]
  },
  {
   "cell_type": "code",
   "execution_count": 50,
   "id": "99af5d46",
   "metadata": {},
   "outputs": [
    {
     "name": "stdout",
     "output_type": "stream",
     "text": [
      "CPU times: user 4.23 ms, sys: 0 ns, total: 4.23 ms\n",
      "Wall time: 239 ms\n"
     ]
    }
   ],
   "source": [
    "%%time\n",
    "train = train.na.fill(0)\n",
    "train.registerTempTable(\"train\")\n",
    "\n",
    "val = val.na.fill(0)\n",
    "val.registerTempTable(\"val\")"
   ]
  },
  {
   "cell_type": "code",
   "execution_count": 23,
   "id": "2bf5987e",
   "metadata": {},
   "outputs": [],
   "source": [
    "test = test.na.fill(0)\n",
    "test.registerTempTable(\"test\")"
   ]
  },
  {
   "cell_type": "code",
   "execution_count": 54,
   "id": "39ed7d0d",
   "metadata": {},
   "outputs": [
    {
     "name": "stdout",
     "output_type": "stream",
     "text": [
      "-1 display_id_100_ad_id_61159|numeric time_c:1 time_i:0 pub_y:2016 dt_c:0.009 de_c:0.0 dc_c:0.038 |a 100 |b 61159 |c 501c79f343ad29 |d 1717049 |e 1 |f -1077041708 |g 1886535265 |h 825 |i 992370 |j 7283 |k 1919 |l 9606 |m 1066\n",
      "-1 display_id_100_ad_id_61159|numeric time_c:1 time_i:0 pub_y:2016 dt_c:0.161 de_c:0.0 dc_c:0.501 |a 100 |b 61159 |c 501c79f343ad29 |d 1717049 |e 1 |f -1077041708 |g 1886535265 |h 825 |i 992370 |j 7283 |k 1919 |l 9606 |m 1066\n",
      "-1 display_id_100_ad_id_149541|numeric time_c:1 time_i:0 pub_y:2016 dt_c:0.009 de_c:0.0 dc_c:0.038 |a 100 |b 149541 |c 501c79f343ad29 |d 1717049 |e 1 |f -1077041708 |g 1886535265 |h 825 |i 1106570 |j 11201 |k 2670 |l 9606 |m 1066\n",
      "CPU times: user 3.37 ms, sys: 6.01 ms, total: 9.38 ms\n",
      "Wall time: 31.2 s\n"
     ]
    }
   ],
   "source": [
    "%%time\n",
    "for i in train.take(3):\n",
    "    print(convert_to_vw_class(i))"
   ]
  },
  {
   "cell_type": "code",
   "execution_count": 53,
   "id": "b6200e70",
   "metadata": {},
   "outputs": [
    {
     "data": {
      "text/plain": [
       "148"
      ]
     },
     "execution_count": 53,
     "metadata": {},
     "output_type": "execute_result"
    }
   ],
   "source": [
    "import gc\n",
    "gc.collect()"
   ]
  },
  {
   "cell_type": "code",
   "execution_count": 44,
   "id": "cd517025",
   "metadata": {},
   "outputs": [],
   "source": [
    "!hdfs dfs -mkdir -p /user/outbrain/vw"
   ]
  },
  {
   "cell_type": "code",
   "execution_count": 52,
   "id": "f4620d6b",
   "metadata": {},
   "outputs": [
    {
     "name": "stdout",
     "output_type": "stream",
     "text": [
      "rm: `/user/outbrain/vw/val.vw': No such file or directory\n",
      "rm: `/user/outbrain/vw/train.vw': No such file or directory\n"
     ]
    }
   ],
   "source": [
    "! hdfs dfs -rm -r '/user/outbrain/vw/val.vw'\n",
    "! hdfs dfs -rm -r '/user/outbrain/vw/train.vw'"
   ]
  },
  {
   "cell_type": "code",
   "execution_count": 55,
   "id": "cc7c41dd",
   "metadata": {},
   "outputs": [],
   "source": [
    "train.rdd.map(lambda x: convert_to_vw_class(x)).saveAsTextFile('/user/outbrain/vw/train.vw')"
   ]
  },
  {
   "cell_type": "code",
   "execution_count": 56,
   "id": "2b085ce1",
   "metadata": {},
   "outputs": [],
   "source": [
    "val.rdd.map(lambda x: convert_to_vw_class(x)).saveAsTextFile('/user/outbrain/vw/val.vw')"
   ]
  },
  {
   "cell_type": "code",
   "execution_count": 24,
   "id": "a9dbd566",
   "metadata": {},
   "outputs": [
    {
     "name": "stdout",
     "output_type": "stream",
     "text": [
      "Deleted /user/outbrain/vw/test.vw\r\n"
     ]
    }
   ],
   "source": [
    "! hdfs dfs -rm -r '/user/outbrain/vw/test.vw'"
   ]
  },
  {
   "cell_type": "code",
   "execution_count": 25,
   "id": "1a0cf0c6",
   "metadata": {},
   "outputs": [],
   "source": [
    "test.rdd.map(lambda x: convert_to_vw_class(x, is_train=False)).saveAsTextFile('/user/outbrain/vw/test.vw')"
   ]
  },
  {
   "cell_type": "code",
   "execution_count": 77,
   "id": "24eb718a",
   "metadata": {},
   "outputs": [
    {
     "name": "stdout",
     "output_type": "stream",
     "text": [
      "2022-03-22 14:10:54,463 INFO client.RMProxy: Connecting to ResourceManager at rc1a-dataproc-m-5qpakob61ma7t4ug.mdb.yandexcloud.net/10.128.0.15:8032\n",
      "2022-03-22 14:10:54,683 INFO client.AHSProxy: Connecting to Application History server at rc1a-dataproc-m-5qpakob61ma7t4ug.mdb.yandexcloud.net/10.128.0.15:10200\n",
      "Killing application application_1647688802704_0001\n",
      "2022-03-22 14:10:55,020 INFO impl.YarnClientImpl: Killed application application_1647688802704_0001\n"
     ]
    }
   ],
   "source": [
    "!yarn application -kill application_1647688802704_0001"
   ]
  },
  {
   "cell_type": "code",
   "execution_count": 49,
   "id": "bdab3299",
   "metadata": {},
   "outputs": [],
   "source": [
    "sc.cancelAllJobs()"
   ]
  },
  {
   "cell_type": "code",
   "execution_count": 45,
   "id": "b49609cb",
   "metadata": {},
   "outputs": [
    {
     "name": "stdout",
     "output_type": "stream",
     "text": [
      "Found 2 items\r\n",
      "drwxr-xr-x   - ubuntu hadoop          0 2022-03-24 10:58 /user/outbrain/vw/train.vw\r\n",
      "drwxr-xr-x   - ubuntu hadoop          0 2022-03-23 11:00 /user/outbrain/vw/val.vw\r\n"
     ]
    }
   ],
   "source": [
    "!hdfs dfs -ls /user/outbrain/vw"
   ]
  },
  {
   "cell_type": "markdown",
   "id": "96cacbd3",
   "metadata": {},
   "source": [
    "# Строим модель через VW"
   ]
  },
  {
   "cell_type": "code",
   "execution_count": 26,
   "id": "8be5ee30",
   "metadata": {},
   "outputs": [
    {
     "name": "stdout",
     "output_type": "stream",
     "text": [
      "cat: Unable to write to output stream.\n",
      "cat: Unable to write to output stream.\n",
      "cat: Unable to write to output stream.\n",
      "cat: Unable to write to output stream.\n",
      "cat: Unable to write to output stream.\n",
      "cat: Unable to write to output stream.\n",
      "cat: Unable to write to output stream.\n",
      "cat: Unable to write to output stream.\n",
      "cat: Unable to write to output stream.\n",
      "cat: Unable to write to output stream.\n",
      "cat: Unable to write to output stream.\n",
      "cat: Unable to write to output stream.\n",
      "cat: Unable to write to output stream.\n",
      "cat: Unable to write to output stream.\n",
      "cat: Unable to write to output stream.\n",
      "cat: Unable to write to output stream.\n",
      "cat: Unable to write to output stream.\n",
      "cat: Unable to write to output stream.\n",
      "cat: Unable to write to output stream.\n",
      "cat: Unable to write to output stream.\n",
      "cat: Unable to write to output stream.\n",
      "cat: Unable to write to output stream.\n",
      "cat: Unable to write to output stream.\n",
      "cat: Unable to write to output stream.\n",
      "cat: Unable to write to output stream.\n",
      "cat: Unable to write to output stream.\n",
      "cat: Unable to write to output stream.\n",
      "cat: Unable to write to output stream.\n",
      "cat: Unable to write to output stream.\n",
      "cat: Unable to write to output stream.\n",
      "cat: Unable to write to output stream.\n",
      "cat: Unable to write to output stream.\n",
      "cat: Unable to write to output stream.\n",
      "cat: Unable to write to output stream.\n",
      "cat: Unable to write to output stream.\n",
      "cat: Unable to write to output stream.\n",
      "cat: Unable to write to output stream.\n",
      "cat: Unable to write to output stream.\n",
      "cat: Unable to write to output stream.\n",
      "cat: Unable to write to output stream.\n",
      "cat: Unable to write to output stream.\n",
      "cat: Unable to write to output stream.\n",
      "cat: Unable to write to output stream.\n",
      "cat: Unable to write to output stream.\n",
      "cat: Unable to write to output stream.\n",
      "cat: Unable to write to output stream.\n",
      "cat: Unable to write to output stream.\n",
      "cat: Unable to write to output stream.\n",
      "cat: Unable to write to output stream.\n",
      "cat: Unable to write to output stream.\n",
      "cat: Unable to write to output stream.\n",
      "cat: Unable to write to output stream.\n",
      "cat: Unable to write to output stream.\n",
      "cat: Unable to write to output stream.\n",
      "cat: Unable to write to output stream.\n",
      "cat: Unable to write to output stream.\n",
      "cat: Unable to write to output stream.\n",
      "cat: Unable to write to output stream.\n",
      "cat: Unable to write to output stream.\n",
      "cat: Unable to write to output stream.\n",
      "cat: Unable to write to output stream.\n",
      "cat: Unable to write to output stream.\n",
      "cat: Unable to write to output stream.\n",
      "cat: Unable to write to output stream.\n",
      "cat: Unable to write to output stream.\n",
      "cat: Unable to write to output stream.\n",
      "cat: Unable to write to output stream.\n",
      "cat: Unable to write to output stream.\n",
      "cat: Unable to write to output stream.\n",
      "cat: Unable to write to output stream.\n",
      "cat: Unable to write to output stream.\n",
      "cat: Unable to write to output stream.\n",
      "cat: Unable to write to output stream.\n",
      "cat: Unable to write to output stream.\n",
      "cat: Unable to write to output stream.\n",
      "cat: Unable to write to output stream.\n",
      "cat: Unable to write to output stream.\n",
      "cat: Unable to write to output stream.\n",
      "cat: Unable to write to output stream.\n",
      "cat: Unable to write to output stream.\n",
      "cat: Unable to write to output stream.\n",
      "cat: Unable to write to output stream.\n",
      "cat: Unable to write to output stream.\n",
      "cat: Unable to write to output stream.\n",
      "cat: Unable to write to output stream.\n",
      "cat: Unable to write to output stream.\n",
      "cat: Unable to write to output stream.\n",
      "cat: Unable to write to output stream.\n",
      "cat: Unable to write to output stream.\n",
      "cat: Unable to write to output stream.\n",
      "cat: Unable to write to output stream.\n",
      "cat: Unable to write to output stream.\n",
      "cat: Unable to write to output stream.\n",
      "cat: Unable to write to output stream.\n",
      "cat: Unable to write to output stream.\n",
      "cat: Unable to write to output stream.\n",
      "cat: Unable to write to output stream.\n",
      "cat: Unable to write to output stream.\n",
      "cat: Unable to write to output stream.\n",
      "cat: Unable to write to output stream.\n",
      "cat: Unable to write to output stream.\n",
      "cat: Unable to write to output stream.\n",
      "cat: Unable to write to output stream.\n",
      "cat: Unable to write to output stream.\n",
      "cat: Unable to write to output stream.\n",
      "cat: Unable to write to output stream.\n",
      "cat: Unable to write to output stream.\n",
      "cat: Unable to write to output stream.\n",
      "cat: Unable to write to output stream.\n",
      "cat: Unable to write to output stream.\n",
      "cat: Unable to write to output stream.\n",
      "cat: Unable to write to output stream.\n",
      "cat: Unable to write to output stream.\n",
      "cat: Unable to write to output stream.\n",
      "cat: Unable to write to output stream.\n",
      "cat: Unable to write to output stream.\n",
      "cat: Unable to write to output stream.\n",
      "cat: Unable to write to output stream.\n",
      "cat: Unable to write to output stream.\n",
      "cat: Unable to write to output stream.\n",
      "cat: Unable to write to output stream.\n",
      "cat: Unable to write to output stream.\n",
      "cat: Unable to write to output stream.\n",
      "cat: Unable to write to output stream.\n",
      "cat: Unable to write to output stream.\n",
      "cat: Unable to write to output stream.\n",
      "cat: Unable to write to output stream.\n",
      "cat: Unable to write to output stream.\n",
      "cat: Unable to write to output stream.\n",
      "cat: Unable to write to output stream.\n",
      "cat: Unable to write to output stream.\n",
      "cat: Unable to write to output stream.\n",
      "cat: Unable to write to output stream.\n",
      "cat: Unable to write to output stream.\n",
      "cat: Unable to write to output stream.\n",
      "cat: Unable to write to output stream.\n",
      "cat: Unable to write to output stream.\n",
      "cat: Unable to write to output stream.\n",
      "cat: Unable to write to output stream.\n",
      "cat: Unable to write to output stream.\n",
      "cat: Unable to write to output stream.\n",
      "cat: Unable to write to output stream.\n",
      "cat: Unable to write to output stream.\n",
      "cat: Unable to write to output stream.\n",
      "cat: Unable to write to output stream.\n",
      "cat: Unable to write to output stream.\n",
      "cat: Unable to write to output stream.\n",
      "cat: Unable to write to output stream.\n",
      "cat: Unable to write to output stream.\n",
      "cat: Unable to write to output stream.\n",
      "cat: Unable to write to output stream.\n",
      "cat: Unable to write to output stream.\n",
      "cat: Unable to write to output stream.\n",
      "cat: Unable to write to output stream.\n",
      "cat: Unable to write to output stream.\n",
      "cat: Unable to write to output stream.\n",
      "cat: Unable to write to output stream.\n",
      "cat: Unable to write to output stream.\n",
      "cat: Unable to write to output stream.\n",
      "cat: Unable to write to output stream.\n",
      "cat: Unable to write to output stream.\n",
      "cat: Unable to write to output stream.\n",
      "cat: Unable to write to output stream.\n",
      "cat: Unable to write to output stream.\n",
      "cat: Unable to write to output stream.\n",
      "cat: Unable to write to output stream.\n",
      "cat: Unable to write to output stream.\n",
      "cat: Unable to write to output stream.\n",
      "cat: Unable to write to output stream.\n",
      "cat: Unable to write to output stream.\n",
      "cat: Unable to write to output stream.\n",
      "cat: Unable to write to output stream.\n",
      "cat: Unable to write to output stream.\n",
      "cat: Unable to write to output stream.\n",
      "cat: Unable to write to output stream.\n",
      "cat: Unable to write to output stream.\n",
      "cat: Unable to write to output stream.\n",
      "cat: Unable to write to output stream.\n",
      "cat: Unable to write to output stream.\n",
      "cat: Unable to write to output stream.\n",
      "cat: Unable to write to output stream.\n",
      "cat: Unable to write to output stream.\n",
      "cat: Unable to write to output stream.\n",
      "cat: Unable to write to output stream.\n",
      "cat: Unable to write to output stream.\n",
      "cat: Unable to write to output stream.\n",
      "cat: Unable to write to output stream.\n",
      "cat: Unable to write to output stream.\n",
      "cat: Unable to write to output stream.\n",
      "cat: Unable to write to output stream.\n",
      "cat: Unable to write to output stream.\n",
      "cat: Unable to write to output stream.\n",
      "cat: Unable to write to output stream.\n",
      "cat: Unable to write to output stream.\n",
      "cat: Unable to write to output stream.\n",
      "cat: Unable to write to output stream.\n",
      "cat: Unable to write to output stream.\n",
      "cat: Unable to write to output stream.\n",
      "cat: Unable to write to output stream.\n",
      "cat: Unable to write to output stream.\n",
      "cat: Unable to write to output stream.\n",
      "cat: Unable to write to output stream.\n",
      "cat: Unable to write to output stream.\n",
      "cat: Unable to write to output stream.\n",
      "cat: Unable to write to output stream.\n",
      "cat: Unable to write to output stream.\n",
      "cat: Unable to write to output stream.\n",
      "cat: Unable to write to output stream.\n",
      "cat: Unable to write to output stream.\n",
      "cat: Unable to write to output stream.\n",
      "cat: Unable to write to output stream.\n",
      "cat: Unable to write to output stream.\n",
      "cat: Unable to write to output stream.\n",
      "cat: Unable to write to output stream.\n",
      "cat: Unable to write to output stream.\n",
      "cat: Unable to write to output stream.\n",
      "cat: Unable to write to output stream.\n",
      "cat: Unable to write to output stream.\n",
      "cat: Unable to write to output stream.\n",
      "cat: Unable to write to output stream.\n",
      "cat: Unable to write to output stream.\n",
      "cat: Unable to write to output stream.\n",
      "cat: Unable to write to output stream.\n",
      "cat: Unable to write to output stream.\n",
      "cat: Unable to write to output stream.\n",
      "cat: Unable to write to output stream.\n",
      "cat: Unable to write to output stream.\n",
      "cat: Unable to write to output stream.\n",
      "cat: Unable to write to output stream.\n",
      "cat: Unable to write to output stream.\n",
      "cat: Unable to write to output stream.\n",
      "cat: Unable to write to output stream.\n",
      "cat: Unable to write to output stream.\n",
      "cat: Unable to write to output stream.\n",
      "cat: Unable to write to output stream.\n",
      "cat: Unable to write to output stream.\n",
      "cat: Unable to write to output stream.\n",
      "cat: Unable to write to output stream.\n",
      "cat: Unable to write to output stream.\n",
      "cat: Unable to write to output stream.\n",
      "cat: Unable to write to output stream.\n",
      "cat: Unable to write to output stream.\n",
      "cat: Unable to write to output stream.\n",
      "cat: Unable to write to output stream.\n",
      "cat: Unable to write to output stream.\n",
      "cat: Unable to write to output stream.\n",
      "cat: Unable to write to output stream.\n",
      "cat: Unable to write to output stream.\n",
      "cat: Unable to write to output stream.\n",
      "cat: Unable to write to output stream.\n",
      "cat: Unable to write to output stream.\n",
      "cat: Unable to write to output stream.\n",
      "cat: Unable to write to output stream.\n",
      "cat: Unable to write to output stream.\n",
      "cat: Unable to write to output stream.\n",
      "cat: Unable to write to output stream.\n",
      "cat: Unable to write to output stream.\n",
      "cat: Unable to write to output stream.\n",
      "cat: Unable to write to output stream.\n",
      "cat: Unable to write to output stream.\n",
      "cat: Unable to write to output stream.\n",
      "cat: Unable to write to output stream.\n",
      "cat: Unable to write to output stream.\n",
      "cat: Unable to write to output stream.\n",
      "cat: Unable to write to output stream.\n",
      "cat: Unable to write to output stream.\n",
      "cat: Unable to write to output stream.\n",
      "cat: Unable to write to output stream.\n",
      "cat: Unable to write to output stream.\n",
      "cat: Unable to write to output stream.\n",
      "cat: Unable to write to output stream.\n",
      "cat: Unable to write to output stream.\n",
      "cat: Unable to write to output stream.\n",
      "cat: Unable to write to output stream.\n",
      "cat: Unable to write to output stream.\n",
      "cat: Unable to write to output stream.\n",
      "cat: Unable to write to output stream.\n",
      "cat: Unable to write to output stream.\n",
      "cat: Unable to write to output stream.\n",
      "cat: Unable to write to output stream.\n",
      "cat: Unable to write to output stream.\n",
      "cat: Unable to write to output stream.\n",
      "cat: Unable to write to output stream.\n",
      "cat: Unable to write to output stream.\n",
      "cat: Unable to write to output stream.\n",
      "cat: Unable to write to output stream.\n",
      "cat: Unable to write to output stream.\n",
      "cat: Unable to write to output stream.\n",
      "cat: Unable to write to output stream.\n",
      "cat: Unable to write to output stream.\n",
      "cat: Unable to write to output stream.\n",
      "cat: Unable to write to output stream.\n",
      "cat: Unable to write to output stream.\n",
      "cat: Unable to write to output stream.\n",
      "cat: Unable to write to output stream.\n",
      "cat: Unable to write to output stream.\n",
      "cat: Unable to write to output stream.\n",
      "cat: Unable to write to output stream.\n",
      "cat: Unable to write to output stream.\n",
      "cat: Unable to write to output stream.\n",
      "cat: Unable to write to output stream.\n",
      "cat: Unable to write to output stream.\n",
      "cat: Unable to write to output stream.\n",
      "cat: Unable to write to output stream.\n",
      "cat: Unable to write to output stream.\n",
      "cat: Unable to write to output stream.\n",
      "cat: Unable to write to output stream.\n",
      "cat: Unable to write to output stream.\n",
      "cat: Unable to write to output stream.\n",
      "cat: Unable to write to output stream.\n",
      "cat: Unable to write to output stream.\n",
      "cat: Unable to write to output stream.\n",
      "cat: Unable to write to output stream.\n",
      "cat: Unable to write to output stream.\n",
      "cat: Unable to write to output stream.\n",
      "cat: Unable to write to output stream.\n",
      "cat: Unable to write to output stream.\n",
      "cat: Unable to write to output stream.\n",
      "cat: Unable to write to output stream.\n",
      "cat: Unable to write to output stream.\n",
      "cat: Unable to write to output stream.\n",
      "cat: Unable to write to output stream.\n",
      "cat: Unable to write to output stream.\n",
      "cat: Unable to write to output stream.\n",
      "cat: Unable to write to output stream.\n",
      "cat: Unable to write to output stream.\n",
      "cat: Unable to write to output stream.\n",
      "cat: Unable to write to output stream.\n",
      "cat: Unable to write to output stream.\n",
      "cat: Unable to write to output stream.\n",
      "cat: Unable to write to output stream.\n",
      "cat: Unable to write to output stream.\n",
      "cat: Unable to write to output stream.\n",
      "cat: Unable to write to output stream.\n",
      "cat: Unable to write to output stream.\n",
      "cat: Unable to write to output stream.\n",
      "cat: Unable to write to output stream.\n",
      "cat: Unable to write to output stream.\n",
      "cat: Unable to write to output stream.\n",
      "cat: Unable to write to output stream.\n",
      "cat: Unable to write to output stream.\n",
      "cat: Unable to write to output stream.\n",
      "cat: Unable to write to output stream.\n",
      "cat: Unable to write to output stream.\n",
      "cat: Unable to write to output stream.\n",
      "cat: Unable to write to output stream.\n",
      "cat: Unable to write to output stream.\n",
      "cat: Unable to write to output stream.\n",
      "cat: Unable to write to output stream.\n",
      "cat: Unable to write to output stream.\n",
      "cat: Unable to write to output stream.\n",
      "cat: Unable to write to output stream.\n",
      "cat: Unable to write to output stream.\n",
      "cat: Unable to write to output stream.\n",
      "cat: Unable to write to output stream.\n",
      "cat: Unable to write to output stream.\n",
      "cat: Unable to write to output stream.\n",
      "cat: Unable to write to output stream.\n",
      "cat: Unable to write to output stream.\n",
      "cat: Unable to write to output stream.\n",
      "cat: Unable to write to output stream.\n",
      "cat: Unable to write to output stream.\n",
      "cat: Unable to write to output stream.\n",
      "cat: Unable to write to output stream.\n",
      "cat: Unable to write to output stream.\n",
      "cat: Unable to write to output stream.\n",
      "cat: Unable to write to output stream.\n",
      "cat: Unable to write to output stream.\n",
      "cat: Unable to write to output stream.\n",
      "cat: Unable to write to output stream.\n",
      "cat: Unable to write to output stream.\n",
      "CPU times: user 2min 9s, sys: 31.9 s, total: 2min 41s\n",
      "Wall time: 2h 12min 3s\n"
     ]
    }
   ],
   "source": [
    "%%time\n",
    "!mkdir ~/bhw/vw\n",
    "\n",
    "!mkdir ~/bhw/vw/train\n",
    "!mkdir ~/bhw/vw/val\n",
    "!mkdir ~/bhw/vw/test\n",
    "\n",
    "! hdfs dfs -cat '/user/outbrain/vw/train.vw/*' > ~/bhw/vw/train/train.vw\n",
    "! hdfs dfs -cat '/user/outbrain/vw/val.vw/*' > ~/bhw/vw/val/val.vw\n",
    "! hdfs dfs -cat '/user/outbrain/vw/test.vw/*' > ~/bhw/vw/test/test.vw"
   ]
  },
  {
   "cell_type": "code",
   "execution_count": 1,
   "id": "43bb4025",
   "metadata": {},
   "outputs": [
    {
     "name": "stdout",
     "output_type": "stream",
     "text": [
      "--2022-03-27 12:09:31--  http://finance.yendor.com/ML/VW/Binaries/vw-8.20190624\n",
      "Resolving finance.yendor.com (finance.yendor.com)... 69.163.152.190\n",
      "Connecting to finance.yendor.com (finance.yendor.com)|69.163.152.190|:80... connected.\n",
      "HTTP request sent, awaiting response... 200 OK\n",
      "Length: 9467376 (9.0M)\n",
      "Saving to: ‘/usr/bin/vw’\n",
      "\n",
      "/usr/bin/vw         100%[===================>]   9.03M  1.15MB/s    in 22s     \n",
      "\n",
      "2022-03-27 12:09:55 (427 KB/s) - ‘/usr/bin/vw’ saved [9467376/9467376]\n",
      "\n",
      "Hit:1 http://mirror.yandex.ru/ubuntu focal InRelease\n",
      "Get:2 http://mirror.yandex.ru/ubuntu focal-updates InRelease [114 kB]          \n",
      "Hit:3 http://storage.yandexcloud.net/dataproc2x/ci/2-0-alpha-12 focal InRelease\n",
      "Get:4 http://mirror.yandex.ru/ubuntu focal-backports InRelease [108 kB]        \n",
      "Get:5 http://mirror.yandex.ru/mirrors/postgresql focal-pgdg InRelease [86.6 kB]\n",
      "Get:6 http://security.ubuntu.com/ubuntu focal-security InRelease [114 kB]      \n",
      "Get:7 https://repos.influxdata.com/ubuntu focal InRelease [4,736 B]            \n",
      "Hit:8 https://repo.saltproject.io/py3/ubuntu/20.04/amd64/3002 focal InRelease  \n",
      "Get:9 http://mirror.yandex.ru/ubuntu focal-updates/main amd64 Packages [1,674 kB]\n",
      "Get:10 http://mirror.yandex.ru/ubuntu focal-updates/main i386 Packages [621 kB]\n",
      "Get:11 http://mirror.yandex.ru/ubuntu focal-updates/main Translation-en [316 kB]\n",
      "Get:12 http://mirror.yandex.ru/ubuntu focal-updates/main amd64 c-n-f Metadata [14.9 kB]\n",
      "Get:13 http://mirror.yandex.ru/ubuntu focal-updates/restricted amd64 Packages [887 kB]\n",
      "Get:14 http://mirror.yandex.ru/ubuntu focal-updates/restricted i386 Packages [24.3 kB]\n",
      "Get:15 http://mirror.yandex.ru/ubuntu focal-updates/restricted Translation-en [127 kB]\n",
      "Get:16 http://mirror.yandex.ru/ubuntu focal-updates/restricted amd64 c-n-f Metadata [528 B]\n",
      "Get:17 http://mirror.yandex.ru/ubuntu focal-updates/universe amd64 Packages [913 kB]\n",
      "Get:18 http://mirror.yandex.ru/ubuntu focal-updates/universe i386 Packages [674 kB]\n",
      "Get:19 http://mirror.yandex.ru/ubuntu focal-updates/universe Translation-en [203 kB]\n",
      "Get:20 http://mirror.yandex.ru/ubuntu focal-updates/universe amd64 c-n-f Metadata [20.3 kB]\n",
      "Get:21 http://mirror.yandex.ru/ubuntu focal-updates/multiverse amd64 Packages [24.4 kB]\n",
      "Get:22 http://mirror.yandex.ru/ubuntu focal-updates/multiverse i386 Packages [8,432 B]\n",
      "Get:23 http://mirror.yandex.ru/ubuntu focal-updates/multiverse Translation-en [7,336 B]\n",
      "Get:24 http://mirror.yandex.ru/ubuntu focal-updates/multiverse amd64 c-n-f Metadata [592 B]\n",
      "Get:25 http://mirror.yandex.ru/ubuntu focal-backports/main i386 Packages [34.8 kB]\n",
      "Get:26 http://mirror.yandex.ru/ubuntu focal-backports/main amd64 Packages [42.2 kB]\n",
      "Get:27 http://mirror.yandex.ru/ubuntu focal-backports/main Translation-en [10.1 kB]\n",
      "Get:28 http://mirror.yandex.ru/ubuntu focal-backports/main amd64 c-n-f Metadata [864 B]\n",
      "Get:29 http://mirror.yandex.ru/ubuntu focal-backports/universe i386 Packages [12.9 kB]\n",
      "Get:30 http://mirror.yandex.ru/ubuntu focal-backports/universe amd64 Packages [22.7 kB]\n",
      "Get:31 http://mirror.yandex.ru/ubuntu focal-backports/universe Translation-en [15.4 kB]\n",
      "Get:32 http://mirror.yandex.ru/ubuntu focal-backports/universe amd64 c-n-f Metadata [804 B]\n",
      "Get:33 http://mirror.yandex.ru/mirrors/postgresql focal-pgdg/main amd64 Packages [230 kB]\n",
      "Get:34 https://packages.fluentbit.io/ubuntu/focal focal InRelease [10.9 kB]    \n",
      "Get:35 https://repos.influxdata.com/ubuntu focal/stable amd64 Packages [1,268 B]\n",
      "Get:36 https://repos.influxdata.com/ubuntu focal/stable i386 Packages [934 B]\n",
      "Get:37 http://security.ubuntu.com/ubuntu focal-security/main amd64 Packages [1,347 kB]\n",
      "Err:34 https://packages.fluentbit.io/ubuntu/focal focal InRelease \n",
      "  The following signatures couldn't be verified because the public key is not available: NO_PUBKEY 9F9DDC083888C1CD\n",
      "Get:38 http://security.ubuntu.com/ubuntu focal-security/main i386 Packages [407 kB]\n",
      "Get:39 http://security.ubuntu.com/ubuntu focal-security/main Translation-en [234 kB]\n",
      "Get:40 http://security.ubuntu.com/ubuntu focal-security/main amd64 c-n-f Metadata [9,800 B]\n",
      "Get:41 http://security.ubuntu.com/ubuntu focal-security/restricted i386 Packages [21.9 kB]\n",
      "Get:42 http://security.ubuntu.com/ubuntu focal-security/restricted amd64 Packages [831 kB]\n",
      "Get:43 http://security.ubuntu.com/ubuntu focal-security/restricted Translation-en [118 kB]\n",
      "Get:44 http://security.ubuntu.com/ubuntu focal-security/restricted amd64 c-n-f Metadata [532 B]\n",
      "Get:45 http://security.ubuntu.com/ubuntu focal-security/universe i386 Packages [547 kB]\n",
      "Get:46 http://security.ubuntu.com/ubuntu focal-security/universe amd64 Packages [695 kB]\n",
      "Get:47 http://security.ubuntu.com/ubuntu focal-security/universe Translation-en [122 kB]\n",
      "Get:48 http://security.ubuntu.com/ubuntu focal-security/universe amd64 c-n-f Metadata [14.1 kB]\n",
      "Get:49 http://security.ubuntu.com/ubuntu focal-security/multiverse amd64 Packages [20.7 kB]\n",
      "Get:50 http://security.ubuntu.com/ubuntu focal-security/multiverse i386 Packages [7,180 B]\n",
      "Get:51 http://security.ubuntu.com/ubuntu focal-security/multiverse Translation-en [5,196 B]\n",
      "Get:52 http://security.ubuntu.com/ubuntu focal-security/multiverse amd64 c-n-f Metadata [500 B]\n",
      "Fetched 10.7 MB in 2s (5,545 kB/s)                             \n",
      "Reading package lists... Done\n",
      "W: An error occurred during the signature verification. The repository is not updated and the previous index files will be used. GPG error: https://packages.fluentbit.io/ubuntu/focal focal InRelease: The following signatures couldn't be verified because the public key is not available: NO_PUBKEY 9F9DDC083888C1CD\n",
      "W: Failed to fetch https://packages.fluentbit.io/ubuntu/focal/dists/focal/InRelease  The following signatures couldn't be verified because the public key is not available: NO_PUBKEY 9F9DDC083888C1CD\n",
      "W: Some index files failed to download. They have been ignored, or old ones used instead.\n",
      "Reading package lists... Done\n",
      "Building dependency tree       \n",
      "Reading state information... Done\n",
      "The following additional packages will be installed:\n",
      "  fontconfig fonts-liberation libann0 libcairo2 libcdt5 libcgraph6 libdatrie1\n",
      "  libgd3 libgraphite2-3 libgts-0.7-5 libgts-bin libgvc6 libgvpr2 libharfbuzz0b\n",
      "  libice6 libjbig0 liblab-gamut1 libpango-1.0-0 libpangocairo-1.0-0\n",
      "  libpangoft2-1.0-0 libpathplan4 libpixman-1-0 libsm6 libthai-data libthai0\n",
      "  libtiff5 libwebp6 libxaw7 libxcb-render0 libxcb-shm0 libxmu6 libxpm4 libxt6\n",
      "Suggested packages:\n",
      "  gsfonts graphviz-doc libgd-tools\n",
      "The following NEW packages will be installed:\n",
      "  fontconfig fonts-liberation graphviz libann0 libcairo2 libcdt5 libcgraph6\n",
      "  libdatrie1 libgd3 libgraphite2-3 libgts-0.7-5 libgts-bin libgvc6 libgvpr2\n",
      "  libharfbuzz0b libice6 libjbig0 liblab-gamut1 libpango-1.0-0\n",
      "  libpangocairo-1.0-0 libpangoft2-1.0-0 libpathplan4 libpixman-1-0 libsm6\n",
      "  libthai-data libthai0 libtiff5 libwebp6 libxaw7 libxcb-render0 libxcb-shm0\n",
      "  libxmu6 libxpm4 libxt6\n",
      "0 upgraded, 34 newly installed, 0 to remove and 105 not upgraded.\n",
      "Need to get 5,522 kB of archives.\n",
      "After this operation, 19.6 MB of additional disk space will be used.\n",
      "Get:1 http://mirror.yandex.ru/ubuntu focal/main amd64 fontconfig amd64 2.13.1-2ubuntu3 [171 kB]\n",
      "Get:2 http://mirror.yandex.ru/ubuntu focal/main amd64 fonts-liberation all 1:1.07.4-11 [822 kB]\n",
      "Get:3 http://mirror.yandex.ru/ubuntu focal/universe amd64 libann0 amd64 1.1.2+doc-7build1 [26.0 kB]\n",
      "Get:4 http://mirror.yandex.ru/ubuntu focal/universe amd64 libcdt5 amd64 2.42.2-3build2 [18.7 kB]\n",
      "Get:5 http://mirror.yandex.ru/ubuntu focal/universe amd64 libcgraph6 amd64 2.42.2-3build2 [41.3 kB]\n",
      "Get:6 http://mirror.yandex.ru/ubuntu focal/main amd64 libjbig0 amd64 2.1-3.1build1 [26.7 kB]\n",
      "Get:7 http://mirror.yandex.ru/ubuntu focal-updates/main amd64 libwebp6 amd64 0.6.1-2ubuntu0.20.04.1 [185 kB]\n",
      "Get:8 http://mirror.yandex.ru/ubuntu focal-updates/main amd64 libtiff5 amd64 4.1.0+git191117-2ubuntu0.20.04.2 [162 kB]\n",
      "Get:9 http://mirror.yandex.ru/ubuntu focal/main amd64 libxpm4 amd64 1:3.5.12-1 [34.0 kB]\n",
      "Get:10 http://mirror.yandex.ru/ubuntu focal-updates/main amd64 libgd3 amd64 2.2.5-5.2ubuntu2.1 [118 kB]\n",
      "Get:11 http://mirror.yandex.ru/ubuntu focal/universe amd64 libgts-0.7-5 amd64 0.7.6+darcs121130-4 [150 kB]\n",
      "Get:12 http://mirror.yandex.ru/ubuntu focal/main amd64 libpixman-1-0 amd64 0.38.4-0ubuntu1 [227 kB]\n",
      "Get:13 http://mirror.yandex.ru/ubuntu focal/main amd64 libxcb-render0 amd64 1.14-2 [14.8 kB]\n",
      "Get:14 http://mirror.yandex.ru/ubuntu focal/main amd64 libxcb-shm0 amd64 1.14-2 [5,584 B]\n",
      "Get:15 http://mirror.yandex.ru/ubuntu focal/main amd64 libcairo2 amd64 1.16.0-4ubuntu1 [583 kB]\n",
      "Get:16 http://mirror.yandex.ru/ubuntu focal/main amd64 libgraphite2-3 amd64 1.3.13-11build1 [73.5 kB]\n",
      "Get:17 http://mirror.yandex.ru/ubuntu focal/main amd64 libharfbuzz0b amd64 2.6.4-1ubuntu4 [391 kB]\n",
      "Get:18 http://mirror.yandex.ru/ubuntu focal/main amd64 libthai-data all 0.1.28-3 [134 kB]\n",
      "Get:19 http://mirror.yandex.ru/ubuntu focal/main amd64 libdatrie1 amd64 0.2.12-3 [18.7 kB]\n",
      "Get:20 http://mirror.yandex.ru/ubuntu focal/main amd64 libthai0 amd64 0.1.28-3 [18.1 kB]\n",
      "Get:21 http://mirror.yandex.ru/ubuntu focal/main amd64 libpango-1.0-0 amd64 1.44.7-2ubuntu4 [162 kB]\n",
      "Get:22 http://mirror.yandex.ru/ubuntu focal/main amd64 libpangoft2-1.0-0 amd64 1.44.7-2ubuntu4 [34.9 kB]\n",
      "Get:23 http://mirror.yandex.ru/ubuntu focal/main amd64 libpangocairo-1.0-0 amd64 1.44.7-2ubuntu4 [24.8 kB]\n",
      "Get:24 http://mirror.yandex.ru/ubuntu focal/universe amd64 libpathplan4 amd64 2.42.2-3build2 [21.9 kB]\n",
      "Get:25 http://mirror.yandex.ru/ubuntu focal/universe amd64 libgvc6 amd64 2.42.2-3build2 [647 kB]\n",
      "Get:26 http://mirror.yandex.ru/ubuntu focal/universe amd64 libgvpr2 amd64 2.42.2-3build2 [167 kB]\n",
      "Get:27 http://mirror.yandex.ru/ubuntu focal/universe amd64 liblab-gamut1 amd64 2.42.2-3build2 [177 kB]\n",
      "Get:28 http://mirror.yandex.ru/ubuntu focal/main amd64 libice6 amd64 2:1.0.10-0ubuntu1 [41.0 kB]\n",
      "Get:29 http://mirror.yandex.ru/ubuntu focal/main amd64 libsm6 amd64 2:1.2.3-1 [16.1 kB]\n",
      "Get:30 http://mirror.yandex.ru/ubuntu focal/main amd64 libxt6 amd64 1:1.1.5-1 [160 kB]\n",
      "Get:31 http://mirror.yandex.ru/ubuntu focal/main amd64 libxmu6 amd64 2:1.1.3-0ubuntu1 [45.8 kB]\n",
      "Get:32 http://mirror.yandex.ru/ubuntu focal/main amd64 libxaw7 amd64 2:1.0.13-1 [173 kB]\n",
      "Get:33 http://mirror.yandex.ru/ubuntu focal/universe amd64 graphviz amd64 2.42.2-3build2 [590 kB]\n",
      "Get:34 http://mirror.yandex.ru/ubuntu focal/universe amd64 libgts-bin amd64 0.7.6+darcs121130-4 [41.3 kB]\n",
      "Fetched 5,522 kB in 0s (18.9 MB/s)     \n",
      "Extracting templates from packages: 100%\n",
      "Selecting previously unselected package fontconfig.\n",
      "(Reading database ... 86102 files and directories currently installed.)\n",
      "Preparing to unpack .../00-fontconfig_2.13.1-2ubuntu3_amd64.deb ...\n",
      "Unpacking fontconfig (2.13.1-2ubuntu3) ...\n",
      "Selecting previously unselected package fonts-liberation.\n",
      "Preparing to unpack .../01-fonts-liberation_1%3a1.07.4-11_all.deb ...\n",
      "Unpacking fonts-liberation (1:1.07.4-11) ...\n",
      "Selecting previously unselected package libann0.\n",
      "Preparing to unpack .../02-libann0_1.1.2+doc-7build1_amd64.deb ...\n",
      "Unpacking libann0 (1.1.2+doc-7build1) ...\n",
      "Selecting previously unselected package libcdt5:amd64.\n",
      "Preparing to unpack .../03-libcdt5_2.42.2-3build2_amd64.deb ...\n",
      "Unpacking libcdt5:amd64 (2.42.2-3build2) ...\n",
      "Selecting previously unselected package libcgraph6:amd64.\n",
      "Preparing to unpack .../04-libcgraph6_2.42.2-3build2_amd64.deb ...\n",
      "Unpacking libcgraph6:amd64 (2.42.2-3build2) ...\n",
      "Selecting previously unselected package libjbig0:amd64.\n",
      "Preparing to unpack .../05-libjbig0_2.1-3.1build1_amd64.deb ...\n",
      "Unpacking libjbig0:amd64 (2.1-3.1build1) ...\n",
      "Selecting previously unselected package libwebp6:amd64.\n",
      "Preparing to unpack .../06-libwebp6_0.6.1-2ubuntu0.20.04.1_amd64.deb ...\n",
      "Unpacking libwebp6:amd64 (0.6.1-2ubuntu0.20.04.1) ...\n",
      "Selecting previously unselected package libtiff5:amd64.\n",
      "Preparing to unpack .../07-libtiff5_4.1.0+git191117-2ubuntu0.20.04.2_amd64.deb ...\n",
      "Unpacking libtiff5:amd64 (4.1.0+git191117-2ubuntu0.20.04.2) ...\n",
      "Selecting previously unselected package libxpm4:amd64.\n",
      "Preparing to unpack .../08-libxpm4_1%3a3.5.12-1_amd64.deb ...\n",
      "Unpacking libxpm4:amd64 (1:3.5.12-1) ...\n",
      "Selecting previously unselected package libgd3:amd64.\n",
      "Preparing to unpack .../09-libgd3_2.2.5-5.2ubuntu2.1_amd64.deb ...\n",
      "Unpacking libgd3:amd64 (2.2.5-5.2ubuntu2.1) ...\n",
      "Selecting previously unselected package libgts-0.7-5:amd64.\n",
      "Preparing to unpack .../10-libgts-0.7-5_0.7.6+darcs121130-4_amd64.deb ...\n",
      "Unpacking libgts-0.7-5:amd64 (0.7.6+darcs121130-4) ...\n",
      "Selecting previously unselected package libpixman-1-0:amd64.\n",
      "Preparing to unpack .../11-libpixman-1-0_0.38.4-0ubuntu1_amd64.deb ...\n",
      "Unpacking libpixman-1-0:amd64 (0.38.4-0ubuntu1) ...\n",
      "Selecting previously unselected package libxcb-render0:amd64.\n",
      "Preparing to unpack .../12-libxcb-render0_1.14-2_amd64.deb ...\n",
      "Unpacking libxcb-render0:amd64 (1.14-2) ...\n",
      "Selecting previously unselected package libxcb-shm0:amd64.\n",
      "Preparing to unpack .../13-libxcb-shm0_1.14-2_amd64.deb ...\n",
      "Unpacking libxcb-shm0:amd64 (1.14-2) ...\n",
      "Selecting previously unselected package libcairo2:amd64.\n",
      "Preparing to unpack .../14-libcairo2_1.16.0-4ubuntu1_amd64.deb ...\n",
      "Unpacking libcairo2:amd64 (1.16.0-4ubuntu1) ...\n",
      "Selecting previously unselected package libgraphite2-3:amd64.\n",
      "Preparing to unpack .../15-libgraphite2-3_1.3.13-11build1_amd64.deb ...\n",
      "Unpacking libgraphite2-3:amd64 (1.3.13-11build1) ...\n",
      "Selecting previously unselected package libharfbuzz0b:amd64.\n",
      "Preparing to unpack .../16-libharfbuzz0b_2.6.4-1ubuntu4_amd64.deb ...\n",
      "Unpacking libharfbuzz0b:amd64 (2.6.4-1ubuntu4) ...\n",
      "Selecting previously unselected package libthai-data.\n",
      "Preparing to unpack .../17-libthai-data_0.1.28-3_all.deb ...\n",
      "Unpacking libthai-data (0.1.28-3) ...\n",
      "Selecting previously unselected package libdatrie1:amd64.\n",
      "Preparing to unpack .../18-libdatrie1_0.2.12-3_amd64.deb ...\n",
      "Unpacking libdatrie1:amd64 (0.2.12-3) ...\n",
      "Selecting previously unselected package libthai0:amd64.\n",
      "Preparing to unpack .../19-libthai0_0.1.28-3_amd64.deb ...\n",
      "Unpacking libthai0:amd64 (0.1.28-3) ...\n",
      "Selecting previously unselected package libpango-1.0-0:amd64.\n",
      "Preparing to unpack .../20-libpango-1.0-0_1.44.7-2ubuntu4_amd64.deb ...\n",
      "Unpacking libpango-1.0-0:amd64 (1.44.7-2ubuntu4) ...\n",
      "Selecting previously unselected package libpangoft2-1.0-0:amd64.\n",
      "Preparing to unpack .../21-libpangoft2-1.0-0_1.44.7-2ubuntu4_amd64.deb ...\n",
      "Unpacking libpangoft2-1.0-0:amd64 (1.44.7-2ubuntu4) ...\n",
      "Selecting previously unselected package libpangocairo-1.0-0:amd64.\n",
      "Preparing to unpack .../22-libpangocairo-1.0-0_1.44.7-2ubuntu4_amd64.deb ...\n",
      "Unpacking libpangocairo-1.0-0:amd64 (1.44.7-2ubuntu4) ...\n",
      "Selecting previously unselected package libpathplan4:amd64.\n",
      "Preparing to unpack .../23-libpathplan4_2.42.2-3build2_amd64.deb ...\n",
      "Unpacking libpathplan4:amd64 (2.42.2-3build2) ...\n",
      "Selecting previously unselected package libgvc6.\n",
      "Preparing to unpack .../24-libgvc6_2.42.2-3build2_amd64.deb ...\n",
      "Unpacking libgvc6 (2.42.2-3build2) ...\n",
      "Selecting previously unselected package libgvpr2:amd64.\n",
      "Preparing to unpack .../25-libgvpr2_2.42.2-3build2_amd64.deb ...\n",
      "Unpacking libgvpr2:amd64 (2.42.2-3build2) ...\n",
      "Selecting previously unselected package liblab-gamut1:amd64.\n",
      "Preparing to unpack .../26-liblab-gamut1_2.42.2-3build2_amd64.deb ...\n",
      "Unpacking liblab-gamut1:amd64 (2.42.2-3build2) ...\n",
      "Selecting previously unselected package libice6:amd64.\n",
      "Preparing to unpack .../27-libice6_2%3a1.0.10-0ubuntu1_amd64.deb ...\n",
      "Unpacking libice6:amd64 (2:1.0.10-0ubuntu1) ...\n",
      "Selecting previously unselected package libsm6:amd64.\n",
      "Preparing to unpack .../28-libsm6_2%3a1.2.3-1_amd64.deb ...\n",
      "Unpacking libsm6:amd64 (2:1.2.3-1) ...\n",
      "Selecting previously unselected package libxt6:amd64.\n",
      "Preparing to unpack .../29-libxt6_1%3a1.1.5-1_amd64.deb ...\n",
      "Unpacking libxt6:amd64 (1:1.1.5-1) ...\n",
      "Selecting previously unselected package libxmu6:amd64.\n",
      "Preparing to unpack .../30-libxmu6_2%3a1.1.3-0ubuntu1_amd64.deb ...\n",
      "Unpacking libxmu6:amd64 (2:1.1.3-0ubuntu1) ...\n",
      "Selecting previously unselected package libxaw7:amd64.\n",
      "Preparing to unpack .../31-libxaw7_2%3a1.0.13-1_amd64.deb ...\n",
      "Unpacking libxaw7:amd64 (2:1.0.13-1) ...\n",
      "Selecting previously unselected package graphviz.\n",
      "Preparing to unpack .../32-graphviz_2.42.2-3build2_amd64.deb ...\n",
      "Unpacking graphviz (2.42.2-3build2) ...\n",
      "Selecting previously unselected package libgts-bin.\n",
      "Preparing to unpack .../33-libgts-bin_0.7.6+darcs121130-4_amd64.deb ...\n",
      "Unpacking libgts-bin (0.7.6+darcs121130-4) ...\n",
      "Setting up libgraphite2-3:amd64 (1.3.13-11build1) ...\n",
      "Setting up libpixman-1-0:amd64 (0.38.4-0ubuntu1) ...\n",
      "Setting up libice6:amd64 (2:1.0.10-0ubuntu1) ...\n",
      "Setting up fontconfig (2.13.1-2ubuntu3) ...\n",
      "Regenerating fonts cache... done.\n",
      "Setting up libxpm4:amd64 (1:3.5.12-1) ...\n",
      "Setting up libdatrie1:amd64 (0.2.12-3) ...\n",
      "Setting up libxcb-render0:amd64 (1.14-2) ...\n",
      "Setting up liblab-gamut1:amd64 (2.42.2-3build2) ...\n",
      "Setting up libxcb-shm0:amd64 (1.14-2) ...\n",
      "Setting up libjbig0:amd64 (2.1-3.1build1) ...\n",
      "Setting up libcairo2:amd64 (1.16.0-4ubuntu1) ...\n",
      "Setting up libgts-0.7-5:amd64 (0.7.6+darcs121130-4) ...\n",
      "Setting up libpathplan4:amd64 (2.42.2-3build2) ...\n",
      "Setting up libann0 (1.1.2+doc-7build1) ...\n",
      "Setting up libwebp6:amd64 (0.6.1-2ubuntu0.20.04.1) ...\n",
      "Setting up fonts-liberation (1:1.07.4-11) ...\n",
      "Setting up libharfbuzz0b:amd64 (2.6.4-1ubuntu4) ...\n",
      "Setting up libthai-data (0.1.28-3) ...\n",
      "Setting up libcdt5:amd64 (2.42.2-3build2) ...\n",
      "Setting up libcgraph6:amd64 (2.42.2-3build2) ...\n",
      "Setting up libtiff5:amd64 (4.1.0+git191117-2ubuntu0.20.04.2) ...\n",
      "Setting up libsm6:amd64 (2:1.2.3-1) ...\n",
      "Setting up libgts-bin (0.7.6+darcs121130-4) ...\n",
      "Setting up libthai0:amd64 (0.1.28-3) ...\n",
      "Setting up libgd3:amd64 (2.2.5-5.2ubuntu2.1) ...\n",
      "Setting up libxt6:amd64 (1:1.1.5-1) ...\n",
      "Setting up libgvpr2:amd64 (2.42.2-3build2) ...\n",
      "Setting up libxmu6:amd64 (2:1.1.3-0ubuntu1) ...\n",
      "Setting up libpango-1.0-0:amd64 (1.44.7-2ubuntu4) ...\n",
      "Setting up libxaw7:amd64 (2:1.0.13-1) ...\n",
      "Setting up libpangoft2-1.0-0:amd64 (1.44.7-2ubuntu4) ...\n",
      "Setting up libpangocairo-1.0-0:amd64 (1.44.7-2ubuntu4) ...\n",
      "Setting up libgvc6 (2.42.2-3build2) ...\n",
      "Setting up graphviz (2.42.2-3build2) ...\n",
      "Processing triggers for man-db (2.9.1-1) ...\n",
      "Processing triggers for libc-bin (2.31-0ubuntu9.2) ...\n",
      "Collecting numpy\n",
      "  Downloading numpy-1.22.3-cp38-cp38-manylinux_2_17_x86_64.manylinux2014_x86_64.whl (16.8 MB)\n",
      "\u001b[K     |████████████████████████████████| 16.8 MB 2.4 MB/s eta 0:00:01\n",
      "\u001b[?25hCollecting pandas\n",
      "  Downloading pandas-1.4.1-cp38-cp38-manylinux_2_17_x86_64.manylinux2014_x86_64.whl (11.7 MB)\n",
      "\u001b[K     |████████████████████████████████| 11.7 MB 87.4 MB/s eta 0:00:01K     |█                               | 399 kB 87.4 MB/s eta 0:00:01\n",
      "\u001b[?25hCollecting sklearn\n",
      "  Downloading sklearn-0.0.tar.gz (1.1 kB)\n",
      "Collecting dateparser\n",
      "  Downloading dateparser-1.1.1-py2.py3-none-any.whl (288 kB)\n",
      "\u001b[K     |████████████████████████████████| 288 kB 56.1 MB/s eta 0:00:01\n",
      "\u001b[?25hCollecting pandarallel\n",
      "  Downloading pandarallel-1.6.1.tar.gz (12 kB)\n",
      "Collecting ipywidgets\n",
      "  Downloading ipywidgets-7.7.0-py2.py3-none-any.whl (123 kB)\n",
      "\u001b[K     |████████████████████████████████| 123 kB 84.0 MB/s eta 0:00:01\n",
      "\u001b[?25hCollecting catboost\n",
      "  Downloading catboost-1.0.4-cp38-none-manylinux1_x86_64.whl (76.1 MB)\n",
      "\u001b[K     |████████████████████████████████| 76.1 MB 95.7 MB/s eta 0:00:01\n",
      "\u001b[?25hCollecting graphviz\n",
      "  Downloading graphviz-0.19.1-py3-none-any.whl (46 kB)\n",
      "\u001b[K     |████████████████████████████████| 46 kB 4.1 MB/s  eta 0:00:01\n",
      "\u001b[?25hCollecting python-dateutil>=2.8.1\n",
      "  Downloading python_dateutil-2.8.2-py2.py3-none-any.whl (247 kB)\n",
      "\u001b[K     |████████████████████████████████| 247 kB 85.0 MB/s eta 0:00:01\n",
      "\u001b[?25hCollecting pytz>=2020.1\n",
      "  Downloading pytz-2022.1-py2.py3-none-any.whl (503 kB)\n",
      "\u001b[K     |████████████████████████████████| 503 kB 88.7 MB/s eta 0:00:01\n",
      "\u001b[?25hCollecting scikit-learn\n",
      "  Downloading scikit_learn-1.0.2-cp38-cp38-manylinux_2_17_x86_64.manylinux2014_x86_64.whl (26.7 MB)\n",
      "\u001b[K     |████████████████████████████████| 26.7 MB 48.8 MB/s eta 0:00:01\n",
      "\u001b[?25hCollecting regex!=2019.02.19,!=2021.8.27,<2022.3.15\n",
      "  Downloading regex-2022.3.2-cp38-cp38-manylinux_2_17_x86_64.manylinux2014_x86_64.whl (764 kB)\n",
      "\u001b[K     |████████████████████████████████| 764 kB 66.7 MB/s eta 0:00:01\n",
      "\u001b[?25hCollecting tzlocal\n",
      "  Downloading tzlocal-4.1-py3-none-any.whl (19 kB)\n",
      "Collecting dill>=0.3.1\n",
      "  Downloading dill-0.3.4-py2.py3-none-any.whl (86 kB)\n",
      "\u001b[K     |████████████████████████████████| 86 kB 5.8 MB/s  eta 0:00:01\n",
      "\u001b[?25hRequirement already satisfied: psutil in /usr/lib/python3/dist-packages (from pandarallel) (5.5.1)\n",
      "Collecting ipython-genutils~=0.2.0\n",
      "  Downloading ipython_genutils-0.2.0-py2.py3-none-any.whl (26 kB)\n",
      "Collecting jupyterlab-widgets>=1.0.0; python_version >= \"3.6\"\n",
      "  Downloading jupyterlab_widgets-1.1.0-py3-none-any.whl (245 kB)\n",
      "\u001b[K     |████████████████████████████████| 245 kB 79.4 MB/s eta 0:00:01\n",
      "\u001b[?25hCollecting ipykernel>=4.5.1\n",
      "  Downloading ipykernel-6.9.2-py3-none-any.whl (130 kB)\n",
      "\u001b[K     |████████████████████████████████| 130 kB 72.3 MB/s eta 0:00:01\n",
      "\u001b[?25hCollecting nbformat>=4.2.0\n",
      "  Downloading nbformat-5.2.0-py3-none-any.whl (74 kB)\n",
      "\u001b[K     |████████████████████████████████| 74 kB 3.7 MB/s  eta 0:00:01\n",
      "\u001b[?25hCollecting widgetsnbextension~=3.6.0\n",
      "  Downloading widgetsnbextension-3.6.0-py2.py3-none-any.whl (1.6 MB)\n",
      "\u001b[K     |████████████████████████████████| 1.6 MB 46.8 MB/s eta 0:00:01\n",
      "\u001b[?25hCollecting traitlets>=4.3.1\n",
      "  Downloading traitlets-5.1.1-py3-none-any.whl (102 kB)\n",
      "\u001b[K     |████████████████████████████████| 102 kB 14.7 MB/s ta 0:00:01\n",
      "\u001b[?25hCollecting ipython>=4.0.0; python_version >= \"3.3\"\n",
      "  Downloading ipython-8.2.0-py3-none-any.whl (750 kB)\n",
      "\u001b[K     |████████████████████████████████| 750 kB 78.0 MB/s eta 0:00:01\n",
      "\u001b[?25hCollecting scipy\n",
      "  Downloading scipy-1.8.0-cp38-cp38-manylinux_2_17_x86_64.manylinux2014_x86_64.whl (41.6 MB)\n",
      "\u001b[K     |████████████████████████████████| 41.6 MB 51.3 MB/s eta 0:00:01\n",
      "\u001b[?25hCollecting plotly\n",
      "  Downloading plotly-5.6.0-py2.py3-none-any.whl (27.7 MB)\n",
      "\u001b[K     |████████████████████████████████| 27.7 MB 65.4 MB/s eta 0:00:01\n",
      "\u001b[?25hCollecting matplotlib\n",
      "  Downloading matplotlib-3.5.1-cp38-cp38-manylinux_2_5_x86_64.manylinux1_x86_64.whl (11.3 MB)\n",
      "\u001b[K     |████████████████████████████████| 11.3 MB 65.0 MB/s eta 0:00:01\n",
      "\u001b[?25hRequirement already satisfied: six in /usr/lib/python3/dist-packages (from catboost) (1.14.0)\n",
      "Collecting joblib>=0.11\n",
      "  Downloading joblib-1.1.0-py2.py3-none-any.whl (306 kB)\n",
      "\u001b[K     |████████████████████████████████| 306 kB 74.5 MB/s eta 0:00:01\n",
      "\u001b[?25hCollecting threadpoolctl>=2.0.0\n",
      "  Downloading threadpoolctl-3.1.0-py3-none-any.whl (14 kB)\n",
      "Collecting pytz-deprecation-shim\n",
      "  Downloading pytz_deprecation_shim-0.1.0.post0-py2.py3-none-any.whl (15 kB)\n",
      "Collecting backports.zoneinfo; python_version < \"3.9\"\n",
      "  Downloading backports.zoneinfo-0.2.1-cp38-cp38-manylinux1_x86_64.whl (74 kB)\n",
      "\u001b[K     |████████████████████████████████| 74 kB 2.9 MB/s  eta 0:00:01\n",
      "\u001b[?25hCollecting matplotlib-inline<0.2.0,>=0.1.0\n",
      "  Downloading matplotlib_inline-0.1.3-py3-none-any.whl (8.2 kB)\n",
      "Collecting jupyter-client<8.0\n",
      "  Downloading jupyter_client-7.1.2-py3-none-any.whl (130 kB)\n",
      "\u001b[K     |████████████████████████████████| 130 kB 68.2 MB/s eta 0:00:01\n",
      "\u001b[?25hCollecting tornado<7.0,>=4.2\n",
      "  Downloading tornado-6.1-cp38-cp38-manylinux2010_x86_64.whl (427 kB)\n",
      "\u001b[K     |████████████████████████████████| 427 kB 71.7 MB/s eta 0:00:01\n",
      "\u001b[?25hCollecting debugpy<2.0,>=1.0.0\n",
      "  Downloading debugpy-1.6.0-cp38-cp38-manylinux_2_5_x86_64.manylinux1_x86_64.manylinux_2_12_x86_64.manylinux2010_x86_64.whl (1.8 MB)\n",
      "\u001b[K     |████████████████████████████████| 1.8 MB 48.4 MB/s eta 0:00:01\n",
      "\u001b[?25hCollecting nest-asyncio\n",
      "  Downloading nest_asyncio-1.5.4-py3-none-any.whl (5.1 kB)\n",
      "Requirement already satisfied: jsonschema!=2.5.0,>=2.4 in /usr/lib/python3/dist-packages (from nbformat>=4.2.0->ipywidgets) (3.2.0)\n",
      "Collecting jupyter-core\n",
      "  Downloading jupyter_core-4.9.2-py3-none-any.whl (86 kB)\n",
      "\u001b[K     |████████████████████████████████| 86 kB 8.3 MB/s  eta 0:00:01\n",
      "\u001b[?25hCollecting notebook>=4.4.1\n",
      "  Downloading notebook-6.4.10-py3-none-any.whl (9.9 MB)\n",
      "\u001b[K     |████████████████████████████████| 9.9 MB 54.6 MB/s eta 0:00:01\n",
      "\u001b[?25hCollecting backcall\n",
      "  Downloading backcall-0.2.0-py2.py3-none-any.whl (11 kB)\n",
      "Collecting decorator\n",
      "  Downloading decorator-5.1.1-py3-none-any.whl (9.1 kB)\n",
      "Collecting pickleshare\n",
      "  Downloading pickleshare-0.7.5-py2.py3-none-any.whl (6.9 kB)\n",
      "Collecting pygments>=2.4.0\n",
      "  Downloading Pygments-2.11.2-py3-none-any.whl (1.1 MB)\n",
      "\u001b[K     |████████████████████████████████| 1.1 MB 80.8 MB/s eta 0:00:01\n",
      "\u001b[?25hCollecting prompt-toolkit!=3.0.0,!=3.0.1,<3.1.0,>=2.0.0\n",
      "  Downloading prompt_toolkit-3.0.28-py3-none-any.whl (380 kB)\n",
      "\u001b[K     |████████████████████████████████| 380 kB 76.7 MB/s eta 0:00:01\n",
      "\u001b[?25hCollecting pexpect>4.3; sys_platform != \"win32\"\n",
      "  Downloading pexpect-4.8.0-py2.py3-none-any.whl (59 kB)\n",
      "\u001b[K     |████████████████████████████████| 59 kB 7.8 MB/s  eta 0:00:01\n",
      "\u001b[?25hRequirement already satisfied: setuptools>=18.5 in /usr/lib/python3/dist-packages (from ipython>=4.0.0; python_version >= \"3.3\"->ipywidgets) (45.2.0)\n",
      "Collecting stack-data\n",
      "  Downloading stack_data-0.2.0-py3-none-any.whl (21 kB)\n",
      "Collecting jedi>=0.16\n",
      "  Downloading jedi-0.18.1-py2.py3-none-any.whl (1.6 MB)\n",
      "\u001b[K     |████████████████████████████████| 1.6 MB 53.6 MB/s eta 0:00:01\n",
      "\u001b[?25hCollecting tenacity>=6.2.0\n",
      "  Downloading tenacity-8.0.1-py3-none-any.whl (24 kB)\n",
      "Collecting pillow>=6.2.0\n",
      "  Downloading Pillow-9.0.1-cp38-cp38-manylinux_2_17_x86_64.manylinux2014_x86_64.whl (4.3 MB)\n",
      "\u001b[K     |████████████████████████████████| 4.3 MB 67.8 MB/s eta 0:00:01\n",
      "\u001b[?25hCollecting kiwisolver>=1.0.1\n",
      "  Downloading kiwisolver-1.4.0-cp38-cp38-manylinux_2_5_x86_64.manylinux1_x86_64.whl (1.2 MB)\n",
      "\u001b[K     |████████████████████████████████| 1.2 MB 72.3 MB/s eta 0:00:01\n",
      "\u001b[?25hCollecting cycler>=0.10\n",
      "  Downloading cycler-0.11.0-py3-none-any.whl (6.4 kB)\n",
      "Collecting pyparsing>=2.2.1\n",
      "  Downloading pyparsing-3.0.7-py3-none-any.whl (98 kB)\n",
      "\u001b[K     |████████████████████████████████| 98 kB 9.4 MB/s  eta 0:00:01\n",
      "\u001b[?25hCollecting packaging>=20.0\n",
      "  Downloading packaging-21.3-py3-none-any.whl (40 kB)\n",
      "\u001b[K     |████████████████████████████████| 40 kB 7.7 MB/s  eta 0:00:01\n",
      "\u001b[?25hCollecting fonttools>=4.22.0\n",
      "  Downloading fonttools-4.31.2-py3-none-any.whl (899 kB)\n",
      "\u001b[K     |████████████████████████████████| 899 kB 48.4 MB/s eta 0:00:01\n",
      "\u001b[?25hCollecting tzdata; python_version >= \"3.6\"\n",
      "  Downloading tzdata-2022.1-py2.py3-none-any.whl (339 kB)\n",
      "\u001b[K     |████████████████████████████████| 339 kB 64.5 MB/s eta 0:00:01\n",
      "\u001b[?25hCollecting entrypoints\n",
      "  Downloading entrypoints-0.4-py3-none-any.whl (5.3 kB)\n",
      "Requirement already satisfied: pyzmq>=13 in /usr/lib/python3/dist-packages (from jupyter-client<8.0->ipykernel>=4.5.1->ipywidgets) (18.1.1)\n",
      "Collecting prometheus-client\n",
      "  Downloading prometheus_client-0.13.1-py3-none-any.whl (57 kB)\n",
      "\u001b[K     |████████████████████████████████| 57 kB 3.6 MB/s  eta 0:00:01\n",
      "\u001b[?25hCollecting nbconvert>=5\n",
      "  Downloading nbconvert-6.4.4-py3-none-any.whl (561 kB)\n",
      "\u001b[K     |████████████████████████████████| 561 kB 100.3 MB/s eta 0:00:01\n",
      "\u001b[?25hCollecting terminado>=0.8.3\n",
      "  Downloading terminado-0.13.3-py3-none-any.whl (14 kB)\n",
      "Collecting argon2-cffi\n",
      "  Downloading argon2_cffi-21.3.0-py3-none-any.whl (14 kB)\n",
      "Requirement already satisfied: jinja2 in /usr/lib/python3/dist-packages (from notebook>=4.4.1->widgetsnbextension~=3.6.0->ipywidgets) (2.10.1)\n",
      "Collecting Send2Trash>=1.8.0\n",
      "  Downloading Send2Trash-1.8.0-py3-none-any.whl (18 kB)\n",
      "Collecting wcwidth\n",
      "  Downloading wcwidth-0.2.5-py2.py3-none-any.whl (30 kB)\n",
      "Collecting ptyprocess>=0.5\n",
      "  Downloading ptyprocess-0.7.0-py2.py3-none-any.whl (13 kB)\n",
      "Collecting executing\n",
      "  Downloading executing-0.8.3-py2.py3-none-any.whl (16 kB)\n",
      "Collecting asttokens\n",
      "  Downloading asttokens-2.0.5-py2.py3-none-any.whl (20 kB)\n",
      "Collecting pure-eval\n",
      "  Downloading pure_eval-0.2.2-py3-none-any.whl (11 kB)\n",
      "Collecting parso<0.9.0,>=0.8.0\n",
      "  Downloading parso-0.8.3-py2.py3-none-any.whl (100 kB)\n",
      "\u001b[K     |████████████████████████████████| 100 kB 12.7 MB/s ta 0:00:01\n",
      "\u001b[?25hCollecting nbclient<0.6.0,>=0.5.0\n",
      "  Downloading nbclient-0.5.13-py3-none-any.whl (70 kB)\n",
      "\u001b[K     |████████████████████████████████| 70 kB 8.2 MB/s  eta 0:00:01\n",
      "\u001b[?25hCollecting bleach\n",
      "  Downloading bleach-4.1.0-py2.py3-none-any.whl (157 kB)\n",
      "\u001b[K     |████████████████████████████████| 157 kB 55.6 MB/s eta 0:00:01\n",
      "\u001b[?25hCollecting testpath\n",
      "  Downloading testpath-0.6.0-py3-none-any.whl (83 kB)\n",
      "\u001b[K     |████████████████████████████████| 83 kB 3.7 MB/s  eta 0:00:01\n",
      "\u001b[?25hCollecting beautifulsoup4\n",
      "  Downloading beautifulsoup4-4.10.0-py3-none-any.whl (97 kB)\n",
      "\u001b[K     |████████████████████████████████| 97 kB 7.6 MB/s  eta 0:00:01\n",
      "\u001b[?25hCollecting defusedxml\n",
      "  Downloading defusedxml-0.7.1-py2.py3-none-any.whl (25 kB)\n",
      "Collecting jupyterlab-pygments\n",
      "  Downloading jupyterlab_pygments-0.1.2-py2.py3-none-any.whl (4.6 kB)\n",
      "Collecting pandocfilters>=1.4.1\n",
      "  Downloading pandocfilters-1.5.0-py2.py3-none-any.whl (8.7 kB)\n",
      "Collecting mistune<2,>=0.8.1\n",
      "  Downloading mistune-0.8.4-py2.py3-none-any.whl (16 kB)\n",
      "Collecting argon2-cffi-bindings\n",
      "  Downloading argon2_cffi_bindings-21.2.0-cp36-abi3-manylinux_2_17_x86_64.manylinux2014_x86_64.whl (86 kB)\n",
      "\u001b[K     |████████████████████████████████| 86 kB 6.7 MB/s  eta 0:00:01\n",
      "\u001b[?25hCollecting webencodings\n",
      "  Downloading webencodings-0.5.1-py2.py3-none-any.whl (11 kB)\n",
      "Collecting soupsieve>1.2\n",
      "  Downloading soupsieve-2.3.1-py3-none-any.whl (37 kB)\n",
      "Collecting cffi>=1.0.1\n",
      "  Downloading cffi-1.15.0-cp38-cp38-manylinux_2_12_x86_64.manylinux2010_x86_64.whl (446 kB)\n",
      "\u001b[K     |████████████████████████████████| 446 kB 66.7 MB/s eta 0:00:01\n",
      "\u001b[?25hCollecting pycparser\n",
      "  Downloading pycparser-2.21-py2.py3-none-any.whl (118 kB)\n",
      "\u001b[K     |████████████████████████████████| 118 kB 65.3 MB/s eta 0:00:01\n",
      "\u001b[?25hBuilding wheels for collected packages: sklearn, pandarallel\n",
      "  Building wheel for sklearn (setup.py) ... \u001b[?25ldone\n",
      "\u001b[?25h  Created wheel for sklearn: filename=sklearn-0.0-py2.py3-none-any.whl size=1315 sha256=c81d61c492ee58d221faaf65abeaf128a028d69f1bcbf3fa9a7270aeafe8992a\n",
      "  Stored in directory: /home/ubuntu/.cache/pip/wheels/22/0b/40/fd3f795caaa1fb4c6cb738bc1f56100be1e57da95849bfc897\n",
      "  Building wheel for pandarallel (setup.py) ... \u001b[?25ldone\n",
      "\u001b[?25h  Created wheel for pandarallel: filename=pandarallel-1.6.1-py3-none-any.whl size=16251 sha256=4e44f937e8723749f63d7f5fae53f4e26c2b95c934e17affca96ab67cc82f8c8\n",
      "  Stored in directory: /home/ubuntu/.cache/pip/wheels/83/a2/7d/15d78967e4df5e58cf528234b324ae3c572de5704e848480c0\n",
      "Successfully built sklearn pandarallel\n",
      "Installing collected packages: numpy, python-dateutil, pytz, pandas, joblib, scipy, threadpoolctl, scikit-learn, sklearn, regex, backports.zoneinfo, tzdata, pytz-deprecation-shim, tzlocal, dateparser, dill, pandarallel, ipython-genutils, jupyterlab-widgets, traitlets, matplotlib-inline, entrypoints, tornado, jupyter-core, nest-asyncio, jupyter-client, debugpy, backcall, decorator, pickleshare, pygments, wcwidth, prompt-toolkit, ptyprocess, pexpect, executing, asttokens, pure-eval, stack-data, parso, jedi, ipython, ipykernel, nbformat, prometheus-client, nbclient, webencodings, pyparsing, packaging, bleach, testpath, soupsieve, beautifulsoup4, defusedxml, jupyterlab-pygments, pandocfilters, mistune, nbconvert, terminado, pycparser, cffi, argon2-cffi-bindings, argon2-cffi, Send2Trash, notebook, widgetsnbextension, ipywidgets, tenacity, plotly, pillow, kiwisolver, cycler, fonttools, matplotlib, graphviz, catboost\n",
      "\u001b[33m  WARNING: The scripts f2py, f2py3 and f2py3.8 are installed in '/home/ubuntu/.local/bin' which is not on PATH.\n",
      "  Consider adding this directory to PATH or, if you prefer to suppress this warning, use --no-warn-script-location.\u001b[0m\n",
      "\u001b[33m  WARNING: The script dateparser-download is installed in '/home/ubuntu/.local/bin' which is not on PATH.\n",
      "  Consider adding this directory to PATH or, if you prefer to suppress this warning, use --no-warn-script-location.\u001b[0m\n",
      "\u001b[33m  WARNING: The scripts jupyter, jupyter-migrate and jupyter-troubleshoot are installed in '/home/ubuntu/.local/bin' which is not on PATH.\n",
      "  Consider adding this directory to PATH or, if you prefer to suppress this warning, use --no-warn-script-location.\u001b[0m\n",
      "\u001b[33m  WARNING: The scripts jupyter-kernel, jupyter-kernelspec and jupyter-run are installed in '/home/ubuntu/.local/bin' which is not on PATH.\n",
      "  Consider adding this directory to PATH or, if you prefer to suppress this warning, use --no-warn-script-location.\u001b[0m\n",
      "\u001b[33m  WARNING: The script pygmentize is installed in '/home/ubuntu/.local/bin' which is not on PATH.\n",
      "  Consider adding this directory to PATH or, if you prefer to suppress this warning, use --no-warn-script-location.\u001b[0m\n",
      "\u001b[33m  WARNING: The scripts ipython and ipython3 are installed in '/home/ubuntu/.local/bin' which is not on PATH.\n",
      "  Consider adding this directory to PATH or, if you prefer to suppress this warning, use --no-warn-script-location.\u001b[0m\n",
      "\u001b[33m  WARNING: The script jupyter-trust is installed in '/home/ubuntu/.local/bin' which is not on PATH.\n",
      "  Consider adding this directory to PATH or, if you prefer to suppress this warning, use --no-warn-script-location.\u001b[0m\n",
      "\u001b[33m  WARNING: The script jupyter-execute is installed in '/home/ubuntu/.local/bin' which is not on PATH.\n",
      "  Consider adding this directory to PATH or, if you prefer to suppress this warning, use --no-warn-script-location.\u001b[0m\n",
      "\u001b[33m  WARNING: The scripts jupyter-dejavu and jupyter-nbconvert are installed in '/home/ubuntu/.local/bin' which is not on PATH.\n",
      "  Consider adding this directory to PATH or, if you prefer to suppress this warning, use --no-warn-script-location.\u001b[0m\n",
      "\u001b[33m  WARNING: The script send2trash is installed in '/home/ubuntu/.local/bin' which is not on PATH.\n",
      "  Consider adding this directory to PATH or, if you prefer to suppress this warning, use --no-warn-script-location.\u001b[0m\n",
      "\u001b[33m  WARNING: The scripts jupyter-bundlerextension, jupyter-nbextension, jupyter-notebook and jupyter-serverextension are installed in '/home/ubuntu/.local/bin' which is not on PATH.\n",
      "  Consider adding this directory to PATH or, if you prefer to suppress this warning, use --no-warn-script-location.\u001b[0m\n",
      "\u001b[33m  WARNING: The scripts fonttools, pyftmerge, pyftsubset and ttx are installed in '/home/ubuntu/.local/bin' which is not on PATH.\n",
      "  Consider adding this directory to PATH or, if you prefer to suppress this warning, use --no-warn-script-location.\u001b[0m\n",
      "Successfully installed Send2Trash-1.8.0 argon2-cffi-21.3.0 argon2-cffi-bindings-21.2.0 asttokens-2.0.5 backcall-0.2.0 backports.zoneinfo-0.2.1 beautifulsoup4-4.10.0 bleach-4.1.0 catboost-1.0.4 cffi-1.15.0 cycler-0.11.0 dateparser-1.1.1 debugpy-1.6.0 decorator-5.1.1 defusedxml-0.7.1 dill-0.3.4 entrypoints-0.4 executing-0.8.3 fonttools-4.31.2 graphviz-0.19.1 ipykernel-6.9.2 ipython-8.2.0 ipython-genutils-0.2.0 ipywidgets-7.7.0 jedi-0.18.1 joblib-1.1.0 jupyter-client-7.1.2 jupyter-core-4.9.2 jupyterlab-pygments-0.1.2 jupyterlab-widgets-1.1.0 kiwisolver-1.4.0 matplotlib-3.5.1 matplotlib-inline-0.1.3 mistune-0.8.4 nbclient-0.5.13 nbconvert-6.4.4 nbformat-5.2.0 nest-asyncio-1.5.4 notebook-6.4.10 numpy-1.22.3 packaging-21.3 pandarallel-1.6.1 pandas-1.4.1 pandocfilters-1.5.0 parso-0.8.3 pexpect-4.8.0 pickleshare-0.7.5 pillow-9.0.1 plotly-5.6.0 prometheus-client-0.13.1 prompt-toolkit-3.0.28 ptyprocess-0.7.0 pure-eval-0.2.2 pycparser-2.21 pygments-2.11.2 pyparsing-3.0.7 python-dateutil-2.8.2 pytz-2022.1 pytz-deprecation-shim-0.1.0.post0 regex-2022.3.2 scikit-learn-1.0.2 scipy-1.8.0 sklearn-0.0 soupsieve-2.3.1 stack-data-0.2.0 tenacity-8.0.1 terminado-0.13.3 testpath-0.6.0 threadpoolctl-3.1.0 tornado-6.1 traitlets-5.1.1 tzdata-2022.1 tzlocal-4.1 wcwidth-0.2.5 webencodings-0.5.1 widgetsnbextension-3.6.0\n",
      "Enabling notebook extension jupyter-js-widgets/extension...\n",
      "      - Validating: \u001b[32mOK\u001b[0m\n"
     ]
    }
   ],
   "source": [
    "! sudo wget http://finance.yendor.com/ML/VW/Binaries/vw-8.20190624 -O /usr/bin/vw\n",
    "! sudo chmod +x /usr/bin/vw\n",
    "! sudo chown ubuntu /usr/bin/vw\n",
    "\n",
    "! sudo apt-get update -y && sudo apt-get install graphviz -y\n",
    "! pip install numpy pandas sklearn dateparser pandarallel ipywidgets catboost graphviz\n",
    "! /opt/conda/bin/jupyter nbextension enable --py widgetsnbextension"
   ]
  },
  {
   "cell_type": "code",
   "execution_count": 3,
   "id": "03073de2",
   "metadata": {},
   "outputs": [],
   "source": [
    "import os \n",
    "\n",
    "os.environ['PATH'] = '~/.local/bin:' + os.environ['PATH']"
   ]
  },
  {
   "cell_type": "code",
   "execution_count": 2,
   "id": "016544ec",
   "metadata": {},
   "outputs": [
    {
     "name": "stdout",
     "output_type": "stream",
     "text": [
      "Num weight bits = 18\r\n",
      "learning rate = 0.5\r\n",
      "initial_t = 0\r\n",
      "power_t = 0.5\r\n",
      "using no cache\r\n",
      "Reading datafile = \r\n",
      "num sources = 1\r\n",
      "driver:\r\n",
      "  --onethread           Disable parse thread\r\n",
      "VW options:\r\n",
      "  --ring_size arg (=256, ) size of example ring\r\n",
      "  --strict_parse           throw on malformed examples\r\n",
      "Update options:\r\n",
      "  -l [ --learning_rate ] arg Set learning rate\r\n",
      "  --power_t arg              t power value\r\n",
      "  --decay_learning_rate arg  Set Decay factor for learning_rate between passes\r\n",
      "  --initial_t arg            initial t value\r\n",
      "  --feature_mask arg         Use existing regressor to determine which \r\n",
      "                             parameters may be updated.  If no \r\n",
      "                             initial_regressor given, also used for initial \r\n",
      "                             weights.\r\n",
      "Weight options:\r\n",
      "  -i [ --initial_regressor ] arg  Initial regressor(s)\r\n",
      "  --initial_weight arg            Set all weights to an initial value of arg.\r\n",
      "  --random_weights                make initial weights random\r\n",
      "  --normal_weights                make initial weights normal\r\n",
      "  --truncated_normal_weights      make initial weights truncated normal\r\n",
      "  --sparse_weights                Use a sparse datastructure for weights\r\n",
      "  --input_feature_regularizer arg Per feature regularization input file\r\n",
      "Parallelization options:\r\n",
      "  --span_server arg                 Location of server for setting up spanning \r\n",
      "                                    tree\r\n",
      "  --unique_id arg (=0, )            unique id used for cluster parallel jobs\r\n",
      "  --total arg (=1, )                total number of nodes used in cluster \r\n",
      "                                    parallel job\r\n",
      "  --node arg (=0, )                 node number in cluster parallel job\r\n",
      "  --span_server_port arg (=26543, ) Port of the server for setting up spanning \r\n",
      "                                    tree\r\n",
      "Diagnostic options:\r\n",
      "  --version             Version information\r\n",
      "  -a [ --audit ]        print weights of features\r\n",
      "  -P [ --progress ] arg Progress update frequency. int: additive, float: \r\n",
      "                        multiplicative\r\n",
      "  --quiet               Don't output disgnostics and progress updates\r\n",
      "  -h [ --help ]         Look here: http://hunch.net/~vw/ and click on Tutorial.\r\n",
      "Randomization options:\r\n",
      "  --random_seed arg     seed random number generator\r\n",
      "Feature options:\r\n",
      "  --hash arg                      how to hash the features. Available options: \r\n",
      "                                  strings, all\r\n",
      "  --hash_seed arg (=0, )          seed for hash function\r\n",
      "  --ignore arg                    ignore namespaces beginning with character \r\n",
      "                                  <arg>\r\n",
      "  --ignore_linear arg             ignore namespaces beginning with character \r\n",
      "                                  <arg> for linear terms only\r\n",
      "  --keep arg                      keep namespaces beginning with character \r\n",
      "                                  <arg>\r\n",
      "  --redefine arg                  redefine namespaces beginning with characters\r\n",
      "                                  of string S as namespace N. <arg> shall be in\r\n",
      "                                  form 'N:=S' where := is operator. Empty N or \r\n",
      "                                  S are treated as default namespace. Use ':' \r\n",
      "                                  as a wildcard in S.\r\n",
      "  -b [ --bit_precision ] arg      number of bits in the feature table\r\n",
      "  --noconstant                    Don't add a constant feature\r\n",
      "  -C [ --constant ] arg           Set initial value of constant\r\n",
      "  --ngram arg                     Generate N grams. To generate N grams for a \r\n",
      "                                  single namespace 'foo', arg should be fN.\r\n",
      "  --skips arg                     Generate skips in N grams. This in \r\n",
      "                                  conjunction with the ngram tag can be used to\r\n",
      "                                  generate generalized n-skip-k-gram. To \r\n",
      "                                  generate n-skips for a single namespace \r\n",
      "                                  'foo', arg should be fN.\r\n",
      "  --feature_limit arg             limit to N features. To apply to a single \r\n",
      "                                  namespace 'foo', arg should be fN\r\n",
      "  --affix arg                     generate prefixes/suffixes of features; \r\n",
      "                                  argument '+2a,-3b,+1' means generate 2-char \r\n",
      "                                  prefixes for namespace a, 3-char suffixes for\r\n",
      "                                  b and 1 char prefixes for default namespace\r\n",
      "  --spelling arg                  compute spelling features for a give \r\n",
      "                                  namespace (use '_' for default namespace)\r\n",
      "  --dictionary arg                read a dictionary for additional features \r\n",
      "                                  (arg either 'x:file' or just 'file')\r\n",
      "  --dictionary_path arg           look in this directory for dictionaries; \r\n",
      "                                  defaults to current directory or env{PATH}\r\n",
      "  --interactions arg              Create feature interactions of any level \r\n",
      "                                  between namespaces.\r\n",
      "  --permutations                  Use permutations instead of combinations for \r\n",
      "                                  feature interactions of same namespace.\r\n",
      "  --leave_duplicate_interactions  Don't remove interactions with duplicate \r\n",
      "                                  combinations of namespaces. For ex. this is a\r\n",
      "                                  duplicate: '-q ab -q ba' and a lot more in \r\n",
      "                                  '-q ::'.\r\n",
      "  -q [ --quadratic ] arg          Create and use quadratic features\r\n",
      "  --q: arg                        : corresponds to a wildcard for all printable\r\n",
      "                                  characters\r\n",
      "  --cubic arg                     Create and use cubic features\r\n",
      "Example options:\r\n",
      "  -t [ --testonly ]                Ignore label information and just test\r\n",
      "  --holdout_off                    no holdout data in multiple passes\r\n",
      "  --holdout_period arg (=10, )     holdout period for test only\r\n",
      "  --holdout_after arg              holdout after n training examples, default \r\n",
      "                                   off (disables holdout_period)\r\n",
      "  --early_terminate arg (=3, )     Specify the number of passes tolerated when \r\n",
      "                                   holdout loss doesn't decrease before early \r\n",
      "                                   termination\r\n",
      "  --passes arg                     Number of Training Passes\r\n",
      "  --initial_pass_length arg        initial number of examples per pass\r\n",
      "  --examples arg                   number of examples to parse\r\n",
      "  --min_prediction arg             Smallest prediction to output\r\n",
      "  --max_prediction arg             Largest prediction to output\r\n",
      "  --sort_features                  turn this on to disregard order in which \r\n",
      "                                   features have been defined. This will lead \r\n",
      "                                   to smaller cache sizes\r\n",
      "  --loss_function arg (=squared, ) Specify the loss function to be used, uses \r\n",
      "                                   squared by default. Currently available ones\r\n",
      "                                   are squared, classic, hinge, logistic, \r\n",
      "                                   quantile and poisson.\r\n",
      "  --quantile_tau arg (=0.5, )      Parameter \\tau associated with Quantile \r\n",
      "                                   loss. Defaults to 0.5\r\n",
      "  --l1 arg                         l_1 lambda\r\n",
      "  --l2 arg                         l_2 lambda\r\n",
      "  --no_bias_regularization         no bias in regularization\r\n",
      "  --named_labels arg               use names for labels (multiclass, etc.) \r\n",
      "                                   rather than integers, argument specified all\r\n",
      "                                   possible labels, comma-sep, eg \r\n",
      "                                   \"--named_labels Noun,Verb,Adj,Punc\"\r\n",
      "Output model:\r\n",
      "  -f [ --final_regressor ] arg          Final regressor\r\n",
      "  --readable_model arg                  Output human-readable final regressor \r\n",
      "                                        with numeric features\r\n",
      "  --invert_hash arg                     Output human-readable final regressor \r\n",
      "                                        with feature names.  Computationally \r\n",
      "                                        expensive.\r\n",
      "  --save_resume                         save extra state so learning can be \r\n",
      "                                        resumed later with new data\r\n",
      "  --preserve_performance_counters       reset performance counters when \r\n",
      "                                        warmstarting\r\n",
      "  --save_per_pass                       Save the model after every pass over \r\n",
      "                                        data\r\n",
      "  --output_feature_regularizer_binary arg\r\n",
      "                                        Per feature regularization output file\r\n",
      "  --output_feature_regularizer_text arg Per feature regularization output file,\r\n",
      "                                        in text\r\n",
      "  --id arg                              User supplied ID embedded into the \r\n",
      "                                        final regressor\r\n",
      "Output options:\r\n",
      "  -p [ --predictions ] arg     File to output predictions to\r\n",
      "  -r [ --raw_predictions ] arg File to output unnormalized predictions to\r\n",
      "Audit Regressor:\r\n",
      "  --audit_regressor arg stores feature names and their regressor values. Same \r\n",
      "                        dataset must be used for both regressor training and \r\n",
      "                        this mode.\r\n",
      "Search options:\r\n",
      "  --search arg                          Use learning to search, \r\n",
      "                                        argument=maximum action id or 0 for LDF\r\n",
      "  --search_task arg                     the search task (use \"--search_task \r\n",
      "                                        list\" to get a list of available tasks)\r\n",
      "  --search_metatask arg                 the search metatask (use \r\n",
      "                                        \"--search_metatask list\" to get a list \r\n",
      "                                        of available metatasks)\r\n",
      "  --search_interpolation arg            at what level should interpolation \r\n",
      "                                        happen? [*data|policy]\r\n",
      "  --search_rollout arg                  how should rollouts be executed?       \r\n",
      "                                            [policy|oracle|*mix_per_state|mix_p\r\n",
      "                                        er_roll|none]\r\n",
      "  --search_rollin arg                   how should past trajectories be \r\n",
      "                                        generated? [policy|oracle|*mix_per_stat\r\n",
      "                                        e|mix_per_roll]\r\n",
      "  --search_passes_per_policy arg (=1, ) number of passes per policy (only valid\r\n",
      "                                        for search_interpolation=policy)\r\n",
      "  --search_beta arg (=0.5, )            interpolation rate for policies (only \r\n",
      "                                        valid for search_interpolation=policy)\r\n",
      "  --search_alpha arg (=1e-10, )         annealed beta = 1-(1-alpha)^t (only \r\n",
      "                                        valid for search_interpolation=data)\r\n",
      "  --search_total_nb_policies arg        if we are going to train the policies \r\n",
      "                                        through multiple separate calls to vw, \r\n",
      "                                        we need to specify this parameter and \r\n",
      "                                        tell vw how many policies are \r\n",
      "                                        eventually going to be trained\r\n",
      "  --search_trained_nb_policies arg      the number of trained policies in a \r\n",
      "                                        file\r\n",
      "  --search_allowed_transitions arg      read file of allowed transitions [def: \r\n",
      "                                        all transitions are allowed]\r\n",
      "  --search_subsample_time arg           instead of training at all timesteps, \r\n",
      "                                        use a subset. if value in (0,1), train \r\n",
      "                                        on a random v%. if v>=1, train on \r\n",
      "                                        precisely v steps per example, if \r\n",
      "                                        v<=-1, use active learning\r\n",
      "  --search_neighbor_features arg        copy features from neighboring lines. \r\n",
      "                                        argument looks like: '-1:a,+2' meaning \r\n",
      "                                        copy previous line namespace a and next\r\n",
      "                                        next line from namespace _unnamed_, \r\n",
      "                                        where ',' separates them\r\n",
      "  --search_rollout_num_steps arg        how many calls of \"loss\" before we stop\r\n",
      "                                        really predicting on rollouts and \r\n",
      "                                        switch to oracle (default means \r\n",
      "                                        \"infinite\")\r\n",
      "  --search_history_length arg (=1, )    some tasks allow you to specify how \r\n",
      "                                        much history their depend on; specify \r\n",
      "                                        that here\r\n",
      "  --search_no_caching                   turn off the built-in caching ability \r\n",
      "                                        (makes things slower, but technically \r\n",
      "                                        more safe)\r\n",
      "  --search_xv                           train two separate policies, \r\n",
      "                                        alternating prediction/learning\r\n",
      "  --search_perturb_oracle arg (=0, )    perturb the oracle on rollin with this \r\n",
      "                                        probability\r\n",
      "  --search_linear_ordering              insist on generating examples in linear\r\n",
      "                                        order (def: hoopla permutation)\r\n",
      "  --search_active_verify arg            verify that active learning is doing \r\n",
      "                                        the right thing (arg = multiplier, \r\n",
      "                                        should be = cost_range * range_c)\r\n",
      "  --search_save_every_k_runs arg        save model every k runs\r\n",
      "Experience Replay:\r\n",
      "  --replay_c arg              use experience replay at a specified level \r\n",
      "                              [b=classification/regression, m=multiclass, \r\n",
      "                              c=cost sensitive] with specified buffer size\r\n",
      "  --replay_c_count arg (=1, ) how many times (in expectation) should each \r\n",
      "                              example be played (default: 1 = permuting)\r\n",
      "Explore evaluation:\r\n",
      "  --explore_eval        Evaluate explore_eval adf policies\r\n",
      "  --multiplier arg      Multiplier used to make all rejection sample \r\n",
      "                        probabilities <= 1\r\n",
      "Make csoaa_ldf into Contextual Bandit:\r\n",
      "  --cbify_ldf           Convert csoaa_ldf into a contextual bandit problem\r\n",
      "  --loss0 arg (=0, )    loss for correct label\r\n",
      "  --loss1 arg (=1, )    loss for incorrect label\r\n",
      "Make Multiclass into Contextual Bandit:\r\n",
      "  --cbify arg           Convert multiclass on <k> classes into a contextual \r\n",
      "                        bandit problem\r\n",
      "  --cbify_cs            consume cost-sensitive classification examples instead \r\n",
      "                        of multiclass\r\n",
      "  --loss0 arg (=0, )    loss for correct label\r\n",
      "  --loss1 arg (=1, )    loss for incorrect label\r\n",
      "Make Multiclass into Warm-starting Contextual Bandit:\r\n",
      "  --warm_cb arg                        Convert multiclass on <k> classes into a\r\n",
      "                                       contextual bandit problem\r\n",
      "  --warm_cb_cs                         consume cost-sensitive classification \r\n",
      "                                       examples instead of multiclass\r\n",
      "  --loss0 arg (=0, )                   loss for correct label\r\n",
      "  --loss1 arg (=1, )                   loss for incorrect label\r\n",
      "  --warm_start arg (=0, )              number of training examples for warm \r\n",
      "                                       start phase\r\n",
      "  --epsilon arg                        epsilon-greedy exploration\r\n",
      "  --interaction arg (=4294967295, )    number of examples for the interactive \r\n",
      "                                       contextual bandit learning phase\r\n",
      "  --warm_start_update                  indicator of warm start updates\r\n",
      "  --interaction_update                 indicator of interaction updates\r\n",
      "  --corrupt_type_warm_start arg (=1, ) type of label corruption in the warm \r\n",
      "                                       start phase (1: uniformly at random, 2: \r\n",
      "                                       circular, 3: replacing with overwriting \r\n",
      "                                       label)\r\n",
      "  --corrupt_prob_warm_start arg (=0, ) probability of label corruption in the \r\n",
      "                                       warm start phase\r\n",
      "  --choices_lambda arg (=1, )          the number of candidate lambdas to \r\n",
      "                                       aggregate (lambda is the importance \r\n",
      "                                       weight parameter between the two \r\n",
      "                                       sources)\r\n",
      "  --lambda_scheme arg (=1, )           The scheme for generating candidate \r\n",
      "                                       lambda set (1: center lambda=0.5, 2: \r\n",
      "                                       center lambda=0.5, min lambda=0, max \r\n",
      "                                       lambda=1, 3: center lambda=epsilon/(1+ep\r\n",
      "                                       silon), 4: center lambda=epsilon/(1+epsi\r\n",
      "                                       lon), min lambda=0, max lambda=1); the \r\n",
      "                                       rest of candidate lambda values are \r\n",
      "                                       generated using a doubling scheme\r\n",
      "  --overwrite_label arg (=1, )         the label used by type 3 corruptions \r\n",
      "                                       (overwriting)\r\n",
      "  --sim_bandit                         simulate contextual bandit updates on \r\n",
      "                                       warm start examples\r\n",
      "Contextual Bandit Exploration with Action Dependent Features:\r\n",
      "  --cb_explore_adf          Online explore-exploit for a contextual bandit \r\n",
      "                            problem with multiline action dependent features\r\n",
      "  --first arg               tau-first exploration\r\n",
      "  --epsilon arg             epsilon-greedy exploration\r\n",
      "  --bag arg                 bagging-based exploration\r\n",
      "  --cover arg               Online cover based exploration\r\n",
      "  --psi arg (=1, )          disagreement parameter for cover\r\n",
      "  --nounif                  do not explore uniformly on zero-probability \r\n",
      "                            actions in cover\r\n",
      "  --softmax                 softmax exploration\r\n",
      "  --regcb                   RegCB-elim exploration\r\n",
      "  --regcbopt                RegCB optimistic exploration\r\n",
      "  --mellowness arg (=0.1, ) RegCB mellowness parameter c_0. Default 0.1\r\n",
      "  --greedify                always update first policy once in bagging\r\n",
      "  --cb_min_cost arg (=0, )  lower bound on cost\r\n",
      "  --cb_max_cost arg (=1, )  upper bound on cost\r\n",
      "  --first_only              Only explore the first action in a tie-breaking \r\n",
      "                            event\r\n",
      "  --lambda arg (=1, )       parameter for softmax\r\n",
      "  --cb_type arg             contextual bandit method to use in {ips,dr,mtr}. \r\n",
      "                            Default: mtr\r\n",
      "Contextual Bandit Exploration:\r\n",
      "  --cb_explore arg        Online explore-exploit for a <k> action contextual \r\n",
      "                          bandit problem\r\n",
      "  --first arg             tau-first exploration\r\n",
      "  --epsilon arg (=0.05, ) epsilon-greedy exploration\r\n",
      "  --bag arg               bagging-based exploration\r\n",
      "  --cover arg             Online cover based exploration\r\n",
      "  --psi arg (=1, )        disagreement parameter for cover\r\n",
      "Multiworld Testing Options:\r\n",
      "  --multiworld_test arg Evaluate features as a policies\r\n",
      "  --learn arg           Do Contextual Bandit learning on <n> classes.\r\n",
      "  --exclude_eval        Discard mwt policy features before learning\r\n",
      "Contextual Bandit with Action Dependent Features:\r\n",
      "  --cb_adf              Do Contextual Bandit learning with multiline action \r\n",
      "                        dependent features.\r\n",
      "  --rank_all            Return actions sorted by score order\r\n",
      "  --no_predict          Do not do a prediction when training\r\n",
      "  --cb_type arg         contextual bandit method to use in {ips, dm, dr, mtr, \r\n",
      "                        sm}. Default: mtr\r\n",
      "Contextual Bandit Options:\r\n",
      "  --cb arg              Use contextual bandit learning with <k> costs\r\n",
      "  --cb_type arg         contextual bandit method to use in {ips,dm,dr}\r\n",
      "  --eval                Evaluate a policy rather than optimizing.\r\n",
      "Cost Sensitive One Against All with Label Dependent Features:\r\n",
      "  --csoaa_ldf arg       Use one-against-all multiclass learning with label \r\n",
      "                        dependent features.\r\n",
      "  --ldf_override arg    Override singleline or multiline from csoaa_ldf or \r\n",
      "                        wap_ldf, eg if stored in file\r\n",
      "  --csoaa_rank          Return actions sorted by score order\r\n",
      "  --probabilities       predict probabilites of all classes\r\n",
      "Cost Sensitive One Against All with Label Dependent Features:\r\n",
      "  --wap_ldf arg         Use weighted all-pairs multiclass learning with label \r\n",
      "                        dependent features.  Specify singleline or multiline.\r\n",
      "Interact via elementwise multiplication:\r\n",
      "  --interact arg        Put weights on feature products from namespaces <n1> \r\n",
      "                        and <n2>\r\n",
      "Cost Sensitive One Against All:\r\n",
      "  --csoaa arg           One-against-all multiclass with <k> costs\r\n",
      "Cost-sensitive Active Learning:\r\n",
      "  --cs_active arg                       Cost-sensitive active learning with <k>\r\n",
      "                                        costs\r\n",
      "  --simulation                          cost-sensitive active learning \r\n",
      "                                        simulation mode\r\n",
      "  --baseline                            cost-sensitive active learning baseline\r\n",
      "  --domination arg (=1, )               cost-sensitive active learning use \r\n",
      "                                        domination. Default 1\r\n",
      "  --mellowness arg (=0.1, )             mellowness parameter c_0. Default 0.1.\r\n",
      "  --range_c arg (=0.5, )                parameter controlling the threshold for\r\n",
      "                                        per-label cost uncertainty. Default \r\n",
      "                                        0.5.\r\n",
      "  --max_labels arg (=18446744073709551615, )\r\n",
      "                                        maximum number of label queries.\r\n",
      "  --min_labels arg (=18446744073709551615, )\r\n",
      "                                        minimum number of label queries.\r\n",
      "  --cost_max arg (=1, )                 cost upper bound. Default 1.\r\n",
      "  --cost_min arg (=0, )                 cost lower bound. Default 0.\r\n",
      "  --csa_debug                           print debug stuff for cs_active\r\n",
      "Multilabel One Against All:\r\n",
      "  --multilabel_oaa arg  One-against-all multilabel with <k> labels\r\n",
      "importance weight classes:\r\n",
      "  --classweight arg     importance weight multiplier for class\r\n",
      "Memory Tree:\r\n",
      "  --memory_tree arg (=0, )             Make a memory tree with at most <n> \r\n",
      "                                       nodes\r\n",
      "  --max_number_of_labels arg (=10, )   max number of unique label\r\n",
      "  --leaf_example_multiplier arg (=1, ) multiplier on examples per leaf (default\r\n",
      "                                       = log nodes)\r\n",
      "  --alpha arg (=0.1, )                 Alpha\r\n",
      "  --dream_repeats arg (=1, )           number of dream operations per example \r\n",
      "                                       (default = 1)\r\n",
      "  --top_K arg (=1, )                   top K prediction error (default 1)\r\n",
      "  --learn_at_leaf                      whether or not learn at leaf (defualt = \r\n",
      "                                       True)\r\n",
      "  --oas                                use oas at the leaf\r\n",
      "  --dream_at_update arg (=0, )         turn on dream operations at reward based\r\n",
      "                                       update as well\r\n",
      "  --online                             turn on dream operations at reward based\r\n",
      "                                       update as well\r\n",
      "Recall Tree:\r\n",
      "  --recall_tree arg       Use online tree for multiclass\r\n",
      "  --max_candidates arg    maximum number of labels per leaf in the tree\r\n",
      "  --bern_hyper arg (=1, ) recall tree depth penalty\r\n",
      "  --max_depth arg         maximum depth of the tree, default log_2 (#classes)\r\n",
      "  --node_only             only use node features, not full path features\r\n",
      "  --randomized_routing    randomized routing\r\n",
      "Logarithmic Time Multiclass Tree:\r\n",
      "  --log_multi arg              Use online tree for multiclass\r\n",
      "  --no_progress                disable progressive validation\r\n",
      "  --swap_resistance arg (=4, ) disable progressive validation\r\n",
      "  --swap_resistance arg (=4, ) higher = more resistance to swap, default=4\r\n",
      "Error Correcting Tournament Options:\r\n",
      "  --ect arg                Error correcting tournament with <k> labels\r\n",
      "  --error arg (=0, )       errors allowed by ECT\r\n",
      "  --link arg (=identity, ) Specify the link function: identity, logistic, glf1 \r\n",
      "                           or poisson\r\n",
      "Boosting:\r\n",
      "  --boosting arg        Online boosting with <N> weak learners\r\n",
      "  --gamma arg (=0.1, )  weak learner's edge (=0.1), used only by online BBM\r\n",
      "  --alg arg (=BBM, )    specify the boosting algorithm: BBM (default), logistic\r\n",
      "                        (AdaBoost.OL.W), adaptive (AdaBoost.OL)\r\n",
      "One Against All Options:\r\n",
      "  --oaa arg             One-against-all multiclass with <k> labels\r\n",
      "  --oaa_subsample arg   subsample this number of negative examples when \r\n",
      "                        learning\r\n",
      "  --probabilities       predict probabilites of all classes\r\n",
      "  --scores              output raw scores per class\r\n",
      "Top K:\r\n",
      "  --top arg             top k recommendation\r\n",
      "Experience Replay:\r\n",
      "  --replay_m arg              use experience replay at a specified level \r\n",
      "                              [b=classification/regression, m=multiclass, \r\n",
      "                              c=cost sensitive] with specified buffer size\r\n",
      "  --replay_m_count arg (=1, ) how many times (in expectation) should each \r\n",
      "                              example be played (default: 1 = permuting)\r\n",
      "Binary loss:\r\n",
      "  --binary              report loss as binary classification on -1,1\r\n",
      "Bootstrap:\r\n",
      "  --bootstrap arg       k-way bootstrap by online importance resampling\r\n",
      "  --bs_type arg         prediction type {mean,vote}\r\n",
      "scorer options:\r\n",
      "  --link arg (=identity, ) Specify the link function: identity, logistic, glf1 \r\n",
      "                           or poisson\r\n",
      "Stagewise polynomial options:\r\n",
      "  --stage_poly                use stagewise polynomial feature learning\r\n",
      "  --sched_exponent arg (=1, ) exponent controlling quantity of included \r\n",
      "                              features\r\n",
      "  --batch_sz arg (=1000, )    multiplier on batch size before including more \r\n",
      "                              features\r\n",
      "  --batch_sz_no_doubling      batch_sz does not double\r\n",
      "Low Rank Quadratics FA:\r\n",
      "  --lrqfa arg           use low rank quadratic features with field aware \r\n",
      "                        weights\r\n",
      "Low Rank Quadratics:\r\n",
      "  --lrq arg             use low rank quadratic features\r\n",
      "  --lrqdropout          use dropout training for low rank quadratic features\r\n",
      "Autolink:\r\n",
      "  --autolink arg        create link function with polynomial d\r\n",
      "VW options:\r\n",
      "  --marginal arg                   substitute marginal label estimates for ids\r\n",
      "  --initial_denominator arg (=1, ) initial denominator\r\n",
      "  --initial_numerator arg (=0.5, ) initial numerator\r\n",
      "  --compete                        enable competition with marginal features\r\n",
      "  --update_before_learn            update marginal values before learning\r\n",
      "  --unweighted_marginals           ignore importance weights when computing \r\n",
      "                                   marginals\r\n",
      "  --decay arg (=0, )               decay multiplier per event (1e-3 for \r\n",
      "                                   example)\r\n",
      "Matrix Factorization Reduction:\r\n",
      "  --new_mf arg          rank for reduction-based matrix factorization\r\n",
      "Neural Network:\r\n",
      "  --nn arg              Sigmoidal feedforward network with <k> hidden units\r\n",
      "  --inpass              Train or test sigmoidal feedforward network with input \r\n",
      "                        passthrough.\r\n",
      "  --multitask           Share hidden layer across all reduced tasks.\r\n",
      "  --dropout             Train or test sigmoidal feedforward network using \r\n",
      "                        dropout.\r\n",
      "  --meanfield           Train or test sigmoidal feedforward network using mean \r\n",
      "                        field.\r\n",
      "Confidence:\r\n",
      "  --confidence                 Get confidence for binary predictions\r\n",
      "  --confidence_after_training  Confidence after training\r\n",
      "Active Learning with Cover:\r\n",
      "  --active_cover                enable active learning with cover\r\n",
      "  --mellowness arg (=8, )       active learning mellowness parameter c_0. \r\n",
      "                                Default 8.\r\n",
      "  --alpha arg (=1, )            active learning variance upper bound parameter \r\n",
      "                                alpha. Default 1.\r\n",
      "  --beta_scale arg (=3.16228, ) active learning variance upper bound parameter \r\n",
      "                                beta_scale. Default sqrt(10).\r\n",
      "  --cover arg (=12, )           cover size. Default 12.\r\n",
      "  --oracular                    Use Oracular-CAL style query or not. Default \r\n",
      "                                false.\r\n",
      "Active Learning:\r\n",
      "  --active                enable active learning\r\n",
      "  --simulation            active learning simulation mode\r\n",
      "  --mellowness arg (=8, ) active learning mellowness parameter c_0. Default 8\r\n",
      "Experience Replay:\r\n",
      "  --replay_b arg              use experience replay at a specified level \r\n",
      "                              [b=classification/regression, m=multiclass, \r\n",
      "                              c=cost sensitive] with specified buffer size\r\n",
      "  --replay_b_count arg (=1, ) how many times (in expectation) should each \r\n",
      "                              example be played (default: 1 = permuting)\r\n",
      "Baseline options:\r\n",
      "  --baseline            Learn an additive baseline (from constant features) and\r\n",
      "                        a residual separately in regression.\r\n",
      "  --lr_multiplier arg   learning rate multiplier for baseline model\r\n",
      "  --global_only         use separate example with only global constant for \r\n",
      "                        baseline predictions\r\n",
      "  --check_enabled       only use baseline when the example contains enabled \r\n",
      "                        flag\r\n",
      "OjaNewton options:\r\n",
      "  --OjaNewton                    Online Newton with Oja's Sketch\r\n",
      "  --sketch_size arg (=10, )      size of sketch\r\n",
      "  --epoch_size arg (=1, )        size of epoch\r\n",
      "  --alpha arg (=1, )             mutiplicative constant for indentiy\r\n",
      "  --alpha_inverse arg            one over alpha, similar to learning rate\r\n",
      "  --learning_rate_cnt arg (=2, ) constant for the learning rate 1/t\r\n",
      "  --normalize arg                normalize the features or not\r\n",
      "  --random_init arg              randomize initialization of Oja or not\r\n",
      "LBFGS and Conjugate Gradient options:\r\n",
      "  --conjugate_gradient  use conjugate gradient based optimization\r\n",
      "LBFGS and Conjugate Gradient options:\r\n",
      "  --bfgs                       use conjugate gradient based optimization\r\n",
      "  --hessian_on                 use second derivative in line search\r\n",
      "  --mem arg (=15, )            memory in bfgs\r\n",
      "  --termination arg (=0.001, ) Termination threshold\r\n",
      "Latent Dirichlet Allocation:\r\n",
      "  --lda arg                    Run lda with <int> topics\r\n",
      "  --lda_alpha arg (=0.1, )     Prior on sparsity of per-document topic weights\r\n",
      "  --lda_rho arg (=0.1, )       Prior on sparsity of topic distributions\r\n",
      "  --lda_D arg (=10000, )       Number of documents\r\n",
      "  --lda_epsilon arg (=0.001, ) Loop convergence threshold\r\n",
      "  --minibatch arg (=1, )       Minibatch size, for LDA\r\n",
      "  --math-mode arg (=0, )       Math mode: simd, accuracy, fast-approx\r\n",
      "  --metrics                    Compute metrics\r\n",
      "Noop Learner:\r\n",
      "  --noop                do no learning\r\n",
      "Print psuedolearner:\r\n",
      "  --print               print examples\r\n",
      "Gradient Descent Matrix Factorization:\r\n",
      "  --rank arg            rank for matrix factorization.\r\n",
      "  --bfgs                Option not supported by this reduction\r\n",
      "  --conjugate_gradient  Option not supported by this reduction\r\n",
      "Network sending:\r\n",
      "  --sendto arg          send examples to <host>\r\n",
      "Stochastic Variance Reduced Gradient:\r\n",
      "  --svrg                  Streaming Stochastic Variance Reduced Gradient\r\n",
      "  --stage_size arg (=1, ) Number of passes per SVRG stage\r\n",
      "Follow the Regularized Leader:\r\n",
      "  --ftrl                FTRL: Follow the Proximal Regularized Leader\r\n",
      "  --coin                Coin betting optimizer\r\n",
      "  --pistol              PiSTOL: Parameter-free STOchastic Learning\r\n",
      "  --ftrl_alpha arg      Learning rate for FTRL optimization\r\n",
      "  --ftrl_beta arg       Learning rate for FTRL optimization\r\n",
      "Kernel SVM:\r\n",
      "  --ksvm                   kernel svm\r\n",
      "  --reprocess arg (=1, )   number of reprocess steps for LASVM\r\n",
      "  --pool_greedy            use greedy selection on mini pools\r\n",
      "  --para_active            do parallel active learning\r\n",
      "  --pool_size arg (=1, )   size of pools for active learning\r\n",
      "  --subsample arg (=1, )   number of items to subsample from the pool\r\n",
      "  --kernel arg (=linear, ) type of kernel (rbf or linear (default))\r\n",
      "  --bandwidth arg (=1, )   bandwidth of rbf kernel\r\n",
      "  --degree arg (=2, )      degree of poly kernel\r\n",
      "Gradient Descent options:\r\n",
      "  --sgd                  use regular stochastic gradient descent update.\r\n",
      "  --adaptive             use adaptive, individual learning rates.\r\n",
      "  --adax                 use adaptive learning rates with x^2 instead of g^2x^2\r\n",
      "  --invariant            use safe/importance aware updates.\r\n",
      "  --normalized           use per feature normalized updates\r\n",
      "  --sparse_l2 arg (=0, ) use per feature normalized updates\r\n",
      "  --l1_state arg (=0, )  use per feature normalized updates\r\n",
      "  --l2_state arg (=1, )  use per feature normalized updates\r\n",
      "Input options:\r\n",
      "  -d [ --data ] arg     Example set\r\n",
      "  --daemon              persistent daemon mode on port 26542\r\n",
      "  --foreground          in persistent daemon mode, do not run in the background\r\n",
      "  --port arg            port to listen on; use 0 to pick unused port\r\n",
      "  --num_children arg    number of children for persistent daemon mode\r\n",
      "  --pid_file arg        Write pid file in persistent daemon mode\r\n",
      "  --port_file arg       Write port used in persistent daemon mode\r\n",
      "  -c [ --cache ]        Use a cache.  The default is <data>.cache\r\n",
      "  --cache_file arg      The location(s) of cache_file.\r\n",
      "  --json                Enable JSON parsing.\r\n",
      "  --dsjson              Enable Decision Service JSON parsing.\r\n",
      "  -k [ --kill_cache ]   do not reuse existing cache: create a new one always\r\n",
      "  --compressed          use gzip format whenever possible. If a cache file is \r\n",
      "                        being created, this option creates a compressed cache \r\n",
      "                        file. A mixture of raw-text & compressed inputs are \r\n",
      "                        supported with autodetection.\r\n",
      "  --no_stdin            do not default to reading from stdin\r\n"
     ]
    }
   ],
   "source": [
    "# Проверяем, что vw работает\n",
    "! vw --help "
   ]
  },
  {
   "cell_type": "code",
   "execution_count": null,
   "id": "855b66a6",
   "metadata": {},
   "outputs": [
    {
     "name": "stdout",
     "output_type": "stream",
     "text": [
      "using l1 regularization = 1\r\n",
      "final_regressor = /home/ubuntu/bhw/vw/outbrain.model_v1.bin\r\n",
      "Enabling FTRL based optimization\r\n",
      "Algorithm used: Proximal-FTRL\r\n",
      "ftrl_alpha = 0.05\r\n",
      "ftrl_beta = 0.5\r\n",
      "Num weight bits = 24\r\n",
      "learning rate = 20\r\n",
      "initial_t = 0\r\n",
      "power_t = 0.5\r\n",
      "decay_learning_rate = 1\r\n",
      "creating cache_file = /home/ubuntu/bhw/vw/train/train.vw.cache\r\n",
      "Reading datafile = /home/ubuntu/bhw/vw/train/train.vw\r\n",
      "num sources = 1\r\n",
      "average  since         example        example  current  current  current\r\n",
      "loss     last          counter         weight    label  predict features\r\n",
      "0.693147 0.693147            1            1.0  -1.0000   0.0000       18\r\n",
      "0.346574 0.000000            2            2.0  -1.0000 -50.0000       18\r\n",
      "0.173287 0.000000            4            4.0  -1.0000 -50.0000       18\r\n",
      "0.086643 0.000000            8            8.0  -1.0000 -50.0000       18\r\n",
      "7.019380 13.952117           16           16.0  -1.0000 -34.4591       18\r\n",
      "4.963954 2.908528           32           32.0  -1.0000 -30.0971       18\r\n"
     ]
    }
   ],
   "source": [
    "%%time\n",
    "!vw ~/bhw/vw/train/train.vw \\\n",
    "    --final_regressor ~/bhw/vw/outbrain.model_v1.bin \\\n",
    "    --loss_function logistic \\\n",
    "    --learning_rate 20.0 \\\n",
    "    --bit_precision 24 \\\n",
    "    --passes 2 \\\n",
    "    --ftrl --ftrl_alpha 0.05 --ftrl_beta 0.5 --l1 1 \\\n",
    "    --cache -k"
   ]
  },
  {
   "cell_type": "markdown",
   "id": "99fdb4c4",
   "metadata": {},
   "source": [
    "Дальше было 600к логов об ошибке в формате записи в vw, из-за которых у меня упал джупайтер, не прогружаясь ни в одном браузере (файл стал весить 169мб). Я вручную через notepad почистил эти логи и понял, что надо что-то кардинально менять. Попробуем сделать более легковесные фичи, избавимся от numeric features, как это и было сделано в бейзлайне"
   ]
  },
  {
   "cell_type": "markdown",
   "id": "97a6484e",
   "metadata": {},
   "source": [
    "## Заново собираем датасет"
   ]
  },
  {
   "cell_type": "code",
   "execution_count": 6,
   "id": "e587d499",
   "metadata": {},
   "outputs": [
    {
     "name": "stderr",
     "output_type": "stream",
     "text": [
      "[Stage 10:>                                                         (0 + 1) / 1]\r"
     ]
    },
    {
     "name": "stdout",
     "output_type": "stream",
     "text": [
      "+----------+--------------+-----------+---------+--------+-------+-----+----+\n",
      "|display_id|          uuid|document_id|timestamp|platform|country|state|area|\n",
      "+----------+--------------+-----------+---------+--------+-------+-----+----+\n",
      "|         1|cb8c55702adb93|     379743|       61|       3|     US|   SC| 519|\n",
      "|         2|79a85fa78311b9|    1794259|       81|       2|     US|   CA| 807|\n",
      "|         3|822932ce3d8757|    1179111|      182|       2|     US|   MI| 505|\n",
      "|         4|85281d0a49f7ac|    1777797|      234|       2|     US|   WV| 564|\n",
      "|         5|8d0daef4bf5b56|     252458|      338|       2|     SG|   00|null|\n",
      "|         6|7765b4faae4ad4|    1773517|      395|       3|     US|   OH| 510|\n",
      "|         7|2cc3f6457d16da|    1149661|      602|       2|     US|   MT| 762|\n",
      "|         8|166fc654d73c98|    1330329|      638|       2|     US|   PA| 566|\n",
      "|         9|9dddccf70f6067|    1772126|      667|       1|     US|   FL| 528|\n",
      "|        10|b09a0e92aa4d17|     157455|      693|       1|     US| null|null|\n",
      "|        11|602e210c5831e5|    1773230|      710|       3|     US|   IL| 675|\n",
      "|        12|6fa993bd0e0157|     892701|      718|       1|     US|   TX| 612|\n",
      "|        13|7355615832b3af|    1778533|      739|       1|     US|   AZ| 753|\n",
      "|        14|daef797fc210a2|    1759953|      798|       3|     US|   NC| 560|\n",
      "|        15|24c64dc30891c0|    1777136|     1000|       2|     GB| null|null|\n",
      "|        16|30c0ad12b36375|    1727882|     1033|       1|     US|   FL| 561|\n",
      "|        17|c80c06d718ba65|    1667725|     1044|       2|     US|   MI| 540|\n",
      "|        18|eb58e66b4f6bb0|     429183|     1175|       2|     US|   OR| 820|\n",
      "|        19|c419799a427c72|    1155107|     1202|       3|     US|   HI| 744|\n",
      "|        20|650e3b5699738b|    1642724|     1282|       2|     US|   MI| 505|\n",
      "+----------+--------------+-----------+---------+--------+-------+-----+----+\n",
      "only showing top 20 rows\n",
      "\n"
     ]
    },
    {
     "name": "stderr",
     "output_type": "stream",
     "text": [
      "                                                                                \r"
     ]
    }
   ],
   "source": [
    "split_col = F.split(events['geo_location'], '>')\n",
    "events = events.withColumn('country', split_col.getItem(0)) \\\n",
    "       .withColumn('state', split_col.getItem(1)) \\\n",
    "       .withColumn('area', split_col.getItem(2)) \\\n",
    "       .drop(events.geo_location)\n",
    "events.show()"
   ]
  },
  {
   "cell_type": "code",
   "execution_count": 7,
   "id": "9c0dcade",
   "metadata": {},
   "outputs": [],
   "source": [
    "events.registerTempTable(\"events\")"
   ]
  },
  {
   "cell_type": "code",
   "execution_count": 8,
   "id": "e07cd591",
   "metadata": {},
   "outputs": [],
   "source": [
    "events = se.sql(\"\"\"\n",
    "    SELECT display_id, uuid, document_id, platform,\n",
    "    hash(country) as country,\n",
    "    hash(state) as state,\n",
    "    area\n",
    "    FROM events\n",
    "    \"\"\")"
   ]
  },
  {
   "cell_type": "code",
   "execution_count": 9,
   "id": "8a9e6472",
   "metadata": {},
   "outputs": [],
   "source": [
    "events.registerTempTable(\"events\")"
   ]
  },
  {
   "cell_type": "code",
   "execution_count": 10,
   "id": "140c2709",
   "metadata": {},
   "outputs": [
    {
     "name": "stderr",
     "output_type": "stream",
     "text": [
      "[Stage 12:=============================>                            (3 + 3) / 6]\r"
     ]
    },
    {
     "name": "stdout",
     "output_type": "stream",
     "text": [
      "+----------+------+-------+--------------+-----------+--------+-----------+-----------+----+\n",
      "|display_id| ad_id|clicked|          uuid|document_id|platform|    country|      state|area|\n",
      "+----------+------+-------+--------------+-----------+--------+-----------+-----------+----+\n",
      "|       148| 89351|      1|9adce6a5363308|    1205772|       2|-1077041708| 1660582409| 612|\n",
      "|       148|152140|      0|9adce6a5363308|    1205772|       2|-1077041708| 1660582409| 612|\n",
      "|       148|152656|      0|9adce6a5363308|    1205772|       2|-1077041708| 1660582409| 612|\n",
      "|       148|326768|      0|9adce6a5363308|    1205772|       2|-1077041708| 1660582409| 612|\n",
      "|       463| 28270|      0|85d999a1dd5483|    1787133|       1|-1077041708| -377763884| 764|\n",
      "|       463| 38813|      1|85d999a1dd5483|    1787133|       1|-1077041708| -377763884| 764|\n",
      "|       463|104911|      0|85d999a1dd5483|    1787133|       1|-1077041708| -377763884| 764|\n",
      "|       463|170148|      0|85d999a1dd5483|    1787133|       1|-1077041708| -377763884| 764|\n",
      "|       463|187292|      0|85d999a1dd5483|    1787133|       1|-1077041708| -377763884| 764|\n",
      "|       463|221740|      0|85d999a1dd5483|    1787133|       1|-1077041708| -377763884| 764|\n",
      "|       463|221782|      0|85d999a1dd5483|    1787133|       1|-1077041708| -377763884| 764|\n",
      "|       463|240837|      0|85d999a1dd5483|    1787133|       1|-1077041708| -377763884| 764|\n",
      "|       463|327054|      0|85d999a1dd5483|    1787133|       1|-1077041708| -377763884| 764|\n",
      "|       463|327114|      0|85d999a1dd5483|    1787133|       1|-1077041708| -377763884| 764|\n",
      "|       471| 22811|      0|277636b1739ae4|     814331|       2|-1077041708| 1193196075| 504|\n",
      "|       471|164323|      0|277636b1739ae4|     814331|       2|-1077041708| 1193196075| 504|\n",
      "|       471|173384|      0|277636b1739ae4|     814331|       2|-1077041708| 1193196075| 504|\n",
      "|       471|198155|      1|277636b1739ae4|     814331|       2|-1077041708| 1193196075| 504|\n",
      "|       496| 44460|      0|1ebc05d117ee8e|     986872|       2| 1886535265|-1130428357|null|\n",
      "|       496|124745|      0|1ebc05d117ee8e|     986872|       2| 1886535265|-1130428357|null|\n",
      "+----------+------+-------+--------------+-----------+--------+-----------+-----------+----+\n",
      "only showing top 20 rows\n",
      "\n"
     ]
    },
    {
     "name": "stderr",
     "output_type": "stream",
     "text": [
      "                                                                                \r"
     ]
    }
   ],
   "source": [
    "train = se.sql(\n",
    "        \"\"\"\n",
    "        SELECT clicks_train.*, events.uuid, events.document_id, \\\n",
    "        events.platform, events.country, events.state, events.area\n",
    "        FROM clicks_train LEFT JOIN events ON clicks_train.display_id == events.display_id\n",
    "        \"\"\")\n",
    "train.show()"
   ]
  },
  {
   "cell_type": "code",
   "execution_count": 11,
   "id": "101a8725",
   "metadata": {},
   "outputs": [],
   "source": [
    "train.registerTempTable(\"train\")"
   ]
  },
  {
   "cell_type": "code",
   "execution_count": 12,
   "id": "436e32ae",
   "metadata": {},
   "outputs": [],
   "source": [
    "train = se.sql(\n",
    "        \"\"\"\n",
    "        SELECT train.*, promoted_content.document_id as ad_document_id, \\\n",
    "        promoted_content.campaign_id, promoted_content.advertiser_id\n",
    "        FROM train LEFT JOIN promoted_content ON train.ad_id == promoted_content.ad_id\n",
    "        \"\"\")"
   ]
  },
  {
   "cell_type": "code",
   "execution_count": 13,
   "id": "e5d8fd61",
   "metadata": {},
   "outputs": [],
   "source": [
    "train.registerTempTable(\"train\")"
   ]
  },
  {
   "cell_type": "code",
   "execution_count": 15,
   "id": "a546f9f0",
   "metadata": {},
   "outputs": [
    {
     "name": "stderr",
     "output_type": "stream",
     "text": [
      "[Stage 18:>                                                         (0 + 1) / 1]\r"
     ]
    },
    {
     "name": "stdout",
     "output_type": "stream",
     "text": [
      "+----------+------+-------+--------------+-----------+--------+-----------+-----------+----+--------------+-----------+-------------+---------+------------+\n",
      "|display_id| ad_id|clicked|          uuid|document_id|platform|    country|      state|area|ad_document_id|campaign_id|advertiser_id|source_id|publisher_id|\n",
      "+----------+------+-------+--------------+-----------+--------+-----------+-----------+----+--------------+-----------+-------------+---------+------------+\n",
      "|       148| 89351|      1|9adce6a5363308|    1205772|       2|-1077041708| 1660582409| 612|        990613|       7617|         2181|     9135|        1042|\n",
      "|       148|152140|      0|9adce6a5363308|    1205772|       2|-1077041708| 1660582409| 612|       1060089|      19032|         1593|     9135|        1042|\n",
      "|       148|152656|      0|9adce6a5363308|    1205772|       2|-1077041708| 1660582409| 612|       1086755|      10511|         2151|     9135|        1042|\n",
      "|       148|326768|      0|9adce6a5363308|    1205772|       2|-1077041708| 1660582409| 612|       1379561|      23374|         2348|     9135|        1042|\n",
      "|       463| 28270|      0|85d999a1dd5483|    1787133|       1|-1077041708| -377763884| 764|        845272|       4346|         1913|     7478|         874|\n",
      "|       463| 38813|      1|85d999a1dd5483|    1787133|       1|-1077041708| -377763884| 764|        910765|       5499|         1419|     7478|         874|\n",
      "|       463|104911|      0|85d999a1dd5483|    1787133|       1|-1077041708| -377763884| 764|       1158823|      13576|         2028|     7478|         874|\n",
      "|       463|170148|      0|85d999a1dd5483|    1787133|       1|-1077041708| -377763884| 764|       1368736|      20922|          473|     7478|         874|\n",
      "|       463|187292|      0|85d999a1dd5483|    1787133|       1|-1077041708| -377763884| 764|       1116986|      15430|          769|     7478|         874|\n",
      "|       463|221740|      0|85d999a1dd5483|    1787133|       1|-1077041708| -377763884| 764|       1343699|      18763|         1309|     7478|         874|\n",
      "|       463|221782|      0|85d999a1dd5483|    1787133|       1|-1077041708| -377763884| 764|        647796|       2236|         1309|     7478|         874|\n",
      "|       463|240837|      0|85d999a1dd5483|    1787133|       1|-1077041708| -377763884| 764|        747296|      25854|         1809|     7478|         874|\n",
      "|       463|327054|      0|85d999a1dd5483|    1787133|       1|-1077041708| -377763884| 764|       1086095|      24079|         1570|     7478|         874|\n",
      "|       463|327114|      0|85d999a1dd5483|    1787133|       1|-1077041708| -377763884| 764|       1163344|      24078|         1570|     7478|         874|\n",
      "|       471| 22811|      0|277636b1739ae4|     814331|       2|-1077041708| 1193196075| 504|        634187|       3549|          557|     2760|         939|\n",
      "|       471|164323|      0|277636b1739ae4|     814331|       2|-1077041708| 1193196075| 504|       1408591|      20546|         1031|     2760|         939|\n",
      "|       471|173384|      0|277636b1739ae4|     814331|       2|-1077041708| 1193196075| 504|        947798|      21238|         2169|     2760|         939|\n",
      "|       471|198155|      1|277636b1739ae4|     814331|       2|-1077041708| 1193196075| 504|       1387840|      22843|         2768|     2760|         939|\n",
      "|       496| 44460|      0|1ebc05d117ee8e|     986872|       2| 1886535265|-1130428357|null|        944343|       6200|           83|     7166|         951|\n",
      "|       496|124745|      0|1ebc05d117ee8e|     986872|       2| 1886535265|-1130428357|null|       1243522|        540|          415|     7166|         951|\n",
      "+----------+------+-------+--------------+-----------+--------+-----------+-----------+----+--------------+-----------+-------------+---------+------------+\n",
      "only showing top 20 rows\n",
      "\n"
     ]
    },
    {
     "name": "stderr",
     "output_type": "stream",
     "text": [
      "                                                                                \r"
     ]
    }
   ],
   "source": [
    "train = se.sql(\n",
    "        \"\"\"\n",
    "        SELECT train.*, dm.source_id, dm.publisher_id\n",
    "        FROM train \n",
    "        LEFT JOIN documents_meta dm ON train.document_id == dm.document_id\n",
    "        \"\"\")\n",
    "train.show()"
   ]
  },
  {
   "cell_type": "code",
   "execution_count": 16,
   "id": "77a143e0",
   "metadata": {},
   "outputs": [],
   "source": [
    "train.registerTempTable(\"train\")"
   ]
  },
  {
   "cell_type": "code",
   "execution_count": 17,
   "id": "8042d823",
   "metadata": {},
   "outputs": [],
   "source": [
    "train, val = train.randomSplit([.75, .25], 2022)\n",
    "train, val = train.cache(), val.cache()"
   ]
  },
  {
   "cell_type": "code",
   "execution_count": 20,
   "id": "0545a78a",
   "metadata": {},
   "outputs": [],
   "source": [
    "train = train.fillna(value=\"0\")\n",
    "val = val.fillna(value=\"0\")"
   ]
  },
  {
   "cell_type": "code",
   "execution_count": 19,
   "id": "229555f3",
   "metadata": {},
   "outputs": [
    {
     "data": {
      "text/plain": [
       "['display_id',\n",
       " 'ad_id',\n",
       " 'clicked',\n",
       " 'uuid',\n",
       " 'document_id',\n",
       " 'platform',\n",
       " 'country',\n",
       " 'state',\n",
       " 'area',\n",
       " 'ad_document_id',\n",
       " 'campaign_id',\n",
       " 'advertiser_id',\n",
       " 'source_id',\n",
       " 'publisher_id']"
      ]
     },
     "execution_count": 19,
     "metadata": {},
     "output_type": "execute_result"
    }
   ],
   "source": [
    "train.columns"
   ]
  },
  {
   "cell_type": "code",
   "execution_count": 21,
   "id": "e4918930",
   "metadata": {},
   "outputs": [],
   "source": [
    "def convert_to_vw_class(\n",
    "    data,\n",
    "    is_train=True):\n",
    "    data = data.asDict()\n",
    "    \n",
    "    tags = 'display_id_'+str(data['display_id'])+'_ad_id_'+str(data['ad_id'])+'|'\n",
    "        \n",
    "    # сначала единым namespace добавляем числовые фичи, явно отражая это через :\n",
    "    \n",
    "    features =  'a '+str(data['display_id'])+\\\n",
    "                ' |b '+str(data['ad_id'])+\\\n",
    "                ' |c '+str(data['uuid'])+\\\n",
    "                ' |d '+str(data['document_id'])+\\\n",
    "                ' |e '+str(data['platform'])+\\\n",
    "                ' |f '+str(data['country'])+\\\n",
    "                ' |g '+str(data['state'])+\\\n",
    "                ' |h '+str(data['area'])+\\\n",
    "                ' |i '+str(data['ad_document_id'])+\\\n",
    "                ' |j '+str(data['campaign_id'])+\\\n",
    "                ' |k '+str(data['advertiser_id'])+\\\n",
    "                ' |l '+str(data['source_id'])+\\\n",
    "                ' |m '+str(data['publisher_id'])\n",
    "    \n",
    "    if is_train:\n",
    "        if data['clicked'] == 0:\n",
    "            data['clicked'] = -1\n",
    "        template = '{target} {tags}{features}'\n",
    "        return template.format(\n",
    "            target=data['clicked'], \n",
    "            features=features, \n",
    "            tags=tags)\n",
    "    else:\n",
    "        template = '{tags}{features}'\n",
    "        return template.format(\n",
    "                        features=features,\n",
    "                        tags=tags)"
   ]
  },
  {
   "cell_type": "code",
   "execution_count": 18,
   "id": "8bf46bf7",
   "metadata": {},
   "outputs": [],
   "source": [
    "!hdfs dfs -mkdir -p /user/outbrain/vw_v2"
   ]
  },
  {
   "cell_type": "code",
   "execution_count": 22,
   "id": "5ebed956",
   "metadata": {},
   "outputs": [
    {
     "name": "stderr",
     "output_type": "stream",
     "text": [
      "                                                                                \r"
     ]
    }
   ],
   "source": [
    "train.rdd.map(lambda x: convert_to_vw_class(x)).saveAsTextFile('/user/outbrain/vw_v2/train.vw')"
   ]
  },
  {
   "cell_type": "code",
   "execution_count": 23,
   "id": "ca98e4a0",
   "metadata": {},
   "outputs": [
    {
     "name": "stderr",
     "output_type": "stream",
     "text": [
      "                                                                                \r"
     ]
    }
   ],
   "source": [
    "val.rdd.map(lambda x: convert_to_vw_class(x)).saveAsTextFile('/user/outbrain/vw_v2/val.vw')"
   ]
  },
  {
   "cell_type": "code",
   "execution_count": 25,
   "id": "72ccc3de",
   "metadata": {},
   "outputs": [
    {
     "name": "stderr",
     "output_type": "stream",
     "text": [
      "[Stage 29:===================================================>    (11 + 1) / 12]\r"
     ]
    },
    {
     "name": "stdout",
     "output_type": "stream",
     "text": [
      "+----------+------+--------------+-----------+--------+-----------+----------+----+\n",
      "|display_id| ad_id|          uuid|document_id|platform|    country|     state|area|\n",
      "+----------+------+--------------+-----------+--------+-----------+----------+----+\n",
      "|  16874807|137006|a296494aa7a041|     399863|       2|  899366864|1554269903|null|\n",
      "|  16874807|192759|a296494aa7a041|     399863|       2|  899366864|1554269903|null|\n",
      "|  16874807|192855|a296494aa7a041|     399863|       2|  899366864|1554269903|null|\n",
      "|  16874807|213769|a296494aa7a041|     399863|       2|  899366864|1554269903|null|\n",
      "|  16874827| 64762|d134b1a0c43628|    1754388|       1|-1077041708|1886535265| 803|\n",
      "|  16874827|137842|d134b1a0c43628|    1754388|       1|-1077041708|1886535265| 803|\n",
      "|  16874827|144741|d134b1a0c43628|    1754388|       1|-1077041708|1886535265| 803|\n",
      "|  16874827|235104|d134b1a0c43628|    1754388|       1|-1077041708|1886535265| 803|\n",
      "|  16874827|257524|d134b1a0c43628|    1754388|       1|-1077041708|1886535265| 803|\n",
      "|  16874838| 37887|7e39222a4073b7|    1777395|       2|-1077041708|1886535265| 803|\n",
      "|  16874838|117307|7e39222a4073b7|    1777395|       2|-1077041708|1886535265| 803|\n",
      "|  16874838|123702|7e39222a4073b7|    1777395|       2|-1077041708|1886535265| 803|\n",
      "|  16874838|160448|7e39222a4073b7|    1777395|       2|-1077041708|1886535265| 803|\n",
      "|  16874919|  3784|57ef64b34822dc|    1788531|       2|-1077041708|-847081225| 751|\n",
      "|  16874919|117198|57ef64b34822dc|    1788531|       2|-1077041708|-847081225| 751|\n",
      "|  16874919|132295|57ef64b34822dc|    1788531|       2|-1077041708|-847081225| 751|\n",
      "|  16874919|137126|57ef64b34822dc|    1788531|       2|-1077041708|-847081225| 751|\n",
      "|  16875012| 35050|67c1f627685cff|    1666953|       1|-1077041708|-408552990| 725|\n",
      "|  16875012|188159|67c1f627685cff|    1666953|       1|-1077041708|-408552990| 725|\n",
      "|  16875012|329206|67c1f627685cff|    1666953|       1|-1077041708|-408552990| 725|\n",
      "+----------+------+--------------+-----------+--------+-----------+----------+----+\n",
      "only showing top 20 rows\n",
      "\n"
     ]
    },
    {
     "name": "stderr",
     "output_type": "stream",
     "text": [
      "                                                                                \r"
     ]
    }
   ],
   "source": [
    "test = se.sql(\n",
    "        \"\"\"\n",
    "        SELECT clicks_test.*, events.uuid, events.document_id, \\\n",
    "        events.platform, events.country, events.state, events.area\n",
    "        FROM clicks_test LEFT JOIN events ON clicks_test.display_id == events.display_id\n",
    "        \"\"\")\n",
    "test.show()"
   ]
  },
  {
   "cell_type": "code",
   "execution_count": 26,
   "id": "59703856",
   "metadata": {},
   "outputs": [],
   "source": [
    "test.registerTempTable(\"test\")\n",
    "test = se.sql(\n",
    "        \"\"\"\n",
    "        SELECT test.*, promoted_content.document_id as ad_document_id, \\\n",
    "        promoted_content.campaign_id, promoted_content.advertiser_id\n",
    "        FROM test LEFT JOIN promoted_content ON test.ad_id == promoted_content.ad_id\n",
    "        \"\"\")"
   ]
  },
  {
   "cell_type": "code",
   "execution_count": null,
   "id": "6f53884f",
   "metadata": {},
   "outputs": [],
   "source": [
    "test.registerTempTable(\"test\")\n"
   ]
  },
  {
   "cell_type": "code",
   "execution_count": 27,
   "id": "cf9b536f",
   "metadata": {},
   "outputs": [
    {
     "name": "stderr",
     "output_type": "stream",
     "text": [
      "[Stage 34:===================================================>    (11 + 1) / 12]\r"
     ]
    },
    {
     "name": "stdout",
     "output_type": "stream",
     "text": [
      "+----------+------+--------------+-----------+--------+-----------+----------+----+--------------+-----------+-------------+---------+------------+\n",
      "|display_id| ad_id|          uuid|document_id|platform|    country|     state|area|ad_document_id|campaign_id|advertiser_id|source_id|publisher_id|\n",
      "+----------+------+--------------+-----------+--------+-----------+----------+----+--------------+-----------+-------------+---------+------------+\n",
      "|  16874807|137006|a296494aa7a041|     399863|       2|  899366864|1554269903|null|        916403|      17587|          859|     7633|          27|\n",
      "|  16874807|192759|a296494aa7a041|     399863|       2|  899366864|1554269903|null|       1469601|      22742|         1975|     7633|          27|\n",
      "|  16874807|192855|a296494aa7a041|     399863|       2|  899366864|1554269903|null|       1460834|      22748|          622|     7633|          27|\n",
      "|  16874807|213769|a296494aa7a041|     399863|       2|  899366864|1554269903|null|        903092|      23770|          712|     7633|          27|\n",
      "|  16874827| 64762|d134b1a0c43628|    1754388|       1|-1077041708|1886535265| 803|        942527|       5118|         1107|     4095|           3|\n",
      "|  16874827|137842|d134b1a0c43628|    1754388|       1|-1077041708|1886535265| 803|       1314063|       5118|         1107|     4095|           3|\n",
      "|  16874827|144741|d134b1a0c43628|    1754388|       1|-1077041708|1886535265| 803|       1337362|      18488|         2909|     4095|           3|\n",
      "|  16874827|235104|d134b1a0c43628|    1754388|       1|-1077041708|1886535265| 803|       1587377|      25526|         2407|     4095|           3|\n",
      "|  16874827|257524|d134b1a0c43628|    1754388|       1|-1077041708|1886535265| 803|       1556282|      26491|         3190|     4095|           3|\n",
      "|  16874838| 37887|7e39222a4073b7|    1777395|       2|-1077041708|1886535265| 803|        902375|       5336|           53|       31|         535|\n",
      "|  16874838|117307|7e39222a4073b7|    1777395|       2|-1077041708|1886535265| 803|       1164016|      15054|         2493|       31|         535|\n",
      "|  16874838|123702|7e39222a4073b7|    1777395|       2|-1077041708|1886535265| 803|       1218354|      15884|         2066|       31|         535|\n",
      "|  16874838|160448|7e39222a4073b7|    1777395|       2|-1077041708|1886535265| 803|       1108162|      20197|         2241|       31|         535|\n",
      "|  16874919|  3784|57ef64b34822dc|    1788531|       2|-1077041708|-847081225| 751|        257734|        749|          172|       57|          31|\n",
      "|  16874919|117198|57ef64b34822dc|    1788531|       2|-1077041708|-847081225| 751|        648850|        724|          377|       57|          31|\n",
      "|  16874919|132295|57ef64b34822dc|    1788531|       2|-1077041708|-847081225| 751|       1287227|      16968|         3087|       57|          31|\n",
      "|  16874919|137126|57ef64b34822dc|    1788531|       2|-1077041708|-847081225| 751|       1225364|      17621|         2988|       57|          31|\n",
      "|  16875012| 35050|67c1f627685cff|    1666953|       1|-1077041708|-408552990| 725|        957490|       5017|           16|      945|         585|\n",
      "|  16875012|188159|67c1f627685cff|    1666953|       1|-1077041708|-408552990| 725|       1448226|      22416|           91|      945|         585|\n",
      "|  16875012|329206|67c1f627685cff|    1666953|       1|-1077041708|-408552990| 725|       1083868|      10323|          555|      945|         585|\n",
      "+----------+------+--------------+-----------+--------+-----------+----------+----+--------------+-----------+-------------+---------+------------+\n",
      "only showing top 20 rows\n",
      "\n"
     ]
    },
    {
     "name": "stderr",
     "output_type": "stream",
     "text": [
      "                                                                                \r"
     ]
    }
   ],
   "source": [
    "test.registerTempTable(\"test\")\n",
    "test = se.sql(\n",
    "        \"\"\"\n",
    "        SELECT test.*, dm.source_id, dm.publisher_id\n",
    "        FROM test \n",
    "        LEFT JOIN documents_meta dm ON test.document_id == dm.document_id\n",
    "        \"\"\")\n",
    "test.show()"
   ]
  },
  {
   "cell_type": "code",
   "execution_count": 28,
   "id": "6b1a6e15",
   "metadata": {},
   "outputs": [],
   "source": [
    "test = test.fillna(value=\"0\")"
   ]
  },
  {
   "cell_type": "code",
   "execution_count": 29,
   "id": "71538dfa",
   "metadata": {},
   "outputs": [
    {
     "name": "stderr",
     "output_type": "stream",
     "text": [
      "                                                                                \r"
     ]
    }
   ],
   "source": [
    "test.rdd.map(lambda x: convert_to_vw_class(x, is_train=False)).saveAsTextFile('/user/outbrain/vw_v2/test.vw')"
   ]
  },
  {
   "cell_type": "code",
   "execution_count": 32,
   "id": "d0e1fdac",
   "metadata": {},
   "outputs": [
    {
     "name": "stdout",
     "output_type": "stream",
     "text": [
      "test  train  val\r\n"
     ]
    }
   ],
   "source": [
    "!ls ~/bhw/vw"
   ]
  },
  {
   "cell_type": "code",
   "execution_count": 33,
   "id": "1661d704",
   "metadata": {},
   "outputs": [],
   "source": [
    "!rm -r ~/bhw/vw"
   ]
  },
  {
   "cell_type": "code",
   "execution_count": 35,
   "id": "7c38fd5e",
   "metadata": {},
   "outputs": [
    {
     "name": "stdout",
     "output_type": "stream",
     "text": [
      "spark-warehouse\r\n"
     ]
    }
   ],
   "source": [
    "!ls ~/bhw"
   ]
  },
  {
   "cell_type": "code",
   "execution_count": 36,
   "id": "1a48b6c9",
   "metadata": {},
   "outputs": [],
   "source": [
    "!mkdir ~/bhw/vw\n",
    "\n",
    "!mkdir ~/bhw/vw/train\n",
    "!mkdir ~/bhw/vw/val\n",
    "!mkdir ~/bhw/vw/test\n",
    "\n",
    "! hdfs dfs -cat '/user/outbrain/vw_v2/train.vw/*' > ~/bhw/vw/train/train.vw\n",
    "! hdfs dfs -cat '/user/outbrain/vw_v2/val.vw/*' > ~/bhw/vw/val/val.vw\n",
    "! hdfs dfs -cat '/user/outbrain/vw_v2/test.vw/*' > ~/bhw/vw/test/test.vw"
   ]
  },
  {
   "cell_type": "markdown",
   "id": "af904703",
   "metadata": {},
   "source": [
    "## Обучаем логрегу"
   ]
  },
  {
   "cell_type": "code",
   "execution_count": 37,
   "id": "be25a9d3",
   "metadata": {},
   "outputs": [
    {
     "name": "stdout",
     "output_type": "stream",
     "text": [
      "using l1 regularization = 1\n",
      "final_regressor = /home/ubuntu/bhw/vw/outbrain.model_v1.bin\n",
      "Enabling FTRL based optimization\n",
      "Algorithm used: Proximal-FTRL\n",
      "ftrl_alpha = 0.05\n",
      "ftrl_beta = 0.5\n",
      "Num weight bits = 24\n",
      "learning rate = 20\n",
      "initial_t = 0\n",
      "power_t = 0.5\n",
      "decay_learning_rate = 1\n",
      "creating cache_file = /home/ubuntu/bhw/vw/train/train.vw.cache\n",
      "Reading datafile = /home/ubuntu/bhw/vw/train/train.vw\n",
      "num sources = 1\n",
      "average  since         example        example  current  current  current\n",
      "loss     last          counter         weight    label  predict features\n",
      "0.693147 0.693147            1            1.0   1.0000   0.0000       14\n",
      "0.693147 0.693147            2            2.0  -1.0000   0.0000       14\n",
      "0.693147 0.693147            4            4.0   1.0000   0.0000       14\n",
      "0.684064 0.674980            8            8.0  -1.0000  -0.1510       14\n",
      "0.672962 0.661860           16           16.0  -1.0000  -0.1158       14\n",
      "0.682371 0.691780           32           32.0  -1.0000  -0.1708       14\n",
      "0.668103 0.653836           64           64.0  -1.0000  -0.3034       14\n",
      "0.619574 0.571044          128          128.0  -1.0000  -0.6621       14\n",
      "0.575837 0.532100          256          256.0  -1.0000  -0.8404       14\n",
      "0.550969 0.526101          512          512.0  -1.0000  -1.1893       14\n",
      "0.524649 0.498330         1024         1024.0  -1.0000  -1.2460       14\n",
      "0.507743 0.490837         2048         2048.0  -1.0000  -1.3055       14\n",
      "0.503772 0.499801         4096         4096.0  -1.0000  -1.5517       14\n",
      "0.493142 0.482511         8192         8192.0  -1.0000  -1.4061       14\n",
      "0.485094 0.477045        16384        16384.0  -1.0000  -1.2953       14\n",
      "0.479434 0.473775        32768        32768.0  -1.0000  -1.4092       14\n",
      "0.471116 0.462798        65536        65536.0  -1.0000  -2.7616       14\n",
      "0.464705 0.458294       131072       131072.0  -1.0000  -0.9865       14\n",
      "0.457364 0.450022       262144       262144.0  -1.0000  -1.5846       14\n",
      "0.451322 0.445280       524288       524288.0   1.0000  -2.3810       14\n",
      "0.446514 0.441707      1048576      1048576.0  -1.0000  -2.6394       14\n",
      "0.442697 0.438879      2097152      2097152.0  -1.0000  -2.7402       14\n",
      "0.439948 0.437198      4194304      4194304.0  -1.0000  -1.1174       14\n",
      "0.437561 0.435174      8388608      8388608.0  -1.0000  -3.1883       14\n",
      "0.435751 0.433941     16777216     16777216.0  -1.0000  -0.9973       14\n",
      "0.434322 0.432893     33554432     33554432.0  -1.0000  -1.5376       14\n",
      "0.434027 0.434027     67108864     67108864.0   1.0000  -0.9547       14 h\n",
      "\n",
      "finished run\n",
      "number of examples per pass = 58820344\n",
      "passes used = 2\n",
      "weighted example sum = 117640688.000000\n",
      "weighted label sum = -72067060.000000\n",
      "average loss = 0.433764 h\n",
      "best constant = -1.426155\n",
      "best constant's loss = 0.491541\n",
      "total feature number = 1646969632\n",
      "CPU times: user 8.76 s, sys: 2.04 s, total: 10.8 s\n",
      "Wall time: 7min 36s\n"
     ]
    }
   ],
   "source": [
    "%%time\n",
    "!vw ~/bhw/vw/train/train.vw \\\n",
    "    --final_regressor ~/bhw/vw/outbrain.model_v1.bin \\\n",
    "    --loss_function logistic \\\n",
    "    --learning_rate 20.0 \\\n",
    "    --bit_precision 24 \\\n",
    "    --passes 2 \\\n",
    "    --ftrl --ftrl_alpha 0.05 --ftrl_beta 0.5 --l1 1 \\\n",
    "    --cache -k"
   ]
  },
  {
   "cell_type": "code",
   "execution_count": 39,
   "id": "708d77ac",
   "metadata": {
    "scrolled": true
   },
   "outputs": [
    {
     "name": "stdout",
     "output_type": "stream",
     "text": [
      "only testing\n",
      "predictions = /home/ubuntu/bhw/vw/val_prediction_v1.txt\n",
      "Enabling FTRL based optimization\n",
      "Algorithm used: Proximal-FTRL\n",
      "ftrl_alpha = 0.005\n",
      "ftrl_beta = 0.1\n",
      "Num weight bits = 24\n",
      "learning rate = 0.5\n",
      "initial_t = 0\n",
      "power_t = 0.5\n",
      "using no cache\n",
      "Reading datafile = /home/ubuntu/bhw/vw/val/val.vw\n",
      "num sources = 1\n",
      "average  since         example        example  current  current  current\n",
      "loss     last          counter         weight    label  predict features\n",
      "0.195177 0.195177            1            1.0  -1.0000   0.1913       14\n",
      "2.369281 4.543385            2            2.0  -1.0000   0.0418       14\n",
      "3.076195 3.783109            4            4.0  -1.0000   0.0231       14\n",
      "2.455558 1.834921            8            8.0  -1.0000   0.1385       14\n",
      "2.341125 2.226693           16           16.0  -1.0000   0.2446       14\n",
      "2.210193 2.079261           32           32.0   1.0000   0.0938       14\n",
      "2.456861 2.703530           64           64.0  -1.0000   0.1847       14\n",
      "2.267317 2.077773          128          128.0   1.0000   0.6668       14\n",
      "2.159969 2.052621          256          256.0  -1.0000   0.0904       14\n",
      "2.233010 2.306051          512          512.0  -1.0000   0.0463       14\n",
      "2.047153 1.861295         1024         1024.0  -1.0000   0.3800       14\n",
      "2.120850 2.194548         2048         2048.0  -1.0000   0.2813       14\n",
      "2.201785 2.282721         4096         4096.0   1.0000   0.4972       14\n",
      "2.220617 2.239449         8192         8192.0  -1.0000   0.1174       14\n",
      "2.269081 2.317545        16384        16384.0  -1.0000   0.0883       14\n",
      "2.297797 2.326513        32768        32768.0  -1.0000   0.0469       14\n",
      "2.287831 2.277865        65536        65536.0  -1.0000   0.0994       14\n",
      "2.270024 2.252216       131072       131072.0  -1.0000   0.1565       14\n",
      "2.274056 2.278088       262144       262144.0  -1.0000   0.6281       14\n",
      "2.263800 2.253544       524288       524288.0  -1.0000   0.0347       14\n",
      "2.262283 2.260767      1048576      1048576.0   1.0000   0.1856       14\n",
      "2.262428 2.262572      2097152      2097152.0  -1.0000   0.4536       14\n",
      "2.261620 2.260812      4194304      4194304.0  -1.0000   0.0417       14\n",
      "2.262399 2.263179      8388608      8388608.0  -1.0000   0.0226       14\n",
      "2.260662 2.258925     16777216     16777216.0  -1.0000   0.0969       14\n",
      "\n",
      "finished run\n",
      "number of examples = 21785794\n",
      "weighted example sum = 21785794.000000\n",
      "weighted label sum = -13356064.000000\n",
      "average loss = 2.260749\n",
      "best constant = -0.613063\n",
      "best constant's loss = 0.624154\n",
      "total feature number = 305001116\n"
     ]
    }
   ],
   "source": [
    "!vw --testonly --link=logistic \\\n",
    "    --initial_regressor ~/bhw/vw/outbrain.model_v1.bin \\\n",
    "    --predictions ~/bhw/vw/val_prediction_v1.txt \\\n",
    "    ~/bhw/vw/val/val.vw"
   ]
  },
  {
   "cell_type": "markdown",
   "id": "1d4f1e77",
   "metadata": {},
   "source": [
    "Попробуем добавить некоторые взаимодействия рассматриваемых категориальных признаков"
   ]
  },
  {
   "cell_type": "code",
   "execution_count": 41,
   "id": "3553ff47",
   "metadata": {},
   "outputs": [
    {
     "name": "stdout",
     "output_type": "stream",
     "text": [
      "-1 display_id_148_ad_id_152140|a 148 |b 152140 |c 9adce6a5363308 |d 1205772 |e 2 |f -1077041708 |g 1660582409 |h 612 |i 1060089 |j 19032 |k 1593 |l 9135 |m 1042\n",
      "-1 display_id_148_ad_id_152656|a 148 |b 152656 |c 9adce6a5363308 |d 1205772 |e 2 |f -1077041708 |g 1660582409 |h 612 |i 1086755 |j 10511 |k 2151 |l 9135 |m 1042\n",
      "-1 display_id_463_ad_id_170148|a 463 |b 170148 |c 85d999a1dd5483 |d 1787133 |e 1 |f -1077041708 |g -377763884 |h 764 |i 1368736 |j 20922 |k 473 |l 7478 |m 874\n",
      "CPU times: user 6.56 ms, sys: 0 ns, total: 6.56 ms\n",
      "Wall time: 224 ms\n"
     ]
    }
   ],
   "source": [
    "%%time\n",
    "for i in val.take(3):\n",
    "    print(convert_to_vw_class(i))"
   ]
  },
  {
   "cell_type": "markdown",
   "id": "23561a7d",
   "metadata": {},
   "source": [
    "'a '+str(data['display_id'])+\\\n",
    "' |b '+str(data['ad_id'])+\\\n",
    "' |c '+str(data['uuid'])+\\\n",
    "' |d '+str(data['document_id'])+\\\n",
    "' |e '+str(data['platform'])+\\\n",
    "' |f '+str(data['country'])+\\\n",
    "' |g '+str(data['state'])+\\\n",
    "' |h '+str(data['area'])+\\\n",
    "' |i '+str(data['ad_document_id'])+\\\n",
    "' |j '+str(data['campaign_id'])+\\\n",
    "' |k '+str(data['advertiser_id'])+\\\n",
    "' |l '+str(data['source_id'])+\\\n",
    "' |m '+str(data['publisher_id'])"
   ]
  },
  {
   "cell_type": "code",
   "execution_count": 43,
   "id": "9a3bdfa9",
   "metadata": {},
   "outputs": [
    {
     "name": "stdout",
     "output_type": "stream",
     "text": [
      "creating features for following interactions: ab bc di fg jk \n",
      "using l1 regularization = 1\n",
      "final_regressor = /home/ubuntu/bhw/vw/outbrain.model_v2.bin\n",
      "Enabling FTRL based optimization\n",
      "Algorithm used: Proximal-FTRL\n",
      "ftrl_alpha = 0.05\n",
      "ftrl_beta = 0.5\n",
      "Num weight bits = 24\n",
      "learning rate = 0.05\n",
      "initial_t = 0\n",
      "power_t = 0.5\n",
      "decay_learning_rate = 1\n",
      "creating cache_file = /home/ubuntu/bhw/vw/train/train.vw.cache\n",
      "Reading datafile = /home/ubuntu/bhw/vw/train/train.vw\n",
      "num sources = 1\n",
      "average  since         example        example  current  current  current\n",
      "loss     last          counter         weight    label  predict features\n",
      "0.913786 0.913786            1            1.0   1.0000  -0.4013       19\n",
      "0.848590 0.783393            2            2.0  -1.0000   0.1730       19\n",
      "0.582158 0.315726            4            4.0   1.0000   0.2950       19\n",
      "0.479777 0.377396            8            8.0  -1.0000  -0.0688       19\n",
      "0.474504 0.469230           16           16.0  -1.0000  -0.9205       19\n",
      "0.535069 0.595634           32           32.0  -1.0000  -2.0284       19\n",
      "0.545970 0.556871           64           64.0  -1.0000   0.1235       19\n",
      "0.550398 0.554827          128          128.0  -1.0000  -0.8564       19\n",
      "0.519123 0.487848          256          256.0  -1.0000  -0.8752       19\n",
      "0.508817 0.498510          512          512.0  -1.0000  -1.4468       19\n",
      "0.481078 0.453339         1024         1024.0  -1.0000  -1.4982       19\n",
      "0.475771 0.470464         2048         2048.0  -1.0000  -0.7920       19\n",
      "0.471772 0.467774         4096         4096.0  -1.0000  -1.9531       19\n",
      "0.464845 0.457918         8192         8192.0  -1.0000  -1.8075       19\n",
      "0.459228 0.453612        16384        16384.0  -1.0000  -1.3853       19\n",
      "0.456367 0.453506        32768        32768.0  -1.0000  -1.4093       19\n",
      "0.451764 0.447161        65536        65536.0  -1.0000  -2.9039       19\n",
      "0.448813 0.445862       131072       131072.0  -1.0000  -1.0687       19\n",
      "0.444307 0.439801       262144       262144.0  -1.0000  -1.7886       19\n",
      "0.441358 0.438408       524288       524288.0   1.0000  -2.3157       19\n",
      "0.438966 0.436574      1048576      1048576.0  -1.0000  -2.6367       19\n",
      "0.436996 0.435026      2097152      2097152.0  -1.0000  -2.5039       19\n",
      "0.435549 0.434102      4194304      4194304.0  -1.0000  -1.1133       19\n",
      "0.434105 0.432660      8388608      8388608.0  -1.0000  -3.2083       19\n",
      "0.432816 0.431528     16777216     16777216.0  -1.0000  -1.0710       19\n",
      "0.431546 0.430275     33554432     33554432.0  -1.0000  -1.5207       19\n",
      "0.432317 0.432317     67108864     67108864.0   1.0000  -0.9364       19 h\n",
      "0.433406 0.434495    134217728    134217728.0  -1.0000  -2.9441       19 h\n",
      "\n",
      "finished run\n",
      "number of examples per pass = 58820344\n",
      "passes used = 4\n",
      "weighted example sum = 235281376.000000\n",
      "weighted label sum = -144134120.000000\n",
      "average loss = 0.431967 h\n",
      "best constant = -1.426155\n",
      "best constant's loss = 0.491541\n",
      "total feature number = 4470346144\n",
      "CPU times: user 15 s, sys: 3.26 s, total: 18.3 s\n",
      "Wall time: 13min 3s\n"
     ]
    }
   ],
   "source": [
    "%%time\n",
    "!vw ~/bhw/vw/train/train.vw \\\n",
    "    --initial_regressor ~/bhw/vw/outbrain.model_v1.bin \\\n",
    "    --final_regressor ~/bhw/vw/outbrain.model_v2.bin \\\n",
    "    --loss_function logistic \\\n",
    "    --learning_rate 0.05 \\\n",
    "    --bit_precision 24 \\\n",
    "    --passes 5 \\\n",
    "    --ftrl --ftrl_alpha 0.05 --ftrl_beta 0.5 --l1 1 \\\n",
    "    --interactions ab bc di fg jk \\\n",
    "    --cache -k"
   ]
  },
  {
   "cell_type": "code",
   "execution_count": 44,
   "id": "304e7c37",
   "metadata": {},
   "outputs": [
    {
     "name": "stdout",
     "output_type": "stream",
     "text": [
      "creating features for following interactions: ab bc di fg jk \n",
      "only testing\n",
      "predictions = /home/ubuntu/bhw/vw/val_prediction_v2.txt\n",
      "Enabling FTRL based optimization\n",
      "Algorithm used: Proximal-FTRL\n",
      "ftrl_alpha = 0.005\n",
      "ftrl_beta = 0.1\n",
      "Num weight bits = 24\n",
      "learning rate = 0.5\n",
      "initial_t = 0\n",
      "power_t = 0.5\n",
      "using no cache\n",
      "Reading datafile = /home/ubuntu/bhw/vw/val/val.vw\n",
      "num sources = 1\n",
      "average  since         example        example  current  current  current\n",
      "loss     last          counter         weight    label  predict features\n",
      "0.023586 0.023586            1            1.0  -1.0000   0.3002       19\n",
      "2.292644 4.561702            2            2.0  -1.0000   0.0417       19\n",
      "2.914731 3.536818            4            4.0  -1.0000   0.0251       19\n",
      "2.383913 1.853095            8            8.0  -1.0000   0.1409       19\n",
      "2.263642 2.143370           16           16.0  -1.0000   0.2358       19\n",
      "2.202601 2.141560           32           32.0   1.0000   0.0922       19\n",
      "2.450248 2.697896           64           64.0  -1.0000   0.1981       19\n",
      "2.253197 2.056146          128          128.0   1.0000   0.6599       19\n",
      "2.156813 2.060429          256          256.0  -1.0000   0.1035       19\n",
      "2.232678 2.308544          512          512.0  -1.0000   0.0490       19\n",
      "2.027461 1.822243         1024         1024.0  -1.0000   0.3686       19\n",
      "2.101388 2.175315         2048         2048.0  -1.0000   0.2785       19\n",
      "2.188006 2.274625         4096         4096.0   1.0000   0.4687       19\n",
      "2.204474 2.220942         8192         8192.0  -1.0000   0.1271       19\n",
      "2.251011 2.297548        16384        16384.0  -1.0000   0.0868       19\n",
      "2.284248 2.317486        32768        32768.0  -1.0000   0.0477       19\n",
      "2.275339 2.266430        65536        65536.0  -1.0000   0.0922       19\n",
      "2.255184 2.235028       131072       131072.0  -1.0000   0.1623       19\n",
      "2.260698 2.266212       262144       262144.0  -1.0000   0.6403       19\n",
      "2.250717 2.240736       524288       524288.0  -1.0000   0.0364       19\n",
      "2.249484 2.248252      1048576      1048576.0   1.0000   0.1999       19\n",
      "2.250034 2.250583      2097152      2097152.0  -1.0000   0.4778       19\n",
      "2.249603 2.249173      4194304      4194304.0  -1.0000   0.0442       19\n",
      "2.250554 2.251504      8388608      8388608.0  -1.0000   0.0252       19\n",
      "2.248920 2.247286     16777216     16777216.0  -1.0000   0.0972       19\n",
      "\n",
      "finished run\n",
      "number of examples = 21785794\n",
      "weighted example sum = 21785794.000000\n",
      "weighted label sum = -13356064.000000\n",
      "average loss = 2.248944\n",
      "best constant = -0.613063\n",
      "best constant's loss = 0.624154\n",
      "total feature number = 413930086\n"
     ]
    }
   ],
   "source": [
    "!vw --testonly --link=logistic \\\n",
    "    --initial_regressor ~/bhw/vw/outbrain.model_v2.bin \\\n",
    "    --predictions ~/bhw/vw/val_prediction_v2.txt \\\n",
    "    ~/bhw/vw/val/val.vw"
   ]
  },
  {
   "cell_type": "code",
   "execution_count": null,
   "id": "82362974",
   "metadata": {},
   "outputs": [],
   "source": []
  },
  {
   "cell_type": "code",
   "execution_count": null,
   "id": "00ec4d48",
   "metadata": {},
   "outputs": [],
   "source": []
  },
  {
   "cell_type": "markdown",
   "id": "ae0c8f79",
   "metadata": {},
   "source": [
    "# Делаем файл submission для Kaggle"
   ]
  },
  {
   "cell_type": "code",
   "execution_count": 40,
   "id": "53257837",
   "metadata": {},
   "outputs": [
    {
     "name": "stdout",
     "output_type": "stream",
     "text": [
      "only testing\n",
      "predictions = /home/ubuntu/bhw/vw/test_submisiion_v1.txt\n",
      "Enabling FTRL based optimization\n",
      "Algorithm used: Proximal-FTRL\n",
      "ftrl_alpha = 0.005\n",
      "ftrl_beta = 0.1\n",
      "Num weight bits = 24\n",
      "learning rate = 0.5\n",
      "initial_t = 0\n",
      "power_t = 0.5\n",
      "using no cache\n",
      "Reading datafile = /home/ubuntu/bhw/vw/test/test.vw\n",
      "num sources = 1\n",
      "average  since         example        example  current  current  current\n",
      "loss     last          counter         weight    label  predict features\n",
      "    n.a.     n.a.            1            1.0  unknown   0.2094       14\n",
      "    n.a.     n.a.            2            2.0  unknown   0.1601       14\n",
      "    n.a.     n.a.            4            4.0  unknown   0.2038       14\n",
      "    n.a.     n.a.            8            8.0  unknown   0.1265       14\n",
      "    n.a.     n.a.           16           16.0  unknown   0.3327       14\n",
      "    n.a.     n.a.           32           32.0  unknown   0.0424       14\n",
      "    n.a.     n.a.           64           64.0  unknown   0.0789       14\n",
      "    n.a.     n.a.          128          128.0  unknown   0.8189       14\n",
      "    n.a.     n.a.          256          256.0  unknown   0.0486       14\n",
      "    n.a.     n.a.          512          512.0  unknown   0.2271       14\n",
      "    n.a.     n.a.         1024         1024.0  unknown   0.1320       14\n",
      "    n.a.     n.a.         2048         2048.0  unknown   0.0717       14\n",
      "    n.a.     n.a.         4096         4096.0  unknown   0.2173       14\n",
      "    n.a.     n.a.         8192         8192.0  unknown   0.2379       14\n",
      "    n.a.     n.a.        16384        16384.0  unknown   0.1599       14\n",
      "    n.a.     n.a.        32768        32768.0  unknown   0.1307       14\n",
      "    n.a.     n.a.        65536        65536.0  unknown   0.0824       14\n",
      "    n.a.     n.a.       131072       131072.0  unknown   0.1447       14\n",
      "    n.a.     n.a.       262144       262144.0  unknown   0.0885       14\n",
      "    n.a.     n.a.       524288       524288.0  unknown   0.1329       14\n",
      "    n.a.     n.a.      1048576      1048576.0  unknown   0.0724       14\n",
      "    n.a.     n.a.      2097152      2097152.0  unknown   0.4079       14\n",
      "    n.a.     n.a.      4194304      4194304.0  unknown   0.1779       14\n",
      "    n.a.     n.a.      8388608      8388608.0  unknown   0.0766       14\n",
      "    n.a.     n.a.     16777216     16777216.0  unknown   0.4514       14\n",
      "\n",
      "finished run\n",
      "number of examples = 32225162\n",
      "weighted example sum = 32225162.000000\n",
      "weighted label sum = 0.000000\n",
      "average loss = n.a.\n",
      "total feature number = 451152268\n",
      "CPU times: user 3.59 s, sys: 824 ms, total: 4.41 s\n",
      "Wall time: 2min 54s\n"
     ]
    }
   ],
   "source": [
    "%%time\n",
    "!vw --testonly --link=logistic \\\n",
    "    --initial_regressor ~/bhw/vw/outbrain.model_v1.bin \\\n",
    "    --predictions ~/bhw/vw/test_submisiion_v1.txt \\\n",
    "    ~/bhw/vw/test/test.vw"
   ]
  },
  {
   "cell_type": "code",
   "execution_count": 45,
   "id": "6403751a",
   "metadata": {
    "scrolled": true
   },
   "outputs": [
    {
     "name": "stdout",
     "output_type": "stream",
     "text": [
      "creating features for following interactions: ab bc di fg jk \n",
      "only testing\n",
      "predictions = /home/ubuntu/bhw/vw/test_submisiion_v2.txt\n",
      "Enabling FTRL based optimization\n",
      "Algorithm used: Proximal-FTRL\n",
      "ftrl_alpha = 0.005\n",
      "ftrl_beta = 0.1\n",
      "Num weight bits = 24\n",
      "learning rate = 0.5\n",
      "initial_t = 0\n",
      "power_t = 0.5\n",
      "using no cache\n",
      "Reading datafile = /home/ubuntu/bhw/vw/test/test.vw\n",
      "num sources = 1\n",
      "average  since         example        example  current  current  current\n",
      "loss     last          counter         weight    label  predict features\n",
      "    n.a.     n.a.            1            1.0  unknown   0.1986       19\n",
      "    n.a.     n.a.            2            2.0  unknown   0.1616       19\n",
      "    n.a.     n.a.            4            4.0  unknown   0.2004       19\n",
      "    n.a.     n.a.            8            8.0  unknown   0.1387       19\n",
      "    n.a.     n.a.           16           16.0  unknown   0.2848       19\n",
      "    n.a.     n.a.           32           32.0  unknown   0.0440       19\n",
      "    n.a.     n.a.           64           64.0  unknown   0.0719       19\n",
      "    n.a.     n.a.          128          128.0  unknown   0.8147       19\n",
      "    n.a.     n.a.          256          256.0  unknown   0.0482       19\n",
      "    n.a.     n.a.          512          512.0  unknown   0.2434       19\n",
      "    n.a.     n.a.         1024         1024.0  unknown   0.1590       19\n",
      "    n.a.     n.a.         2048         2048.0  unknown   0.0787       19\n",
      "    n.a.     n.a.         4096         4096.0  unknown   0.2038       19\n",
      "    n.a.     n.a.         8192         8192.0  unknown   0.2283       19\n",
      "    n.a.     n.a.        16384        16384.0  unknown   0.1407       19\n",
      "    n.a.     n.a.        32768        32768.0  unknown   0.1356       19\n",
      "    n.a.     n.a.        65536        65536.0  unknown   0.0878       19\n",
      "    n.a.     n.a.       131072       131072.0  unknown   0.1477       19\n",
      "    n.a.     n.a.       262144       262144.0  unknown   0.0976       19\n",
      "    n.a.     n.a.       524288       524288.0  unknown   0.1282       19\n",
      "    n.a.     n.a.      1048576      1048576.0  unknown   0.0837       19\n",
      "    n.a.     n.a.      2097152      2097152.0  unknown   0.5235       19\n",
      "    n.a.     n.a.      4194304      4194304.0  unknown   0.1712       19\n",
      "    n.a.     n.a.      8388608      8388608.0  unknown   0.0762       19\n",
      "    n.a.     n.a.     16777216     16777216.0  unknown   0.4473       19\n",
      "\n",
      "finished run\n",
      "number of examples = 32225162\n",
      "weighted example sum = 32225162.000000\n",
      "weighted label sum = 0.000000\n",
      "average loss = n.a.\n",
      "total feature number = 612278078\n",
      "CPU times: user 3.94 s, sys: 1.02 s, total: 4.95 s\n",
      "Wall time: 3min 20s\n"
     ]
    }
   ],
   "source": [
    "%%time\n",
    "!vw --testonly --link=logistic \\\n",
    "    --initial_regressor ~/bhw/vw/outbrain.model_v2.bin \\\n",
    "    --predictions ~/bhw/vw/test_submisiion_v2.txt \\\n",
    "    ~/bhw/vw/test/test.vw"
   ]
  },
  {
   "cell_type": "code",
   "execution_count": 6,
   "id": "1d33ae8a",
   "metadata": {},
   "outputs": [],
   "source": [
    "import pandas as pd\n",
    "import numpy as np\n",
    "\n",
    "def convert_from_vw(vw_record):\n",
    "        line = {'clicked': float(vw_record.split(' ')[0]),\n",
    "                'display_id': int(vw_record.split('_')[2]),\n",
    "                'ad_id': int(vw_record.split('_')[5])}        \n",
    "        return line\n",
    "    \n",
    "def convert_to_kaggle(vw_preds, kaggle_preds, prob=0.0001):    \n",
    "    \n",
    "    output = {'clicked': [], 'display_id': [], 'ad_id': []}\n",
    "    with open(vw_preds, 'r') as f:\n",
    "        for i, line in enumerate(f):\n",
    "            for k, v in convert_from_vw(line).items():\n",
    "                output[k].append(v)\n",
    "            if i % 10000000 == 0:\n",
    "                print('i =', i)\n",
    "    print('Формирование словаря завершено, переводим в пандас')\n",
    "    output = pd.DataFrame(output)\n",
    "\n",
    "    output_csv = output.sort_values(['display_id', 'clicked'], ascending=False)\\\n",
    "                    .groupby('display_id')\\\n",
    "                    .agg(list).reset_index()\n",
    "    \n",
    "    print('Сортировка и группировка датафрейма завершена, форматируем и сохраняем')\n",
    "    output_csv['ad_id'] = output_csv.apply(lambda x: ' '.join(np.array(x.ad_id)\\\n",
    "                        [np.array(x.clicked)>=prob].astype(str)), axis=1)\n",
    "\n",
    "    output_csv[['display_id', 'ad_id']].to_csv(kaggle_preds, index=False)\n",
    "    \n",
    "    return output"
   ]
  },
  {
   "cell_type": "code",
   "execution_count": 49,
   "id": "c772b784",
   "metadata": {},
   "outputs": [
    {
     "name": "stdout",
     "output_type": "stream",
     "text": [
      "outbrain.model_v1.bin  test_submisiion_v1.txt  val_prediction_v1.txt\r\n",
      "outbrain.model_v2.bin  test_submisiion_v2.txt  val_prediction_v2.txt\r\n",
      "submission\t       train\r\n",
      "test\t\t       val\r\n"
     ]
    }
   ],
   "source": [
    "!mkdir ~/bhw/vw/submission\n",
    "!ls ~/bhw/vw/"
   ]
  },
  {
   "cell_type": "code",
   "execution_count": 8,
   "id": "e117214b",
   "metadata": {},
   "outputs": [
    {
     "name": "stdout",
     "output_type": "stream",
     "text": [
      "cat: write error: Broken pipe\r\n"
     ]
    }
   ],
   "source": [
    "!cat ~/bhw/vw/test_submisiion_v1.txt | head -n 10 > sample_vw_sub.txt"
   ]
  },
  {
   "cell_type": "code",
   "execution_count": 10,
   "id": "4a8e806a",
   "metadata": {},
   "outputs": [
    {
     "name": "stdout",
     "output_type": "stream",
     "text": [
      "0.209384 display_id_16874807_ad_id_137006\r\n",
      "0.160140 display_id_16874807_ad_id_192759\r\n",
      "0.239949 display_id_16874807_ad_id_192855\r\n",
      "0.203847 display_id_16874807_ad_id_213769\r\n",
      "0.170838 display_id_16874827_ad_id_64762\r\n",
      "0.203823 display_id_16874827_ad_id_137842\r\n",
      "0.260659 display_id_16874827_ad_id_144741\r\n",
      "0.126464 display_id_16874827_ad_id_235104\r\n",
      "0.134684 display_id_16874827_ad_id_257524\r\n",
      "0.058718 display_id_16874838_ad_id_37887\r\n"
     ]
    }
   ],
   "source": [
    "!cat sample_vw_sub.txt"
   ]
  },
  {
   "cell_type": "code",
   "execution_count": 58,
   "id": "a34306cd",
   "metadata": {},
   "outputs": [
    {
     "name": "stdout",
     "output_type": "stream",
     "text": [
      "/home/ubuntu/bhw/vw/test_submisiion_v1.txt\r\n"
     ]
    }
   ],
   "source": [
    "!realpath ~/bhw/vw/test_submisiion_v1.txt"
   ]
  },
  {
   "cell_type": "code",
   "execution_count": 30,
   "id": "c076a3ad",
   "metadata": {},
   "outputs": [
    {
     "name": "stdout",
     "output_type": "stream",
     "text": [
      "i = 0\n",
      "Формирование словаря завершено, переводим в пандас\n",
      "CPU times: user 11.4 ms, sys: 0 ns, total: 11.4 ms\n",
      "Wall time: 9.48 ms\n"
     ]
    }
   ],
   "source": [
    "%%time\n",
    "output = convert_to_kaggle('/home/ubuntu/sample_vw_sub.txt',\n",
    "                           '/home/ubuntu/sample_submission.csv')"
   ]
  },
  {
   "cell_type": "code",
   "execution_count": 15,
   "id": "2a678277",
   "metadata": {},
   "outputs": [
    {
     "name": "stdout",
     "output_type": "stream",
     "text": [
      "display_id,ad_id\r\n",
      "16874807,137006 192759 192855 213769\r\n",
      "16874827,64762 137842 144741 235104 257524\r\n",
      "16874838,37887\r\n"
     ]
    }
   ],
   "source": [
    "! cat sample_submission.csv"
   ]
  },
  {
   "cell_type": "code",
   "execution_count": 31,
   "id": "cdcef3a0",
   "metadata": {},
   "outputs": [
    {
     "data": {
      "text/html": [
       "<div>\n",
       "<style scoped>\n",
       "    .dataframe tbody tr th:only-of-type {\n",
       "        vertical-align: middle;\n",
       "    }\n",
       "\n",
       "    .dataframe tbody tr th {\n",
       "        vertical-align: top;\n",
       "    }\n",
       "\n",
       "    .dataframe thead th {\n",
       "        text-align: right;\n",
       "    }\n",
       "</style>\n",
       "<table border=\"1\" class=\"dataframe\">\n",
       "  <thead>\n",
       "    <tr style=\"text-align: right;\">\n",
       "      <th></th>\n",
       "      <th>display_id</th>\n",
       "      <th>ad_id</th>\n",
       "      <th>clicked</th>\n",
       "    </tr>\n",
       "  </thead>\n",
       "  <tbody>\n",
       "    <tr>\n",
       "      <th>0</th>\n",
       "      <td>16874807</td>\n",
       "      <td>192855 137006 213769 192759</td>\n",
       "      <td>[0.239949, 0.209384, 0.203847, 0.16014]</td>\n",
       "    </tr>\n",
       "    <tr>\n",
       "      <th>1</th>\n",
       "      <td>16874827</td>\n",
       "      <td>144741 137842 64762 257524 235104</td>\n",
       "      <td>[0.260659, 0.203823, 0.170838, 0.134684, 0.126...</td>\n",
       "    </tr>\n",
       "    <tr>\n",
       "      <th>2</th>\n",
       "      <td>16874838</td>\n",
       "      <td>37887</td>\n",
       "      <td>[0.058718]</td>\n",
       "    </tr>\n",
       "  </tbody>\n",
       "</table>\n",
       "</div>"
      ],
      "text/plain": [
       "   display_id                              ad_id  \\\n",
       "0    16874807        192855 137006 213769 192759   \n",
       "1    16874827  144741 137842 64762 257524 235104   \n",
       "2    16874838                              37887   \n",
       "\n",
       "                                             clicked  \n",
       "0            [0.239949, 0.209384, 0.203847, 0.16014]  \n",
       "1  [0.260659, 0.203823, 0.170838, 0.134684, 0.126...  \n",
       "2                                         [0.058718]  "
      ]
     },
     "execution_count": 31,
     "metadata": {},
     "output_type": "execute_result"
    }
   ],
   "source": [
    "output = output.sort_values(['display_id', 'clicked'], ascending=False)\\\n",
    "                    .groupby('display_id')[['ad_id', 'clicked']]\\\n",
    "                    .agg(list).reset_index()\n",
    "\n",
    "output['ad_id'] = output.apply(lambda x: ' '.join(np.array(x.ad_id)\\\n",
    "                        [np.array(x.clicked)>=0.01].astype(str)), axis=1)\n",
    "\n",
    "output"
   ]
  },
  {
   "cell_type": "markdown",
   "id": "7b5f998f",
   "metadata": {},
   "source": [
    "Забыл добавить сортировку в функцию, смотрим изменение быстродействия на subsample, проверяем корректность сортировки"
   ]
  },
  {
   "cell_type": "code",
   "execution_count": 33,
   "id": "cb6d6c5e",
   "metadata": {},
   "outputs": [
    {
     "name": "stdout",
     "output_type": "stream",
     "text": [
      "i = 0\n",
      "Формирование словаря завершено, переводим в пандас\n",
      "Сортировка и группировка датафрейма завершена, форматируем и сохраняем\n",
      "CPU times: user 12 ms, sys: 0 ns, total: 12 ms\n",
      "Wall time: 10.2 ms\n"
     ]
    }
   ],
   "source": [
    "%%time\n",
    "output = convert_to_kaggle('/home/ubuntu/sample_vw_sub.txt',\n",
    "                           '/home/ubuntu/sample_submission.csv')"
   ]
  },
  {
   "cell_type": "code",
   "execution_count": 34,
   "id": "c5c4c102",
   "metadata": {},
   "outputs": [
    {
     "name": "stdout",
     "output_type": "stream",
     "text": [
      "display_id,ad_id\r\n",
      "16874807,192855 137006 213769 192759\r\n",
      "16874827,144741 137842 64762 257524 235104\r\n",
      "16874838,37887\r\n"
     ]
    }
   ],
   "source": [
    "! cat sample_submission.csv"
   ]
  },
  {
   "cell_type": "markdown",
   "id": "a49509e0",
   "metadata": {},
   "source": [
    "До добавления сортировки ячейка ниже отрабатывала за 8 минут, посмотрим сколько будет теперь"
   ]
  },
  {
   "cell_type": "code",
   "execution_count": 36,
   "id": "7be90129",
   "metadata": {},
   "outputs": [
    {
     "name": "stdout",
     "output_type": "stream",
     "text": [
      "i = 0\n",
      "i = 10000000\n",
      "i = 20000000\n",
      "i = 30000000\n",
      "Формирование словаря завершено, переводим в пандас\n",
      "Сортировка и группировка датафрейма завершена, форматируем и сохраняем\n",
      "CPU times: user 8min 17s, sys: 14.2 s, total: 8min 31s\n",
      "Wall time: 8min 32s\n"
     ]
    }
   ],
   "source": [
    "%%time\n",
    "output = convert_to_kaggle('/home/ubuntu/bhw/vw/test_submisiion_v1.txt',\n",
    "                           '/home/ubuntu/bhw/vw/submission/sub_v1_sort.csv')"
   ]
  },
  {
   "cell_type": "code",
   "execution_count": 37,
   "id": "7cdb21e2",
   "metadata": {},
   "outputs": [
    {
     "name": "stdout",
     "output_type": "stream",
     "text": [
      "100%|████████████████████████████████████████| 260M/260M [00:10<00:00, 25.8MB/s]\n",
      "Successfully submitted to Outbrain Click Prediction"
     ]
    }
   ],
   "source": [
    "! kaggle competitions submit -c outbrain-click-prediction -f ~/bhw/vw/submission/sub_v1_sort.csv -m \"ver_1_sort\""
   ]
  },
  {
   "cell_type": "code",
   "execution_count": 38,
   "id": "5db0300a",
   "metadata": {},
   "outputs": [
    {
     "name": "stdout",
     "output_type": "stream",
     "text": [
      "i = 0\n",
      "i = 10000000\n",
      "i = 20000000\n",
      "i = 30000000\n",
      "Формирование словаря завершено, переводим в пандас\n",
      "Сортировка и группировка датафрейма завершена, форматируем и сохраняем\n",
      "CPU times: user 8min 17s, sys: 15 s, total: 8min 32s\n",
      "Wall time: 8min 33s\n"
     ]
    }
   ],
   "source": [
    "%%time\n",
    "output = convert_to_kaggle('/home/ubuntu/bhw/vw/test_submisiion_v2.txt',\n",
    "                           '/home/ubuntu/bhw/vw/submission/sub_v2_sort.csv')"
   ]
  },
  {
   "cell_type": "code",
   "execution_count": 39,
   "id": "a42e546b",
   "metadata": {},
   "outputs": [
    {
     "name": "stdout",
     "output_type": "stream",
     "text": [
      "100%|████████████████████████████████████████| 260M/260M [00:11<00:00, 24.1MB/s]\n",
      "Successfully submitted to Outbrain Click Prediction"
     ]
    }
   ],
   "source": [
    "! kaggle competitions submit -c outbrain-click-prediction -f ~/bhw/vw/submission/sub_v2_sort.csv -m \"ver_2_sort\""
   ]
  },
  {
   "cell_type": "markdown",
   "id": "aa0543b0",
   "metadata": {},
   "source": [
    "Это решение выдало качество 0.50332 на прайвате - постараемся подбить ещё что-нибудь, чтобы хоть чуть-чуть приблизиться к 0.64 и получить 4 за бдз"
   ]
  },
  {
   "cell_type": "code",
   "execution_count": 29,
   "id": "c0b88b3b",
   "metadata": {},
   "outputs": [
    {
     "name": "stdout",
     "output_type": "stream",
     "text": [
      "WARNING: model file has set of {-q, --cubic, --interactions} settings stored, but they'll be OVERRIDEN by set of {-q, --cubic, --interactions} settings from command line.\n",
      "creating features for following interactions: ab ac ad ae af ag ah ai aj ak al bc bd be bf bg bh bi bj bk bl cd ce cf cg ch ci cj ck cl de df dg dh di dj dk dl ef eg eh ei ej ek el fg fh fi fj fk fl gh gi gj gk gl hi hj hk hl ij ik il jk jl kl \n",
      "using l1 regularization = 1\n",
      "final_regressor = /home/ubuntu/bhw/vw/outbrain.model_v3.bin\n",
      "Enabling FTRL based optimization\n",
      "Algorithm used: Proximal-FTRL\n",
      "ftrl_alpha = 0.05\n",
      "ftrl_beta = 0.5\n",
      "Num weight bits = 24\n",
      "learning rate = 0.05\n",
      "initial_t = 0\n",
      "power_t = 0.5\n",
      "decay_learning_rate = 1\n",
      "creating cache_file = /home/ubuntu/bhw/vw/train/train.vw.cache\n",
      "Reading datafile = /home/ubuntu/bhw/vw/train/train.vw\n",
      "num sources = 1\n",
      "average  since         example        example  current  current  current\n",
      "loss     last          counter         weight    label  predict features\n",
      "1.178954 1.178954            1            1.0   1.0000  -0.8114       80\n",
      "0.906865 0.634775            2            2.0  -1.0000  -0.1204       80\n",
      "0.647531 0.388197            4            4.0   1.0000   0.0144       80\n",
      "0.497072 0.346613            8            8.0  -1.0000   0.0208       80\n",
      "0.494928 0.492784           16           16.0  -1.0000  -0.7966       80\n",
      "0.539908 0.584888           32           32.0  -1.0000  -2.3020       80\n",
      "0.525589 0.511270           64           64.0  -1.0000  -0.3708       80\n",
      "0.532847 0.540105          128          128.0  -1.0000  -1.0547       80\n",
      "0.509492 0.486137          256          256.0  -1.0000  -0.7656       80\n",
      "0.501663 0.493833          512          512.0  -1.0000  -1.4567       80\n",
      "0.476594 0.451526         1024         1024.0  -1.0000  -1.6878       80\n",
      "0.472191 0.467787         2048         2048.0  -1.0000  -0.9072       80\n",
      "0.468266 0.464341         4096         4096.0  -1.0000  -1.8019       80\n",
      "0.460137 0.452007         8192         8192.0  -1.0000  -1.5933       80\n",
      "0.454102 0.448067        16384        16384.0  -1.0000  -1.3796       80\n",
      "0.451160 0.448218        32768        32768.0  -1.0000  -1.1513       80\n",
      "0.447271 0.443383        65536        65536.0  -1.0000  -3.4879       80\n",
      "0.444927 0.442582       131072       131072.0  -1.0000  -1.1794       80\n",
      "0.441511 0.438096       262144       262144.0  -1.0000  -1.8185       80\n",
      "0.440151 0.438791       524288       524288.0   1.0000  -1.9358       80\n",
      "0.439007 0.437862      1048576      1048576.0  -1.0000  -2.5998       80\n",
      "0.438407 0.437807      2097152      2097152.0  -1.0000  -2.4758       80\n",
      "0.438089 0.437771      4194304      4194304.0  -1.0000  -1.0844       80\n",
      "0.437441 0.436793      8388608      8388608.0  -1.0000  -2.8118       80\n",
      "0.436306 0.435171     16777216     16777216.0  -1.0000  -0.8921       80\n",
      "0.434548 0.432790     33554432     33554432.0  -1.0000  -0.9116       80\n",
      "0.437963 0.437963     67108864     67108864.0   1.0000  -1.2645       80 h\n",
      "\n",
      "finished run\n",
      "number of examples per pass = 58820344\n",
      "passes used = 2\n",
      "weighted example sum = 117640688.000000\n",
      "weighted label sum = -72067060.000000\n",
      "average loss = 0.435321 h\n",
      "best constant = -1.426155\n",
      "best constant's loss = 0.491541\n",
      "total feature number = 9411255040\n",
      "CPU times: user 26.5 s, sys: 5.31 s, total: 31.8 s\n",
      "Wall time: 21min 11s\n"
     ]
    }
   ],
   "source": [
    "%%time\n",
    "!vw ~/bhw/vw/train/train.vw \\\n",
    "    --initial_regressor ~/bhw/vw/outbrain.model_v2.bin \\\n",
    "    --final_regressor ~/bhw/vw/outbrain.model_v3.bin \\\n",
    "    --loss_function logistic \\\n",
    "    --learning_rate 0.05 \\\n",
    "    --bit_precision 24 \\\n",
    "    --passes 2 \\\n",
    "    --ftrl --ftrl_alpha 0.05 --ftrl_beta 0.5 --l1 1 \\\n",
    "    --interactions ab ac ad ae af ag ah ai aj ak al bc bd be bf bg bh bi bj bk bl cd ce cf cg ch ci cj ck cl de df dg dh di dj dk dl ef eg eh ei ej ek el fg fh fi fj fk fl gh gi gj gk gl hi hj hk hl ij ik il jk jl kl \\\n",
    "    --cache -k"
   ]
  },
  {
   "cell_type": "code",
   "execution_count": 30,
   "id": "8bcc2036",
   "metadata": {},
   "outputs": [
    {
     "name": "stdout",
     "output_type": "stream",
     "text": [
      "creating features for following interactions: ab ac ad ae af ag ah ai aj ak al bc bd be bf bg bh bi bj bk bl cd ce cf cg ch ci cj ck cl de df dg dh di dj dk dl ef eg eh ei ej ek el fg fh fi fj fk fl gh gi gj gk gl hi hj hk hl ij ik il jk jl kl \n",
      "only testing\n",
      "predictions = /home/ubuntu/bhw/vw/test_submisiion_v3.txt\n",
      "Enabling FTRL based optimization\n",
      "Algorithm used: Proximal-FTRL\n",
      "ftrl_alpha = 0.005\n",
      "ftrl_beta = 0.1\n",
      "Num weight bits = 24\n",
      "learning rate = 0.5\n",
      "initial_t = 0\n",
      "power_t = 0.5\n",
      "using no cache\n",
      "Reading datafile = /home/ubuntu/bhw/vw/test/test.vw\n",
      "num sources = 1\n",
      "average  since         example        example  current  current  current\n",
      "loss     last          counter         weight    label  predict features\n",
      "    n.a.     n.a.            1            1.0  unknown   0.4929       80\n",
      "    n.a.     n.a.            2            2.0  unknown   0.2044       80\n",
      "    n.a.     n.a.            4            4.0  unknown   0.3295       80\n",
      "    n.a.     n.a.            8            8.0  unknown   0.2617       80\n",
      "    n.a.     n.a.           16           16.0  unknown   0.3551       80\n",
      "    n.a.     n.a.           32           32.0  unknown   0.0381       80\n",
      "    n.a.     n.a.           64           64.0  unknown   0.1144       80\n",
      "    n.a.     n.a.          128          128.0  unknown   0.9083       80\n",
      "    n.a.     n.a.          256          256.0  unknown   0.0322       80\n",
      "    n.a.     n.a.          512          512.0  unknown   0.1034       80\n",
      "    n.a.     n.a.         1024         1024.0  unknown   0.2893       80\n",
      "    n.a.     n.a.         2048         2048.0  unknown   0.1371       80\n",
      "    n.a.     n.a.         4096         4096.0  unknown   0.1884       80\n",
      "    n.a.     n.a.         8192         8192.0  unknown   0.0455       80\n",
      "    n.a.     n.a.        16384        16384.0  unknown   0.0534       80\n",
      "    n.a.     n.a.        32768        32768.0  unknown   0.0642       80\n",
      "    n.a.     n.a.        65536        65536.0  unknown   0.0696       80\n",
      "    n.a.     n.a.       131072       131072.0  unknown   0.1509       80\n",
      "    n.a.     n.a.       262144       262144.0  unknown   0.0413       80\n",
      "    n.a.     n.a.       524288       524288.0  unknown   0.0946       80\n",
      "    n.a.     n.a.      1048576      1048576.0  unknown   0.0261       80\n",
      "    n.a.     n.a.      2097152      2097152.0  unknown   0.7386       80\n",
      "    n.a.     n.a.      4194304      4194304.0  unknown   0.2028       80\n",
      "    n.a.     n.a.      8388608      8388608.0  unknown   0.0424       80\n",
      "    n.a.     n.a.     16777216     16777216.0  unknown   0.4380       80\n",
      "\n",
      "finished run\n",
      "number of examples = 32225162\n",
      "weighted example sum = 32225162.000000\n",
      "weighted label sum = 0.000000\n",
      "average loss = n.a.\n",
      "total feature number = 2578012960\n",
      "CPU times: user 7.89 s, sys: 1.51 s, total: 9.4 s\n",
      "Wall time: 6min 9s\n"
     ]
    }
   ],
   "source": [
    "%%time\n",
    "!vw --testonly --link=logistic \\\n",
    "    --initial_regressor ~/bhw/vw/outbrain.model_v3.bin \\\n",
    "    --predictions ~/bhw/vw/test_submisiion_v3.txt \\\n",
    "    ~/bhw/vw/test/test.vw"
   ]
  },
  {
   "cell_type": "code",
   "execution_count": 40,
   "id": "e64b331e",
   "metadata": {},
   "outputs": [
    {
     "name": "stdout",
     "output_type": "stream",
     "text": [
      "i = 0\n",
      "i = 10000000\n",
      "i = 20000000\n",
      "i = 30000000\n",
      "Формирование словаря завершено, переводим в пандас\n",
      "Сортировка и группировка датафрейма завершена, форматируем и сохраняем\n",
      "CPU times: user 8min 15s, sys: 14.7 s, total: 8min 29s\n",
      "Wall time: 8min 31s\n"
     ]
    }
   ],
   "source": [
    "%%time\n",
    "output = convert_to_kaggle('/home/ubuntu/bhw/vw/test_submisiion_v3.txt',\n",
    "                           '/home/ubuntu/bhw/vw/submission/sub_v3_sort.csv')"
   ]
  },
  {
   "cell_type": "code",
   "execution_count": 41,
   "id": "8ec349d5",
   "metadata": {},
   "outputs": [
    {
     "name": "stdout",
     "output_type": "stream",
     "text": [
      "100%|████████████████████████████████████████| 260M/260M [00:11<00:00, 24.4MB/s]\n",
      "Successfully submitted to Outbrain Click Prediction"
     ]
    }
   ],
   "source": [
    "! kaggle competitions submit -c outbrain-click-prediction -f ~/bhw/vw/submission/sub_v3_sort.csv -m \"ver_3_sort\""
   ]
  },
  {
   "cell_type": "code",
   "execution_count": 2,
   "id": "47641e4d",
   "metadata": {},
   "outputs": [
    {
     "name": "stdout",
     "output_type": "stream",
     "text": [
      "WARNING: model file has set of {-q, --cubic, --interactions} settings stored, but they'll be OVERRIDEN by set of {-q, --cubic, --interactions} settings from command line.\n",
      "creating features for following interactions: bc bd be bf bg bh bi bj bk bl cd ce cf cg ch ci cj ck cl de df dg dh di dj dk dl ef eg eh ei ej ek el fg fh fi fj fk fl gh gi gj gk gl hi hj hk hl ij ik il jk jl kl \n",
      "using l1 regularization = 1\n",
      "final_regressor = /home/ubuntu/bhw/vw/outbrain.model_v4.bin\n",
      "using input passthrough for neural network training\n",
      "Enabling FTRL based optimization\n",
      "Algorithm used: Proximal-FTRL\n",
      "ftrl_alpha = 0.05\n",
      "ftrl_beta = 0.5\n",
      "Num weight bits = 24\n",
      "learning rate = 0.05\n",
      "initial_t = 0\n",
      "power_t = 0.5\n",
      "decay_learning_rate = 1\n",
      "creating cache_file = /home/ubuntu/bhw/vw/train/train.vw.cache\n",
      "Reading datafile = /home/ubuntu/bhw/vw/train/train.vw\n",
      "num sources = 1\n",
      "average  since         example        example  current  current  current\n",
      "loss     last          counter         weight    label  predict features\n",
      "0.980940 0.980940            1            1.0   1.0000  -0.5110       69\n",
      "0.721879 0.462818            2            2.0  -1.0000  -0.5301       69\n",
      "0.677507 0.633134            4            4.0   1.0000  -0.5502       69\n",
      "0.566076 0.454644            8            8.0  -1.0000  -0.7357       69\n",
      "0.578920 0.591764           16           16.0  -1.0000  -0.5084       69\n",
      "0.624701 0.670483           32           32.0  -1.0000  -0.6019       69\n",
      "0.669932 0.715163           64           64.0  -1.0000  -0.4354       69\n",
      "0.627594 0.585255          128          128.0  -1.0000  -1.3661       69\n",
      "0.578734 0.529874          256          256.0  -1.0000  -0.9069       69\n",
      "0.560458 0.542181          512          512.0  -1.0000  -0.7638       69\n",
      "0.537018 0.513578         1024         1024.0  -1.0000  -1.3966       69\n",
      "0.521968 0.506917         2048         2048.0  -1.0000  -0.8214       69\n",
      "0.515082 0.508196         4096         4096.0  -1.0000  -1.3948       69\n",
      "0.502217 0.489353         8192         8192.0  -1.0000  -1.4361       69\n",
      "0.490961 0.479704        16384        16384.0  -1.0000  -1.6744       69\n",
      "0.482579 0.474196        32768        32768.0  -1.0000  -1.3398       69\n",
      "0.473625 0.464671        65536        65536.0  -1.0000  -3.3459       69\n",
      "0.466924 0.460223       131072       131072.0  -1.0000  -1.3382       69\n",
      "0.459525 0.452126       262144       262144.0  -1.0000  -1.5018       69\n",
      "0.454025 0.448525       524288       524288.0   1.0000  -2.1335       69\n",
      "0.449277 0.444528      1048576      1048576.0  -1.0000  -2.4949       69\n",
      "0.445701 0.442125      2097152      2097152.0  -1.0000  -2.4854       69\n",
      "0.442739 0.439776      4194304      4194304.0  -1.0000  -1.0300       69\n",
      "0.439672 0.436605      8388608      8388608.0  -1.0000  -2.4708       69\n",
      "0.436620 0.433568     16777216     16777216.0  -1.0000  -1.0692       69\n",
      "0.433573 0.430525     33554432     33554432.0  -1.0000  -0.8901       69\n",
      "0.433090 0.433090     67108864     67108864.0   1.0000  -1.1074       69 h\n",
      "\n",
      "finished run\n",
      "number of examples per pass = 58820344\n",
      "passes used = 2\n",
      "weighted example sum = 117640688.000000\n",
      "weighted label sum = -72067060.000000\n",
      "average loss = 0.432206 h\n",
      "best constant = -1.426155\n",
      "best constant's loss = 0.491541\n",
      "total feature number = 8117207472\n",
      "CPU times: user 52.8 s, sys: 13 s, total: 1min 5s\n",
      "Wall time: 47min\n"
     ]
    }
   ],
   "source": [
    "%%time\n",
    "!vw ~/bhw/vw/train/train.vw \\\n",
    "    --initial_regressor ~/bhw/vw/outbrain.model_v3.bin \\\n",
    "    --final_regressor ~/bhw/vw/outbrain.model_v4.bin \\\n",
    "    --loss_function logistic \\\n",
    "    --learning_rate 0.05 \\\n",
    "    --bit_precision 24 \\\n",
    "    --passes 2 \\\n",
    "    --ftrl --ftrl_alpha 0.05 --ftrl_beta 0.5 --l1 1 \\\n",
    "    --interactions bc bd be bf bg bh bi bj bk bl cd ce cf cg ch ci cj ck cl de df dg dh di dj dk dl ef eg eh ei ej ek el fg fh fi fj fk fl gh gi gj gk gl hi hj hk hl ij ik il jk jl kl \\\n",
    "    --nn 3 \\\n",
    "    --inpass \\\n",
    "    --cache -k"
   ]
  },
  {
   "cell_type": "code",
   "execution_count": 3,
   "id": "c3cd853b",
   "metadata": {},
   "outputs": [
    {
     "name": "stdout",
     "output_type": "stream",
     "text": [
      "creating features for following interactions: bc bd be bf bg bh bi bj bk bl cd ce cf cg ch ci cj ck cl de df dg dh di dj dk dl ef eg eh ei ej ek el fg fh fi fj fk fl gh gi gj gk gl hi hj hk hl ij ik il jk jl kl \n",
      "only testing\n",
      "predictions = /home/ubuntu/bhw/vw/test_submisiion_v4.txt\n",
      "using input passthrough for neural network testing\n",
      "Enabling FTRL based optimization\n",
      "Algorithm used: Proximal-FTRL\n",
      "ftrl_alpha = 0.005\n",
      "ftrl_beta = 0.1\n",
      "Num weight bits = 24\n",
      "learning rate = 0.5\n",
      "initial_t = 0\n",
      "power_t = 0.5\n",
      "using no cache\n",
      "Reading datafile = /home/ubuntu/bhw/vw/test/test.vw\n",
      "num sources = 1\n",
      "average  since         example        example  current  current  current\n",
      "loss     last          counter         weight    label  predict features\n",
      "    n.a.     n.a.            1            1.0  unknown   0.3482       69\n",
      "    n.a.     n.a.            2            2.0  unknown   0.1437       69\n",
      "    n.a.     n.a.            4            4.0  unknown   0.2378       69\n",
      "    n.a.     n.a.            8            8.0  unknown   0.2498       69\n",
      "    n.a.     n.a.           16           16.0  unknown   0.3610       69\n",
      "    n.a.     n.a.           32           32.0  unknown   0.0297       69\n",
      "    n.a.     n.a.           64           64.0  unknown   0.1228       69\n",
      "    n.a.     n.a.          128          128.0  unknown   0.9164       69\n",
      "    n.a.     n.a.          256          256.0  unknown   0.0342       69\n",
      "    n.a.     n.a.          512          512.0  unknown   0.1334       69\n",
      "    n.a.     n.a.         1024         1024.0  unknown   0.2572       69\n",
      "    n.a.     n.a.         2048         2048.0  unknown   0.0911       69\n",
      "    n.a.     n.a.         4096         4096.0  unknown   0.1598       69\n",
      "    n.a.     n.a.         8192         8192.0  unknown   0.0710       69\n",
      "    n.a.     n.a.        16384        16384.0  unknown   0.1124       69\n",
      "    n.a.     n.a.        32768        32768.0  unknown   0.0620       69\n",
      "    n.a.     n.a.        65536        65536.0  unknown   0.0778       69\n",
      "    n.a.     n.a.       131072       131072.0  unknown   0.0994       69\n",
      "    n.a.     n.a.       262144       262144.0  unknown   0.0385       69\n",
      "    n.a.     n.a.       524288       524288.0  unknown   0.0702       69\n",
      "    n.a.     n.a.      1048576      1048576.0  unknown   0.0163       69\n",
      "    n.a.     n.a.      2097152      2097152.0  unknown   0.6518       69\n",
      "    n.a.     n.a.      4194304      4194304.0  unknown   0.2660       69\n",
      "    n.a.     n.a.      8388608      8388608.0  unknown   0.0531       69\n",
      "    n.a.     n.a.     16777216     16777216.0  unknown   0.5388       69\n",
      "\n",
      "finished run\n",
      "number of examples = 32225162\n",
      "weighted example sum = 32225162.000000\n",
      "weighted label sum = 0.000000\n",
      "average loss = n.a.\n",
      "total feature number = 2223536178\n",
      "CPU times: user 10.4 s, sys: 2.36 s, total: 12.8 s\n",
      "Wall time: 8min 42s\n"
     ]
    }
   ],
   "source": [
    "%%time\n",
    "!vw --testonly --link=logistic \\\n",
    "    --initial_regressor ~/bhw/vw/outbrain.model_v4.bin \\\n",
    "    --predictions ~/bhw/vw/test_submisiion_v4.txt \\\n",
    "    ~/bhw/vw/test/test.vw"
   ]
  },
  {
   "cell_type": "code",
   "execution_count": 42,
   "id": "b24d25f5",
   "metadata": {},
   "outputs": [
    {
     "name": "stdout",
     "output_type": "stream",
     "text": [
      "i = 0\n",
      "i = 10000000\n",
      "i = 20000000\n",
      "i = 30000000\n",
      "Формирование словаря завершено, переводим в пандас\n",
      "Сортировка и группировка датафрейма завершена, форматируем и сохраняем\n",
      "CPU times: user 8min 13s, sys: 13.6 s, total: 8min 26s\n",
      "Wall time: 8min 26s\n"
     ]
    }
   ],
   "source": [
    "%%time\n",
    "output = convert_to_kaggle('/home/ubuntu/bhw/vw/test_submisiion_v4.txt',\n",
    "                           '/home/ubuntu/bhw/vw/submission/sub_v4_sort.csv')"
   ]
  },
  {
   "cell_type": "code",
   "execution_count": 43,
   "id": "c47362db",
   "metadata": {},
   "outputs": [
    {
     "name": "stdout",
     "output_type": "stream",
     "text": [
      "100%|████████████████████████████████████████| 260M/260M [00:10<00:00, 25.2MB/s]\n",
      "Successfully submitted to Outbrain Click Prediction"
     ]
    }
   ],
   "source": [
    "! kaggle competitions submit -c outbrain-click-prediction -f ~/bhw/vw/submission/sub_v4_sort.csv -m \"ver_4_sort\""
   ]
  },
  {
   "cell_type": "markdown",
   "id": "f692b914",
   "metadata": {},
   "source": [
    "После последовательного обучения 4 моделей VW качество в 0.655 позволяет претендовать на 6 за БДЗ и 7 за курс, ура! Но попробуем добить до 0.67, чтобы получить итоговую 8"
   ]
  },
  {
   "cell_type": "markdown",
   "id": "e31645b3",
   "metadata": {},
   "source": [
    "## Результирующая метрика\n",
    "\n",
    "* Обучаем логрегу вероятности клика, решая задачу бинарной классификации, оптимизируемся по логлоссу\n",
    "* После этого группировка по display_id и сортировка по ad_id по вероятности клика\n",
    "* Дальше для каждого display_id считаем AP@K: если ad_id на первой позиции, то выдаём ему 1, если на 2, то 1/2 и так далее до 1/12. Если в топ-12 нет, то 0\n",
    "* Потом суммируем все значения AP@K для каждого display_id и делим на количество этих display_id"
   ]
  },
  {
   "cell_type": "code",
   "execution_count": 5,
   "id": "f615a8e2",
   "metadata": {},
   "outputs": [
    {
     "ename": "NameError",
     "evalue": "name 'df_test' is not defined",
     "output_type": "error",
     "traceback": [
      "\u001b[0;31m---------------------------------------------------------------------------\u001b[0m",
      "\u001b[0;31mNameError\u001b[0m                                 Traceback (most recent call last)",
      "Input \u001b[0;32mIn [5]\u001b[0m, in \u001b[0;36m<cell line: 2>\u001b[0;34m()\u001b[0m\n\u001b[1;32m      1\u001b[0m \u001b[38;5;66;03m# код из одной из тетрадок с Kaggle\u001b[39;00m\n\u001b[0;32m----> 2\u001b[0m df_test[\u001b[38;5;124m'\u001b[39m\u001b[38;5;124mprob\u001b[39m\u001b[38;5;124m'\u001b[39m] \u001b[38;5;241m=\u001b[39m \u001b[43mdf_test\u001b[49m[[\u001b[38;5;124m'\u001b[39m\u001b[38;5;124mfixed_timestamp\u001b[39m\u001b[38;5;124m'\u001b[39m,\u001b[38;5;124m'\u001b[39m\u001b[38;5;124mad_id\u001b[39m\u001b[38;5;124m'\u001b[39m]]\u001b[38;5;241m.\u001b[39mapply(\u001b[38;5;28;01mlambda\u001b[39;00m x: get_prob(x),axis\u001b[38;5;241m=\u001b[39m\u001b[38;5;241m1\u001b[39m)\n\u001b[1;32m      3\u001b[0m subm \u001b[38;5;241m=\u001b[39m df_test\u001b[38;5;241m.\u001b[39mgroupby(\u001b[38;5;124m\"\u001b[39m\u001b[38;5;124mdisplay_id\u001b[39m\u001b[38;5;124m\"\u001b[39m)\u001b[38;5;241m.\u001b[39magg({\u001b[38;5;124m'\u001b[39m\u001b[38;5;124mad_id\u001b[39m\u001b[38;5;124m'\u001b[39m: agg2arr, \u001b[38;5;124m'\u001b[39m\u001b[38;5;124mprob\u001b[39m\u001b[38;5;124m'\u001b[39m: agg2arr})\n\u001b[1;32m      4\u001b[0m subm[\u001b[38;5;124m'\u001b[39m\u001b[38;5;124mad_id\u001b[39m\u001b[38;5;124m'\u001b[39m] \u001b[38;5;241m=\u001b[39m subm[[\u001b[38;5;124m'\u001b[39m\u001b[38;5;124mad_id\u001b[39m\u001b[38;5;124m'\u001b[39m,\u001b[38;5;124m'\u001b[39m\u001b[38;5;124mprob\u001b[39m\u001b[38;5;124m'\u001b[39m]]\u001b[38;5;241m.\u001b[39mapply(\u001b[38;5;28;01mlambda\u001b[39;00m x: val_sort(x),axis\u001b[38;5;241m=\u001b[39m\u001b[38;5;241m1\u001b[39m)\n",
      "\u001b[0;31mNameError\u001b[0m: name 'df_test' is not defined"
     ]
    }
   ],
   "source": [
    "# код из одной из тетрадок с Kaggle\n",
    "df_test['prob'] = df_test[['fixed_timestamp','ad_id']].apply(lambda x: get_prob(x),axis=1)\n",
    "subm = df_test.groupby(\"display_id\").agg({'ad_id': agg2arr, 'prob': agg2arr})\n",
    "subm['ad_id'] = subm[['ad_id','prob']].apply(lambda x: val_sort(x),axis=1)\n",
    "del subm['prob']\n",
    "subm.to_csv(\"subm_leak.csv\")"
   ]
  },
  {
   "cell_type": "code",
   "execution_count": 28,
   "id": "f57fd189",
   "metadata": {},
   "outputs": [
    {
     "name": "stdout",
     "output_type": "stream",
     "text": [
      "0.191269 display_id_148_ad_id_152140\r\n",
      "0.041826 display_id_148_ad_id_152656\r\n",
      "0.239227 display_id_463_ad_id_170148\r\n",
      "0.023063 display_id_463_ad_id_221782\r\n",
      "0.049578 display_id_463_ad_id_327054\r\n",
      "0.236219 display_id_496_ad_id_44460\r\n",
      "0.064410 display_id_496_ad_id_124745\r\n",
      "0.138499 display_id_1088_ad_id_204056\r\n",
      "0.148716 display_id_1088_ad_id_331398\r\n",
      "0.192680 display_id_1238_ad_id_116212\r\n",
      "cat: write error: Broken pipe\r\n"
     ]
    }
   ],
   "source": [
    "!cat ~/bhw/vw/val_prediction_v1.txt | head -n 10"
   ]
  },
  {
   "cell_type": "code",
   "execution_count": null,
   "id": "001b39db",
   "metadata": {},
   "outputs": [],
   "source": [
    "import pandas as pd\n",
    "from sklearn.metrics import roc_auc_score\n",
    "roc_auc_score(y_true, y_pred)"
   ]
  },
  {
   "cell_type": "markdown",
   "id": "aded000d",
   "metadata": {},
   "source": [
    "Я хотел считать roc-auc и map@12 на валидации для каждой посылки, но когда понял, что у нас неограниченное количество посылок, то решил, что валидация здесь в целом не нужна и можно исходить из предпосылки, что на таком большом количестве сэмплов переобучения не будет, особенно при должной регуляризации весов. Это подтверждается тем фактом, что каждая следующая посылка из 4 моделей выше обладала всё большим качеством на прайвате\n",
    "\n",
    "Поэтому можно добавить в модель информацию из выделенного под валидацию куска данных с надеждой на дополнительное увеличение качества, сравнивая только результат на Kaggle (Понимаю, что по уму следовало всё-таки оставить валидацию и считать метрики до посылки, но раз ситуация позволяет, почему бы этим не воспользоваться)"
   ]
  },
  {
   "cell_type": "code",
   "execution_count": 1,
   "id": "d498030a",
   "metadata": {},
   "outputs": [
    {
     "name": "stdout",
     "output_type": "stream",
     "text": [
      "WARNING: model file has set of {-q, --cubic, --interactions} settings stored, but they'll be OVERRIDEN by set of {-q, --cubic, --interactions} settings from command line.\n",
      "creating features for following interactions: ab ac ad ae af ag ah ai aj ak al bc bd be bf bg bh bi bj bk bl cd ce cf cg ch ci cj ck cl de df dg dh di dj dk dl ef eg eh ei ej ek el fg fh fi fj fk fl gh gi gj gk gl hi hj hk hl ij ik il jk jl kl \n",
      "using l1 regularization = 1\n",
      "final_regressor = /home/ubuntu/bhw/vw/outbrain.model_v5.bin\n",
      "using input passthrough for neural network training\n",
      "Enabling FTRL based optimization\n",
      "Algorithm used: Proximal-FTRL\n",
      "ftrl_alpha = 0.01\n",
      "ftrl_beta = 0.1\n",
      "Num weight bits = 24\n",
      "learning rate = 0.1\n",
      "initial_t = 0\n",
      "power_t = 0.5\n",
      "decay_learning_rate = 1\n",
      "creating cache_file = /home/ubuntu/bhw/vw/val/val.vw.cache\n",
      "Reading datafile = /home/ubuntu/bhw/vw/val/val.vw\n",
      "num sources = 1\n",
      "average  since         example        example  current  current  current\n",
      "loss     last          counter         weight    label  predict features\n",
      "0.326625 0.326625            1            1.0  -1.0000  -0.9512       80\n",
      "0.201141 0.075657            2            2.0  -1.0000  -2.5435       80\n",
      "0.217875 0.234610            4            4.0  -1.0000  -3.2591       80\n",
      "0.197993 0.178110            8            8.0  -1.0000  -0.8882       80\n",
      "0.210537 0.223081           16           16.0  -1.0000  -1.5908       80\n",
      "0.381110 0.551684           32           32.0  -1.0000  -1.6106       80\n",
      "0.420888 0.460666           64           64.0  -1.0000  -3.5976       80\n",
      "0.464806 0.508724          128          128.0  -1.0000  -1.5427       80\n",
      "0.483583 0.502359          256          256.0  -1.0000   0.1957       80\n",
      "0.502757 0.521932          512          512.0   1.0000  -1.5993       80\n",
      "0.476270 0.449782         1024         1024.0  -1.0000  -1.2848       80\n",
      "0.475235 0.474200         2048         2048.0  -1.0000  -1.7334       80\n",
      "0.462002 0.448769         4096         4096.0  -1.0000  -2.0337       80\n",
      "0.453319 0.444636         8192         8192.0  -1.0000  -1.2781       80\n",
      "0.457392 0.461466        16384        16384.0  -1.0000  -2.0038       80\n",
      "0.453492 0.449592        32768        32768.0  -1.0000  -1.3186       80\n",
      "0.452137 0.450781        65536        65536.0  -1.0000  -2.1324       80\n",
      "0.448367 0.444598       131072       131072.0  -1.0000  -1.0327       80\n",
      "0.445444 0.442520       262144       262144.0   1.0000  -1.2822       80\n",
      "0.441157 0.436870       524288       524288.0  -1.0000  -2.4069       80\n",
      "0.438283 0.435410      1048576      1048576.0  -1.0000  -1.3050       80\n",
      "0.435300 0.432316      2097152      2097152.0  -1.0000  -1.5475       80\n",
      "0.433094 0.430888      4194304      4194304.0  -1.0000  -4.0081       80\n",
      "0.431445 0.429797      8388608      8388608.0  -1.0000  -1.6185       80\n",
      "0.429614 0.427783     16777216     16777216.0  -1.0000  -3.0602       80\n",
      "0.430222 0.430222     33554432     33554432.0  -1.0000  -4.3438       80 h\n",
      "\n",
      "finished run\n",
      "number of examples per pass = 19607215\n",
      "passes used = 3\n",
      "weighted example sum = 58821645.000000\n",
      "weighted label sum = -36062577.000000\n",
      "average loss = 0.429901 h\n",
      "best constant = -1.427694\n",
      "best constant's loss = 0.491199\n",
      "total feature number = 4705731600\n",
      "CPU times: user 32.6 s, sys: 7.84 s, total: 40.4 s\n",
      "Wall time: 29min 8s\n"
     ]
    }
   ],
   "source": [
    "%%time\n",
    "!vw ~/bhw/vw/val/val.vw \\\n",
    "    --initial_regressor ~/bhw/vw/outbrain.model_v4.bin \\\n",
    "    --final_regressor ~/bhw/vw/outbrain.model_v5.bin \\\n",
    "    --loss_function logistic \\\n",
    "    --learning_rate 0.1 \\\n",
    "    --bit_precision 24 \\\n",
    "    --passes 3 \\\n",
    "    --ftrl --ftrl_alpha 0.01 --ftrl_beta 0.1 --l1 1 \\\n",
    "    --interactions ab ac ad ae af ag ah ai aj ak al bc bd be bf bg bh bi bj bk bl cd ce cf cg ch ci cj ck cl de df dg dh di dj dk dl ef eg eh ei ej ek el fg fh fi fj fk fl gh gi gj gk gl hi hj hk hl ij ik il jk jl kl \\\n",
    "    --nn 3 \\\n",
    "    --inpass \\\n",
    "    --cache -k"
   ]
  },
  {
   "cell_type": "code",
   "execution_count": 2,
   "id": "71a971b2",
   "metadata": {},
   "outputs": [
    {
     "name": "stdout",
     "output_type": "stream",
     "text": [
      "creating features for following interactions: ab ac ad ae af ag ah ai aj ak al bc bd be bf bg bh bi bj bk bl cd ce cf cg ch ci cj ck cl de df dg dh di dj dk dl ef eg eh ei ej ek el fg fh fi fj fk fl gh gi gj gk gl hi hj hk hl ij ik il jk jl kl \n",
      "only testing\n",
      "predictions = /home/ubuntu/bhw/vw/test_submisiion_v5.txt\n",
      "using input passthrough for neural network testing\n",
      "Enabling FTRL based optimization\n",
      "Algorithm used: Proximal-FTRL\n",
      "ftrl_alpha = 0.005\n",
      "ftrl_beta = 0.1\n",
      "Num weight bits = 24\n",
      "learning rate = 0.5\n",
      "initial_t = 0\n",
      "power_t = 0.5\n",
      "using no cache\n",
      "Reading datafile = /home/ubuntu/bhw/vw/test/test.vw\n",
      "num sources = 1\n",
      "average  since         example        example  current  current  current\n",
      "loss     last          counter         weight    label  predict features\n",
      "    n.a.     n.a.            1            1.0  unknown   0.4062       80\n",
      "    n.a.     n.a.            2            2.0  unknown   0.3467       80\n",
      "    n.a.     n.a.            4            4.0  unknown   0.5527       80\n",
      "    n.a.     n.a.            8            8.0  unknown   0.0750       80\n",
      "    n.a.     n.a.           16           16.0  unknown   0.1906       80\n",
      "    n.a.     n.a.           32           32.0  unknown   0.0319       80\n",
      "    n.a.     n.a.           64           64.0  unknown   0.1083       80\n",
      "    n.a.     n.a.          128          128.0  unknown   0.9024       80\n",
      "    n.a.     n.a.          256          256.0  unknown   0.0342       80\n",
      "    n.a.     n.a.          512          512.0  unknown   0.3204       80\n",
      "    n.a.     n.a.         1024         1024.0  unknown   0.2715       80\n",
      "    n.a.     n.a.         2048         2048.0  unknown   0.0791       80\n",
      "    n.a.     n.a.         4096         4096.0  unknown   0.0829       80\n",
      "    n.a.     n.a.         8192         8192.0  unknown   0.1000       80\n",
      "    n.a.     n.a.        16384        16384.0  unknown   0.1769       80\n",
      "    n.a.     n.a.        32768        32768.0  unknown   0.1995       80\n",
      "    n.a.     n.a.        65536        65536.0  unknown   0.0789       80\n",
      "    n.a.     n.a.       131072       131072.0  unknown   0.3774       80\n",
      "    n.a.     n.a.       262144       262144.0  unknown   0.0985       80\n",
      "    n.a.     n.a.       524288       524288.0  unknown   0.0345       80\n",
      "    n.a.     n.a.      1048576      1048576.0  unknown   0.0395       80\n",
      "    n.a.     n.a.      2097152      2097152.0  unknown   0.8091       80\n",
      "    n.a.     n.a.      4194304      4194304.0  unknown   0.3568       80\n",
      "    n.a.     n.a.      8388608      8388608.0  unknown   0.0220       80\n",
      "    n.a.     n.a.     16777216     16777216.0  unknown   0.5045       80\n",
      "\n",
      "finished run\n",
      "number of examples = 32225162\n",
      "weighted example sum = 32225162.000000\n",
      "weighted label sum = 0.000000\n",
      "average loss = n.a.\n",
      "total feature number = 2578012960\n",
      "CPU times: user 11.5 s, sys: 2.84 s, total: 14.3 s\n",
      "Wall time: 9min 54s\n"
     ]
    }
   ],
   "source": [
    "%%time\n",
    "!vw --testonly --link=logistic \\\n",
    "    --initial_regressor ~/bhw/vw/outbrain.model_v5.bin \\\n",
    "    --predictions ~/bhw/vw/test_submisiion_v5.txt \\\n",
    "    ~/bhw/vw/test/test.vw"
   ]
  },
  {
   "cell_type": "code",
   "execution_count": 10,
   "id": "0528dfd1",
   "metadata": {},
   "outputs": [
    {
     "name": "stdout",
     "output_type": "stream",
     "text": [
      "i = 0\n",
      "i = 10000000\n",
      "i = 20000000\n",
      "i = 30000000\n",
      "Формирование словаря завершено, переводим в пандас\n",
      "Сортировка и группировка датафрейма завершена, форматируем и сохраняем\n",
      "CPU times: user 8min 35s, sys: 12.7 s, total: 8min 47s\n",
      "Wall time: 8min 47s\n"
     ]
    }
   ],
   "source": [
    "%%time\n",
    "output = convert_to_kaggle('/home/ubuntu/bhw/vw/test_submisiion_v5.txt',\n",
    "                           '/home/ubuntu/bhw/vw/submission/sub_v5_sort.csv')"
   ]
  },
  {
   "cell_type": "code",
   "execution_count": 11,
   "id": "0e14510c",
   "metadata": {},
   "outputs": [
    {
     "name": "stdout",
     "output_type": "stream",
     "text": [
      "100%|████████████████████████████████████████| 260M/260M [00:10<00:00, 25.7MB/s]\n",
      "Successfully submitted to Outbrain Click Prediction"
     ]
    }
   ],
   "source": [
    "! kaggle competitions submit -c outbrain-click-prediction -f ~/bhw/vw/submission/sub_v5_sort.csv -m \"ver_5_sort\""
   ]
  },
  {
   "cell_type": "markdown",
   "id": "f53e1e9f",
   "metadata": {},
   "source": [
    "Качество стало хуже самой первой отсортированной посылки, попробую объединить трейн и вал, чтобы веса не переобучались под 20% выборки, что очевидно произошло в данном случае"
   ]
  },
  {
   "cell_type": "code",
   "execution_count": 24,
   "id": "d6705418",
   "metadata": {},
   "outputs": [
    {
     "name": "stdout",
     "output_type": "stream",
     "text": [
      "outbrain.model_v1.bin  test\t\t       train\r\n",
      "outbrain.model_v2.bin  test_submisiion_v1.txt  val\r\n",
      "outbrain.model_v3.bin  test_submisiion_v2.txt  val_prediction_v1.txt\r\n",
      "outbrain.model_v4.bin  test_submisiion_v3.txt  val_prediction_v2.txt\r\n",
      "outbrain.model_v5.bin  test_submisiion_v4.txt\r\n",
      "submission\t       test_submisiion_v5.txt\r\n"
     ]
    }
   ],
   "source": [
    "!ls ~/bhw/vw"
   ]
  },
  {
   "cell_type": "code",
   "execution_count": 23,
   "id": "f1be5b0d",
   "metadata": {},
   "outputs": [
    {
     "name": "stdout",
     "output_type": "stream",
     "text": [
      "244856\t/home/ubuntu/bhw/vw/submission/sub_v1.csv\r\n"
     ]
    }
   ],
   "source": [
    "!du ~/bhw/vw/submission/sub_v1.csv"
   ]
  },
  {
   "cell_type": "code",
   "execution_count": 25,
   "id": "df2774b6",
   "metadata": {},
   "outputs": [],
   "source": [
    "!mkdir ~/bhw/vw/wide_train/"
   ]
  },
  {
   "cell_type": "code",
   "execution_count": 28,
   "id": "31a73bb8",
   "metadata": {},
   "outputs": [],
   "source": [
    "!cat ~/bhw/vw/train/train.vw ~/bhw/vw/val/val.vw > ~/bhw/vw/wide_train/wide_train.vw"
   ]
  },
  {
   "cell_type": "code",
   "execution_count": 29,
   "id": "c8de694b",
   "metadata": {},
   "outputs": [
    {
     "name": "stdout",
     "output_type": "stream",
     "text": [
      "WARNING: model file has set of {-q, --cubic, --interactions} settings stored, but they'll be OVERRIDEN by set of {-q, --cubic, --interactions} settings from command line.\n",
      "creating features for following interactions: ab ac ad ae af ag ah ai aj ak al bc bd be bf bg bh bi bj bk bl cd ce cf cg ch ci cj ck cl de df dg dh di dj dk dl ef eg eh ei ej ek el fg fh fi fj fk fl gh gi gj gk gl hi hj hk hl ij ik il jk jl kl \n",
      "using l1 regularization = 1\n",
      "final_regressor = /home/ubuntu/bhw/vw/outbrain.model_v6.bin\n",
      "using input passthrough for neural network training\n",
      "Enabling FTRL based optimization\n",
      "Algorithm used: Proximal-FTRL\n",
      "ftrl_alpha = 0.01\n",
      "ftrl_beta = 0.1\n",
      "Num weight bits = 24\n",
      "learning rate = 0.1\n",
      "initial_t = 0\n",
      "power_t = 0.5\n",
      "decay_learning_rate = 1\n",
      "creating cache_file = /home/ubuntu/bhw/vw/wide_train/wide_train.vw.cache\n",
      "Reading datafile = /home/ubuntu/bhw/vw/wide_train/wide_train.vw\n",
      "num sources = 1\n",
      "average  since         example        example  current  current  current\n",
      "loss     last          counter         weight    label  predict features\n",
      "0.952331 0.952331            1            1.0   1.0000  -0.4648       80\n",
      "0.622361 0.292391            2            2.0  -1.0000  -1.0799       80\n",
      "0.417414 0.212468            4            4.0   1.0000   0.7176       80\n",
      "0.350003 0.282592            8            8.0  -1.0000  -0.3388       80\n",
      "0.380204 0.410404           16           16.0  -1.0000  -1.6817       80\n",
      "0.462290 0.544377           32           32.0  -1.0000  -2.9319       80\n",
      "0.479105 0.495919           64           64.0  -1.0000   0.7835       80\n",
      "0.482993 0.486881          128          128.0  -1.0000  -1.1466       80\n",
      "0.464691 0.446389          256          256.0  -1.0000  -1.0132       80\n",
      "0.467487 0.470283          512          512.0  -1.0000  -1.9433       80\n",
      "0.445269 0.423051         1024         1024.0  -1.0000  -1.8698       80\n",
      "0.445010 0.444752         2048         2048.0  -1.0000  -1.3289       80\n",
      "0.441121 0.437231         4096         4096.0  -1.0000  -2.5281       80\n",
      "0.431535 0.421950         8192         8192.0  -1.0000  -2.5614       80\n",
      "0.426687 0.421838        16384        16384.0  -1.0000  -1.1926       80\n",
      "0.424815 0.422943        32768        32768.0  -1.0000  -1.1889       80\n",
      "0.423169 0.421523        65536        65536.0  -1.0000  -3.0040       80\n",
      "0.422936 0.422702       131072       131072.0  -1.0000  -1.3657       80\n",
      "0.421961 0.420987       262144       262144.0  -1.0000  -1.3531       80\n",
      "0.421842 0.421722       524288       524288.0   1.0000  -2.3681       80\n",
      "0.421550 0.421259      1048576      1048576.0  -1.0000  -2.6978       80\n",
      "0.420991 0.420431      2097152      2097152.0  -1.0000  -2.0807       80\n",
      "0.420437 0.419883      4194304      4194304.0  -1.0000  -1.1581       80\n",
      "0.419849 0.419262      8388608      8388608.0  -1.0000  -2.6895       80\n",
      "0.419455 0.419061     16777216     16777216.0  -1.0000  -0.8498       80\n",
      "0.419133 0.418811     33554432     33554432.0  -1.0000  -0.7473       80\n",
      "0.420493 0.421852     67108864     67108864.0  -1.0000  -3.3605       80\n",
      "0.430917 0.430917    134217728    134217728.0   1.0000  -0.9022       80 h\n",
      "\n",
      "finished run\n",
      "number of examples per pass = 78427558\n",
      "passes used = 3\n",
      "weighted example sum = 235282674.000000\n",
      "weighted label sum = -144165906.000000\n",
      "average loss = 0.430457 h\n",
      "best constant = -1.426577\n",
      "best constant's loss = 0.491448\n",
      "total feature number = 18822613920\n",
      "CPU times: user 2min 13s, sys: 29.6 s, total: 2min 43s\n",
      "Wall time: 1h 53min 34s\n"
     ]
    }
   ],
   "source": [
    "%%time\n",
    "!vw ~/bhw/vw/wide_train/wide_train.vw \\\n",
    "    --initial_regressor ~/bhw/vw/outbrain.model_v4.bin \\\n",
    "    --final_regressor ~/bhw/vw/outbrain.model_v6.bin \\\n",
    "    --loss_function logistic \\\n",
    "    --learning_rate 0.1 \\\n",
    "    --bit_precision 24 \\\n",
    "    --passes 3 \\\n",
    "    --ftrl --ftrl_alpha 0.01 --ftrl_beta 0.1 --l1 1 \\\n",
    "    --interactions ab ac ad ae af ag ah ai aj ak al bc bd be bf bg bh bi bj bk bl cd ce cf cg ch ci cj ck cl de df dg dh di dj dk dl ef eg eh ei ej ek el fg fh fi fj fk fl gh gi gj gk gl hi hj hk hl ij ik il jk jl kl \\\n",
    "    --nn 3 \\\n",
    "    --inpass \\\n",
    "    --cache -k"
   ]
  },
  {
   "cell_type": "code",
   "execution_count": 30,
   "id": "e4bd3d6a",
   "metadata": {},
   "outputs": [
    {
     "name": "stdout",
     "output_type": "stream",
     "text": [
      "creating features for following interactions: ab ac ad ae af ag ah ai aj ak al bc bd be bf bg bh bi bj bk bl cd ce cf cg ch ci cj ck cl de df dg dh di dj dk dl ef eg eh ei ej ek el fg fh fi fj fk fl gh gi gj gk gl hi hj hk hl ij ik il jk jl kl \n",
      "only testing\n",
      "predictions = /home/ubuntu/bhw/vw/test_submisiion_v6.txt\n",
      "using input passthrough for neural network testing\n",
      "Enabling FTRL based optimization\n",
      "Algorithm used: Proximal-FTRL\n",
      "ftrl_alpha = 0.005\n",
      "ftrl_beta = 0.1\n",
      "Num weight bits = 24\n",
      "learning rate = 0.5\n",
      "initial_t = 0\n",
      "power_t = 0.5\n",
      "using no cache\n",
      "Reading datafile = /home/ubuntu/bhw/vw/test/test.vw\n",
      "num sources = 1\n",
      "average  since         example        example  current  current  current\n",
      "loss     last          counter         weight    label  predict features\n",
      "    n.a.     n.a.            1            1.0  unknown   0.3750       80\n",
      "    n.a.     n.a.            2            2.0  unknown   0.2299       80\n",
      "    n.a.     n.a.            4            4.0  unknown   0.2913       80\n",
      "    n.a.     n.a.            8            8.0  unknown   0.2313       80\n",
      "    n.a.     n.a.           16           16.0  unknown   0.2874       80\n",
      "    n.a.     n.a.           32           32.0  unknown   0.0380       80\n",
      "    n.a.     n.a.           64           64.0  unknown   0.0918       80\n",
      "    n.a.     n.a.          128          128.0  unknown   0.8972       80\n",
      "    n.a.     n.a.          256          256.0  unknown   0.0296       80\n",
      "    n.a.     n.a.          512          512.0  unknown   0.2224       80\n",
      "    n.a.     n.a.         1024         1024.0  unknown   0.3079       80\n",
      "    n.a.     n.a.         2048         2048.0  unknown   0.0812       80\n",
      "    n.a.     n.a.         4096         4096.0  unknown   0.1691       80\n",
      "    n.a.     n.a.         8192         8192.0  unknown   0.0883       80\n",
      "    n.a.     n.a.        16384        16384.0  unknown   0.1375       80\n",
      "    n.a.     n.a.        32768        32768.0  unknown   0.1053       80\n",
      "    n.a.     n.a.        65536        65536.0  unknown   0.0683       80\n",
      "    n.a.     n.a.       131072       131072.0  unknown   0.1829       80\n",
      "    n.a.     n.a.       262144       262144.0  unknown   0.0474       80\n",
      "    n.a.     n.a.       524288       524288.0  unknown   0.0629       80\n",
      "    n.a.     n.a.      1048576      1048576.0  unknown   0.0187       80\n",
      "    n.a.     n.a.      2097152      2097152.0  unknown   0.7581       80\n",
      "    n.a.     n.a.      4194304      4194304.0  unknown   0.2840       80\n",
      "    n.a.     n.a.      8388608      8388608.0  unknown   0.0300       80\n",
      "    n.a.     n.a.     16777216     16777216.0  unknown   0.5060       80\n",
      "\n",
      "finished run\n",
      "number of examples = 32225162\n",
      "weighted example sum = 32225162.000000\n",
      "weighted label sum = 0.000000\n",
      "average loss = n.a.\n",
      "total feature number = 2578012960\n",
      "CPU times: user 11.6 s, sys: 2.73 s, total: 14.4 s\n",
      "Wall time: 9min 40s\n"
     ]
    }
   ],
   "source": [
    "%%time\n",
    "!vw --testonly --link=logistic \\\n",
    "    --initial_regressor ~/bhw/vw/outbrain.model_v6.bin \\\n",
    "    --predictions ~/bhw/vw/test_submisiion_v6.txt \\\n",
    "    ~/bhw/vw/test/test.vw"
   ]
  },
  {
   "cell_type": "code",
   "execution_count": 31,
   "id": "0fab6b03",
   "metadata": {},
   "outputs": [
    {
     "name": "stdout",
     "output_type": "stream",
     "text": [
      "i = 0\n",
      "i = 10000000\n",
      "i = 20000000\n",
      "i = 30000000\n",
      "Формирование словаря завершено, переводим в пандас\n",
      "Сортировка и группировка датафрейма завершена, форматируем и сохраняем\n",
      "CPU times: user 8min 30s, sys: 16.6 s, total: 8min 47s\n",
      "Wall time: 8min 46s\n"
     ]
    }
   ],
   "source": [
    "%%time\n",
    "output = convert_to_kaggle('/home/ubuntu/bhw/vw/test_submisiion_v6.txt',\n",
    "                           '/home/ubuntu/bhw/vw/submission/sub_v6_sort.csv')"
   ]
  },
  {
   "cell_type": "code",
   "execution_count": 32,
   "id": "fe184c9e",
   "metadata": {},
   "outputs": [
    {
     "name": "stdout",
     "output_type": "stream",
     "text": [
      "100%|████████████████████████████████████████| 260M/260M [00:10<00:00, 26.5MB/s]\n",
      "Successfully submitted to Outbrain Click Prediction"
     ]
    }
   ],
   "source": [
    "! kaggle competitions submit -c outbrain-click-prediction -f ~/bhw/vw/submission/sub_v6_sort.csv -m \"ver_6_sort\""
   ]
  },
  {
   "cell_type": "markdown",
   "id": "01743d72",
   "metadata": {},
   "source": [
    "Данная посылка дала результат на private в 0.65589, немного не дотягивает до 7 за эту БДЗ, но в целом приемлемо.\n",
    "\n",
    "[Подтверждение получения качества 0.65589](https://storage.yandexcloud.net/bucket-zolotarev-bst/bhw_kaggle_2.PNG)"
   ]
  },
  {
   "cell_type": "markdown",
   "id": "d1009cc1",
   "metadata": {},
   "source": [
    "## Итоги"
   ]
  },
  {
   "cell_type": "markdown",
   "id": "ee6bb5b9",
   "metadata": {},
   "source": [
    "[Скриншот посылки в Kaggle](https://storage.yandexcloud.net/bucket-zolotarev-bst/bhw_kaggle.PNG)"
   ]
  },
  {
   "cell_type": "markdown",
   "id": "5d3569ae",
   "metadata": {},
   "source": [
    "Тезисно:\n",
    "* нужно внимательнее и аккуратнее обрабатывать данные, чтобы не тратить неделю на глупые ошибки и выбивание по нехватке памяти при сборе датасета\n",
    "* в больших данных нужно научиться грамотно строить фичи после предварительного анализа структуры данных на небольшом самсэмпле\n",
    "* не всегда нужно максимизировать количество фичей, потому что это может привести к созданию огромных датасетов на сотни ГБ, которые даже vw не может обработать\n",
    "* нужно аккуратно реализовывать конвертацию в требуемые форматы, чтобы логи ворнингов не убивали тетрадку\n",
    "* порой достаточно просто реализовать уже придуманный кем-то бейзлайн и рандомно потыкать разные архитектуры state-of-the-art с последовательным дообучением модели\n",
    "\n",
    "По курсу:\n",
    "* всё было классно и приятно, за исключением вечных багов и вылетов по памяти\n",
    "* надеюсь полученные знания принесут мне тыщи миллионов в будущем"
   ]
  }
 ],
 "metadata": {
  "kernelspec": {
   "display_name": "Python 3 (ipykernel)",
   "language": "python",
   "name": "python3"
  },
  "language_info": {
   "codemirror_mode": {
    "name": "ipython",
    "version": 3
   },
   "file_extension": ".py",
   "mimetype": "text/x-python",
   "name": "python",
   "nbconvert_exporter": "python",
   "pygments_lexer": "ipython3",
   "version": "3.8.10"
  },
  "toc": {
   "base_numbering": 1,
   "nav_menu": {},
   "number_sections": true,
   "sideBar": true,
   "skip_h1_title": false,
   "title_cell": "Table of Contents",
   "title_sidebar": "Contents",
   "toc_cell": false,
   "toc_position": {},
   "toc_section_display": true,
   "toc_window_display": false
  },
  "varInspector": {
   "cols": {
    "lenName": 16,
    "lenType": 16,
    "lenVar": 40
   },
   "kernels_config": {
    "python": {
     "delete_cmd_postfix": "",
     "delete_cmd_prefix": "del ",
     "library": "var_list.py",
     "varRefreshCmd": "print(var_dic_list())"
    },
    "r": {
     "delete_cmd_postfix": ") ",
     "delete_cmd_prefix": "rm(",
     "library": "var_list.r",
     "varRefreshCmd": "cat(var_dic_list()) "
    }
   },
   "types_to_exclude": [
    "module",
    "function",
    "builtin_function_or_method",
    "instance",
    "_Feature"
   ],
   "window_display": false
  }
 },
 "nbformat": 4,
 "nbformat_minor": 5
}
