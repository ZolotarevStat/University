{
  "cells": [
    {
      "cell_type": "markdown",
      "source": [
        "# Задание.\n",
        "* Подсчитать фичи для модели, используя только Spark\n",
        "* Фичи можно перевести в pandas и обучить свой любимый алгоритм локально (но не обязательно)\n",
        "* Предсказать им тест сет и побить бейзлайн по целевым метрикам\n",
        "\n",
        "## Метрики.\n",
        "\n",
        "Поскольку просмотры распределены экспоненциально, предсказывать будем странную величину log(post_views + 100). Вычисляются сразу 4 метрики, но они связаны между собой. Это\n",
        "* RMSPE - Root Mean Squared Percentage Error\n",
        "* MAPE - Mean Absolute Percentage Error\n",
        "* MAE - Mean Absolute Error\n",
        "* RMSE - Root Mean Squared Error\n",
        "\n",
        "## Сабмиты.\n",
        "\n",
        "За день можно делать максимум 5 сабмитов. Для вашего итогового сабмита нужно выставить флаг final=True для функции make_eval. Это сохраняет ваш сабмит для проверки, без этого задание считается не сделанным!\n",
        "\n",
        "## Критерии.\n",
        "Для получения оценки > 0 нужно прислать ноутбук в виде .ipynb файла, который можно выполнить через Run All, и который в результате сделает сабмит.\n",
        "Для получения положительной оценки (>3) нужно сделать сабмит с метриками лучше, чем у бейзлайна\n",
        "\n",
        "BASELINE = {\n",
        "\t'mape': 15.707128974856676,\n",
        "\t'mean_absolute_error': 1.219070382113261,\n",
        "\t'mean_squared_error': 2.4324378881170055,\n",
        "\t'rmse': 1.5596274837655963,\n",
        "\t'rmspe': 23.50065988751091\n",
        "}\n",
        "\n",
        "Выполнение этого условия дает вам оценку 5. Остальные баллы можно получить за следующие пункты:\n",
        "* 1 балл за фичу, использующую метаданные каналов (макс 1 балл)\n",
        "* 2 балла за фичу, использующую текстовые поля (макс 2 балла) фичи должны быть осмысленными для задачи\n",
        "* 1 балл за фичу, использующую window aggregation, до 2 штук, различающихся по смыслу и реализации. Фичи которые можно альтернативно подсчитать групбаем и джойном не засчитываются (макс 2 балла)\n"
      ],
      "metadata": {
        "id": "aDHnOlbUpose"
      }
    },
    {
      "cell_type": "markdown",
      "metadata": {
        "id": "UtQxCX_-mRd9"
      },
      "source": [
        "## install stuff"
      ]
    },
    {
      "cell_type": "code",
      "execution_count": null,
      "metadata": {
        "colab": {
          "base_uri": "https://localhost:8080/"
        },
        "id": "HUEpjWJemRd_",
        "outputId": "ffdbba35-469f-4c8c-afa0-5e1bf1538eb0"
      },
      "outputs": [
        {
          "output_type": "stream",
          "name": "stdout",
          "text": [
            "Looking in indexes: https://pypi.org/simple, https://us-python.pkg.dev/colab-wheels/public/simple/\n",
            "Requirement already satisfied: pyspark in /usr/local/lib/python3.10/dist-packages (3.4.0)\n",
            "Requirement already satisfied: pandas in /usr/local/lib/python3.10/dist-packages (1.5.3)\n",
            "Requirement already satisfied: scikit-learn in /usr/local/lib/python3.10/dist-packages (1.2.2)\n",
            "Requirement already satisfied: py4j==0.10.9.7 in /usr/local/lib/python3.10/dist-packages (from pyspark) (0.10.9.7)\n",
            "Requirement already satisfied: python-dateutil>=2.8.1 in /usr/local/lib/python3.10/dist-packages (from pandas) (2.8.2)\n",
            "Requirement already satisfied: pytz>=2020.1 in /usr/local/lib/python3.10/dist-packages (from pandas) (2022.7.1)\n",
            "Requirement already satisfied: numpy>=1.21.0 in /usr/local/lib/python3.10/dist-packages (from pandas) (1.22.4)\n",
            "Requirement already satisfied: scipy>=1.3.2 in /usr/local/lib/python3.10/dist-packages (from scikit-learn) (1.10.1)\n",
            "Requirement already satisfied: joblib>=1.1.1 in /usr/local/lib/python3.10/dist-packages (from scikit-learn) (1.2.0)\n",
            "Requirement already satisfied: threadpoolctl>=2.0.0 in /usr/local/lib/python3.10/dist-packages (from scikit-learn) (3.1.0)\n",
            "Requirement already satisfied: six>=1.5 in /usr/local/lib/python3.10/dist-packages (from python-dateutil>=2.8.1->pandas) (1.16.0)\n"
          ]
        }
      ],
      "source": [
        "! pip3 install pyspark pandas scikit-learn"
      ]
    },
    {
      "cell_type": "code",
      "source": [
        "from google.colab import drive\n",
        "drive.mount('/content/drive')"
      ],
      "metadata": {
        "colab": {
          "base_uri": "https://localhost:8080/"
        },
        "id": "OW_p-DmCm4En",
        "outputId": "bdd99aed-f216-4379-aadf-e2c7fa60dc79"
      },
      "execution_count": null,
      "outputs": [
        {
          "output_type": "stream",
          "name": "stdout",
          "text": [
            "Drive already mounted at /content/drive; to attempt to forcibly remount, call drive.mount(\"/content/drive\", force_remount=True).\n"
          ]
        }
      ]
    },
    {
      "cell_type": "markdown",
      "metadata": {
        "id": "pY-Ulxk0mRd_"
      },
      "source": [
        "## setup pyspark"
      ]
    },
    {
      "cell_type": "code",
      "execution_count": null,
      "metadata": {
        "id": "_C9ntd8mmReA"
      },
      "outputs": [],
      "source": [
        "import pyspark.sql\n",
        "from pyspark.sql import functions as F\n",
        "import pyspark\n",
        "\n",
        "from pyspark.sql import Window\n",
        "from pyspark.ml.feature import Word2Vec, Tokenizer\n",
        "from pyspark.ml.functions import vector_to_array"
      ]
    },
    {
      "cell_type": "code",
      "source": [
        "import findspark\n",
        "findspark.init()"
      ],
      "metadata": {
        "id": "-vd6eUmryqZD"
      },
      "execution_count": null,
      "outputs": []
    },
    {
      "cell_type": "code",
      "execution_count": null,
      "metadata": {
        "id": "t53PvXu1mReA"
      },
      "outputs": [],
      "source": [
        "sparkConf = pyspark.SparkConf() \\\n",
        "    .set(\"spark.executor.memory\", \"2048m\")\\\n",
        "    .set(\"spark.driver.memory\", \"2048m\")\n",
        "ss = pyspark.sql.SparkSession.builder.config(conf=sparkConf).master('local[1]').getOrCreate()"
      ]
    },
    {
      "cell_type": "markdown",
      "metadata": {
        "id": "wRDwwDCmmReA"
      },
      "source": [
        "## load data"
      ]
    },
    {
      "cell_type": "code",
      "execution_count": null,
      "metadata": {
        "id": "8QdbqBFdmReA"
      },
      "outputs": [],
      "source": [
        "train_data = ss.read.orc('/content/drive/MyDrive/big_data_hw2/posts_train.orc')\n",
        "test_data = ss.read.orc('/content/drive/MyDrive/big_data_hw2/posts_test.orc')\n",
        "channel_data = ss.read.orc('/content/drive/MyDrive/big_data_hw2/channels_orc')"
      ]
    },
    {
      "cell_type": "markdown",
      "source": [
        "# data exploration"
      ],
      "metadata": {
        "id": "j0rHZ1Fvqcd9"
      }
    },
    {
      "cell_type": "markdown",
      "source": [
        "Посмотрим, сколько всего у нас обучающих, тестовых и мета- данных:"
      ],
      "metadata": {
        "id": "wZMkHK_rMWYj"
      }
    },
    {
      "cell_type": "code",
      "source": [
        "display(train_data.count())\n",
        "display(test_data.count())\n",
        "display(channel_data.count())"
      ],
      "metadata": {
        "colab": {
          "base_uri": "https://localhost:8080/",
          "height": 69
        },
        "id": "_8RreH7_M7wM",
        "outputId": "fd46f06d-6e98-4060-8098-0ccdc1f936f4"
      },
      "execution_count": null,
      "outputs": [
        {
          "output_type": "display_data",
          "data": {
            "text/plain": [
              "5460759"
            ]
          },
          "metadata": {}
        },
        {
          "output_type": "display_data",
          "data": {
            "text/plain": [
              "244386"
            ]
          },
          "metadata": {}
        },
        {
          "output_type": "display_data",
          "data": {
            "text/plain": [
              "2000"
            ]
          },
          "metadata": {}
        }
      ]
    },
    {
      "cell_type": "markdown",
      "source": [
        "А как они выглядят?"
      ],
      "metadata": {
        "id": "70ehJfjaMazz"
      }
    },
    {
      "cell_type": "code",
      "source": [
        "display(train_data.show(5))\n",
        "display(test_data.show(5))\n",
        "display(channel_data.show(5))"
      ],
      "metadata": {
        "colab": {
          "base_uri": "https://localhost:8080/",
          "height": 642
        },
        "id": "fc0OhuNUNbW5",
        "outputId": "42453f18-e5cd-43f6-a35f-9fb949538b0e"
      },
      "execution_count": null,
      "outputs": [
        {
          "output_type": "stream",
          "name": "stdout",
          "text": [
            "+----------+--------+-----+--------------------+-----+---------+------------+--------------------+------------+\n",
            "|channel_id|      id|tg_id|                text|views|has_image|is_forwarded|                date|forwarded_id|\n",
            "+----------+--------+-----+--------------------+-----+---------+------------+--------------------+------------+\n",
            "|       221|29741094| 7182|МК, а это вот про...|15368|        f|           f|2018-11-03 13:05:...|        null|\n",
            "|       221|46751120| 7388|Хочу пошутить, чт...|12448|        f|           f|2018-11-26 16:15:...|        null|\n",
            "|       221|32631368| 5512|Уточню: Котляр бы...|69984|        f|           f|2018-05-16 16:03:...|        null|\n",
            "|       221|46751758| 7173|Да не на два лаге...|10241|        f|           f|2018-11-02 13:45:...|        null|\n",
            "|       221|33073441| 3185|А что касается Уд...|46847|        f|           f|2017-08-10 13:44:...|        null|\n",
            "+----------+--------+-----+--------------------+-----+---------+------------+--------------------+------------+\n",
            "only showing top 5 rows\n",
            "\n"
          ]
        },
        {
          "output_type": "display_data",
          "data": {
            "text/plain": [
              "None"
            ]
          },
          "metadata": {}
        },
        {
          "output_type": "stream",
          "name": "stdout",
          "text": [
            "+----------+--------+-----+--------------------+---------+------------+--------------------+------------+\n",
            "|channel_id|      id|tg_id|                text|has_image|is_forwarded|                date|forwarded_id|\n",
            "+----------+--------+-----+--------------------+---------+------------+--------------------+------------+\n",
            "|      4127|53225416| 2137|История про песик...|        f|           f|2019-01-14 15:42:...|        null|\n",
            "|      4127|53225442| 2135|Наверное, вы заме...|        f|           f|2019-01-10 11:35:...|        null|\n",
            "|     34317|53042118|11612|ર્ષમાં ફેલાઈ છે જ...|        f|           f|2019-01-05 13:40:...|        null|\n",
            "|     34317|53042119|39544|ર્ષમાં ફેલાઈ છે જ...|        f|           t|2019-01-05 13:40:...|    53042118|\n",
            "|     34317|53042120|11611|*🎯Pls don't copy...|        f|           f|2019-01-05 13:40:...|        null|\n",
            "+----------+--------+-----+--------------------+---------+------------+--------------------+------------+\n",
            "only showing top 5 rows\n",
            "\n"
          ]
        },
        {
          "output_type": "display_data",
          "data": {
            "text/plain": [
              "None"
            ]
          },
          "metadata": {}
        },
        {
          "output_type": "stream",
          "name": "stdout",
          "text": [
            "+--------------------+----------+--------------------+----------------+----------+----------+--------------------+--------------------+----------+----------+\n",
            "|         description|is_private|         last_parsed|            name|post_count|     tg_id|               title|             updated|user_count|channel_id|\n",
            "+--------------------+----------+--------------------+----------------+----------+----------+--------------------+--------------------+----------+----------+\n",
            "|                    |     false|2019-01-26 16:53:...|   MoeinZchannel|     708.0|1002972402|             Moein Z|2019-01-26 16:53:...|   62411.0|      7910|\n",
            "|Вокруг столько ме...|     false|2019-02-12 00:39:...|  merzotachannel|    1027.0|1336284461|            Мерзость|2019-02-12 00:39:...|   12982.0|     14121|\n",
            "|🗣እኛስ የተሰቀለውን ክርስ...|     false|2019-02-10 06:57:...|christian_mezmur|    1168.0|1136987361|Christian Mezmur ...|2019-02-10 06:57:...|   21704.0|     17375|\n",
            "|     Chiroyli_qomatt|     false|2018-12-08 00:54:...|chiroyli_ayollar|     775.0|1363004116|    Ideal qomat siri|2018-12-08 00:54:...|    6516.0|     49797|\n",
            "|                    |     false|2019-02-10 14:31:...|   abhijitrathod|    1468.0|1090317766|Parivartan by Abh...|2019-02-10 14:31:...|   18995.0|     33685|\n",
            "+--------------------+----------+--------------------+----------------+----------+----------+--------------------+--------------------+----------+----------+\n",
            "only showing top 5 rows\n",
            "\n"
          ]
        },
        {
          "output_type": "display_data",
          "data": {
            "text/plain": [
              "None"
            ]
          },
          "metadata": {}
        }
      ]
    },
    {
      "cell_type": "code",
      "source": [
        "channel_data.filter(F.col('channel_id')==34317).show(truncate=False)"
      ],
      "metadata": {
        "colab": {
          "base_uri": "https://localhost:8080/"
        },
        "id": "f7wYkef-OGCc",
        "outputId": "1d383757-1c57-4c76-be2e-a2a200a66ea3"
      },
      "execution_count": null,
      "outputs": [
        {
          "output_type": "stream",
          "name": "stdout",
          "text": [
            "+---------------------------------------------------------------------------------------------------------------------------------------------------------------------------------------------------------------------------------------------------+----------+-----------------------+----------+----------+----------+-----------+-----------------------+----------+----------+\n",
            "|description                                                                                                                                                                                                                                        |is_private|last_parsed            |name      |post_count|tg_id     |title      |updated                |user_count|channel_id|\n",
            "+---------------------------------------------------------------------------------------------------------------------------------------------------------------------------------------------------------------------------------------------------+----------+-----------------------+----------+----------+----------+-----------+-----------------------+----------+----------+\n",
            "|👉આ ગ્રુપ માત્ર ગુજરાતી લોકો માટે છે કે જેઓ ગવર્નમેન્ટ પરીક્ષા ની તૈયારી કરે છે \\n👉અહીંયા pdf mp3 વગેરે જેવી ફાઇલ્સ મોકલવામાં આવે છે \\n👉ગ્રુપ જોઈન કરવા અહીં ક્લિક કરો\\nhttps://telegram.me/gyansarthi\\n👉અથવા ટેલિગ્રામ મા @gyansarthi ક્લિક કરો|false     |2019-01-31 10:03:19.761|gyansarthi|8856.0    |1086577325|જ્ઞાન સારથિ|2019-01-31 10:03:19.761|55456.0   |34317     |\n",
            "+---------------------------------------------------------------------------------------------------------------------------------------------------------------------------------------------------------------------------------------------------+----------+-----------------------+----------+----------+----------+-----------+-----------------------+----------+----------+\n",
            "\n"
          ]
        }
      ]
    },
    {
      "cell_type": "code",
      "source": [
        "train_data.printSchema()"
      ],
      "metadata": {
        "colab": {
          "base_uri": "https://localhost:8080/"
        },
        "id": "DdtTYPZSLSfH",
        "outputId": "54f5a1dc-1ddb-4a24-ed0d-522a6b668a34"
      },
      "execution_count": null,
      "outputs": [
        {
          "output_type": "stream",
          "name": "stdout",
          "text": [
            "root\n",
            " |-- channel_id: integer (nullable = true)\n",
            " |-- id: integer (nullable = true)\n",
            " |-- tg_id: integer (nullable = true)\n",
            " |-- text: string (nullable = true)\n",
            " |-- views: integer (nullable = true)\n",
            " |-- has_image: string (nullable = true)\n",
            " |-- is_forwarded: string (nullable = true)\n",
            " |-- date: string (nullable = true)\n",
            " |-- forwarded_id: string (nullable = true)\n",
            "\n"
          ]
        }
      ]
    },
    {
      "cell_type": "code",
      "source": [
        "channel_data.printSchema()"
      ],
      "metadata": {
        "colab": {
          "base_uri": "https://localhost:8080/"
        },
        "id": "NYh3cG1eMoc_",
        "outputId": "66c2196f-9c6e-4387-d286-0e532e6afe55"
      },
      "execution_count": null,
      "outputs": [
        {
          "output_type": "stream",
          "name": "stdout",
          "text": [
            "root\n",
            " |-- description: string (nullable = true)\n",
            " |-- is_private: boolean (nullable = true)\n",
            " |-- last_parsed: timestamp (nullable = true)\n",
            " |-- name: string (nullable = true)\n",
            " |-- post_count: double (nullable = true)\n",
            " |-- tg_id: long (nullable = true)\n",
            " |-- title: string (nullable = true)\n",
            " |-- updated: timestamp (nullable = true)\n",
            " |-- user_count: double (nullable = true)\n",
            " |-- channel_id: long (nullable = true)\n",
            "\n"
          ]
        }
      ]
    },
    {
      "cell_type": "markdown",
      "source": [
        "## check features"
      ],
      "metadata": {
        "id": "FWilw_ggqjd0"
      }
    },
    {
      "cell_type": "markdown",
      "source": [
        "Подберём первые фичи, которые очевидно  должны войти в признаковое пространство"
      ],
      "metadata": {
        "id": "2SjYitiyu0kV"
      }
    },
    {
      "cell_type": "code",
      "source": [
        "cols_to_analyze = ['has_image', 'is_forwarded']\n",
        "for col in cols_to_analyze:\n",
        "  num_col_train = train_data.select(F.col(col)).filter(F.col(col)=='t').count()\n",
        "  num_col_test = test_data.select(F.col(col)).filter(F.col(col)=='t').count()\n",
        "  print('train: ', col, num_col_train, '(',\n",
        "                        round(num_col_train / train_data.count() * 100, 2),'%)')\n",
        "  print('test: ', col, num_col_test,'(',\n",
        "                        round(num_col_test / test_data.count() * 100, 2),'%)')"
      ],
      "metadata": {
        "colab": {
          "base_uri": "https://localhost:8080/"
        },
        "id": "G-IoZD1cqsPM",
        "outputId": "c50753d0-a5bf-425a-f611-9d2f9254ff23"
      },
      "execution_count": null,
      "outputs": [
        {
          "output_type": "stream",
          "name": "stdout",
          "text": [
            "train:  has_image 2043958 ( 37.43 %)\n",
            "test:  has_image 98825 ( 40.44 %)\n",
            "train:  is_forwarded 595694 ( 10.91 %)\n",
            "test:  is_forwarded 33286 ( 13.62 %)\n"
          ]
        }
      ]
    },
    {
      "cell_type": "markdown",
      "source": [
        "## metadata"
      ],
      "metadata": {
        "id": "tuzDa8mXQCz0"
      }
    },
    {
      "cell_type": "code",
      "source": [
        "channel_data.select('channel_id', 'updated').groupby('channel_id')\\\n",
        "            .agg(F.count('*').alias('num_occurences'),\n",
        "                F.max('updated').alias('last_updated'),\n",
        "                F.min('updated').alias('first_updated'))\\\n",
        "            .orderBy('num_occurences', ascending=False).show(10, 0)"
      ],
      "metadata": {
        "colab": {
          "base_uri": "https://localhost:8080/"
        },
        "id": "i_pxL4zsulnF",
        "outputId": "d7ae0317-e34a-4358-d713-26748b49c10b"
      },
      "execution_count": null,
      "outputs": [
        {
          "output_type": "stream",
          "name": "stdout",
          "text": [
            "+----------+--------------+-----------------------+-----------------------+\n",
            "|channel_id|num_occurences|last_updated           |first_updated          |\n",
            "+----------+--------------+-----------------------+-----------------------+\n",
            "|45166     |1             |2019-02-13 06:23:33.062|2019-02-13 06:23:33.062|\n",
            "|56242     |1             |2019-01-26 22:01:37.681|2019-01-26 22:01:37.681|\n",
            "|4894      |1             |2018-12-07 07:15:24.675|2018-12-07 07:15:24.675|\n",
            "|4823      |1             |2019-02-12 02:29:14.729|2019-02-12 02:29:14.729|\n",
            "|11938     |1             |2018-12-11 07:35:03.549|2018-12-11 07:35:03.549|\n",
            "|15194     |1             |2019-02-12 16:06:03.971|2019-02-12 16:06:03.971|\n",
            "|15057     |1             |2018-12-09 10:05:50.788|2018-12-09 10:05:50.788|\n",
            "|62989     |1             |2019-02-10 23:56:27.604|2019-02-10 23:56:27.604|\n",
            "|42969     |1             |2018-12-08 16:17:51.693|2018-12-08 16:17:51.693|\n",
            "|541       |1             |2019-02-10 01:00:38.254|2019-02-10 01:00:38.254|\n",
            "+----------+--------------+-----------------------+-----------------------+\n",
            "only showing top 10 rows\n",
            "\n"
          ]
        }
      ]
    },
    {
      "cell_type": "markdown",
      "source": [
        "Видим, что в channel_data лежит только по одной строчке для каждого из каналов, что предполагает лик данных при использовании данной таблице (у нас как бы есть инфа о количестве подписчиков из будущего, что позволяет предсказать повышение количества просмотров к определённому моменту [нужно брать в качестве фичи количество просмотров на последнем посте, о котором эта циферка известна]), но при этом предполагает собой некотрую сложность: невозможно только по channel_data предсказать разное количество просмотров для разных постов одного и того же канала\n",
        "\n",
        "В качестве фичей возьмём user_count & post_count как метаданные каналов"
      ],
      "metadata": {
        "id": "zYiNmTVavd5E"
      }
    },
    {
      "cell_type": "markdown",
      "source": [
        "## window_func 1"
      ],
      "metadata": {
        "id": "qWtKPG24Pyfz"
      }
    },
    {
      "cell_type": "markdown",
      "source": [
        "А что по уникальным каналам в двух выборках?"
      ],
      "metadata": {
        "id": "OjhAJF0LMdS7"
      }
    },
    {
      "cell_type": "code",
      "source": [
        "display('Уникальные каналы в train:', train_data.select('channel_id').distinct().count())\n",
        "display('Уникальные каналы в test:', test_data.select('channel_id').distinct().count())"
      ],
      "metadata": {
        "colab": {
          "base_uri": "https://localhost:8080/",
          "height": 89
        },
        "id": "Wk2hD52bMHNm",
        "outputId": "251f7a4a-d348-4f5f-ab16-32b23462d60b"
      },
      "execution_count": null,
      "outputs": [
        {
          "output_type": "display_data",
          "data": {
            "text/plain": [
              "'Уникальные каналы в train:'"
            ],
            "application/vnd.google.colaboratory.intrinsic+json": {
              "type": "string"
            }
          },
          "metadata": {}
        },
        {
          "output_type": "display_data",
          "data": {
            "text/plain": [
              "2000"
            ]
          },
          "metadata": {}
        },
        {
          "output_type": "display_data",
          "data": {
            "text/plain": [
              "'Уникальные каналы в test:'"
            ],
            "application/vnd.google.colaboratory.intrinsic+json": {
              "type": "string"
            }
          },
          "metadata": {}
        },
        {
          "output_type": "display_data",
          "data": {
            "text/plain": [
              "1197"
            ]
          },
          "metadata": {}
        }
      ]
    },
    {
      "cell_type": "markdown",
      "source": [
        "То есть получается, что мы можем использовать как фичу для предикта информацию о последнем количестве просмотров в трейне? Сначала надо убедиться, что данные в тесте начинаются строго позже окончания данных в трейне (мб там вообще есть лик)"
      ],
      "metadata": {
        "id": "XLh6_OrqMhhW"
      }
    },
    {
      "cell_type": "code",
      "source": [
        "(train_data.groupby('channel_id')\n",
        "            .agg(F.max(F.col('date')).alias('last_train'))\n",
        "            .join(test_data\n",
        "                        .groupby('channel_id')\n",
        "                        .agg(F.min(F.col('date')).alias('first_test')),\n",
        "                  on='channel_id', how='inner')\n",
        "            .withColumn('days_between_train_test',\n",
        "                        F.datediff(F.col('first_test'),\n",
        "                                   F.col('last_train')))\n",
        "            .orderBy('days_between_train_test')\n",
        ").show(10, 0)"
      ],
      "metadata": {
        "colab": {
          "base_uri": "https://localhost:8080/"
        },
        "id": "eFCdq4uvM3fU",
        "outputId": "0477de00-ee2d-4710-e38d-84a8211d490e"
      },
      "execution_count": null,
      "outputs": [
        {
          "output_type": "stream",
          "name": "stdout",
          "text": [
            "+----------+----------------------+----------------------+-----------------------+\n",
            "|channel_id|last_train            |first_test            |days_between_train_test|\n",
            "+----------+----------------------+----------------------+-----------------------+\n",
            "|114       |2018-12-31 13:19:10+00|2019-01-01 14:34:35+00|1                      |\n",
            "|184       |2018-12-31 23:33:36+00|2019-01-01 10:16:08+00|1                      |\n",
            "|164       |2018-12-31 21:09:50+00|2019-01-01 07:03:55+00|1                      |\n",
            "|25        |2018-12-31 22:13:23+00|2019-01-01 05:55:59+00|1                      |\n",
            "|166       |2018-12-31 22:51:51+00|2019-01-01 11:26:54+00|1                      |\n",
            "|47        |2018-12-31 22:07:45+00|2019-01-01 10:22:56+00|1                      |\n",
            "|167       |2018-12-31 17:53:43+00|2019-01-01 13:04:16+00|1                      |\n",
            "|187       |2018-12-31 17:36:56+00|2019-01-01 07:12:14+00|1                      |\n",
            "|168       |2018-12-31 16:40:51+00|2019-01-01 08:39:50+00|1                      |\n",
            "|42        |2018-12-31 22:25:45+00|2019-01-01 07:30:05+00|1                      |\n",
            "+----------+----------------------+----------------------+-----------------------+\n",
            "only showing top 10 rows\n",
            "\n"
          ]
        }
      ]
    },
    {
      "cell_type": "markdown",
      "source": [
        "Видим, что действительно все тестовые посты идут только после последнего поста из трейна. Супер! Оформим в виде оконной функции выгрузку views, чтобы получить +1 за задание"
      ],
      "metadata": {
        "id": "Vl5kqztuOecM"
      }
    },
    {
      "cell_type": "code",
      "source": [
        "from pyspark.sql import Window\n",
        "\n",
        "w1 = Window.partitionBy(\"channel_id\").orderBy(F.desc(\"date\"))\n",
        "train_data.withColumn(\n",
        "    \"rn\", \n",
        "    F.row_number().over(w1)\n",
        ").filter(\"rn = 1\").select(\n",
        "    \"channel_id\", \n",
        "    \"date\", \n",
        "    \"views\"\n",
        ").show(10, 0)"
      ],
      "metadata": {
        "colab": {
          "base_uri": "https://localhost:8080/"
        },
        "id": "3_49NXezOo00",
        "outputId": "8218e889-6d40-4e30-b209-d472bcc5971a"
      },
      "execution_count": null,
      "outputs": [
        {
          "output_type": "stream",
          "name": "stdout",
          "text": [
            "+----------+----------------------+-----+\n",
            "|channel_id|date                  |views|\n",
            "+----------+----------------------+-----+\n",
            "|2         |2018-12-28 10:00:23+00|36546|\n",
            "|10        |2018-12-31 15:48:27+00|631  |\n",
            "|21        |2018-12-27 11:21:39+00|5764 |\n",
            "|25        |2018-12-31 22:13:23+00|15291|\n",
            "|28        |2018-12-06 15:19:38+00|216  |\n",
            "|42        |2018-12-31 22:25:45+00|11543|\n",
            "|47        |2018-12-31 22:07:45+00|21699|\n",
            "|51        |2018-12-31 09:10:17+00|1634 |\n",
            "|52        |2018-12-31 12:38:29+00|15845|\n",
            "|70        |2018-12-31 17:53:03+00|17083|\n",
            "+----------+----------------------+-----+\n",
            "only showing top 10 rows\n",
            "\n"
          ]
        }
      ]
    },
    {
      "cell_type": "markdown",
      "source": [
        "Проверим, что всё реализовано верно:"
      ],
      "metadata": {
        "id": "99b5KI04PTfk"
      }
    },
    {
      "cell_type": "code",
      "source": [
        "train_data.filter(F.col('channel_id')==2).orderBy('date', ascending=False).show(2)"
      ],
      "metadata": {
        "colab": {
          "base_uri": "https://localhost:8080/"
        },
        "id": "Ki9MHZDdPV77",
        "outputId": "a8ba40d9-b174-4caf-d854-ec2ec5a71cb2"
      },
      "execution_count": null,
      "outputs": [
        {
          "output_type": "stream",
          "name": "stdout",
          "text": [
            "+----------+--------+-----+--------------------+-----+---------+------------+--------------------+------------+\n",
            "|channel_id|      id|tg_id|                text|views|has_image|is_forwarded|                date|forwarded_id|\n",
            "+----------+--------+-----+--------------------+-----+---------+------------+--------------------+------------+\n",
            "|         2|54363783| 1426|ПРЕЗИРАЮ ТЕХ, КТО...|36546|        f|           f|2018-12-28 10:00:...|        null|\n",
            "|         2|54363784| 1425|В ЭРУ ХЕНДЖОБА ДА...|29409|        f|           f|2018-12-27 14:46:...|        null|\n",
            "+----------+--------+-----+--------------------+-----+---------+------------+--------------------+------------+\n",
            "only showing top 2 rows\n",
            "\n"
          ]
        }
      ]
    },
    {
      "cell_type": "markdown",
      "source": [
        "Для создания трейновых фичей нам надо смотреть на предыдущее количество просмотров, заполняя нули в самом первом посте канала количеством подписчиков из метаданных (но это уже в пандасе реализуем, чтобы не слишком сильно запариваться):"
      ],
      "metadata": {
        "id": "TEwTO3DORgIs"
      }
    },
    {
      "cell_type": "code",
      "source": [
        "w1 = Window.partitionBy(\"channel_id\").orderBy(\"date\")\n",
        "train_data.withColumn(\n",
        "    \"rn\", \n",
        "    F.row_number().over(w1)\n",
        ").withColumn(\n",
        "    'prev_views',\n",
        "    F.lag('views', 1).over(w1)\n",
        ").select(\n",
        "    \"channel_id\", \n",
        "    \"date\", \n",
        "    'prev_views',\n",
        "    \"views\"\n",
        ").filter(F.col('channel_id')==2).show(10, 0)"
      ],
      "metadata": {
        "colab": {
          "base_uri": "https://localhost:8080/"
        },
        "id": "qpjEBLZFRkg8",
        "outputId": "899df117-dd7f-49c4-faf0-f33dc7825dd7"
      },
      "execution_count": null,
      "outputs": [
        {
          "output_type": "stream",
          "name": "stdout",
          "text": [
            "+----------+----------------------+----------+-----+\n",
            "|channel_id|date                  |prev_views|views|\n",
            "+----------+----------------------+----------+-----+\n",
            "|2         |2016-05-25 15:15:50+00|null      |415  |\n",
            "|2         |2016-05-25 15:32:55+00|415       |484  |\n",
            "|2         |2016-05-25 18:01:53+00|484       |398  |\n",
            "|2         |2016-05-25 19:08:12+00|398       |376  |\n",
            "|2         |2016-05-25 19:08:12+00|376       |394  |\n",
            "|2         |2016-05-25 21:15:45+00|394       |481  |\n",
            "|2         |2016-05-25 22:35:57+00|481       |451  |\n",
            "|2         |2016-05-26 08:49:00+00|451       |413  |\n",
            "|2         |2016-05-26 13:05:02+00|413       |409  |\n",
            "|2         |2016-05-26 15:12:35+00|409       |476  |\n",
            "+----------+----------------------+----------+-----+\n",
            "only showing top 10 rows\n",
            "\n"
          ]
        }
      ]
    },
    {
      "cell_type": "markdown",
      "source": [
        "## window_func 2"
      ],
      "metadata": {
        "id": "Le_bysjEQG7z"
      }
    },
    {
      "cell_type": "markdown",
      "source": [
        "Долго думал, что именно надо сделать, чтобы получить полный балл за задание, удовлетворив условию \"различающихся по смыслу и реализации\". Не придумал ничего лучше, чем смотреть количество часов разницы между постами (ещё были вариант со скользящим средним количества просмотров последних N постов)\n",
        "\n"
      ],
      "metadata": {
        "id": "F2t-lGHoUgfM"
      }
    },
    {
      "cell_type": "code",
      "source": [
        "train_data.withColumn('previous_date',\n",
        "                      F.lag('date', 1).over(w1)\n",
        "                      ).withColumn('hours_diff', F.datediff(F.col('date'), F.col('previous_date'))*24 + \n",
        "                          F.hour(F.col('date')) - F.hour(F.col('previous_date'))\n",
        "                      ).filter(F.col('channel_id')==2).select('date', 'previous_date', 'hours_diff').orderBy('date').show(5, 0)"
      ],
      "metadata": {
        "colab": {
          "base_uri": "https://localhost:8080/"
        },
        "id": "ryZuAHj0QLCU",
        "outputId": "cb0354f0-b6ab-46cc-d407-e90d5a6d88d9"
      },
      "execution_count": null,
      "outputs": [
        {
          "output_type": "stream",
          "name": "stdout",
          "text": [
            "+----------------------+----------------------+----------+\n",
            "|date                  |previous_date         |hours_diff|\n",
            "+----------------------+----------------------+----------+\n",
            "|2016-05-25 15:15:50+00|null                  |null      |\n",
            "|2016-05-25 15:32:55+00|2016-05-25 15:15:50+00|0         |\n",
            "|2016-05-25 18:01:53+00|2016-05-25 15:32:55+00|3         |\n",
            "|2016-05-25 19:08:12+00|2016-05-25 18:01:53+00|1         |\n",
            "|2016-05-25 19:08:12+00|2016-05-25 19:08:12+00|0         |\n",
            "+----------------------+----------------------+----------+\n",
            "only showing top 5 rows\n",
            "\n"
          ]
        }
      ]
    },
    {
      "cell_type": "markdown",
      "source": [
        "Так, для первого значения теста будем брать последнее из трейна (сделаем в пандасе), а нули в трейне заполним 0"
      ],
      "metadata": {
        "id": "IZ6a92_4Wc28"
      }
    },
    {
      "cell_type": "markdown",
      "source": [
        "## text features\n",
        "\n",
        "Наиболее очевидным и простым методом использования текстовых фичей является обучение фичей на основе встроенных методов обработки текста в pyspark. Но возьмём ещё и счётчик длины поста и количества слов (гипотеза - длинные\\большие посты могут быть проигнорированы в популярных группах, тогда как короткие наоборот несложно читать. Да и кажется где-то было исследование, что в самых просматриваемых постах обычно 3-4 строчки, оттого у Твиттера и было ограничение на макс количество символов до 2023 года)"
      ],
      "metadata": {
        "id": "2d5GXWMWQJLE"
      }
    },
    {
      "cell_type": "markdown",
      "source": [
        "### IDF"
      ],
      "metadata": {
        "id": "Z2ZUItnQivTP"
      }
    },
    {
      "cell_type": "code",
      "source": [
        "tokenizer = Tokenizer(inputCol=\"text\", outputCol=\"words\")\n",
        "wordsData = tokenizer.transform(train_data.na.drop().limit(20))\n",
        "wordsData.show()"
      ],
      "metadata": {
        "colab": {
          "base_uri": "https://localhost:8080/"
        },
        "id": "o7ClfFtrcQKl",
        "outputId": "8edd6981-ca19-483f-ce3a-fb5b087f152e"
      },
      "execution_count": null,
      "outputs": [
        {
          "output_type": "stream",
          "name": "stdout",
          "text": [
            "+----------+--------+-----+--------------------+-----+---------+------------+--------------------+------------+--------------------+\n",
            "|channel_id|      id|tg_id|                text|views|has_image|is_forwarded|                date|forwarded_id|               words|\n",
            "+----------+--------+-----+--------------------+-----+---------+------------+--------------------+------------+--------------------+\n",
            "|       221|47504886| 7476|Что-то происходит...| 8896|        f|           t|2018-12-06 15:37:...|    47504885|[что-то, происход...|\n",
            "|       221|47504893| 7470|Почти на месяц от...|25487|        t|           t|2018-12-06 08:56:...|    47504892|[почти, на, месяц...|\n",
            "|       221|47504895| 7469|Продление домашне...| 7540|        f|           t|2018-12-06 08:31:...|    47504894|[продление, домаш...|\n",
            "|       221|47504897| 7468|🎉 В нашей команд...|26107|        t|           t|2018-12-06 07:14:...|    47504896|[🎉, в, нашей, ко...|\n",
            "|       221|47504900| 7466|Мне сегодня 33 го...|13902|        f|           t|2018-12-06 06:05:...|    47504899|[мне, сегодня, 33...|\n",
            "|       221|47504909| 7458|он всю жизнь писа...| 5360|        f|           t|2018-12-04 16:00:...|    47504908|[он, всю, жизнь, ...|\n",
            "|       221|47504945| 7430|Потрясающий пост ...|16482|        f|           t|2018-11-30 19:49:...|    47504944|[потрясающий, пос...|\n",
            "|       221|47504915| 7453|🔥 Мы все любим п...|96407|        f|           t|2018-12-03 21:21:...|    47504914|[🔥, мы, все, люб...|\n",
            "|       221|47504920| 7449|Рассмешить Бога -...|19182|        f|           t|2018-12-03 13:19:...|    47504919|[рассмешить, бога...|\n",
            "|       221|47504926| 7444|Темы для сочинени...| 5378|        f|           t|2018-12-02 17:06:...|    47504925|[темы, для, сочин...|\n",
            "|       221|47504929| 7442|Завершилась жереб...|31017|        f|           t|2018-12-02 13:22:...|    47504928|[завершилась, жер...|\n",
            "|       221|47504932| 7440|Сегодня выступая ...|19346|        f|           t|2018-12-01 19:56:...|    47504931|[сегодня, выступа...|\n",
            "|       221|47504936| 7437|Будни Цеповяза (б...|29924|        f|           t|2018-12-01 14:04:...|    47504935|[будни, цеповяза,...|\n",
            "|       221|47504938| 7436|Ни у кого нет осн...| 7776|        f|           t|2018-12-01 13:12:...|    47504937|[ни, у, кого, нет...|\n",
            "|       221|47504952| 7425|Еще такой любопыт...| 5712|        f|           t|2018-11-30 12:13:...|    47504951|[еще, такой, любо...|\n",
            "|       221|47504960| 7418|Кунцевский суд вы...|63880|        f|           t|2018-11-29 14:26:...|    47504959|[кунцевский, суд,...|\n",
            "|       221|12342459| 7150|Сегодня все перес...| 7544|        t|           t|2018-10-31 10:09:...|    12342458|[сегодня, все, пе...|\n",
            "|       221|12342462| 7148|Новое лицо террор...|15188|        f|           t|2018-10-31 09:44:...|    12342461|[новое, лицо, тер...|\n",
            "|       221|47504970| 7409|Контроль над мусо...|71931|        f|           t|2018-11-29 11:24:...|    47504969|[контроль, над, м...|\n",
            "|       221|12342467| 7144|Внезапно Дания об...|15056|        f|           t|2018-10-31 05:47:...|    12342466|[внезапно, дания,...|\n",
            "+----------+--------+-----+--------------------+-----+---------+------------+--------------------+------------+--------------------+\n",
            "\n"
          ]
        }
      ]
    },
    {
      "cell_type": "code",
      "source": [
        "from pyspark.ml.feature import  Tokenizer, CountVectorizer, IDF\n",
        "tokenizer = Tokenizer(inputCol=\"text\", outputCol=\"words\")\n",
        "wordsData = tokenizer.transform(train_data.na.drop())\n",
        "count = CountVectorizer (inputCol=\"words\", outputCol=\"rawFeatures\")\n",
        "model = count.fit(wordsData)\n",
        "featurizedData = model.transform(wordsData)\n",
        "# IDF down-weighs features which appear frequently in a corpus.\n",
        "# This generally improves performance when using text as features since most frequent, and hence less important words, get down-weighed.\n",
        "idf = IDF(inputCol=\"rawFeatures\", outputCol=\"features\")\n",
        "idfModel = idf.fit(featurizedData)\n",
        "rescaledData = idfModel.transform(featurizedData)\n",
        "rescaledData.select(\"views\", \"features\").show(10, 0)"
      ],
      "metadata": {
        "colab": {
          "base_uri": "https://localhost:8080/"
        },
        "id": "weWdJzEQQLXc",
        "outputId": "7f9f91a2-fa82-4d13-eb2f-b8b00ae73d5d"
      },
      "execution_count": null,
      "outputs": [
        {
          "output_type": "stream",
          "name": "stdout",
          "text": [
            "+-----+----------------------------------------------------------------------------------------------------------------------------------------------------------------------------------------------------------------------------------------------------------------------------------------------------------------------------------------------------------------------------------------------------------------------------------------------------------------------------------------------------------------------------------------------------------------------------------------------------------------------------------------------------------------------------------------------------------------------------------------------------------------------------------------------------------------------------------------------------------------------------------------------------------------------------------------------------------------------------------------------------------------------------------------------------------------------------------------------------------------------------------------------------------------------------------------------------------------------------------------------------------------------------------------------------------------------------------------------------------------------------------------------------------------------------------------------------------------------------------------------------------------------------------------------------------------------------------------------------------------------------------------------------------------------------------------------------------------------------------------------------------------------------------------------------------------------------------------------------------------------------------------------------------------------------------------------------------------------------------------------------------------------------------------------------------------------------------------------------------------------------------------------------------------------------------------------------------------------------------------------------------------------------------------------------------------------------------------------------------------------------------------------------------------------------------------------------------------------------------------------------------------------------------------------------------------------------------------------------------------------------------------------------+\n",
            "|views|features                                                                                                                                                                                                                                                                                                                                                                                                                                                                                                                                                                                                                                                                                                                                                                                                                                                                                                                                                                                                                                                                                                                                                                                                                                                                                                                                                                                                                                                                                                                                                                                                                                                                                                                                                                                                                                                                                                                                                                                                                                                                                                                                                                                                                                                                                                                                                                                                                                                                                                                                                                                                                                            |\n",
            "+-----+----------------------------------------------------------------------------------------------------------------------------------------------------------------------------------------------------------------------------------------------------------------------------------------------------------------------------------------------------------------------------------------------------------------------------------------------------------------------------------------------------------------------------------------------------------------------------------------------------------------------------------------------------------------------------------------------------------------------------------------------------------------------------------------------------------------------------------------------------------------------------------------------------------------------------------------------------------------------------------------------------------------------------------------------------------------------------------------------------------------------------------------------------------------------------------------------------------------------------------------------------------------------------------------------------------------------------------------------------------------------------------------------------------------------------------------------------------------------------------------------------------------------------------------------------------------------------------------------------------------------------------------------------------------------------------------------------------------------------------------------------------------------------------------------------------------------------------------------------------------------------------------------------------------------------------------------------------------------------------------------------------------------------------------------------------------------------------------------------------------------------------------------------------------------------------------------------------------------------------------------------------------------------------------------------------------------------------------------------------------------------------------------------------------------------------------------------------------------------------------------------------------------------------------------------------------------------------------------------------------------------------------------------+\n",
            "|8896 |(262144,[0,1,14,15,167,179,182,436,791,1111,1272,1378,1448,3605,5448,12575,19818,25873,49499,74830,79514],[1.6806386612146051,2.3093149052836552,2.8645340182601298,3.0488037450326644,13.181155712212089,4.406709281165599,4.430693890567611,5.029647586023308,5.534902164739843,5.781896931876232,5.897123969638741,5.932820067212624,5.967240291099103,6.7428108751870175,7.105540328034456,7.923580782433289,8.352248787621118,8.625944618098158,9.282724154487228,9.781715320606217,9.842339942422651])                                                                                                                                                                                                                                                                                                                                                                                                                                                                                                                                                                                                                                                                                                                                                                                                                                                                                                                                                                                                                                                                                                                                                                                                                                                                                                                                                                                                                                                                                                                                                                                                                                                                                                                                                                                                                                                                                                                                                                                                                                                                                                                                        |\n",
            "|25487|(262144,[0,1,5,14,41,51,57,394,665,773,954,2859,7046,13015,14830,18290,28967,41007,73482,75692,90048,116374,132213,173467,201577,259071],[0.4201596653036513,4.6186298105673105,5.071197667860217,2.8645340182601298,3.489492799776694,3.5990229173640067,3.622619932114284,5.019541385808461,5.4533066617232455,5.495293026644797,5.637647323031685,6.589062690837118,7.496934852245678,7.914448298870017,8.07163388239243,8.232902029988551,8.702905659234286,9.088568140046272,9.724556906766269,9.781715320606217,9.975871335047174,10.217033391864062,10.417704087326214,10.66901851560712,10.823169195434378,11.005490752228333])                                                                                                                                                                                                                                                                                                                                                                                                                                                                                                                                                                                                                                                                                                                                                                                                                                                                                                                                                                                                                                                                                                                                                                                                                                                                                                                                                                                                                                                                                                                                                                                                                                                                                                                                                                                                                                                                                                                                                                                                             |\n",
            "|7540 |(262144,[1,3,45,279,2086,2309,2321,2499,6883,7749,14156,14688,20796,27275,31177,33966,34184,34312,54358,56977,58860,84368,98703,133352,143764,176008,191094],[4.6186298105673105,2.4214616806258404,3.4951696709174884,4.784900582128594,6.306830223152902,6.447412173774092,6.418484536867912,6.715031311079941,7.326661633967897,7.450142690738919,8.061051773061893,8.04021768615905,8.425273922636007,8.786287268173337,8.808266174892113,8.951367018532787,8.977342504936047,8.951367018532787,9.436874834314487,9.670489685495992,9.523886211304117,10.130022014874433,10.049979307200896,10.417704087326214,10.417704087326214,10.66901851560712,10.823169195434378])                                                                                                                                                                                                                                                                                                                                                                                                                                                                                                                                                                                                                                                                                                                                                                                                                                                                                                                                                                                                                                                                                                                                                                                                                                                                                                                                                                                                                                                                                                                                                                                                                                                                                                                                                                                                                                                                                                                                                                        |\n",
            "|26107|(262144,[0,1,3,5,14,28,128,130,153,324,331,436,1010,1075,1117,1132,1600,1667,2136,2241,2465,2827,2982,3634,4133,4265,4669,4889,5841,6003,6805,6840,7480,8295,8720,13173,17007,23753,26423,30555,35140,46354,48674,65822,104651,165149,180532],[0.8403193306073026,11.546574526418276,7.264385041877521,7.606796501790325,2.8645340182601298,3.357991007309468,4.121208829431837,4.242992485903334,4.3334578067672656,4.776585349105316,4.829623482122571,5.029647586023308,5.689333467551965,5.710177894700594,5.762686095610555,5.782975099096578,6.059571772851768,6.1272446461778225,6.330794503591631,6.394338494562694,6.428720040761939,6.596335450166198,6.579447232137676,6.731606276174154,6.871925476852951,6.962439484393783,6.945047741681913,7.046584160901336,7.151096859636823,7.378486701832483,7.367904592501946,7.311623756603357,7.378486701832483,7.490964685259174,7.53352429967797,7.951489570550366,8.284195324376102,8.537391220756714,17.661478061488342,8.786287268173337,8.926049210548497,9.213731283000278,9.319091798658103,9.724556906766269,10.130022014874433,21.646338390868756,10.66901851560712])                                                                                                                                                                                                                                                                                                                                                                                                                                                                                                                                                                                                                                                                                                                                                                                                                                                                                                                                                                                                                                                                                                                                                                                                                                                                                                                                                                                                                                                                                                               |\n",
            "|13902|(262144,[0,1,2,3,5,10,14,24,28,33,40,41,57,64,65,76,84,106,128,142,144,153,155,179,212,262,279,280,311,316,324,384,414,417,435,440,456,467,477,495,537,712,745,855,888,897,942,1024,1390,1407,1824,1845,1909,2099,2190,2779,2969,3030,3036,4323,4444,4648,4707,5287,5383,5455,5553,5675,6456,6549,7473,8455,10416,11986,12895,14483,14586,15407,15678,15971,19844,20202,20232,20465,32253,35700,36573,38646,38792,42233,43155,46019,51354,54140,57958,64408,68436,71521,71693,86208,92883,110383,111922,116665,120598,122283,132237,139021,147503,199004,209590],[1.6806386612146051,11.546574526418276,8.664508435606967,19.371693445006724,10.142395335720433,11.588914674253736,8.593602054780389,3.151730611388649,3.357991007309468,7.64901471552913,3.4668893188836294,6.978985599553388,3.622619932114284,3.703938170005713,3.6941387761980584,7.753027534989369,4.25743485200387,4.138557467766451,4.121208829431837,4.162380666739727,8.648770327779387,4.3334578067672656,4.452697599181253,8.813418562331197,4.50540300490956,4.685802177355633,4.784900582128594,4.6700819536604365,4.788086566504139,9.585769312953628,9.553170698210632,4.927848508879298,5.177133542990501,10.2712580537592,5.528190730151856,5.084448669416896,5.1132942067790195,5.06848239091641,5.263770438231739,10.389897482001196,5.199753555049138,5.384365511253141,5.457972300046796,5.620995689439243,5.592060578579791,5.660289799781445,5.630212344544168,5.710177894700594,6.211354466727618,5.947971872233226,6.164458242518257,6.323359525104113,6.206399873602935,6.29416037041185,6.330794503591631,6.6085755050607,6.579447232137676,6.628476659377995,6.688002638692022,6.94850197655,6.931348897323751,6.95893685384258,6.990911158475094,7.042774632484669,7.101499918497451,7.176849355739238,14.235520878738463,7.142657990990958,7.2968086708182165,7.326661633967897,7.367904592501946,7.485029949739359,15.525796801485631,7.905398463350099,7.923580782433289,8.019808814527844,8.00975847867434,8.07163388239243,8.149020546007849,8.115118994332168,8.338262545646378,8.338262545646378,8.338262545646378,8.338262545646378,8.85372854896887,8.926049210548497,8.977342504936047,9.05958060317302,9.05958060317302,9.180941460177287,9.149192761862706,9.35683212664095,9.35683212664095,9.436874834314487,9.57040622693901,9.842339942422651,9.670489685495992,9.781715320606217,9.724556906766269,9.906878463560222,9.975871335047174,10.217033391864062,10.217033391864062,10.217033391864062,10.312343571668388,10.312343571668388,10.535487122982596,10.417704087326214,10.535487122982596,10.823169195434378,10.823169195434378])|\n",
            "|5360 |(262144,[0,10,14,15,130,639,1346,1824,2099,2150,5899,8731,10165,19971,36892],[0.4201596653036513,2.897228668563434,2.8645340182601298,3.0488037450326644,4.242992485903334,5.380030244347601,5.967240291099103,6.164458242518257,6.29416037041185,6.295960550915998,7.24429063653477,7.53352429967797,7.762898400742816,8.338262545646378,9.004010752018209])                                                                                                                                                                                                                                                                                                                                                                                                                                                                                                                                                                                                                                                                                                                                                                                                                                                                                                                                                                                                                                                                                                                                                                                                                                                                                                                                                                                                                                                                                                                                                                                                                                                                                                                                                                                                                                                                                                                                                                                                                                                                                                                                                                                                                                                                                       |\n",
            "|16482|(262144,[0,3,1857,83034,109640],[0.4201596653036513,2.4214616806258404,6.349627451924723,9.842339942422651,10.217033391864062])                                                                                                                                                                                                                                                                                                                                                                                                                                                                                                                                                                                                                                                                                                                                                                                                                                                                                                                                                                                                                                                                                                                                                                                                                                                                                                                                                                                                                                                                                                                                                                                                                                                                                                                                                                                                                                                                                                                                                                                                                                                                                                                                                                                                                                                                                                                                                                                                                                                                                                                     |\n",
            "|96407|(262144,[0,1,2,3,5,10,37,47,48,57,76,110,128,193,209,212,241,242,259,260,262,473,650,712,782,855,875,1132,1156,1411,1441,1663,1755,1852,1993,2317,2441,2753,4138,4241,4309,4323,4601,5434,5508,5617,5682,5913,6329,7670,8258,9154,10270,10948,12294,15516,16005,22031,26078,26688,27569,34764,42781,43265,44818,46626,49049,49875,60797,63020,79160,79385,84121,93408,133882,139384,168924,180680,185348,188812,197150,206929,218466,238497,238695,238758,246405,246754,250432,256960,259149],[4.201596653036513,6.927944715850966,8.664508435606967,16.950231764380884,2.5355988339301083,2.897228668563434,6.917033269423611,3.592968164064169,3.5116168654447737,3.622619932114284,3.8765137674946843,4.211352200033163,8.242417658863674,4.5303662494271295,4.5135539934338516,4.50540300490956,4.566779562997231,4.898467864486078,4.6718559473845,4.639364006167232,4.685802177355633,5.273444812299272,5.468156485209796,5.384365511253141,5.4912558794578255,11.241991378878486,5.566542255940551,5.782975099096578,5.849889687881891,5.964649616075011,5.9737464949218415,6.112138618746809,6.19493373651529,6.245027681834206,6.308653377714418,6.762726184887959,6.432843757945801,6.581842442863631,13.769657763377717,6.938174862394151,6.931348897323751,6.94850197655,6.945047741681913,7.176849355739238,7.077594397643896,7.146868523527302,7.151096859636823,7.207756893202315,7.272594412697622,7.461637070164654,7.515062236838235,7.552333631635466,7.739731341461281,7.770741578203841,7.852754729864677,8.061051773061893,8.126292294930293,8.571877396827883,8.607595479429962,8.644636751110312,8.723108366551806,8.977342504936047,9.180941460177287,9.213731283000278,9.180941460177287,9.213731283000278,9.282724154487228,9.282724154487228,9.670489685495992,9.57040622693901,9.906878463560222,9.842339942422651,9.906878463560222,9.975871335047174,10.417704087326214,10.417704087326214,10.66901851560712,10.66901851560712,10.66901851560712,10.66901851560712,10.823169195434378,10.823169195434378,10.823169195434378,11.005490752228333,11.005490752228333,11.005490752228333,11.005490752228333,11.005490752228333,11.005490752228333,11.005490752228333,11.005490752228333])                                                                                                                                                                                                                                                                                                                                                                                                                                |\n",
            "|19182|(262144,[1,2,24,930,7253,9851,39613,71340,169854],[2.3093149052836552,2.1661271089017418,3.151730611388649,5.6441985865189075,7.373181649602791,7.659101607061173,9.05958060317302,9.724556906766269,10.66901851560712])                                                                                                                                                                                                                                                                                                                                                                                                                                                                                                                                                                                                                                                                                                                                                                                                                                                                                                                                                                                                                                                                                                                                                                                                                                                                                                                                                                                                                                                                                                                                                                                                                                                                                                                                                                                                                                                                                                                                                                                                                                                                                                                                                                                                                                                                                                                                                                                                                            |\n",
            "|5378 |(262144,[0,1,3,5,14,15,40,45,47,48,197,258,311,330,352,839,907,940,2099,2288,2292,2334,2982,3035,3222,3438,3957,4056,5700,7253,7825,8089,9860,13435,14317,16504,20709,22091,23242,30645,38129,38845,38862,41443,46810,49926,52362,56590,57475,74820,77843,86418,86919,89468,95546,97492,113185,118391,118877,119226,146129,147365,159008,193112,203053,215127,222433,258457],[7.562873975465723,11.546574526418276,14.528770083755042,5.071197667860217,2.8645340182601298,3.0488037450326644,3.4668893188836294,10.485509012752466,14.371872656256675,3.5116168654447737,4.50540300490956,4.6626653560053875,4.788086566504139,84.24896147886093,4.902932157614764,5.60732805071058,5.5938447003732925,5.669877600936599,6.29416037041185,6.38248064811191,6.35534720059751,6.4063386385658045,6.579447232137676,6.651349321043987,6.690672867247901,6.8341851488701035,6.800798132837366,6.837276341439776,7.176849355739238,7.373181649602791,7.416431633396607,7.461637070164654,7.687674979505228,7.942099830200527,8.00975847867434,8.149020546007849,8.395420959486326,8.520584102440333,8.4717939382709,8.786287268173337,9.004010752018209,9.57040622693901,9.05958060317302,9.149192761862706,9.35683212664095,9.282724154487228,9.35683212664095,9.436874834314487,9.479434448733283,9.724556906766269,9.781715320606217,9.906878463560222,9.906878463560222,9.975871335047174,10.217033391864062,10.049979307200896,10.217033391864062,10.417704087326214,10.312343571668388,10.217033391864062,10.535487122982596,10.535487122982596,10.535487122982596,11.005490752228333,10.823169195434378,10.823169195434378,10.823169195434378,11.005490752228333])                                                                                                                                                                                                                                                                                                                                                                                                                                                                                                                                                                                                                                                                                                                                                                                                                                                                                                                                                                               |\n",
            "+-----+----------------------------------------------------------------------------------------------------------------------------------------------------------------------------------------------------------------------------------------------------------------------------------------------------------------------------------------------------------------------------------------------------------------------------------------------------------------------------------------------------------------------------------------------------------------------------------------------------------------------------------------------------------------------------------------------------------------------------------------------------------------------------------------------------------------------------------------------------------------------------------------------------------------------------------------------------------------------------------------------------------------------------------------------------------------------------------------------------------------------------------------------------------------------------------------------------------------------------------------------------------------------------------------------------------------------------------------------------------------------------------------------------------------------------------------------------------------------------------------------------------------------------------------------------------------------------------------------------------------------------------------------------------------------------------------------------------------------------------------------------------------------------------------------------------------------------------------------------------------------------------------------------------------------------------------------------------------------------------------------------------------------------------------------------------------------------------------------------------------------------------------------------------------------------------------------------------------------------------------------------------------------------------------------------------------------------------------------------------------------------------------------------------------------------------------------------------------------------------------------------------------------------------------------------------------------------------------------------------------------------------------------------+\n",
            "only showing top 10 rows\n",
            "\n"
          ]
        }
      ]
    },
    {
      "cell_type": "code",
      "source": [
        "rescaledData.printSchema()"
      ],
      "metadata": {
        "colab": {
          "base_uri": "https://localhost:8080/"
        },
        "id": "fFmd4GfSdEsd",
        "outputId": "58945f97-fe18-4113-ed42-b7d9f0b849c2"
      },
      "execution_count": null,
      "outputs": [
        {
          "output_type": "stream",
          "name": "stdout",
          "text": [
            "root\n",
            " |-- channel_id: integer (nullable = true)\n",
            " |-- id: integer (nullable = true)\n",
            " |-- tg_id: integer (nullable = true)\n",
            " |-- text: string (nullable = true)\n",
            " |-- views: integer (nullable = true)\n",
            " |-- has_image: string (nullable = true)\n",
            " |-- is_forwarded: string (nullable = true)\n",
            " |-- date: string (nullable = true)\n",
            " |-- forwarded_id: string (nullable = true)\n",
            " |-- words: array (nullable = true)\n",
            " |    |-- element: string (containsNull = true)\n",
            " |-- rawFeatures: vector (nullable = true)\n",
            " |-- features: vector (nullable = true)\n",
            "\n"
          ]
        }
      ]
    },
    {
      "cell_type": "markdown",
      "source": [
        "### Word2Vec"
      ],
      "metadata": {
        "id": "EW0ae2e7iyLD"
      }
    },
    {
      "cell_type": "markdown",
      "source": [
        "Обучили IDF на трейне, но мне показалось слегка сложным переворачивать все эти спарс-векторы в нормальные эмбеддинги (всё-таки у нас не совсем ML соревнование), поэтому просто сделаем векторы из 16 значений с помощью Word2Vec"
      ],
      "metadata": {
        "id": "EyDIE2-wfdCb"
      }
    },
    {
      "cell_type": "code",
      "source": [
        "from pyspark.ml.feature import Word2Vec, Tokenizer\n",
        "tokenizer = Tokenizer(inputCol=\"text\", outputCol=\"words\")\n",
        "wordsData = tokenizer.transform(train_data.na.drop().limit(100000))\n",
        "word2Vec = Word2Vec(vectorSize=8, minCount=0, inputCol=\"words\", outputCol=\"embedding\")\n",
        "model = word2Vec.fit(wordsData)\n",
        "result = model.transform(wordsData)\n",
        "result.select('views', 'words', 'embedding').show(10)"
      ],
      "metadata": {
        "colab": {
          "base_uri": "https://localhost:8080/"
        },
        "id": "GkM7uGcBe3Xz",
        "outputId": "597c89ad-5153-439c-be50-0e4b6f1fc2ab"
      },
      "execution_count": null,
      "outputs": [
        {
          "output_type": "stream",
          "name": "stdout",
          "text": [
            "+-----+--------------------+--------------------+\n",
            "|views|               words|           embedding|\n",
            "+-----+--------------------+--------------------+\n",
            "| 8896|[что-то, происход...|[0.64090907573699...|\n",
            "|25487|[почти, на, месяц...|[0.55406442776854...|\n",
            "| 7540|[продление, домаш...|[0.40907601567526...|\n",
            "|26107|[🎉, в, нашей, ко...|[0.61799097994327...|\n",
            "|13902|[мне, сегодня, 33...|[0.54735831943158...|\n",
            "| 5360|[он, всю, жизнь, ...|[0.62124765083487...|\n",
            "|16482|[потрясающий, пос...|[0.32298818246151...|\n",
            "|96407|[🔥, мы, все, люб...|[0.57657012893842...|\n",
            "|19182|[рассмешить, бога...|[0.47459712214767...|\n",
            "| 5378|[темы, для, сочин...|[0.33720478389155...|\n",
            "+-----+--------------------+--------------------+\n",
            "only showing top 10 rows\n",
            "\n"
          ]
        }
      ]
    },
    {
      "cell_type": "code",
      "source": [
        "from pyspark.ml.functions import vector_to_array\n",
        "\n",
        "result.select('embedding').show(10, 0)"
      ],
      "metadata": {
        "colab": {
          "base_uri": "https://localhost:8080/"
        },
        "id": "boJlDnKS53-L",
        "outputId": "47060b71-b4b2-414f-b58d-7df7065f095f"
      },
      "execution_count": null,
      "outputs": [
        {
          "output_type": "stream",
          "name": "stdout",
          "text": [
            "+-----------------------------------------------------------------------------------------------------------------------------------------------------------------------+\n",
            "|embedding                                                                                                                                                              |\n",
            "+-----------------------------------------------------------------------------------------------------------------------------------------------------------------------+\n",
            "|[0.6409090757369995,0.44554550014436245,0.25494077934750486,0.03182462843999798,-0.24103934677051644,0.22111785398530107,-0.31861206569841927,-0.007905179102505955]   |\n",
            "|[0.5540644277685455,0.45405464233564474,0.2817830961596753,-0.051316744348566444,-0.2778834840282798,0.31932257887508186,-0.29362915296639713,-0.02785013012388455]    |\n",
            "|[0.40907601567526014,0.3418647319438957,0.30454823559510613,-0.07707129723782981,-0.2518700982534116,0.3767274333344352,-0.19808456409842737,-4.157861394266928E-4]    |\n",
            "|[0.6179909799432766,0.47103072968976833,0.28176805576575653,-0.041500081589061114,-0.3032644727407762,0.354991830057568,-0.2656546164717939,-0.023670460614893172]     |\n",
            "|[0.5473583194315839,0.38738321768355294,0.27115726634055254,-0.024629019552578582,-0.25500346398368257,0.27003342131501995,-0.2616556929816674,-0.009714440863994558]  |\n",
            "|[0.6212476508348788,0.42666391106812573,0.2746425086240235,-0.04211531545182592,-0.3158646810701803,0.2557143867996178,-0.27565687674244765,-0.019549104139993063]     |\n",
            "|[0.32298818246151006,0.2767668639620145,0.1562385788032164,-4.013087600469589E-4,-0.10019758840401967,0.10231670551002026,-0.09853246590743461,0.03565805808951457]    |\n",
            "|[0.5765701289384221,0.4027512422563811,0.2736622393688458,0.0029696888254525573,-0.21217554576026326,0.23939708839210438,-0.24236813101630947,-0.0044973343720213855]  |\n",
            "|[0.47459712214767935,0.38901358789298685,0.25431030318140985,-0.05948693715035916,-0.1869224525988102,0.27466677837073805,-0.22171114273369313,-0.02831623759120703]   |\n",
            "|[0.33720478389155245,0.32810000869895106,0.16182341321596297,0.016933102386698512,-0.047354442505808225,0.06080409901634116,-0.10709684721419009,-0.022603612213700625]|\n",
            "+-----------------------------------------------------------------------------------------------------------------------------------------------------------------------+\n",
            "only showing top 10 rows\n",
            "\n"
          ]
        }
      ]
    },
    {
      "cell_type": "code",
      "source": [
        "result.select(result.columns+[vector_to_array(F.col('embedding'))[i].alias('value_'+str(i)) for i in range(8)]).show(5)"
      ],
      "metadata": {
        "colab": {
          "base_uri": "https://localhost:8080/"
        },
        "id": "N5ZFaz3S9sGr",
        "outputId": "91c55d7b-560c-459e-cd98-b2721af9999c"
      },
      "execution_count": null,
      "outputs": [
        {
          "output_type": "stream",
          "name": "stdout",
          "text": [
            "+----------+--------+-----+--------------------+-----+---------+------------+--------------------+------------+--------------------+--------------------+-------------------+-------------------+-------------------+--------------------+--------------------+-------------------+--------------------+--------------------+\n",
            "|channel_id|      id|tg_id|                text|views|has_image|is_forwarded|                date|forwarded_id|               words|           embedding|             value0|             value1|             value2|              value3|              value4|             value5|              value6|              value7|\n",
            "+----------+--------+-----+--------------------+-----+---------+------------+--------------------+------------+--------------------+--------------------+-------------------+-------------------+-------------------+--------------------+--------------------+-------------------+--------------------+--------------------+\n",
            "|       221|47504886| 7476|Что-то происходит...| 8896|        f|           t|2018-12-06 15:37:...|    47504885|[что-то, происход...|[0.64090907573699...| 0.6409090757369995|0.44554550014436245|0.25494077934750486| 0.03182462843999798|-0.24103934677051644|0.22111785398530107|-0.31861206569841927|-0.00790517910250...|\n",
            "|       221|47504893| 7470|Почти на месяц от...|25487|        t|           t|2018-12-06 08:56:...|    47504892|[почти, на, месяц...|[0.55406442776854...| 0.5540644277685455|0.45405464233564474| 0.2817830961596753|-0.05131674434856...| -0.2778834840282798|0.31932257887508186|-0.29362915296639713|-0.02785013012388455|\n",
            "|       221|47504895| 7469|Продление домашне...| 7540|        f|           t|2018-12-06 08:31:...|    47504894|[продление, домаш...|[0.40907601567526...|0.40907601567526014| 0.3418647319438957|0.30454823559510613|-0.07707129723782981| -0.2518700982534116| 0.3767274333344352|-0.19808456409842737|-4.15786139426692...|\n",
            "|       221|47504897| 7468|🎉 В нашей команд...|26107|        t|           t|2018-12-06 07:14:...|    47504896|[🎉, в, нашей, ко...|[0.61799097994327...| 0.6179909799432766|0.47103072968976833|0.28176805576575653|-0.04150008158906...| -0.3032644727407762|  0.354991830057568| -0.2656546164717939|-0.02367046061489...|\n",
            "|       221|47504900| 7466|Мне сегодня 33 го...|13902|        f|           t|2018-12-06 06:05:...|    47504899|[мне, сегодня, 33...|[0.54735831943158...| 0.5473583194315839|0.38738321768355294|0.27115726634055254|-0.02462901955257...|-0.25500346398368257|0.27003342131501995| -0.2616556929816674|-0.00971444086399...|\n",
            "+----------+--------+-----+--------------------+-----+---------+------------+--------------------+------------+--------------------+--------------------+-------------------+-------------------+-------------------+--------------------+--------------------+-------------------+--------------------+--------------------+\n",
            "only showing top 5 rows\n",
            "\n"
          ]
        }
      ]
    },
    {
      "cell_type": "code",
      "source": [
        "model.findSynonyms('жизнь', 5).show()"
      ],
      "metadata": {
        "colab": {
          "base_uri": "https://localhost:8080/"
        },
        "id": "O6yGw_DQfbQc",
        "outputId": "5b637368-30b4-4bed-f983-557d6e05e8d5"
      },
      "execution_count": null,
      "outputs": [
        {
          "output_type": "stream",
          "name": "stdout",
          "text": [
            "+--------+------------------+\n",
            "|    word|        similarity|\n",
            "+--------+------------------+\n",
            "|кампании|0.9986969232559204|\n",
            "| недавно|0.9986495971679688|\n",
            "|    этот|0.9983298778533936|\n",
            "|     был|0.9983270764350891|\n",
            "|  решили|0.9982300400733948|\n",
            "+--------+------------------+\n",
            "\n"
          ]
        }
      ]
    },
    {
      "cell_type": "markdown",
      "source": [
        "Видим, что эмбеддинг получился откровенно плохим, но я потратил 3 часа на то, чтобы подобрать длину эмбеддинга и размера сабсэмлпа таким, чтобы тетрадка не падала (локально оч тяжко обучать такое)"
      ],
      "metadata": {
        "id": "FO08olqf2tZb"
      }
    },
    {
      "cell_type": "markdown",
      "source": [
        "### Количество слов и символов"
      ],
      "metadata": {
        "id": "G7x1mlDH2A3t"
      }
    },
    {
      "cell_type": "code",
      "source": [
        "wordsData.withColumn('num_words', F.size('words')).show(10)"
      ],
      "metadata": {
        "colab": {
          "base_uri": "https://localhost:8080/"
        },
        "id": "Qj4g0fUm2AlC",
        "outputId": "95f83bf7-4883-4e44-e923-227121e57728"
      },
      "execution_count": null,
      "outputs": [
        {
          "output_type": "stream",
          "name": "stdout",
          "text": [
            "+----------+--------+-----+--------------------+-----+---------+------------+--------------------+------------+--------------------+---------+\n",
            "|channel_id|      id|tg_id|                text|views|has_image|is_forwarded|                date|forwarded_id|               words|num_words|\n",
            "+----------+--------+-----+--------------------+-----+---------+------------+--------------------+------------+--------------------+---------+\n",
            "|       221|47504886| 7476|Что-то происходит...| 8896|        f|           t|2018-12-06 15:37:...|    47504885|[что-то, происход...|       28|\n",
            "|       221|47504893| 7470|Почти на месяц от...|25487|        t|           t|2018-12-06 08:56:...|    47504892|[почти, на, месяц...|       28|\n",
            "|       221|47504895| 7469|Продление домашне...| 7540|        f|           t|2018-12-06 08:31:...|    47504894|[продление, домаш...|       31|\n",
            "|       221|47504897| 7468|🎉 В нашей команд...|26107|        t|           t|2018-12-06 07:14:...|    47504896|[🎉, в, нашей, ко...|       63|\n",
            "|       221|47504900| 7466|Мне сегодня 33 го...|13902|        f|           t|2018-12-06 06:05:...|    47504899|[мне, сегодня, 33...|      184|\n",
            "|       221|47504909| 7458|он всю жизнь писа...| 5360|        f|           t|2018-12-04 16:00:...|    47504908|[он, всю, жизнь, ...|       19|\n",
            "|       221|47504945| 7430|Потрясающий пост ...|16482|        f|           t|2018-11-30 19:49:...|    47504944|[потрясающий, пос...|        6|\n",
            "|       221|47504915| 7453|🔥 Мы все любим п...|96407|        f|           t|2018-12-03 21:21:...|    47504914|[🔥, мы, все, люб...|      117|\n",
            "|       221|47504920| 7449|Рассмешить Бога -...|19182|        f|           t|2018-12-03 13:19:...|    47504919|[рассмешить, бога...|       10|\n",
            "|       221|47504926| 7444|Темы для сочинени...| 5378|        f|           t|2018-12-02 17:06:...|    47504925|[темы, для, сочин...|      145|\n",
            "+----------+--------+-----+--------------------+-----+---------+------------+--------------------+------------+--------------------+---------+\n",
            "only showing top 10 rows\n",
            "\n"
          ]
        }
      ]
    },
    {
      "cell_type": "code",
      "source": [
        "wordsData.withColumn('num_symbols', F.length('text')).show(10)"
      ],
      "metadata": {
        "colab": {
          "base_uri": "https://localhost:8080/"
        },
        "id": "vaX7q_Lv36Ur",
        "outputId": "140be753-fe0d-4bd4-907d-fc94d0f3fa40"
      },
      "execution_count": null,
      "outputs": [
        {
          "output_type": "stream",
          "name": "stdout",
          "text": [
            "+----------+--------+-----+--------------------+-----+---------+------------+--------------------+------------+--------------------+-----------+\n",
            "|channel_id|      id|tg_id|                text|views|has_image|is_forwarded|                date|forwarded_id|               words|num_symbols|\n",
            "+----------+--------+-----+--------------------+-----+---------+------------+--------------------+------------+--------------------+-----------+\n",
            "|       221|47504886| 7476|Что-то происходит...| 8896|        f|           t|2018-12-06 15:37:...|    47504885|[что-то, происход...|        163|\n",
            "|       221|47504893| 7470|Почти на месяц от...|25487|        t|           t|2018-12-06 08:56:...|    47504892|[почти, на, месяц...|        171|\n",
            "|       221|47504895| 7469|Продление домашне...| 7540|        f|           t|2018-12-06 08:31:...|    47504894|[продление, домаш...|        217|\n",
            "|       221|47504897| 7468|🎉 В нашей команд...|26107|        t|           t|2018-12-06 07:14:...|    47504896|[🎉, в, нашей, ко...|        411|\n",
            "|       221|47504900| 7466|Мне сегодня 33 го...|13902|        f|           t|2018-12-06 06:05:...|    47504899|[мне, сегодня, 33...|       1134|\n",
            "|       221|47504909| 7458|он всю жизнь писа...| 5360|        f|           t|2018-12-04 16:00:...|    47504908|[он, всю, жизнь, ...|        137|\n",
            "|       221|47504945| 7430|Потрясающий пост ...|16482|        f|           t|2018-11-30 19:49:...|    47504944|[потрясающий, пос...|         85|\n",
            "|       221|47504915| 7453|🔥 Мы все любим п...|96407|        f|           t|2018-12-03 21:21:...|    47504914|[🔥, мы, все, люб...|        769|\n",
            "|       221|47504920| 7449|Рассмешить Бога -...|19182|        f|           t|2018-12-03 13:19:...|    47504919|[рассмешить, бога...|         61|\n",
            "|       221|47504926| 7444|Темы для сочинени...| 5378|        f|           t|2018-12-02 17:06:...|    47504925|[темы, для, сочин...|        847|\n",
            "+----------+--------+-----+--------------------+-----+---------+------------+--------------------+------------+--------------------+-----------+\n",
            "only showing top 10 rows\n",
            "\n"
          ]
        }
      ]
    },
    {
      "cell_type": "markdown",
      "metadata": {
        "id": "JUuoBiG9mReA"
      },
      "source": [
        "# make features"
      ]
    },
    {
      "cell_type": "code",
      "source": [
        "train_data.select(train_data.columns).show(5)"
      ],
      "metadata": {
        "colab": {
          "base_uri": "https://localhost:8080/"
        },
        "id": "8UlCbsxx9LlT",
        "outputId": "140d0988-0523-4c67-cd56-113fcc32d8da"
      },
      "execution_count": null,
      "outputs": [
        {
          "output_type": "stream",
          "name": "stdout",
          "text": [
            "+----------+--------+-----+--------------------+-----+---------+------------+--------------------+------------+\n",
            "|channel_id|      id|tg_id|                text|views|has_image|is_forwarded|                date|forwarded_id|\n",
            "+----------+--------+-----+--------------------+-----+---------+------------+--------------------+------------+\n",
            "|       221|29741094| 7182|МК, а это вот про...|15368|        f|           f|2018-11-03 13:05:...|        null|\n",
            "|       221|46751120| 7388|Хочу пошутить, чт...|12448|        f|           f|2018-11-26 16:15:...|        null|\n",
            "|       221|32631368| 5512|Уточню: Котляр бы...|69984|        f|           f|2018-05-16 16:03:...|        null|\n",
            "|       221|46751758| 7173|Да не на два лаге...|10241|        f|           f|2018-11-02 13:45:...|        null|\n",
            "|       221|33073441| 3185|А что касается Уд...|46847|        f|           f|2017-08-10 13:44:...|        null|\n",
            "+----------+--------+-----+--------------------+-----+---------+------------+--------------------+------------+\n",
            "only showing top 5 rows\n",
            "\n"
          ]
        }
      ]
    },
    {
      "cell_type": "code",
      "execution_count": null,
      "metadata": {
        "id": "OAmPEeh2mReA"
      },
      "outputs": [],
      "source": [
        "def make_features(df, model, is_train = True):\n",
        "    cols = ['id', 'has_image', 'is_forwarded', 'post_count', 'user_count', 'previous_views', 'hours_diff', 'num_words', 'num_symbols']+['value_'+str(i) for i in range(8)]\n",
        "    if 'views' in df.columns:\n",
        "      cols.append('views')\n",
        "    # get window_functions\n",
        "    if is_train:\n",
        "      w1 = Window.partitionBy(\"channel_id\").orderBy(\"date\")\n",
        "      df = df.withColumn(\n",
        "                          'previous_views',\n",
        "                          F.lag('views', 1).over(w1)\n",
        "                          ).withColumn(\n",
        "                              'previous_date',\n",
        "                              F.lag('date', 1).over(w1)\n",
        "                          ).withColumn(\n",
        "                              'hours_diff', F.datediff(F.col('date'), F.col('previous_date'))*24 + \n",
        "                              F.hour(F.col('date')) - F.hour(F.col('previous_date'))\n",
        "                          ).fillna(0, subset='hours_diff')\n",
        "      \n",
        "    else:\n",
        "      w1 = Window.partitionBy(\"channel_id\").orderBy(F.desc(\"date\"))\n",
        "      df_prev_views = train_data.withColumn(\n",
        "          \"rn\", \n",
        "          F.row_number().over(w1)\n",
        "      ).filter(\"rn = 1\").select(\n",
        "          \"channel_id\", \n",
        "          F.col(\"views\").alias('previous_views')\n",
        "      )\n",
        "      df = df.hint('merge').join(df_prev_views, on='channel_id', how='left')\n",
        "\n",
        "      w2 = Window.partitionBy(\"channel_id\").orderBy(\"date\")\n",
        "      df = df.withColumn(\n",
        "                          'previous_date',\n",
        "                          F.lag('date', 1).over(w2)\n",
        "                        ).withColumn(\n",
        "                          'hours_diff', F.datediff(F.col('date'), F.col('previous_date'))*24 + \n",
        "                          F.hour(F.col('date')) - F.hour(F.col('previous_date'))\n",
        "                        )\n",
        "    # get text data\n",
        "    tokenizer = Tokenizer(inputCol=\"text\", outputCol=\"words\")\n",
        "    wordsData = tokenizer.transform(df.fillna('', subset='text'))\n",
        "    df = model.transform(wordsData)\n",
        "    df = df.withColumn('num_words', F.size('words'))\\\n",
        "           .withColumn('num_symbols', F.length('text'))\n",
        "    df = df.select(df.columns+[vector_to_array(F.col('embedding'))[i].alias('value_'+str(i)) for i in range(8)])\n",
        "\n",
        "    # get metadata\n",
        "    return df.hint('MERGE').join(channel_data.select('channel_id', 'post_count', 'user_count'),\n",
        "                                 on='channel_id', how='left').select(*cols)"
      ]
    },
    {
      "cell_type": "code",
      "execution_count": null,
      "metadata": {
        "id": "UfUogyYVmReB"
      },
      "outputs": [],
      "source": [
        "train_features = make_features(train_data, model).cache()\n",
        "test_features = make_features(test_data, model, is_train=False).cache()"
      ]
    },
    {
      "cell_type": "code",
      "execution_count": null,
      "metadata": {
        "id": "qzdaeXZmmReB"
      },
      "outputs": [],
      "source": [
        "train_features.write.csv('train_csv', mode='overwrite', header=True)\n",
        "test_features.write.csv('test_csv', mode='overwrite', header=True)"
      ]
    },
    {
      "cell_type": "markdown",
      "metadata": {
        "id": "iV61E5LHmReB"
      },
      "source": [
        "# load features to pandas\n",
        "you also can use .toPandas()"
      ]
    },
    {
      "cell_type": "code",
      "execution_count": null,
      "metadata": {
        "id": "JXjhPvN7mReB"
      },
      "outputs": [],
      "source": [
        "import subprocess\n",
        "import glob\n",
        "import os\n",
        "import shutil\n",
        "import pandas as pd\n",
        "\n",
        "def load_and_merge_csv(path, **kwargs):\n",
        "    dfs = []\n",
        "    for g in glob.glob(os.path.join(path, '*.csv')):\n",
        "        dfs.append(pd.read_csv(g, **kwargs))\n",
        "    res = pd.concat(dfs)\n",
        "    res = res.set_index('id')\n",
        "    return res"
      ]
    },
    {
      "cell_type": "code",
      "execution_count": null,
      "metadata": {
        "id": "jd1zM-GbmReB"
      },
      "outputs": [],
      "source": [
        "trainXY = load_and_merge_csv('train_csv')\n",
        "testX = load_and_merge_csv('test_csv')"
      ]
    },
    {
      "cell_type": "code",
      "source": [
        "assert len(trainXY) == 5460759\n",
        "assert len(testX) == 244386"
      ],
      "metadata": {
        "id": "SQrqWjsaGbPc"
      },
      "execution_count": null,
      "outputs": []
    },
    {
      "cell_type": "code",
      "source": [
        "trainXY.to_csv('trainXY.csv')\n",
        "testX.to_csv('testX.csv')"
      ],
      "metadata": {
        "id": "TJf0oSnwHt8S"
      },
      "execution_count": null,
      "outputs": []
    },
    {
      "cell_type": "code",
      "execution_count": null,
      "metadata": {
        "colab": {
          "base_uri": "https://localhost:8080/",
          "height": 455
        },
        "id": "W0RANpqnmReB",
        "outputId": "15454457-fbe8-4a52-9a1c-8da9a6ef07bf"
      },
      "outputs": [
        {
          "output_type": "execute_result",
          "data": {
            "text/plain": [
              "         has_image is_forwarded  post_count  user_count  previous_views  \\\n",
              "id                                                                        \n",
              "55551719         f            f      3263.0     22031.0        7.828835   \n",
              "55551718         f            f      3263.0     22031.0        7.828835   \n",
              "55551717         t            f      3263.0     22031.0        7.828835   \n",
              "55551716         f            f      3263.0     22031.0        7.828835   \n",
              "55551715         f            f      3263.0     22031.0        7.828835   \n",
              "...            ...          ...         ...         ...             ...   \n",
              "54339831         t            f      5520.0     31307.0        9.307649   \n",
              "54339830         f            f      5520.0     31307.0        9.307649   \n",
              "54339829         t            f      5520.0     31307.0        9.307649   \n",
              "54339828         t            f      5520.0     31307.0        9.307649   \n",
              "54339827         f            f      5520.0     31307.0        9.307649   \n",
              "\n",
              "          hours_diff  num_words  num_symbols   value_0   value_1   value_2  \\\n",
              "id                                                                           \n",
              "55551719         NaN         82          263  0.063041 -0.053459  0.097793   \n",
              "55551718         2.0        364         2072  0.245435  0.116299 -0.057973   \n",
              "55551717         1.0         14           82  0.156229 -0.218294  0.358031   \n",
              "55551716        21.0         82          265  0.056489 -0.051801  0.080355   \n",
              "55551715         3.0        193         1285  0.365334  0.124548 -0.020882   \n",
              "...              ...        ...          ...       ...       ...       ...   \n",
              "54339831         1.0          2           21  0.123210 -0.299690  0.315246   \n",
              "54339830         2.0         54          323 -0.082001 -0.280044  0.285495   \n",
              "54339829         0.0          2           21  0.123210 -0.299690  0.315246   \n",
              "54339828         2.0          2           21  0.123210 -0.299690  0.315246   \n",
              "54339827         1.0         15           94 -0.050432 -0.190659  0.231415   \n",
              "\n",
              "           value_3   value_4   value_5   value_6   value_7  \n",
              "id                                                          \n",
              "55551719  0.262953  0.451420 -0.302397  0.202642  0.069636  \n",
              "55551718  0.413628  0.459964 -0.715440  0.089699  0.401273  \n",
              "55551717  0.572588  0.606249 -0.051025  0.065492  0.138971  \n",
              "55551716  0.248718  0.436097 -0.306593  0.209770  0.069361  \n",
              "55551715  0.507938  0.483123 -0.904052  0.049493  0.538547  \n",
              "...            ...       ...       ...       ...       ...  \n",
              "54339831  0.155282  0.421593 -0.147286 -0.045698 -0.020093  \n",
              "54339830 -0.154134 -0.528002 -0.461804  0.652957  0.004114  \n",
              "54339829  0.155282  0.421593 -0.147286 -0.045698 -0.020093  \n",
              "54339828  0.155282  0.421593 -0.147286 -0.045698 -0.020093  \n",
              "54339827 -0.079998 -0.380962 -0.329811  0.487827  0.016447  \n",
              "\n",
              "[244386 rows x 16 columns]"
            ],
            "text/html": [
              "\n",
              "  <div id=\"df-2280be65-350a-4354-a8a4-399c4ed06fd0\">\n",
              "    <div class=\"colab-df-container\">\n",
              "      <div>\n",
              "<style scoped>\n",
              "    .dataframe tbody tr th:only-of-type {\n",
              "        vertical-align: middle;\n",
              "    }\n",
              "\n",
              "    .dataframe tbody tr th {\n",
              "        vertical-align: top;\n",
              "    }\n",
              "\n",
              "    .dataframe thead th {\n",
              "        text-align: right;\n",
              "    }\n",
              "</style>\n",
              "<table border=\"1\" class=\"dataframe\">\n",
              "  <thead>\n",
              "    <tr style=\"text-align: right;\">\n",
              "      <th></th>\n",
              "      <th>has_image</th>\n",
              "      <th>is_forwarded</th>\n",
              "      <th>post_count</th>\n",
              "      <th>user_count</th>\n",
              "      <th>previous_views</th>\n",
              "      <th>hours_diff</th>\n",
              "      <th>num_words</th>\n",
              "      <th>num_symbols</th>\n",
              "      <th>value_0</th>\n",
              "      <th>value_1</th>\n",
              "      <th>value_2</th>\n",
              "      <th>value_3</th>\n",
              "      <th>value_4</th>\n",
              "      <th>value_5</th>\n",
              "      <th>value_6</th>\n",
              "      <th>value_7</th>\n",
              "    </tr>\n",
              "    <tr>\n",
              "      <th>id</th>\n",
              "      <th></th>\n",
              "      <th></th>\n",
              "      <th></th>\n",
              "      <th></th>\n",
              "      <th></th>\n",
              "      <th></th>\n",
              "      <th></th>\n",
              "      <th></th>\n",
              "      <th></th>\n",
              "      <th></th>\n",
              "      <th></th>\n",
              "      <th></th>\n",
              "      <th></th>\n",
              "      <th></th>\n",
              "      <th></th>\n",
              "      <th></th>\n",
              "    </tr>\n",
              "  </thead>\n",
              "  <tbody>\n",
              "    <tr>\n",
              "      <th>55551719</th>\n",
              "      <td>f</td>\n",
              "      <td>f</td>\n",
              "      <td>3263.0</td>\n",
              "      <td>22031.0</td>\n",
              "      <td>7.828835</td>\n",
              "      <td>NaN</td>\n",
              "      <td>82</td>\n",
              "      <td>263</td>\n",
              "      <td>0.063041</td>\n",
              "      <td>-0.053459</td>\n",
              "      <td>0.097793</td>\n",
              "      <td>0.262953</td>\n",
              "      <td>0.451420</td>\n",
              "      <td>-0.302397</td>\n",
              "      <td>0.202642</td>\n",
              "      <td>0.069636</td>\n",
              "    </tr>\n",
              "    <tr>\n",
              "      <th>55551718</th>\n",
              "      <td>f</td>\n",
              "      <td>f</td>\n",
              "      <td>3263.0</td>\n",
              "      <td>22031.0</td>\n",
              "      <td>7.828835</td>\n",
              "      <td>2.0</td>\n",
              "      <td>364</td>\n",
              "      <td>2072</td>\n",
              "      <td>0.245435</td>\n",
              "      <td>0.116299</td>\n",
              "      <td>-0.057973</td>\n",
              "      <td>0.413628</td>\n",
              "      <td>0.459964</td>\n",
              "      <td>-0.715440</td>\n",
              "      <td>0.089699</td>\n",
              "      <td>0.401273</td>\n",
              "    </tr>\n",
              "    <tr>\n",
              "      <th>55551717</th>\n",
              "      <td>t</td>\n",
              "      <td>f</td>\n",
              "      <td>3263.0</td>\n",
              "      <td>22031.0</td>\n",
              "      <td>7.828835</td>\n",
              "      <td>1.0</td>\n",
              "      <td>14</td>\n",
              "      <td>82</td>\n",
              "      <td>0.156229</td>\n",
              "      <td>-0.218294</td>\n",
              "      <td>0.358031</td>\n",
              "      <td>0.572588</td>\n",
              "      <td>0.606249</td>\n",
              "      <td>-0.051025</td>\n",
              "      <td>0.065492</td>\n",
              "      <td>0.138971</td>\n",
              "    </tr>\n",
              "    <tr>\n",
              "      <th>55551716</th>\n",
              "      <td>f</td>\n",
              "      <td>f</td>\n",
              "      <td>3263.0</td>\n",
              "      <td>22031.0</td>\n",
              "      <td>7.828835</td>\n",
              "      <td>21.0</td>\n",
              "      <td>82</td>\n",
              "      <td>265</td>\n",
              "      <td>0.056489</td>\n",
              "      <td>-0.051801</td>\n",
              "      <td>0.080355</td>\n",
              "      <td>0.248718</td>\n",
              "      <td>0.436097</td>\n",
              "      <td>-0.306593</td>\n",
              "      <td>0.209770</td>\n",
              "      <td>0.069361</td>\n",
              "    </tr>\n",
              "    <tr>\n",
              "      <th>55551715</th>\n",
              "      <td>f</td>\n",
              "      <td>f</td>\n",
              "      <td>3263.0</td>\n",
              "      <td>22031.0</td>\n",
              "      <td>7.828835</td>\n",
              "      <td>3.0</td>\n",
              "      <td>193</td>\n",
              "      <td>1285</td>\n",
              "      <td>0.365334</td>\n",
              "      <td>0.124548</td>\n",
              "      <td>-0.020882</td>\n",
              "      <td>0.507938</td>\n",
              "      <td>0.483123</td>\n",
              "      <td>-0.904052</td>\n",
              "      <td>0.049493</td>\n",
              "      <td>0.538547</td>\n",
              "    </tr>\n",
              "    <tr>\n",
              "      <th>...</th>\n",
              "      <td>...</td>\n",
              "      <td>...</td>\n",
              "      <td>...</td>\n",
              "      <td>...</td>\n",
              "      <td>...</td>\n",
              "      <td>...</td>\n",
              "      <td>...</td>\n",
              "      <td>...</td>\n",
              "      <td>...</td>\n",
              "      <td>...</td>\n",
              "      <td>...</td>\n",
              "      <td>...</td>\n",
              "      <td>...</td>\n",
              "      <td>...</td>\n",
              "      <td>...</td>\n",
              "      <td>...</td>\n",
              "    </tr>\n",
              "    <tr>\n",
              "      <th>54339831</th>\n",
              "      <td>t</td>\n",
              "      <td>f</td>\n",
              "      <td>5520.0</td>\n",
              "      <td>31307.0</td>\n",
              "      <td>9.307649</td>\n",
              "      <td>1.0</td>\n",
              "      <td>2</td>\n",
              "      <td>21</td>\n",
              "      <td>0.123210</td>\n",
              "      <td>-0.299690</td>\n",
              "      <td>0.315246</td>\n",
              "      <td>0.155282</td>\n",
              "      <td>0.421593</td>\n",
              "      <td>-0.147286</td>\n",
              "      <td>-0.045698</td>\n",
              "      <td>-0.020093</td>\n",
              "    </tr>\n",
              "    <tr>\n",
              "      <th>54339830</th>\n",
              "      <td>f</td>\n",
              "      <td>f</td>\n",
              "      <td>5520.0</td>\n",
              "      <td>31307.0</td>\n",
              "      <td>9.307649</td>\n",
              "      <td>2.0</td>\n",
              "      <td>54</td>\n",
              "      <td>323</td>\n",
              "      <td>-0.082001</td>\n",
              "      <td>-0.280044</td>\n",
              "      <td>0.285495</td>\n",
              "      <td>-0.154134</td>\n",
              "      <td>-0.528002</td>\n",
              "      <td>-0.461804</td>\n",
              "      <td>0.652957</td>\n",
              "      <td>0.004114</td>\n",
              "    </tr>\n",
              "    <tr>\n",
              "      <th>54339829</th>\n",
              "      <td>t</td>\n",
              "      <td>f</td>\n",
              "      <td>5520.0</td>\n",
              "      <td>31307.0</td>\n",
              "      <td>9.307649</td>\n",
              "      <td>0.0</td>\n",
              "      <td>2</td>\n",
              "      <td>21</td>\n",
              "      <td>0.123210</td>\n",
              "      <td>-0.299690</td>\n",
              "      <td>0.315246</td>\n",
              "      <td>0.155282</td>\n",
              "      <td>0.421593</td>\n",
              "      <td>-0.147286</td>\n",
              "      <td>-0.045698</td>\n",
              "      <td>-0.020093</td>\n",
              "    </tr>\n",
              "    <tr>\n",
              "      <th>54339828</th>\n",
              "      <td>t</td>\n",
              "      <td>f</td>\n",
              "      <td>5520.0</td>\n",
              "      <td>31307.0</td>\n",
              "      <td>9.307649</td>\n",
              "      <td>2.0</td>\n",
              "      <td>2</td>\n",
              "      <td>21</td>\n",
              "      <td>0.123210</td>\n",
              "      <td>-0.299690</td>\n",
              "      <td>0.315246</td>\n",
              "      <td>0.155282</td>\n",
              "      <td>0.421593</td>\n",
              "      <td>-0.147286</td>\n",
              "      <td>-0.045698</td>\n",
              "      <td>-0.020093</td>\n",
              "    </tr>\n",
              "    <tr>\n",
              "      <th>54339827</th>\n",
              "      <td>f</td>\n",
              "      <td>f</td>\n",
              "      <td>5520.0</td>\n",
              "      <td>31307.0</td>\n",
              "      <td>9.307649</td>\n",
              "      <td>1.0</td>\n",
              "      <td>15</td>\n",
              "      <td>94</td>\n",
              "      <td>-0.050432</td>\n",
              "      <td>-0.190659</td>\n",
              "      <td>0.231415</td>\n",
              "      <td>-0.079998</td>\n",
              "      <td>-0.380962</td>\n",
              "      <td>-0.329811</td>\n",
              "      <td>0.487827</td>\n",
              "      <td>0.016447</td>\n",
              "    </tr>\n",
              "  </tbody>\n",
              "</table>\n",
              "<p>244386 rows × 16 columns</p>\n",
              "</div>\n",
              "      <button class=\"colab-df-convert\" onclick=\"convertToInteractive('df-2280be65-350a-4354-a8a4-399c4ed06fd0')\"\n",
              "              title=\"Convert this dataframe to an interactive table.\"\n",
              "              style=\"display:none;\">\n",
              "        \n",
              "  <svg xmlns=\"http://www.w3.org/2000/svg\" height=\"24px\"viewBox=\"0 0 24 24\"\n",
              "       width=\"24px\">\n",
              "    <path d=\"M0 0h24v24H0V0z\" fill=\"none\"/>\n",
              "    <path d=\"M18.56 5.44l.94 2.06.94-2.06 2.06-.94-2.06-.94-.94-2.06-.94 2.06-2.06.94zm-11 1L8.5 8.5l.94-2.06 2.06-.94-2.06-.94L8.5 2.5l-.94 2.06-2.06.94zm10 10l.94 2.06.94-2.06 2.06-.94-2.06-.94-.94-2.06-.94 2.06-2.06.94z\"/><path d=\"M17.41 7.96l-1.37-1.37c-.4-.4-.92-.59-1.43-.59-.52 0-1.04.2-1.43.59L10.3 9.45l-7.72 7.72c-.78.78-.78 2.05 0 2.83L4 21.41c.39.39.9.59 1.41.59.51 0 1.02-.2 1.41-.59l7.78-7.78 2.81-2.81c.8-.78.8-2.07 0-2.86zM5.41 20L4 18.59l7.72-7.72 1.47 1.35L5.41 20z\"/>\n",
              "  </svg>\n",
              "      </button>\n",
              "      \n",
              "  <style>\n",
              "    .colab-df-container {\n",
              "      display:flex;\n",
              "      flex-wrap:wrap;\n",
              "      gap: 12px;\n",
              "    }\n",
              "\n",
              "    .colab-df-convert {\n",
              "      background-color: #E8F0FE;\n",
              "      border: none;\n",
              "      border-radius: 50%;\n",
              "      cursor: pointer;\n",
              "      display: none;\n",
              "      fill: #1967D2;\n",
              "      height: 32px;\n",
              "      padding: 0 0 0 0;\n",
              "      width: 32px;\n",
              "    }\n",
              "\n",
              "    .colab-df-convert:hover {\n",
              "      background-color: #E2EBFA;\n",
              "      box-shadow: 0px 1px 2px rgba(60, 64, 67, 0.3), 0px 1px 3px 1px rgba(60, 64, 67, 0.15);\n",
              "      fill: #174EA6;\n",
              "    }\n",
              "\n",
              "    [theme=dark] .colab-df-convert {\n",
              "      background-color: #3B4455;\n",
              "      fill: #D2E3FC;\n",
              "    }\n",
              "\n",
              "    [theme=dark] .colab-df-convert:hover {\n",
              "      background-color: #434B5C;\n",
              "      box-shadow: 0px 1px 3px 1px rgba(0, 0, 0, 0.15);\n",
              "      filter: drop-shadow(0px 1px 2px rgba(0, 0, 0, 0.3));\n",
              "      fill: #FFFFFF;\n",
              "    }\n",
              "  </style>\n",
              "\n",
              "      <script>\n",
              "        const buttonEl =\n",
              "          document.querySelector('#df-2280be65-350a-4354-a8a4-399c4ed06fd0 button.colab-df-convert');\n",
              "        buttonEl.style.display =\n",
              "          google.colab.kernel.accessAllowed ? 'block' : 'none';\n",
              "\n",
              "        async function convertToInteractive(key) {\n",
              "          const element = document.querySelector('#df-2280be65-350a-4354-a8a4-399c4ed06fd0');\n",
              "          const dataTable =\n",
              "            await google.colab.kernel.invokeFunction('convertToInteractive',\n",
              "                                                     [key], {});\n",
              "          if (!dataTable) return;\n",
              "\n",
              "          const docLinkHtml = 'Like what you see? Visit the ' +\n",
              "            '<a target=\"_blank\" href=https://colab.research.google.com/notebooks/data_table.ipynb>data table notebook</a>'\n",
              "            + ' to learn more about interactive tables.';\n",
              "          element.innerHTML = '';\n",
              "          dataTable['output_type'] = 'display_data';\n",
              "          await google.colab.output.renderOutput(dataTable, element);\n",
              "          const docLink = document.createElement('div');\n",
              "          docLink.innerHTML = docLinkHtml;\n",
              "          element.appendChild(docLink);\n",
              "        }\n",
              "      </script>\n",
              "    </div>\n",
              "  </div>\n",
              "  "
            ]
          },
          "metadata": {},
          "execution_count": 68
        }
      ],
      "source": [
        "import numpy as np\n",
        "\n",
        "Ycol = 'views'\n",
        "#to_drop = ['channel_id']\n",
        "trainX, trainY = trainXY.drop(Ycol, axis=1), trainXY[Ycol]\n",
        "trainY = np.log(trainY + 100)\n",
        "trainX['previous_views'] = np.log(trainX['previous_views']+100)\n",
        "testX['previous_views'] = np.log(testX['previous_views']+100)\n",
        "\n",
        "testX"
      ]
    },
    {
      "cell_type": "code",
      "source": [
        "trainX_dummy = pd.get_dummies(trainX)\n",
        "testX_dummy = pd.get_dummies(testX)"
      ],
      "metadata": {
        "id": "KRCTyP0uyeqm"
      },
      "execution_count": null,
      "outputs": []
    },
    {
      "cell_type": "markdown",
      "source": [
        "## Заполняем пропуски, образованные оконными функциями\n",
        "\n",
        "Они остались в трейне у prev_views и в тесте у hour_diff"
      ],
      "metadata": {
        "id": "XuNZpYPfC-CD"
      }
    },
    {
      "cell_type": "code",
      "source": [
        "testX_dummy.loc[testX_dummy.isna().any(axis=1), 'hours_diff'] = 1"
      ],
      "metadata": {
        "id": "-VL2bKllDCxq"
      },
      "execution_count": null,
      "outputs": []
    },
    {
      "cell_type": "code",
      "source": [
        "trainX_dummy.loc[trainX_dummy.isna().any(axis=1), 'previous_views'] = trainX.user_count"
      ],
      "metadata": {
        "id": "jm_SQUQ5I6VB"
      },
      "execution_count": null,
      "outputs": []
    },
    {
      "cell_type": "code",
      "source": [
        "display(trainX_dummy.head())\n",
        "display(testX_dummy.head())"
      ],
      "metadata": {
        "colab": {
          "base_uri": "https://localhost:8080/",
          "height": 522
        },
        "id": "XfTFdwIZJPiK",
        "outputId": "a79c9f27-44dc-459d-863e-e1a189cbc362"
      },
      "execution_count": null,
      "outputs": [
        {
          "output_type": "display_data",
          "data": {
            "text/plain": [
              "          post_count  user_count  previous_views  hours_diff  num_words  \\\n",
              "id                                                                        \n",
              "36767705      1740.0      5239.0     5239.000000           0        564   \n",
              "36767704      1740.0      5239.0        7.042286           0          1   \n",
              "36767703      1740.0      5239.0        6.511745           4         14   \n",
              "36767701      1740.0      5239.0        6.442540           0          1   \n",
              "36767702      1740.0      5239.0        6.426488           0          1   \n",
              "\n",
              "          num_symbols   value_0   value_1   value_2   value_3   value_4  \\\n",
              "id                                                                        \n",
              "36767705         3367  0.584264  0.442228  0.285028 -0.041272 -0.281022   \n",
              "36767704            0  0.127917  0.008344 -0.088678  0.407034  0.486937   \n",
              "36767703           92  0.468187  0.334175  0.215203 -0.060529 -0.217840   \n",
              "36767701            0  0.127917  0.008344 -0.088678  0.407034  0.486937   \n",
              "36767702            0  0.127917  0.008344 -0.088678  0.407034  0.486937   \n",
              "\n",
              "           value_5   value_6   value_7  has_image_f  has_image_t  \\\n",
              "id                                                                 \n",
              "36767705  0.292980 -0.283847 -0.026415            1            0   \n",
              "36767704 -0.530228  0.131235  0.153080            0            1   \n",
              "36767703  0.239585 -0.205511  0.005329            1            0   \n",
              "36767701 -0.530228  0.131235  0.153080            0            1   \n",
              "36767702 -0.530228  0.131235  0.153080            0            1   \n",
              "\n",
              "          is_forwarded_f  is_forwarded_t  \n",
              "id                                        \n",
              "36767705               1               0  \n",
              "36767704               1               0  \n",
              "36767703               1               0  \n",
              "36767701               1               0  \n",
              "36767702               1               0  "
            ],
            "text/html": [
              "\n",
              "  <div id=\"df-03bc2f85-35f6-4d3a-bf0f-5404c92d9e25\">\n",
              "    <div class=\"colab-df-container\">\n",
              "      <div>\n",
              "<style scoped>\n",
              "    .dataframe tbody tr th:only-of-type {\n",
              "        vertical-align: middle;\n",
              "    }\n",
              "\n",
              "    .dataframe tbody tr th {\n",
              "        vertical-align: top;\n",
              "    }\n",
              "\n",
              "    .dataframe thead th {\n",
              "        text-align: right;\n",
              "    }\n",
              "</style>\n",
              "<table border=\"1\" class=\"dataframe\">\n",
              "  <thead>\n",
              "    <tr style=\"text-align: right;\">\n",
              "      <th></th>\n",
              "      <th>post_count</th>\n",
              "      <th>user_count</th>\n",
              "      <th>previous_views</th>\n",
              "      <th>hours_diff</th>\n",
              "      <th>num_words</th>\n",
              "      <th>num_symbols</th>\n",
              "      <th>value_0</th>\n",
              "      <th>value_1</th>\n",
              "      <th>value_2</th>\n",
              "      <th>value_3</th>\n",
              "      <th>value_4</th>\n",
              "      <th>value_5</th>\n",
              "      <th>value_6</th>\n",
              "      <th>value_7</th>\n",
              "      <th>has_image_f</th>\n",
              "      <th>has_image_t</th>\n",
              "      <th>is_forwarded_f</th>\n",
              "      <th>is_forwarded_t</th>\n",
              "    </tr>\n",
              "    <tr>\n",
              "      <th>id</th>\n",
              "      <th></th>\n",
              "      <th></th>\n",
              "      <th></th>\n",
              "      <th></th>\n",
              "      <th></th>\n",
              "      <th></th>\n",
              "      <th></th>\n",
              "      <th></th>\n",
              "      <th></th>\n",
              "      <th></th>\n",
              "      <th></th>\n",
              "      <th></th>\n",
              "      <th></th>\n",
              "      <th></th>\n",
              "      <th></th>\n",
              "      <th></th>\n",
              "      <th></th>\n",
              "      <th></th>\n",
              "    </tr>\n",
              "  </thead>\n",
              "  <tbody>\n",
              "    <tr>\n",
              "      <th>36767705</th>\n",
              "      <td>1740.0</td>\n",
              "      <td>5239.0</td>\n",
              "      <td>5239.000000</td>\n",
              "      <td>0</td>\n",
              "      <td>564</td>\n",
              "      <td>3367</td>\n",
              "      <td>0.584264</td>\n",
              "      <td>0.442228</td>\n",
              "      <td>0.285028</td>\n",
              "      <td>-0.041272</td>\n",
              "      <td>-0.281022</td>\n",
              "      <td>0.292980</td>\n",
              "      <td>-0.283847</td>\n",
              "      <td>-0.026415</td>\n",
              "      <td>1</td>\n",
              "      <td>0</td>\n",
              "      <td>1</td>\n",
              "      <td>0</td>\n",
              "    </tr>\n",
              "    <tr>\n",
              "      <th>36767704</th>\n",
              "      <td>1740.0</td>\n",
              "      <td>5239.0</td>\n",
              "      <td>7.042286</td>\n",
              "      <td>0</td>\n",
              "      <td>1</td>\n",
              "      <td>0</td>\n",
              "      <td>0.127917</td>\n",
              "      <td>0.008344</td>\n",
              "      <td>-0.088678</td>\n",
              "      <td>0.407034</td>\n",
              "      <td>0.486937</td>\n",
              "      <td>-0.530228</td>\n",
              "      <td>0.131235</td>\n",
              "      <td>0.153080</td>\n",
              "      <td>0</td>\n",
              "      <td>1</td>\n",
              "      <td>1</td>\n",
              "      <td>0</td>\n",
              "    </tr>\n",
              "    <tr>\n",
              "      <th>36767703</th>\n",
              "      <td>1740.0</td>\n",
              "      <td>5239.0</td>\n",
              "      <td>6.511745</td>\n",
              "      <td>4</td>\n",
              "      <td>14</td>\n",
              "      <td>92</td>\n",
              "      <td>0.468187</td>\n",
              "      <td>0.334175</td>\n",
              "      <td>0.215203</td>\n",
              "      <td>-0.060529</td>\n",
              "      <td>-0.217840</td>\n",
              "      <td>0.239585</td>\n",
              "      <td>-0.205511</td>\n",
              "      <td>0.005329</td>\n",
              "      <td>1</td>\n",
              "      <td>0</td>\n",
              "      <td>1</td>\n",
              "      <td>0</td>\n",
              "    </tr>\n",
              "    <tr>\n",
              "      <th>36767701</th>\n",
              "      <td>1740.0</td>\n",
              "      <td>5239.0</td>\n",
              "      <td>6.442540</td>\n",
              "      <td>0</td>\n",
              "      <td>1</td>\n",
              "      <td>0</td>\n",
              "      <td>0.127917</td>\n",
              "      <td>0.008344</td>\n",
              "      <td>-0.088678</td>\n",
              "      <td>0.407034</td>\n",
              "      <td>0.486937</td>\n",
              "      <td>-0.530228</td>\n",
              "      <td>0.131235</td>\n",
              "      <td>0.153080</td>\n",
              "      <td>0</td>\n",
              "      <td>1</td>\n",
              "      <td>1</td>\n",
              "      <td>0</td>\n",
              "    </tr>\n",
              "    <tr>\n",
              "      <th>36767702</th>\n",
              "      <td>1740.0</td>\n",
              "      <td>5239.0</td>\n",
              "      <td>6.426488</td>\n",
              "      <td>0</td>\n",
              "      <td>1</td>\n",
              "      <td>0</td>\n",
              "      <td>0.127917</td>\n",
              "      <td>0.008344</td>\n",
              "      <td>-0.088678</td>\n",
              "      <td>0.407034</td>\n",
              "      <td>0.486937</td>\n",
              "      <td>-0.530228</td>\n",
              "      <td>0.131235</td>\n",
              "      <td>0.153080</td>\n",
              "      <td>0</td>\n",
              "      <td>1</td>\n",
              "      <td>1</td>\n",
              "      <td>0</td>\n",
              "    </tr>\n",
              "  </tbody>\n",
              "</table>\n",
              "</div>\n",
              "      <button class=\"colab-df-convert\" onclick=\"convertToInteractive('df-03bc2f85-35f6-4d3a-bf0f-5404c92d9e25')\"\n",
              "              title=\"Convert this dataframe to an interactive table.\"\n",
              "              style=\"display:none;\">\n",
              "        \n",
              "  <svg xmlns=\"http://www.w3.org/2000/svg\" height=\"24px\"viewBox=\"0 0 24 24\"\n",
              "       width=\"24px\">\n",
              "    <path d=\"M0 0h24v24H0V0z\" fill=\"none\"/>\n",
              "    <path d=\"M18.56 5.44l.94 2.06.94-2.06 2.06-.94-2.06-.94-.94-2.06-.94 2.06-2.06.94zm-11 1L8.5 8.5l.94-2.06 2.06-.94-2.06-.94L8.5 2.5l-.94 2.06-2.06.94zm10 10l.94 2.06.94-2.06 2.06-.94-2.06-.94-.94-2.06-.94 2.06-2.06.94z\"/><path d=\"M17.41 7.96l-1.37-1.37c-.4-.4-.92-.59-1.43-.59-.52 0-1.04.2-1.43.59L10.3 9.45l-7.72 7.72c-.78.78-.78 2.05 0 2.83L4 21.41c.39.39.9.59 1.41.59.51 0 1.02-.2 1.41-.59l7.78-7.78 2.81-2.81c.8-.78.8-2.07 0-2.86zM5.41 20L4 18.59l7.72-7.72 1.47 1.35L5.41 20z\"/>\n",
              "  </svg>\n",
              "      </button>\n",
              "      \n",
              "  <style>\n",
              "    .colab-df-container {\n",
              "      display:flex;\n",
              "      flex-wrap:wrap;\n",
              "      gap: 12px;\n",
              "    }\n",
              "\n",
              "    .colab-df-convert {\n",
              "      background-color: #E8F0FE;\n",
              "      border: none;\n",
              "      border-radius: 50%;\n",
              "      cursor: pointer;\n",
              "      display: none;\n",
              "      fill: #1967D2;\n",
              "      height: 32px;\n",
              "      padding: 0 0 0 0;\n",
              "      width: 32px;\n",
              "    }\n",
              "\n",
              "    .colab-df-convert:hover {\n",
              "      background-color: #E2EBFA;\n",
              "      box-shadow: 0px 1px 2px rgba(60, 64, 67, 0.3), 0px 1px 3px 1px rgba(60, 64, 67, 0.15);\n",
              "      fill: #174EA6;\n",
              "    }\n",
              "\n",
              "    [theme=dark] .colab-df-convert {\n",
              "      background-color: #3B4455;\n",
              "      fill: #D2E3FC;\n",
              "    }\n",
              "\n",
              "    [theme=dark] .colab-df-convert:hover {\n",
              "      background-color: #434B5C;\n",
              "      box-shadow: 0px 1px 3px 1px rgba(0, 0, 0, 0.15);\n",
              "      filter: drop-shadow(0px 1px 2px rgba(0, 0, 0, 0.3));\n",
              "      fill: #FFFFFF;\n",
              "    }\n",
              "  </style>\n",
              "\n",
              "      <script>\n",
              "        const buttonEl =\n",
              "          document.querySelector('#df-03bc2f85-35f6-4d3a-bf0f-5404c92d9e25 button.colab-df-convert');\n",
              "        buttonEl.style.display =\n",
              "          google.colab.kernel.accessAllowed ? 'block' : 'none';\n",
              "\n",
              "        async function convertToInteractive(key) {\n",
              "          const element = document.querySelector('#df-03bc2f85-35f6-4d3a-bf0f-5404c92d9e25');\n",
              "          const dataTable =\n",
              "            await google.colab.kernel.invokeFunction('convertToInteractive',\n",
              "                                                     [key], {});\n",
              "          if (!dataTable) return;\n",
              "\n",
              "          const docLinkHtml = 'Like what you see? Visit the ' +\n",
              "            '<a target=\"_blank\" href=https://colab.research.google.com/notebooks/data_table.ipynb>data table notebook</a>'\n",
              "            + ' to learn more about interactive tables.';\n",
              "          element.innerHTML = '';\n",
              "          dataTable['output_type'] = 'display_data';\n",
              "          await google.colab.output.renderOutput(dataTable, element);\n",
              "          const docLink = document.createElement('div');\n",
              "          docLink.innerHTML = docLinkHtml;\n",
              "          element.appendChild(docLink);\n",
              "        }\n",
              "      </script>\n",
              "    </div>\n",
              "  </div>\n",
              "  "
            ]
          },
          "metadata": {}
        },
        {
          "output_type": "display_data",
          "data": {
            "text/plain": [
              "          post_count  user_count  previous_views  hours_diff  num_words  \\\n",
              "id                                                                        \n",
              "55551719      3263.0     22031.0        7.828835         1.0         82   \n",
              "55551718      3263.0     22031.0        7.828835         2.0        364   \n",
              "55551717      3263.0     22031.0        7.828835         1.0         14   \n",
              "55551716      3263.0     22031.0        7.828835        21.0         82   \n",
              "55551715      3263.0     22031.0        7.828835         3.0        193   \n",
              "\n",
              "          num_symbols   value_0   value_1   value_2   value_3   value_4  \\\n",
              "id                                                                        \n",
              "55551719          263  0.063041 -0.053459  0.097793  0.262953  0.451420   \n",
              "55551718         2072  0.245435  0.116299 -0.057973  0.413628  0.459964   \n",
              "55551717           82  0.156229 -0.218294  0.358031  0.572588  0.606249   \n",
              "55551716          265  0.056489 -0.051801  0.080355  0.248718  0.436097   \n",
              "55551715         1285  0.365334  0.124548 -0.020882  0.507938  0.483123   \n",
              "\n",
              "           value_5   value_6   value_7  has_image_f  has_image_t  \\\n",
              "id                                                                 \n",
              "55551719 -0.302397  0.202642  0.069636            1            0   \n",
              "55551718 -0.715440  0.089699  0.401273            1            0   \n",
              "55551717 -0.051025  0.065492  0.138971            0            1   \n",
              "55551716 -0.306593  0.209770  0.069361            1            0   \n",
              "55551715 -0.904052  0.049493  0.538547            1            0   \n",
              "\n",
              "          is_forwarded_f  is_forwarded_t  \n",
              "id                                        \n",
              "55551719               1               0  \n",
              "55551718               1               0  \n",
              "55551717               1               0  \n",
              "55551716               1               0  \n",
              "55551715               1               0  "
            ],
            "text/html": [
              "\n",
              "  <div id=\"df-2abc2d41-c965-4a61-bba3-b93b4a3b2ab0\">\n",
              "    <div class=\"colab-df-container\">\n",
              "      <div>\n",
              "<style scoped>\n",
              "    .dataframe tbody tr th:only-of-type {\n",
              "        vertical-align: middle;\n",
              "    }\n",
              "\n",
              "    .dataframe tbody tr th {\n",
              "        vertical-align: top;\n",
              "    }\n",
              "\n",
              "    .dataframe thead th {\n",
              "        text-align: right;\n",
              "    }\n",
              "</style>\n",
              "<table border=\"1\" class=\"dataframe\">\n",
              "  <thead>\n",
              "    <tr style=\"text-align: right;\">\n",
              "      <th></th>\n",
              "      <th>post_count</th>\n",
              "      <th>user_count</th>\n",
              "      <th>previous_views</th>\n",
              "      <th>hours_diff</th>\n",
              "      <th>num_words</th>\n",
              "      <th>num_symbols</th>\n",
              "      <th>value_0</th>\n",
              "      <th>value_1</th>\n",
              "      <th>value_2</th>\n",
              "      <th>value_3</th>\n",
              "      <th>value_4</th>\n",
              "      <th>value_5</th>\n",
              "      <th>value_6</th>\n",
              "      <th>value_7</th>\n",
              "      <th>has_image_f</th>\n",
              "      <th>has_image_t</th>\n",
              "      <th>is_forwarded_f</th>\n",
              "      <th>is_forwarded_t</th>\n",
              "    </tr>\n",
              "    <tr>\n",
              "      <th>id</th>\n",
              "      <th></th>\n",
              "      <th></th>\n",
              "      <th></th>\n",
              "      <th></th>\n",
              "      <th></th>\n",
              "      <th></th>\n",
              "      <th></th>\n",
              "      <th></th>\n",
              "      <th></th>\n",
              "      <th></th>\n",
              "      <th></th>\n",
              "      <th></th>\n",
              "      <th></th>\n",
              "      <th></th>\n",
              "      <th></th>\n",
              "      <th></th>\n",
              "      <th></th>\n",
              "      <th></th>\n",
              "    </tr>\n",
              "  </thead>\n",
              "  <tbody>\n",
              "    <tr>\n",
              "      <th>55551719</th>\n",
              "      <td>3263.0</td>\n",
              "      <td>22031.0</td>\n",
              "      <td>7.828835</td>\n",
              "      <td>1.0</td>\n",
              "      <td>82</td>\n",
              "      <td>263</td>\n",
              "      <td>0.063041</td>\n",
              "      <td>-0.053459</td>\n",
              "      <td>0.097793</td>\n",
              "      <td>0.262953</td>\n",
              "      <td>0.451420</td>\n",
              "      <td>-0.302397</td>\n",
              "      <td>0.202642</td>\n",
              "      <td>0.069636</td>\n",
              "      <td>1</td>\n",
              "      <td>0</td>\n",
              "      <td>1</td>\n",
              "      <td>0</td>\n",
              "    </tr>\n",
              "    <tr>\n",
              "      <th>55551718</th>\n",
              "      <td>3263.0</td>\n",
              "      <td>22031.0</td>\n",
              "      <td>7.828835</td>\n",
              "      <td>2.0</td>\n",
              "      <td>364</td>\n",
              "      <td>2072</td>\n",
              "      <td>0.245435</td>\n",
              "      <td>0.116299</td>\n",
              "      <td>-0.057973</td>\n",
              "      <td>0.413628</td>\n",
              "      <td>0.459964</td>\n",
              "      <td>-0.715440</td>\n",
              "      <td>0.089699</td>\n",
              "      <td>0.401273</td>\n",
              "      <td>1</td>\n",
              "      <td>0</td>\n",
              "      <td>1</td>\n",
              "      <td>0</td>\n",
              "    </tr>\n",
              "    <tr>\n",
              "      <th>55551717</th>\n",
              "      <td>3263.0</td>\n",
              "      <td>22031.0</td>\n",
              "      <td>7.828835</td>\n",
              "      <td>1.0</td>\n",
              "      <td>14</td>\n",
              "      <td>82</td>\n",
              "      <td>0.156229</td>\n",
              "      <td>-0.218294</td>\n",
              "      <td>0.358031</td>\n",
              "      <td>0.572588</td>\n",
              "      <td>0.606249</td>\n",
              "      <td>-0.051025</td>\n",
              "      <td>0.065492</td>\n",
              "      <td>0.138971</td>\n",
              "      <td>0</td>\n",
              "      <td>1</td>\n",
              "      <td>1</td>\n",
              "      <td>0</td>\n",
              "    </tr>\n",
              "    <tr>\n",
              "      <th>55551716</th>\n",
              "      <td>3263.0</td>\n",
              "      <td>22031.0</td>\n",
              "      <td>7.828835</td>\n",
              "      <td>21.0</td>\n",
              "      <td>82</td>\n",
              "      <td>265</td>\n",
              "      <td>0.056489</td>\n",
              "      <td>-0.051801</td>\n",
              "      <td>0.080355</td>\n",
              "      <td>0.248718</td>\n",
              "      <td>0.436097</td>\n",
              "      <td>-0.306593</td>\n",
              "      <td>0.209770</td>\n",
              "      <td>0.069361</td>\n",
              "      <td>1</td>\n",
              "      <td>0</td>\n",
              "      <td>1</td>\n",
              "      <td>0</td>\n",
              "    </tr>\n",
              "    <tr>\n",
              "      <th>55551715</th>\n",
              "      <td>3263.0</td>\n",
              "      <td>22031.0</td>\n",
              "      <td>7.828835</td>\n",
              "      <td>3.0</td>\n",
              "      <td>193</td>\n",
              "      <td>1285</td>\n",
              "      <td>0.365334</td>\n",
              "      <td>0.124548</td>\n",
              "      <td>-0.020882</td>\n",
              "      <td>0.507938</td>\n",
              "      <td>0.483123</td>\n",
              "      <td>-0.904052</td>\n",
              "      <td>0.049493</td>\n",
              "      <td>0.538547</td>\n",
              "      <td>1</td>\n",
              "      <td>0</td>\n",
              "      <td>1</td>\n",
              "      <td>0</td>\n",
              "    </tr>\n",
              "  </tbody>\n",
              "</table>\n",
              "</div>\n",
              "      <button class=\"colab-df-convert\" onclick=\"convertToInteractive('df-2abc2d41-c965-4a61-bba3-b93b4a3b2ab0')\"\n",
              "              title=\"Convert this dataframe to an interactive table.\"\n",
              "              style=\"display:none;\">\n",
              "        \n",
              "  <svg xmlns=\"http://www.w3.org/2000/svg\" height=\"24px\"viewBox=\"0 0 24 24\"\n",
              "       width=\"24px\">\n",
              "    <path d=\"M0 0h24v24H0V0z\" fill=\"none\"/>\n",
              "    <path d=\"M18.56 5.44l.94 2.06.94-2.06 2.06-.94-2.06-.94-.94-2.06-.94 2.06-2.06.94zm-11 1L8.5 8.5l.94-2.06 2.06-.94-2.06-.94L8.5 2.5l-.94 2.06-2.06.94zm10 10l.94 2.06.94-2.06 2.06-.94-2.06-.94-.94-2.06-.94 2.06-2.06.94z\"/><path d=\"M17.41 7.96l-1.37-1.37c-.4-.4-.92-.59-1.43-.59-.52 0-1.04.2-1.43.59L10.3 9.45l-7.72 7.72c-.78.78-.78 2.05 0 2.83L4 21.41c.39.39.9.59 1.41.59.51 0 1.02-.2 1.41-.59l7.78-7.78 2.81-2.81c.8-.78.8-2.07 0-2.86zM5.41 20L4 18.59l7.72-7.72 1.47 1.35L5.41 20z\"/>\n",
              "  </svg>\n",
              "      </button>\n",
              "      \n",
              "  <style>\n",
              "    .colab-df-container {\n",
              "      display:flex;\n",
              "      flex-wrap:wrap;\n",
              "      gap: 12px;\n",
              "    }\n",
              "\n",
              "    .colab-df-convert {\n",
              "      background-color: #E8F0FE;\n",
              "      border: none;\n",
              "      border-radius: 50%;\n",
              "      cursor: pointer;\n",
              "      display: none;\n",
              "      fill: #1967D2;\n",
              "      height: 32px;\n",
              "      padding: 0 0 0 0;\n",
              "      width: 32px;\n",
              "    }\n",
              "\n",
              "    .colab-df-convert:hover {\n",
              "      background-color: #E2EBFA;\n",
              "      box-shadow: 0px 1px 2px rgba(60, 64, 67, 0.3), 0px 1px 3px 1px rgba(60, 64, 67, 0.15);\n",
              "      fill: #174EA6;\n",
              "    }\n",
              "\n",
              "    [theme=dark] .colab-df-convert {\n",
              "      background-color: #3B4455;\n",
              "      fill: #D2E3FC;\n",
              "    }\n",
              "\n",
              "    [theme=dark] .colab-df-convert:hover {\n",
              "      background-color: #434B5C;\n",
              "      box-shadow: 0px 1px 3px 1px rgba(0, 0, 0, 0.15);\n",
              "      filter: drop-shadow(0px 1px 2px rgba(0, 0, 0, 0.3));\n",
              "      fill: #FFFFFF;\n",
              "    }\n",
              "  </style>\n",
              "\n",
              "      <script>\n",
              "        const buttonEl =\n",
              "          document.querySelector('#df-2abc2d41-c965-4a61-bba3-b93b4a3b2ab0 button.colab-df-convert');\n",
              "        buttonEl.style.display =\n",
              "          google.colab.kernel.accessAllowed ? 'block' : 'none';\n",
              "\n",
              "        async function convertToInteractive(key) {\n",
              "          const element = document.querySelector('#df-2abc2d41-c965-4a61-bba3-b93b4a3b2ab0');\n",
              "          const dataTable =\n",
              "            await google.colab.kernel.invokeFunction('convertToInteractive',\n",
              "                                                     [key], {});\n",
              "          if (!dataTable) return;\n",
              "\n",
              "          const docLinkHtml = 'Like what you see? Visit the ' +\n",
              "            '<a target=\"_blank\" href=https://colab.research.google.com/notebooks/data_table.ipynb>data table notebook</a>'\n",
              "            + ' to learn more about interactive tables.';\n",
              "          element.innerHTML = '';\n",
              "          dataTable['output_type'] = 'display_data';\n",
              "          await google.colab.output.renderOutput(dataTable, element);\n",
              "          const docLink = document.createElement('div');\n",
              "          docLink.innerHTML = docLinkHtml;\n",
              "          element.appendChild(docLink);\n",
              "        }\n",
              "      </script>\n",
              "    </div>\n",
              "  </div>\n",
              "  "
            ]
          },
          "metadata": {}
        }
      ]
    },
    {
      "cell_type": "markdown",
      "metadata": {
        "id": "RN7vy0hTmReB"
      },
      "source": [
        "# train your model and predict test"
      ]
    },
    {
      "cell_type": "code",
      "source": [
        "from sklearn.linear_model import LinearRegression, Lasso, Ridge\n",
        "from sklearn.ensemble import GradientBoostingRegressor, RandomForestRegressor\n",
        "from sklearn.metrics import mean_absolute_percentage_error, mean_absolute_error, mean_squared_error\n",
        "from sklearn.model_selection import train_test_split"
      ],
      "metadata": {
        "id": "MlyUMS-KuJAO"
      },
      "execution_count": null,
      "outputs": []
    },
    {
      "cell_type": "code",
      "source": [
        "BASELINE = {\n",
        "\t'mape': 15.707128974856676,\n",
        "\t'mean_absolute_error': 1.219070382113261,\n",
        "\t'mean_squared_error': 2.4324378881170055,\n",
        "\t'rmse': 1.5596274837655963,\n",
        "\t'rmspe': 23.50065988751091\n",
        "}\n"
      ],
      "metadata": {
        "id": "wyBwc9j3xIJ0"
      },
      "execution_count": null,
      "outputs": []
    },
    {
      "cell_type": "code",
      "source": [
        "def calc_metrics(y_test, y_test_pred, BASELINE):\n",
        "  result = {'mape': mean_absolute_percentage_error(y_test, y_test_pred),\n",
        "            'mean_absolute_error': mean_absolute_error(np.array(y_test), y_test_pred),\n",
        "            'mean_squared_error': mean_squared_error(y_test, y_test_pred),\n",
        "            'rmse': mean_squared_error(y_test, y_test_pred, squared=False),\n",
        "            'rmspe': np.sqrt(np.mean(np.square(((y_test - y_test_pred) / y_test)), axis=0))}\n",
        "  print(\"Test RMSE = %.4f\" % result['mape'])\n",
        "  print(\"Test MSE = %.4f\" % result['mean_absolute_error'])\n",
        "  print(\"Test RMSPE = %.4f\" % result['mean_squared_error'])\n",
        "  print(\"Test MAPE = %.4f\" % result['rmse'])\n",
        "  print(\"Test MAE = %.4f\" % result['rmspe'])\n",
        "  print({key: result[key]/BASELINE.get(key, 0) for key in BASELINE})"
      ],
      "metadata": {
        "id": "QsbYXBiYwmLU"
      },
      "execution_count": null,
      "outputs": []
    },
    {
      "cell_type": "code",
      "source": [
        "X_train, X_val, y_train, y_val = train_test_split(trainX_dummy, trainY, test_size=0.2, random_state=12)"
      ],
      "metadata": {
        "id": "20g86zF0wPP1"
      },
      "execution_count": null,
      "outputs": []
    },
    {
      "cell_type": "code",
      "execution_count": null,
      "metadata": {
        "id": "QWt-_iPZmReC"
      },
      "outputs": [],
      "source": [
        "prediction = np.random.random(testX.shape[0])"
      ]
    },
    {
      "cell_type": "code",
      "execution_count": null,
      "metadata": {
        "id": "We6DRLARmReC"
      },
      "outputs": [],
      "source": [
        "prediction.shape"
      ]
    },
    {
      "cell_type": "code",
      "execution_count": null,
      "metadata": {
        "id": "jzFAxlvFmReC"
      },
      "outputs": [],
      "source": [
        "assert prediction.shape == (244386,)"
      ]
    },
    {
      "cell_type": "markdown",
      "source": [
        "## linear models"
      ],
      "metadata": {
        "id": "CdYTRSbBt-19"
      }
    },
    {
      "cell_type": "markdown",
      "source": [
        "### Linear Regression"
      ],
      "metadata": {
        "id": "F_BvAy9euV2U"
      }
    },
    {
      "cell_type": "code",
      "source": [
        "lr = LinearRegression()\n",
        "lr.fit(X_train, y_train)\n",
        "# make predictions\n",
        "y_val_pred = lr.predict(X_val)\n",
        "calc_metrics(y_val, y_val_pred, BASELINE)"
      ],
      "metadata": {
        "colab": {
          "base_uri": "https://localhost:8080/"
        },
        "id": "aS7WlmOittNl",
        "outputId": "704a7c86-8df1-4e27-dc1b-ff4906cd4687"
      },
      "execution_count": null,
      "outputs": [
        {
          "output_type": "stream",
          "name": "stdout",
          "text": [
            "Test RMSE = 0.1269\n",
            "Test MSE = 0.9384\n",
            "Test RMSPE = 1.6168\n",
            "Test MAPE = 1.2715\n",
            "Test MAE = 0.1931\n",
            "{'mape': 0.008081193424885757, 'mean_absolute_error': 0.7697785136304144, 'mean_squared_error': 0.6646703619974299, 'rmse': 0.8152731824348387, 'rmspe': 0.008216992767183955}\n"
          ]
        }
      ]
    },
    {
      "cell_type": "code",
      "source": [
        "prediction = lr.predict(testX_dummy)"
      ],
      "metadata": {
        "id": "ZxLs9pjA08-t"
      },
      "execution_count": null,
      "outputs": []
    },
    {
      "cell_type": "markdown",
      "source": [
        "### Lasso"
      ],
      "metadata": {
        "id": "9rUtQWtKuDfA"
      }
    },
    {
      "cell_type": "code",
      "source": [
        "lr = Lasso()\n",
        "lr.fit(X_train, y_train)\n",
        "# make predictions\n",
        "y_val_pred = lr.predict(X_val)\n",
        "calc_metrics(y_val, y_val_pred, BASELINE)"
      ],
      "metadata": {
        "colab": {
          "base_uri": "https://localhost:8080/"
        },
        "id": "e7IZ77SetsdV",
        "outputId": "4b738ab5-31b4-44f4-9d56-838c43548892"
      },
      "execution_count": null,
      "outputs": [
        {
          "output_type": "stream",
          "name": "stdout",
          "text": [
            "Test RMSE = 0.1322\n",
            "Test MSE = 0.9825\n",
            "Test RMSPE = 1.7259\n",
            "Test MAPE = 1.3137\n",
            "Test MAE = 0.1947\n",
            "{'mape': 0.00841519332298613, 'mean_absolute_error': 0.8059455966899984, 'mean_squared_error': 0.7095455306529628, 'rmse': 0.8423452562061252, 'rmspe': 0.008284534047732602}\n"
          ]
        }
      ]
    },
    {
      "cell_type": "markdown",
      "source": [
        "### Ridge"
      ],
      "metadata": {
        "id": "d7xFPSuxJ48X"
      }
    },
    {
      "cell_type": "code",
      "source": [
        "lr = Ridge()\n",
        "lr.fit(X_train, y_train)\n",
        "# make predictions\n",
        "y_val_pred = lr.predict(X_val)\n",
        "calc_metrics(y_val, y_val_pred, BASELINE)"
      ],
      "metadata": {
        "colab": {
          "base_uri": "https://localhost:8080/"
        },
        "id": "XOaYX42jJ7xj",
        "outputId": "e817ec80-7c0e-4293-e234-23bdfb83e039"
      },
      "execution_count": null,
      "outputs": [
        {
          "output_type": "stream",
          "name": "stdout",
          "text": [
            "Test RMSE = 0.1269\n",
            "Test MSE = 0.9384\n",
            "Test RMSPE = 1.6168\n",
            "Test MAPE = 1.2715\n",
            "Test MAE = 0.1931\n",
            "{'mape': 0.008081193440910465, 'mean_absolute_error': 0.7697785125795841, 'mean_squared_error': 0.6646703581810445, 'rmse': 0.8152731800942825, 'rmspe': 0.008216992661572275}\n"
          ]
        }
      ]
    },
    {
      "cell_type": "markdown",
      "source": [
        "## tree based"
      ],
      "metadata": {
        "id": "KSzF-HWmuGNV"
      }
    },
    {
      "cell_type": "code",
      "source": [
        "!pip install catboost"
      ],
      "metadata": {
        "id": "YfB-aqFIKi9a"
      },
      "execution_count": null,
      "outputs": []
    },
    {
      "cell_type": "code",
      "source": [
        "from catboost import CatBoostRegressor"
      ],
      "metadata": {
        "id": "TJKEOsXVKebi"
      },
      "execution_count": null,
      "outputs": []
    },
    {
      "cell_type": "markdown",
      "source": [
        "### catboost"
      ],
      "metadata": {
        "id": "4R5IrnK5uUKk"
      }
    },
    {
      "cell_type": "code",
      "source": [
        "from sklearn.model_selection import ParameterSampler\n",
        "from tqdm import tqdm\n",
        "\n",
        "params = {'learning_rate': [0.0001, 0.001, 0.01, 0.05, 0.1, 0.2],\n",
        "        'depth': [2, 4, 6, 8],\n",
        "        'l2_leaf_reg': [1, 3],\n",
        "        'iterations': [100, 200, 300]}\n",
        "param_list = list(ParameterSampler(param_distributions=params, n_iter=10, random_state=21))\n",
        "mae = np.zeros_like(np.arange(len(param_list)), dtype=float)\n",
        "print(param_list[0].keys())\n",
        "\n",
        "with tqdm(total=len(param_list)-1) as pbar:\n",
        "    for i in range(len(param_list)):\n",
        "        print(param_list[i].values())\n",
        "        values = [*param_list[i].values()]\n",
        "        cb_reg = CatBoostRegressor(depth=values[3], l2_leaf_reg=values[1], \n",
        "                                    iterations=values[2], learning_rate=values[0],\n",
        "                                    random_state=21)\n",
        "        cb_reg.fit(X=X_train, y=y_train, plot=False,\n",
        "                   eval_set=[(X_val, y_val)], \n",
        "                  verbose=False)\n",
        "        y_pred = cb_reg.predict(X_val)\n",
        "        calc_metrics(y_val, y_pred, BASELINE)"
      ],
      "metadata": {
        "colab": {
          "base_uri": "https://localhost:8080/",
          "height": 623,
          "referenced_widgets": [
            "75f6a05f3a25441192442760d9a1dff5",
            "4aa503b9197143cb8cd08337fe73c3d4"
          ]
        },
        "id": "Lx6SjQjoKKqt",
        "outputId": "536598c0-abd6-47b6-d6f2-8e4c043482fd"
      },
      "execution_count": null,
      "outputs": [
        {
          "output_type": "stream",
          "name": "stdout",
          "text": [
            "dict_keys(['learning_rate', 'l2_leaf_reg', 'iterations', 'depth'])\n"
          ]
        },
        {
          "output_type": "stream",
          "name": "stderr",
          "text": [
            "\r  0%|          | 0/9 [00:00<?, ?it/s]"
          ]
        },
        {
          "output_type": "stream",
          "name": "stdout",
          "text": [
            "dict_values([0.1, 1, 100, 4])\n"
          ]
        },
        {
          "output_type": "display_data",
          "data": {
            "text/plain": [
              "MetricVisualizer(layout=Layout(align_self='stretch', height='500px'))"
            ],
            "application/vnd.jupyter.widget-view+json": {
              "version_major": 2,
              "version_minor": 0,
              "model_id": "75f6a05f3a25441192442760d9a1dff5"
            }
          },
          "metadata": {}
        },
        {
          "output_type": "stream",
          "name": "stdout",
          "text": [
            "Test RMSE = 0.0384\n",
            "Test MSE = 0.2897\n",
            "Test RMSPE = 0.4850\n",
            "Test MAPE = 0.6964\n",
            "Test MAE = 0.1049\n",
            "{'mape': 0.002447274511496172, 'mean_absolute_error': 0.23762835647701222, 'mean_squared_error': 0.19937187226134948, 'rmse': 0.44651077507866427, 'rmspe': 0.004463776747493109}\n",
            "dict_values([0.2, 1, 300, 8])\n"
          ]
        },
        {
          "output_type": "display_data",
          "data": {
            "text/plain": [
              "MetricVisualizer(layout=Layout(align_self='stretch', height='500px'))"
            ],
            "application/vnd.jupyter.widget-view+json": {
              "version_major": 2,
              "version_minor": 0,
              "model_id": "4aa503b9197143cb8cd08337fe73c3d4"
            }
          },
          "metadata": {}
        },
        {
          "output_type": "stream",
          "name": "stderr",
          "text": [
            "\r  0%|          | 0/9 [06:04<?, ?it/s]\n"
          ]
        },
        {
          "output_type": "error",
          "ename": "KeyboardInterrupt",
          "evalue": "ignored",
          "traceback": [
            "\u001b[0;31m---------------------------------------------------------------------------\u001b[0m",
            "\u001b[0;31mKeyboardInterrupt\u001b[0m                         Traceback (most recent call last)",
            "\u001b[0;32m<ipython-input-102-8b85083b9cde>\u001b[0m in \u001b[0;36m<cell line: 12>\u001b[0;34m()\u001b[0m\n\u001b[1;32m     17\u001b[0m                                     \u001b[0miterations\u001b[0m\u001b[0;34m=\u001b[0m\u001b[0mvalues\u001b[0m\u001b[0;34m[\u001b[0m\u001b[0;36m2\u001b[0m\u001b[0;34m]\u001b[0m\u001b[0;34m,\u001b[0m \u001b[0mlearning_rate\u001b[0m\u001b[0;34m=\u001b[0m\u001b[0mvalues\u001b[0m\u001b[0;34m[\u001b[0m\u001b[0;36m0\u001b[0m\u001b[0;34m]\u001b[0m\u001b[0;34m,\u001b[0m\u001b[0;34m\u001b[0m\u001b[0;34m\u001b[0m\u001b[0m\n\u001b[1;32m     18\u001b[0m                                     random_state=21)\n\u001b[0;32m---> 19\u001b[0;31m         cb_reg.fit(X=X_train, y=y_train, plot=True,\n\u001b[0m\u001b[1;32m     20\u001b[0m                    \u001b[0meval_set\u001b[0m\u001b[0;34m=\u001b[0m\u001b[0;34m[\u001b[0m\u001b[0;34m(\u001b[0m\u001b[0mX_val\u001b[0m\u001b[0;34m,\u001b[0m \u001b[0my_val\u001b[0m\u001b[0;34m)\u001b[0m\u001b[0;34m]\u001b[0m\u001b[0;34m,\u001b[0m\u001b[0;34m\u001b[0m\u001b[0;34m\u001b[0m\u001b[0m\n\u001b[1;32m     21\u001b[0m                   verbose=False)\n",
            "\u001b[0;32m/usr/local/lib/python3.10/dist-packages/catboost/core.py\u001b[0m in \u001b[0;36mfit\u001b[0;34m(self, X, y, cat_features, text_features, embedding_features, sample_weight, baseline, use_best_model, eval_set, verbose, logging_level, plot, plot_file, column_description, verbose_eval, metric_period, silent, early_stopping_rounds, save_snapshot, snapshot_file, snapshot_interval, init_model, callbacks, log_cout, log_cerr)\u001b[0m\n\u001b[1;32m   5732\u001b[0m             \u001b[0mCatBoostRegressor\u001b[0m\u001b[0;34m.\u001b[0m\u001b[0m_check_is_compatible_loss\u001b[0m\u001b[0;34m(\u001b[0m\u001b[0mparams\u001b[0m\u001b[0;34m[\u001b[0m\u001b[0;34m'loss_function'\u001b[0m\u001b[0;34m]\u001b[0m\u001b[0;34m)\u001b[0m\u001b[0;34m\u001b[0m\u001b[0;34m\u001b[0m\u001b[0m\n\u001b[1;32m   5733\u001b[0m \u001b[0;34m\u001b[0m\u001b[0m\n\u001b[0;32m-> 5734\u001b[0;31m         return self._fit(X, y, cat_features, text_features, embedding_features, None, sample_weight, None, None, None, None, baseline,\n\u001b[0m\u001b[1;32m   5735\u001b[0m                          \u001b[0muse_best_model\u001b[0m\u001b[0;34m,\u001b[0m \u001b[0meval_set\u001b[0m\u001b[0;34m,\u001b[0m \u001b[0mverbose\u001b[0m\u001b[0;34m,\u001b[0m \u001b[0mlogging_level\u001b[0m\u001b[0;34m,\u001b[0m \u001b[0mplot\u001b[0m\u001b[0;34m,\u001b[0m \u001b[0mplot_file\u001b[0m\u001b[0;34m,\u001b[0m \u001b[0mcolumn_description\u001b[0m\u001b[0;34m,\u001b[0m\u001b[0;34m\u001b[0m\u001b[0;34m\u001b[0m\u001b[0m\n\u001b[1;32m   5736\u001b[0m                          \u001b[0mverbose_eval\u001b[0m\u001b[0;34m,\u001b[0m \u001b[0mmetric_period\u001b[0m\u001b[0;34m,\u001b[0m \u001b[0msilent\u001b[0m\u001b[0;34m,\u001b[0m \u001b[0mearly_stopping_rounds\u001b[0m\u001b[0;34m,\u001b[0m\u001b[0;34m\u001b[0m\u001b[0;34m\u001b[0m\u001b[0m\n",
            "\u001b[0;32m/usr/local/lib/python3.10/dist-packages/catboost/core.py\u001b[0m in \u001b[0;36m_fit\u001b[0;34m(self, X, y, cat_features, text_features, embedding_features, pairs, sample_weight, group_id, group_weight, subgroup_id, pairs_weight, baseline, use_best_model, eval_set, verbose, logging_level, plot, plot_file, column_description, verbose_eval, metric_period, silent, early_stopping_rounds, save_snapshot, snapshot_file, snapshot_interval, init_model, callbacks, log_cout, log_cerr)\u001b[0m\n\u001b[1;32m   2355\u001b[0m         \u001b[0;32mwith\u001b[0m \u001b[0mlog_fixup\u001b[0m\u001b[0;34m(\u001b[0m\u001b[0mlog_cout\u001b[0m\u001b[0;34m,\u001b[0m \u001b[0mlog_cerr\u001b[0m\u001b[0;34m)\u001b[0m\u001b[0;34m,\u001b[0m\u001b[0;31m \u001b[0m\u001b[0;31m\\\u001b[0m\u001b[0;34m\u001b[0m\u001b[0;34m\u001b[0m\u001b[0m\n\u001b[1;32m   2356\u001b[0m             \u001b[0mplot_wrapper\u001b[0m\u001b[0;34m(\u001b[0m\u001b[0mplot\u001b[0m\u001b[0;34m,\u001b[0m \u001b[0mplot_file\u001b[0m\u001b[0;34m,\u001b[0m \u001b[0;34m'Training plots'\u001b[0m\u001b[0;34m,\u001b[0m \u001b[0;34m[\u001b[0m\u001b[0m_get_train_dir\u001b[0m\u001b[0;34m(\u001b[0m\u001b[0mself\u001b[0m\u001b[0;34m.\u001b[0m\u001b[0mget_params\u001b[0m\u001b[0;34m(\u001b[0m\u001b[0;34m)\u001b[0m\u001b[0;34m)\u001b[0m\u001b[0;34m]\u001b[0m\u001b[0;34m)\u001b[0m\u001b[0;34m:\u001b[0m\u001b[0;34m\u001b[0m\u001b[0;34m\u001b[0m\u001b[0m\n\u001b[0;32m-> 2357\u001b[0;31m             self._train(\n\u001b[0m\u001b[1;32m   2358\u001b[0m                 \u001b[0mtrain_pool\u001b[0m\u001b[0;34m,\u001b[0m\u001b[0;34m\u001b[0m\u001b[0;34m\u001b[0m\u001b[0m\n\u001b[1;32m   2359\u001b[0m                 \u001b[0mtrain_params\u001b[0m\u001b[0;34m[\u001b[0m\u001b[0;34m\"eval_sets\"\u001b[0m\u001b[0;34m]\u001b[0m\u001b[0;34m,\u001b[0m\u001b[0;34m\u001b[0m\u001b[0;34m\u001b[0m\u001b[0m\n",
            "\u001b[0;32m/usr/local/lib/python3.10/dist-packages/catboost/core.py\u001b[0m in \u001b[0;36m_train\u001b[0;34m(self, train_pool, test_pool, params, allow_clear_pool, init_model)\u001b[0m\n\u001b[1;32m   1759\u001b[0m \u001b[0;34m\u001b[0m\u001b[0m\n\u001b[1;32m   1760\u001b[0m     \u001b[0;32mdef\u001b[0m \u001b[0m_train\u001b[0m\u001b[0;34m(\u001b[0m\u001b[0mself\u001b[0m\u001b[0;34m,\u001b[0m \u001b[0mtrain_pool\u001b[0m\u001b[0;34m,\u001b[0m \u001b[0mtest_pool\u001b[0m\u001b[0;34m,\u001b[0m \u001b[0mparams\u001b[0m\u001b[0;34m,\u001b[0m \u001b[0mallow_clear_pool\u001b[0m\u001b[0;34m,\u001b[0m \u001b[0minit_model\u001b[0m\u001b[0;34m)\u001b[0m\u001b[0;34m:\u001b[0m\u001b[0;34m\u001b[0m\u001b[0;34m\u001b[0m\u001b[0m\n\u001b[0;32m-> 1761\u001b[0;31m         \u001b[0mself\u001b[0m\u001b[0;34m.\u001b[0m\u001b[0m_object\u001b[0m\u001b[0;34m.\u001b[0m\u001b[0m_train\u001b[0m\u001b[0;34m(\u001b[0m\u001b[0mtrain_pool\u001b[0m\u001b[0;34m,\u001b[0m \u001b[0mtest_pool\u001b[0m\u001b[0;34m,\u001b[0m \u001b[0mparams\u001b[0m\u001b[0;34m,\u001b[0m \u001b[0mallow_clear_pool\u001b[0m\u001b[0;34m,\u001b[0m \u001b[0minit_model\u001b[0m\u001b[0;34m.\u001b[0m\u001b[0m_object\u001b[0m \u001b[0;32mif\u001b[0m \u001b[0minit_model\u001b[0m \u001b[0;32melse\u001b[0m \u001b[0;32mNone\u001b[0m\u001b[0;34m)\u001b[0m\u001b[0;34m\u001b[0m\u001b[0;34m\u001b[0m\u001b[0m\n\u001b[0m\u001b[1;32m   1762\u001b[0m         \u001b[0mself\u001b[0m\u001b[0;34m.\u001b[0m\u001b[0m_set_trained_model_attributes\u001b[0m\u001b[0;34m(\u001b[0m\u001b[0;34m)\u001b[0m\u001b[0;34m\u001b[0m\u001b[0;34m\u001b[0m\u001b[0m\n\u001b[1;32m   1763\u001b[0m \u001b[0;34m\u001b[0m\u001b[0m\n",
            "\u001b[0;32m_catboost.pyx\u001b[0m in \u001b[0;36m_catboost._CatBoost._train\u001b[0;34m()\u001b[0m\n",
            "\u001b[0;32m_catboost.pyx\u001b[0m in \u001b[0;36m_catboost._CatBoost._train\u001b[0;34m()\u001b[0m\n",
            "\u001b[0;31mKeyboardInterrupt\u001b[0m: "
          ]
        }
      ]
    },
    {
      "cell_type": "markdown",
      "source": [
        "### sklearn gradient boosting"
      ],
      "metadata": {
        "id": "gu05o6zPuNTG"
      }
    },
    {
      "cell_type": "code",
      "source": [
        "lr = GradientBoostingRegressor()\n",
        "lr.fit(X_train, y_train)\n",
        "# make predictions\n",
        "y_val_pred = lr.predict(X_val)\n",
        "calc_metrics(y_val, y_val_pred, BASELINE)"
      ],
      "metadata": {
        "id": "SKU7c7RFLu-Z"
      },
      "execution_count": null,
      "outputs": []
    },
    {
      "cell_type": "markdown",
      "source": [
        "### sklearn rf\n"
      ],
      "metadata": {
        "id": "PDD-gAIvMaGa"
      }
    },
    {
      "cell_type": "code",
      "source": [
        "lr = RandomForestRegressor()\n",
        "lr.fit(X_train, y_train)\n",
        "# make predictions\n",
        "y_val_pred = lr.predict(X_val)\n",
        "calc_metrics(y_val, y_val_pred, BASELINE)"
      ],
      "metadata": {
        "id": "wZoz4PrJMVqE"
      },
      "execution_count": null,
      "outputs": []
    },
    {
      "cell_type": "markdown",
      "source": [
        "## final model"
      ],
      "metadata": {
        "id": "dDgPVO-kMqCB"
      }
    },
    {
      "cell_type": "code",
      "source": [
        "cb_reg = CatBoostRegressor(depth=4, l2_leaf_reg=1, \n",
        "                                    iterations=100, learning_rate=0.1,\n",
        "                                    random_state=21)\n",
        "cb_reg.fit(X=X_train, y=y_train, plot=False,\n",
        "          eval_set=[(X_val, y_val)], \n",
        "        verbose=False)\n",
        "y_pred = cb_reg.predict(X_val)\n",
        "calc_metrics(y_val, y_pred, BASELINE)"
      ],
      "metadata": {
        "colab": {
          "base_uri": "https://localhost:8080/"
        },
        "id": "Pp4wYdRrMsDZ",
        "outputId": "f436e509-50f4-4a4e-eff5-56a9031c7099"
      },
      "execution_count": null,
      "outputs": [
        {
          "output_type": "stream",
          "name": "stdout",
          "text": [
            "Test RMSE = 0.0384\n",
            "Test MSE = 0.2897\n",
            "Test RMSPE = 0.4850\n",
            "Test MAPE = 0.6964\n",
            "Test MAE = 0.1049\n",
            "{'mape': 0.002447274511496172, 'mean_absolute_error': 0.23762835647701222, 'mean_squared_error': 0.19937187226134948, 'rmse': 0.44651077507866427, 'rmspe': 0.004463776747493109}\n"
          ]
        }
      ]
    },
    {
      "cell_type": "code",
      "source": [
        "prediction = cb_reg.predict(testX_dummy)"
      ],
      "metadata": {
        "id": "iVTW2MGGNHua"
      },
      "execution_count": null,
      "outputs": []
    },
    {
      "cell_type": "markdown",
      "source": [
        "## additional: Vowpal Wabbit usage"
      ],
      "metadata": {
        "id": "mIxQCTJxqHO_"
      }
    },
    {
      "cell_type": "markdown",
      "source": [
        "Хотел показать, что можно обучать модели с помощью инструмента для больших данных, но стало немного лень. Просто оставлю возможные UseCase для либы Vowpal Wabbit [здесь](https://github.com/ZolotarevStat/University/blob/main/ML%20on%20Big%20Data/BigHW_Outbrain_Click_Prediction.ipynb)"
      ],
      "metadata": {
        "id": "1-Yee9n8L7iS"
      }
    },
    {
      "cell_type": "markdown",
      "metadata": {
        "id": "bGAvtevdmReC"
      },
      "source": [
        "# submit"
      ]
    },
    {
      "cell_type": "code",
      "execution_count": null,
      "metadata": {
        "id": "mwGAPzM2mReC",
        "colab": {
          "base_uri": "https://localhost:8080/"
        },
        "outputId": "fb94635d-a9e1-4d2f-838a-c71f5c188ab0"
      },
      "outputs": [
        {
          "output_type": "stream",
          "name": "stdout",
          "text": [
            "  % Total    % Received % Xferd  Average Speed   Time    Time     Time  Current\n",
            "                                 Dload  Upload   Total   Spent    Left  Speed\n",
            "100  1907  100  1907    0     0   8747      0 --:--:-- --:--:-- --:--:--  8747\n"
          ]
        }
      ],
      "source": [
        "! curl -H 'Cache-Control: no-cache' https://raw.githubusercontent.com/mike0sv/lsml_submit_server/2023/src/client.py -o client.py"
      ]
    },
    {
      "cell_type": "code",
      "execution_count": null,
      "metadata": {
        "id": "REcHsyr9mReC"
      },
      "outputs": [],
      "source": [
        "import client"
      ]
    },
    {
      "cell_type": "code",
      "execution_count": null,
      "metadata": {
        "id": "jprIUxXsmReC",
        "colab": {
          "base_uri": "https://localhost:8080/"
        },
        "outputId": "5b255efd-b069-433a-d0cc-2808ca80c8ff"
      },
      "outputs": [
        {
          "output_type": "execute_result",
          "data": {
            "text/plain": [
              "{'data': {'mape': 8.918192891620633,\n",
              "  'mean_absolute_error': 0.6815061335366615,\n",
              "  'mean_squared_error': 1.3558900257916644,\n",
              "  'rmse': 1.1644269087373686,\n",
              "  'rmspe': 17.39001495991588},\n",
              " 'ok': True}"
            ]
          },
          "metadata": {},
          "execution_count": 110
        }
      ],
      "source": [
        "client.make_eval(pd.DataFrame({'views': prediction}, index=testX.index), final=True)"
      ]
    },
    {
      "cell_type": "code",
      "execution_count": null,
      "metadata": {
        "id": "0iITDDvYmReC",
        "colab": {
          "base_uri": "https://localhost:8080/"
        },
        "outputId": "20d91a06-9abf-4f33-9b20-892e0789bba7"
      },
      "outputs": [
        {
          "output_type": "execute_result",
          "data": {
            "text/plain": [
              "{'2022-06-22': [{'baseline_beaten': True,\n",
              "   'is_final': False,\n",
              "   'metrics': {'mape': 12.727620679181136,\n",
              "    'mean_absolute_error': 0.9455263275003919,\n",
              "    'mean_squared_error': 1.7195696729463468,\n",
              "    'rmse': 1.3113236339463827,\n",
              "    'rmspe': 20.916288967369184}},\n",
              "  {'baseline_beaten': False,\n",
              "   'is_final': False,\n",
              "   'metrics': {'mape': 13.451678827060269,\n",
              "    'mean_absolute_error': 0.9721868654662573,\n",
              "    'mean_squared_error': 1.929836459199178,\n",
              "    'rmse': 1.389185538075882,\n",
              "    'rmspe': 23.510528950926457}},\n",
              "  {'baseline_beaten': True,\n",
              "   'is_final': False,\n",
              "   'metrics': {'mape': 11.05639899081406,\n",
              "    'mean_absolute_error': 0.8431678590759435,\n",
              "    'mean_squared_error': 1.356104486717572,\n",
              "    'rmse': 1.164518993712671,\n",
              "    'rmspe': 17.512251896373918}},\n",
              "  {'baseline_beaten': True,\n",
              "   'is_final': True,\n",
              "   'metrics': {'mape': 11.05639899081406,\n",
              "    'mean_absolute_error': 0.8431678590759435,\n",
              "    'mean_squared_error': 1.356104486717572,\n",
              "    'rmse': 1.164518993712671,\n",
              "    'rmspe': 17.512251896373918}}],\n",
              " '2023-06-04': [{'baseline_beaten': True,\n",
              "   'is_final': False,\n",
              "   'metrics': {'mape': 13.497947040884238,\n",
              "    'mean_absolute_error': 1.0066314421544418,\n",
              "    'mean_squared_error': 1.8983244846693945,\n",
              "    'rmse': 1.3777969678691395,\n",
              "    'rmspe': 21.994027343050114}}],\n",
              " '2023-06-05': [{'baseline_beaten': True,\n",
              "   'is_final': False,\n",
              "   'metrics': {'mape': 13.261539436360689,\n",
              "    'mean_absolute_error': 0.9970167163385166,\n",
              "    'mean_squared_error': 1.8539328939296882,\n",
              "    'rmse': 1.3615920438698546,\n",
              "    'rmspe': 21.31919653018276}},\n",
              "  {'baseline_beaten': True,\n",
              "   'is_final': False,\n",
              "   'metrics': {'mape': 8.918192891620633,\n",
              "    'mean_absolute_error': 0.6815061335366615,\n",
              "    'mean_squared_error': 1.3558900257916644,\n",
              "    'rmse': 1.1644269087373686,\n",
              "    'rmspe': 17.39001495991588}},\n",
              "  {'baseline_beaten': True,\n",
              "   'is_final': True,\n",
              "   'metrics': {'mape': 8.918192891620633,\n",
              "    'mean_absolute_error': 0.6815061335366615,\n",
              "    'mean_squared_error': 1.3558900257916644,\n",
              "    'rmse': 1.1644269087373686,\n",
              "    'rmspe': 17.39001495991588}}]}"
            ]
          },
          "metadata": {},
          "execution_count": 111
        }
      ],
      "source": [
        "client.check_results()"
      ]
    }
  ],
  "metadata": {
    "kernelspec": {
      "display_name": "Python 3",
      "language": "python",
      "name": "python3"
    },
    "language_info": {
      "codemirror_mode": {
        "name": "ipython",
        "version": 3
      },
      "file_extension": ".py",
      "mimetype": "text/x-python",
      "name": "python",
      "nbconvert_exporter": "python",
      "pygments_lexer": "ipython3",
      "version": "3.6.7"
    },
    "colab": {
      "provenance": [],
      "toc_visible": true
    },
    "widgets": {
      "application/vnd.jupyter.widget-state+json": {
        "75f6a05f3a25441192442760d9a1dff5": {
          "model_module": "catboost-widget",
          "model_name": "CatboostWidgetModel",
          "model_module_version": "^1.0.0",
          "state": {
            "_dom_classes": [],
            "_model_module": "catboost-widget",
            "_model_module_version": "^1.0.0",
            "_model_name": "CatboostWidgetModel",
            "_view_count": null,
            "_view_module": "catboost-widget",
            "_view_module_version": "^1.0.0",
            "_view_name": "CatboostWidgetView",
            "data": {
              "catboost_info": {
                "path": "catboost_info",
                "name": "catboost_info",
                "content": {
                  "passed_iterations": 99,
                  "total_iterations": 100,
                  "data": {
                    "iterations": [
                      {
                        "learn": [
                          1.382178139
                        ],
                        "iteration": 0,
                        "passed_time": 1.705117384,
                        "remaining_time": 168.806621,
                        "test": [
                          1.381632632
                        ]
                      },
                      {
                        "learn": [
                          1.297371225
                        ],
                        "iteration": 1,
                        "passed_time": 4.016337775,
                        "remaining_time": 196.800551,
                        "test": [
                          1.296698178
                        ]
                      },
                      {
                        "learn": [
                          1.222610757
                        ],
                        "iteration": 2,
                        "passed_time": 5.990254612,
                        "remaining_time": 193.6848991,
                        "test": [
                          1.221806313
                        ]
                      },
                      {
                        "learn": [
                          1.157161982
                        ],
                        "iteration": 3,
                        "passed_time": 7.486561201,
                        "remaining_time": 179.6774688,
                        "test": [
                          1.156278359
                        ]
                      },
                      {
                        "learn": [
                          1.100639738
                        ],
                        "iteration": 4,
                        "passed_time": 8.59597261,
                        "remaining_time": 163.3234796,
                        "test": [
                          1.099681858
                        ]
                      },
                      {
                        "learn": [
                          1.051897623
                        ],
                        "iteration": 5,
                        "passed_time": 9.701790537,
                        "remaining_time": 151.9947184,
                        "test": [
                          1.050877267
                        ]
                      },
                      {
                        "learn": [
                          1.009848599
                        ],
                        "iteration": 6,
                        "passed_time": 11.21932951,
                        "remaining_time": 149.0568063,
                        "test": [
                          1.008690319
                        ]
                      },
                      {
                        "learn": [
                          0.9736927747
                        ],
                        "iteration": 7,
                        "passed_time": 11.9183974,
                        "remaining_time": 137.0615701,
                        "test": [
                          0.9724197785
                        ]
                      },
                      {
                        "learn": [
                          0.9430609627
                        ],
                        "iteration": 8,
                        "passed_time": 12.62988051,
                        "remaining_time": 127.7021251,
                        "test": [
                          0.941785733
                        ]
                      },
                      {
                        "learn": [
                          0.9162998052
                        ],
                        "iteration": 9,
                        "passed_time": 13.65007469,
                        "remaining_time": 122.8506722,
                        "test": [
                          0.9150019361
                        ]
                      },
                      {
                        "learn": [
                          0.893274582
                        ],
                        "iteration": 10,
                        "passed_time": 15.02459334,
                        "remaining_time": 121.5626188,
                        "test": [
                          0.8918815231
                        ]
                      },
                      {
                        "learn": [
                          0.8736525149
                        ],
                        "iteration": 11,
                        "passed_time": 16.50271292,
                        "remaining_time": 121.0198948,
                        "test": [
                          0.87224281
                        ]
                      },
                      {
                        "learn": [
                          0.8567500652
                        ],
                        "iteration": 12,
                        "passed_time": 18.54279317,
                        "remaining_time": 124.0940773,
                        "test": [
                          0.8552826524
                        ]
                      },
                      {
                        "learn": [
                          0.8426070251
                        ],
                        "iteration": 13,
                        "passed_time": 20.57545836,
                        "remaining_time": 126.3921014,
                        "test": [
                          0.841080816
                        ]
                      },
                      {
                        "learn": [
                          0.8301225948
                        ],
                        "iteration": 14,
                        "passed_time": 22.31081332,
                        "remaining_time": 126.4279422,
                        "test": [
                          0.8285387447
                        ]
                      },
                      {
                        "learn": [
                          0.8199306884
                        ],
                        "iteration": 15,
                        "passed_time": 23.74588819,
                        "remaining_time": 124.665913,
                        "test": [
                          0.8183677728
                        ]
                      },
                      {
                        "learn": [
                          0.8111649016
                        ],
                        "iteration": 16,
                        "passed_time": 24.47035036,
                        "remaining_time": 119.4728871,
                        "test": [
                          0.809611735
                        ]
                      },
                      {
                        "learn": [
                          0.8034939564
                        ],
                        "iteration": 17,
                        "passed_time": 25.28074754,
                        "remaining_time": 115.1678499,
                        "test": [
                          0.8019080279
                        ]
                      },
                      {
                        "learn": [
                          0.7955557787
                        ],
                        "iteration": 18,
                        "passed_time": 26.65248992,
                        "remaining_time": 113.6237728,
                        "test": [
                          0.7940013484
                        ]
                      },
                      {
                        "learn": [
                          0.7893096913
                        ],
                        "iteration": 19,
                        "passed_time": 27.81894273,
                        "remaining_time": 111.2757709,
                        "test": [
                          0.7877287261
                        ]
                      },
                      {
                        "learn": [
                          0.7838029882
                        ],
                        "iteration": 20,
                        "passed_time": 28.95329021,
                        "remaining_time": 108.9195203,
                        "test": [
                          0.7822044216
                        ]
                      },
                      {
                        "learn": [
                          0.7783461572
                        ],
                        "iteration": 21,
                        "passed_time": 29.8065917,
                        "remaining_time": 105.677916,
                        "test": [
                          0.7766566637
                        ]
                      },
                      {
                        "learn": [
                          0.7740151857
                        ],
                        "iteration": 22,
                        "passed_time": 30.51546496,
                        "remaining_time": 102.1604697,
                        "test": [
                          0.7723136543
                        ]
                      },
                      {
                        "learn": [
                          0.7696677084
                        ],
                        "iteration": 23,
                        "passed_time": 31.20852413,
                        "remaining_time": 98.82699306,
                        "test": [
                          0.7679439556
                        ]
                      },
                      {
                        "learn": [
                          0.7665618515
                        ],
                        "iteration": 24,
                        "passed_time": 31.82674369,
                        "remaining_time": 95.48023108,
                        "test": [
                          0.764858801
                        ]
                      },
                      {
                        "learn": [
                          0.7637838891
                        ],
                        "iteration": 25,
                        "passed_time": 32.48839017,
                        "remaining_time": 92.46695665,
                        "test": [
                          0.7620824371
                        ]
                      },
                      {
                        "learn": [
                          0.7605552829
                        ],
                        "iteration": 26,
                        "passed_time": 33.23147643,
                        "remaining_time": 89.84806589,
                        "test": [
                          0.7587771322
                        ]
                      },
                      {
                        "learn": [
                          0.7575213877
                        ],
                        "iteration": 27,
                        "passed_time": 34.23053565,
                        "remaining_time": 88.02137738,
                        "test": [
                          0.7557575605
                        ]
                      },
                      {
                        "learn": [
                          0.7549793356
                        ],
                        "iteration": 28,
                        "passed_time": 35.42012822,
                        "remaining_time": 86.71824496,
                        "test": [
                          0.7531450733
                        ]
                      },
                      {
                        "learn": [
                          0.7531132863
                        ],
                        "iteration": 29,
                        "passed_time": 36.49360713,
                        "remaining_time": 85.15174996,
                        "test": [
                          0.7512819641
                        ]
                      },
                      {
                        "learn": [
                          0.7510658922
                        ],
                        "iteration": 30,
                        "passed_time": 37.6397474,
                        "remaining_time": 83.7787926,
                        "test": [
                          0.7492170365
                        ]
                      },
                      {
                        "learn": [
                          0.7493322054
                        ],
                        "iteration": 31,
                        "passed_time": 38.59173512,
                        "remaining_time": 82.00743713,
                        "test": [
                          0.7475119299
                        ]
                      },
                      {
                        "learn": [
                          0.7473916373
                        ],
                        "iteration": 32,
                        "passed_time": 39.19110786,
                        "remaining_time": 79.56982505,
                        "test": [
                          0.745542506
                        ]
                      },
                      {
                        "learn": [
                          0.744099808
                        ],
                        "iteration": 33,
                        "passed_time": 39.88394951,
                        "remaining_time": 77.42178433,
                        "test": [
                          0.7423168847
                        ]
                      },
                      {
                        "learn": [
                          0.7423834053
                        ],
                        "iteration": 34,
                        "passed_time": 40.58852206,
                        "remaining_time": 75.37868383,
                        "test": [
                          0.7405819675
                        ]
                      },
                      {
                        "learn": [
                          0.7393853307
                        ],
                        "iteration": 35,
                        "passed_time": 41.21009195,
                        "remaining_time": 73.2623857,
                        "test": [
                          0.7376765204
                        ]
                      },
                      {
                        "learn": [
                          0.7379771568
                        ],
                        "iteration": 36,
                        "passed_time": 41.94057332,
                        "remaining_time": 71.41232755,
                        "test": [
                          0.7362483358
                        ]
                      },
                      {
                        "learn": [
                          0.7358460196
                        ],
                        "iteration": 37,
                        "passed_time": 42.58779839,
                        "remaining_time": 69.48535527,
                        "test": [
                          0.7341724061
                        ]
                      },
                      {
                        "learn": [
                          0.7341399779
                        ],
                        "iteration": 38,
                        "passed_time": 43.21119031,
                        "remaining_time": 67.58673356,
                        "test": [
                          0.732472341
                        ]
                      },
                      {
                        "learn": [
                          0.7328272763
                        ],
                        "iteration": 39,
                        "passed_time": 43.83532154,
                        "remaining_time": 65.75298231,
                        "test": [
                          0.7311875859
                        ]
                      },
                      {
                        "learn": [
                          0.7319735233
                        ],
                        "iteration": 40,
                        "passed_time": 44.42294192,
                        "remaining_time": 63.92569691,
                        "test": [
                          0.7303498738
                        ]
                      },
                      {
                        "learn": [
                          0.7309170642
                        ],
                        "iteration": 41,
                        "passed_time": 45.10436358,
                        "remaining_time": 62.28697827,
                        "test": [
                          0.7292890524
                        ]
                      },
                      {
                        "learn": [
                          0.7300538851
                        ],
                        "iteration": 42,
                        "passed_time": 45.76994339,
                        "remaining_time": 60.67178543,
                        "test": [
                          0.7284182244
                        ]
                      },
                      {
                        "learn": [
                          0.7289861126
                        ],
                        "iteration": 43,
                        "passed_time": 46.40668291,
                        "remaining_time": 59.06305098,
                        "test": [
                          0.7273834069
                        ]
                      },
                      {
                        "learn": [
                          0.7276587468
                        ],
                        "iteration": 44,
                        "passed_time": 47.02930692,
                        "remaining_time": 57.48026401,
                        "test": [
                          0.7260536526
                        ]
                      },
                      {
                        "learn": [
                          0.7264411485
                        ],
                        "iteration": 45,
                        "passed_time": 47.72090932,
                        "remaining_time": 56.02019789,
                        "test": [
                          0.7248239733
                        ]
                      },
                      {
                        "learn": [
                          0.7256359798
                        ],
                        "iteration": 46,
                        "passed_time": 48.29144169,
                        "remaining_time": 54.45630658,
                        "test": [
                          0.7240707325
                        ]
                      },
                      {
                        "learn": [
                          0.7245586814
                        ],
                        "iteration": 47,
                        "passed_time": 49.20338689,
                        "remaining_time": 53.30366914,
                        "test": [
                          0.7229903472
                        ]
                      },
                      {
                        "learn": [
                          0.723603956
                        ],
                        "iteration": 48,
                        "passed_time": 50.30599361,
                        "remaining_time": 52.35929947,
                        "test": [
                          0.7220185986
                        ]
                      },
                      {
                        "learn": [
                          0.7215859019
                        ],
                        "iteration": 49,
                        "passed_time": 51.31173729,
                        "remaining_time": 51.31173729,
                        "test": [
                          0.720084126
                        ]
                      },
                      {
                        "learn": [
                          0.7207659413
                        ],
                        "iteration": 50,
                        "passed_time": 52.33531321,
                        "remaining_time": 50.28294799,
                        "test": [
                          0.7192581084
                        ]
                      },
                      {
                        "learn": [
                          0.7201536164
                        ],
                        "iteration": 51,
                        "passed_time": 53.2934764,
                        "remaining_time": 49.19397822,
                        "test": [
                          0.7187116038
                        ]
                      },
                      {
                        "learn": [
                          0.7192108355
                        ],
                        "iteration": 52,
                        "passed_time": 54.17506684,
                        "remaining_time": 48.0420404,
                        "test": [
                          0.7178000102
                        ]
                      },
                      {
                        "learn": [
                          0.7184998839
                        ],
                        "iteration": 53,
                        "passed_time": 54.83181019,
                        "remaining_time": 46.70857905,
                        "test": [
                          0.7170785473
                        ]
                      },
                      {
                        "learn": [
                          0.7178530402
                        ],
                        "iteration": 54,
                        "passed_time": 55.48413491,
                        "remaining_time": 45.39611038,
                        "test": [
                          0.7164320096
                        ]
                      },
                      {
                        "learn": [
                          0.7172031388
                        ],
                        "iteration": 55,
                        "passed_time": 56.08324111,
                        "remaining_time": 44.06540373,
                        "test": [
                          0.7158019771
                        ]
                      },
                      {
                        "learn": [
                          0.7161339886
                        ],
                        "iteration": 56,
                        "passed_time": 56.72554855,
                        "remaining_time": 42.79295768,
                        "test": [
                          0.7147624298
                        ]
                      },
                      {
                        "learn": [
                          0.715529299
                        ],
                        "iteration": 57,
                        "passed_time": 57.34446712,
                        "remaining_time": 41.52530377,
                        "test": [
                          0.7141840811
                        ]
                      },
                      {
                        "learn": [
                          0.714993176
                        ],
                        "iteration": 58,
                        "passed_time": 57.99355238,
                        "remaining_time": 40.3006042,
                        "test": [
                          0.7136608087
                        ]
                      },
                      {
                        "learn": [
                          0.7136149417
                        ],
                        "iteration": 59,
                        "passed_time": 58.55499034,
                        "remaining_time": 39.03666022,
                        "test": [
                          0.712395265
                        ]
                      },
                      {
                        "learn": [
                          0.7130005411
                        ],
                        "iteration": 60,
                        "passed_time": 59.16742125,
                        "remaining_time": 37.82835129,
                        "test": [
                          0.7117818331
                        ]
                      },
                      {
                        "learn": [
                          0.7124366698
                        ],
                        "iteration": 61,
                        "passed_time": 59.80243099,
                        "remaining_time": 36.65310287,
                        "test": [
                          0.7112228995
                        ]
                      },
                      {
                        "learn": [
                          0.7119081593
                        ],
                        "iteration": 62,
                        "passed_time": 60.47078385,
                        "remaining_time": 35.51458734,
                        "test": [
                          0.7106805658
                        ]
                      },
                      {
                        "learn": [
                          0.7109391766
                        ],
                        "iteration": 63,
                        "passed_time": 61.08699964,
                        "remaining_time": 34.3614373,
                        "test": [
                          0.7097670788
                        ]
                      },
                      {
                        "learn": [
                          0.7103286598
                        ],
                        "iteration": 64,
                        "passed_time": 61.71704992,
                        "remaining_time": 33.23225765,
                        "test": [
                          0.7091831675
                        ]
                      },
                      {
                        "learn": [
                          0.7098602738
                        ],
                        "iteration": 65,
                        "passed_time": 62.36288251,
                        "remaining_time": 32.12633341,
                        "test": [
                          0.7086937923
                        ]
                      },
                      {
                        "learn": [
                          0.7094072598
                        ],
                        "iteration": 66,
                        "passed_time": 63.01758309,
                        "remaining_time": 31.03851107,
                        "test": [
                          0.7082287124
                        ]
                      },
                      {
                        "learn": [
                          0.7090673297
                        ],
                        "iteration": 67,
                        "passed_time": 63.63525303,
                        "remaining_time": 29.94600143,
                        "test": [
                          0.7078825835
                        ]
                      },
                      {
                        "learn": [
                          0.708580549
                        ],
                        "iteration": 68,
                        "passed_time": 64.55038615,
                        "remaining_time": 29.00089812,
                        "test": [
                          0.7074191711
                        ]
                      },
                      {
                        "learn": [
                          0.7078752694
                        ],
                        "iteration": 69,
                        "passed_time": 65.59931681,
                        "remaining_time": 28.11399292,
                        "test": [
                          0.7067271418
                        ]
                      },
                      {
                        "learn": [
                          0.7075228287
                        ],
                        "iteration": 70,
                        "passed_time": 66.7297574,
                        "remaining_time": 27.2558164,
                        "test": [
                          0.7063700585
                        ]
                      },
                      {
                        "learn": [
                          0.7065075996
                        ],
                        "iteration": 71,
                        "passed_time": 67.72724197,
                        "remaining_time": 26.33837188,
                        "test": [
                          0.7054452224
                        ]
                      },
                      {
                        "learn": [
                          0.706123715
                        ],
                        "iteration": 72,
                        "passed_time": 68.75884409,
                        "remaining_time": 25.43135329,
                        "test": [
                          0.7050640472
                        ]
                      },
                      {
                        "learn": [
                          0.7057036721
                        ],
                        "iteration": 73,
                        "passed_time": 69.52477005,
                        "remaining_time": 24.42762191,
                        "test": [
                          0.7046788205
                        ]
                      },
                      {
                        "learn": [
                          0.7053141019
                        ],
                        "iteration": 74,
                        "passed_time": 70.16934569,
                        "remaining_time": 23.3897819,
                        "test": [
                          0.7043076659
                        ]
                      },
                      {
                        "learn": [
                          0.7050274055
                        ],
                        "iteration": 75,
                        "passed_time": 70.77836395,
                        "remaining_time": 22.3510623,
                        "test": [
                          0.7040436716
                        ]
                      },
                      {
                        "learn": [
                          0.7045921473
                        ],
                        "iteration": 76,
                        "passed_time": 71.41685373,
                        "remaining_time": 21.33230696,
                        "test": [
                          0.7036163419
                        ]
                      },
                      {
                        "learn": [
                          0.7042968166
                        ],
                        "iteration": 77,
                        "passed_time": 72.05951933,
                        "remaining_time": 20.32447981,
                        "test": [
                          0.7033024868
                        ]
                      },
                      {
                        "learn": [
                          0.7038352737
                        ],
                        "iteration": 78,
                        "passed_time": 72.64773889,
                        "remaining_time": 19.31142426,
                        "test": [
                          0.7028640166
                        ]
                      },
                      {
                        "learn": [
                          0.7035169914
                        ],
                        "iteration": 79,
                        "passed_time": 73.30239091,
                        "remaining_time": 18.32559773,
                        "test": [
                          0.7025308947
                        ]
                      },
                      {
                        "learn": [
                          0.7031300722
                        ],
                        "iteration": 80,
                        "passed_time": 73.97189624,
                        "remaining_time": 17.35143245,
                        "test": [
                          0.7021312558
                        ]
                      },
                      {
                        "learn": [
                          0.7028526918
                        ],
                        "iteration": 81,
                        "passed_time": 74.60896712,
                        "remaining_time": 16.37757815,
                        "test": [
                          0.7018529144
                        ]
                      },
                      {
                        "learn": [
                          0.702546319
                        ],
                        "iteration": 82,
                        "passed_time": 75.19655374,
                        "remaining_time": 15.40170378,
                        "test": [
                          0.701586072
                        ]
                      },
                      {
                        "learn": [
                          0.7015944729
                        ],
                        "iteration": 83,
                        "passed_time": 75.85538916,
                        "remaining_time": 14.44864555,
                        "test": [
                          0.7006497782
                        ]
                      },
                      {
                        "learn": [
                          0.7013194465
                        ],
                        "iteration": 84,
                        "passed_time": 76.53283277,
                        "remaining_time": 13.50579402,
                        "test": [
                          0.7003641291
                        ]
                      },
                      {
                        "learn": [
                          0.7011019659
                        ],
                        "iteration": 85,
                        "passed_time": 77.15682418,
                        "remaining_time": 12.56041324,
                        "test": [
                          0.7001412005
                        ]
                      },
                      {
                        "learn": [
                          0.7008484694
                        ],
                        "iteration": 86,
                        "passed_time": 77.72003534,
                        "remaining_time": 11.61333861,
                        "test": [
                          0.6999289881
                        ]
                      },
                      {
                        "learn": [
                          0.7006297424
                        ],
                        "iteration": 87,
                        "passed_time": 78.9243161,
                        "remaining_time": 10.76240674,
                        "test": [
                          0.6997031679
                        ]
                      },
                      {
                        "learn": [
                          0.700410029
                        ],
                        "iteration": 88,
                        "passed_time": 79.87171314,
                        "remaining_time": 9.87178477,
                        "test": [
                          0.6994750987
                        ]
                      },
                      {
                        "learn": [
                          0.7001244503
                        ],
                        "iteration": 89,
                        "passed_time": 80.95544471,
                        "remaining_time": 8.995049412,
                        "test": [
                          0.6992073568
                        ]
                      },
                      {
                        "learn": [
                          0.6993739964
                        ],
                        "iteration": 90,
                        "passed_time": 82.06129974,
                        "remaining_time": 8.115952721,
                        "test": [
                          0.6984684434
                        ]
                      },
                      {
                        "learn": [
                          0.6991231334
                        ],
                        "iteration": 91,
                        "passed_time": 83.12404327,
                        "remaining_time": 7.228177676,
                        "test": [
                          0.6982345171
                        ]
                      },
                      {
                        "learn": [
                          0.6987525651
                        ],
                        "iteration": 92,
                        "passed_time": 84.10492557,
                        "remaining_time": 6.330478268,
                        "test": [
                          0.6978658465
                        ]
                      },
                      {
                        "learn": [
                          0.6985360829
                        ],
                        "iteration": 93,
                        "passed_time": 84.94082394,
                        "remaining_time": 5.421754719,
                        "test": [
                          0.6976566739
                        ]
                      },
                      {
                        "learn": [
                          0.6983374447
                        ],
                        "iteration": 94,
                        "passed_time": 85.5393946,
                        "remaining_time": 4.5020734,
                        "test": [
                          0.6974582457
                        ]
                      },
                      {
                        "learn": [
                          0.6981625248
                        ],
                        "iteration": 95,
                        "passed_time": 86.13062683,
                        "remaining_time": 3.588776118,
                        "test": [
                          0.6973113246
                        ]
                      },
                      {
                        "learn": [
                          0.6979128203
                        ],
                        "iteration": 96,
                        "passed_time": 86.7804091,
                        "remaining_time": 2.683930178,
                        "test": [
                          0.6970502116
                        ]
                      },
                      {
                        "learn": [
                          0.6977111669
                        ],
                        "iteration": 97,
                        "passed_time": 87.39388507,
                        "remaining_time": 1.783548675,
                        "test": [
                          0.696846764
                        ]
                      },
                      {
                        "learn": [
                          0.6974162628
                        ],
                        "iteration": 98,
                        "passed_time": 88.10345091,
                        "remaining_time": 0.8899338476,
                        "test": [
                          0.6965577896
                        ]
                      },
                      {
                        "learn": [
                          0.6972593338
                        ],
                        "iteration": 99,
                        "passed_time": 88.67041661,
                        "remaining_time": 0,
                        "test": [
                          0.6963904724
                        ]
                      }
                    ],
                    "meta": {
                      "test_sets": [
                        "test"
                      ],
                      "test_metrics": [
                        {
                          "best_value": "Min",
                          "name": "RMSE"
                        }
                      ],
                      "learn_metrics": [
                        {
                          "best_value": "Min",
                          "name": "RMSE"
                        }
                      ],
                      "launch_mode": "Train",
                      "parameters": "",
                      "iteration_count": 100,
                      "learn_sets": [
                        "learn"
                      ],
                      "name": "experiment"
                    }
                  }
                }
              }
            },
            "layout": "IPY_MODEL_9e33002219964ad58c9c951e3fe6220e"
          }
        },
        "4aa503b9197143cb8cd08337fe73c3d4": {
          "model_module": "catboost-widget",
          "model_name": "CatboostWidgetModel",
          "model_module_version": "^1.0.0",
          "state": {
            "_dom_classes": [],
            "_model_module": "catboost-widget",
            "_model_module_version": "^1.0.0",
            "_model_name": "CatboostWidgetModel",
            "_view_count": null,
            "_view_module": "catboost-widget",
            "_view_module_version": "^1.0.0",
            "_view_name": "CatboostWidgetView",
            "data": {
              "catboost_info": {
                "path": "catboost_info",
                "name": "catboost_info",
                "content": {
                  "passed_iterations": 170,
                  "total_iterations": 300,
                  "data": {
                    "iterations": [
                      {
                        "learn": [
                          1.2759022
                        ],
                        "iteration": 0,
                        "passed_time": 1.300322863,
                        "remaining_time": 388.796536,
                        "test": [
                          1.275105413
                        ]
                      },
                      {
                        "learn": [
                          1.122171557
                        ],
                        "iteration": 1,
                        "passed_time": 2.981451717,
                        "remaining_time": 444.2363058,
                        "test": [
                          1.1211398
                        ]
                      },
                      {
                        "learn": [
                          1.009152778
                        ],
                        "iteration": 2,
                        "passed_time": 4.686154367,
                        "remaining_time": 463.9292823,
                        "test": [
                          1.008017569
                        ]
                      },
                      {
                        "learn": [
                          0.9247410658
                        ],
                        "iteration": 3,
                        "passed_time": 6.332935809,
                        "remaining_time": 468.6372499,
                        "test": [
                          0.9234162622
                        ]
                      },
                      {
                        "learn": [
                          0.8640725569
                        ],
                        "iteration": 4,
                        "passed_time": 7.353107585,
                        "remaining_time": 433.8333475,
                        "test": [
                          0.8625758544
                        ]
                      },
                      {
                        "learn": [
                          0.8202810225
                        ],
                        "iteration": 5,
                        "passed_time": 8.410548804,
                        "remaining_time": 412.1168914,
                        "test": [
                          0.8186734247
                        ]
                      },
                      {
                        "learn": [
                          0.7887282665
                        ],
                        "iteration": 6,
                        "passed_time": 9.397393977,
                        "remaining_time": 393.3480622,
                        "test": [
                          0.7870929284
                        ]
                      },
                      {
                        "learn": [
                          0.7662251682
                        ],
                        "iteration": 7,
                        "passed_time": 10.52168387,
                        "remaining_time": 384.0414612,
                        "test": [
                          0.7645372683
                        ]
                      },
                      {
                        "learn": [
                          0.7506245028
                        ],
                        "iteration": 8,
                        "passed_time": 11.51105113,
                        "remaining_time": 372.1906531,
                        "test": [
                          0.749048602
                        ]
                      },
                      {
                        "learn": [
                          0.7383792234
                        ],
                        "iteration": 9,
                        "passed_time": 12.49174034,
                        "remaining_time": 362.2604699,
                        "test": [
                          0.7368107411
                        ]
                      },
                      {
                        "learn": [
                          0.7282424705
                        ],
                        "iteration": 10,
                        "passed_time": 13.60291756,
                        "remaining_time": 357.3857431,
                        "test": [
                          0.7266858822
                        ]
                      },
                      {
                        "learn": [
                          0.7209030783
                        ],
                        "iteration": 11,
                        "passed_time": 14.56527172,
                        "remaining_time": 349.5665213,
                        "test": [
                          0.7193296856
                        ]
                      },
                      {
                        "learn": [
                          0.7139999446
                        ],
                        "iteration": 12,
                        "passed_time": 15.60779107,
                        "remaining_time": 344.5720029,
                        "test": [
                          0.7123987755
                        ]
                      },
                      {
                        "learn": [
                          0.7082809995
                        ],
                        "iteration": 13,
                        "passed_time": 16.90207037,
                        "remaining_time": 345.2851519,
                        "test": [
                          0.7067491107
                        ]
                      },
                      {
                        "learn": [
                          0.7047877241
                        ],
                        "iteration": 14,
                        "passed_time": 18.47251811,
                        "remaining_time": 350.9778441,
                        "test": [
                          0.7033376247
                        ]
                      },
                      {
                        "learn": [
                          0.7011947871
                        ],
                        "iteration": 15,
                        "passed_time": 21.26891103,
                        "remaining_time": 377.5231707,
                        "test": [
                          0.6997768528
                        ]
                      },
                      {
                        "learn": [
                          0.697060186
                        ],
                        "iteration": 16,
                        "passed_time": 22.52685109,
                        "remaining_time": 375.0058152,
                        "test": [
                          0.6957930336
                        ]
                      },
                      {
                        "learn": [
                          0.6931314704
                        ],
                        "iteration": 17,
                        "passed_time": 23.62507273,
                        "remaining_time": 370.1261394,
                        "test": [
                          0.6918397483
                        ]
                      },
                      {
                        "learn": [
                          0.6900903459
                        ],
                        "iteration": 18,
                        "passed_time": 24.63021497,
                        "remaining_time": 364.2679162,
                        "test": [
                          0.6889056807
                        ]
                      },
                      {
                        "learn": [
                          0.6877767332
                        ],
                        "iteration": 19,
                        "passed_time": 25.60411891,
                        "remaining_time": 358.4576647,
                        "test": [
                          0.6866372418
                        ]
                      },
                      {
                        "learn": [
                          0.6854084508
                        ],
                        "iteration": 20,
                        "passed_time": 26.56271966,
                        "remaining_time": 352.9047041,
                        "test": [
                          0.6843530478
                        ]
                      },
                      {
                        "learn": [
                          0.6836185576
                        ],
                        "iteration": 21,
                        "passed_time": 27.61480149,
                        "remaining_time": 348.9506734,
                        "test": [
                          0.6826726006
                        ]
                      },
                      {
                        "learn": [
                          0.681901496
                        ],
                        "iteration": 22,
                        "passed_time": 28.60173697,
                        "remaining_time": 344.4643974,
                        "test": [
                          0.6810301028
                        ]
                      },
                      {
                        "learn": [
                          0.6801710631
                        ],
                        "iteration": 23,
                        "passed_time": 29.50744947,
                        "remaining_time": 339.3356689,
                        "test": [
                          0.6792876898
                        ]
                      },
                      {
                        "learn": [
                          0.6787314344
                        ],
                        "iteration": 24,
                        "passed_time": 30.44351311,
                        "remaining_time": 334.8786443,
                        "test": [
                          0.677934069
                        ]
                      },
                      {
                        "learn": [
                          0.677443074
                        ],
                        "iteration": 25,
                        "passed_time": 31.42807826,
                        "remaining_time": 331.203594,
                        "test": [
                          0.6766342491
                        ]
                      },
                      {
                        "learn": [
                          0.6759436304
                        ],
                        "iteration": 26,
                        "passed_time": 33.19409061,
                        "remaining_time": 335.6291384,
                        "test": [
                          0.6751308366
                        ]
                      },
                      {
                        "learn": [
                          0.6750561196
                        ],
                        "iteration": 27,
                        "passed_time": 36.4219135,
                        "remaining_time": 353.812874,
                        "test": [
                          0.6742645691
                        ]
                      },
                      {
                        "learn": [
                          0.6740655839
                        ],
                        "iteration": 28,
                        "passed_time": 38.98906117,
                        "remaining_time": 364.3460544,
                        "test": [
                          0.6733435932
                        ]
                      },
                      {
                        "learn": [
                          0.6727648553
                        ],
                        "iteration": 29,
                        "passed_time": 41.14507392,
                        "remaining_time": 370.3056653,
                        "test": [
                          0.672138776
                        ]
                      },
                      {
                        "learn": [
                          0.6718931157
                        ],
                        "iteration": 30,
                        "passed_time": 42.90860219,
                        "remaining_time": 372.3359351,
                        "test": [
                          0.671313588
                        ]
                      },
                      {
                        "learn": [
                          0.671251254
                        ],
                        "iteration": 31,
                        "passed_time": 44.72987981,
                        "remaining_time": 374.6127434,
                        "test": [
                          0.67069285
                        ]
                      },
                      {
                        "learn": [
                          0.6697373065
                        ],
                        "iteration": 32,
                        "passed_time": 46.5472417,
                        "remaining_time": 376.609501,
                        "test": [
                          0.6691547658
                        ]
                      },
                      {
                        "learn": [
                          0.6690583127
                        ],
                        "iteration": 33,
                        "passed_time": 48.360173,
                        "remaining_time": 378.3472358,
                        "test": [
                          0.6684645565
                        ]
                      },
                      {
                        "learn": [
                          0.6681510951
                        ],
                        "iteration": 34,
                        "passed_time": 50.01779091,
                        "remaining_time": 378.7061312,
                        "test": [
                          0.6675563417
                        ]
                      },
                      {
                        "learn": [
                          0.6674790156
                        ],
                        "iteration": 35,
                        "passed_time": 51.63056144,
                        "remaining_time": 378.6241172,
                        "test": [
                          0.6668829709
                        ]
                      },
                      {
                        "learn": [
                          0.6668685862
                        ],
                        "iteration": 36,
                        "passed_time": 53.10271093,
                        "remaining_time": 377.4598101,
                        "test": [
                          0.6662888694
                        ]
                      },
                      {
                        "learn": [
                          0.6662168784
                        ],
                        "iteration": 37,
                        "passed_time": 54.0109188,
                        "remaining_time": 372.3910717,
                        "test": [
                          0.6656336805
                        ]
                      },
                      {
                        "learn": [
                          0.665556614
                        ],
                        "iteration": 38,
                        "passed_time": 54.9216481,
                        "remaining_time": 367.552568,
                        "test": [
                          0.6649921895
                        ]
                      },
                      {
                        "learn": [
                          0.6642052194
                        ],
                        "iteration": 39,
                        "passed_time": 55.9119526,
                        "remaining_time": 363.4276919,
                        "test": [
                          0.6635730409
                        ]
                      },
                      {
                        "learn": [
                          0.6634526782
                        ],
                        "iteration": 40,
                        "passed_time": 56.90838815,
                        "remaining_time": 359.494452,
                        "test": [
                          0.6628759991
                        ]
                      },
                      {
                        "learn": [
                          0.6625999828
                        ],
                        "iteration": 41,
                        "passed_time": 57.85641471,
                        "remaining_time": 355.4036903,
                        "test": [
                          0.6620743851
                        ]
                      },
                      {
                        "learn": [
                          0.6622594353
                        ],
                        "iteration": 42,
                        "passed_time": 58.73918104,
                        "remaining_time": 351.0690587,
                        "test": [
                          0.6617160213
                        ]
                      },
                      {
                        "learn": [
                          0.6613652768
                        ],
                        "iteration": 43,
                        "passed_time": 59.64654754,
                        "remaining_time": 347.0344584,
                        "test": [
                          0.6607963952
                        ]
                      },
                      {
                        "learn": [
                          0.6604477368
                        ],
                        "iteration": 44,
                        "passed_time": 60.60666556,
                        "remaining_time": 343.4377715,
                        "test": [
                          0.6599798104
                        ]
                      },
                      {
                        "learn": [
                          0.6598456496
                        ],
                        "iteration": 45,
                        "passed_time": 61.71087136,
                        "remaining_time": 340.7513332,
                        "test": [
                          0.6593623296
                        ]
                      },
                      {
                        "learn": [
                          0.6593071482
                        ],
                        "iteration": 46,
                        "passed_time": 62.59006195,
                        "remaining_time": 336.9209718,
                        "test": [
                          0.6588309159
                        ]
                      },
                      {
                        "learn": [
                          0.6588088038
                        ],
                        "iteration": 47,
                        "passed_time": 64.09608052,
                        "remaining_time": 336.5044227,
                        "test": [
                          0.6583565246
                        ]
                      },
                      {
                        "learn": [
                          0.6577666873
                        ],
                        "iteration": 48,
                        "passed_time": 65.82285221,
                        "remaining_time": 337.1742021,
                        "test": [
                          0.6574138386
                        ]
                      },
                      {
                        "learn": [
                          0.6573261639
                        ],
                        "iteration": 49,
                        "passed_time": 67.36456965,
                        "remaining_time": 336.8228483,
                        "test": [
                          0.6569610633
                        ]
                      },
                      {
                        "learn": [
                          0.6569966004
                        ],
                        "iteration": 50,
                        "passed_time": 68.68642435,
                        "remaining_time": 335.351366,
                        "test": [
                          0.6566567873
                        ]
                      },
                      {
                        "learn": [
                          0.6564858498
                        ],
                        "iteration": 51,
                        "passed_time": 69.66579837,
                        "remaining_time": 332.2522691,
                        "test": [
                          0.656161688
                        ]
                      },
                      {
                        "learn": [
                          0.6560055181
                        ],
                        "iteration": 52,
                        "passed_time": 70.74319498,
                        "remaining_time": 329.6899841,
                        "test": [
                          0.655688388
                        ]
                      },
                      {
                        "learn": [
                          0.6557040583
                        ],
                        "iteration": 53,
                        "passed_time": 71.77916577,
                        "remaining_time": 326.9939774,
                        "test": [
                          0.6554322016
                        ]
                      },
                      {
                        "learn": [
                          0.6550739386
                        ],
                        "iteration": 54,
                        "passed_time": 72.79889755,
                        "remaining_time": 324.2859982,
                        "test": [
                          0.6547835198
                        ]
                      },
                      {
                        "learn": [
                          0.654458846
                        ],
                        "iteration": 55,
                        "passed_time": 73.81111193,
                        "remaining_time": 321.6055591,
                        "test": [
                          0.6542278998
                        ]
                      },
                      {
                        "learn": [
                          0.6537460971
                        ],
                        "iteration": 56,
                        "passed_time": 74.85144103,
                        "remaining_time": 319.1035117,
                        "test": [
                          0.6535749098
                        ]
                      },
                      {
                        "learn": [
                          0.6533735357
                        ],
                        "iteration": 57,
                        "passed_time": 76.61020269,
                        "remaining_time": 319.6494664,
                        "test": [
                          0.6532495972
                        ]
                      },
                      {
                        "learn": [
                          0.6527447465
                        ],
                        "iteration": 58,
                        "passed_time": 78.10299619,
                        "remaining_time": 319.0308828,
                        "test": [
                          0.652646002
                        ]
                      },
                      {
                        "learn": [
                          0.6524082524
                        ],
                        "iteration": 59,
                        "passed_time": 81.31951262,
                        "remaining_time": 325.2780505,
                        "test": [
                          0.6523367386
                        ]
                      },
                      {
                        "learn": [
                          0.6519621189
                        ],
                        "iteration": 60,
                        "passed_time": 84.69099687,
                        "remaining_time": 331.8221025,
                        "test": [
                          0.6519432001
                        ]
                      },
                      {
                        "learn": [
                          0.6513469453
                        ],
                        "iteration": 61,
                        "passed_time": 87.43198985,
                        "remaining_time": 335.6260256,
                        "test": [
                          0.6513904628
                        ]
                      },
                      {
                        "learn": [
                          0.6508561225
                        ],
                        "iteration": 62,
                        "passed_time": 90.05870544,
                        "remaining_time": 338.7922728,
                        "test": [
                          0.6509349114
                        ]
                      },
                      {
                        "learn": [
                          0.6505187787
                        ],
                        "iteration": 63,
                        "passed_time": 92.62287447,
                        "remaining_time": 341.5468496,
                        "test": [
                          0.6506003044
                        ]
                      },
                      {
                        "learn": [
                          0.6498194216
                        ],
                        "iteration": 64,
                        "passed_time": 94.64345947,
                        "remaining_time": 342.1725073,
                        "test": [
                          0.6499493039
                        ]
                      },
                      {
                        "learn": [
                          0.6495788854
                        ],
                        "iteration": 65,
                        "passed_time": 97.52981565,
                        "remaining_time": 345.7875282,
                        "test": [
                          0.6497618362
                        ]
                      },
                      {
                        "learn": [
                          0.6489273537
                        ],
                        "iteration": 66,
                        "passed_time": 100.0711275,
                        "remaining_time": 348.0085477,
                        "test": [
                          0.6491325153
                        ]
                      },
                      {
                        "learn": [
                          0.6484904343
                        ],
                        "iteration": 67,
                        "passed_time": 101.5334761,
                        "remaining_time": 346.4083301,
                        "test": [
                          0.6487252651
                        ]
                      },
                      {
                        "learn": [
                          0.6482230882
                        ],
                        "iteration": 68,
                        "passed_time": 102.9270257,
                        "remaining_time": 344.5817817,
                        "test": [
                          0.6484872301
                        ]
                      },
                      {
                        "learn": [
                          0.6473396369
                        ],
                        "iteration": 69,
                        "passed_time": 104.2146704,
                        "remaining_time": 342.4196312,
                        "test": [
                          0.6477349813
                        ]
                      },
                      {
                        "learn": [
                          0.6470616292
                        ],
                        "iteration": 70,
                        "passed_time": 105.3410636,
                        "remaining_time": 339.7620219,
                        "test": [
                          0.6475014489
                        ]
                      },
                      {
                        "learn": [
                          0.6467694003
                        ],
                        "iteration": 71,
                        "passed_time": 106.2901589,
                        "remaining_time": 336.5855033,
                        "test": [
                          0.6472452882
                        ]
                      },
                      {
                        "learn": [
                          0.6464759439
                        ],
                        "iteration": 72,
                        "passed_time": 107.2964529,
                        "remaining_time": 333.647874,
                        "test": [
                          0.6469612277
                        ]
                      },
                      {
                        "learn": [
                          0.6458804613
                        ],
                        "iteration": 73,
                        "passed_time": 108.4242123,
                        "remaining_time": 331.1334052,
                        "test": [
                          0.6464393226
                        ]
                      },
                      {
                        "learn": [
                          0.6455865689
                        ],
                        "iteration": 74,
                        "passed_time": 109.5385442,
                        "remaining_time": 328.6156325,
                        "test": [
                          0.6461568072
                        ]
                      },
                      {
                        "learn": [
                          0.6450656337
                        ],
                        "iteration": 75,
                        "passed_time": 110.6887889,
                        "remaining_time": 326.2406409,
                        "test": [
                          0.6456774167
                        ]
                      },
                      {
                        "learn": [
                          0.6447275226
                        ],
                        "iteration": 76,
                        "passed_time": 113.5456151,
                        "remaining_time": 328.8398984,
                        "test": [
                          0.6453575627
                        ]
                      },
                      {
                        "learn": [
                          0.644424039
                        ],
                        "iteration": 77,
                        "passed_time": 115.8194285,
                        "remaining_time": 329.6399119,
                        "test": [
                          0.6450605196
                        ]
                      },
                      {
                        "learn": [
                          0.6440053962
                        ],
                        "iteration": 78,
                        "passed_time": 117.5670728,
                        "remaining_time": 328.8901657,
                        "test": [
                          0.6446347958
                        ]
                      },
                      {
                        "learn": [
                          0.643704593
                        ],
                        "iteration": 79,
                        "passed_time": 118.6200434,
                        "remaining_time": 326.2051194,
                        "test": [
                          0.6443582927
                        ]
                      },
                      {
                        "learn": [
                          0.6434439029
                        ],
                        "iteration": 80,
                        "passed_time": 119.5488902,
                        "remaining_time": 323.2247771,
                        "test": [
                          0.6440783056
                        ]
                      },
                      {
                        "learn": [
                          0.6427990591
                        ],
                        "iteration": 81,
                        "passed_time": 120.4882075,
                        "remaining_time": 320.3223077,
                        "test": [
                          0.6434686362
                        ]
                      },
                      {
                        "learn": [
                          0.6424760525
                        ],
                        "iteration": 82,
                        "passed_time": 121.4264548,
                        "remaining_time": 317.4643458,
                        "test": [
                          0.6431542126
                        ]
                      },
                      {
                        "learn": [
                          0.6420381603
                        ],
                        "iteration": 83,
                        "passed_time": 122.4392441,
                        "remaining_time": 314.8437705,
                        "test": [
                          0.6427770361
                        ]
                      },
                      {
                        "learn": [
                          0.6414857729
                        ],
                        "iteration": 84,
                        "passed_time": 123.4586996,
                        "remaining_time": 312.2778873,
                        "test": [
                          0.6422198033
                        ]
                      },
                      {
                        "learn": [
                          0.6411889697
                        ],
                        "iteration": 85,
                        "passed_time": 124.5102601,
                        "remaining_time": 309.8278565,
                        "test": [
                          0.6419568613
                        ]
                      },
                      {
                        "learn": [
                          0.6408551525
                        ],
                        "iteration": 86,
                        "passed_time": 125.5118468,
                        "remaining_time": 307.287625,
                        "test": [
                          0.6416209889
                        ]
                      },
                      {
                        "learn": [
                          0.6405592282
                        ],
                        "iteration": 87,
                        "passed_time": 126.5235494,
                        "remaining_time": 304.8067328,
                        "test": [
                          0.6413649399
                        ]
                      },
                      {
                        "learn": [
                          0.6403656684
                        ],
                        "iteration": 88,
                        "passed_time": 128.0065921,
                        "remaining_time": 303.4763026,
                        "test": [
                          0.6411801249
                        ]
                      },
                      {
                        "learn": [
                          0.6401818207
                        ],
                        "iteration": 89,
                        "passed_time": 129.5814657,
                        "remaining_time": 302.3567533,
                        "test": [
                          0.6410032205
                        ]
                      },
                      {
                        "learn": [
                          0.6398305271
                        ],
                        "iteration": 90,
                        "passed_time": 131.3743322,
                        "remaining_time": 301.727862,
                        "test": [
                          0.6406715545
                        ]
                      },
                      {
                        "learn": [
                          0.6395531201
                        ],
                        "iteration": 91,
                        "passed_time": 132.4261397,
                        "remaining_time": 299.398229,
                        "test": [
                          0.6404246835
                        ]
                      },
                      {
                        "learn": [
                          0.6393120272
                        ],
                        "iteration": 92,
                        "passed_time": 133.3264052,
                        "remaining_time": 296.7587728,
                        "test": [
                          0.6402428269
                        ]
                      },
                      {
                        "learn": [
                          0.6390625432
                        ],
                        "iteration": 93,
                        "passed_time": 134.4324885,
                        "remaining_time": 294.6073683,
                        "test": [
                          0.6399970015
                        ]
                      },
                      {
                        "learn": [
                          0.6386501559
                        ],
                        "iteration": 94,
                        "passed_time": 135.7600782,
                        "remaining_time": 292.9559582,
                        "test": [
                          0.6395846025
                        ]
                      },
                      {
                        "learn": [
                          0.6379261892
                        ],
                        "iteration": 95,
                        "passed_time": 136.9955068,
                        "remaining_time": 291.1154519,
                        "test": [
                          0.6388666203
                        ]
                      },
                      {
                        "learn": [
                          0.6375276882
                        ],
                        "iteration": 96,
                        "passed_time": 138.131469,
                        "remaining_time": 289.0792599,
                        "test": [
                          0.6385273856
                        ]
                      },
                      {
                        "learn": [
                          0.6372078338
                        ],
                        "iteration": 97,
                        "passed_time": 139.3616566,
                        "remaining_time": 287.2556595,
                        "test": [
                          0.6382260742
                        ]
                      },
                      {
                        "learn": [
                          0.6369472313
                        ],
                        "iteration": 98,
                        "passed_time": 140.7306911,
                        "remaining_time": 285.7259485,
                        "test": [
                          0.6379826766
                        ]
                      },
                      {
                        "learn": [
                          0.6367474691
                        ],
                        "iteration": 99,
                        "passed_time": 142.0488065,
                        "remaining_time": 284.0976129,
                        "test": [
                          0.637791772
                        ]
                      },
                      {
                        "learn": [
                          0.6364106963
                        ],
                        "iteration": 100,
                        "passed_time": 143.8665742,
                        "remaining_time": 283.4598839,
                        "test": [
                          0.6374545924
                        ]
                      },
                      {
                        "learn": [
                          0.635914672
                        ],
                        "iteration": 101,
                        "passed_time": 145.7346074,
                        "remaining_time": 282.8965909,
                        "test": [
                          0.6369463754
                        ]
                      },
                      {
                        "learn": [
                          0.6356946443
                        ],
                        "iteration": 102,
                        "passed_time": 147.4612448,
                        "remaining_time": 282.0375265,
                        "test": [
                          0.6367353555
                        ]
                      },
                      {
                        "learn": [
                          0.6354422053
                        ],
                        "iteration": 103,
                        "passed_time": 148.6077251,
                        "remaining_time": 280.068405,
                        "test": [
                          0.6365083471
                        ]
                      },
                      {
                        "learn": [
                          0.6352326492
                        ],
                        "iteration": 104,
                        "passed_time": 150.1164676,
                        "remaining_time": 278.7877255,
                        "test": [
                          0.6363292349
                        ]
                      },
                      {
                        "learn": [
                          0.63491724
                        ],
                        "iteration": 105,
                        "passed_time": 151.4410299,
                        "remaining_time": 277.1656585,
                        "test": [
                          0.6360378568
                        ]
                      },
                      {
                        "learn": [
                          0.6345741609
                        ],
                        "iteration": 106,
                        "passed_time": 152.840646,
                        "remaining_time": 275.6845298,
                        "test": [
                          0.6357324389
                        ]
                      },
                      {
                        "learn": [
                          0.6344107359
                        ],
                        "iteration": 107,
                        "passed_time": 154.1227553,
                        "remaining_time": 273.9960093,
                        "test": [
                          0.6356117417
                        ]
                      },
                      {
                        "learn": [
                          0.634210604
                        ],
                        "iteration": 108,
                        "passed_time": 155.5284287,
                        "remaining_time": 272.5314668,
                        "test": [
                          0.6354483279
                        ]
                      },
                      {
                        "learn": [
                          0.6339133923
                        ],
                        "iteration": 109,
                        "passed_time": 156.9838637,
                        "remaining_time": 271.1539464,
                        "test": [
                          0.6351869553
                        ]
                      },
                      {
                        "learn": [
                          0.6336474699
                        ],
                        "iteration": 110,
                        "passed_time": 159.0430933,
                        "remaining_time": 270.8031048,
                        "test": [
                          0.6349517987
                        ]
                      },
                      {
                        "learn": [
                          0.6334011733
                        ],
                        "iteration": 111,
                        "passed_time": 162.2086433,
                        "remaining_time": 272.278794,
                        "test": [
                          0.6347118882
                        ]
                      },
                      {
                        "learn": [
                          0.6331615132
                        ],
                        "iteration": 112,
                        "passed_time": 164.2250086,
                        "remaining_time": 271.7705895,
                        "test": [
                          0.6345115214
                        ]
                      },
                      {
                        "learn": [
                          0.6329686958
                        ],
                        "iteration": 113,
                        "passed_time": 165.6307573,
                        "remaining_time": 270.2396567,
                        "test": [
                          0.6343569837
                        ]
                      },
                      {
                        "learn": [
                          0.6325362695
                        ],
                        "iteration": 114,
                        "passed_time": 167.842142,
                        "remaining_time": 270.006924,
                        "test": [
                          0.6339589906
                        ]
                      },
                      {
                        "learn": [
                          0.6323916928
                        ],
                        "iteration": 115,
                        "passed_time": 168.9865428,
                        "remaining_time": 268.0476196,
                        "test": [
                          0.6338260811
                        ]
                      },
                      {
                        "learn": [
                          0.6319733375
                        ],
                        "iteration": 116,
                        "passed_time": 170.0021706,
                        "remaining_time": 265.9008309,
                        "test": [
                          0.6334432887
                        ]
                      },
                      {
                        "learn": [
                          0.631846867
                        ],
                        "iteration": 117,
                        "passed_time": 171.0093373,
                        "remaining_time": 263.7601643,
                        "test": [
                          0.6333357834
                        ]
                      },
                      {
                        "learn": [
                          0.6317248995
                        ],
                        "iteration": 118,
                        "passed_time": 172.0131922,
                        "remaining_time": 261.6335108,
                        "test": [
                          0.6332251485
                        ]
                      },
                      {
                        "learn": [
                          0.631571924
                        ],
                        "iteration": 119,
                        "passed_time": 173.069633,
                        "remaining_time": 259.6044494,
                        "test": [
                          0.6330894316
                        ]
                      },
                      {
                        "learn": [
                          0.6313419484
                        ],
                        "iteration": 120,
                        "passed_time": 174.719592,
                        "remaining_time": 258.4694791,
                        "test": [
                          0.6328778745
                        ]
                      },
                      {
                        "learn": [
                          0.6310354293
                        ],
                        "iteration": 121,
                        "passed_time": 176.7233615,
                        "remaining_time": 257.8422815,
                        "test": [
                          0.632621862
                        ]
                      },
                      {
                        "learn": [
                          0.630818486
                        ],
                        "iteration": 122,
                        "passed_time": 178.4920067,
                        "remaining_time": 256.8543511,
                        "test": [
                          0.6323764856
                        ]
                      },
                      {
                        "learn": [
                          0.6302735995
                        ],
                        "iteration": 123,
                        "passed_time": 179.7060261,
                        "remaining_time": 255.0666177,
                        "test": [
                          0.6319690396
                        ]
                      },
                      {
                        "learn": [
                          0.630000717
                        ],
                        "iteration": 124,
                        "passed_time": 180.7850075,
                        "remaining_time": 253.0990106,
                        "test": [
                          0.6317333622
                        ]
                      },
                      {
                        "learn": [
                          0.6297466071
                        ],
                        "iteration": 125,
                        "passed_time": 182.4079084,
                        "remaining_time": 251.8966353,
                        "test": [
                          0.6314801037
                        ]
                      },
                      {
                        "learn": [
                          0.6292297065
                        ],
                        "iteration": 126,
                        "passed_time": 184.1925655,
                        "remaining_time": 250.907983,
                        "test": [
                          0.630954416
                        ]
                      },
                      {
                        "learn": [
                          0.629087664
                        ],
                        "iteration": 127,
                        "passed_time": 186.6176884,
                        "remaining_time": 250.7675188,
                        "test": [
                          0.6308326136
                        ]
                      },
                      {
                        "learn": [
                          0.6288663645
                        ],
                        "iteration": 128,
                        "passed_time": 187.6501591,
                        "remaining_time": 248.7455597,
                        "test": [
                          0.6306262408
                        ]
                      },
                      {
                        "learn": [
                          0.628599289
                        ],
                        "iteration": 129,
                        "passed_time": 188.7801382,
                        "remaining_time": 246.8663345,
                        "test": [
                          0.6303469287
                        ]
                      },
                      {
                        "learn": [
                          0.6284506896
                        ],
                        "iteration": 130,
                        "passed_time": 190.3789561,
                        "remaining_time": 245.6033862,
                        "test": [
                          0.6302246331
                        ]
                      },
                      {
                        "learn": [
                          0.628056432
                        ],
                        "iteration": 131,
                        "passed_time": 193.0619091,
                        "remaining_time": 245.7151571,
                        "test": [
                          0.6298621224
                        ]
                      },
                      {
                        "learn": [
                          0.6278489673
                        ],
                        "iteration": 132,
                        "passed_time": 195.4852265,
                        "remaining_time": 245.4588934,
                        "test": [
                          0.6296748525
                        ]
                      },
                      {
                        "learn": [
                          0.6276082078
                        ],
                        "iteration": 133,
                        "passed_time": 196.9373587,
                        "remaining_time": 243.9671757,
                        "test": [
                          0.629452652
                        ]
                      },
                      {
                        "learn": [
                          0.6274527989
                        ],
                        "iteration": 134,
                        "passed_time": 198.2146928,
                        "remaining_time": 242.2624023,
                        "test": [
                          0.6293258108
                        ]
                      },
                      {
                        "learn": [
                          0.6271378408
                        ],
                        "iteration": 135,
                        "passed_time": 199.8881679,
                        "remaining_time": 241.0416143,
                        "test": [
                          0.6290358293
                        ]
                      },
                      {
                        "learn": [
                          0.6267988251
                        ],
                        "iteration": 136,
                        "passed_time": 202.0482584,
                        "remaining_time": 240.3931834,
                        "test": [
                          0.6287087871
                        ]
                      },
                      {
                        "learn": [
                          0.6266311439
                        ],
                        "iteration": 137,
                        "passed_time": 203.9792884,
                        "remaining_time": 239.4539472,
                        "test": [
                          0.6285761518
                        ]
                      },
                      {
                        "learn": [
                          0.626390342
                        ],
                        "iteration": 138,
                        "passed_time": 207.2135915,
                        "remaining_time": 240.0099873,
                        "test": [
                          0.6283566631
                        ]
                      },
                      {
                        "learn": [
                          0.6261717655
                        ],
                        "iteration": 139,
                        "passed_time": 210.2511022,
                        "remaining_time": 240.2869739,
                        "test": [
                          0.6282030441
                        ]
                      },
                      {
                        "learn": [
                          0.626008479
                        ],
                        "iteration": 140,
                        "passed_time": 212.7042061,
                        "remaining_time": 239.8579345,
                        "test": [
                          0.6280501445
                        ]
                      },
                      {
                        "learn": [
                          0.6255393614
                        ],
                        "iteration": 141,
                        "passed_time": 215.4287755,
                        "remaining_time": 239.7024403,
                        "test": [
                          0.6276160299
                        ]
                      },
                      {
                        "learn": [
                          0.6252992886
                        ],
                        "iteration": 142,
                        "passed_time": 217.7374619,
                        "remaining_time": 239.0544162,
                        "test": [
                          0.6274004645
                        ]
                      },
                      {
                        "learn": [
                          0.6250743858
                        ],
                        "iteration": 143,
                        "passed_time": 220.497246,
                        "remaining_time": 238.8720165,
                        "test": [
                          0.6271973159
                        ]
                      },
                      {
                        "learn": [
                          0.6249391708
                        ],
                        "iteration": 144,
                        "passed_time": 222.3537372,
                        "remaining_time": 237.6884777,
                        "test": [
                          0.6270537299
                        ]
                      },
                      {
                        "learn": [
                          0.624865346
                        ],
                        "iteration": 145,
                        "passed_time": 226.2965914,
                        "remaining_time": 238.6964046,
                        "test": [
                          0.6269915411
                        ]
                      },
                      {
                        "learn": [
                          0.6245348351
                        ],
                        "iteration": 146,
                        "passed_time": 229.2833627,
                        "remaining_time": 238.6418673,
                        "test": [
                          0.6266718888
                        ]
                      },
                      {
                        "learn": [
                          0.624251234
                        ],
                        "iteration": 147,
                        "passed_time": 231.3770272,
                        "remaining_time": 237.6304604,
                        "test": [
                          0.6264074134
                        ]
                      },
                      {
                        "learn": [
                          0.6238342932
                        ],
                        "iteration": 148,
                        "passed_time": 233.1544882,
                        "remaining_time": 236.2840787,
                        "test": [
                          0.6260695348
                        ]
                      },
                      {
                        "learn": [
                          0.6236148166
                        ],
                        "iteration": 149,
                        "passed_time": 234.315433,
                        "remaining_time": 234.315433,
                        "test": [
                          0.6258929533
                        ]
                      },
                      {
                        "learn": [
                          0.6233936446
                        ],
                        "iteration": 150,
                        "passed_time": 235.3613239,
                        "remaining_time": 232.2439554,
                        "test": [
                          0.625664716
                        ]
                      },
                      {
                        "learn": [
                          0.6232069862
                        ],
                        "iteration": 151,
                        "passed_time": 236.4623163,
                        "remaining_time": 230.2396238,
                        "test": [
                          0.6255077196
                        ]
                      },
                      {
                        "learn": [
                          0.6229361336
                        ],
                        "iteration": 152,
                        "passed_time": 237.4402852,
                        "remaining_time": 228.1289015,
                        "test": [
                          0.6253041568
                        ]
                      },
                      {
                        "learn": [
                          0.6227386225
                        ],
                        "iteration": 153,
                        "passed_time": 238.9288279,
                        "remaining_time": 226.5169407,
                        "test": [
                          0.6251001211
                        ]
                      },
                      {
                        "learn": [
                          0.6225693998
                        ],
                        "iteration": 154,
                        "passed_time": 240.8011195,
                        "remaining_time": 225.2655634,
                        "test": [
                          0.6249128568
                        ]
                      },
                      {
                        "learn": [
                          0.6224636246
                        ],
                        "iteration": 155,
                        "passed_time": 242.3508011,
                        "remaining_time": 223.7084318,
                        "test": [
                          0.62482797
                        ]
                      },
                      {
                        "learn": [
                          0.6222179386
                        ],
                        "iteration": 156,
                        "passed_time": 243.6780871,
                        "remaining_time": 221.9488309,
                        "test": [
                          0.6245432445
                        ]
                      },
                      {
                        "learn": [
                          0.6220268169
                        ],
                        "iteration": 157,
                        "passed_time": 244.7326535,
                        "remaining_time": 219.9495999,
                        "test": [
                          0.6243749165
                        ]
                      },
                      {
                        "learn": [
                          0.6219067218
                        ],
                        "iteration": 158,
                        "passed_time": 245.8636548,
                        "remaining_time": 218.0300335,
                        "test": [
                          0.6242701018
                        ]
                      },
                      {
                        "learn": [
                          0.6214996209
                        ],
                        "iteration": 159,
                        "passed_time": 246.9993042,
                        "remaining_time": 216.1243911,
                        "test": [
                          0.6238386164
                        ]
                      },
                      {
                        "learn": [
                          0.6213275015
                        ],
                        "iteration": 160,
                        "passed_time": 247.9357497,
                        "remaining_time": 214.0563305,
                        "test": [
                          0.6237032867
                        ]
                      },
                      {
                        "learn": [
                          0.6211608426
                        ],
                        "iteration": 161,
                        "passed_time": 248.9761083,
                        "remaining_time": 212.090759,
                        "test": [
                          0.6235441482
                        ]
                      },
                      {
                        "learn": [
                          0.6208198128
                        ],
                        "iteration": 162,
                        "passed_time": 250.118054,
                        "remaining_time": 210.2219227,
                        "test": [
                          0.623251493
                        ]
                      },
                      {
                        "learn": [
                          0.6205562526
                        ],
                        "iteration": 163,
                        "passed_time": 251.0614455,
                        "remaining_time": 208.1972963,
                        "test": [
                          0.6230504402
                        ]
                      },
                      {
                        "learn": [
                          0.6203766636
                        ],
                        "iteration": 164,
                        "passed_time": 252.0903071,
                        "remaining_time": 206.2557058,
                        "test": [
                          0.6228892871
                        ]
                      },
                      {
                        "learn": [
                          0.6201639333
                        ],
                        "iteration": 165,
                        "passed_time": 253.1337103,
                        "remaining_time": 204.3368505,
                        "test": [
                          0.6226880451
                        ]
                      },
                      {
                        "learn": [
                          0.620033377
                        ],
                        "iteration": 166,
                        "passed_time": 254.6261129,
                        "remaining_time": 202.786066,
                        "test": [
                          0.6225662266
                        ]
                      },
                      {
                        "learn": [
                          0.6198760077
                        ],
                        "iteration": 167,
                        "passed_time": 256.4251141,
                        "remaining_time": 201.4768754,
                        "test": [
                          0.6224165452
                        ]
                      },
                      {
                        "learn": [
                          0.6197836711
                        ],
                        "iteration": 168,
                        "passed_time": 258.4223119,
                        "remaining_time": 200.3155199,
                        "test": [
                          0.6223265744
                        ]
                      },
                      {
                        "learn": [
                          0.6195197429
                        ],
                        "iteration": 169,
                        "passed_time": 259.6199048,
                        "remaining_time": 198.5328684,
                        "test": [
                          0.6220880688
                        ]
                      },
                      {
                        "learn": [
                          0.6190999315
                        ],
                        "iteration": 170,
                        "passed_time": 260.7253241,
                        "remaining_time": 196.6875252,
                        "test": [
                          0.6217270367
                        ]
                      }
                    ],
                    "meta": {
                      "test_sets": [
                        "test"
                      ],
                      "test_metrics": [
                        {
                          "best_value": "Min",
                          "name": "RMSE"
                        }
                      ],
                      "learn_metrics": [
                        {
                          "best_value": "Min",
                          "name": "RMSE"
                        }
                      ],
                      "launch_mode": "Train",
                      "parameters": "",
                      "iteration_count": 300,
                      "learn_sets": [
                        "learn"
                      ],
                      "name": "experiment"
                    }
                  }
                }
              }
            },
            "layout": "IPY_MODEL_880c2ab36eba452f8ef0a4d3ee102b9f"
          }
        }
      }
    }
  },
  "nbformat": 4,
  "nbformat_minor": 0
}