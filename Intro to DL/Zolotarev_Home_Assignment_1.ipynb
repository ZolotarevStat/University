{
  "nbformat": 4,
  "nbformat_minor": 0,
  "metadata": {
    "kernelspec": {
      "display_name": "Python 3",
      "language": "python",
      "name": "python3"
    },
    "language_info": {
      "codemirror_mode": {
        "name": "ipython",
        "version": 3
      },
      "file_extension": ".py",
      "mimetype": "text/x-python",
      "name": "python",
      "nbconvert_exporter": "python",
      "pygments_lexer": "ipython3",
      "version": "3.7.3"
    },
    "colab": {
      "name": "hw1.ipynb",
      "provenance": [],
      "collapsed_sections": []
    }
  },
  "cells": [
    {
      "cell_type": "markdown",
      "metadata": {
        "id": "6l8046nCFRVT"
      },
      "source": [
        "## Домашнее задание №1 (Золотарев Антон, ИАД-1)\n",
        "\n",
        "В этом домашнем задании вы познакомитесь с pytorch сами и сможете попрактиковаться в его применении. \n",
        "\n",
        "#### План:\n",
        "\n",
        "1. Простейшие операции в pytorch\n",
        "2. Пишем Adam и применяем его к ручной модели\n",
        "3. Обучаем свою первую нейросеть (не обучил)"
      ]
    },
    {
      "cell_type": "code",
      "metadata": {
        "id": "Xdd7iHx7FRVW"
      },
      "source": [
        "import os\n",
        "import sys\n",
        "import math\n",
        "import torch\n",
        "import random\n",
        "import numpy as np\n",
        "from tqdm import tqdm\n",
        "import torch.nn.functional as F\n",
        "import torch.nn as nn\n",
        "import matplotlib.pyplot as plt\n"
      ],
      "execution_count": 5,
      "outputs": []
    },
    {
      "cell_type": "markdown",
      "metadata": {
        "id": "77wGfWjVFRVr"
      },
      "source": [
        "### Простейшие операции на pytorch (2 балла)"
      ]
    },
    {
      "cell_type": "markdown",
      "metadata": {
        "id": "D8HlP5smFRV0"
      },
      "source": [
        "**Task**: Cоздайте два случайных тензора (двумерных, не квадратных):"
      ]
    },
    {
      "cell_type": "code",
      "metadata": {
        "id": "QEOepNUYFRV3"
      },
      "source": [
        "x = torch.randn(4, 3)\n",
        "y = torch.randn(3, 4) "
      ],
      "execution_count": 6,
      "outputs": []
    },
    {
      "cell_type": "markdown",
      "metadata": {
        "id": "XN8_yDz4FRWC"
      },
      "source": [
        "**Task**: Умножьте их друг на друга, результат запишите в третий тензор без использования оператора `=`, для создания третьего тензора предлагается использовать `torch.empty`:"
      ]
    },
    {
      "cell_type": "code",
      "metadata": {
        "id": "8aV27ZeSFRWF",
        "outputId": "73f15982-909b-4f46-87be-7bca602f8e27",
        "colab": {
          "base_uri": "https://localhost:8080/"
        }
      },
      "source": [
        "z = torch.empty(4,4)\n",
        "torch.matmul(x, y, out=z)\n",
        "z"
      ],
      "execution_count": 7,
      "outputs": [
        {
          "output_type": "execute_result",
          "data": {
            "text/plain": [
              "tensor([[-0.7200,  0.8892, -0.5722,  1.2333],\n",
              "        [ 0.9728, -0.8438, -3.5252, -0.2889],\n",
              "        [ 1.0432, -2.4391, -1.4683, -1.4218],\n",
              "        [-0.6709,  0.1479,  3.3904, -0.2062]])"
            ]
          },
          "metadata": {
            "tags": []
          },
          "execution_count": 7
        }
      ]
    },
    {
      "cell_type": "markdown",
      "metadata": {
        "id": "Mhsg-7apFRWO"
      },
      "source": [
        "**Task**: Реализуйте ReLU использую только pytorch, примените его к тензору `x` (запрещено использование модулей torch.nn и его подмодулей, а также функции torch.relu)"
      ]
    },
    {
      "cell_type": "code",
      "metadata": {
        "id": "KCkpMfjRFRWQ"
      },
      "source": [
        "def relu_forward(x):\n",
        "      return torch.max(torch.zeros_like(x), x)\n",
        "\n",
        "assert torch.all(F.relu(x) == relu_forward(x))"
      ],
      "execution_count": 8,
      "outputs": []
    },
    {
      "cell_type": "markdown",
      "metadata": {
        "id": "yp2jz2Y0FRWl"
      },
      "source": [
        "**Task**: Сделайте тоже самое c ELU (запрещено использование модулей torch.nn и его подмодулей):"
      ]
    },
    {
      "cell_type": "code",
      "metadata": {
        "id": "xTqLR3oEFRWn"
      },
      "source": [
        "def elu_forward(x, alpha=1):\n",
        "    return torch.min(torch.zeros_like(x), alpha*(torch.exp(x)-1))+torch.max(torch.zeros_like(x), x)\n",
        "    pass\n",
        "\n",
        "assert torch.allclose(\n",
        "    F.elu(x),\n",
        "    elu_forward(x), \n",
        "    1e-4\n",
        ")"
      ],
      "execution_count": 9,
      "outputs": []
    },
    {
      "cell_type": "markdown",
      "metadata": {
        "id": "ICYcm9fdFRWv"
      },
      "source": [
        "**Task**: LeakyReLU (запрещено использование модулей torch.nn и его подмодулей):"
      ]
    },
    {
      "cell_type": "code",
      "metadata": {
        "id": "O7gQcsFNFRWw"
      },
      "source": [
        "def lrelu_forward(x, alpha):\n",
        "    return alpha*torch.min(torch.zeros_like(x), x)+torch.max(torch.zeros_like(x), x)\n",
        "    pass\n",
        "\n",
        "assert torch.all(F.leaky_relu(x, 0.01) == lrelu_forward(x, 0.01))"
      ],
      "execution_count": 10,
      "outputs": []
    },
    {
      "cell_type": "markdown",
      "metadata": {
        "id": "Kec-ZeqLFRW3"
      },
      "source": [
        "**Task**: Теперь перейдем к немного более современным функциям активаций, например Mish, напомним как она выглядит:\n",
        "\n",
        "$$x * tanh(ln(1+e^x))$$\n",
        "\n",
        "Также вспомним, что за зверь такой этот ваш tanh:\n",
        "\n",
        "$$ tanh(x) = \\frac {e^{2x}-1}{e^{2x}+1}$$\n",
        "(запрещено использование модулей torch.nn и его подмодулей)"
      ]
    },
    {
      "cell_type": "code",
      "metadata": {
        "id": "CGAMYDZIFRW5"
      },
      "source": [
        "def mish(x):\n",
        "    return x*(torch.exp(2*torch.log(1+torch.exp(x)))-1)/(torch.exp(2*torch.log(1+torch.exp(x)))+1)\n",
        "    pass"
      ],
      "execution_count": 11,
      "outputs": []
    },
    {
      "cell_type": "code",
      "metadata": {
        "id": "cR9mu4AcFRXB"
      },
      "source": [
        "assert torch.allclose(\n",
        "    mish(torch.tensor([1, 1, 1], dtype=torch.float32)), \n",
        "    torch.tensor([0.8651, 0.8651, 0.8651]), \n",
        "    atol=1e-4\n",
        ")\n",
        "\n",
        "assert torch.allclose(\n",
        "    mish(torch.tensor([0.6376, 0.4021, 0.6656, 0.3726], dtype=torch.float64)), \n",
        "    torch.tensor([0.5014, 0.2908, 0.5280, 0.2663], dtype=torch.float64), \n",
        "    atol=1e-4\n",
        ")"
      ],
      "execution_count": 12,
      "outputs": []
    },
    {
      "cell_type": "markdown",
      "metadata": {
        "id": "Dokl70FwFRXJ"
      },
      "source": [
        "**Task**: Теперь реализуем swish, напомним как она выглядит:\n",
        "\n",
        "$$x * \\sigma(x) = \\frac{x}{1+e^{-x}}$$\n",
        "\n",
        "(запрещено использование модулей torch.nn и его подмодулей)\n",
        "Сначала я думал, что вы хотите от меня стандартное отклонение, потом посмотрел на примеры, на которых надо прогнать написанную функцию и осознал, что надо копать глубже..."
      ]
    },
    {
      "cell_type": "code",
      "metadata": {
        "id": "E4glxuetFRXM"
      },
      "source": [
        "def swish(x):\n",
        "    return x/(1+torch.exp(-x))\n",
        "    pass"
      ],
      "execution_count": 13,
      "outputs": []
    },
    {
      "cell_type": "code",
      "metadata": {
        "id": "x0uoutk6FRXU"
      },
      "source": [
        "assert torch.allclose(\n",
        "    swish(torch.tensor([1, 1, 1], dtype=torch.float32)), \n",
        "    torch.tensor([0.7311, 0.7311, 0.7311]), \n",
        "    atol=1e-4\n",
        ")\n",
        "\n",
        "assert torch.allclose(\n",
        "    swish(torch.tensor([0.6376, 0.4021, 0.6656, 0.3726], dtype=torch.float64)), \n",
        "    torch.tensor([0.4171, 0.2409, 0.4396, 0.2206], dtype=torch.float64), \n",
        "    atol=1e-4\n",
        ")"
      ],
      "execution_count": 14,
      "outputs": []
    },
    {
      "cell_type": "markdown",
      "metadata": {
        "id": "gCDxNTBrFRXf"
      },
      "source": [
        "### Пишем Adam и применяем его к логистической регрессии (4 балла)\n",
        "\n",
        "\n",
        "В данной секции вам нужно сделать две вещи: \n",
        "\n",
        "1. Написать свой собственный оптимизатор подобно тому, который мы писали на семинаре\n",
        "2. Обучить логистическую регрессию побатчево на картинках из датасета \n",
        "\n",
        "\n",
        "#### Adam\n",
        "\n",
        "\n",
        "$$\n",
        "\\begin{eqnarray}\n",
        "g &=& \\frac{1}{m}\\nabla_w \\sum_i L(f(x_{i};w), y_{i}) \\\\\n",
        "m &=& \\beta_1 m + (1 - \\beta_1) g \\\\\n",
        "v &=& \\beta_2 v + (1 - \\beta_2) diag(gg^{T}) \\\\\n",
        "\\hat{m} &=& \\frac{m}{1 - \\beta_1^{t}} \\\\\n",
        "\\hat{v} &=& \\frac{v}{1 - \\beta_2^{t}} \\\\\n",
        "w &=& w - \\frac{\\eta}{\\sqrt{\\hat{v} + \\epsilon}} \\odot \\hat{m}\n",
        "\\end{eqnarray}\n",
        "$$"
      ]
    },
    {
      "cell_type": "code",
      "metadata": {
        "id": "u4OfEI0lFRXg"
      },
      "source": [
        "# абстрактный класс, не обращайте внимания\n",
        "from torch.optim import Optimizer\n",
        "\n",
        "\n",
        "class InClassOptimizer(Optimizer):\n",
        "    def step(self):\n",
        "        \"\"\"Perform single optimization step.\"\"\"\n",
        "        with torch.no_grad(): # выключим градиенты\n",
        "            for group in self.param_groups:\n",
        "                self._group_step(group)\n",
        "\n",
        "    def _group_step(self, group):\n",
        "        # group ~ dict[str, ...]\n",
        "        \"\"\"\n",
        "        Private helper function to perform\n",
        "        single optimization step on model parameters.\n",
        "        \"\"\"\n",
        "        raise NotImplementedError()"
      ],
      "execution_count": 15,
      "outputs": []
    },
    {
      "cell_type": "markdown",
      "metadata": {
        "id": "p_ColXuWFRXo"
      },
      "source": [
        "**Task**: Напишите свою реализацию Adam:"
      ]
    },
    {
      "cell_type": "code",
      "metadata": {
        "id": "YM_s9IiFFRXp"
      },
      "source": [
        "class Adam(InClassOptimizer):\n",
        "    def __init__(self, params, lr=0.001, eps=1e-13, beta_1=0.9, beta_2=0.999):\n",
        "        defaults = dict(lr=lr, eps=eps, beta_1=beta_1, beta_2=beta_2)\n",
        "        super().__init__(params, defaults)\n",
        "\n",
        "    def _group_step(self, group):\n",
        "        # One group contains information about values passed in init\n",
        "        # and model parameters to update\n",
        "        lr = group['lr']\n",
        "        eps = group['eps']\n",
        "        beta_1 = group['beta_1']\n",
        "        beta_2 = group['beta_2']\n",
        "        step = 0\n",
        "        for param in filter(lambda x: x.grad is not None, group['params']):\n",
        "            self._init_adam_buffer(param)\n",
        "            g_param = param.grad\n",
        "            buffer_m, buffer_u = self._get_adam_buffer(param)\n",
        "            buffer_m = buffer_m * beta_1 + (1 - beta_1) * g_param\n",
        "            buffer_u = beta_2 * buffer_u + (1-beta_2) * (g_param**2)\n",
        "            step += 1\n",
        "            buffer_m = buffer_m / ( 1 - beta_1 ** step ) \n",
        "            buffer_u = buffer_u / (1 - beta_2 ** step)\n",
        "            buffer_m = buffer_m - (lr / torch.sqrt(buffer_u+eps)) * buffer_m\n",
        "            param.add_(buffer_m, alpha=-lr)\n",
        "\n",
        "    def _get_adam_buffer(self, param):\n",
        "        \"\"\"\n",
        "        Get accumulated gradients for Adam.\n",
        "\n",
        "        Parameters\n",
        "        ----------\n",
        "        param : `torch.Tensor`, required\n",
        "            Model parameter to get accumulated gradeints for Adagrad.\n",
        "\n",
        "        Returns\n",
        "        -------\n",
        "        Accumulated Adam gradients for parameter.\n",
        "        \"\"\"\n",
        "        param_state = self.state[param]\n",
        "        return param_state['adam_buffer_m'], param_state['adam_buffer_u']\n",
        "\n",
        "    def _init_adam_buffer(self, param):\n",
        "        \"\"\"\n",
        "        Initialize accumulated gradeints for adam.\n",
        "\n",
        "        Parameters\n",
        "        ----------\n",
        "        param : `torch.Tensor`, required\n",
        "            Model parameter to get accumulated gradeints for adam.\n",
        "        \"\"\"\n",
        "        param_state = self.state[param]\n",
        "        if 'adam_buffer_m' not in param_state:\n",
        "            param_state['adam_buffer_m'] = torch.zeros_like(param)\n",
        "        if 'adam_buffer_u' not in param_state:\n",
        "            param_state['adam_buffer_u'] = torch.zeros_like(param)"
      ],
      "execution_count": 48,
      "outputs": []
    },
    {
      "cell_type": "markdown",
      "metadata": {
        "id": "yumysu_AFRX0"
      },
      "source": [
        "\n",
        "**Task**: Создайте параметры для обучения логистической регрессии, сделаем Xavier ициализацию, которая выглядит следующим образом: \n",
        "\n",
        "$$w \\sim U[-\\frac{\\sqrt{6}}{\\sqrt{n_{in} + n_{out}}}, \\frac{\\sqrt{6}}{\\sqrt{n_{in} + n_{out}}}]$$\n",
        "\n",
        "где: \n",
        "\n",
        "* $n_{in}$ -- размер входа (в нейронах) \n",
        "* $n_{out}$ -- размер выхода (в нейронах)\n",
        "\n",
        "Подумайте над выбором $n_{in}$ и $n_{out}$ самостоятельно. "
      ]
    },
    {
      "cell_type": "code",
      "metadata": {
        "id": "-Taga9JPFRX2"
      },
      "source": [
        "from torch.distributions.uniform import Uniform\n",
        "n_in = 784 #28*28\n",
        "n_out = 10\n",
        "\n",
        "low = -np.sqrt(6) / np.sqrt(n_in + n_out)\n",
        "up = -low\n",
        "\n",
        "weights = torch.autograd.Variable(torch.FloatTensor(n_in, n_out).uniform_(low, up), requires_grad=True)\n",
        "intercept = torch.autograd.Variable(torch.FloatTensor(1, n_out).uniform_(low, up), requires_grad=True)"
      ],
      "execution_count": 49,
      "outputs": []
    },
    {
      "cell_type": "code",
      "metadata": {
        "id": "vfOtLjFIdRuD",
        "outputId": "0009a98c-36de-462a-a3b4-9cc09de88067",
        "colab": {
          "base_uri": "https://localhost:8080/"
        }
      },
      "source": [
        "weights"
      ],
      "execution_count": 50,
      "outputs": [
        {
          "output_type": "execute_result",
          "data": {
            "text/plain": [
              "tensor([[-0.0433,  0.0204, -0.0697,  ...,  0.0253, -0.0828,  0.0806],\n",
              "        [ 0.0832,  0.0469, -0.0288,  ..., -0.0136,  0.0620, -0.0582],\n",
              "        [-0.0504,  0.0060,  0.0660,  ...,  0.0336,  0.0240,  0.0211],\n",
              "        ...,\n",
              "        [ 0.0007,  0.0181,  0.0336,  ...,  0.0790,  0.0128,  0.0044],\n",
              "        [ 0.0838,  0.0794,  0.0138,  ...,  0.0327,  0.0642, -0.0583],\n",
              "        [-0.0155,  0.0499,  0.0431,  ..., -0.0087, -0.0027,  0.0200]],\n",
              "       requires_grad=True)"
            ]
          },
          "metadata": {
            "tags": []
          },
          "execution_count": 50
        }
      ]
    },
    {
      "cell_type": "code",
      "metadata": {
        "id": "oXg09__hFRX7"
      },
      "source": [
        "optimizer = Adam([weights, intercept])\n",
        "loss = nn.CrossEntropyLoss()"
      ],
      "execution_count": 51,
      "outputs": []
    },
    {
      "cell_type": "markdown",
      "metadata": {
        "id": "lr4W6NgWFRYC"
      },
      "source": [
        "Загрузим данные и создадим даталоадеры:"
      ]
    },
    {
      "cell_type": "code",
      "metadata": {
        "id": "9CoNzlOMFRYE"
      },
      "source": [
        "import torchvision\n",
        "import torchvision.transforms as transforms\n",
        "from torch.utils.data import DataLoader\n",
        "\n",
        "fashion_mnist_train = torchvision.datasets.FashionMNIST(\n",
        "    './data',\n",
        "    download=True,\n",
        "    transform=transforms.Compose([transforms.ToTensor()])\n",
        ")\n",
        "train_dataloader = DataLoader(fashion_mnist_train, batch_size=8*8, shuffle=True, num_workers=1)\n",
        "\n",
        "fashion_mnist_eval = torchvision.datasets.FashionMNIST(\n",
        "    './data',\n",
        "    train=False,\n",
        "    download=True,\n",
        "    transform=transforms.Compose([transforms.ToTensor()])\n",
        ")\n",
        "\n",
        "eval_dataloader = DataLoader(\n",
        "                            fashion_mnist_eval, batch_size=8*8, num_workers=1\n",
        "                            )"
      ],
      "execution_count": 67,
      "outputs": []
    },
    {
      "cell_type": "markdown",
      "metadata": {
        "id": "T3fkV1d0FRYL"
      },
      "source": [
        "Напишите функцию для тренировки логистической регрессии, она должна: \n",
        "    * Делать предсказания \n",
        "    * Считать лосс \n",
        "    * Подсчитывать градиенты\n",
        "    * Делать шаг оптимизации\n",
        "    * Обнулять посчитанные градиенты\n",
        "    * Считать метрики \n",
        "    * Возвращать полученные метрики\n",
        "    \n",
        "После этого предусмотрите возможность визуализировать метрики, чтобы нарисовать картинки, а именно от вас требуется визуализировать: \n",
        "\n",
        "    * Зависимость лосса от количества итераций\n",
        "    * Зависимость доли правильных ответов от количества итераций"
      ]
    },
    {
      "cell_type": "code",
      "metadata": {
        "id": "mGG6CmUFFRYM"
      },
      "source": [
        "def train_logistic_regression(weights, intercept, batch, loss, optimizer):\n",
        "    image, label = batch\n",
        "    output = torch.matmul(image.view(-1, 784), weights) + intercept\n",
        "    batch_loss = loss(output, label)\n",
        "    batch_loss.backward()\n",
        "    optimizer.step()\n",
        "    optimizer.zero_grad()\n",
        "    smth, predicted = torch.max(output, 1)\n",
        "    accuracy = (predicted == label).sum().item() / len(label)\n",
        "    return batch_loss, accuracy"
      ],
      "execution_count": 68,
      "outputs": []
    },
    {
      "cell_type": "code",
      "metadata": {
        "id": "RKLteQZz8kA5"
      },
      "source": [
        "#функция подсчёта метрик, делали что-то такое на семинаре 4 (как и всю задачу в принципе)\n",
        "def calc_metrics(weights, intercept, eval_dataloader, loss):\n",
        "    val_loss = []\n",
        "    val_acc = []\n",
        "    with torch.no_grad():\n",
        "      for batch in eval_dataloader:\n",
        "          img, label = batch\n",
        "          output = torch.matmul(img.view(-1, 784), weights) + intercept\n",
        "          batch_loss = loss(output, label).detach().numpy()\n",
        "          _, predicted = torch.max(output, 1)\n",
        "          accuracy = (predicted == label).sum().item() / len(label)\n",
        "          val_loss.append(batch_loss)\n",
        "          val_acc.append(accuracy)\n",
        "      return np.sum(val_loss) / len(eval_dataloader), np.sum(val_acc) / len(eval_dataloader)"
      ],
      "execution_count": 69,
      "outputs": []
    },
    {
      "cell_type": "code",
      "metadata": {
        "id": "gYCas5YEI1oz",
        "outputId": "9296de0d-1844-4410-898f-5623186a1336",
        "colab": {
          "base_uri": "https://localhost:8080/"
        }
      },
      "source": [
        "len(epoch_loss)"
      ],
      "execution_count": 80,
      "outputs": [
        {
          "output_type": "execute_result",
          "data": {
            "text/plain": [
              "92862"
            ]
          },
          "metadata": {
            "tags": []
          },
          "execution_count": 80
        }
      ]
    },
    {
      "cell_type": "code",
      "metadata": {
        "id": "me0mues0FRYT",
        "outputId": "b825798f-b9a8-4e65-b31e-b97ab5cfac19",
        "colab": {
          "base_uri": "https://localhost:8080/"
        }
      },
      "source": [
        "loss2, acc, epoch_number, val_loss, val_acc, epoch_loss, epoch_acc = [], [], [], [], [], [], []\n",
        "for epoch in range(1, 100):\n",
        "    for batch in train_dataloader:\n",
        "        metrics = train_logistic_regression(weights, intercept, batch, loss, optimizer)\n",
        "        loss2.append(metrics[0].detach().numpy())\n",
        "        acc.append(metrics[1])\n",
        "        epoch_number.append(epoch)\n",
        "    loss3 = np.array(loss2)\n",
        "    accuracy = np.array(acc)\n",
        "    epoch_num = np.array(epoch_number)\n",
        "\n",
        "    avg_acc = np.sum(accuracy[epoch_num == epoch]) / len(train_dataloader)\n",
        "    avg_loss = np.sum(loss3[epoch_num == epoch]) / len(train_dataloader)\n",
        "\n",
        "    val_loss, val_acc = calc_metrics(weights, intercept, eval_dataloader, loss)\n",
        "    val_acc += [val_acc]*len(train_dataloader)\n",
        "    val_loss += [val_loss]*len(train_dataloader)\n",
        "\n",
        "    epoch_acc += [avg_acc]*len(train_dataloader)\n",
        "    epoch_loss += [avg_loss]*len(train_dataloader)\n",
        "\n",
        "    print('Epoch', epoch, \n",
        "          ', loss on train', round(avg_loss, 3), ', validation loss', round(val_loss[0], 3),\n",
        "          ', accuracy on train',  round(avg_acc, 3), ', validation accuracy', round(val_acc[0], 3))"
      ],
      "execution_count": 71,
      "outputs": [
        {
          "output_type": "stream",
          "text": [
            "Epoch 1 , loss on train 0.733 , validation loss 1.49 , accuracy on train 0.77 , validation accuracy 1.522\n",
            "Epoch 2 , loss on train 0.72 , validation loss 1.466 , accuracy on train 0.774 , validation accuracy 1.528\n",
            "Epoch 3 , loss on train 0.708 , validation loss 1.444 , accuracy on train 0.777 , validation accuracy 1.534\n",
            "Epoch 4 , loss on train 0.697 , validation loss 1.425 , accuracy on train 0.78 , validation accuracy 1.542\n",
            "Epoch 5 , loss on train 0.688 , validation loss 1.408 , accuracy on train 0.783 , validation accuracy 1.547\n",
            "Epoch 6 , loss on train 0.679 , validation loss 1.391 , accuracy on train 0.786 , validation accuracy 1.55\n",
            "Epoch 7 , loss on train 0.671 , validation loss 1.376 , accuracy on train 0.789 , validation accuracy 1.557\n",
            "Epoch 8 , loss on train 0.664 , validation loss 1.363 , accuracy on train 0.79 , validation accuracy 1.559\n",
            "Epoch 9 , loss on train 0.657 , validation loss 1.35 , accuracy on train 0.793 , validation accuracy 1.563\n",
            "Epoch 10 , loss on train 0.651 , validation loss 1.339 , accuracy on train 0.794 , validation accuracy 1.565\n",
            "Epoch 11 , loss on train 0.645 , validation loss 1.328 , accuracy on train 0.796 , validation accuracy 1.569\n",
            "Epoch 12 , loss on train 0.639 , validation loss 1.318 , accuracy on train 0.798 , validation accuracy 1.573\n",
            "Epoch 13 , loss on train 0.634 , validation loss 1.308 , accuracy on train 0.799 , validation accuracy 1.573\n",
            "Epoch 14 , loss on train 0.63 , validation loss 1.299 , accuracy on train 0.8 , validation accuracy 1.578\n",
            "Epoch 15 , loss on train 0.625 , validation loss 1.291 , accuracy on train 0.801 , validation accuracy 1.578\n",
            "Epoch 16 , loss on train 0.621 , validation loss 1.283 , accuracy on train 0.802 , validation accuracy 1.58\n",
            "Epoch 17 , loss on train 0.617 , validation loss 1.276 , accuracy on train 0.803 , validation accuracy 1.582\n",
            "Epoch 18 , loss on train 0.613 , validation loss 1.268 , accuracy on train 0.805 , validation accuracy 1.584\n",
            "Epoch 19 , loss on train 0.609 , validation loss 1.261 , accuracy on train 0.805 , validation accuracy 1.587\n",
            "Epoch 20 , loss on train 0.606 , validation loss 1.255 , accuracy on train 0.806 , validation accuracy 1.588\n",
            "Epoch 21 , loss on train 0.602 , validation loss 1.249 , accuracy on train 0.807 , validation accuracy 1.59\n",
            "Epoch 22 , loss on train 0.599 , validation loss 1.243 , accuracy on train 0.808 , validation accuracy 1.59\n",
            "Epoch 23 , loss on train 0.596 , validation loss 1.238 , accuracy on train 0.809 , validation accuracy 1.595\n",
            "Epoch 24 , loss on train 0.594 , validation loss 1.232 , accuracy on train 0.81 , validation accuracy 1.596\n",
            "Epoch 25 , loss on train 0.591 , validation loss 1.227 , accuracy on train 0.81 , validation accuracy 1.598\n",
            "Epoch 26 , loss on train 0.588 , validation loss 1.222 , accuracy on train 0.811 , validation accuracy 1.599\n",
            "Epoch 27 , loss on train 0.586 , validation loss 1.217 , accuracy on train 0.812 , validation accuracy 1.6\n",
            "Epoch 28 , loss on train 0.583 , validation loss 1.213 , accuracy on train 0.813 , validation accuracy 1.603\n",
            "Epoch 29 , loss on train 0.581 , validation loss 1.209 , accuracy on train 0.814 , validation accuracy 1.605\n",
            "Epoch 30 , loss on train 0.579 , validation loss 1.204 , accuracy on train 0.814 , validation accuracy 1.604\n",
            "Epoch 31 , loss on train 0.576 , validation loss 1.2 , accuracy on train 0.815 , validation accuracy 1.607\n",
            "Epoch 32 , loss on train 0.574 , validation loss 1.196 , accuracy on train 0.815 , validation accuracy 1.608\n",
            "Epoch 33 , loss on train 0.572 , validation loss 1.192 , accuracy on train 0.816 , validation accuracy 1.609\n",
            "Epoch 34 , loss on train 0.57 , validation loss 1.189 , accuracy on train 0.816 , validation accuracy 1.609\n",
            "Epoch 35 , loss on train 0.568 , validation loss 1.185 , accuracy on train 0.817 , validation accuracy 1.61\n",
            "Epoch 36 , loss on train 0.566 , validation loss 1.181 , accuracy on train 0.818 , validation accuracy 1.613\n",
            "Epoch 37 , loss on train 0.565 , validation loss 1.179 , accuracy on train 0.818 , validation accuracy 1.614\n",
            "Epoch 38 , loss on train 0.563 , validation loss 1.175 , accuracy on train 0.818 , validation accuracy 1.613\n",
            "Epoch 39 , loss on train 0.561 , validation loss 1.172 , accuracy on train 0.819 , validation accuracy 1.613\n",
            "Epoch 40 , loss on train 0.56 , validation loss 1.169 , accuracy on train 0.819 , validation accuracy 1.616\n",
            "Epoch 41 , loss on train 0.558 , validation loss 1.167 , accuracy on train 0.82 , validation accuracy 1.614\n",
            "Epoch 42 , loss on train 0.556 , validation loss 1.163 , accuracy on train 0.82 , validation accuracy 1.616\n",
            "Epoch 43 , loss on train 0.555 , validation loss 1.16 , accuracy on train 0.821 , validation accuracy 1.616\n",
            "Epoch 44 , loss on train 0.553 , validation loss 1.157 , accuracy on train 0.821 , validation accuracy 1.617\n",
            "Epoch 45 , loss on train 0.552 , validation loss 1.155 , accuracy on train 0.822 , validation accuracy 1.618\n",
            "Epoch 46 , loss on train 0.551 , validation loss 1.152 , accuracy on train 0.822 , validation accuracy 1.618\n",
            "Epoch 47 , loss on train 0.549 , validation loss 1.15 , accuracy on train 0.822 , validation accuracy 1.619\n",
            "Epoch 48 , loss on train 0.548 , validation loss 1.148 , accuracy on train 0.823 , validation accuracy 1.619\n",
            "Epoch 49 , loss on train 0.547 , validation loss 1.145 , accuracy on train 0.823 , validation accuracy 1.62\n",
            "Epoch 50 , loss on train 0.545 , validation loss 1.143 , accuracy on train 0.823 , validation accuracy 1.622\n",
            "Epoch 51 , loss on train 0.544 , validation loss 1.141 , accuracy on train 0.823 , validation accuracy 1.623\n",
            "Epoch 52 , loss on train 0.543 , validation loss 1.139 , accuracy on train 0.824 , validation accuracy 1.624\n",
            "Epoch 53 , loss on train 0.542 , validation loss 1.136 , accuracy on train 0.824 , validation accuracy 1.626\n",
            "Epoch 54 , loss on train 0.541 , validation loss 1.134 , accuracy on train 0.825 , validation accuracy 1.626\n",
            "Epoch 55 , loss on train 0.539 , validation loss 1.132 , accuracy on train 0.825 , validation accuracy 1.626\n",
            "Epoch 56 , loss on train 0.538 , validation loss 1.13 , accuracy on train 0.825 , validation accuracy 1.628\n",
            "Epoch 57 , loss on train 0.537 , validation loss 1.128 , accuracy on train 0.825 , validation accuracy 1.629\n",
            "Epoch 58 , loss on train 0.536 , validation loss 1.126 , accuracy on train 0.825 , validation accuracy 1.627\n",
            "Epoch 59 , loss on train 0.535 , validation loss 1.124 , accuracy on train 0.826 , validation accuracy 1.629\n",
            "Epoch 60 , loss on train 0.534 , validation loss 1.122 , accuracy on train 0.826 , validation accuracy 1.629\n",
            "Epoch 61 , loss on train 0.533 , validation loss 1.121 , accuracy on train 0.827 , validation accuracy 1.628\n",
            "Epoch 62 , loss on train 0.532 , validation loss 1.119 , accuracy on train 0.826 , validation accuracy 1.63\n",
            "Epoch 63 , loss on train 0.531 , validation loss 1.117 , accuracy on train 0.827 , validation accuracy 1.629\n",
            "Epoch 64 , loss on train 0.531 , validation loss 1.115 , accuracy on train 0.827 , validation accuracy 1.63\n",
            "Epoch 65 , loss on train 0.53 , validation loss 1.114 , accuracy on train 0.827 , validation accuracy 1.63\n",
            "Epoch 66 , loss on train 0.529 , validation loss 1.112 , accuracy on train 0.828 , validation accuracy 1.631\n",
            "Epoch 67 , loss on train 0.528 , validation loss 1.11 , accuracy on train 0.828 , validation accuracy 1.631\n",
            "Epoch 68 , loss on train 0.527 , validation loss 1.109 , accuracy on train 0.828 , validation accuracy 1.631\n",
            "Epoch 69 , loss on train 0.526 , validation loss 1.107 , accuracy on train 0.829 , validation accuracy 1.633\n",
            "Epoch 70 , loss on train 0.526 , validation loss 1.106 , accuracy on train 0.829 , validation accuracy 1.633\n",
            "Epoch 71 , loss on train 0.525 , validation loss 1.104 , accuracy on train 0.829 , validation accuracy 1.634\n",
            "Epoch 72 , loss on train 0.524 , validation loss 1.103 , accuracy on train 0.829 , validation accuracy 1.635\n",
            "Epoch 73 , loss on train 0.523 , validation loss 1.102 , accuracy on train 0.83 , validation accuracy 1.635\n",
            "Epoch 74 , loss on train 0.522 , validation loss 1.1 , accuracy on train 0.83 , validation accuracy 1.635\n",
            "Epoch 75 , loss on train 0.522 , validation loss 1.099 , accuracy on train 0.83 , validation accuracy 1.635\n",
            "Epoch 76 , loss on train 0.521 , validation loss 1.098 , accuracy on train 0.831 , validation accuracy 1.635\n",
            "Epoch 77 , loss on train 0.52 , validation loss 1.096 , accuracy on train 0.831 , validation accuracy 1.636\n",
            "Epoch 78 , loss on train 0.519 , validation loss 1.095 , accuracy on train 0.831 , validation accuracy 1.637\n",
            "Epoch 79 , loss on train 0.519 , validation loss 1.093 , accuracy on train 0.831 , validation accuracy 1.638\n",
            "Epoch 80 , loss on train 0.518 , validation loss 1.093 , accuracy on train 0.832 , validation accuracy 1.639\n",
            "Epoch 81 , loss on train 0.517 , validation loss 1.091 , accuracy on train 0.831 , validation accuracy 1.639\n",
            "Epoch 82 , loss on train 0.517 , validation loss 1.09 , accuracy on train 0.832 , validation accuracy 1.64\n",
            "Epoch 83 , loss on train 0.516 , validation loss 1.089 , accuracy on train 0.832 , validation accuracy 1.64\n",
            "Epoch 84 , loss on train 0.515 , validation loss 1.088 , accuracy on train 0.832 , validation accuracy 1.64\n",
            "Epoch 85 , loss on train 0.515 , validation loss 1.087 , accuracy on train 0.832 , validation accuracy 1.641\n",
            "Epoch 86 , loss on train 0.514 , validation loss 1.085 , accuracy on train 0.832 , validation accuracy 1.642\n",
            "Epoch 87 , loss on train 0.514 , validation loss 1.084 , accuracy on train 0.832 , validation accuracy 1.642\n",
            "Epoch 88 , loss on train 0.513 , validation loss 1.083 , accuracy on train 0.833 , validation accuracy 1.642\n",
            "Epoch 89 , loss on train 0.512 , validation loss 1.082 , accuracy on train 0.832 , validation accuracy 1.642\n",
            "Epoch 90 , loss on train 0.512 , validation loss 1.081 , accuracy on train 0.833 , validation accuracy 1.643\n",
            "Epoch 91 , loss on train 0.511 , validation loss 1.08 , accuracy on train 0.833 , validation accuracy 1.643\n",
            "Epoch 92 , loss on train 0.51 , validation loss 1.079 , accuracy on train 0.833 , validation accuracy 1.644\n",
            "Epoch 93 , loss on train 0.51 , validation loss 1.078 , accuracy on train 0.834 , validation accuracy 1.645\n",
            "Epoch 94 , loss on train 0.509 , validation loss 1.077 , accuracy on train 0.834 , validation accuracy 1.643\n",
            "Epoch 95 , loss on train 0.509 , validation loss 1.076 , accuracy on train 0.834 , validation accuracy 1.644\n",
            "Epoch 96 , loss on train 0.508 , validation loss 1.075 , accuracy on train 0.834 , validation accuracy 1.645\n",
            "Epoch 97 , loss on train 0.508 , validation loss 1.074 , accuracy on train 0.834 , validation accuracy 1.646\n",
            "Epoch 98 , loss on train 0.507 , validation loss 1.073 , accuracy on train 0.834 , validation accuracy 1.646\n",
            "Epoch 99 , loss on train 0.507 , validation loss 1.072 , accuracy on train 0.834 , validation accuracy 1.646\n"
          ],
          "name": "stdout"
        }
      ]
    },
    {
      "cell_type": "markdown",
      "metadata": {
        "id": "OzvzXWe-DWDY"
      },
      "source": [
        "Кажется, пора защищать докторскую по эвристике, которая выдаёт точность больше 1... Все остальные метрики, кажется, работают относительно нормально и выдают всё достаточно правдоподобно, с каждой итерацией всё более приближаясь к оптимальным значениям. Есть ощущение, что случайно где-то дважды считаю валидационные метрики, из-за чего их значения везде примерно в 2 раза больше тренировочных, поэтому при визуализации буду использовать деление на 2 ( как минимум чтобы точность не превосходила 1)."
      ]
    },
    {
      "cell_type": "markdown",
      "metadata": {
        "id": "jZUQtJVIFRYa"
      },
      "source": [
        "#### Вопросы к секции: \n",
        "\n",
        "* Своими словами и без математики объясните благодаря чему Adam дает несмещенную оценку на квадрат градиента\n",
        "* Когда модель начала переобучаться? Как вы это поняли? Сделайте визуализацию и докажите свою точку зрения."
      ]
    },
    {
      "cell_type": "markdown",
      "metadata": {
        "id": "t1moP2Oe96f9"
      },
      "source": [
        "Adam даёт несмещённую оценку на квадрат градиента постольку, поскольку на каждой последующей итерации мы учитываем все предыдущие результаты и последний полученный, рассчитывая средневзвешенное от этой штуки. Чем больше раз мы попытались адекватно предсказать наше наблюдение, тем больше вероятность, что в среднем мы будем близки к правде. Ну и то, что отнимается от вектора весов на каждом шаге, кажется чем-то нормированным (вектор m как мат ожидание, вектор u как СКО).\n",
        "\n",
        "Модель начинает переобучаться примерно на никакой итерации, поскольку на каждой последующей эпохе валидационные метрики улучшают свою качество, loss -> 0, accuracy -> $\\infty$. Но вероятнее всего моя модель имеет ряд ошибок, поскольку её точность больше 1, она должна была начать переобучаться ранее, когда пришла бы к локальному оптимуму. Приведём визуализацию:"
      ]
    },
    {
      "cell_type": "code",
      "metadata": {
        "id": "838zkeLs-Itt",
        "outputId": "513cb453-ac16-4a70-d2ec-9301710ef459",
        "colab": {
          "base_uri": "https://localhost:8080/",
          "height": 295
        }
      },
      "source": [
        "x_arr = np.arange(len(loss3))\n",
        "plt.plot(x_arr, loss3)\n",
        "plt.plot(x_arr, epoch_loss) \n",
        "plt.plot(np.arange(len(val_loss)), val_loss/2)\n",
        "plt.title('Изменение ошибки по ходу обучения')\n",
        "plt.xlabel('Итерации')\n",
        "plt.ylabel('Уровень ошибки')\n",
        "\n",
        "plt.show()"
      ],
      "execution_count": 86,
      "outputs": [
        {
          "output_type": "display_data",
          "data": {
            "image/png": "[encoded data removed]",
            "text/plain": [
              "<Figure size 432x288 with 1 Axes>"
            ]
          },
          "metadata": {
            "tags": [],
            "needs_background": "light"
          }
        }
      ]
    },
    {
      "cell_type": "code",
      "metadata": {
        "id": "7INm8-yD-LRf",
        "outputId": "2627be62-2122-4223-ce81-0e6574b50052",
        "colab": {
          "base_uri": "https://localhost:8080/",
          "height": 295
        }
      },
      "source": [
        "plt.plot(x_arr, accuracy)\n",
        "plt.plot(x_arr, epoch_acc)\n",
        "plt.plot(np.arange(len(val_acc)), val_acc/2)\n",
        "plt.title('Изменение точности по ходу обучения')\n",
        "plt.xlabel('Итерации')\n",
        "plt.ylabel('Точность')\n",
        "\n",
        "plt.show()"
      ],
      "execution_count": 88,
      "outputs": [
        {
          "output_type": "display_data",
          "data": {
            "image/png": "[encoded data removed]",
            "text/plain": [
              "<Figure size 432x288 with 1 Axes>"
            ]
          },
          "metadata": {
            "tags": [],
            "needs_background": "light"
          }
        }
      ]
    },
    {
      "cell_type": "markdown",
      "metadata": {
        "id": "3vx-WrEjFRYb"
      },
      "source": [
        "### Моя первая нейросеть (4 балла) - не сделал, не смотрите"
      ]
    },
    {
      "cell_type": "markdown",
      "metadata": {
        "id": "RtqncKYAFRYc"
      },
      "source": [
        "В данной секции вам нужно сделать следующие вещи: \n",
        "\n",
        "* Реализовать три разных архитектуры нейросетей. Эти архитектуры должны принципиально отличаться друг от друга. Разрешается одной из архитекур брать полностью полносвязную модель. Остальные две должны быть сверточными и сильно отличаться друг от друга. К примеру, одна из таких архитектур может быть VGG подобная сеть, а другая ResNet подобная архитектура. \n",
        "\n",
        "* Написать цикл для обучения которым можно обучать все три модели без изменений кода\n",
        "\n",
        "* Попробовать каждую модель с двумя оптимизаторами: RMSprop и SGD with momentum\n",
        "\n",
        "* Визуализировать результаты перфоманса каждой модели (две метрики минимум для каждого сетапа, например, лосс и долю правильных ответов). В данном пункте мы ждем от вас визуализацию зависимости метрики от номера итерации обучения.\n",
        "\n",
        "* Сделать выводы какие были модели были лучше и как вы думаете почему?"
      ]
    },
    {
      "cell_type": "code",
      "metadata": {
        "id": "P9pT7P0AFRYc"
      },
      "source": [
        "def train_model(model, dataloader, optimizer):\n",
        "    pass "
      ],
      "execution_count": null,
      "outputs": []
    },
    {
      "cell_type": "code",
      "metadata": {
        "id": "FvWMIhTqFRYj"
      },
      "source": [
        "class FirstModel(nn.Module):\n",
        "    def __init__(self):\n",
        "        super(Model, self).__init__()\n",
        "        pass\n",
        "\n",
        "    def forward(self, x):\n",
        "        pass"
      ],
      "execution_count": null,
      "outputs": []
    },
    {
      "cell_type": "code",
      "metadata": {
        "id": "9rhQb2ziFRYp"
      },
      "source": [
        "second_model = nn.Sequential(\n",
        "    # your code here\n",
        ")"
      ],
      "execution_count": null,
      "outputs": []
    },
    {
      "cell_type": "code",
      "metadata": {
        "id": "pFthGR1iFRYy"
      },
      "source": [
        "third_model = torch.nn.ModuleDict({\n",
        "    # your code here\n",
        "})"
      ],
      "execution_count": null,
      "outputs": []
    },
    {
      "cell_type": "code",
      "metadata": {
        "id": "4ugrthuQFRY3"
      },
      "source": [
        "# train and visualize and write summary down there"
      ],
      "execution_count": null,
      "outputs": []
    }
  ]
}