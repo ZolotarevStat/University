{
 "cells": [
  {
   "cell_type": "markdown",
   "metadata": {},
   "source": [
    "## Домашнее задание № 4"
   ]
  },
  {
   "cell_type": "markdown",
   "metadata": {},
   "source": [
    "Задание выполнил(а): Золотарев Антон Олегович"
   ]
  },
  {
   "cell_type": "markdown",
   "metadata": {},
   "source": [
    "### Ансамблевые методы "
   ]
  },
  {
   "cell_type": "markdown",
   "metadata": {},
   "source": [
    "**Дедлайн: 3.06.2020 23:59** \n",
    "Сопровождайте код изображениями и комментариями. Не игнорируйте вопросы, ваши выводы тоже оцениваются. Чем больше информации вы сможете извлечь, аргументированных выводов сформулировать, тем лучше. Не забывайте подписывать графики и будет вам счастье!\n",
    "\n",
    "**Максимальный балл: 10**"
   ]
  },
  {
   "cell_type": "code",
   "execution_count": 1,
   "metadata": {
    "ExecuteTime": {
     "end_time": "2020-05-17T00:15:19.512036Z",
     "start_time": "2020-05-17T00:15:14.993278Z"
    }
   },
   "outputs": [],
   "source": [
    "import pandas as pd\n",
    "import numpy as np\n",
    "import matplotlib.pyplot as plt\n",
    "import os\n",
    "import seaborn as sns\n",
    "\n",
    "\n",
    "%matplotlib inline"
   ]
  },
  {
   "cell_type": "markdown",
   "metadata": {},
   "source": [
    "**0. (0 баллов) ** Загрузите [датасет](https://www.kaggle.com/uciml/pima-indians-diabetes-database/data), в нем вы найдете данные опрошенных женщин из индейского племени Пима. Будем решать задачу бинарной классификации: в колонке Outcome лежит метка наличия или отсутствия диабета - это наша целевая переменная. Есть ли пропущенные значения?"
   ]
  },
  {
   "cell_type": "code",
   "execution_count": 2,
   "metadata": {
    "ExecuteTime": {
     "end_time": "2020-05-17T10:01:14.609345Z",
     "start_time": "2020-05-17T10:01:14.469580Z"
    }
   },
   "outputs": [
    {
     "data": {
      "text/html": [
       "<div>\n",
       "<style scoped>\n",
       "    .dataframe tbody tr th:only-of-type {\n",
       "        vertical-align: middle;\n",
       "    }\n",
       "\n",
       "    .dataframe tbody tr th {\n",
       "        vertical-align: top;\n",
       "    }\n",
       "\n",
       "    .dataframe thead th {\n",
       "        text-align: right;\n",
       "    }\n",
       "</style>\n",
       "<table border=\"1\" class=\"dataframe\">\n",
       "  <thead>\n",
       "    <tr style=\"text-align: right;\">\n",
       "      <th></th>\n",
       "      <th>Pregnancies</th>\n",
       "      <th>Glucose</th>\n",
       "      <th>BloodPressure</th>\n",
       "      <th>SkinThickness</th>\n",
       "      <th>Insulin</th>\n",
       "      <th>BMI</th>\n",
       "      <th>DiabetesPedigreeFunction</th>\n",
       "      <th>Age</th>\n",
       "      <th>Outcome</th>\n",
       "    </tr>\n",
       "  </thead>\n",
       "  <tbody>\n",
       "    <tr>\n",
       "      <th>0</th>\n",
       "      <td>6</td>\n",
       "      <td>148</td>\n",
       "      <td>72</td>\n",
       "      <td>35</td>\n",
       "      <td>0</td>\n",
       "      <td>33.6</td>\n",
       "      <td>0.627</td>\n",
       "      <td>50</td>\n",
       "      <td>1</td>\n",
       "    </tr>\n",
       "    <tr>\n",
       "      <th>1</th>\n",
       "      <td>1</td>\n",
       "      <td>85</td>\n",
       "      <td>66</td>\n",
       "      <td>29</td>\n",
       "      <td>0</td>\n",
       "      <td>26.6</td>\n",
       "      <td>0.351</td>\n",
       "      <td>31</td>\n",
       "      <td>0</td>\n",
       "    </tr>\n",
       "    <tr>\n",
       "      <th>2</th>\n",
       "      <td>8</td>\n",
       "      <td>183</td>\n",
       "      <td>64</td>\n",
       "      <td>0</td>\n",
       "      <td>0</td>\n",
       "      <td>23.3</td>\n",
       "      <td>0.672</td>\n",
       "      <td>32</td>\n",
       "      <td>1</td>\n",
       "    </tr>\n",
       "    <tr>\n",
       "      <th>3</th>\n",
       "      <td>1</td>\n",
       "      <td>89</td>\n",
       "      <td>66</td>\n",
       "      <td>23</td>\n",
       "      <td>94</td>\n",
       "      <td>28.1</td>\n",
       "      <td>0.167</td>\n",
       "      <td>21</td>\n",
       "      <td>0</td>\n",
       "    </tr>\n",
       "    <tr>\n",
       "      <th>4</th>\n",
       "      <td>0</td>\n",
       "      <td>137</td>\n",
       "      <td>40</td>\n",
       "      <td>35</td>\n",
       "      <td>168</td>\n",
       "      <td>43.1</td>\n",
       "      <td>2.288</td>\n",
       "      <td>33</td>\n",
       "      <td>1</td>\n",
       "    </tr>\n",
       "  </tbody>\n",
       "</table>\n",
       "</div>"
      ],
      "text/plain": [
       "   Pregnancies  Glucose  BloodPressure  SkinThickness  Insulin   BMI  \\\n",
       "0            6      148             72             35        0  33.6   \n",
       "1            1       85             66             29        0  26.6   \n",
       "2            8      183             64              0        0  23.3   \n",
       "3            1       89             66             23       94  28.1   \n",
       "4            0      137             40             35      168  43.1   \n",
       "\n",
       "   DiabetesPedigreeFunction  Age  Outcome  \n",
       "0                     0.627   50        1  \n",
       "1                     0.351   31        0  \n",
       "2                     0.672   32        1  \n",
       "3                     0.167   21        0  \n",
       "4                     2.288   33        1  "
      ]
     },
     "execution_count": 2,
     "metadata": {},
     "output_type": "execute_result"
    }
   ],
   "source": [
    "data = pd.read_csv('./diabetes.csv')\n",
    "\n",
    "data.head()"
   ]
  },
  {
   "cell_type": "markdown",
   "metadata": {},
   "source": [
    "**1. (0.5 балла)** Как вы думаете, является ли наличие нулей в некоторых колонках фактом того, что эти признаки имеют пропущенные значения? Замените нули на среднее значение признака там, где считаете это целесообразным."
   ]
  },
  {
   "cell_type": "markdown",
   "metadata": {},
   "source": [
    "Скорее всего, нули в столбцах \"Глюкоза\", \"Давление\", \"Толщина кожи\", \"Инсулин\", \"Индекс массы тела\" являются признаками пропущенного значения, поскольку если у человека хотя бы один из этих параметров действительно равен нулю, то вряд ли он будет жить больше одного дня. Количество беременностей вполне может быть нулевым, тогда как в остальных двух столбцах (\"Родословная диабета\" и \"Возраст\") нет пропусков."
   ]
  },
  {
   "cell_type": "code",
   "execution_count": 3,
   "metadata": {},
   "outputs": [
    {
     "name": "stdout",
     "output_type": "stream",
     "text": [
      "Количество пропусков в Pregnancies составляет 111.\n",
      " Доля пропусков в Pregnancies составляет 0.145.\n",
      "\n",
      "Количество пропусков в Glucose составляет 5.\n",
      " Доля пропусков в Glucose составляет 0.007.\n",
      "\n",
      "Количество пропусков в BloodPressure составляет 35.\n",
      " Доля пропусков в BloodPressure составляет 0.046.\n",
      "\n",
      "Количество пропусков в SkinThickness составляет 227.\n",
      " Доля пропусков в SkinThickness составляет 0.296.\n",
      "\n",
      "Количество пропусков в Insulin составляет 374.\n",
      " Доля пропусков в Insulin составляет 0.487.\n",
      "\n",
      "Количество пропусков в BMI составляет 11.\n",
      " Доля пропусков в BMI составляет 0.014.\n",
      "\n",
      "Количество пропусков в DiabetesPedigreeFunction составляет 0.\n",
      " Доля пропусков в DiabetesPedigreeFunction составляет 0.0.\n",
      "\n",
      "Количество пропусков в Age составляет 0.\n",
      " Доля пропусков в Age составляет 0.0.\n",
      "\n",
      "Количество пропусков в Outcome составляет 500.\n",
      " Доля пропусков в Outcome составляет 0.651.\n",
      "\n"
     ]
    }
   ],
   "source": [
    "for i in data.columns:\n",
    "    print('Количество пропусков в ', i, ' составляет ', data[data[i]==0][i].count(), '.', '\\n Доля пропусков в ', i, \n",
    "              ' составляет ', round(data[data[i]==0][i].count()/len(data[i]), 3), '.', '\\n', sep='')"
   ]
  },
  {
   "cell_type": "code",
   "execution_count": 4,
   "metadata": {},
   "outputs": [
    {
     "data": {
      "text/plain": [
       "<matplotlib.axes._subplots.AxesSubplot at 0x2d6a86fd6a0>"
      ]
     },
     "execution_count": 4,
     "metadata": {},
     "output_type": "execute_result"
    },
    {
     "data": {
      "image/png": "[encoded data removed]",
      "text/plain": [
       "<Figure size 432x288 with 2 Axes>"
      ]
     },
     "metadata": {
      "needs_background": "light"
     },
     "output_type": "display_data"
    }
   ],
   "source": [
    "cor_mat = pd.DataFrame(data).corr()\n",
    "sns.heatmap(cor_mat, vmin = -1, vmax = 1, linewidths = 0.5, square = True)"
   ]
  },
  {
   "cell_type": "code",
   "execution_count": 5,
   "metadata": {},
   "outputs": [
    {
     "data": {
      "text/html": [
       "<div>\n",
       "<style scoped>\n",
       "    .dataframe tbody tr th:only-of-type {\n",
       "        vertical-align: middle;\n",
       "    }\n",
       "\n",
       "    .dataframe tbody tr th {\n",
       "        vertical-align: top;\n",
       "    }\n",
       "\n",
       "    .dataframe thead th {\n",
       "        text-align: right;\n",
       "    }\n",
       "</style>\n",
       "<table border=\"1\" class=\"dataframe\">\n",
       "  <thead>\n",
       "    <tr style=\"text-align: right;\">\n",
       "      <th></th>\n",
       "      <th>Pregnancies</th>\n",
       "      <th>Glucose</th>\n",
       "      <th>BloodPressure</th>\n",
       "      <th>SkinThickness</th>\n",
       "      <th>Insulin</th>\n",
       "      <th>BMI</th>\n",
       "      <th>DiabetesPedigreeFunction</th>\n",
       "      <th>Age</th>\n",
       "      <th>Outcome</th>\n",
       "    </tr>\n",
       "  </thead>\n",
       "  <tbody>\n",
       "    <tr>\n",
       "      <th>Pregnancies</th>\n",
       "      <td>1.000000</td>\n",
       "      <td>NaN</td>\n",
       "      <td>NaN</td>\n",
       "      <td>NaN</td>\n",
       "      <td>NaN</td>\n",
       "      <td>NaN</td>\n",
       "      <td>NaN</td>\n",
       "      <td>0.544341</td>\n",
       "      <td>NaN</td>\n",
       "    </tr>\n",
       "    <tr>\n",
       "      <th>Glucose</th>\n",
       "      <td>NaN</td>\n",
       "      <td>1.000000</td>\n",
       "      <td>NaN</td>\n",
       "      <td>NaN</td>\n",
       "      <td>NaN</td>\n",
       "      <td>NaN</td>\n",
       "      <td>NaN</td>\n",
       "      <td>NaN</td>\n",
       "      <td>0.466581</td>\n",
       "    </tr>\n",
       "    <tr>\n",
       "      <th>BloodPressure</th>\n",
       "      <td>NaN</td>\n",
       "      <td>NaN</td>\n",
       "      <td>1.0</td>\n",
       "      <td>NaN</td>\n",
       "      <td>NaN</td>\n",
       "      <td>NaN</td>\n",
       "      <td>NaN</td>\n",
       "      <td>NaN</td>\n",
       "      <td>NaN</td>\n",
       "    </tr>\n",
       "    <tr>\n",
       "      <th>SkinThickness</th>\n",
       "      <td>NaN</td>\n",
       "      <td>NaN</td>\n",
       "      <td>NaN</td>\n",
       "      <td>1.000000</td>\n",
       "      <td>0.436783</td>\n",
       "      <td>0.392573</td>\n",
       "      <td>NaN</td>\n",
       "      <td>NaN</td>\n",
       "      <td>NaN</td>\n",
       "    </tr>\n",
       "    <tr>\n",
       "      <th>Insulin</th>\n",
       "      <td>NaN</td>\n",
       "      <td>NaN</td>\n",
       "      <td>NaN</td>\n",
       "      <td>0.436783</td>\n",
       "      <td>1.000000</td>\n",
       "      <td>NaN</td>\n",
       "      <td>NaN</td>\n",
       "      <td>NaN</td>\n",
       "      <td>NaN</td>\n",
       "    </tr>\n",
       "    <tr>\n",
       "      <th>BMI</th>\n",
       "      <td>NaN</td>\n",
       "      <td>NaN</td>\n",
       "      <td>NaN</td>\n",
       "      <td>0.392573</td>\n",
       "      <td>NaN</td>\n",
       "      <td>1.000000</td>\n",
       "      <td>NaN</td>\n",
       "      <td>NaN</td>\n",
       "      <td>NaN</td>\n",
       "    </tr>\n",
       "    <tr>\n",
       "      <th>DiabetesPedigreeFunction</th>\n",
       "      <td>NaN</td>\n",
       "      <td>NaN</td>\n",
       "      <td>NaN</td>\n",
       "      <td>NaN</td>\n",
       "      <td>NaN</td>\n",
       "      <td>NaN</td>\n",
       "      <td>1.0</td>\n",
       "      <td>NaN</td>\n",
       "      <td>NaN</td>\n",
       "    </tr>\n",
       "    <tr>\n",
       "      <th>Age</th>\n",
       "      <td>0.544341</td>\n",
       "      <td>NaN</td>\n",
       "      <td>NaN</td>\n",
       "      <td>NaN</td>\n",
       "      <td>NaN</td>\n",
       "      <td>NaN</td>\n",
       "      <td>NaN</td>\n",
       "      <td>1.000000</td>\n",
       "      <td>NaN</td>\n",
       "    </tr>\n",
       "    <tr>\n",
       "      <th>Outcome</th>\n",
       "      <td>NaN</td>\n",
       "      <td>0.466581</td>\n",
       "      <td>NaN</td>\n",
       "      <td>NaN</td>\n",
       "      <td>NaN</td>\n",
       "      <td>NaN</td>\n",
       "      <td>NaN</td>\n",
       "      <td>NaN</td>\n",
       "      <td>1.000000</td>\n",
       "    </tr>\n",
       "  </tbody>\n",
       "</table>\n",
       "</div>"
      ],
      "text/plain": [
       "                          Pregnancies   Glucose  BloodPressure  SkinThickness  \\\n",
       "Pregnancies                  1.000000       NaN            NaN            NaN   \n",
       "Glucose                           NaN  1.000000            NaN            NaN   \n",
       "BloodPressure                     NaN       NaN            1.0            NaN   \n",
       "SkinThickness                     NaN       NaN            NaN       1.000000   \n",
       "Insulin                           NaN       NaN            NaN       0.436783   \n",
       "BMI                               NaN       NaN            NaN       0.392573   \n",
       "DiabetesPedigreeFunction          NaN       NaN            NaN            NaN   \n",
       "Age                          0.544341       NaN            NaN            NaN   \n",
       "Outcome                           NaN  0.466581            NaN            NaN   \n",
       "\n",
       "                           Insulin       BMI  DiabetesPedigreeFunction  \\\n",
       "Pregnancies                    NaN       NaN                       NaN   \n",
       "Glucose                        NaN       NaN                       NaN   \n",
       "BloodPressure                  NaN       NaN                       NaN   \n",
       "SkinThickness             0.436783  0.392573                       NaN   \n",
       "Insulin                   1.000000       NaN                       NaN   \n",
       "BMI                            NaN  1.000000                       NaN   \n",
       "DiabetesPedigreeFunction       NaN       NaN                       1.0   \n",
       "Age                            NaN       NaN                       NaN   \n",
       "Outcome                        NaN       NaN                       NaN   \n",
       "\n",
       "                               Age   Outcome  \n",
       "Pregnancies               0.544341       NaN  \n",
       "Glucose                        NaN  0.466581  \n",
       "BloodPressure                  NaN       NaN  \n",
       "SkinThickness                  NaN       NaN  \n",
       "Insulin                        NaN       NaN  \n",
       "BMI                            NaN       NaN  \n",
       "DiabetesPedigreeFunction       NaN       NaN  \n",
       "Age                       1.000000       NaN  \n",
       "Outcome                        NaN  1.000000  "
      ]
     },
     "execution_count": 5,
     "metadata": {},
     "output_type": "execute_result"
    }
   ],
   "source": [
    "cor_mat[abs(cor_mat) > 0.35]"
   ]
  },
  {
   "cell_type": "markdown",
   "metadata": {},
   "source": [
    "Видно, что толщина кожи положительно коррелирует с уровнем инсулина и индексом массы тела. Это весьма важные свитедельства того, что если мы заполним все пропуски простым средним, то можем испортить итоговое качество классификации.\n",
    "\n",
    "Учитывая малое количество пропусков в индексе массы тела, мы можем обучить регрессию для заполнения пропусков в толщине кожи. Оттуда найдём уровень инсулина и будем следить, чтобы взаимозависимость между переменными не испортилась.\n",
    "\n",
    "Попробуем обучить деревья для эффективного заполнения пропусков средними значениями:"
   ]
  },
  {
   "cell_type": "code",
   "execution_count": 6,
   "metadata": {},
   "outputs": [],
   "source": [
    "from sklearn.tree import DecisionTreeRegressor"
   ]
  },
  {
   "cell_type": "code",
   "execution_count": 7,
   "metadata": {},
   "outputs": [
    {
     "data": {
      "text/html": [
       "<div>\n",
       "<style scoped>\n",
       "    .dataframe tbody tr th:only-of-type {\n",
       "        vertical-align: middle;\n",
       "    }\n",
       "\n",
       "    .dataframe tbody tr th {\n",
       "        vertical-align: top;\n",
       "    }\n",
       "\n",
       "    .dataframe thead th {\n",
       "        text-align: right;\n",
       "    }\n",
       "</style>\n",
       "<table border=\"1\" class=\"dataframe\">\n",
       "  <thead>\n",
       "    <tr style=\"text-align: right;\">\n",
       "      <th></th>\n",
       "      <th>Pregnancies</th>\n",
       "      <th>Glucose</th>\n",
       "      <th>BloodPressure</th>\n",
       "      <th>SkinThickness</th>\n",
       "      <th>Insulin</th>\n",
       "      <th>BMI</th>\n",
       "      <th>DiabetesPedigreeFunction</th>\n",
       "      <th>Age</th>\n",
       "      <th>Outcome</th>\n",
       "    </tr>\n",
       "  </thead>\n",
       "  <tbody>\n",
       "    <tr>\n",
       "      <th>0</th>\n",
       "      <td>1.0</td>\n",
       "      <td>89.0</td>\n",
       "      <td>66.0</td>\n",
       "      <td>23.0</td>\n",
       "      <td>94.0</td>\n",
       "      <td>28.1</td>\n",
       "      <td>0.167</td>\n",
       "      <td>21.0</td>\n",
       "      <td>0.0</td>\n",
       "    </tr>\n",
       "    <tr>\n",
       "      <th>1</th>\n",
       "      <td>0.0</td>\n",
       "      <td>137.0</td>\n",
       "      <td>40.0</td>\n",
       "      <td>35.0</td>\n",
       "      <td>168.0</td>\n",
       "      <td>43.1</td>\n",
       "      <td>2.288</td>\n",
       "      <td>33.0</td>\n",
       "      <td>1.0</td>\n",
       "    </tr>\n",
       "    <tr>\n",
       "      <th>2</th>\n",
       "      <td>3.0</td>\n",
       "      <td>78.0</td>\n",
       "      <td>50.0</td>\n",
       "      <td>32.0</td>\n",
       "      <td>88.0</td>\n",
       "      <td>31.0</td>\n",
       "      <td>0.248</td>\n",
       "      <td>26.0</td>\n",
       "      <td>1.0</td>\n",
       "    </tr>\n",
       "    <tr>\n",
       "      <th>3</th>\n",
       "      <td>2.0</td>\n",
       "      <td>197.0</td>\n",
       "      <td>70.0</td>\n",
       "      <td>45.0</td>\n",
       "      <td>543.0</td>\n",
       "      <td>30.5</td>\n",
       "      <td>0.158</td>\n",
       "      <td>53.0</td>\n",
       "      <td>1.0</td>\n",
       "    </tr>\n",
       "    <tr>\n",
       "      <th>4</th>\n",
       "      <td>1.0</td>\n",
       "      <td>189.0</td>\n",
       "      <td>60.0</td>\n",
       "      <td>23.0</td>\n",
       "      <td>846.0</td>\n",
       "      <td>30.1</td>\n",
       "      <td>0.398</td>\n",
       "      <td>59.0</td>\n",
       "      <td>1.0</td>\n",
       "    </tr>\n",
       "  </tbody>\n",
       "</table>\n",
       "</div>"
      ],
      "text/plain": [
       "   Pregnancies  Glucose  BloodPressure  SkinThickness  Insulin   BMI  \\\n",
       "0          1.0     89.0           66.0           23.0     94.0  28.1   \n",
       "1          0.0    137.0           40.0           35.0    168.0  43.1   \n",
       "2          3.0     78.0           50.0           32.0     88.0  31.0   \n",
       "3          2.0    197.0           70.0           45.0    543.0  30.5   \n",
       "4          1.0    189.0           60.0           23.0    846.0  30.1   \n",
       "\n",
       "   DiabetesPedigreeFunction   Age  Outcome  \n",
       "0                     0.167  21.0      0.0  \n",
       "1                     2.288  33.0      1.0  \n",
       "2                     0.248  26.0      1.0  \n",
       "3                     0.158  53.0      1.0  \n",
       "4                     0.398  59.0      1.0  "
      ]
     },
     "execution_count": 7,
     "metadata": {},
     "output_type": "execute_result"
    }
   ],
   "source": [
    "col_names = data.columns\n",
    "train_null_data = pd.DataFrame(columns = col_names)\n",
    "for i in range(len(data)):\n",
    "    #ставим такое условие, чтобы регрессия не обучалась на нулевых значениях\n",
    "    if (data.iloc[i, 1:5]!=0).all():\n",
    "        train_null_data = train_null_data.append(data.iloc[i, :], ignore_index=True)\n",
    "train_null_data.head()"
   ]
  },
  {
   "cell_type": "code",
   "execution_count": 8,
   "metadata": {},
   "outputs": [
    {
     "data": {
      "text/html": [
       "<div>\n",
       "<style scoped>\n",
       "    .dataframe tbody tr th:only-of-type {\n",
       "        vertical-align: middle;\n",
       "    }\n",
       "\n",
       "    .dataframe tbody tr th {\n",
       "        vertical-align: top;\n",
       "    }\n",
       "\n",
       "    .dataframe thead th {\n",
       "        text-align: right;\n",
       "    }\n",
       "</style>\n",
       "<table border=\"1\" class=\"dataframe\">\n",
       "  <thead>\n",
       "    <tr style=\"text-align: right;\">\n",
       "      <th></th>\n",
       "      <th>Pregnancies</th>\n",
       "      <th>Glucose</th>\n",
       "      <th>BloodPressure</th>\n",
       "      <th>SkinThickness</th>\n",
       "      <th>Insulin</th>\n",
       "      <th>BMI</th>\n",
       "      <th>DiabetesPedigreeFunction</th>\n",
       "      <th>Age</th>\n",
       "      <th>Outcome</th>\n",
       "    </tr>\n",
       "  </thead>\n",
       "  <tbody>\n",
       "    <tr>\n",
       "      <th>0</th>\n",
       "      <td>8.0</td>\n",
       "      <td>183.0</td>\n",
       "      <td>64.0</td>\n",
       "      <td>0.0</td>\n",
       "      <td>0.0</td>\n",
       "      <td>23.3</td>\n",
       "      <td>0.672</td>\n",
       "      <td>32.0</td>\n",
       "      <td>1.0</td>\n",
       "    </tr>\n",
       "    <tr>\n",
       "      <th>1</th>\n",
       "      <td>5.0</td>\n",
       "      <td>116.0</td>\n",
       "      <td>74.0</td>\n",
       "      <td>0.0</td>\n",
       "      <td>0.0</td>\n",
       "      <td>25.6</td>\n",
       "      <td>0.201</td>\n",
       "      <td>30.0</td>\n",
       "      <td>0.0</td>\n",
       "    </tr>\n",
       "    <tr>\n",
       "      <th>2</th>\n",
       "      <td>10.0</td>\n",
       "      <td>115.0</td>\n",
       "      <td>0.0</td>\n",
       "      <td>0.0</td>\n",
       "      <td>0.0</td>\n",
       "      <td>35.3</td>\n",
       "      <td>0.134</td>\n",
       "      <td>29.0</td>\n",
       "      <td>0.0</td>\n",
       "    </tr>\n",
       "    <tr>\n",
       "      <th>3</th>\n",
       "      <td>8.0</td>\n",
       "      <td>125.0</td>\n",
       "      <td>96.0</td>\n",
       "      <td>0.0</td>\n",
       "      <td>0.0</td>\n",
       "      <td>0.0</td>\n",
       "      <td>0.232</td>\n",
       "      <td>54.0</td>\n",
       "      <td>1.0</td>\n",
       "    </tr>\n",
       "    <tr>\n",
       "      <th>4</th>\n",
       "      <td>4.0</td>\n",
       "      <td>110.0</td>\n",
       "      <td>92.0</td>\n",
       "      <td>0.0</td>\n",
       "      <td>0.0</td>\n",
       "      <td>37.6</td>\n",
       "      <td>0.191</td>\n",
       "      <td>30.0</td>\n",
       "      <td>0.0</td>\n",
       "    </tr>\n",
       "  </tbody>\n",
       "</table>\n",
       "</div>"
      ],
      "text/plain": [
       "   Pregnancies  Glucose  BloodPressure  SkinThickness  Insulin   BMI  \\\n",
       "0          8.0    183.0           64.0            0.0      0.0  23.3   \n",
       "1          5.0    116.0           74.0            0.0      0.0  25.6   \n",
       "2         10.0    115.0            0.0            0.0      0.0  35.3   \n",
       "3          8.0    125.0           96.0            0.0      0.0   0.0   \n",
       "4          4.0    110.0           92.0            0.0      0.0  37.6   \n",
       "\n",
       "   DiabetesPedigreeFunction   Age  Outcome  \n",
       "0                     0.672  32.0      1.0  \n",
       "1                     0.201  30.0      0.0  \n",
       "2                     0.134  29.0      0.0  \n",
       "3                     0.232  54.0      1.0  \n",
       "4                     0.191  30.0      0.0  "
      ]
     },
     "execution_count": 8,
     "metadata": {},
     "output_type": "execute_result"
    }
   ],
   "source": [
    "test_null_data = pd.DataFrame(columns = col_names)\n",
    "for i in range(len(data)):\n",
    "    if data.iloc[i, 3]==0:\n",
    "        test_null_data = test_null_data.append(data.iloc[i, :], ignore_index=True)\n",
    "test_null_data.head()"
   ]
  },
  {
   "cell_type": "code",
   "execution_count": 9,
   "metadata": {},
   "outputs": [],
   "source": [
    "#Заполним пропуски в \"толщине кожи\"\n",
    "X_train_null_data = train_null_data.drop('SkinThickness', axis=1)\n",
    "X_test_null_data = test_null_data.drop('SkinThickness', axis=1)\n",
    "y_train_null_data = train_null_data['SkinThickness']\n",
    "y_test_null_data = test_null_data['SkinThickness']"
   ]
  },
  {
   "cell_type": "code",
   "execution_count": 10,
   "metadata": {},
   "outputs": [],
   "source": [
    "regressor = DecisionTreeRegressor()\n",
    "regressor.fit(X_train_null_data, y_train_null_data)\n",
    "test_null_data['SkinThickness'] = regressor.predict(X_test_null_data)"
   ]
  },
  {
   "cell_type": "code",
   "execution_count": 11,
   "metadata": {},
   "outputs": [
    {
     "data": {
      "text/html": [
       "<div>\n",
       "<style scoped>\n",
       "    .dataframe tbody tr th:only-of-type {\n",
       "        vertical-align: middle;\n",
       "    }\n",
       "\n",
       "    .dataframe tbody tr th {\n",
       "        vertical-align: top;\n",
       "    }\n",
       "\n",
       "    .dataframe thead th {\n",
       "        text-align: right;\n",
       "    }\n",
       "</style>\n",
       "<table border=\"1\" class=\"dataframe\">\n",
       "  <thead>\n",
       "    <tr style=\"text-align: right;\">\n",
       "      <th></th>\n",
       "      <th>Pregnancies</th>\n",
       "      <th>Glucose</th>\n",
       "      <th>BloodPressure</th>\n",
       "      <th>SkinThickness</th>\n",
       "      <th>Insulin</th>\n",
       "      <th>BMI</th>\n",
       "      <th>DiabetesPedigreeFunction</th>\n",
       "      <th>Age</th>\n",
       "      <th>Outcome</th>\n",
       "    </tr>\n",
       "  </thead>\n",
       "  <tbody>\n",
       "    <tr>\n",
       "      <th>0</th>\n",
       "      <td>8.0</td>\n",
       "      <td>183.0</td>\n",
       "      <td>64.0</td>\n",
       "      <td>22.0</td>\n",
       "      <td>0.0</td>\n",
       "      <td>23.3</td>\n",
       "      <td>0.672</td>\n",
       "      <td>32.0</td>\n",
       "      <td>1.0</td>\n",
       "    </tr>\n",
       "    <tr>\n",
       "      <th>1</th>\n",
       "      <td>5.0</td>\n",
       "      <td>116.0</td>\n",
       "      <td>74.0</td>\n",
       "      <td>19.0</td>\n",
       "      <td>0.0</td>\n",
       "      <td>25.6</td>\n",
       "      <td>0.201</td>\n",
       "      <td>30.0</td>\n",
       "      <td>0.0</td>\n",
       "    </tr>\n",
       "    <tr>\n",
       "      <th>2</th>\n",
       "      <td>10.0</td>\n",
       "      <td>115.0</td>\n",
       "      <td>0.0</td>\n",
       "      <td>47.0</td>\n",
       "      <td>0.0</td>\n",
       "      <td>35.3</td>\n",
       "      <td>0.134</td>\n",
       "      <td>29.0</td>\n",
       "      <td>0.0</td>\n",
       "    </tr>\n",
       "    <tr>\n",
       "      <th>3</th>\n",
       "      <td>8.0</td>\n",
       "      <td>125.0</td>\n",
       "      <td>96.0</td>\n",
       "      <td>22.0</td>\n",
       "      <td>0.0</td>\n",
       "      <td>0.0</td>\n",
       "      <td>0.232</td>\n",
       "      <td>54.0</td>\n",
       "      <td>1.0</td>\n",
       "    </tr>\n",
       "    <tr>\n",
       "      <th>4</th>\n",
       "      <td>4.0</td>\n",
       "      <td>110.0</td>\n",
       "      <td>92.0</td>\n",
       "      <td>46.0</td>\n",
       "      <td>0.0</td>\n",
       "      <td>37.6</td>\n",
       "      <td>0.191</td>\n",
       "      <td>30.0</td>\n",
       "      <td>0.0</td>\n",
       "    </tr>\n",
       "  </tbody>\n",
       "</table>\n",
       "</div>"
      ],
      "text/plain": [
       "   Pregnancies  Glucose  BloodPressure  SkinThickness  Insulin   BMI  \\\n",
       "0          8.0    183.0           64.0           22.0      0.0  23.3   \n",
       "1          5.0    116.0           74.0           19.0      0.0  25.6   \n",
       "2         10.0    115.0            0.0           47.0      0.0  35.3   \n",
       "3          8.0    125.0           96.0           22.0      0.0   0.0   \n",
       "4          4.0    110.0           92.0           46.0      0.0  37.6   \n",
       "\n",
       "   DiabetesPedigreeFunction   Age  Outcome  \n",
       "0                     0.672  32.0      1.0  \n",
       "1                     0.201  30.0      0.0  \n",
       "2                     0.134  29.0      0.0  \n",
       "3                     0.232  54.0      1.0  \n",
       "4                     0.191  30.0      0.0  "
      ]
     },
     "execution_count": 11,
     "metadata": {},
     "output_type": "execute_result"
    }
   ],
   "source": [
    "test_null_data.head()"
   ]
  },
  {
   "cell_type": "code",
   "execution_count": 12,
   "metadata": {},
   "outputs": [
    {
     "data": {
      "text/html": [
       "<div>\n",
       "<style scoped>\n",
       "    .dataframe tbody tr th:only-of-type {\n",
       "        vertical-align: middle;\n",
       "    }\n",
       "\n",
       "    .dataframe tbody tr th {\n",
       "        vertical-align: top;\n",
       "    }\n",
       "\n",
       "    .dataframe thead th {\n",
       "        text-align: right;\n",
       "    }\n",
       "</style>\n",
       "<table border=\"1\" class=\"dataframe\">\n",
       "  <thead>\n",
       "    <tr style=\"text-align: right;\">\n",
       "      <th></th>\n",
       "      <th>Pregnancies</th>\n",
       "      <th>Glucose</th>\n",
       "      <th>BloodPressure</th>\n",
       "      <th>SkinThickness</th>\n",
       "      <th>Insulin</th>\n",
       "      <th>BMI</th>\n",
       "      <th>DiabetesPedigreeFunction</th>\n",
       "      <th>Age</th>\n",
       "      <th>Outcome</th>\n",
       "    </tr>\n",
       "  </thead>\n",
       "  <tbody>\n",
       "    <tr>\n",
       "      <th>0</th>\n",
       "      <td>6.0</td>\n",
       "      <td>148.0</td>\n",
       "      <td>72.0</td>\n",
       "      <td>35.0</td>\n",
       "      <td>0.0</td>\n",
       "      <td>33.6</td>\n",
       "      <td>0.627</td>\n",
       "      <td>50.0</td>\n",
       "      <td>1.0</td>\n",
       "    </tr>\n",
       "    <tr>\n",
       "      <th>1</th>\n",
       "      <td>1.0</td>\n",
       "      <td>85.0</td>\n",
       "      <td>66.0</td>\n",
       "      <td>29.0</td>\n",
       "      <td>0.0</td>\n",
       "      <td>26.6</td>\n",
       "      <td>0.351</td>\n",
       "      <td>31.0</td>\n",
       "      <td>0.0</td>\n",
       "    </tr>\n",
       "    <tr>\n",
       "      <th>2</th>\n",
       "      <td>9.0</td>\n",
       "      <td>119.0</td>\n",
       "      <td>80.0</td>\n",
       "      <td>35.0</td>\n",
       "      <td>0.0</td>\n",
       "      <td>29.0</td>\n",
       "      <td>0.263</td>\n",
       "      <td>29.0</td>\n",
       "      <td>1.0</td>\n",
       "    </tr>\n",
       "    <tr>\n",
       "      <th>3</th>\n",
       "      <td>5.0</td>\n",
       "      <td>109.0</td>\n",
       "      <td>75.0</td>\n",
       "      <td>26.0</td>\n",
       "      <td>0.0</td>\n",
       "      <td>36.0</td>\n",
       "      <td>0.546</td>\n",
       "      <td>60.0</td>\n",
       "      <td>0.0</td>\n",
       "    </tr>\n",
       "    <tr>\n",
       "      <th>4</th>\n",
       "      <td>10.0</td>\n",
       "      <td>122.0</td>\n",
       "      <td>78.0</td>\n",
       "      <td>31.0</td>\n",
       "      <td>0.0</td>\n",
       "      <td>27.6</td>\n",
       "      <td>0.512</td>\n",
       "      <td>45.0</td>\n",
       "      <td>0.0</td>\n",
       "    </tr>\n",
       "  </tbody>\n",
       "</table>\n",
       "</div>"
      ],
      "text/plain": [
       "   Pregnancies  Glucose  BloodPressure  SkinThickness  Insulin   BMI  \\\n",
       "0          6.0    148.0           72.0           35.0      0.0  33.6   \n",
       "1          1.0     85.0           66.0           29.0      0.0  26.6   \n",
       "2          9.0    119.0           80.0           35.0      0.0  29.0   \n",
       "3          5.0    109.0           75.0           26.0      0.0  36.0   \n",
       "4         10.0    122.0           78.0           31.0      0.0  27.6   \n",
       "\n",
       "   DiabetesPedigreeFunction   Age  Outcome  \n",
       "0                     0.627  50.0      1.0  \n",
       "1                     0.351  31.0      0.0  \n",
       "2                     0.263  29.0      1.0  \n",
       "3                     0.546  60.0      0.0  \n",
       "4                     0.512  45.0      0.0  "
      ]
     },
     "execution_count": 12,
     "metadata": {},
     "output_type": "execute_result"
    }
   ],
   "source": [
    "garbage_null_data = pd.DataFrame(columns = col_names)\n",
    "for i in range(len(data)):\n",
    "    if (((data.iloc[i, 1:3]==0).any() or (data.iloc[i, 4:5]==0).any()) and data.iloc[i, 3]!=0):\n",
    "        garbage_null_data = garbage_null_data.append(data.iloc[i, :], ignore_index=True)\n",
    "garbage_null_data.head()"
   ]
  },
  {
   "cell_type": "code",
   "execution_count": 13,
   "metadata": {},
   "outputs": [
    {
     "name": "stdout",
     "output_type": "stream",
     "text": [
      "768 768\n"
     ]
    }
   ],
   "source": [
    "filled_data = pd.DataFrame(columns = col_names)\n",
    "filled_data = pd.concat([train_null_data, test_null_data, garbage_null_data])\n",
    "print(len(filled_data), len(data))"
   ]
  },
  {
   "cell_type": "code",
   "execution_count": 14,
   "metadata": {},
   "outputs": [
    {
     "data": {
      "text/html": [
       "<div>\n",
       "<style scoped>\n",
       "    .dataframe tbody tr th:only-of-type {\n",
       "        vertical-align: middle;\n",
       "    }\n",
       "\n",
       "    .dataframe tbody tr th {\n",
       "        vertical-align: top;\n",
       "    }\n",
       "\n",
       "    .dataframe thead th {\n",
       "        text-align: right;\n",
       "    }\n",
       "</style>\n",
       "<table border=\"1\" class=\"dataframe\">\n",
       "  <thead>\n",
       "    <tr style=\"text-align: right;\">\n",
       "      <th></th>\n",
       "      <th>Pregnancies</th>\n",
       "      <th>Glucose</th>\n",
       "      <th>BloodPressure</th>\n",
       "      <th>SkinThickness</th>\n",
       "      <th>Insulin</th>\n",
       "      <th>BMI</th>\n",
       "      <th>DiabetesPedigreeFunction</th>\n",
       "      <th>Age</th>\n",
       "      <th>Outcome</th>\n",
       "    </tr>\n",
       "  </thead>\n",
       "  <tbody>\n",
       "    <tr>\n",
       "      <th>0</th>\n",
       "      <td>8.0</td>\n",
       "      <td>183.0</td>\n",
       "      <td>64.0</td>\n",
       "      <td>22.0</td>\n",
       "      <td>130.0</td>\n",
       "      <td>23.3</td>\n",
       "      <td>0.672</td>\n",
       "      <td>32.0</td>\n",
       "      <td>1.0</td>\n",
       "    </tr>\n",
       "    <tr>\n",
       "      <th>1</th>\n",
       "      <td>5.0</td>\n",
       "      <td>116.0</td>\n",
       "      <td>74.0</td>\n",
       "      <td>19.0</td>\n",
       "      <td>110.0</td>\n",
       "      <td>25.6</td>\n",
       "      <td>0.201</td>\n",
       "      <td>30.0</td>\n",
       "      <td>0.0</td>\n",
       "    </tr>\n",
       "    <tr>\n",
       "      <th>2</th>\n",
       "      <td>10.0</td>\n",
       "      <td>115.0</td>\n",
       "      <td>0.0</td>\n",
       "      <td>47.0</td>\n",
       "      <td>191.0</td>\n",
       "      <td>35.3</td>\n",
       "      <td>0.134</td>\n",
       "      <td>29.0</td>\n",
       "      <td>0.0</td>\n",
       "    </tr>\n",
       "    <tr>\n",
       "      <th>3</th>\n",
       "      <td>8.0</td>\n",
       "      <td>125.0</td>\n",
       "      <td>96.0</td>\n",
       "      <td>22.0</td>\n",
       "      <td>326.0</td>\n",
       "      <td>0.0</td>\n",
       "      <td>0.232</td>\n",
       "      <td>54.0</td>\n",
       "      <td>1.0</td>\n",
       "    </tr>\n",
       "    <tr>\n",
       "      <th>4</th>\n",
       "      <td>4.0</td>\n",
       "      <td>110.0</td>\n",
       "      <td>92.0</td>\n",
       "      <td>46.0</td>\n",
       "      <td>160.0</td>\n",
       "      <td>37.6</td>\n",
       "      <td>0.191</td>\n",
       "      <td>30.0</td>\n",
       "      <td>0.0</td>\n",
       "    </tr>\n",
       "  </tbody>\n",
       "</table>\n",
       "</div>"
      ],
      "text/plain": [
       "   Pregnancies  Glucose  BloodPressure  SkinThickness  Insulin   BMI  \\\n",
       "0          8.0    183.0           64.0           22.0    130.0  23.3   \n",
       "1          5.0    116.0           74.0           19.0    110.0  25.6   \n",
       "2         10.0    115.0            0.0           47.0    191.0  35.3   \n",
       "3          8.0    125.0           96.0           22.0    326.0   0.0   \n",
       "4          4.0    110.0           92.0           46.0    160.0  37.6   \n",
       "\n",
       "   DiabetesPedigreeFunction   Age  Outcome  \n",
       "0                     0.672  32.0      1.0  \n",
       "1                     0.201  30.0      0.0  \n",
       "2                     0.134  29.0      0.0  \n",
       "3                     0.232  54.0      1.0  \n",
       "4                     0.191  30.0      0.0  "
      ]
     },
     "execution_count": 14,
     "metadata": {},
     "output_type": "execute_result"
    }
   ],
   "source": [
    "#Заполним пропуски в \"Инсулине\"\n",
    "train_null_data = pd.DataFrame(columns = col_names)\n",
    "for i in range(len(filled_data)):\n",
    "    if (filled_data.iloc[i, 1:6]!=0).all():\n",
    "        train_null_data = train_null_data.append(filled_data.iloc[i, :], ignore_index=True)\n",
    "        \n",
    "test_null_data = pd.DataFrame(columns = col_names)\n",
    "for i in range(len(filled_data)):\n",
    "    if filled_data.iloc[i, 4]==0:\n",
    "        test_null_data = test_null_data.append(filled_data.iloc[i, :], ignore_index=True)\n",
    "\n",
    "\n",
    "X_train_null_data = train_null_data.drop('Insulin', axis=1)\n",
    "X_test_null_data = test_null_data.drop('Insulin', axis=1)\n",
    "y_train_null_data = train_null_data['Insulin']\n",
    "y_test_null_data = test_null_data['Insulin']\n",
    "regressor.fit(X_train_null_data, y_train_null_data)\n",
    "test_null_data['Insulin'] = regressor.predict(X_test_null_data)\n",
    "test_null_data.head()"
   ]
  },
  {
   "cell_type": "markdown",
   "metadata": {},
   "source": [
    "Проверим, что заполненные на данный момент пропуски не исказили статистику и всё выглядит более-менее правдоподобно:"
   ]
  },
  {
   "cell_type": "code",
   "execution_count": 15,
   "metadata": {},
   "outputs": [
    {
     "data": {
      "text/plain": [
       "count    392.000000\n",
       "mean      29.145408\n",
       "std       10.516424\n",
       "min        7.000000\n",
       "25%       21.000000\n",
       "50%       29.000000\n",
       "75%       37.000000\n",
       "max       63.000000\n",
       "Name: SkinThickness, dtype: float64"
      ]
     },
     "execution_count": 15,
     "metadata": {},
     "output_type": "execute_result"
    }
   ],
   "source": [
    "train_null_data['SkinThickness'].describe()"
   ]
  },
  {
   "cell_type": "code",
   "execution_count": 16,
   "metadata": {},
   "outputs": [
    {
     "data": {
      "text/plain": [
       "count    374.000000\n",
       "mean      28.887701\n",
       "std       11.250890\n",
       "min        7.000000\n",
       "25%       19.000000\n",
       "50%       29.500000\n",
       "75%       37.000000\n",
       "max       99.000000\n",
       "Name: SkinThickness, dtype: float64"
      ]
     },
     "execution_count": 16,
     "metadata": {},
     "output_type": "execute_result"
    }
   ],
   "source": [
    "test_null_data['SkinThickness'].describe()"
   ]
  },
  {
   "cell_type": "code",
   "execution_count": 17,
   "metadata": {},
   "outputs": [
    {
     "data": {
      "text/plain": [
       "count    392.000000\n",
       "mean     156.056122\n",
       "std      118.841690\n",
       "min       14.000000\n",
       "25%       76.750000\n",
       "50%      125.500000\n",
       "75%      190.000000\n",
       "max      846.000000\n",
       "Name: Insulin, dtype: float64"
      ]
     },
     "execution_count": 17,
     "metadata": {},
     "output_type": "execute_result"
    }
   ],
   "source": [
    "train_null_data['Insulin'].describe()"
   ]
  },
  {
   "cell_type": "code",
   "execution_count": 18,
   "metadata": {},
   "outputs": [
    {
     "data": {
      "text/plain": [
       "count    374.000000\n",
       "mean     161.711230\n",
       "std      136.322485\n",
       "min       15.000000\n",
       "25%       76.000000\n",
       "50%      119.000000\n",
       "75%      181.500000\n",
       "max      846.000000\n",
       "Name: Insulin, dtype: float64"
      ]
     },
     "execution_count": 18,
     "metadata": {},
     "output_type": "execute_result"
    }
   ],
   "source": [
    "test_null_data['Insulin'].describe()"
   ]
  },
  {
   "cell_type": "markdown",
   "metadata": {},
   "source": [
    "Пропуски остались только в столбцах \"Глюкоза\", \"Давление\" и \"Индекс массы тела\", можем заполнить их средними значениями с присущим каждому столбцу стандартным отклонением, поскольку суммарное количество пропусков там несущественно."
   ]
  },
  {
   "cell_type": "code",
   "execution_count": 19,
   "metadata": {},
   "outputs": [
    {
     "name": "stdout",
     "output_type": "stream",
     "text": [
      "768 768\n"
     ]
    }
   ],
   "source": [
    "garbage_null_data = pd.DataFrame(columns = col_names)\n",
    "for i in range(len(data)):\n",
    "    if (((data.iloc[i, 1:3]==0).any() or data.iloc[i, 5]==0) and data.iloc[i, 4]!=0):\n",
    "        garbage_null_data = garbage_null_data.append(data.iloc[i, :], ignore_index=True)\n",
    "\n",
    "filled_data = pd.DataFrame(columns = col_names)\n",
    "filled_data = pd.concat([train_null_data, test_null_data, garbage_null_data])\n",
    "print(len(filled_data), len(data))\n",
    "\n",
    "almost_filled_data = pd.concat([train_null_data, test_null_data])"
   ]
  },
  {
   "cell_type": "code",
   "execution_count": 20,
   "metadata": {},
   "outputs": [],
   "source": [
    "for i in range(len(filled_data)):\n",
    "    if filled_data.iloc[i, 1]==0:\n",
    "        filled_data.iloc[i, 1] = np.random.normal(loc=almost_filled_data['Glucose'].mean(), \n",
    "                                                  scale=almost_filled_data['Glucose'].std(), size=1)\n",
    "    if filled_data.iloc[i, 2]==0:\n",
    "        filled_data.iloc[i, 2] = np.random.normal(loc=almost_filled_data['BloodPressure'].mean(), \n",
    "                                                  scale=almost_filled_data['BloodPressure'].std(), size=1)\n",
    "    if filled_data.iloc[i, 5]==0:\n",
    "        filled_data.iloc[i, 5] = np.random.normal(loc=almost_filled_data['BMI'].mean(), \n",
    "                                                  scale=almost_filled_data['BMI'].std(), size=1)"
   ]
  },
  {
   "cell_type": "code",
   "execution_count": 21,
   "metadata": {},
   "outputs": [
    {
     "data": {
      "text/plain": [
       "False"
      ]
     },
     "execution_count": 21,
     "metadata": {},
     "output_type": "execute_result"
    }
   ],
   "source": [
    "(filled_data.iloc[i, 1:6]==0).any()"
   ]
  },
  {
   "cell_type": "code",
   "execution_count": 22,
   "metadata": {},
   "outputs": [
    {
     "data": {
      "text/plain": [
       "<matplotlib.axes._subplots.AxesSubplot at 0x2d6a9fe2080>"
      ]
     },
     "execution_count": 22,
     "metadata": {},
     "output_type": "execute_result"
    },
    {
     "data": {
      "image/png": "[encoded data removed]",
      "text/plain": [
       "<Figure size 432x288 with 2 Axes>"
      ]
     },
     "metadata": {
      "needs_background": "light"
     },
     "output_type": "display_data"
    }
   ],
   "source": [
    "filled_cor_mat = pd.DataFrame(filled_data).corr()\n",
    "sns.heatmap(cor_mat, vmin = -1, vmax = 1, linewidths = 0.5, square = True)"
   ]
  },
  {
   "cell_type": "code",
   "execution_count": 23,
   "metadata": {},
   "outputs": [
    {
     "data": {
      "text/html": [
       "<div>\n",
       "<style scoped>\n",
       "    .dataframe tbody tr th:only-of-type {\n",
       "        vertical-align: middle;\n",
       "    }\n",
       "\n",
       "    .dataframe tbody tr th {\n",
       "        vertical-align: top;\n",
       "    }\n",
       "\n",
       "    .dataframe thead th {\n",
       "        text-align: right;\n",
       "    }\n",
       "</style>\n",
       "<table border=\"1\" class=\"dataframe\">\n",
       "  <thead>\n",
       "    <tr style=\"text-align: right;\">\n",
       "      <th></th>\n",
       "      <th>Pregnancies</th>\n",
       "      <th>Glucose</th>\n",
       "      <th>BloodPressure</th>\n",
       "      <th>SkinThickness</th>\n",
       "      <th>Insulin</th>\n",
       "      <th>BMI</th>\n",
       "      <th>DiabetesPedigreeFunction</th>\n",
       "      <th>Age</th>\n",
       "      <th>Outcome</th>\n",
       "    </tr>\n",
       "  </thead>\n",
       "  <tbody>\n",
       "    <tr>\n",
       "      <th>Pregnancies</th>\n",
       "      <td>NaN</td>\n",
       "      <td>NaN</td>\n",
       "      <td>NaN</td>\n",
       "      <td>-0.202011</td>\n",
       "      <td>-0.138516</td>\n",
       "      <td>NaN</td>\n",
       "      <td>NaN</td>\n",
       "      <td>NaN</td>\n",
       "      <td>NaN</td>\n",
       "    </tr>\n",
       "    <tr>\n",
       "      <th>Glucose</th>\n",
       "      <td>NaN</td>\n",
       "      <td>NaN</td>\n",
       "      <td>NaN</td>\n",
       "      <td>-0.140996</td>\n",
       "      <td>-0.236090</td>\n",
       "      <td>NaN</td>\n",
       "      <td>NaN</td>\n",
       "      <td>NaN</td>\n",
       "      <td>NaN</td>\n",
       "    </tr>\n",
       "    <tr>\n",
       "      <th>BloodPressure</th>\n",
       "      <td>NaN</td>\n",
       "      <td>NaN</td>\n",
       "      <td>NaN</td>\n",
       "      <td>NaN</td>\n",
       "      <td>-0.050989</td>\n",
       "      <td>NaN</td>\n",
       "      <td>NaN</td>\n",
       "      <td>-0.054959</td>\n",
       "      <td>-0.067518</td>\n",
       "    </tr>\n",
       "    <tr>\n",
       "      <th>SkinThickness</th>\n",
       "      <td>-0.202011</td>\n",
       "      <td>-0.140996</td>\n",
       "      <td>NaN</td>\n",
       "      <td>NaN</td>\n",
       "      <td>0.241135</td>\n",
       "      <td>-0.269401</td>\n",
       "      <td>0.084755</td>\n",
       "      <td>-0.225663</td>\n",
       "      <td>-0.170994</td>\n",
       "    </tr>\n",
       "    <tr>\n",
       "      <th>Insulin</th>\n",
       "      <td>-0.138516</td>\n",
       "      <td>-0.236090</td>\n",
       "      <td>-0.050989</td>\n",
       "      <td>0.241135</td>\n",
       "      <td>NaN</td>\n",
       "      <td>NaN</td>\n",
       "      <td>0.086630</td>\n",
       "      <td>-0.272004</td>\n",
       "      <td>-0.197730</td>\n",
       "    </tr>\n",
       "    <tr>\n",
       "      <th>BMI</th>\n",
       "      <td>NaN</td>\n",
       "      <td>NaN</td>\n",
       "      <td>NaN</td>\n",
       "      <td>-0.269401</td>\n",
       "      <td>NaN</td>\n",
       "      <td>NaN</td>\n",
       "      <td>NaN</td>\n",
       "      <td>NaN</td>\n",
       "      <td>NaN</td>\n",
       "    </tr>\n",
       "    <tr>\n",
       "      <th>DiabetesPedigreeFunction</th>\n",
       "      <td>NaN</td>\n",
       "      <td>NaN</td>\n",
       "      <td>NaN</td>\n",
       "      <td>0.084755</td>\n",
       "      <td>0.086630</td>\n",
       "      <td>NaN</td>\n",
       "      <td>NaN</td>\n",
       "      <td>NaN</td>\n",
       "      <td>NaN</td>\n",
       "    </tr>\n",
       "    <tr>\n",
       "      <th>Age</th>\n",
       "      <td>NaN</td>\n",
       "      <td>NaN</td>\n",
       "      <td>-0.054959</td>\n",
       "      <td>-0.225663</td>\n",
       "      <td>-0.272004</td>\n",
       "      <td>NaN</td>\n",
       "      <td>NaN</td>\n",
       "      <td>NaN</td>\n",
       "      <td>NaN</td>\n",
       "    </tr>\n",
       "    <tr>\n",
       "      <th>Outcome</th>\n",
       "      <td>NaN</td>\n",
       "      <td>NaN</td>\n",
       "      <td>-0.067518</td>\n",
       "      <td>-0.170994</td>\n",
       "      <td>-0.197730</td>\n",
       "      <td>NaN</td>\n",
       "      <td>NaN</td>\n",
       "      <td>NaN</td>\n",
       "      <td>NaN</td>\n",
       "    </tr>\n",
       "  </tbody>\n",
       "</table>\n",
       "</div>"
      ],
      "text/plain": [
       "                          Pregnancies   Glucose  BloodPressure  SkinThickness  \\\n",
       "Pregnancies                       NaN       NaN            NaN      -0.202011   \n",
       "Glucose                           NaN       NaN            NaN      -0.140996   \n",
       "BloodPressure                     NaN       NaN            NaN            NaN   \n",
       "SkinThickness               -0.202011 -0.140996            NaN            NaN   \n",
       "Insulin                     -0.138516 -0.236090      -0.050989       0.241135   \n",
       "BMI                               NaN       NaN            NaN      -0.269401   \n",
       "DiabetesPedigreeFunction          NaN       NaN            NaN       0.084755   \n",
       "Age                               NaN       NaN      -0.054959      -0.225663   \n",
       "Outcome                           NaN       NaN      -0.067518      -0.170994   \n",
       "\n",
       "                           Insulin       BMI  DiabetesPedigreeFunction  \\\n",
       "Pregnancies              -0.138516       NaN                       NaN   \n",
       "Glucose                  -0.236090       NaN                       NaN   \n",
       "BloodPressure            -0.050989       NaN                       NaN   \n",
       "SkinThickness             0.241135 -0.269401                  0.084755   \n",
       "Insulin                        NaN       NaN                  0.086630   \n",
       "BMI                            NaN       NaN                       NaN   \n",
       "DiabetesPedigreeFunction  0.086630       NaN                       NaN   \n",
       "Age                      -0.272004       NaN                       NaN   \n",
       "Outcome                  -0.197730       NaN                       NaN   \n",
       "\n",
       "                               Age   Outcome  \n",
       "Pregnancies                    NaN       NaN  \n",
       "Glucose                        NaN       NaN  \n",
       "BloodPressure            -0.054959 -0.067518  \n",
       "SkinThickness            -0.225663 -0.170994  \n",
       "Insulin                  -0.272004 -0.197730  \n",
       "BMI                            NaN       NaN  \n",
       "DiabetesPedigreeFunction       NaN       NaN  \n",
       "Age                            NaN       NaN  \n",
       "Outcome                        NaN       NaN  "
      ]
     },
     "execution_count": 23,
     "metadata": {},
     "output_type": "execute_result"
    }
   ],
   "source": [
    "(cor_mat-filled_cor_mat)[abs(cor_mat-filled_cor_mat)>0.05]\n",
    "#Есть ощущение, что я всё испортил"
   ]
  },
  {
   "cell_type": "code",
   "execution_count": 24,
   "metadata": {},
   "outputs": [
    {
     "data": {
      "text/html": [
       "<div>\n",
       "<style scoped>\n",
       "    .dataframe tbody tr th:only-of-type {\n",
       "        vertical-align: middle;\n",
       "    }\n",
       "\n",
       "    .dataframe tbody tr th {\n",
       "        vertical-align: top;\n",
       "    }\n",
       "\n",
       "    .dataframe thead th {\n",
       "        text-align: right;\n",
       "    }\n",
       "</style>\n",
       "<table border=\"1\" class=\"dataframe\">\n",
       "  <thead>\n",
       "    <tr style=\"text-align: right;\">\n",
       "      <th></th>\n",
       "      <th>Pregnancies</th>\n",
       "      <th>Glucose</th>\n",
       "      <th>BloodPressure</th>\n",
       "      <th>SkinThickness</th>\n",
       "      <th>Insulin</th>\n",
       "      <th>BMI</th>\n",
       "      <th>DiabetesPedigreeFunction</th>\n",
       "      <th>Age</th>\n",
       "      <th>Outcome</th>\n",
       "    </tr>\n",
       "  </thead>\n",
       "  <tbody>\n",
       "    <tr>\n",
       "      <th>0</th>\n",
       "      <td>1.0</td>\n",
       "      <td>89.0</td>\n",
       "      <td>66.0</td>\n",
       "      <td>23.0</td>\n",
       "      <td>94.0</td>\n",
       "      <td>28.1</td>\n",
       "      <td>0.167</td>\n",
       "      <td>21.0</td>\n",
       "      <td>0.0</td>\n",
       "    </tr>\n",
       "    <tr>\n",
       "      <th>1</th>\n",
       "      <td>0.0</td>\n",
       "      <td>137.0</td>\n",
       "      <td>40.0</td>\n",
       "      <td>35.0</td>\n",
       "      <td>168.0</td>\n",
       "      <td>43.1</td>\n",
       "      <td>2.288</td>\n",
       "      <td>33.0</td>\n",
       "      <td>1.0</td>\n",
       "    </tr>\n",
       "    <tr>\n",
       "      <th>2</th>\n",
       "      <td>3.0</td>\n",
       "      <td>78.0</td>\n",
       "      <td>50.0</td>\n",
       "      <td>32.0</td>\n",
       "      <td>88.0</td>\n",
       "      <td>31.0</td>\n",
       "      <td>0.248</td>\n",
       "      <td>26.0</td>\n",
       "      <td>1.0</td>\n",
       "    </tr>\n",
       "    <tr>\n",
       "      <th>3</th>\n",
       "      <td>2.0</td>\n",
       "      <td>197.0</td>\n",
       "      <td>70.0</td>\n",
       "      <td>45.0</td>\n",
       "      <td>543.0</td>\n",
       "      <td>30.5</td>\n",
       "      <td>0.158</td>\n",
       "      <td>53.0</td>\n",
       "      <td>1.0</td>\n",
       "    </tr>\n",
       "    <tr>\n",
       "      <th>4</th>\n",
       "      <td>1.0</td>\n",
       "      <td>189.0</td>\n",
       "      <td>60.0</td>\n",
       "      <td>23.0</td>\n",
       "      <td>846.0</td>\n",
       "      <td>30.1</td>\n",
       "      <td>0.398</td>\n",
       "      <td>59.0</td>\n",
       "      <td>1.0</td>\n",
       "    </tr>\n",
       "  </tbody>\n",
       "</table>\n",
       "</div>"
      ],
      "text/plain": [
       "   Pregnancies  Glucose  BloodPressure  SkinThickness  Insulin   BMI  \\\n",
       "0          1.0     89.0           66.0           23.0     94.0  28.1   \n",
       "1          0.0    137.0           40.0           35.0    168.0  43.1   \n",
       "2          3.0     78.0           50.0           32.0     88.0  31.0   \n",
       "3          2.0    197.0           70.0           45.0    543.0  30.5   \n",
       "4          1.0    189.0           60.0           23.0    846.0  30.1   \n",
       "\n",
       "   DiabetesPedigreeFunction   Age  Outcome  \n",
       "0                     0.167  21.0      0.0  \n",
       "1                     2.288  33.0      1.0  \n",
       "2                     0.248  26.0      1.0  \n",
       "3                     0.158  53.0      1.0  \n",
       "4                     0.398  59.0      1.0  "
      ]
     },
     "execution_count": 24,
     "metadata": {},
     "output_type": "execute_result"
    }
   ],
   "source": [
    "filled_data.head()"
   ]
  },
  {
   "cell_type": "markdown",
   "metadata": {},
   "source": [
    "Забавно, что я увидел подпись \"Заполните средними\" в условии задания только после того, как сделал всё это. Но менять не буду, поскольку мне кажется, что заполненные таким образом пропуски будут гораздо более эффективны при решении задачи классификации, может быть из жалости получу какие-нибудь +0.03 бонусных балла :)"
   ]
  },
  {
   "cell_type": "markdown",
   "metadata": {},
   "source": [
    "**2. (1 балл)** Визуализируйте распределение признаков по отдельности для больных диабетом и здоровых. Ваши графики должны быть примерно такими:\n",
    "\n",
    "![Image](https://d.radikal.ru/d03/2005/f8/0ffb9443cbcf.png)"
   ]
  },
  {
   "cell_type": "code",
   "execution_count": 25,
   "metadata": {},
   "outputs": [
    {
     "data": {
      "image/png": "[encoded data removed]",
      "text/plain": [
       "<Figure size 1080x864 with 9 Axes>"
      ]
     },
     "metadata": {
      "needs_background": "light"
     },
     "output_type": "display_data"
    }
   ],
   "source": [
    "from math import log2\n",
    "\n",
    "fig, ax = plt.subplots(nrows=3, ncols=3, figsize=(15, 12))\n",
    "\n",
    "for i, name in enumerate(data.columns):\n",
    "    ax[i//3][i%3].grid()\n",
    "    ax[i//3][i%3].set_title('{}'.format(name))\n",
    "    ax[i//3][i%3].hist(filled_data.loc[filled_data['Outcome'] == 0, name], alpha=0.6, color='green', histtype=\"barstacked\",\n",
    "            bins=int(1+log2(len(data))*2))\n",
    "    ax[i//3][i%3].hist(filled_data.loc[filled_data['Outcome'] == 1, name], alpha=0.6, color='red', histtype=\"barstacked\",\n",
    "            bins=int(1+log2(len(data))*2))\n",
    "    ax[i//3][i%3].legend(('Have Diabets = NO', 'Have Diabets = YES'))\n",
    "plt.show()"
   ]
  },
  {
   "cell_type": "markdown",
   "metadata": {},
   "source": [
    "**3. (2 балла)** Разбейте данные на обучающую и тестовую часть в соотношении 70:30. Обучите *BaggingClassifier* на деревьях (поставьте параметр *base_estimator = DecisionTreeClassifier()*) и *RandomForest*. Возьмите количество базовых алгоритмов, равное 10. Посчитайте accuracy, recall и precision. Есть ли какая-то разница между моделями и их результатами? Как вы думаете, почему получились такие результаты?\n",
    "\n",
    "*tip: создайте отдельную функцию для вывода метрик качества;*"
   ]
  },
  {
   "cell_type": "code",
   "execution_count": 26,
   "metadata": {
    "ExecuteTime": {
     "end_time": "2020-05-17T14:10:20.171445Z",
     "start_time": "2020-05-17T14:10:20.156474Z"
    }
   },
   "outputs": [],
   "source": [
    "from sklearn.model_selection import train_test_split\n",
    "from sklearn.metrics import accuracy_score, precision_score, recall_score\n",
    "\n",
    "from sklearn.ensemble import BaggingClassifier\n",
    "from sklearn.ensemble import RandomForestClassifier\n",
    "from sklearn.tree import DecisionTreeClassifier"
   ]
  },
  {
   "cell_type": "code",
   "execution_count": 27,
   "metadata": {},
   "outputs": [],
   "source": [
    "def metrics(y_test, y_pred):\n",
    "    return [accuracy_score(y_test, y_pred), precision_score(y_test, y_pred), recall_score(y_test, y_pred)]"
   ]
  },
  {
   "cell_type": "code",
   "execution_count": 28,
   "metadata": {},
   "outputs": [],
   "source": [
    "X = filled_data.drop('Outcome', axis=1)\n",
    "y = filled_data['Outcome']\n",
    "X_train, X_test, y_train, y_test = train_test_split(X, y, random_state=10, train_size=0.7, test_size=0.3)"
   ]
  },
  {
   "cell_type": "code",
   "execution_count": 31,
   "metadata": {},
   "outputs": [
    {
     "data": {
      "text/plain": [
       "[0.7575757575757576, 0.7241379310344828, 0.5121951219512195]"
      ]
     },
     "execution_count": 31,
     "metadata": {},
     "output_type": "execute_result"
    }
   ],
   "source": [
    "bag_clf = BaggingClassifier(base_estimator=DecisionTreeClassifier(), n_estimators=10, random_state=10)\n",
    "bag_clf.fit(X_train, y_train)\n",
    "y_pred_bag = bag_clf.predict(X_test)\n",
    "metrics(y_test, y_pred_bag)"
   ]
  },
  {
   "cell_type": "code",
   "execution_count": 32,
   "metadata": {},
   "outputs": [
    {
     "data": {
      "text/plain": [
       "[0.7922077922077922, 0.84, 0.5121951219512195]"
      ]
     },
     "execution_count": 32,
     "metadata": {},
     "output_type": "execute_result"
    }
   ],
   "source": [
    "for_clf = RandomForestClassifier(n_estimators=10, random_state=10)\n",
    "for_clf.fit(X_train, y_train)\n",
    "y_pred_for = for_clf.predict(X_test)\n",
    "metrics(y_test, y_pred_for)"
   ]
  },
  {
   "cell_type": "markdown",
   "metadata": {},
   "source": [
    "Для обоих классификаторов качество по всем трём метрикам отклоняется друг от друга не более чем на 0.07, то есть разница в качестве не столь существенна. Также я обратил внимание на то, что если убрать параметр random_state, то accuracy & precision варьируются в диапазоне 0.65-0.85, а recall - в диапазоне 0.45-0.55. Это свидетельствует о значительном недообучении обоих моделей. \n",
    "\n",
    "Результаты весьма похожи, поскольку объектов в обучающей выборке всего около 600, а признаков всего 8 - разница между методом случайных подмножеств признаков для бутстрапированной выборки (forest) и регулярноым бустратоповым обновлением выборки со всеми признками (bag) может не стать слишком очевидной. "
   ]
  },
  {
   "cell_type": "code",
   "execution_count": 33,
   "metadata": {},
   "outputs": [
    {
     "data": {
      "text/html": [
       "<div>\n",
       "<style scoped>\n",
       "    .dataframe tbody tr th:only-of-type {\n",
       "        vertical-align: middle;\n",
       "    }\n",
       "\n",
       "    .dataframe tbody tr th {\n",
       "        vertical-align: top;\n",
       "    }\n",
       "\n",
       "    .dataframe thead th {\n",
       "        text-align: right;\n",
       "    }\n",
       "</style>\n",
       "<table border=\"1\" class=\"dataframe\">\n",
       "  <thead>\n",
       "    <tr style=\"text-align: right;\">\n",
       "      <th></th>\n",
       "      <th>Pregnancies</th>\n",
       "      <th>Glucose</th>\n",
       "      <th>BloodPressure</th>\n",
       "      <th>SkinThickness</th>\n",
       "      <th>Insulin</th>\n",
       "      <th>BMI</th>\n",
       "      <th>DiabetesPedigreeFunction</th>\n",
       "      <th>Age</th>\n",
       "      <th>Outcome</th>\n",
       "    </tr>\n",
       "  </thead>\n",
       "  <tbody>\n",
       "    <tr>\n",
       "      <th>0</th>\n",
       "      <td>6</td>\n",
       "      <td>148.0</td>\n",
       "      <td>72.0</td>\n",
       "      <td>35.0</td>\n",
       "      <td>NaN</td>\n",
       "      <td>33.6</td>\n",
       "      <td>0.627</td>\n",
       "      <td>50</td>\n",
       "      <td>1</td>\n",
       "    </tr>\n",
       "    <tr>\n",
       "      <th>1</th>\n",
       "      <td>1</td>\n",
       "      <td>85.0</td>\n",
       "      <td>66.0</td>\n",
       "      <td>29.0</td>\n",
       "      <td>NaN</td>\n",
       "      <td>26.6</td>\n",
       "      <td>0.351</td>\n",
       "      <td>31</td>\n",
       "      <td>0</td>\n",
       "    </tr>\n",
       "    <tr>\n",
       "      <th>2</th>\n",
       "      <td>8</td>\n",
       "      <td>183.0</td>\n",
       "      <td>64.0</td>\n",
       "      <td>NaN</td>\n",
       "      <td>NaN</td>\n",
       "      <td>23.3</td>\n",
       "      <td>0.672</td>\n",
       "      <td>32</td>\n",
       "      <td>1</td>\n",
       "    </tr>\n",
       "    <tr>\n",
       "      <th>3</th>\n",
       "      <td>1</td>\n",
       "      <td>89.0</td>\n",
       "      <td>66.0</td>\n",
       "      <td>23.0</td>\n",
       "      <td>94.0</td>\n",
       "      <td>28.1</td>\n",
       "      <td>0.167</td>\n",
       "      <td>21</td>\n",
       "      <td>0</td>\n",
       "    </tr>\n",
       "    <tr>\n",
       "      <th>4</th>\n",
       "      <td>0</td>\n",
       "      <td>137.0</td>\n",
       "      <td>40.0</td>\n",
       "      <td>35.0</td>\n",
       "      <td>168.0</td>\n",
       "      <td>43.1</td>\n",
       "      <td>2.288</td>\n",
       "      <td>33</td>\n",
       "      <td>1</td>\n",
       "    </tr>\n",
       "  </tbody>\n",
       "</table>\n",
       "</div>"
      ],
      "text/plain": [
       "   Pregnancies  Glucose  BloodPressure  SkinThickness  Insulin   BMI  \\\n",
       "0            6    148.0           72.0           35.0      NaN  33.6   \n",
       "1            1     85.0           66.0           29.0      NaN  26.6   \n",
       "2            8    183.0           64.0            NaN      NaN  23.3   \n",
       "3            1     89.0           66.0           23.0     94.0  28.1   \n",
       "4            0    137.0           40.0           35.0    168.0  43.1   \n",
       "\n",
       "   DiabetesPedigreeFunction  Age  Outcome  \n",
       "0                     0.627   50        1  \n",
       "1                     0.351   31        0  \n",
       "2                     0.672   32        1  \n",
       "3                     0.167   21        0  \n",
       "4                     2.288   33        1  "
      ]
     },
     "execution_count": 33,
     "metadata": {},
     "output_type": "execute_result"
    }
   ],
   "source": [
    "norm_data = data\n",
    "for i in col_names[1:6]:\n",
    "    norm_data[i]=norm_data.loc[norm_data[i]!=0, i]\n",
    "    norm_data[i] =  pd.to_numeric(norm_data[i], errors='coerce')\n",
    "norm_data.head()"
   ]
  },
  {
   "cell_type": "code",
   "execution_count": 34,
   "metadata": {},
   "outputs": [],
   "source": [
    "for i in col_names[1:6]:\n",
    "    norm_data[i] = norm_data[i].fillna(int(np.random.normal(loc=norm_data[i].mean(), scale=norm_data[i].std(), size=1)))"
   ]
  },
  {
   "cell_type": "code",
   "execution_count": 36,
   "metadata": {},
   "outputs": [],
   "source": [
    "X1 = norm_data.drop('Outcome', axis=1)\n",
    "y1 = norm_data['Outcome']\n",
    "X1_train, X1_test, y1_train, y1_test = train_test_split(X1, y1, random_state=10, train_size=0.7, test_size=0.3)"
   ]
  },
  {
   "cell_type": "code",
   "execution_count": 37,
   "metadata": {},
   "outputs": [
    {
     "data": {
      "text/plain": [
       "[0.7186147186147186, 0.6964285714285714, 0.4482758620689655]"
      ]
     },
     "execution_count": 37,
     "metadata": {},
     "output_type": "execute_result"
    }
   ],
   "source": [
    "bag1_clf = BaggingClassifier(base_estimator=DecisionTreeClassifier(), n_estimators=10, random_state=10)\n",
    "bag1_clf.fit(X1_train, y1_train)\n",
    "y1_pred_bag = bag1_clf.predict(X1_test)\n",
    "metrics(y1_test, y1_pred_bag)"
   ]
  },
  {
   "cell_type": "code",
   "execution_count": 38,
   "metadata": {},
   "outputs": [
    {
     "data": {
      "text/plain": [
       "[0.7316017316017316, 0.7049180327868853, 0.4942528735632184]"
      ]
     },
     "execution_count": 38,
     "metadata": {},
     "output_type": "execute_result"
    }
   ],
   "source": [
    "for1_clf = RandomForestClassifier(n_estimators=10, random_state=10)\n",
    "for1_clf.fit(X1_train, y1_train)\n",
    "y1_pred_for = for1_clf.predict(X1_test)\n",
    "metrics(y1_test, y1_pred_for)"
   ]
  },
  {
   "cell_type": "markdown",
   "metadata": {},
   "source": [
    "Возможно, куча потраченного на эффективное заполнение пропусков времени не было напрасным, поскольку каждая из метрик качества в случае обычного заполнения средними дала на 0.1 худшие результаты почти в каждом из случаев..."
   ]
  },
  {
   "cell_type": "markdown",
   "metadata": {},
   "source": [
    "**4. (2 балл)** Для случайного леса проанализируйте значение ROC-AUC на этих же данных в зависимости от изменения параметров:\n",
    "* *n_estimators* (можно перебрать около 10 значений из отрезка от 10 до 1500)\n",
    "* *min_samples_leaf* (сетку значений можете выбрать на ваше усмотрение)\n",
    "\n",
    "Постройте соответствующие графики зависимости ROC-AUC от этих параметров. Какие выводы можете сделать?"
   ]
  },
  {
   "cell_type": "code",
   "execution_count": 39,
   "metadata": {},
   "outputs": [],
   "source": [
    "from sklearn.metrics import roc_auc_score"
   ]
  },
  {
   "cell_type": "code",
   "execution_count": 41,
   "metadata": {},
   "outputs": [],
   "source": [
    "ii, jj = 0, 0\n",
    "estimators = [10, 15, 20, 30, 50, 100, 200, 500, 1000, 1500]\n",
    "leaves = [1, 3, 5, 7, 10, 12, 15, 18, 20, 30]\n",
    "roc_auc_case = np.zeros(shape=(len(leaves), len(estimators)))\n",
    "for i in leaves:\n",
    "    for j in estimators:\n",
    "        for_clf = RandomForestClassifier(n_estimators=j, random_state=10, min_samples_leaf=i)\n",
    "        for_clf.fit(X_train, y_train)\n",
    "        y_pred_for = for_clf.predict(X_test)\n",
    "        roc_auc_case[leaves.index(i)][estimators.index(j)] = roc_auc_score(y_test, y_pred_for)"
   ]
  },
  {
   "cell_type": "code",
   "execution_count": 42,
   "metadata": {},
   "outputs": [
    {
     "data": {
      "text/plain": [
       "array([[0.72925192, 0.74631691, 0.72466852, 0.75241447, 0.74234736,\n",
       "        0.74844492, 0.74508921, 0.74783107, 0.74508921, 0.74173351],\n",
       "       [0.73776395, 0.73228024, 0.74508921, 0.75789818, 0.75454248,\n",
       "        0.73350794, 0.74021935, 0.73076608, 0.73686364, 0.72741038],\n",
       "       [0.71611557, 0.71521526, 0.72405467, 0.73412179, 0.7429612 ,\n",
       "        0.73747749, 0.72741038, 0.71857096, 0.71857096, 0.7124734 ],\n",
       "       [0.71460141, 0.7158291 , 0.72528237, 0.7124734 , 0.71795711,\n",
       "        0.71857096, 0.71521526, 0.71857096, 0.71521526, 0.7091177 ],\n",
       "       [0.72282698, 0.70302013, 0.70576199, 0.70576199, 0.70789   ,\n",
       "        0.7158291 , 0.71308725, 0.70973154, 0.70637584, 0.70637584],\n",
       "       [0.71185955, 0.69356687, 0.7091177 , 0.7091177 , 0.70973154,\n",
       "        0.71644295, 0.70973154, 0.70973154, 0.70637584, 0.70637584],\n",
       "       [0.69966443, 0.7124734 , 0.70027828, 0.70363398, 0.70027828,\n",
       "        0.70363398, 0.70637584, 0.70637584, 0.70637584, 0.70637584],\n",
       "       [0.72405467, 0.71308725, 0.70363398, 0.70698969, 0.70973154,\n",
       "        0.70698969, 0.70637584, 0.70363398, 0.70363398, 0.70363398],\n",
       "       [0.7091177 , 0.70363398, 0.71034539, 0.70698969, 0.70973154,\n",
       "        0.70698969, 0.70363398, 0.70363398, 0.69143886, 0.70363398],\n",
       "       [0.68746931, 0.68808316, 0.69143886, 0.69143886, 0.69143886,\n",
       "        0.70089213, 0.69479457, 0.69815027, 0.69815027, 0.69815027]])"
      ]
     },
     "execution_count": 42,
     "metadata": {},
     "output_type": "execute_result"
    }
   ],
   "source": [
    "roc_auc_case"
   ]
  },
  {
   "cell_type": "code",
   "execution_count": 43,
   "metadata": {},
   "outputs": [
    {
     "data": {
      "text/plain": [
       "array([0.74173351, 0.72741038, 0.7124734 , 0.7091177 , 0.70637584,\n",
       "       0.70637584, 0.70637584, 0.70363398, 0.70363398, 0.69815027])"
      ]
     },
     "execution_count": 43,
     "metadata": {},
     "output_type": "execute_result"
    }
   ],
   "source": [
    "roc_auc_case[:, estimators.index(1500)]"
   ]
  },
  {
   "cell_type": "code",
   "execution_count": 44,
   "metadata": {},
   "outputs": [
    {
     "data": {
      "text/plain": [
       "<matplotlib.legend.Legend at 0x2d6acfadf60>"
      ]
     },
     "execution_count": 44,
     "metadata": {},
     "output_type": "execute_result"
    },
    {
     "data": {
      "image/png": "[encoded data removed]",
      "text/plain": [
       "<Figure size 1080x864 with 2 Axes>"
      ]
     },
     "metadata": {
      "needs_background": "light"
     },
     "output_type": "display_data"
    }
   ],
   "source": [
    "fig, ax = plt.subplots(nrows=2, ncols=1, figsize=(15, 12))\n",
    "\n",
    "for i in leaves:\n",
    "    ax[0].plot(estimators, roc_auc_case[leaves.index(i)], label=\"min_samples_leaf=%d\"%(i,))\n",
    "ax[0].legend(loc='upper right')\n",
    "\n",
    "for j in estimators:\n",
    "    ax[1].plot(leaves, roc_auc_case[:, estimators.index(j)], label=\"estimators=%d\"%(j,))\n",
    "ax[1].legend(loc='upper right')"
   ]
  },
  {
   "cell_type": "markdown",
   "metadata": {},
   "source": [
    "На первом графике отображается зависимость качества от количества оценивающих деревьев и видно, что на отрезке [10, 100] достгиаются наибольшие показатели качества вне зависимости от количества листьев.\n",
    "\n",
    "В свою очередь, на втором графике отображается зависимость качества классификатора от минимального количества значений в одном листе дерева, где прослеживается отрицательная корреляция между двумя этими показателями, поэтому можно сделать вывод, что следует брать 1, 3 или 10 листов для оптимальной работы классификатора."
   ]
  },
  {
   "cell_type": "code",
   "execution_count": 50,
   "metadata": {},
   "outputs": [
    {
     "data": {
      "text/plain": [
       "(array([0, 1, 1], dtype=int64), array([3, 3, 4], dtype=int64))"
      ]
     },
     "execution_count": 50,
     "metadata": {},
     "output_type": "execute_result"
    }
   ],
   "source": [
    "np.where(roc_auc_case > 0.75)"
   ]
  },
  {
   "cell_type": "markdown",
   "metadata": {},
   "source": [
    "Окидывая взглядом получившуюся матрицу, нам нужно 30 деревьев и как минимум 3 значения в одном листе для получения оптимального результата."
   ]
  },
  {
   "cell_type": "code",
   "execution_count": 52,
   "metadata": {},
   "outputs": [
    {
     "data": {
      "text/plain": [
       "0.7578981830086757"
      ]
     },
     "execution_count": 52,
     "metadata": {},
     "output_type": "execute_result"
    }
   ],
   "source": [
    "for_clf = RandomForestClassifier(n_estimators=30, random_state=10, min_samples_leaf=3)\n",
    "for_clf.fit(X_train, y_train)\n",
    "y_pred_for = for_clf.predict(X_test)\n",
    "roc_auc_score(y_test, y_pred_for)"
   ]
  },
  {
   "cell_type": "markdown",
   "metadata": {},
   "source": [
    "**5. (1 балл)**. Посмотрите, оказались ли какие-то признаки более важными, чем остальные? Воспользуйтесь соответствующим аттрибутом случайного леса в библиотеке sklearn, чтобы построить barplot."
   ]
  },
  {
   "cell_type": "code",
   "execution_count": 53,
   "metadata": {},
   "outputs": [
    {
     "data": {
      "text/plain": [
       "array([0.08054314, 0.26383046, 0.0582298 , 0.07919097, 0.14890705,\n",
       "       0.15237502, 0.09801533, 0.11890822])"
      ]
     },
     "execution_count": 53,
     "metadata": {},
     "output_type": "execute_result"
    }
   ],
   "source": [
    "weights = for_clf.feature_importances_\n",
    "weights"
   ]
  },
  {
   "cell_type": "code",
   "execution_count": 54,
   "metadata": {},
   "outputs": [
    {
     "data": {
      "text/plain": [
       "([<matplotlib.axis.XTick at 0x2d6aa74f940>,\n",
       "  <matplotlib.axis.XTick at 0x2d6acefd320>,\n",
       "  <matplotlib.axis.XTick at 0x2d6acefd9e8>,\n",
       "  <matplotlib.axis.XTick at 0x2d6acec3a90>,\n",
       "  <matplotlib.axis.XTick at 0x2d6acec3c88>,\n",
       "  <matplotlib.axis.XTick at 0x2d6aa822b70>,\n",
       "  <matplotlib.axis.XTick at 0x2d6aa8226a0>,\n",
       "  <matplotlib.axis.XTick at 0x2d6aa8221d0>],\n",
       " <a list of 8 Text xticklabel objects>)"
      ]
     },
     "execution_count": 54,
     "metadata": {},
     "output_type": "execute_result"
    },
    {
     "data": {
      "image/png": "[encoded data removed]",
      "text/plain": [
       "<Figure size 1080x432 with 1 Axes>"
      ]
     },
     "metadata": {
      "needs_background": "light"
     },
     "output_type": "display_data"
    }
   ],
   "source": [
    "fig, ax = plt.subplots(figsize=(15, 6))\n",
    "ax.bar(np.arange(8), weights)\n",
    "plt.xticks(np.arange(8), col_names[0:8])"
   ]
  },
  {
   "cell_type": "markdown",
   "metadata": {},
   "source": [
    "Наибольший вес в определении наличия у человека сахарного диабета имеет уровень глюкозы, инсулина в организме и его возраст, а также индекс массы тела."
   ]
  },
  {
   "cell_type": "markdown",
   "metadata": {
    "ExecuteTime": {
     "end_time": "2020-05-17T13:29:37.720316Z",
     "start_time": "2020-05-17T13:29:37.711698Z"
    }
   },
   "source": [
    "**6. (2 балла)** Обучите HistGradientBoostingClassifier и GradientBoostingClassifier из sklearn. Опишите подробно, в чем заключается разница этих моделей. Подберите подходящее количество деревьев и проанализируйте метрики, с которыми мы работали выше."
   ]
  },
  {
   "cell_type": "code",
   "execution_count": 55,
   "metadata": {},
   "outputs": [
    {
     "data": {
      "text/plain": [
       "[0.7532467532467533, 0.676056338028169, 0.5853658536585366]"
      ]
     },
     "execution_count": 55,
     "metadata": {},
     "output_type": "execute_result"
    }
   ],
   "source": [
    "from sklearn.experimental import enable_hist_gradient_boosting  #в sklearn сказали импортировать так\n",
    "from sklearn.ensemble import HistGradientBoostingClassifier\n",
    "\n",
    "HGB_clf = HistGradientBoostingClassifier()\n",
    "HGB_clf.fit(X_train, y_train)\n",
    "y_pred_for = HGB_clf.predict(X_test)\n",
    "metrics(y_test, y_pred_for)"
   ]
  },
  {
   "cell_type": "code",
   "execution_count": 56,
   "metadata": {},
   "outputs": [
    {
     "data": {
      "text/plain": [
       "[0.7575757575757576, 0.7241379310344828, 0.5121951219512195]"
      ]
     },
     "execution_count": 56,
     "metadata": {},
     "output_type": "execute_result"
    }
   ],
   "source": [
    "from sklearn.ensemble import GradientBoostingClassifier\n",
    "\n",
    "GB_clf = GradientBoostingClassifier()\n",
    "GB_clf.fit(X_train, y_train)\n",
    "y_pred_for = GB_clf.predict(X_test)\n",
    "metrics(y_test, y_pred_for)"
   ]
  },
  {
   "cell_type": "markdown",
   "metadata": {},
   "source": [
    "При базовых значениях параметров качество обоих моделей крайне похоже (accuracy и вовсе одинаковая). \n",
    "\n",
    "Градиентный бустинг - это последовательное обучение моделей, где каждая новая корректирует ошибки предыдущей. Вычисление градиента для каждой модели будет показывать направление, в сторону которого следует обучать новую.  \n",
    "\n",
    "HistGBClassifier отличается от обычного GBClassifier тем, что входные данные предварительно объединены в целочисленные ячейки, что значительно сокращает количество рассматриваемых точек разделения и позволяет алгоритму использовать структуры данных на основе целых чисел. Этот алгоритм более эффективен на огромных массивах данных, когда мы имеем дело с десятками тысяч наблюдений. В данной же задаче менее тысячи наблюдений, поэтому обычный градиентный бустинг должен стать более качественным в результате подбора оптимальных гиперпараметров для обеих моделей."
   ]
  },
  {
   "cell_type": "code",
   "execution_count": 113,
   "metadata": {},
   "outputs": [],
   "source": [
    "from sklearn.model_selection import GridSearchCV"
   ]
  },
  {
   "cell_type": "code",
   "execution_count": 123,
   "metadata": {},
   "outputs": [
    {
     "data": {
      "text/plain": [
       "GridSearchCV(cv=2, error_score='raise-deprecating',\n",
       "             estimator=HistGradientBoostingClassifier(l2_regularization=0.0,\n",
       "                                                      learning_rate=0.1,\n",
       "                                                      loss='auto', max_bins=256,\n",
       "                                                      max_depth=None,\n",
       "                                                      max_iter=100,\n",
       "                                                      max_leaf_nodes=31,\n",
       "                                                      min_samples_leaf=20,\n",
       "                                                      n_iter_no_change=None,\n",
       "                                                      random_state=None,\n",
       "                                                      scoring=None, tol=1e-07,\n",
       "                                                      validation_fraction=0.1,\n",
       "                                                      verbose=0),\n",
       "             iid='warn', n_jobs=-1,\n",
       "             param_grid={'max_depth': [3, 5, 8, 10, 30],\n",
       "                         'max_iter': [10, 20, 30, 50, 100],\n",
       "                         'max_leaf_nodes': [10, 30, 50, 100],\n",
       "                         'min_samples_leaf': [1, 2, 3, 5, 10]},\n",
       "             pre_dispatch='2*n_jobs', refit=True, return_train_score=False,\n",
       "             scoring=None, verbose=0)"
      ]
     },
     "execution_count": 123,
     "metadata": {},
     "output_type": "execute_result"
    }
   ],
   "source": [
    "grid_searcher_HGB = GridSearchCV(\n",
    "    HGB_clf,\n",
    "    param_grid={\n",
    "        'max_leaf_nodes': [10, 30, 50, 100],\n",
    "        'max_iter': [10, 20, 30, 50, 100], \n",
    "        'max_depth': [3, 5, 8, 10, 30],  \n",
    "        'min_samples_leaf': [1, 2, 3, 5, 10], \n",
    "    },\n",
    "    cv=2, n_jobs=-1\n",
    ")\n",
    "grid_searcher_HGB.fit(X_train, y_train)"
   ]
  },
  {
   "cell_type": "code",
   "execution_count": 124,
   "metadata": {},
   "outputs": [
    {
     "data": {
      "text/plain": [
       "{'max_depth': 3, 'max_iter': 20, 'max_leaf_nodes': 10, 'min_samples_leaf': 10}"
      ]
     },
     "execution_count": 124,
     "metadata": {},
     "output_type": "execute_result"
    }
   ],
   "source": [
    "grid_searcher_HGB.best_params_"
   ]
  },
  {
   "cell_type": "code",
   "execution_count": 125,
   "metadata": {},
   "outputs": [
    {
     "data": {
      "text/plain": [
       "[0.7792207792207793, 0.5365853658536586, 0.7719298245614035]"
      ]
     },
     "execution_count": 125,
     "metadata": {},
     "output_type": "execute_result"
    }
   ],
   "source": [
    "metrics(grid_searcher_HGB.predict(X_test), y_test)"
   ]
  },
  {
   "cell_type": "markdown",
   "metadata": {},
   "source": [
    "Вспомнив про то, как долг происходила валидация в ДЗ2, я решил больше не ждать десятки часов и взял перебираемые параметры модели градиентного бустинга вот отсюда: https://stackoverflow.com/questions/58781601/parameter-tuning-using-gridsearchcv-for-gradientboosting-classifier-in-python"
   ]
  },
  {
   "cell_type": "code",
   "execution_count": 126,
   "metadata": {},
   "outputs": [
    {
     "data": {
      "text/plain": [
       "GridSearchCV(cv=2, error_score='raise-deprecating',\n",
       "             estimator=GradientBoostingClassifier(criterion='friedman_mse',\n",
       "                                                  init=None, learning_rate=0.1,\n",
       "                                                  loss='deviance', max_depth=3,\n",
       "                                                  max_features=None,\n",
       "                                                  max_leaf_nodes=None,\n",
       "                                                  min_impurity_decrease=0.0,\n",
       "                                                  min_impurity_split=None,\n",
       "                                                  min_samples_leaf=1,\n",
       "                                                  min_samples_split=2,\n",
       "                                                  min_weight_fraction_leaf=0.0,\n",
       "                                                  n_estimators=100,\n",
       "                                                  n_iter_no...\n",
       "       0.28181818, 0.31818182, 0.35454545, 0.39090909, 0.42727273,\n",
       "       0.46363636, 0.5       ]),\n",
       "                         'min_samples_split': array([0.1       , 0.13636364, 0.17272727, 0.20909091, 0.24545455,\n",
       "       0.28181818, 0.31818182, 0.35454545, 0.39090909, 0.42727273,\n",
       "       0.46363636, 0.5       ]),\n",
       "                         'n_estimators': [10],\n",
       "                         'subsample': [0.5, 0.618, 0.8, 0.85, 0.9, 0.95, 1.0]},\n",
       "             pre_dispatch='2*n_jobs', refit=True, return_train_score=False,\n",
       "             scoring=None, verbose=0)"
      ]
     },
     "execution_count": 126,
     "metadata": {},
     "output_type": "execute_result"
    }
   ],
   "source": [
    "grid_searcher_GB = GridSearchCV(\n",
    "    GB_clf,\n",
    "    param_grid={\n",
    "        \"loss\":[\"deviance\"],\n",
    "    \"learning_rate\": [0.01, 0.025, 0.05, 0.075, 0.1, 0.15, 0.2],\n",
    "    \"min_samples_split\": np.linspace(0.1, 0.5, 12),\n",
    "    \"min_samples_leaf\": np.linspace(0.1, 0.5, 12),\n",
    "    \"max_depth\":[3,5,8],\n",
    "    \"max_features\":[\"log2\",\"sqrt\"],\n",
    "    \"criterion\": [\"friedman_mse\",  \"mae\"],\n",
    "    \"subsample\":[0.5, 0.618, 0.8, 0.85, 0.9, 0.95, 1.0],\n",
    "    \"n_estimators\":[10] \n",
    "    },\n",
    "    cv=2, n_jobs=-1\n",
    ")\n",
    "grid_searcher_GB.fit(X_train, y_train)"
   ]
  },
  {
   "cell_type": "code",
   "execution_count": 127,
   "metadata": {},
   "outputs": [
    {
     "data": {
      "text/plain": [
       "{'criterion': 'friedman_mse',\n",
       " 'learning_rate': 0.2,\n",
       " 'loss': 'deviance',\n",
       " 'max_depth': 3,\n",
       " 'max_features': 'log2',\n",
       " 'min_samples_leaf': 0.13636363636363638,\n",
       " 'min_samples_split': 0.17272727272727273,\n",
       " 'n_estimators': 10,\n",
       " 'subsample': 0.9}"
      ]
     },
     "execution_count": 127,
     "metadata": {},
     "output_type": "execute_result"
    }
   ],
   "source": [
    "grid_searcher_GB.best_params_"
   ]
  },
  {
   "cell_type": "code",
   "execution_count": 128,
   "metadata": {},
   "outputs": [
    {
     "data": {
      "text/plain": [
       "[0.7575757575757576, 0.4878048780487805, 0.7407407407407407]"
      ]
     },
     "execution_count": 128,
     "metadata": {},
     "output_type": "execute_result"
    }
   ],
   "source": [
    "metrics(grid_searcher_GB.predict(X_test), y_test)"
   ]
  },
  {
   "cell_type": "code",
   "execution_count": 136,
   "metadata": {},
   "outputs": [
    {
     "data": {
      "text/plain": [
       "GridSearchCV(cv=2, error_score='raise-deprecating',\n",
       "             estimator=GradientBoostingClassifier(criterion='friedman_mse',\n",
       "                                                  init=None, learning_rate=0.1,\n",
       "                                                  loss='deviance', max_depth=3,\n",
       "                                                  max_features=None,\n",
       "                                                  max_leaf_nodes=None,\n",
       "                                                  min_impurity_decrease=0.0,\n",
       "                                                  min_impurity_split=None,\n",
       "                                                  min_samples_leaf=1,\n",
       "                                                  min_samples_split=2,\n",
       "                                                  min_weight_fraction_leaf=0.0,\n",
       "                                                  n_estimators=100,\n",
       "                                                  n_iter_no...\n",
       "             iid='warn', n_jobs=-1,\n",
       "             param_grid={'criterion': ['friedman_mse'], 'learning_rate': [0.2],\n",
       "                         'loss': ['deviance'], 'max_depth': [3],\n",
       "                         'max_features': ['log2'],\n",
       "                         'min_samples_leaf': [0.1363636],\n",
       "                         'min_samples_split': [0.1727272],\n",
       "                         'n_estimators': [5, 7, 10, 12, 15, 20, 30, 50, 100,\n",
       "                                          500, 1000],\n",
       "                         'subsample': [0.9]},\n",
       "             pre_dispatch='2*n_jobs', refit=True, return_train_score=False,\n",
       "             scoring=None, verbose=0)"
      ]
     },
     "execution_count": 136,
     "metadata": {},
     "output_type": "execute_result"
    }
   ],
   "source": [
    "grid_searcher_GB = GridSearchCV(\n",
    "    GB_clf,\n",
    "    param_grid={\n",
    "        \"loss\":[\"deviance\"],\n",
    "    \"learning_rate\": [0.2],\n",
    "    \"min_samples_split\": [0.1727272],\n",
    "    \"min_samples_leaf\": [0.1363636],\n",
    "    \"max_depth\":[3],\n",
    "    \"max_features\":[\"log2\"],\n",
    "    \"criterion\": [\"friedman_mse\"],\n",
    "    \"subsample\":[0.9],\n",
    "    \"n_estimators\":[5, 7, 10, 12, 15, 20, 30, 50, 100, 500, 1000] \n",
    "    },\n",
    "    cv=2, n_jobs=-1\n",
    ")\n",
    "grid_searcher_GB.fit(X_train, y_train)"
   ]
  },
  {
   "cell_type": "code",
   "execution_count": 137,
   "metadata": {},
   "outputs": [
    {
     "data": {
      "text/plain": [
       "{'criterion': 'friedman_mse',\n",
       " 'learning_rate': 0.2,\n",
       " 'loss': 'deviance',\n",
       " 'max_depth': 3,\n",
       " 'max_features': 'log2',\n",
       " 'min_samples_leaf': 0.1363636,\n",
       " 'min_samples_split': 0.1727272,\n",
       " 'n_estimators': 10,\n",
       " 'subsample': 0.9}"
      ]
     },
     "execution_count": 137,
     "metadata": {},
     "output_type": "execute_result"
    }
   ],
   "source": [
    "grid_searcher_GB.best_params_"
   ]
  },
  {
   "cell_type": "code",
   "execution_count": 138,
   "metadata": {},
   "outputs": [
    {
     "data": {
      "text/plain": [
       "[0.7532467532467533, 0.4634146341463415, 0.7450980392156863]"
      ]
     },
     "execution_count": 138,
     "metadata": {},
     "output_type": "execute_result"
    }
   ],
   "source": [
    "metrics(grid_searcher_GB.predict(X_test), y_test)"
   ]
  },
  {
   "cell_type": "markdown",
   "metadata": {},
   "source": [
    "Таким образом, как ни странно, HGBClassifier оказался более эффективным в данном случае, выдав более качественные результаты по всем трём метрикам (accuracy, precision, recall)."
   ]
  },
  {
   "cell_type": "markdown",
   "metadata": {},
   "source": [
    "**7. (1.5 балла)** Вспомните, что представляет собой [стэкинг моделей](https://scikit-learn.org/stable/modules/generated/sklearn.ensemble.StackingClassifier.html#sklearn.ensemble.StackingClassifier). Возьмите в качестве базовых моделей любой ансамблевый метод из тех, которые были использованы выше, и простой классфикатор из уже вами изученных на курсе. Как final_estimator используйте лог-регресссию. Посчитайте метрики для мета-классификатора. Улучшилось ли качество?"
   ]
  },
  {
   "cell_type": "code",
   "execution_count": 141,
   "metadata": {},
   "outputs": [
    {
     "name": "stdout",
     "output_type": "stream",
     "text": [
      "Collecting scikit-learn\n",
      "  Downloading https://files.pythonhosted.org/packages/70/8e/682770fc1da047bb56443150bfd8d87d850459cd7cc412a5311de3abaa4a/scikit_learn-0.23.1-cp37-cp37m-win_amd64.whl (6.8MB)\n",
      "Collecting threadpoolctl>=2.0.0 (from scikit-learn)\n",
      "  Downloading https://files.pythonhosted.org/packages/f7/12/ec3f2e203afa394a149911729357aa48affc59c20e2c1c8297a60f33f133/threadpoolctl-2.1.0-py3-none-any.whl\n",
      "Requirement already satisfied, skipping upgrade: numpy>=1.13.3 in c:\\users\\481\\anaconda3\\lib\\site-packages (from scikit-learn) (1.16.4)\n",
      "Requirement already satisfied, skipping upgrade: joblib>=0.11 in c:\\users\\481\\anaconda3\\lib\\site-packages (from scikit-learn) (0.13.2)\n",
      "Requirement already satisfied, skipping upgrade: scipy>=0.19.1 in c:\\users\\481\\anaconda3\\lib\\site-packages (from scikit-learn) (1.2.1)\n",
      "Installing collected packages: threadpoolctl, scikit-learn\n",
      "  Found existing installation: scikit-learn 0.21.2\n",
      "    Uninstalling scikit-learn-0.21.2:\n",
      "      Successfully uninstalled scikit-learn-0.21.2\n"
     ]
    },
    {
     "name": "stderr",
     "output_type": "stream",
     "text": [
      "ERROR: Could not install packages due to an EnvironmentError: [WinError 5] Отказано в доступе: 'c:\\\\users\\\\481\\\\anaconda3\\\\lib\\\\site-packages\\\\~klearn\\\\decomposition\\\\cdnmf_fast.cp37-win_amd64.pyd'\n",
      "Consider using the `--user` option or check the permissions.\n",
      "\n"
     ]
    },
    {
     "name": "stdout",
     "output_type": "stream",
     "text": [
      "Note: you may need to restart the kernel to use updated packages.\n"
     ]
    }
   ],
   "source": [
    "#cannot import name 'StackingClassifier' from 'sklearn.ensemble'\n",
    "pip install --upgrade scikit-learn\n",
    "#Такой ошибки больше нет"
   ]
  },
  {
   "cell_type": "code",
   "execution_count": 57,
   "metadata": {
    "ExecuteTime": {
     "end_time": "2020-05-17T13:53:07.245421Z",
     "start_time": "2020-05-17T13:53:07.238527Z"
    }
   },
   "outputs": [],
   "source": [
    "from sklearn.ensemble import StackingClassifier\n",
    "from sklearn.linear_model import LogisticRegression\n",
    "from sklearn.svm import LinearSVC\n",
    "from sklearn.preprocessing import StandardScaler\n",
    "from sklearn.pipeline import make_pipeline"
   ]
  },
  {
   "cell_type": "code",
   "execution_count": 58,
   "metadata": {},
   "outputs": [
    {
     "name": "stderr",
     "output_type": "stream",
     "text": [
      "C:\\Users\\481\\Anaconda3\\lib\\site-packages\\sklearn\\svm\\_base.py:977: ConvergenceWarning: Liblinear failed to converge, increase the number of iterations.\n",
      "  \"the number of iterations.\", ConvergenceWarning)\n",
      "C:\\Users\\481\\Anaconda3\\lib\\site-packages\\sklearn\\svm\\_base.py:977: ConvergenceWarning: Liblinear failed to converge, increase the number of iterations.\n",
      "  \"the number of iterations.\", ConvergenceWarning)\n",
      "C:\\Users\\481\\Anaconda3\\lib\\site-packages\\sklearn\\svm\\_base.py:977: ConvergenceWarning: Liblinear failed to converge, increase the number of iterations.\n",
      "  \"the number of iterations.\", ConvergenceWarning)\n",
      "C:\\Users\\481\\Anaconda3\\lib\\site-packages\\sklearn\\svm\\_base.py:977: ConvergenceWarning: Liblinear failed to converge, increase the number of iterations.\n",
      "  \"the number of iterations.\", ConvergenceWarning)\n",
      "C:\\Users\\481\\Anaconda3\\lib\\site-packages\\sklearn\\svm\\_base.py:977: ConvergenceWarning: Liblinear failed to converge, increase the number of iterations.\n",
      "  \"the number of iterations.\", ConvergenceWarning)\n"
     ]
    },
    {
     "data": {
      "text/plain": [
       "[0.7792207792207793, 0.7818181818181819, 0.524390243902439]"
      ]
     },
     "execution_count": 58,
     "metadata": {},
     "output_type": "execute_result"
    }
   ],
   "source": [
    "estimators = [('rf', for_clf), \n",
    "    ('svr', make_pipeline(StandardScaler(), LinearSVC(random_state=10)))]\n",
    "stack_clf = StackingClassifier(estimators=estimators, final_estimator=LogisticRegression())\n",
    "stack_clf.fit(X_train, y_train)\n",
    "y_pred_stack = stack_clf.predict(X_test)\n",
    "metrics(y_test, y_pred_stack)"
   ]
  },
  {
   "cell_type": "code",
   "execution_count": 61,
   "metadata": {},
   "outputs": [
    {
     "name": "stderr",
     "output_type": "stream",
     "text": [
      "C:\\Users\\481\\Anaconda3\\lib\\site-packages\\sklearn\\svm\\_base.py:977: ConvergenceWarning: Liblinear failed to converge, increase the number of iterations.\n",
      "  \"the number of iterations.\", ConvergenceWarning)\n",
      "C:\\Users\\481\\Anaconda3\\lib\\site-packages\\sklearn\\svm\\_base.py:977: ConvergenceWarning: Liblinear failed to converge, increase the number of iterations.\n",
      "  \"the number of iterations.\", ConvergenceWarning)\n",
      "C:\\Users\\481\\Anaconda3\\lib\\site-packages\\sklearn\\svm\\_base.py:977: ConvergenceWarning: Liblinear failed to converge, increase the number of iterations.\n",
      "  \"the number of iterations.\", ConvergenceWarning)\n",
      "C:\\Users\\481\\Anaconda3\\lib\\site-packages\\sklearn\\svm\\_base.py:977: ConvergenceWarning: Liblinear failed to converge, increase the number of iterations.\n",
      "  \"the number of iterations.\", ConvergenceWarning)\n",
      "C:\\Users\\481\\Anaconda3\\lib\\site-packages\\sklearn\\svm\\_base.py:977: ConvergenceWarning: Liblinear failed to converge, increase the number of iterations.\n",
      "  \"the number of iterations.\", ConvergenceWarning)\n",
      "C:\\Users\\481\\Anaconda3\\lib\\site-packages\\sklearn\\svm\\_base.py:977: ConvergenceWarning: Liblinear failed to converge, increase the number of iterations.\n",
      "  \"the number of iterations.\", ConvergenceWarning)\n"
     ]
    },
    {
     "data": {
      "text/plain": [
       "[0.7662337662337663, 0.7916666666666666, 0.4634146341463415]"
      ]
     },
     "execution_count": 61,
     "metadata": {},
     "output_type": "execute_result"
    }
   ],
   "source": [
    "estimators = [('rf', for_clf), \n",
    "    ('svr', LinearSVC(random_state=10))]\n",
    "stack_clf = StackingClassifier(estimators=estimators, final_estimator=LogisticRegression())\n",
    "stack_clf.fit(X_train, y_train)\n",
    "y_pred_stack = stack_clf.predict(X_test)\n",
    "metrics(y_test, y_pred_stack)"
   ]
  },
  {
   "cell_type": "code",
   "execution_count": 64,
   "metadata": {},
   "outputs": [
    {
     "data": {
      "text/plain": [
       "[0.7965367965367965, 0.7777777777777778, 0.5975609756097561]"
      ]
     },
     "execution_count": 64,
     "metadata": {},
     "output_type": "execute_result"
    }
   ],
   "source": [
    "estimators = [('rf', for_clf), \n",
    "    ('HGB', HGB_clf), ('GB', GB_clf)]\n",
    "stack_clf = StackingClassifier(estimators=estimators, final_estimator=LogisticRegression())\n",
    "stack_clf.fit(X_train, y_train)\n",
    "y_pred_stack = stack_clf.predict(X_test)\n",
    "metrics(y_test, y_pred_stack)"
   ]
  },
  {
   "cell_type": "markdown",
   "metadata": {},
   "source": [
    "Лучшая из моделей стекинга - последняя, обобщающая RandomForest, HistGradientBoosting и GradientBoosting [0.80, 0.78, 0.60], однако по показателю precision обыный RandomForest без стекинга даёт лучшие результаты [0.79, 0.84, ,0.51], что говорит о необходимости более тщательно и аккуратно подбирать ансамбли и модели для стекинга."
   ]
  },
  {
   "cell_type": "markdown",
   "metadata": {
    "ExecuteTime": {
     "end_time": "2020-05-17T14:00:45.438403Z",
     "start_time": "2020-05-17T14:00:45.426725Z"
    }
   },
   "source": [
    "*tip: не забудьте завести список базовых алгоритмов*\n",
    "<code>\n",
    "base_learners = [\n",
    "                 ('name1', model1(),\n",
    "                 ('name2', model2())             \n",
    "                ]\n",
    "\n",
    "</code>"
   ]
  }
 ],
 "metadata": {
  "kernelspec": {
   "display_name": "Python 3",
   "language": "python",
   "name": "python3"
  },
  "language_info": {
   "codemirror_mode": {
    "name": "ipython",
    "version": 3
   },
   "file_extension": ".py",
   "mimetype": "text/x-python",
   "name": "python",
   "nbconvert_exporter": "python",
   "pygments_lexer": "ipython3",
   "version": "3.7.3"
  }
 },
 "nbformat": 4,
 "nbformat_minor": 2
}
