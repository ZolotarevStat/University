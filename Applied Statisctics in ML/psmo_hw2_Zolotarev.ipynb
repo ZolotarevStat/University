{
 "cells": [
  {
   "cell_type": "markdown",
   "metadata": {
    "id": "aT2_Mtk78ZLy"
   },
   "source": [
    "# Прикладная статистика в машинном обучении 2021-2022"
   ]
  },
  {
   "cell_type": "markdown",
   "metadata": {
    "id": "e5lBYp9X8ZLz"
   },
   "source": [
    "## Домашнее задание #2"
   ]
  },
  {
   "cell_type": "markdown",
   "metadata": {
    "id": "JBCNeqT68ZL0"
   },
   "source": [
    "### Дедлайн: 14 декабря 2021 года, 23:59"
   ]
  },
  {
   "cell_type": "markdown",
   "metadata": {
    "id": "xIZG6fXf8ZL0"
   },
   "source": [
    "**Правила игры**\n",
    "\n",
    "1. Домашнее задание состоит из двух задач, каждая из которых оценивается в 5 баллов. Все пункты в пределах одной задачи имеют одинаковый вес.\n",
    "\n",
    "2. Каждый пункт оценивается с промежутком $0.5$. Например, если за пункт можно получить максимум $1$ балл, то за полностью корректное решение ставится $1$ балл, за решение с небольшими ошибками ставится $0.5$ балла, за решение с серьёзными ошибками или неправильное решение ставится $0$ баллов. Для пунктов, за которые можно получить максимум $2$ балла, в зависимости от решения можно получить $2$, $1.5$, $1$ и т.д. баллов. При этом пункты проверяются независимо друг от друга: если пункт $t+1$ зависит от численных результатов пункта $t$, и в пункте $t$ допускается ошибка, из-за которой в пункт $t+1$ приходят неверные входные данные, то при корректном решении пункт $t+1$ оценивается в максимальное количество баллов, которое можно за него получить.\n",
    "\n",
    "3. Весь код должен быть написан на Python, R, C или C++.\n",
    "\n",
    "4. Решения принимаются до **14 декабря 2021 года, 23:59 МСК** включительно. Работы, отправленные после дедлайна, **не проверяются**. Дата и время сдачи определяются по последнему запушенному в репозиторий коммиту (можно увидеть на GitHub, наведя мышкой на указатель срока (например, 3 days ago) справа от файлов).\n",
    "\n",
    "5. Все решения нужно загрузить в личный репозиторий на [GitHub Classroom](https://classroom.github.com/a/HTd0GCXS).\n",
    "\n",
    "6. Репозиторий должен содержать файл(ы) с кодом и текстовыми пояснениями к решению задач. При этом:\n",
    "\n",
    "* Если вы пишете код в тетрадке .ipynb, то пояснения и выводы можно указывать в ячейках Markdown, и в репозиторий достаточно загрузить один файл, названный по типу «name\\_surname\\_group\\_hw2.ipynb».\n",
    "\n",
    "* Если вы пишете код в отдельных текстовых файлах, то пояснения и выводы нужно вынести в отчёт, который можно написать в любимом текстовом редакторе и экспортировать в pdf. В репозиторий нужно загрузить все файлы с кодом (если их несколько, то в README.md требуется подробно указать, что содержит каждый файл), названные по типу «name\\_surname\\_group\\_hw2\\_filename.ext», где вместо ext может быть .py, .R, .c, .cpp, а также отчёт, названный по типу «name\\_surname\\_group\\_hw2\\_report.pdf». \n",
    "\n",
    "7. Разрешается использовать без доказательства любые результаты, встречавшиеся на лекциях или семинарах по курсу, если получение этих результатов не является вопросом задания. Разрешается использовать любые свободные источники с указанием ссылки на них.\n",
    "\n",
    "8. Плагиат не допускается. При обнаружении случаев списывания, $0$ за работу выставляется всем участникам нарушения, даже если можно установить, кто у кого списал. "
   ]
  },
  {
   "cell_type": "markdown",
   "metadata": {
    "id": "yZ8KDL478ZL1"
   },
   "source": [
    "---"
   ]
  },
  {
   "cell_type": "markdown",
   "metadata": {
    "id": "s1akb3-L8ZL2"
   },
   "source": [
    "**Disclaimer:** для проверки гипотез используйте ваш любимый уровень значимости!\n",
    "\n",
    "**Hint:** в statsmodels есть всё-всё-всё! "
   ]
  },
  {
   "cell_type": "markdown",
   "metadata": {
    "id": "UNwLMFlt8ZL2"
   },
   "source": [
    "---"
   ]
  },
  {
   "cell_type": "markdown",
   "metadata": {
    "id": "3RppJ-4V8ZL3"
   },
   "source": [
    "## Задача 1: \"Cloudy, with a chance of...\" (5 баллов)."
   ]
  },
  {
   "cell_type": "markdown",
   "metadata": {
    "id": "5KDINpTP8ZL3"
   },
   "source": [
    "В этой задаче нам предстоит проанализировать набор данных [Weather in Szeged 2006-2016](https://www.kaggle.com/budincsevity/szeged-weather), содержащий информацию о погоде. Формат задачи свободный: оцениваются любые разумные действия. В качестве зависимой переменной возьмём температуру воздуха (`temperature`).\n",
    "\n",
    "Наша цель состоит в том, чтобы построить две линейные регрессионные модели: объясняющую и предиктивную. Объясняющая модель должна быть пригодна для статистической интерпретации зависимостей, то есть показывать, какие факторы влияют на температуру воздуха, каким образом и какое возможное объяснение этого влияния можно привести. Предиктивная модель может быть совершенно ужасной с точки зрения статистики (например, регрессия может быть не значимой в целом), но она должна давать хорошие прогнозы в соответствии с некоторой метрикой.\n",
    "\n",
    "Хотя приведённые данные имеют формат временных рядов, мы будем игнорировать это и рассматривать их как обычные кросс-секционные данные."
   ]
  },
  {
   "cell_type": "markdown",
   "metadata": {
    "id": "M3gacCYS8ZL4"
   },
   "source": [
    "**Предобработка данных**. Загрузите данные и проведите любую предобработку, которую считаете нужной. Поясните свои действия."
   ]
  },
  {
   "cell_type": "code",
   "execution_count": 27,
   "metadata": {
    "ExecuteTime": {
     "end_time": "2021-12-14T11:54:41.751377Z",
     "start_time": "2021-12-14T11:54:41.745364Z"
    }
   },
   "outputs": [],
   "source": [
    "import pandas as pd\n",
    "import numpy as np\n",
    "import statsmodels.formula.api as smf # Модели\n",
    "import statsmodels.stats.api as sms # Тесты\n",
    "\n",
    "import matplotlib.pyplot as plt"
   ]
  },
  {
   "cell_type": "code",
   "execution_count": 140,
   "metadata": {
    "ExecuteTime": {
     "end_time": "2021-12-15T13:59:11.077620Z",
     "start_time": "2021-12-15T13:59:10.804852Z"
    },
    "id": "Tvbz_TRM8ZL4"
   },
   "outputs": [
    {
     "data": {
      "text/html": [
       "<div>\n",
       "<style scoped>\n",
       "    .dataframe tbody tr th:only-of-type {\n",
       "        vertical-align: middle;\n",
       "    }\n",
       "\n",
       "    .dataframe tbody tr th {\n",
       "        vertical-align: top;\n",
       "    }\n",
       "\n",
       "    .dataframe thead th {\n",
       "        text-align: right;\n",
       "    }\n",
       "</style>\n",
       "<table border=\"1\" class=\"dataframe\">\n",
       "  <thead>\n",
       "    <tr style=\"text-align: right;\">\n",
       "      <th></th>\n",
       "      <th>Formatted Date</th>\n",
       "      <th>Summary</th>\n",
       "      <th>Precip Type</th>\n",
       "      <th>Temperature (C)</th>\n",
       "      <th>Apparent Temperature (C)</th>\n",
       "      <th>Humidity</th>\n",
       "      <th>Wind Speed (km/h)</th>\n",
       "      <th>Wind Bearing (degrees)</th>\n",
       "      <th>Visibility (km)</th>\n",
       "      <th>Loud Cover</th>\n",
       "      <th>Pressure (millibars)</th>\n",
       "      <th>Daily Summary</th>\n",
       "    </tr>\n",
       "  </thead>\n",
       "  <tbody>\n",
       "    <tr>\n",
       "      <th>0</th>\n",
       "      <td>2006-04-01 00:00:00.000 +0200</td>\n",
       "      <td>Partly Cloudy</td>\n",
       "      <td>rain</td>\n",
       "      <td>9.472222</td>\n",
       "      <td>7.388889</td>\n",
       "      <td>0.89</td>\n",
       "      <td>14.1197</td>\n",
       "      <td>251.0</td>\n",
       "      <td>15.8263</td>\n",
       "      <td>0.0</td>\n",
       "      <td>1015.13</td>\n",
       "      <td>Partly cloudy throughout the day.</td>\n",
       "    </tr>\n",
       "    <tr>\n",
       "      <th>1</th>\n",
       "      <td>2006-04-01 01:00:00.000 +0200</td>\n",
       "      <td>Partly Cloudy</td>\n",
       "      <td>rain</td>\n",
       "      <td>9.355556</td>\n",
       "      <td>7.227778</td>\n",
       "      <td>0.86</td>\n",
       "      <td>14.2646</td>\n",
       "      <td>259.0</td>\n",
       "      <td>15.8263</td>\n",
       "      <td>0.0</td>\n",
       "      <td>1015.63</td>\n",
       "      <td>Partly cloudy throughout the day.</td>\n",
       "    </tr>\n",
       "    <tr>\n",
       "      <th>2</th>\n",
       "      <td>2006-04-01 02:00:00.000 +0200</td>\n",
       "      <td>Mostly Cloudy</td>\n",
       "      <td>rain</td>\n",
       "      <td>9.377778</td>\n",
       "      <td>9.377778</td>\n",
       "      <td>0.89</td>\n",
       "      <td>3.9284</td>\n",
       "      <td>204.0</td>\n",
       "      <td>14.9569</td>\n",
       "      <td>0.0</td>\n",
       "      <td>1015.94</td>\n",
       "      <td>Partly cloudy throughout the day.</td>\n",
       "    </tr>\n",
       "    <tr>\n",
       "      <th>3</th>\n",
       "      <td>2006-04-01 03:00:00.000 +0200</td>\n",
       "      <td>Partly Cloudy</td>\n",
       "      <td>rain</td>\n",
       "      <td>8.288889</td>\n",
       "      <td>5.944444</td>\n",
       "      <td>0.83</td>\n",
       "      <td>14.1036</td>\n",
       "      <td>269.0</td>\n",
       "      <td>15.8263</td>\n",
       "      <td>0.0</td>\n",
       "      <td>1016.41</td>\n",
       "      <td>Partly cloudy throughout the day.</td>\n",
       "    </tr>\n",
       "    <tr>\n",
       "      <th>4</th>\n",
       "      <td>2006-04-01 04:00:00.000 +0200</td>\n",
       "      <td>Mostly Cloudy</td>\n",
       "      <td>rain</td>\n",
       "      <td>8.755556</td>\n",
       "      <td>6.977778</td>\n",
       "      <td>0.83</td>\n",
       "      <td>11.0446</td>\n",
       "      <td>259.0</td>\n",
       "      <td>15.8263</td>\n",
       "      <td>0.0</td>\n",
       "      <td>1016.51</td>\n",
       "      <td>Partly cloudy throughout the day.</td>\n",
       "    </tr>\n",
       "    <tr>\n",
       "      <th>...</th>\n",
       "      <td>...</td>\n",
       "      <td>...</td>\n",
       "      <td>...</td>\n",
       "      <td>...</td>\n",
       "      <td>...</td>\n",
       "      <td>...</td>\n",
       "      <td>...</td>\n",
       "      <td>...</td>\n",
       "      <td>...</td>\n",
       "      <td>...</td>\n",
       "      <td>...</td>\n",
       "      <td>...</td>\n",
       "    </tr>\n",
       "    <tr>\n",
       "      <th>96448</th>\n",
       "      <td>2016-09-09 19:00:00.000 +0200</td>\n",
       "      <td>Partly Cloudy</td>\n",
       "      <td>rain</td>\n",
       "      <td>26.016667</td>\n",
       "      <td>26.016667</td>\n",
       "      <td>0.43</td>\n",
       "      <td>10.9963</td>\n",
       "      <td>31.0</td>\n",
       "      <td>16.1000</td>\n",
       "      <td>0.0</td>\n",
       "      <td>1014.36</td>\n",
       "      <td>Partly cloudy starting in the morning.</td>\n",
       "    </tr>\n",
       "    <tr>\n",
       "      <th>96449</th>\n",
       "      <td>2016-09-09 20:00:00.000 +0200</td>\n",
       "      <td>Partly Cloudy</td>\n",
       "      <td>rain</td>\n",
       "      <td>24.583333</td>\n",
       "      <td>24.583333</td>\n",
       "      <td>0.48</td>\n",
       "      <td>10.0947</td>\n",
       "      <td>20.0</td>\n",
       "      <td>15.5526</td>\n",
       "      <td>0.0</td>\n",
       "      <td>1015.16</td>\n",
       "      <td>Partly cloudy starting in the morning.</td>\n",
       "    </tr>\n",
       "    <tr>\n",
       "      <th>96450</th>\n",
       "      <td>2016-09-09 21:00:00.000 +0200</td>\n",
       "      <td>Partly Cloudy</td>\n",
       "      <td>rain</td>\n",
       "      <td>22.038889</td>\n",
       "      <td>22.038889</td>\n",
       "      <td>0.56</td>\n",
       "      <td>8.9838</td>\n",
       "      <td>30.0</td>\n",
       "      <td>16.1000</td>\n",
       "      <td>0.0</td>\n",
       "      <td>1015.66</td>\n",
       "      <td>Partly cloudy starting in the morning.</td>\n",
       "    </tr>\n",
       "    <tr>\n",
       "      <th>96451</th>\n",
       "      <td>2016-09-09 22:00:00.000 +0200</td>\n",
       "      <td>Partly Cloudy</td>\n",
       "      <td>rain</td>\n",
       "      <td>21.522222</td>\n",
       "      <td>21.522222</td>\n",
       "      <td>0.60</td>\n",
       "      <td>10.5294</td>\n",
       "      <td>20.0</td>\n",
       "      <td>16.1000</td>\n",
       "      <td>0.0</td>\n",
       "      <td>1015.95</td>\n",
       "      <td>Partly cloudy starting in the morning.</td>\n",
       "    </tr>\n",
       "    <tr>\n",
       "      <th>96452</th>\n",
       "      <td>2016-09-09 23:00:00.000 +0200</td>\n",
       "      <td>Partly Cloudy</td>\n",
       "      <td>rain</td>\n",
       "      <td>20.438889</td>\n",
       "      <td>20.438889</td>\n",
       "      <td>0.61</td>\n",
       "      <td>5.8765</td>\n",
       "      <td>39.0</td>\n",
       "      <td>15.5204</td>\n",
       "      <td>0.0</td>\n",
       "      <td>1016.16</td>\n",
       "      <td>Partly cloudy starting in the morning.</td>\n",
       "    </tr>\n",
       "  </tbody>\n",
       "</table>\n",
       "<p>96453 rows × 12 columns</p>\n",
       "</div>"
      ],
      "text/plain": [
       "                      Formatted Date        Summary Precip Type  \\\n",
       "0      2006-04-01 00:00:00.000 +0200  Partly Cloudy        rain   \n",
       "1      2006-04-01 01:00:00.000 +0200  Partly Cloudy        rain   \n",
       "2      2006-04-01 02:00:00.000 +0200  Mostly Cloudy        rain   \n",
       "3      2006-04-01 03:00:00.000 +0200  Partly Cloudy        rain   \n",
       "4      2006-04-01 04:00:00.000 +0200  Mostly Cloudy        rain   \n",
       "...                              ...            ...         ...   \n",
       "96448  2016-09-09 19:00:00.000 +0200  Partly Cloudy        rain   \n",
       "96449  2016-09-09 20:00:00.000 +0200  Partly Cloudy        rain   \n",
       "96450  2016-09-09 21:00:00.000 +0200  Partly Cloudy        rain   \n",
       "96451  2016-09-09 22:00:00.000 +0200  Partly Cloudy        rain   \n",
       "96452  2016-09-09 23:00:00.000 +0200  Partly Cloudy        rain   \n",
       "\n",
       "       Temperature (C)  Apparent Temperature (C)  Humidity  Wind Speed (km/h)  \\\n",
       "0             9.472222                  7.388889      0.89            14.1197   \n",
       "1             9.355556                  7.227778      0.86            14.2646   \n",
       "2             9.377778                  9.377778      0.89             3.9284   \n",
       "3             8.288889                  5.944444      0.83            14.1036   \n",
       "4             8.755556                  6.977778      0.83            11.0446   \n",
       "...                ...                       ...       ...                ...   \n",
       "96448        26.016667                 26.016667      0.43            10.9963   \n",
       "96449        24.583333                 24.583333      0.48            10.0947   \n",
       "96450        22.038889                 22.038889      0.56             8.9838   \n",
       "96451        21.522222                 21.522222      0.60            10.5294   \n",
       "96452        20.438889                 20.438889      0.61             5.8765   \n",
       "\n",
       "       Wind Bearing (degrees)  Visibility (km)  Loud Cover  \\\n",
       "0                       251.0          15.8263         0.0   \n",
       "1                       259.0          15.8263         0.0   \n",
       "2                       204.0          14.9569         0.0   \n",
       "3                       269.0          15.8263         0.0   \n",
       "4                       259.0          15.8263         0.0   \n",
       "...                       ...              ...         ...   \n",
       "96448                    31.0          16.1000         0.0   \n",
       "96449                    20.0          15.5526         0.0   \n",
       "96450                    30.0          16.1000         0.0   \n",
       "96451                    20.0          16.1000         0.0   \n",
       "96452                    39.0          15.5204         0.0   \n",
       "\n",
       "       Pressure (millibars)                           Daily Summary  \n",
       "0                   1015.13       Partly cloudy throughout the day.  \n",
       "1                   1015.63       Partly cloudy throughout the day.  \n",
       "2                   1015.94       Partly cloudy throughout the day.  \n",
       "3                   1016.41       Partly cloudy throughout the day.  \n",
       "4                   1016.51       Partly cloudy throughout the day.  \n",
       "...                     ...                                     ...  \n",
       "96448               1014.36  Partly cloudy starting in the morning.  \n",
       "96449               1015.16  Partly cloudy starting in the morning.  \n",
       "96450               1015.66  Partly cloudy starting in the morning.  \n",
       "96451               1015.95  Partly cloudy starting in the morning.  \n",
       "96452               1016.16  Partly cloudy starting in the morning.  \n",
       "\n",
       "[96453 rows x 12 columns]"
      ]
     },
     "execution_count": 140,
     "metadata": {},
     "output_type": "execute_result"
    }
   ],
   "source": [
    "data = pd.read_csv(r'C:\\\\Users\\\\zolotarev\\\\Downloads\\\\archive\\\\weatherHistory.csv')\n",
    "y = data['Temperature (C)']\n",
    "data"
   ]
  },
  {
   "cell_type": "markdown",
   "metadata": {
    "id": "uAjyEsrr8ZL5"
   },
   "source": [
    "**Построение объясняющей модели.**"
   ]
  },
  {
   "cell_type": "markdown",
   "metadata": {
    "id": "fJ0YhduB8ZL5"
   },
   "source": [
    "**Пункт 1.** Выберите независимые переменные, которые будут включены в объясняющую модель. Поясните, почему выбор этих переменных разумен (не нужно углубляться в физику поведения жидкостей и ссылаться на уравнения Навье-Стокса, достаточно понятной научно-популярной интерпретации)."
   ]
  },
  {
   "cell_type": "markdown",
   "metadata": {},
   "source": [
    "**Ответ:** Сперва возьмём в качестве независимых переменных почти все, имеющиеся в датасете, за исключением очевидных подсказок (ощущаемая температура) и оставим по одному показателю среди пар почти линейно коррелирующих между собой столбцов (Summary & Daily Summary). Дальнейшие переменные будем убирать по очереди по мере разведочного анализа. \n",
    "\n",
    "* Будем брать ощущение температуры за вчерашний день в тот же самый час, поскольку мне всё-таки кажется, что информация о предыдущих температурах должна иметься в реальной задаче, тогда как информация о фактической и ощущаемой температуре прямо сейчас не имеет права быть использованной\n",
    "* Общее состояние погоды может дать некоторую общую информацию касательно возможных отклонений температуры при прочих равных\n",
    "* Осадки дают возможность уточнить время года\n",
    "* Остальные признаки содержат числовые данные и по идее дадут возможность более точно предсказывать погоду в зависимости от каких-то физических особенностей показателя"
   ]
  },
  {
   "cell_type": "code",
   "execution_count": 143,
   "metadata": {
    "ExecuteTime": {
     "end_time": "2021-12-15T14:04:14.418888Z",
     "start_time": "2021-12-15T14:04:14.365392Z"
    }
   },
   "outputs": [],
   "source": [
    "data['previous_apparent_t'] = data['Apparent Temperature (C)'].shift(24)"
   ]
  },
  {
   "cell_type": "code",
   "execution_count": 167,
   "metadata": {
    "ExecuteTime": {
     "end_time": "2021-12-15T14:22:13.127102Z",
     "start_time": "2021-12-15T14:22:13.103846Z"
    },
    "id": "g9yjE9lh8ZL5"
   },
   "outputs": [
    {
     "data": {
      "text/html": [
       "<div>\n",
       "<style scoped>\n",
       "    .dataframe tbody tr th:only-of-type {\n",
       "        vertical-align: middle;\n",
       "    }\n",
       "\n",
       "    .dataframe tbody tr th {\n",
       "        vertical-align: top;\n",
       "    }\n",
       "\n",
       "    .dataframe thead th {\n",
       "        text-align: right;\n",
       "    }\n",
       "</style>\n",
       "<table border=\"1\" class=\"dataframe\">\n",
       "  <thead>\n",
       "    <tr style=\"text-align: right;\">\n",
       "      <th></th>\n",
       "      <th>previous_apparent_t</th>\n",
       "      <th>Summary</th>\n",
       "      <th>Precip Type</th>\n",
       "      <th>Humidity</th>\n",
       "      <th>Wind Speed (km/h)</th>\n",
       "      <th>Wind Bearing (degrees)</th>\n",
       "      <th>Visibility (km)</th>\n",
       "      <th>Loud Cover</th>\n",
       "      <th>Pressure (millibars)</th>\n",
       "    </tr>\n",
       "  </thead>\n",
       "  <tbody>\n",
       "    <tr>\n",
       "      <th>0</th>\n",
       "      <td>NaN</td>\n",
       "      <td>Partly Cloudy</td>\n",
       "      <td>rain</td>\n",
       "      <td>0.89</td>\n",
       "      <td>14.1197</td>\n",
       "      <td>251.0</td>\n",
       "      <td>15.8263</td>\n",
       "      <td>0.0</td>\n",
       "      <td>1015.13</td>\n",
       "    </tr>\n",
       "    <tr>\n",
       "      <th>1</th>\n",
       "      <td>NaN</td>\n",
       "      <td>Partly Cloudy</td>\n",
       "      <td>rain</td>\n",
       "      <td>0.86</td>\n",
       "      <td>14.2646</td>\n",
       "      <td>259.0</td>\n",
       "      <td>15.8263</td>\n",
       "      <td>0.0</td>\n",
       "      <td>1015.63</td>\n",
       "    </tr>\n",
       "    <tr>\n",
       "      <th>2</th>\n",
       "      <td>NaN</td>\n",
       "      <td>Mostly Cloudy</td>\n",
       "      <td>rain</td>\n",
       "      <td>0.89</td>\n",
       "      <td>3.9284</td>\n",
       "      <td>204.0</td>\n",
       "      <td>14.9569</td>\n",
       "      <td>0.0</td>\n",
       "      <td>1015.94</td>\n",
       "    </tr>\n",
       "    <tr>\n",
       "      <th>3</th>\n",
       "      <td>NaN</td>\n",
       "      <td>Partly Cloudy</td>\n",
       "      <td>rain</td>\n",
       "      <td>0.83</td>\n",
       "      <td>14.1036</td>\n",
       "      <td>269.0</td>\n",
       "      <td>15.8263</td>\n",
       "      <td>0.0</td>\n",
       "      <td>1016.41</td>\n",
       "    </tr>\n",
       "    <tr>\n",
       "      <th>4</th>\n",
       "      <td>NaN</td>\n",
       "      <td>Mostly Cloudy</td>\n",
       "      <td>rain</td>\n",
       "      <td>0.83</td>\n",
       "      <td>11.0446</td>\n",
       "      <td>259.0</td>\n",
       "      <td>15.8263</td>\n",
       "      <td>0.0</td>\n",
       "      <td>1016.51</td>\n",
       "    </tr>\n",
       "    <tr>\n",
       "      <th>...</th>\n",
       "      <td>...</td>\n",
       "      <td>...</td>\n",
       "      <td>...</td>\n",
       "      <td>...</td>\n",
       "      <td>...</td>\n",
       "      <td>...</td>\n",
       "      <td>...</td>\n",
       "      <td>...</td>\n",
       "      <td>...</td>\n",
       "    </tr>\n",
       "    <tr>\n",
       "      <th>96448</th>\n",
       "      <td>24.905556</td>\n",
       "      <td>Partly Cloudy</td>\n",
       "      <td>rain</td>\n",
       "      <td>0.43</td>\n",
       "      <td>10.9963</td>\n",
       "      <td>31.0</td>\n",
       "      <td>16.1000</td>\n",
       "      <td>0.0</td>\n",
       "      <td>1014.36</td>\n",
       "    </tr>\n",
       "    <tr>\n",
       "      <th>96449</th>\n",
       "      <td>22.366667</td>\n",
       "      <td>Partly Cloudy</td>\n",
       "      <td>rain</td>\n",
       "      <td>0.48</td>\n",
       "      <td>10.0947</td>\n",
       "      <td>20.0</td>\n",
       "      <td>15.5526</td>\n",
       "      <td>0.0</td>\n",
       "      <td>1015.16</td>\n",
       "    </tr>\n",
       "    <tr>\n",
       "      <th>96450</th>\n",
       "      <td>21.016667</td>\n",
       "      <td>Partly Cloudy</td>\n",
       "      <td>rain</td>\n",
       "      <td>0.56</td>\n",
       "      <td>8.9838</td>\n",
       "      <td>30.0</td>\n",
       "      <td>16.1000</td>\n",
       "      <td>0.0</td>\n",
       "      <td>1015.66</td>\n",
       "    </tr>\n",
       "    <tr>\n",
       "      <th>96451</th>\n",
       "      <td>19.927778</td>\n",
       "      <td>Partly Cloudy</td>\n",
       "      <td>rain</td>\n",
       "      <td>0.60</td>\n",
       "      <td>10.5294</td>\n",
       "      <td>20.0</td>\n",
       "      <td>16.1000</td>\n",
       "      <td>0.0</td>\n",
       "      <td>1015.95</td>\n",
       "    </tr>\n",
       "    <tr>\n",
       "      <th>96452</th>\n",
       "      <td>18.350000</td>\n",
       "      <td>Partly Cloudy</td>\n",
       "      <td>rain</td>\n",
       "      <td>0.61</td>\n",
       "      <td>5.8765</td>\n",
       "      <td>39.0</td>\n",
       "      <td>15.5204</td>\n",
       "      <td>0.0</td>\n",
       "      <td>1016.16</td>\n",
       "    </tr>\n",
       "  </tbody>\n",
       "</table>\n",
       "<p>96453 rows × 9 columns</p>\n",
       "</div>"
      ],
      "text/plain": [
       "       previous_apparent_t        Summary Precip Type  Humidity  \\\n",
       "0                      NaN  Partly Cloudy        rain      0.89   \n",
       "1                      NaN  Partly Cloudy        rain      0.86   \n",
       "2                      NaN  Mostly Cloudy        rain      0.89   \n",
       "3                      NaN  Partly Cloudy        rain      0.83   \n",
       "4                      NaN  Mostly Cloudy        rain      0.83   \n",
       "...                    ...            ...         ...       ...   \n",
       "96448            24.905556  Partly Cloudy        rain      0.43   \n",
       "96449            22.366667  Partly Cloudy        rain      0.48   \n",
       "96450            21.016667  Partly Cloudy        rain      0.56   \n",
       "96451            19.927778  Partly Cloudy        rain      0.60   \n",
       "96452            18.350000  Partly Cloudy        rain      0.61   \n",
       "\n",
       "       Wind Speed (km/h)  Wind Bearing (degrees)  Visibility (km)  Loud Cover  \\\n",
       "0                14.1197                   251.0          15.8263         0.0   \n",
       "1                14.2646                   259.0          15.8263         0.0   \n",
       "2                 3.9284                   204.0          14.9569         0.0   \n",
       "3                14.1036                   269.0          15.8263         0.0   \n",
       "4                11.0446                   259.0          15.8263         0.0   \n",
       "...                  ...                     ...              ...         ...   \n",
       "96448            10.9963                    31.0          16.1000         0.0   \n",
       "96449            10.0947                    20.0          15.5526         0.0   \n",
       "96450             8.9838                    30.0          16.1000         0.0   \n",
       "96451            10.5294                    20.0          16.1000         0.0   \n",
       "96452             5.8765                    39.0          15.5204         0.0   \n",
       "\n",
       "       Pressure (millibars)  \n",
       "0                   1015.13  \n",
       "1                   1015.63  \n",
       "2                   1015.94  \n",
       "3                   1016.41  \n",
       "4                   1016.51  \n",
       "...                     ...  \n",
       "96448               1014.36  \n",
       "96449               1015.16  \n",
       "96450               1015.66  \n",
       "96451               1015.95  \n",
       "96452               1016.16  \n",
       "\n",
       "[96453 rows x 9 columns]"
      ]
     },
     "execution_count": 167,
     "metadata": {},
     "output_type": "execute_result"
    }
   ],
   "source": [
    "columns = ['previous_apparent_t', 'Summary', 'Precip Type', 'Humidity', 'Wind Speed (km/h)', \n",
    "          'Wind Bearing (degrees)', 'Visibility (km)', 'Loud Cover', 'Pressure (millibars)']\n",
    "X = data[columns]\n",
    "X"
   ]
  },
  {
   "cell_type": "code",
   "execution_count": 168,
   "metadata": {
    "ExecuteTime": {
     "end_time": "2021-12-15T14:22:13.682332Z",
     "start_time": "2021-12-15T14:22:13.636321Z"
    }
   },
   "outputs": [
    {
     "data": {
      "text/html": [
       "<div>\n",
       "<style scoped>\n",
       "    .dataframe tbody tr th:only-of-type {\n",
       "        vertical-align: middle;\n",
       "    }\n",
       "\n",
       "    .dataframe tbody tr th {\n",
       "        vertical-align: top;\n",
       "    }\n",
       "\n",
       "    .dataframe thead th {\n",
       "        text-align: right;\n",
       "    }\n",
       "</style>\n",
       "<table border=\"1\" class=\"dataframe\">\n",
       "  <thead>\n",
       "    <tr style=\"text-align: right;\">\n",
       "      <th></th>\n",
       "      <th>previous_apparent_t</th>\n",
       "      <th>Humidity</th>\n",
       "      <th>Wind Speed (km/h)</th>\n",
       "      <th>Wind Bearing (degrees)</th>\n",
       "      <th>Visibility (km)</th>\n",
       "      <th>Loud Cover</th>\n",
       "      <th>Pressure (millibars)</th>\n",
       "    </tr>\n",
       "  </thead>\n",
       "  <tbody>\n",
       "    <tr>\n",
       "      <th>count</th>\n",
       "      <td>96429.000000</td>\n",
       "      <td>96453.000000</td>\n",
       "      <td>96453.000000</td>\n",
       "      <td>96453.000000</td>\n",
       "      <td>96453.000000</td>\n",
       "      <td>96453.0</td>\n",
       "      <td>96453.000000</td>\n",
       "    </tr>\n",
       "    <tr>\n",
       "      <th>mean</th>\n",
       "      <td>10.852169</td>\n",
       "      <td>0.734899</td>\n",
       "      <td>10.810640</td>\n",
       "      <td>187.509232</td>\n",
       "      <td>10.347325</td>\n",
       "      <td>0.0</td>\n",
       "      <td>1003.235956</td>\n",
       "    </tr>\n",
       "    <tr>\n",
       "      <th>std</th>\n",
       "      <td>10.696285</td>\n",
       "      <td>0.195473</td>\n",
       "      <td>6.913571</td>\n",
       "      <td>107.383428</td>\n",
       "      <td>4.192123</td>\n",
       "      <td>0.0</td>\n",
       "      <td>116.969906</td>\n",
       "    </tr>\n",
       "    <tr>\n",
       "      <th>min</th>\n",
       "      <td>-27.716667</td>\n",
       "      <td>0.000000</td>\n",
       "      <td>0.000000</td>\n",
       "      <td>0.000000</td>\n",
       "      <td>0.000000</td>\n",
       "      <td>0.0</td>\n",
       "      <td>0.000000</td>\n",
       "    </tr>\n",
       "    <tr>\n",
       "      <th>1%</th>\n",
       "      <td>-11.505556</td>\n",
       "      <td>0.270000</td>\n",
       "      <td>0.000000</td>\n",
       "      <td>0.000000</td>\n",
       "      <td>0.161000</td>\n",
       "      <td>0.0</td>\n",
       "      <td>0.000000</td>\n",
       "    </tr>\n",
       "    <tr>\n",
       "      <th>5%</th>\n",
       "      <td>-6.044444</td>\n",
       "      <td>0.350000</td>\n",
       "      <td>2.527700</td>\n",
       "      <td>10.000000</td>\n",
       "      <td>1.932000</td>\n",
       "      <td>0.0</td>\n",
       "      <td>1003.200000</td>\n",
       "    </tr>\n",
       "    <tr>\n",
       "      <th>25%</th>\n",
       "      <td>2.311111</td>\n",
       "      <td>0.600000</td>\n",
       "      <td>5.828200</td>\n",
       "      <td>116.000000</td>\n",
       "      <td>8.339800</td>\n",
       "      <td>0.0</td>\n",
       "      <td>1011.900000</td>\n",
       "    </tr>\n",
       "    <tr>\n",
       "      <th>50%</th>\n",
       "      <td>12.000000</td>\n",
       "      <td>0.780000</td>\n",
       "      <td>9.965900</td>\n",
       "      <td>180.000000</td>\n",
       "      <td>10.046400</td>\n",
       "      <td>0.0</td>\n",
       "      <td>1016.450000</td>\n",
       "    </tr>\n",
       "    <tr>\n",
       "      <th>75%</th>\n",
       "      <td>18.838889</td>\n",
       "      <td>0.890000</td>\n",
       "      <td>14.135800</td>\n",
       "      <td>290.000000</td>\n",
       "      <td>14.812000</td>\n",
       "      <td>0.0</td>\n",
       "      <td>1021.090000</td>\n",
       "    </tr>\n",
       "    <tr>\n",
       "      <th>95%</th>\n",
       "      <td>27.927778</td>\n",
       "      <td>0.970000</td>\n",
       "      <td>24.430140</td>\n",
       "      <td>341.000000</td>\n",
       "      <td>16.100000</td>\n",
       "      <td>0.0</td>\n",
       "      <td>1030.190000</td>\n",
       "    </tr>\n",
       "    <tr>\n",
       "      <th>99%</th>\n",
       "      <td>32.811111</td>\n",
       "      <td>1.000000</td>\n",
       "      <td>32.860100</td>\n",
       "      <td>356.000000</td>\n",
       "      <td>16.100000</td>\n",
       "      <td>0.0</td>\n",
       "      <td>1037.280000</td>\n",
       "    </tr>\n",
       "    <tr>\n",
       "      <th>max</th>\n",
       "      <td>39.344444</td>\n",
       "      <td>1.000000</td>\n",
       "      <td>63.852600</td>\n",
       "      <td>359.000000</td>\n",
       "      <td>16.100000</td>\n",
       "      <td>0.0</td>\n",
       "      <td>1046.380000</td>\n",
       "    </tr>\n",
       "  </tbody>\n",
       "</table>\n",
       "</div>"
      ],
      "text/plain": [
       "       previous_apparent_t      Humidity  Wind Speed (km/h)  \\\n",
       "count         96429.000000  96453.000000       96453.000000   \n",
       "mean             10.852169      0.734899          10.810640   \n",
       "std              10.696285      0.195473           6.913571   \n",
       "min             -27.716667      0.000000           0.000000   \n",
       "1%              -11.505556      0.270000           0.000000   \n",
       "5%               -6.044444      0.350000           2.527700   \n",
       "25%               2.311111      0.600000           5.828200   \n",
       "50%              12.000000      0.780000           9.965900   \n",
       "75%              18.838889      0.890000          14.135800   \n",
       "95%              27.927778      0.970000          24.430140   \n",
       "99%              32.811111      1.000000          32.860100   \n",
       "max              39.344444      1.000000          63.852600   \n",
       "\n",
       "       Wind Bearing (degrees)  Visibility (km)  Loud Cover  \\\n",
       "count            96453.000000     96453.000000     96453.0   \n",
       "mean               187.509232        10.347325         0.0   \n",
       "std                107.383428         4.192123         0.0   \n",
       "min                  0.000000         0.000000         0.0   \n",
       "1%                   0.000000         0.161000         0.0   \n",
       "5%                  10.000000         1.932000         0.0   \n",
       "25%                116.000000         8.339800         0.0   \n",
       "50%                180.000000        10.046400         0.0   \n",
       "75%                290.000000        14.812000         0.0   \n",
       "95%                341.000000        16.100000         0.0   \n",
       "99%                356.000000        16.100000         0.0   \n",
       "max                359.000000        16.100000         0.0   \n",
       "\n",
       "       Pressure (millibars)  \n",
       "count          96453.000000  \n",
       "mean            1003.235956  \n",
       "std              116.969906  \n",
       "min                0.000000  \n",
       "1%                 0.000000  \n",
       "5%              1003.200000  \n",
       "25%             1011.900000  \n",
       "50%             1016.450000  \n",
       "75%             1021.090000  \n",
       "95%             1030.190000  \n",
       "99%             1037.280000  \n",
       "max             1046.380000  "
      ]
     },
     "execution_count": 168,
     "metadata": {},
     "output_type": "execute_result"
    }
   ],
   "source": [
    "X.describe(percentiles=[0.01, 0.05, 0.25, 0.75, 0.95, 0.99])"
   ]
  },
  {
   "cell_type": "markdown",
   "metadata": {},
   "source": [
    "После первичного анализа видим, что Loud Cover - бесполезная переменная, в Pressure & Humidity есть пропуски, заполненные нулями, модифицируем датасет:"
   ]
  },
  {
   "cell_type": "code",
   "execution_count": 169,
   "metadata": {
    "ExecuteTime": {
     "end_time": "2021-12-15T14:22:15.031159Z",
     "start_time": "2021-12-15T14:22:14.978146Z"
    }
   },
   "outputs": [
    {
     "name": "stderr",
     "output_type": "stream",
     "text": [
      "C:\\Users\\zolotarev\\Anaconda3\\lib\\site-packages\\pandas\\core\\series.py:4463: SettingWithCopyWarning: \n",
      "A value is trying to be set on a copy of a slice from a DataFrame\n",
      "\n",
      "See the caveats in the documentation: https://pandas.pydata.org/pandas-docs/stable/user_guide/indexing.html#returning-a-view-versus-a-copy\n",
      "  return super().fillna(\n",
      "C:\\Users\\zolotarev\\Anaconda3\\lib\\site-packages\\pandas\\core\\series.py:4509: SettingWithCopyWarning: \n",
      "A value is trying to be set on a copy of a slice from a DataFrame\n",
      "\n",
      "See the caveats in the documentation: https://pandas.pydata.org/pandas-docs/stable/user_guide/indexing.html#returning-a-view-versus-a-copy\n",
      "  return super().replace(\n",
      "C:\\Users\\zolotarev\\Anaconda3\\lib\\site-packages\\pandas\\core\\frame.py:4308: SettingWithCopyWarning: \n",
      "A value is trying to be set on a copy of a slice from a DataFrame\n",
      "\n",
      "See the caveats in the documentation: https://pandas.pydata.org/pandas-docs/stable/user_guide/indexing.html#returning-a-view-versus-a-copy\n",
      "  return super().drop(\n"
     ]
    },
    {
     "data": {
      "text/html": [
       "<div>\n",
       "<style scoped>\n",
       "    .dataframe tbody tr th:only-of-type {\n",
       "        vertical-align: middle;\n",
       "    }\n",
       "\n",
       "    .dataframe tbody tr th {\n",
       "        vertical-align: top;\n",
       "    }\n",
       "\n",
       "    .dataframe thead th {\n",
       "        text-align: right;\n",
       "    }\n",
       "</style>\n",
       "<table border=\"1\" class=\"dataframe\">\n",
       "  <thead>\n",
       "    <tr style=\"text-align: right;\">\n",
       "      <th></th>\n",
       "      <th>previous_apparent_t</th>\n",
       "      <th>Humidity</th>\n",
       "      <th>Wind Speed (km/h)</th>\n",
       "      <th>Wind Bearing (degrees)</th>\n",
       "      <th>Visibility (km)</th>\n",
       "      <th>Pressure (millibars)</th>\n",
       "    </tr>\n",
       "  </thead>\n",
       "  <tbody>\n",
       "    <tr>\n",
       "      <th>count</th>\n",
       "      <td>96453.000000</td>\n",
       "      <td>96453.000000</td>\n",
       "      <td>96453.000000</td>\n",
       "      <td>96453.000000</td>\n",
       "      <td>96453.000000</td>\n",
       "      <td>96453.000000</td>\n",
       "    </tr>\n",
       "    <tr>\n",
       "      <th>mean</th>\n",
       "      <td>10.849469</td>\n",
       "      <td>0.735067</td>\n",
       "      <td>10.810640</td>\n",
       "      <td>187.509232</td>\n",
       "      <td>10.347325</td>\n",
       "      <td>1016.814140</td>\n",
       "    </tr>\n",
       "    <tr>\n",
       "      <th>std</th>\n",
       "      <td>10.696323</td>\n",
       "      <td>0.195157</td>\n",
       "      <td>6.913571</td>\n",
       "      <td>107.383428</td>\n",
       "      <td>4.192123</td>\n",
       "      <td>7.726246</td>\n",
       "    </tr>\n",
       "    <tr>\n",
       "      <th>min</th>\n",
       "      <td>-27.716667</td>\n",
       "      <td>0.120000</td>\n",
       "      <td>0.000000</td>\n",
       "      <td>0.000000</td>\n",
       "      <td>0.000000</td>\n",
       "      <td>973.780000</td>\n",
       "    </tr>\n",
       "    <tr>\n",
       "      <th>1%</th>\n",
       "      <td>-11.505556</td>\n",
       "      <td>0.270000</td>\n",
       "      <td>0.000000</td>\n",
       "      <td>0.000000</td>\n",
       "      <td>0.161000</td>\n",
       "      <td>997.135600</td>\n",
       "    </tr>\n",
       "    <tr>\n",
       "      <th>5%</th>\n",
       "      <td>-6.041111</td>\n",
       "      <td>0.350000</td>\n",
       "      <td>2.527700</td>\n",
       "      <td>10.000000</td>\n",
       "      <td>1.932000</td>\n",
       "      <td>1004.700000</td>\n",
       "    </tr>\n",
       "    <tr>\n",
       "      <th>25%</th>\n",
       "      <td>2.305556</td>\n",
       "      <td>0.600000</td>\n",
       "      <td>5.828200</td>\n",
       "      <td>116.000000</td>\n",
       "      <td>8.339800</td>\n",
       "      <td>1012.200000</td>\n",
       "    </tr>\n",
       "    <tr>\n",
       "      <th>50%</th>\n",
       "      <td>11.994444</td>\n",
       "      <td>0.780000</td>\n",
       "      <td>9.965900</td>\n",
       "      <td>180.000000</td>\n",
       "      <td>10.046400</td>\n",
       "      <td>1016.670000</td>\n",
       "    </tr>\n",
       "    <tr>\n",
       "      <th>75%</th>\n",
       "      <td>18.838889</td>\n",
       "      <td>0.890000</td>\n",
       "      <td>14.135800</td>\n",
       "      <td>290.000000</td>\n",
       "      <td>14.812000</td>\n",
       "      <td>1021.090000</td>\n",
       "    </tr>\n",
       "    <tr>\n",
       "      <th>95%</th>\n",
       "      <td>27.927778</td>\n",
       "      <td>0.970000</td>\n",
       "      <td>24.430140</td>\n",
       "      <td>341.000000</td>\n",
       "      <td>16.100000</td>\n",
       "      <td>1030.190000</td>\n",
       "    </tr>\n",
       "    <tr>\n",
       "      <th>99%</th>\n",
       "      <td>32.811111</td>\n",
       "      <td>1.000000</td>\n",
       "      <td>32.860100</td>\n",
       "      <td>356.000000</td>\n",
       "      <td>16.100000</td>\n",
       "      <td>1037.280000</td>\n",
       "    </tr>\n",
       "    <tr>\n",
       "      <th>max</th>\n",
       "      <td>39.344444</td>\n",
       "      <td>1.000000</td>\n",
       "      <td>63.852600</td>\n",
       "      <td>359.000000</td>\n",
       "      <td>16.100000</td>\n",
       "      <td>1046.380000</td>\n",
       "    </tr>\n",
       "  </tbody>\n",
       "</table>\n",
       "</div>"
      ],
      "text/plain": [
       "       previous_apparent_t      Humidity  Wind Speed (km/h)  \\\n",
       "count         96453.000000  96453.000000       96453.000000   \n",
       "mean             10.849469      0.735067          10.810640   \n",
       "std              10.696323      0.195157           6.913571   \n",
       "min             -27.716667      0.120000           0.000000   \n",
       "1%              -11.505556      0.270000           0.000000   \n",
       "5%               -6.041111      0.350000           2.527700   \n",
       "25%               2.305556      0.600000           5.828200   \n",
       "50%              11.994444      0.780000           9.965900   \n",
       "75%              18.838889      0.890000          14.135800   \n",
       "95%              27.927778      0.970000          24.430140   \n",
       "99%              32.811111      1.000000          32.860100   \n",
       "max              39.344444      1.000000          63.852600   \n",
       "\n",
       "       Wind Bearing (degrees)  Visibility (km)  Pressure (millibars)  \n",
       "count            96453.000000     96453.000000          96453.000000  \n",
       "mean               187.509232        10.347325           1016.814140  \n",
       "std                107.383428         4.192123              7.726246  \n",
       "min                  0.000000         0.000000            973.780000  \n",
       "1%                   0.000000         0.161000            997.135600  \n",
       "5%                  10.000000         1.932000           1004.700000  \n",
       "25%                116.000000         8.339800           1012.200000  \n",
       "50%                180.000000        10.046400           1016.670000  \n",
       "75%                290.000000        14.812000           1021.090000  \n",
       "95%                341.000000        16.100000           1030.190000  \n",
       "99%                356.000000        16.100000           1037.280000  \n",
       "max                359.000000        16.100000           1046.380000  "
      ]
     },
     "execution_count": 169,
     "metadata": {},
     "output_type": "execute_result"
    }
   ],
   "source": [
    "X['previous_apparent_t'].fillna(value=0, inplace=True)\n",
    "X['Humidity'].replace(0, np.nan, inplace=True)\n",
    "X['Humidity'].fillna(value=np.mean(X['Humidity']), inplace=True)\n",
    "X['Pressure (millibars)'].replace(0, np.nan, inplace=True)\n",
    "X['Pressure (millibars)'].fillna(value=np.mean(X['Pressure (millibars)']), inplace=True)\n",
    "X.drop('Loud Cover', axis=1, inplace=True)\n",
    "X.describe(percentiles=[0.01, 0.05, 0.25, 0.75, 0.95, 0.99])"
   ]
  },
  {
   "cell_type": "markdown",
   "metadata": {},
   "source": [
    "Отлично, все пропуски заполнены. Теперь сделаем дамми-переменные из категориальных:"
   ]
  },
  {
   "cell_type": "code",
   "execution_count": 170,
   "metadata": {
    "ExecuteTime": {
     "end_time": "2021-12-15T14:22:16.277869Z",
     "start_time": "2021-12-15T14:22:16.255779Z"
    }
   },
   "outputs": [
    {
     "data": {
      "text/plain": [
       "Partly Cloudy                          31733\n",
       "Mostly Cloudy                          28094\n",
       "Overcast                               16597\n",
       "Clear                                  10890\n",
       "Foggy                                   7148\n",
       "Breezy and Overcast                      528\n",
       "Breezy and Mostly Cloudy                 516\n",
       "Breezy and Partly Cloudy                 386\n",
       "Dry and Partly Cloudy                     86\n",
       "Windy and Partly Cloudy                   67\n",
       "Light Rain                                63\n",
       "Breezy                                    54\n",
       "Windy and Overcast                        45\n",
       "Humid and Mostly Cloudy                   40\n",
       "Drizzle                                   39\n",
       "Breezy and Foggy                          35\n",
       "Windy and Mostly Cloudy                   35\n",
       "Dry                                       34\n",
       "Humid and Partly Cloudy                   17\n",
       "Dry and Mostly Cloudy                     14\n",
       "Rain                                      10\n",
       "Windy                                      8\n",
       "Humid and Overcast                         7\n",
       "Windy and Foggy                            4\n",
       "Breezy and Dry                             1\n",
       "Windy and Dry                              1\n",
       "Dangerously Windy and Partly Cloudy        1\n",
       "Name: Summary, dtype: int64"
      ]
     },
     "execution_count": 170,
     "metadata": {},
     "output_type": "execute_result"
    }
   ],
   "source": [
    "X['Summary'].value_counts()"
   ]
  },
  {
   "cell_type": "code",
   "execution_count": 171,
   "metadata": {
    "ExecuteTime": {
     "end_time": "2021-12-15T14:22:17.036586Z",
     "start_time": "2021-12-15T14:22:16.983355Z"
    }
   },
   "outputs": [
    {
     "data": {
      "text/html": [
       "<div>\n",
       "<style scoped>\n",
       "    .dataframe tbody tr th:only-of-type {\n",
       "        vertical-align: middle;\n",
       "    }\n",
       "\n",
       "    .dataframe tbody tr th {\n",
       "        vertical-align: top;\n",
       "    }\n",
       "\n",
       "    .dataframe thead th {\n",
       "        text-align: right;\n",
       "    }\n",
       "</style>\n",
       "<table border=\"1\" class=\"dataframe\">\n",
       "  <thead>\n",
       "    <tr style=\"text-align: right;\">\n",
       "      <th></th>\n",
       "      <th>Summary_Breezy</th>\n",
       "      <th>Summary_Breezy and Dry</th>\n",
       "      <th>Summary_Breezy and Foggy</th>\n",
       "      <th>Summary_Breezy and Mostly Cloudy</th>\n",
       "      <th>Summary_Breezy and Overcast</th>\n",
       "      <th>Summary_Breezy and Partly Cloudy</th>\n",
       "      <th>Summary_Clear</th>\n",
       "      <th>Summary_Dangerously Windy and Partly Cloudy</th>\n",
       "      <th>Summary_Drizzle</th>\n",
       "      <th>Summary_Dry</th>\n",
       "      <th>...</th>\n",
       "      <th>Summary_Partly Cloudy</th>\n",
       "      <th>Summary_Rain</th>\n",
       "      <th>Summary_Windy</th>\n",
       "      <th>Summary_Windy and Dry</th>\n",
       "      <th>Summary_Windy and Foggy</th>\n",
       "      <th>Summary_Windy and Mostly Cloudy</th>\n",
       "      <th>Summary_Windy and Overcast</th>\n",
       "      <th>Summary_Windy and Partly Cloudy</th>\n",
       "      <th>Precip Type_rain</th>\n",
       "      <th>Precip Type_snow</th>\n",
       "    </tr>\n",
       "  </thead>\n",
       "  <tbody>\n",
       "    <tr>\n",
       "      <th>0</th>\n",
       "      <td>0</td>\n",
       "      <td>0</td>\n",
       "      <td>0</td>\n",
       "      <td>0</td>\n",
       "      <td>0</td>\n",
       "      <td>0</td>\n",
       "      <td>0</td>\n",
       "      <td>0</td>\n",
       "      <td>0</td>\n",
       "      <td>0</td>\n",
       "      <td>...</td>\n",
       "      <td>1</td>\n",
       "      <td>0</td>\n",
       "      <td>0</td>\n",
       "      <td>0</td>\n",
       "      <td>0</td>\n",
       "      <td>0</td>\n",
       "      <td>0</td>\n",
       "      <td>0</td>\n",
       "      <td>1</td>\n",
       "      <td>0</td>\n",
       "    </tr>\n",
       "    <tr>\n",
       "      <th>1</th>\n",
       "      <td>0</td>\n",
       "      <td>0</td>\n",
       "      <td>0</td>\n",
       "      <td>0</td>\n",
       "      <td>0</td>\n",
       "      <td>0</td>\n",
       "      <td>0</td>\n",
       "      <td>0</td>\n",
       "      <td>0</td>\n",
       "      <td>0</td>\n",
       "      <td>...</td>\n",
       "      <td>1</td>\n",
       "      <td>0</td>\n",
       "      <td>0</td>\n",
       "      <td>0</td>\n",
       "      <td>0</td>\n",
       "      <td>0</td>\n",
       "      <td>0</td>\n",
       "      <td>0</td>\n",
       "      <td>1</td>\n",
       "      <td>0</td>\n",
       "    </tr>\n",
       "    <tr>\n",
       "      <th>2</th>\n",
       "      <td>0</td>\n",
       "      <td>0</td>\n",
       "      <td>0</td>\n",
       "      <td>0</td>\n",
       "      <td>0</td>\n",
       "      <td>0</td>\n",
       "      <td>0</td>\n",
       "      <td>0</td>\n",
       "      <td>0</td>\n",
       "      <td>0</td>\n",
       "      <td>...</td>\n",
       "      <td>0</td>\n",
       "      <td>0</td>\n",
       "      <td>0</td>\n",
       "      <td>0</td>\n",
       "      <td>0</td>\n",
       "      <td>0</td>\n",
       "      <td>0</td>\n",
       "      <td>0</td>\n",
       "      <td>1</td>\n",
       "      <td>0</td>\n",
       "    </tr>\n",
       "    <tr>\n",
       "      <th>3</th>\n",
       "      <td>0</td>\n",
       "      <td>0</td>\n",
       "      <td>0</td>\n",
       "      <td>0</td>\n",
       "      <td>0</td>\n",
       "      <td>0</td>\n",
       "      <td>0</td>\n",
       "      <td>0</td>\n",
       "      <td>0</td>\n",
       "      <td>0</td>\n",
       "      <td>...</td>\n",
       "      <td>1</td>\n",
       "      <td>0</td>\n",
       "      <td>0</td>\n",
       "      <td>0</td>\n",
       "      <td>0</td>\n",
       "      <td>0</td>\n",
       "      <td>0</td>\n",
       "      <td>0</td>\n",
       "      <td>1</td>\n",
       "      <td>0</td>\n",
       "    </tr>\n",
       "    <tr>\n",
       "      <th>4</th>\n",
       "      <td>0</td>\n",
       "      <td>0</td>\n",
       "      <td>0</td>\n",
       "      <td>0</td>\n",
       "      <td>0</td>\n",
       "      <td>0</td>\n",
       "      <td>0</td>\n",
       "      <td>0</td>\n",
       "      <td>0</td>\n",
       "      <td>0</td>\n",
       "      <td>...</td>\n",
       "      <td>0</td>\n",
       "      <td>0</td>\n",
       "      <td>0</td>\n",
       "      <td>0</td>\n",
       "      <td>0</td>\n",
       "      <td>0</td>\n",
       "      <td>0</td>\n",
       "      <td>0</td>\n",
       "      <td>1</td>\n",
       "      <td>0</td>\n",
       "    </tr>\n",
       "    <tr>\n",
       "      <th>...</th>\n",
       "      <td>...</td>\n",
       "      <td>...</td>\n",
       "      <td>...</td>\n",
       "      <td>...</td>\n",
       "      <td>...</td>\n",
       "      <td>...</td>\n",
       "      <td>...</td>\n",
       "      <td>...</td>\n",
       "      <td>...</td>\n",
       "      <td>...</td>\n",
       "      <td>...</td>\n",
       "      <td>...</td>\n",
       "      <td>...</td>\n",
       "      <td>...</td>\n",
       "      <td>...</td>\n",
       "      <td>...</td>\n",
       "      <td>...</td>\n",
       "      <td>...</td>\n",
       "      <td>...</td>\n",
       "      <td>...</td>\n",
       "      <td>...</td>\n",
       "    </tr>\n",
       "    <tr>\n",
       "      <th>96448</th>\n",
       "      <td>0</td>\n",
       "      <td>0</td>\n",
       "      <td>0</td>\n",
       "      <td>0</td>\n",
       "      <td>0</td>\n",
       "      <td>0</td>\n",
       "      <td>0</td>\n",
       "      <td>0</td>\n",
       "      <td>0</td>\n",
       "      <td>0</td>\n",
       "      <td>...</td>\n",
       "      <td>1</td>\n",
       "      <td>0</td>\n",
       "      <td>0</td>\n",
       "      <td>0</td>\n",
       "      <td>0</td>\n",
       "      <td>0</td>\n",
       "      <td>0</td>\n",
       "      <td>0</td>\n",
       "      <td>1</td>\n",
       "      <td>0</td>\n",
       "    </tr>\n",
       "    <tr>\n",
       "      <th>96449</th>\n",
       "      <td>0</td>\n",
       "      <td>0</td>\n",
       "      <td>0</td>\n",
       "      <td>0</td>\n",
       "      <td>0</td>\n",
       "      <td>0</td>\n",
       "      <td>0</td>\n",
       "      <td>0</td>\n",
       "      <td>0</td>\n",
       "      <td>0</td>\n",
       "      <td>...</td>\n",
       "      <td>1</td>\n",
       "      <td>0</td>\n",
       "      <td>0</td>\n",
       "      <td>0</td>\n",
       "      <td>0</td>\n",
       "      <td>0</td>\n",
       "      <td>0</td>\n",
       "      <td>0</td>\n",
       "      <td>1</td>\n",
       "      <td>0</td>\n",
       "    </tr>\n",
       "    <tr>\n",
       "      <th>96450</th>\n",
       "      <td>0</td>\n",
       "      <td>0</td>\n",
       "      <td>0</td>\n",
       "      <td>0</td>\n",
       "      <td>0</td>\n",
       "      <td>0</td>\n",
       "      <td>0</td>\n",
       "      <td>0</td>\n",
       "      <td>0</td>\n",
       "      <td>0</td>\n",
       "      <td>...</td>\n",
       "      <td>1</td>\n",
       "      <td>0</td>\n",
       "      <td>0</td>\n",
       "      <td>0</td>\n",
       "      <td>0</td>\n",
       "      <td>0</td>\n",
       "      <td>0</td>\n",
       "      <td>0</td>\n",
       "      <td>1</td>\n",
       "      <td>0</td>\n",
       "    </tr>\n",
       "    <tr>\n",
       "      <th>96451</th>\n",
       "      <td>0</td>\n",
       "      <td>0</td>\n",
       "      <td>0</td>\n",
       "      <td>0</td>\n",
       "      <td>0</td>\n",
       "      <td>0</td>\n",
       "      <td>0</td>\n",
       "      <td>0</td>\n",
       "      <td>0</td>\n",
       "      <td>0</td>\n",
       "      <td>...</td>\n",
       "      <td>1</td>\n",
       "      <td>0</td>\n",
       "      <td>0</td>\n",
       "      <td>0</td>\n",
       "      <td>0</td>\n",
       "      <td>0</td>\n",
       "      <td>0</td>\n",
       "      <td>0</td>\n",
       "      <td>1</td>\n",
       "      <td>0</td>\n",
       "    </tr>\n",
       "    <tr>\n",
       "      <th>96452</th>\n",
       "      <td>0</td>\n",
       "      <td>0</td>\n",
       "      <td>0</td>\n",
       "      <td>0</td>\n",
       "      <td>0</td>\n",
       "      <td>0</td>\n",
       "      <td>0</td>\n",
       "      <td>0</td>\n",
       "      <td>0</td>\n",
       "      <td>0</td>\n",
       "      <td>...</td>\n",
       "      <td>1</td>\n",
       "      <td>0</td>\n",
       "      <td>0</td>\n",
       "      <td>0</td>\n",
       "      <td>0</td>\n",
       "      <td>0</td>\n",
       "      <td>0</td>\n",
       "      <td>0</td>\n",
       "      <td>1</td>\n",
       "      <td>0</td>\n",
       "    </tr>\n",
       "  </tbody>\n",
       "</table>\n",
       "<p>96453 rows × 29 columns</p>\n",
       "</div>"
      ],
      "text/plain": [
       "       Summary_Breezy  Summary_Breezy and Dry  Summary_Breezy and Foggy  \\\n",
       "0                   0                       0                         0   \n",
       "1                   0                       0                         0   \n",
       "2                   0                       0                         0   \n",
       "3                   0                       0                         0   \n",
       "4                   0                       0                         0   \n",
       "...               ...                     ...                       ...   \n",
       "96448               0                       0                         0   \n",
       "96449               0                       0                         0   \n",
       "96450               0                       0                         0   \n",
       "96451               0                       0                         0   \n",
       "96452               0                       0                         0   \n",
       "\n",
       "       Summary_Breezy and Mostly Cloudy  Summary_Breezy and Overcast  \\\n",
       "0                                     0                            0   \n",
       "1                                     0                            0   \n",
       "2                                     0                            0   \n",
       "3                                     0                            0   \n",
       "4                                     0                            0   \n",
       "...                                 ...                          ...   \n",
       "96448                                 0                            0   \n",
       "96449                                 0                            0   \n",
       "96450                                 0                            0   \n",
       "96451                                 0                            0   \n",
       "96452                                 0                            0   \n",
       "\n",
       "       Summary_Breezy and Partly Cloudy  Summary_Clear  \\\n",
       "0                                     0              0   \n",
       "1                                     0              0   \n",
       "2                                     0              0   \n",
       "3                                     0              0   \n",
       "4                                     0              0   \n",
       "...                                 ...            ...   \n",
       "96448                                 0              0   \n",
       "96449                                 0              0   \n",
       "96450                                 0              0   \n",
       "96451                                 0              0   \n",
       "96452                                 0              0   \n",
       "\n",
       "       Summary_Dangerously Windy and Partly Cloudy  Summary_Drizzle  \\\n",
       "0                                                0                0   \n",
       "1                                                0                0   \n",
       "2                                                0                0   \n",
       "3                                                0                0   \n",
       "4                                                0                0   \n",
       "...                                            ...              ...   \n",
       "96448                                            0                0   \n",
       "96449                                            0                0   \n",
       "96450                                            0                0   \n",
       "96451                                            0                0   \n",
       "96452                                            0                0   \n",
       "\n",
       "       Summary_Dry  ...  Summary_Partly Cloudy  Summary_Rain  Summary_Windy  \\\n",
       "0                0  ...                      1             0              0   \n",
       "1                0  ...                      1             0              0   \n",
       "2                0  ...                      0             0              0   \n",
       "3                0  ...                      1             0              0   \n",
       "4                0  ...                      0             0              0   \n",
       "...            ...  ...                    ...           ...            ...   \n",
       "96448            0  ...                      1             0              0   \n",
       "96449            0  ...                      1             0              0   \n",
       "96450            0  ...                      1             0              0   \n",
       "96451            0  ...                      1             0              0   \n",
       "96452            0  ...                      1             0              0   \n",
       "\n",
       "       Summary_Windy and Dry  Summary_Windy and Foggy  \\\n",
       "0                          0                        0   \n",
       "1                          0                        0   \n",
       "2                          0                        0   \n",
       "3                          0                        0   \n",
       "4                          0                        0   \n",
       "...                      ...                      ...   \n",
       "96448                      0                        0   \n",
       "96449                      0                        0   \n",
       "96450                      0                        0   \n",
       "96451                      0                        0   \n",
       "96452                      0                        0   \n",
       "\n",
       "       Summary_Windy and Mostly Cloudy  Summary_Windy and Overcast  \\\n",
       "0                                    0                           0   \n",
       "1                                    0                           0   \n",
       "2                                    0                           0   \n",
       "3                                    0                           0   \n",
       "4                                    0                           0   \n",
       "...                                ...                         ...   \n",
       "96448                                0                           0   \n",
       "96449                                0                           0   \n",
       "96450                                0                           0   \n",
       "96451                                0                           0   \n",
       "96452                                0                           0   \n",
       "\n",
       "       Summary_Windy and Partly Cloudy  Precip Type_rain  Precip Type_snow  \n",
       "0                                    0                 1                 0  \n",
       "1                                    0                 1                 0  \n",
       "2                                    0                 1                 0  \n",
       "3                                    0                 1                 0  \n",
       "4                                    0                 1                 0  \n",
       "...                                ...               ...               ...  \n",
       "96448                                0                 1                 0  \n",
       "96449                                0                 1                 0  \n",
       "96450                                0                 1                 0  \n",
       "96451                                0                 1                 0  \n",
       "96452                                0                 1                 0  \n",
       "\n",
       "[96453 rows x 29 columns]"
      ]
     },
     "execution_count": 171,
     "metadata": {},
     "output_type": "execute_result"
    }
   ],
   "source": [
    "X_cat = pd.get_dummies(X.iloc[:, 1:3])\n",
    "X_cat"
   ]
  },
  {
   "cell_type": "markdown",
   "metadata": {},
   "source": [
    "Чтобы модель была МНК-идентифицируема, необходимо удалить по одному столбцу из перекодированных \"Summary\" и \"Precip Type\""
   ]
  },
  {
   "cell_type": "code",
   "execution_count": 172,
   "metadata": {
    "ExecuteTime": {
     "end_time": "2021-12-15T14:22:20.366297Z",
     "start_time": "2021-12-15T14:22:20.350282Z"
    }
   },
   "outputs": [],
   "source": [
    "X_cat.drop('Summary_Dangerously Windy and Partly Cloudy', axis=1, inplace=True)\n",
    "X_cat.drop('Precip Type_rain', axis=1, inplace=True)"
   ]
  },
  {
   "cell_type": "code",
   "execution_count": 173,
   "metadata": {
    "ExecuteTime": {
     "end_time": "2021-12-15T14:22:22.791590Z",
     "start_time": "2021-12-15T14:22:22.751064Z"
    }
   },
   "outputs": [
    {
     "name": "stderr",
     "output_type": "stream",
     "text": [
      "C:\\Users\\zolotarev\\Anaconda3\\lib\\site-packages\\pandas\\core\\frame.py:4308: SettingWithCopyWarning: \n",
      "A value is trying to be set on a copy of a slice from a DataFrame\n",
      "\n",
      "See the caveats in the documentation: https://pandas.pydata.org/pandas-docs/stable/user_guide/indexing.html#returning-a-view-versus-a-copy\n",
      "  return super().drop(\n"
     ]
    },
    {
     "data": {
      "text/html": [
       "<div>\n",
       "<style scoped>\n",
       "    .dataframe tbody tr th:only-of-type {\n",
       "        vertical-align: middle;\n",
       "    }\n",
       "\n",
       "    .dataframe tbody tr th {\n",
       "        vertical-align: top;\n",
       "    }\n",
       "\n",
       "    .dataframe thead th {\n",
       "        text-align: right;\n",
       "    }\n",
       "</style>\n",
       "<table border=\"1\" class=\"dataframe\">\n",
       "  <thead>\n",
       "    <tr style=\"text-align: right;\">\n",
       "      <th></th>\n",
       "      <th>previous_apparent_t</th>\n",
       "      <th>Humidity</th>\n",
       "      <th>Wind Speed (km/h)</th>\n",
       "      <th>Wind Bearing (degrees)</th>\n",
       "      <th>Visibility (km)</th>\n",
       "      <th>Pressure (millibars)</th>\n",
       "      <th>Summary_Breezy</th>\n",
       "      <th>Summary_Breezy and Dry</th>\n",
       "      <th>Summary_Breezy and Foggy</th>\n",
       "      <th>Summary_Breezy and Mostly Cloudy</th>\n",
       "      <th>...</th>\n",
       "      <th>Summary_Overcast</th>\n",
       "      <th>Summary_Partly Cloudy</th>\n",
       "      <th>Summary_Rain</th>\n",
       "      <th>Summary_Windy</th>\n",
       "      <th>Summary_Windy and Dry</th>\n",
       "      <th>Summary_Windy and Foggy</th>\n",
       "      <th>Summary_Windy and Mostly Cloudy</th>\n",
       "      <th>Summary_Windy and Overcast</th>\n",
       "      <th>Summary_Windy and Partly Cloudy</th>\n",
       "      <th>Precip Type_snow</th>\n",
       "    </tr>\n",
       "  </thead>\n",
       "  <tbody>\n",
       "    <tr>\n",
       "      <th>0</th>\n",
       "      <td>0.000000</td>\n",
       "      <td>0.89</td>\n",
       "      <td>14.1197</td>\n",
       "      <td>251.0</td>\n",
       "      <td>15.8263</td>\n",
       "      <td>1015.13</td>\n",
       "      <td>0</td>\n",
       "      <td>0</td>\n",
       "      <td>0</td>\n",
       "      <td>0</td>\n",
       "      <td>...</td>\n",
       "      <td>0</td>\n",
       "      <td>1</td>\n",
       "      <td>0</td>\n",
       "      <td>0</td>\n",
       "      <td>0</td>\n",
       "      <td>0</td>\n",
       "      <td>0</td>\n",
       "      <td>0</td>\n",
       "      <td>0</td>\n",
       "      <td>0</td>\n",
       "    </tr>\n",
       "    <tr>\n",
       "      <th>1</th>\n",
       "      <td>0.000000</td>\n",
       "      <td>0.86</td>\n",
       "      <td>14.2646</td>\n",
       "      <td>259.0</td>\n",
       "      <td>15.8263</td>\n",
       "      <td>1015.63</td>\n",
       "      <td>0</td>\n",
       "      <td>0</td>\n",
       "      <td>0</td>\n",
       "      <td>0</td>\n",
       "      <td>...</td>\n",
       "      <td>0</td>\n",
       "      <td>1</td>\n",
       "      <td>0</td>\n",
       "      <td>0</td>\n",
       "      <td>0</td>\n",
       "      <td>0</td>\n",
       "      <td>0</td>\n",
       "      <td>0</td>\n",
       "      <td>0</td>\n",
       "      <td>0</td>\n",
       "    </tr>\n",
       "    <tr>\n",
       "      <th>2</th>\n",
       "      <td>0.000000</td>\n",
       "      <td>0.89</td>\n",
       "      <td>3.9284</td>\n",
       "      <td>204.0</td>\n",
       "      <td>14.9569</td>\n",
       "      <td>1015.94</td>\n",
       "      <td>0</td>\n",
       "      <td>0</td>\n",
       "      <td>0</td>\n",
       "      <td>0</td>\n",
       "      <td>...</td>\n",
       "      <td>0</td>\n",
       "      <td>0</td>\n",
       "      <td>0</td>\n",
       "      <td>0</td>\n",
       "      <td>0</td>\n",
       "      <td>0</td>\n",
       "      <td>0</td>\n",
       "      <td>0</td>\n",
       "      <td>0</td>\n",
       "      <td>0</td>\n",
       "    </tr>\n",
       "    <tr>\n",
       "      <th>3</th>\n",
       "      <td>0.000000</td>\n",
       "      <td>0.83</td>\n",
       "      <td>14.1036</td>\n",
       "      <td>269.0</td>\n",
       "      <td>15.8263</td>\n",
       "      <td>1016.41</td>\n",
       "      <td>0</td>\n",
       "      <td>0</td>\n",
       "      <td>0</td>\n",
       "      <td>0</td>\n",
       "      <td>...</td>\n",
       "      <td>0</td>\n",
       "      <td>1</td>\n",
       "      <td>0</td>\n",
       "      <td>0</td>\n",
       "      <td>0</td>\n",
       "      <td>0</td>\n",
       "      <td>0</td>\n",
       "      <td>0</td>\n",
       "      <td>0</td>\n",
       "      <td>0</td>\n",
       "    </tr>\n",
       "    <tr>\n",
       "      <th>4</th>\n",
       "      <td>0.000000</td>\n",
       "      <td>0.83</td>\n",
       "      <td>11.0446</td>\n",
       "      <td>259.0</td>\n",
       "      <td>15.8263</td>\n",
       "      <td>1016.51</td>\n",
       "      <td>0</td>\n",
       "      <td>0</td>\n",
       "      <td>0</td>\n",
       "      <td>0</td>\n",
       "      <td>...</td>\n",
       "      <td>0</td>\n",
       "      <td>0</td>\n",
       "      <td>0</td>\n",
       "      <td>0</td>\n",
       "      <td>0</td>\n",
       "      <td>0</td>\n",
       "      <td>0</td>\n",
       "      <td>0</td>\n",
       "      <td>0</td>\n",
       "      <td>0</td>\n",
       "    </tr>\n",
       "    <tr>\n",
       "      <th>...</th>\n",
       "      <td>...</td>\n",
       "      <td>...</td>\n",
       "      <td>...</td>\n",
       "      <td>...</td>\n",
       "      <td>...</td>\n",
       "      <td>...</td>\n",
       "      <td>...</td>\n",
       "      <td>...</td>\n",
       "      <td>...</td>\n",
       "      <td>...</td>\n",
       "      <td>...</td>\n",
       "      <td>...</td>\n",
       "      <td>...</td>\n",
       "      <td>...</td>\n",
       "      <td>...</td>\n",
       "      <td>...</td>\n",
       "      <td>...</td>\n",
       "      <td>...</td>\n",
       "      <td>...</td>\n",
       "      <td>...</td>\n",
       "      <td>...</td>\n",
       "    </tr>\n",
       "    <tr>\n",
       "      <th>96448</th>\n",
       "      <td>24.905556</td>\n",
       "      <td>0.43</td>\n",
       "      <td>10.9963</td>\n",
       "      <td>31.0</td>\n",
       "      <td>16.1000</td>\n",
       "      <td>1014.36</td>\n",
       "      <td>0</td>\n",
       "      <td>0</td>\n",
       "      <td>0</td>\n",
       "      <td>0</td>\n",
       "      <td>...</td>\n",
       "      <td>0</td>\n",
       "      <td>1</td>\n",
       "      <td>0</td>\n",
       "      <td>0</td>\n",
       "      <td>0</td>\n",
       "      <td>0</td>\n",
       "      <td>0</td>\n",
       "      <td>0</td>\n",
       "      <td>0</td>\n",
       "      <td>0</td>\n",
       "    </tr>\n",
       "    <tr>\n",
       "      <th>96449</th>\n",
       "      <td>22.366667</td>\n",
       "      <td>0.48</td>\n",
       "      <td>10.0947</td>\n",
       "      <td>20.0</td>\n",
       "      <td>15.5526</td>\n",
       "      <td>1015.16</td>\n",
       "      <td>0</td>\n",
       "      <td>0</td>\n",
       "      <td>0</td>\n",
       "      <td>0</td>\n",
       "      <td>...</td>\n",
       "      <td>0</td>\n",
       "      <td>1</td>\n",
       "      <td>0</td>\n",
       "      <td>0</td>\n",
       "      <td>0</td>\n",
       "      <td>0</td>\n",
       "      <td>0</td>\n",
       "      <td>0</td>\n",
       "      <td>0</td>\n",
       "      <td>0</td>\n",
       "    </tr>\n",
       "    <tr>\n",
       "      <th>96450</th>\n",
       "      <td>21.016667</td>\n",
       "      <td>0.56</td>\n",
       "      <td>8.9838</td>\n",
       "      <td>30.0</td>\n",
       "      <td>16.1000</td>\n",
       "      <td>1015.66</td>\n",
       "      <td>0</td>\n",
       "      <td>0</td>\n",
       "      <td>0</td>\n",
       "      <td>0</td>\n",
       "      <td>...</td>\n",
       "      <td>0</td>\n",
       "      <td>1</td>\n",
       "      <td>0</td>\n",
       "      <td>0</td>\n",
       "      <td>0</td>\n",
       "      <td>0</td>\n",
       "      <td>0</td>\n",
       "      <td>0</td>\n",
       "      <td>0</td>\n",
       "      <td>0</td>\n",
       "    </tr>\n",
       "    <tr>\n",
       "      <th>96451</th>\n",
       "      <td>19.927778</td>\n",
       "      <td>0.60</td>\n",
       "      <td>10.5294</td>\n",
       "      <td>20.0</td>\n",
       "      <td>16.1000</td>\n",
       "      <td>1015.95</td>\n",
       "      <td>0</td>\n",
       "      <td>0</td>\n",
       "      <td>0</td>\n",
       "      <td>0</td>\n",
       "      <td>...</td>\n",
       "      <td>0</td>\n",
       "      <td>1</td>\n",
       "      <td>0</td>\n",
       "      <td>0</td>\n",
       "      <td>0</td>\n",
       "      <td>0</td>\n",
       "      <td>0</td>\n",
       "      <td>0</td>\n",
       "      <td>0</td>\n",
       "      <td>0</td>\n",
       "    </tr>\n",
       "    <tr>\n",
       "      <th>96452</th>\n",
       "      <td>18.350000</td>\n",
       "      <td>0.61</td>\n",
       "      <td>5.8765</td>\n",
       "      <td>39.0</td>\n",
       "      <td>15.5204</td>\n",
       "      <td>1016.16</td>\n",
       "      <td>0</td>\n",
       "      <td>0</td>\n",
       "      <td>0</td>\n",
       "      <td>0</td>\n",
       "      <td>...</td>\n",
       "      <td>0</td>\n",
       "      <td>1</td>\n",
       "      <td>0</td>\n",
       "      <td>0</td>\n",
       "      <td>0</td>\n",
       "      <td>0</td>\n",
       "      <td>0</td>\n",
       "      <td>0</td>\n",
       "      <td>0</td>\n",
       "      <td>0</td>\n",
       "    </tr>\n",
       "  </tbody>\n",
       "</table>\n",
       "<p>96453 rows × 33 columns</p>\n",
       "</div>"
      ],
      "text/plain": [
       "       previous_apparent_t  Humidity  Wind Speed (km/h)  \\\n",
       "0                 0.000000      0.89            14.1197   \n",
       "1                 0.000000      0.86            14.2646   \n",
       "2                 0.000000      0.89             3.9284   \n",
       "3                 0.000000      0.83            14.1036   \n",
       "4                 0.000000      0.83            11.0446   \n",
       "...                    ...       ...                ...   \n",
       "96448            24.905556      0.43            10.9963   \n",
       "96449            22.366667      0.48            10.0947   \n",
       "96450            21.016667      0.56             8.9838   \n",
       "96451            19.927778      0.60            10.5294   \n",
       "96452            18.350000      0.61             5.8765   \n",
       "\n",
       "       Wind Bearing (degrees)  Visibility (km)  Pressure (millibars)  \\\n",
       "0                       251.0          15.8263               1015.13   \n",
       "1                       259.0          15.8263               1015.63   \n",
       "2                       204.0          14.9569               1015.94   \n",
       "3                       269.0          15.8263               1016.41   \n",
       "4                       259.0          15.8263               1016.51   \n",
       "...                       ...              ...                   ...   \n",
       "96448                    31.0          16.1000               1014.36   \n",
       "96449                    20.0          15.5526               1015.16   \n",
       "96450                    30.0          16.1000               1015.66   \n",
       "96451                    20.0          16.1000               1015.95   \n",
       "96452                    39.0          15.5204               1016.16   \n",
       "\n",
       "       Summary_Breezy  Summary_Breezy and Dry  Summary_Breezy and Foggy  \\\n",
       "0                   0                       0                         0   \n",
       "1                   0                       0                         0   \n",
       "2                   0                       0                         0   \n",
       "3                   0                       0                         0   \n",
       "4                   0                       0                         0   \n",
       "...               ...                     ...                       ...   \n",
       "96448               0                       0                         0   \n",
       "96449               0                       0                         0   \n",
       "96450               0                       0                         0   \n",
       "96451               0                       0                         0   \n",
       "96452               0                       0                         0   \n",
       "\n",
       "       Summary_Breezy and Mostly Cloudy  ...  Summary_Overcast  \\\n",
       "0                                     0  ...                 0   \n",
       "1                                     0  ...                 0   \n",
       "2                                     0  ...                 0   \n",
       "3                                     0  ...                 0   \n",
       "4                                     0  ...                 0   \n",
       "...                                 ...  ...               ...   \n",
       "96448                                 0  ...                 0   \n",
       "96449                                 0  ...                 0   \n",
       "96450                                 0  ...                 0   \n",
       "96451                                 0  ...                 0   \n",
       "96452                                 0  ...                 0   \n",
       "\n",
       "       Summary_Partly Cloudy  Summary_Rain  Summary_Windy  \\\n",
       "0                          1             0              0   \n",
       "1                          1             0              0   \n",
       "2                          0             0              0   \n",
       "3                          1             0              0   \n",
       "4                          0             0              0   \n",
       "...                      ...           ...            ...   \n",
       "96448                      1             0              0   \n",
       "96449                      1             0              0   \n",
       "96450                      1             0              0   \n",
       "96451                      1             0              0   \n",
       "96452                      1             0              0   \n",
       "\n",
       "       Summary_Windy and Dry  Summary_Windy and Foggy  \\\n",
       "0                          0                        0   \n",
       "1                          0                        0   \n",
       "2                          0                        0   \n",
       "3                          0                        0   \n",
       "4                          0                        0   \n",
       "...                      ...                      ...   \n",
       "96448                      0                        0   \n",
       "96449                      0                        0   \n",
       "96450                      0                        0   \n",
       "96451                      0                        0   \n",
       "96452                      0                        0   \n",
       "\n",
       "       Summary_Windy and Mostly Cloudy  Summary_Windy and Overcast  \\\n",
       "0                                    0                           0   \n",
       "1                                    0                           0   \n",
       "2                                    0                           0   \n",
       "3                                    0                           0   \n",
       "4                                    0                           0   \n",
       "...                                ...                         ...   \n",
       "96448                                0                           0   \n",
       "96449                                0                           0   \n",
       "96450                                0                           0   \n",
       "96451                                0                           0   \n",
       "96452                                0                           0   \n",
       "\n",
       "       Summary_Windy and Partly Cloudy  Precip Type_snow  \n",
       "0                                    0                 0  \n",
       "1                                    0                 0  \n",
       "2                                    0                 0  \n",
       "3                                    0                 0  \n",
       "4                                    0                 0  \n",
       "...                                ...               ...  \n",
       "96448                                0                 0  \n",
       "96449                                0                 0  \n",
       "96450                                0                 0  \n",
       "96451                                0                 0  \n",
       "96452                                0                 0  \n",
       "\n",
       "[96453 rows x 33 columns]"
      ]
     },
     "execution_count": 173,
     "metadata": {},
     "output_type": "execute_result"
    }
   ],
   "source": [
    "X.drop(['Summary', 'Precip Type'], axis=1, inplace=True)\n",
    "X = pd.concat([X, X_cat], axis=1)\n",
    "X"
   ]
  },
  {
   "cell_type": "markdown",
   "metadata": {
    "id": "WBPSmzu-8ZL5"
   },
   "source": [
    "**Пункт 2.** Изучите зависимости между зависимой и переменной и выбранными вами независимыми переменными. На основе проведённого анализа задайте функциональную форму модели. Например:\n",
    "\n",
    "$$\n",
    "\\ln y_i = \\beta_0 + \\beta_1X_{1i} + \\beta_2X_{1i}^2 + \\beta_3\\ln X_{3i} + u_i\n",
    "$$\n",
    "\n",
    "Запишите выбранный вид модели в виде уравнения (например, в ячейке Markdown ниже) и прокомментируйте, почему он разумен (например, почему разумно взять не просто $X_1$, но ещё и его квадрат или взять не просто $y$, а его логарифм)."
   ]
  },
  {
   "cell_type": "code",
   "execution_count": 174,
   "metadata": {
    "ExecuteTime": {
     "end_time": "2021-12-15T14:22:40.486947Z",
     "start_time": "2021-12-15T14:22:40.372719Z"
    }
   },
   "outputs": [
    {
     "data": {
      "text/plain": [
       "previous_apparent_t                 0.879251\n",
       "Humidity                           -0.635570\n",
       "Wind Speed (km/h)                   0.008957\n",
       "Wind Bearing (degrees)              0.029988\n",
       "Visibility (km)                     0.392847\n",
       "Pressure (millibars)               -0.308205\n",
       "Summary_Breezy                     -0.009938\n",
       "Summary_Breezy and Dry              0.003094\n",
       "Summary_Breezy and Foggy           -0.024820\n",
       "Summary_Breezy and Mostly Cloudy   -0.006444\n",
       "Summary_Breezy and Overcast        -0.036438\n",
       "Summary_Breezy and Partly Cloudy    0.003717\n",
       "Summary_Clear                      -0.000283\n",
       "Summary_Drizzle                    -0.002285\n",
       "Summary_Dry                         0.033719\n",
       "Summary_Dry and Mostly Cloudy       0.018803\n",
       "Summary_Dry and Partly Cloudy       0.045892\n",
       "Summary_Foggy                      -0.310080\n",
       "Summary_Humid and Mostly Cloudy     0.019094\n",
       "Summary_Humid and Overcast          0.008547\n",
       "Summary_Humid and Partly Cloudy     0.013394\n",
       "Summary_Light Rain                 -0.005115\n",
       "Summary_Mostly Cloudy               0.046758\n",
       "Summary_Overcast                   -0.210783\n",
       "Summary_Partly Cloudy               0.299993\n",
       "Summary_Rain                       -0.001958\n",
       "Summary_Windy                      -0.004890\n",
       "Summary_Windy and Dry               0.005154\n",
       "Summary_Windy and Foggy            -0.000038\n",
       "Summary_Windy and Mostly Cloudy    -0.000196\n",
       "Summary_Windy and Overcast         -0.009047\n",
       "Summary_Windy and Partly Cloudy    -0.005423\n",
       "Precip Type_snow                   -0.562620\n",
       "dtype: float64"
      ]
     },
     "execution_count": 174,
     "metadata": {},
     "output_type": "execute_result"
    }
   ],
   "source": [
    "X.corrwith(y)"
   ]
  },
  {
   "cell_type": "code",
   "execution_count": 175,
   "metadata": {
    "ExecuteTime": {
     "end_time": "2021-12-15T14:28:03.093017Z",
     "start_time": "2021-12-15T14:28:03.088010Z"
    }
   },
   "outputs": [
    {
     "data": {
      "text/plain": [
       "Index(['previous_apparent_t', 'Humidity', 'Wind Speed (km/h)',\n",
       "       'Wind Bearing (degrees)', 'Visibility (km)', 'Pressure (millibars)',\n",
       "       'Summary_Breezy', 'Summary_Breezy and Dry', 'Summary_Breezy and Foggy',\n",
       "       'Summary_Breezy and Mostly Cloudy', 'Summary_Breezy and Overcast',\n",
       "       'Summary_Breezy and Partly Cloudy', 'Summary_Clear', 'Summary_Drizzle',\n",
       "       'Summary_Dry', 'Summary_Dry and Mostly Cloudy',\n",
       "       'Summary_Dry and Partly Cloudy', 'Summary_Foggy',\n",
       "       'Summary_Humid and Mostly Cloudy', 'Summary_Humid and Overcast',\n",
       "       'Summary_Humid and Partly Cloudy', 'Summary_Light Rain',\n",
       "       'Summary_Mostly Cloudy', 'Summary_Overcast', 'Summary_Partly Cloudy',\n",
       "       'Summary_Rain', 'Summary_Windy', 'Summary_Windy and Dry',\n",
       "       'Summary_Windy and Foggy', 'Summary_Windy and Mostly Cloudy',\n",
       "       'Summary_Windy and Overcast', 'Summary_Windy and Partly Cloudy',\n",
       "       'Precip Type_snow'],\n",
       "      dtype='object')"
      ]
     },
     "execution_count": 175,
     "metadata": {},
     "output_type": "execute_result"
    }
   ],
   "source": [
    "X.columns"
   ]
  },
  {
   "cell_type": "code",
   "execution_count": 176,
   "metadata": {
    "ExecuteTime": {
     "end_time": "2021-12-15T14:28:23.962866Z",
     "start_time": "2021-12-15T14:28:23.949864Z"
    }
   },
   "outputs": [],
   "source": [
    "numerical_cols = ['previous_apparent_t', 'Humidity', 'Wind Speed (km/h)',\n",
    "       'Wind Bearing (degrees)', 'Visibility (km)', 'Pressure (millibars)']"
   ]
  },
  {
   "cell_type": "code",
   "execution_count": 189,
   "metadata": {
    "ExecuteTime": {
     "end_time": "2021-12-15T14:40:35.689153Z",
     "start_time": "2021-12-15T14:40:28.419444Z"
    },
    "scrolled": true
   },
   "outputs": [
    {
     "data": {
      "text/plain": [
       "<seaborn.axisgrid.FacetGrid at 0x22aefa8c550>"
      ]
     },
     "execution_count": 189,
     "metadata": {},
     "output_type": "execute_result"
    },
    {
     "data": {
      "image/png": "[encoded data removed]",
      "text/plain": [
       "<Figure size 360x360 with 1 Axes>"
      ]
     },
     "metadata": {
      "needs_background": "light"
     },
     "output_type": "display_data"
    }
   ],
   "source": [
    "import seaborn as sns\n",
    "df = pd.concat([X, y], axis=1)\n",
    "sns.lmplot(x='previous_apparent_t', y='Temperature (C)',data=df,fit_reg=True) "
   ]
  },
  {
   "cell_type": "code",
   "execution_count": 190,
   "metadata": {
    "ExecuteTime": {
     "end_time": "2021-12-15T14:41:44.142878Z",
     "start_time": "2021-12-15T14:41:36.897055Z"
    },
    "id": "79BGzGLs8ZL6"
   },
   "outputs": [
    {
     "data": {
      "text/plain": [
       "<seaborn.axisgrid.FacetGrid at 0x22af3251310>"
      ]
     },
     "execution_count": 190,
     "metadata": {},
     "output_type": "execute_result"
    },
    {
     "data": {
      "image/png": "[encoded data removed]",
      "text/plain": [
       "<Figure size 360x360 with 1 Axes>"
      ]
     },
     "metadata": {
      "needs_background": "light"
     },
     "output_type": "display_data"
    }
   ],
   "source": [
    "sns.lmplot(x='Humidity', y='Temperature (C)',data=df,fit_reg=True) "
   ]
  },
  {
   "cell_type": "code",
   "execution_count": 191,
   "metadata": {
    "ExecuteTime": {
     "end_time": "2021-12-15T14:41:51.879225Z",
     "start_time": "2021-12-15T14:41:44.705602Z"
    }
   },
   "outputs": [
    {
     "data": {
      "text/plain": [
       "<seaborn.axisgrid.FacetGrid at 0x22af32a1ac0>"
      ]
     },
     "execution_count": 191,
     "metadata": {},
     "output_type": "execute_result"
    },
    {
     "data": {
      "image/png": "[encoded data removed]",
      "text/plain": [
       "<Figure size 360x360 with 1 Axes>"
      ]
     },
     "metadata": {
      "needs_background": "light"
     },
     "output_type": "display_data"
    }
   ],
   "source": [
    "sns.lmplot(x='Wind Speed (km/h)', y='Temperature (C)',data=df,fit_reg=True) "
   ]
  },
  {
   "cell_type": "code",
   "execution_count": 192,
   "metadata": {
    "ExecuteTime": {
     "end_time": "2021-12-15T14:41:59.667102Z",
     "start_time": "2021-12-15T14:41:52.392885Z"
    }
   },
   "outputs": [
    {
     "data": {
      "text/plain": [
       "<seaborn.axisgrid.FacetGrid at 0x22af3284580>"
      ]
     },
     "execution_count": 192,
     "metadata": {},
     "output_type": "execute_result"
    },
    {
     "data": {
      "image/png": "[encoded data removed]",
      "text/plain": [
       "<Figure size 360x360 with 1 Axes>"
      ]
     },
     "metadata": {
      "needs_background": "light"
     },
     "output_type": "display_data"
    }
   ],
   "source": [
    "sns.lmplot(x='Wind Bearing (degrees)', y='Temperature (C)',data=df,fit_reg=True) "
   ]
  },
  {
   "cell_type": "code",
   "execution_count": 193,
   "metadata": {
    "ExecuteTime": {
     "end_time": "2021-12-15T14:42:07.427960Z",
     "start_time": "2021-12-15T14:42:00.254741Z"
    }
   },
   "outputs": [
    {
     "data": {
      "text/plain": [
       "<seaborn.axisgrid.FacetGrid at 0x22af38451c0>"
      ]
     },
     "execution_count": 193,
     "metadata": {},
     "output_type": "execute_result"
    },
    {
     "data": {
      "image/png": "[encoded data removed]",
      "text/plain": [
       "<Figure size 360x360 with 1 Axes>"
      ]
     },
     "metadata": {
      "needs_background": "light"
     },
     "output_type": "display_data"
    }
   ],
   "source": [
    "sns.lmplot(x='Visibility (km)', y='Temperature (C)',data=df,fit_reg=True) "
   ]
  },
  {
   "cell_type": "code",
   "execution_count": 194,
   "metadata": {
    "ExecuteTime": {
     "end_time": "2021-12-15T14:42:15.243506Z",
     "start_time": "2021-12-15T14:42:07.971241Z"
    }
   },
   "outputs": [
    {
     "data": {
      "text/plain": [
       "<seaborn.axisgrid.FacetGrid at 0x22af4c14c40>"
      ]
     },
     "execution_count": 194,
     "metadata": {},
     "output_type": "execute_result"
    },
    {
     "data": {
      "image/png": "[encoded data removed]",
      "text/plain": [
       "<Figure size 360x360 with 1 Axes>"
      ]
     },
     "metadata": {
      "needs_background": "light"
     },
     "output_type": "display_data"
    }
   ],
   "source": [
    "sns.lmplot(x='Pressure (millibars)', y='Temperature (C)',data=df,fit_reg=True) "
   ]
  },
  {
   "cell_type": "markdown",
   "metadata": {},
   "source": [
    "Кажется, что во всех числовых признаках зависимость линейная"
   ]
  },
  {
   "cell_type": "markdown",
   "metadata": {},
   "source": [
    "$y_i = \\beta_0+$"
   ]
  },
  {
   "cell_type": "markdown",
   "metadata": {
    "id": "QGauBiEc8ZL6"
   },
   "source": [
    "**Пункт 3.** Оцените выбранную модель при помощи МНК. Значима ли регрессия в целом? Если да, переходите к следующему пункту, если нет, то задайте другую функциональную форму модели."
   ]
  },
  {
   "cell_type": "code",
   "execution_count": 200,
   "metadata": {
    "ExecuteTime": {
     "end_time": "2021-12-15T14:47:14.409337Z",
     "start_time": "2021-12-15T14:47:14.064871Z"
    },
    "id": "a_bhoaji8ZL6"
   },
   "outputs": [
    {
     "data": {
      "text/html": [
       "<table class=\"simpletable\">\n",
       "<caption>OLS Regression Results</caption>\n",
       "<tr>\n",
       "  <th>Dep. Variable:</th>     <td>Temperature (C)</td> <th>  R-squared:         </th>  <td>   0.853</td>  \n",
       "</tr>\n",
       "<tr>\n",
       "  <th>Model:</th>                   <td>OLS</td>       <th>  Adj. R-squared:    </th>  <td>   0.853</td>  \n",
       "</tr>\n",
       "<tr>\n",
       "  <th>Method:</th>             <td>Least Squares</td>  <th>  F-statistic:       </th>  <td>1.695e+04</td> \n",
       "</tr>\n",
       "<tr>\n",
       "  <th>Date:</th>             <td>Wed, 15 Dec 2021</td> <th>  Prob (F-statistic):</th>   <td>  0.00</td>   \n",
       "</tr>\n",
       "<tr>\n",
       "  <th>Time:</th>                 <td>17:47:14</td>     <th>  Log-Likelihood:    </th> <td>-2.6207e+05</td>\n",
       "</tr>\n",
       "<tr>\n",
       "  <th>No. Observations:</th>      <td> 96453</td>      <th>  AIC:               </th>  <td>5.242e+05</td> \n",
       "</tr>\n",
       "<tr>\n",
       "  <th>Df Residuals:</th>          <td> 96419</td>      <th>  BIC:               </th>  <td>5.245e+05</td> \n",
       "</tr>\n",
       "<tr>\n",
       "  <th>Df Model:</th>              <td>    33</td>      <th>                     </th>      <td> </td>     \n",
       "</tr>\n",
       "<tr>\n",
       "  <th>Covariance Type:</th>      <td>nonrobust</td>    <th>                     </th>      <td> </td>     \n",
       "</tr>\n",
       "</table>\n",
       "<table class=\"simpletable\">\n",
       "<tr>\n",
       "                  <td></td>                    <th>coef</th>     <th>std err</th>      <th>t</th>      <th>P>|t|</th>  <th>[0.025</th>    <th>0.975]</th>  \n",
       "</tr>\n",
       "<tr>\n",
       "  <th>const</th>                            <td>  160.7792</td> <td>    4.080</td> <td>   39.411</td> <td> 0.000</td> <td>  152.783</td> <td>  168.775</td>\n",
       "</tr>\n",
       "<tr>\n",
       "  <th>previous_apparent_t</th>              <td>    0.5476</td> <td>    0.002</td> <td>  357.835</td> <td> 0.000</td> <td>    0.545</td> <td>    0.551</td>\n",
       "</tr>\n",
       "<tr>\n",
       "  <th>Humidity</th>                         <td>  -13.4109</td> <td>    0.081</td> <td> -165.183</td> <td> 0.000</td> <td>  -13.570</td> <td>  -13.252</td>\n",
       "</tr>\n",
       "<tr>\n",
       "  <th>Wind Speed (km/h)</th>                <td>   -0.1141</td> <td>    0.002</td> <td>  -53.664</td> <td> 0.000</td> <td>   -0.118</td> <td>   -0.110</td>\n",
       "</tr>\n",
       "<tr>\n",
       "  <th>Wind Bearing (degrees)</th>           <td>   -0.0011</td> <td>    0.000</td> <td>   -9.540</td> <td> 0.000</td> <td>   -0.001</td> <td>   -0.001</td>\n",
       "</tr>\n",
       "<tr>\n",
       "  <th>Visibility (km)</th>                  <td>    0.0383</td> <td>    0.004</td> <td>   10.240</td> <td> 0.000</td> <td>    0.031</td> <td>    0.046</td>\n",
       "</tr>\n",
       "<tr>\n",
       "  <th>Pressure (millibars)</th>             <td>   -0.1369</td> <td>    0.002</td> <td>  -79.070</td> <td> 0.000</td> <td>   -0.140</td> <td>   -0.134</td>\n",
       "</tr>\n",
       "<tr>\n",
       "  <th>Summary_Breezy</th>                   <td>   -3.0572</td> <td>    3.697</td> <td>   -0.827</td> <td> 0.408</td> <td>  -10.304</td> <td>    4.190</td>\n",
       "</tr>\n",
       "<tr>\n",
       "  <th>Summary_Breezy and Dry</th>           <td>   -3.5037</td> <td>    5.181</td> <td>   -0.676</td> <td> 0.499</td> <td>  -13.658</td> <td>    6.651</td>\n",
       "</tr>\n",
       "<tr>\n",
       "  <th>Summary_Breezy and Foggy</th>         <td>   -2.8875</td> <td>    3.716</td> <td>   -0.777</td> <td> 0.437</td> <td>  -10.171</td> <td>    4.396</td>\n",
       "</tr>\n",
       "<tr>\n",
       "  <th>Summary_Breezy and Mostly Cloudy</th> <td>   -3.8417</td> <td>    3.667</td> <td>   -1.048</td> <td> 0.295</td> <td>  -11.029</td> <td>    3.346</td>\n",
       "</tr>\n",
       "<tr>\n",
       "  <th>Summary_Breezy and Overcast</th>      <td>   -4.1935</td> <td>    3.667</td> <td>   -1.144</td> <td> 0.253</td> <td>  -11.381</td> <td>    2.994</td>\n",
       "</tr>\n",
       "<tr>\n",
       "  <th>Summary_Breezy and Partly Cloudy</th> <td>   -4.2092</td> <td>    3.668</td> <td>   -1.147</td> <td> 0.251</td> <td>  -11.399</td> <td>    2.981</td>\n",
       "</tr>\n",
       "<tr>\n",
       "  <th>Summary_Clear</th>                    <td>   -4.2477</td> <td>    3.665</td> <td>   -1.159</td> <td> 0.246</td> <td>  -11.431</td> <td>    2.936</td>\n",
       "</tr>\n",
       "<tr>\n",
       "  <th>Summary_Drizzle</th>                  <td>   -3.0898</td> <td>    3.711</td> <td>   -0.833</td> <td> 0.405</td> <td>  -10.364</td> <td>    4.184</td>\n",
       "</tr>\n",
       "<tr>\n",
       "  <th>Summary_Dry</th>                      <td>   -1.8158</td> <td>    3.718</td> <td>   -0.488</td> <td> 0.625</td> <td>   -9.103</td> <td>    5.472</td>\n",
       "</tr>\n",
       "<tr>\n",
       "  <th>Summary_Dry and Mostly Cloudy</th>    <td>   -4.1970</td> <td>    3.793</td> <td>   -1.106</td> <td> 0.269</td> <td>  -11.632</td> <td>    3.238</td>\n",
       "</tr>\n",
       "<tr>\n",
       "  <th>Summary_Dry and Partly Cloudy</th>    <td>   -3.2700</td> <td>    3.686</td> <td>   -0.887</td> <td> 0.375</td> <td>  -10.495</td> <td>    3.955</td>\n",
       "</tr>\n",
       "<tr>\n",
       "  <th>Summary_Foggy</th>                    <td>   -4.1265</td> <td>    3.665</td> <td>   -1.126</td> <td> 0.260</td> <td>  -11.310</td> <td>    3.057</td>\n",
       "</tr>\n",
       "<tr>\n",
       "  <th>Summary_Humid and Mostly Cloudy</th>  <td>   -2.2335</td> <td>    3.710</td> <td>   -0.602</td> <td> 0.547</td> <td>   -9.506</td> <td>    5.039</td>\n",
       "</tr>\n",
       "<tr>\n",
       "  <th>Summary_Humid and Overcast</th>       <td>   -2.5967</td> <td>    3.918</td> <td>   -0.663</td> <td> 0.507</td> <td>  -10.275</td> <td>    5.082</td>\n",
       "</tr>\n",
       "<tr>\n",
       "  <th>Summary_Humid and Partly Cloudy</th>  <td>   -1.4763</td> <td>    3.771</td> <td>   -0.391</td> <td> 0.695</td> <td>   -8.867</td> <td>    5.915</td>\n",
       "</tr>\n",
       "<tr>\n",
       "  <th>Summary_Light Rain</th>               <td>   -4.0104</td> <td>    3.693</td> <td>   -1.086</td> <td> 0.278</td> <td>  -11.249</td> <td>    3.229</td>\n",
       "</tr>\n",
       "<tr>\n",
       "  <th>Summary_Mostly Cloudy</th>            <td>   -4.1234</td> <td>    3.665</td> <td>   -1.125</td> <td> 0.261</td> <td>  -11.306</td> <td>    3.059</td>\n",
       "</tr>\n",
       "<tr>\n",
       "  <th>Summary_Overcast</th>                 <td>   -4.5637</td> <td>    3.665</td> <td>   -1.245</td> <td> 0.213</td> <td>  -11.746</td> <td>    2.619</td>\n",
       "</tr>\n",
       "<tr>\n",
       "  <th>Summary_Partly Cloudy</th>            <td>   -3.8048</td> <td>    3.665</td> <td>   -1.038</td> <td> 0.299</td> <td>  -10.988</td> <td>    3.378</td>\n",
       "</tr>\n",
       "<tr>\n",
       "  <th>Summary_Rain</th>                     <td>   -2.3712</td> <td>    3.844</td> <td>   -0.617</td> <td> 0.537</td> <td>   -9.905</td> <td>    5.162</td>\n",
       "</tr>\n",
       "<tr>\n",
       "  <th>Summary_Windy</th>                    <td>   -4.0288</td> <td>    3.886</td> <td>   -1.037</td> <td> 0.300</td> <td>  -11.644</td> <td>    3.587</td>\n",
       "</tr>\n",
       "<tr>\n",
       "  <th>Summary_Windy and Dry</th>            <td>   -0.5597</td> <td>    5.181</td> <td>   -0.108</td> <td> 0.914</td> <td>  -10.714</td> <td>    9.595</td>\n",
       "</tr>\n",
       "<tr>\n",
       "  <th>Summary_Windy and Foggy</th>          <td>   -0.0052</td> <td>    4.096</td> <td>   -0.001</td> <td> 0.999</td> <td>   -8.033</td> <td>    8.023</td>\n",
       "</tr>\n",
       "<tr>\n",
       "  <th>Summary_Windy and Mostly Cloudy</th>  <td>   -2.4720</td> <td>    3.715</td> <td>   -0.665</td> <td> 0.506</td> <td>   -9.754</td> <td>    4.810</td>\n",
       "</tr>\n",
       "<tr>\n",
       "  <th>Summary_Windy and Overcast</th>       <td>   -4.0133</td> <td>    3.704</td> <td>   -1.084</td> <td> 0.279</td> <td>  -11.273</td> <td>    3.246</td>\n",
       "</tr>\n",
       "<tr>\n",
       "  <th>Summary_Windy and Partly Cloudy</th>  <td>   -3.5141</td> <td>    3.691</td> <td>   -0.952</td> <td> 0.341</td> <td>  -10.747</td> <td>    3.719</td>\n",
       "</tr>\n",
       "<tr>\n",
       "  <th>Precip Type_snow</th>                 <td>   -4.9299</td> <td>    0.045</td> <td> -109.696</td> <td> 0.000</td> <td>   -5.018</td> <td>   -4.842</td>\n",
       "</tr>\n",
       "</table>\n",
       "<table class=\"simpletable\">\n",
       "<tr>\n",
       "  <th>Omnibus:</th>       <td>5738.086</td> <th>  Durbin-Watson:     </th> <td>   0.169</td> \n",
       "</tr>\n",
       "<tr>\n",
       "  <th>Prob(Omnibus):</th>  <td> 0.000</td>  <th>  Jarque-Bera (JB):  </th> <td>21351.672</td>\n",
       "</tr>\n",
       "<tr>\n",
       "  <th>Skew:</th>           <td>-0.198</td>  <th>  Prob(JB):          </th> <td>    0.00</td> \n",
       "</tr>\n",
       "<tr>\n",
       "  <th>Kurtosis:</th>       <td> 5.271</td>  <th>  Cond. No.          </th> <td>1.67e+06</td> \n",
       "</tr>\n",
       "</table><br/><br/>Notes:<br/>[1] Standard Errors assume that the covariance matrix of the errors is correctly specified.<br/>[2] The condition number is large, 1.67e+06. This might indicate that there are<br/>strong multicollinearity or other numerical problems."
      ],
      "text/plain": [
       "<class 'statsmodels.iolib.summary.Summary'>\n",
       "\"\"\"\n",
       "                            OLS Regression Results                            \n",
       "==============================================================================\n",
       "Dep. Variable:        Temperature (C)   R-squared:                       0.853\n",
       "Model:                            OLS   Adj. R-squared:                  0.853\n",
       "Method:                 Least Squares   F-statistic:                 1.695e+04\n",
       "Date:                Wed, 15 Dec 2021   Prob (F-statistic):               0.00\n",
       "Time:                        17:47:14   Log-Likelihood:            -2.6207e+05\n",
       "No. Observations:               96453   AIC:                         5.242e+05\n",
       "Df Residuals:                   96419   BIC:                         5.245e+05\n",
       "Df Model:                          33                                         \n",
       "Covariance Type:            nonrobust                                         \n",
       "====================================================================================================\n",
       "                                       coef    std err          t      P>|t|      [0.025      0.975]\n",
       "----------------------------------------------------------------------------------------------------\n",
       "const                              160.7792      4.080     39.411      0.000     152.783     168.775\n",
       "previous_apparent_t                  0.5476      0.002    357.835      0.000       0.545       0.551\n",
       "Humidity                           -13.4109      0.081   -165.183      0.000     -13.570     -13.252\n",
       "Wind Speed (km/h)                   -0.1141      0.002    -53.664      0.000      -0.118      -0.110\n",
       "Wind Bearing (degrees)              -0.0011      0.000     -9.540      0.000      -0.001      -0.001\n",
       "Visibility (km)                      0.0383      0.004     10.240      0.000       0.031       0.046\n",
       "Pressure (millibars)                -0.1369      0.002    -79.070      0.000      -0.140      -0.134\n",
       "Summary_Breezy                      -3.0572      3.697     -0.827      0.408     -10.304       4.190\n",
       "Summary_Breezy and Dry              -3.5037      5.181     -0.676      0.499     -13.658       6.651\n",
       "Summary_Breezy and Foggy            -2.8875      3.716     -0.777      0.437     -10.171       4.396\n",
       "Summary_Breezy and Mostly Cloudy    -3.8417      3.667     -1.048      0.295     -11.029       3.346\n",
       "Summary_Breezy and Overcast         -4.1935      3.667     -1.144      0.253     -11.381       2.994\n",
       "Summary_Breezy and Partly Cloudy    -4.2092      3.668     -1.147      0.251     -11.399       2.981\n",
       "Summary_Clear                       -4.2477      3.665     -1.159      0.246     -11.431       2.936\n",
       "Summary_Drizzle                     -3.0898      3.711     -0.833      0.405     -10.364       4.184\n",
       "Summary_Dry                         -1.8158      3.718     -0.488      0.625      -9.103       5.472\n",
       "Summary_Dry and Mostly Cloudy       -4.1970      3.793     -1.106      0.269     -11.632       3.238\n",
       "Summary_Dry and Partly Cloudy       -3.2700      3.686     -0.887      0.375     -10.495       3.955\n",
       "Summary_Foggy                       -4.1265      3.665     -1.126      0.260     -11.310       3.057\n",
       "Summary_Humid and Mostly Cloudy     -2.2335      3.710     -0.602      0.547      -9.506       5.039\n",
       "Summary_Humid and Overcast          -2.5967      3.918     -0.663      0.507     -10.275       5.082\n",
       "Summary_Humid and Partly Cloudy     -1.4763      3.771     -0.391      0.695      -8.867       5.915\n",
       "Summary_Light Rain                  -4.0104      3.693     -1.086      0.278     -11.249       3.229\n",
       "Summary_Mostly Cloudy               -4.1234      3.665     -1.125      0.261     -11.306       3.059\n",
       "Summary_Overcast                    -4.5637      3.665     -1.245      0.213     -11.746       2.619\n",
       "Summary_Partly Cloudy               -3.8048      3.665     -1.038      0.299     -10.988       3.378\n",
       "Summary_Rain                        -2.3712      3.844     -0.617      0.537      -9.905       5.162\n",
       "Summary_Windy                       -4.0288      3.886     -1.037      0.300     -11.644       3.587\n",
       "Summary_Windy and Dry               -0.5597      5.181     -0.108      0.914     -10.714       9.595\n",
       "Summary_Windy and Foggy             -0.0052      4.096     -0.001      0.999      -8.033       8.023\n",
       "Summary_Windy and Mostly Cloudy     -2.4720      3.715     -0.665      0.506      -9.754       4.810\n",
       "Summary_Windy and Overcast          -4.0133      3.704     -1.084      0.279     -11.273       3.246\n",
       "Summary_Windy and Partly Cloudy     -3.5141      3.691     -0.952      0.341     -10.747       3.719\n",
       "Precip Type_snow                    -4.9299      0.045   -109.696      0.000      -5.018      -4.842\n",
       "==============================================================================\n",
       "Omnibus:                     5738.086   Durbin-Watson:                   0.169\n",
       "Prob(Omnibus):                  0.000   Jarque-Bera (JB):            21351.672\n",
       "Skew:                          -0.198   Prob(JB):                         0.00\n",
       "Kurtosis:                       5.271   Cond. No.                     1.67e+06\n",
       "==============================================================================\n",
       "\n",
       "Notes:\n",
       "[1] Standard Errors assume that the covariance matrix of the errors is correctly specified.\n",
       "[2] The condition number is large, 1.67e+06. This might indicate that there are\n",
       "strong multicollinearity or other numerical problems.\n",
       "\"\"\""
      ]
     },
     "execution_count": 200,
     "metadata": {},
     "output_type": "execute_result"
    }
   ],
   "source": [
    "import statsmodels.api as sm\n",
    "X_sm = sm.add_constant(X)\n",
    "model = sm.OLS(endog=y, exog=X_sm).fit()\n",
    "\n",
    "model.summary()"
   ]
  },
  {
   "cell_type": "markdown",
   "metadata": {},
   "source": [
    "F-статистика обладает крайне большим значением, гипотеза о незначимости регрессии отвергается на любом разумном уровне значимости, получили адекватную модель, идём дальше"
   ]
  },
  {
   "cell_type": "markdown",
   "metadata": {
    "id": "vhbMVSa_8ZL6"
   },
   "source": [
    "**Пункт 4.** Прокомментируйте значимость отдельных коэффициентах в оценённой модели. Поясните, как каждый регрессор влияет на зависимую переменную математически (\"при увеличении $X$ на 1 $Y$ увеличивается на 3\") и содержательно (\"$X$ влияет на $Y$ положительно, потому что...\", \"$X$ не оказывает влияния на $Y$, потому что...\")."
   ]
  },
  {
   "cell_type": "markdown",
   "metadata": {
    "id": "Ee-Cdhv78ZL6"
   },
   "source": [
    "Будем комментировать только значимые переменные, для которых p-value t-теста о незначимости регрессора меньше 0.05 (берём 5%-ый уровень значимости). Интерпретация:\n",
    "\n",
    "* При увеличении температуры в этот же час день назад на 1 градус прогноз для температуры сейчас увеличивается в-среднем на 0.55 градуса (Очевидно, это вызвано тем, что температура воздуха между днями редко меняется значительно)\n",
    "* При увеличении влажности воздуха на 100% прогноз для температуры уменьшается в-среднем на 13 градусов (то есть изменение на 1% влечёт за собой снижение на 0.13 градуса) (Это может быть вызвано тем, что высокая влажность воздуха свойственна снегопадам и зимней погоде, вероятно, сильно коррелирует с дамми-переменной снега)\n",
    "* При увеличении скорости ветра на 1 километр в секунду прогноз для температуры уменьшается в-среднем на 0.11 градуса (Сильный ветер обычно является индикатором антициклона, вызывающего холодную погоду)\n",
    "* При увеличении направления ветра на 1 градус прогноз для температуры уменьшается в среднем на 0.001 градус (это может быть вызвано тем, что тёплые и холодные ветра идут с разных сторон в рассматриваемом городе)\n",
    "* При увеличении видимости на 1 километр прогноз для температуры увеличивается в среднем на 0.038 градуса (Это может быть вызвано тем, что туманы чаще всего случаются в относительно более прохладную погоду)\n",
    "* При увеличении давления на 1 миллибар прогноз для температуры уменьшается в среднем на 0.137 градуса (это интуитивно можно объяснить тем, что высокое атмосферное давление является [предвестником антициклонов](https://ru.wikipedia.org/wiki/Атмосферное_давление#Изменчивость_и_влияние_на_погоду))\n",
    "* В случае, если тип осадков=Снег, то прогноз для температуры уменьшается в-среднем на 4.93 градуса (это очевидно объясняется тем, что снег обычно бывает только в холодную погоду в окрестности нуля и ниже)"
   ]
  },
  {
   "cell_type": "markdown",
   "metadata": {
    "id": "Cl_1udY28ZL6"
   },
   "source": [
    "**Пункт 5.** Есть ли в модели проблема мультиколлинеарности? Используйте как минимум два показателя (на ваш выбор), чтобы подтвердить ваш ответ. Если проблема обнаружена, скорректируйте её, или приведите обоснование, почему корректировка не требуется."
   ]
  },
  {
   "cell_type": "markdown",
   "metadata": {},
   "source": [
    "Существует как минимум две предпосылки для существования проблемы мультиколлинеарности:\n",
    "\n",
    "1. Констатация факта - statsmodels выдал предупреждение о возможном наличии мультиколлинеарности (абсурдная предпосылка, не являющаяся таковой по сути)\n",
    "\n",
    "2. Логика - в дамми-переменных для общего описания дня есть очень похожие между собой состояния, которые хоть и не пересекаются, но вполне вероятно составляют из себя линейную комбинацию числовых признаков, описывающих данное состояние (например, низкая влажность воздуха+низкое давление+низкая скорость ветра + определённое направление ветра = Состояние \"Clear\" и множество других аналогичных случаев). Также есть гипотеза, что высокая влажность воздуха сильно коррелирует с часами в днях, когда имеет место тип осадков \"Снег\". И ещё есть предположение, что состояние \"Туманно\" сильно скоррелированно с низкой видимостью. \n",
    "\n",
    "Проверим последнее предположение"
   ]
  },
  {
   "cell_type": "code",
   "execution_count": 202,
   "metadata": {
    "ExecuteTime": {
     "end_time": "2021-12-15T19:26:32.359652Z",
     "start_time": "2021-12-15T19:26:32.349278Z"
    },
    "id": "LJopLDf78ZL6"
   },
   "outputs": [
    {
     "data": {
      "text/plain": [
       "array([[ 1.        , -0.59361322],\n",
       "       [-0.59361322,  1.        ]])"
      ]
     },
     "execution_count": 202,
     "metadata": {},
     "output_type": "execute_result"
    }
   ],
   "source": [
    "np.corrcoef([X_sm['Summary_Foggy'], X_sm['Visibility (km)']])"
   ]
  },
  {
   "cell_type": "markdown",
   "metadata": {},
   "source": [
    "Видим, что действительно существует весомая корреляция между рассматриваемыми переменными, теперь проведём настоящий полноценный тест:"
   ]
  },
  {
   "cell_type": "markdown",
   "metadata": {
    "ExecuteTime": {
     "end_time": "2021-12-15T19:31:35.343212Z",
     "start_time": "2021-12-15T19:31:35.323125Z"
    }
   },
   "source": [
    "Проверим коэффициент детерминации для всех объясняющих переменных при регрессии на остальные факторы через VIF'ы:"
   ]
  },
  {
   "cell_type": "code",
   "execution_count": 218,
   "metadata": {
    "ExecuteTime": {
     "end_time": "2021-12-15T19:34:28.079824Z",
     "start_time": "2021-12-15T19:34:19.752290Z"
    }
   },
   "outputs": [
    {
     "name": "stdout",
     "output_type": "stream",
     "text": [
      "[1.19633592e+05 1.92619449e+00 1.80457047e+00 1.55347665e+00\n",
      " 1.02404555e+00 1.76906425e+00 1.28708403e+00 5.49855753e+01\n",
      " 2.00033853e+00 3.60031775e+01 5.14380364e+02 5.26261334e+02\n",
      " 3.85559810e+02 9.67026682e+03 4.00170584e+01 3.50168512e+01\n",
      " 1.50103078e+01 8.70018359e+01 6.62592080e+03 4.10205309e+01\n",
      " 8.00621454e+00 1.80125599e+01 6.40051626e+01 1.99280408e+04\n",
      " 1.37528652e+04 2.13121113e+04 1.10094777e+01 9.00039653e+00\n",
      " 2.00027536e+00 5.00110220e+00 3.59916703e+01 4.59850749e+01\n",
      " 6.79603646e+01 1.43333824e+00]\n"
     ]
    }
   ],
   "source": [
    "from statsmodels.stats.outliers_influence import variance_inflation_factor\n",
    "vifs = np.zeros(len(X_sm.T))\n",
    "for i in range(len(X_sm.T)):\n",
    "    vifs[i] = variance_inflation_factor(model.model.exog, i)\n",
    "print(vifs)"
   ]
  },
  {
   "cell_type": "markdown",
   "metadata": {},
   "source": [
    "Исключим те переменные, для которых VIF>12:"
   ]
  },
  {
   "cell_type": "code",
   "execution_count": 227,
   "metadata": {
    "ExecuteTime": {
     "end_time": "2021-12-15T19:36:42.907178Z",
     "start_time": "2021-12-15T19:36:42.878161Z"
    }
   },
   "outputs": [
    {
     "data": {
      "text/plain": [
       "Index(['const', 'Summary_Breezy', 'Summary_Breezy and Foggy',\n",
       "       'Summary_Breezy and Mostly Cloudy', 'Summary_Breezy and Overcast',\n",
       "       'Summary_Breezy and Partly Cloudy', 'Summary_Clear', 'Summary_Drizzle',\n",
       "       'Summary_Dry', 'Summary_Dry and Mostly Cloudy',\n",
       "       'Summary_Dry and Partly Cloudy', 'Summary_Foggy',\n",
       "       'Summary_Humid and Mostly Cloudy', 'Summary_Humid and Partly Cloudy',\n",
       "       'Summary_Light Rain', 'Summary_Mostly Cloudy', 'Summary_Overcast',\n",
       "       'Summary_Partly Cloudy', 'Summary_Windy and Mostly Cloudy',\n",
       "       'Summary_Windy and Overcast', 'Summary_Windy and Partly Cloudy'],\n",
       "      dtype='object')"
      ]
     },
     "execution_count": 227,
     "metadata": {},
     "output_type": "execute_result"
    }
   ],
   "source": [
    "X_sm.T.iloc[np.where(vifs>12)].T.columns"
   ]
  },
  {
   "cell_type": "code",
   "execution_count": 228,
   "metadata": {
    "ExecuteTime": {
     "end_time": "2021-12-15T19:36:57.910991Z",
     "start_time": "2021-12-15T19:36:57.862975Z"
    }
   },
   "outputs": [
    {
     "data": {
      "text/html": [
       "<div>\n",
       "<style scoped>\n",
       "    .dataframe tbody tr th:only-of-type {\n",
       "        vertical-align: middle;\n",
       "    }\n",
       "\n",
       "    .dataframe tbody tr th {\n",
       "        vertical-align: top;\n",
       "    }\n",
       "\n",
       "    .dataframe thead th {\n",
       "        text-align: right;\n",
       "    }\n",
       "</style>\n",
       "<table border=\"1\" class=\"dataframe\">\n",
       "  <thead>\n",
       "    <tr style=\"text-align: right;\">\n",
       "      <th></th>\n",
       "      <th>previous_apparent_t</th>\n",
       "      <th>Humidity</th>\n",
       "      <th>Wind Speed (km/h)</th>\n",
       "      <th>Wind Bearing (degrees)</th>\n",
       "      <th>Visibility (km)</th>\n",
       "      <th>Pressure (millibars)</th>\n",
       "      <th>Summary_Breezy and Dry</th>\n",
       "      <th>Summary_Humid and Overcast</th>\n",
       "      <th>Summary_Rain</th>\n",
       "      <th>Summary_Windy</th>\n",
       "      <th>Summary_Windy and Dry</th>\n",
       "      <th>Summary_Windy and Foggy</th>\n",
       "      <th>Precip Type_snow</th>\n",
       "    </tr>\n",
       "  </thead>\n",
       "  <tbody>\n",
       "    <tr>\n",
       "      <th>0</th>\n",
       "      <td>0.000000</td>\n",
       "      <td>0.89</td>\n",
       "      <td>14.1197</td>\n",
       "      <td>251.0</td>\n",
       "      <td>15.8263</td>\n",
       "      <td>1015.13</td>\n",
       "      <td>0</td>\n",
       "      <td>0</td>\n",
       "      <td>0</td>\n",
       "      <td>0</td>\n",
       "      <td>0</td>\n",
       "      <td>0</td>\n",
       "      <td>0</td>\n",
       "    </tr>\n",
       "    <tr>\n",
       "      <th>1</th>\n",
       "      <td>0.000000</td>\n",
       "      <td>0.86</td>\n",
       "      <td>14.2646</td>\n",
       "      <td>259.0</td>\n",
       "      <td>15.8263</td>\n",
       "      <td>1015.63</td>\n",
       "      <td>0</td>\n",
       "      <td>0</td>\n",
       "      <td>0</td>\n",
       "      <td>0</td>\n",
       "      <td>0</td>\n",
       "      <td>0</td>\n",
       "      <td>0</td>\n",
       "    </tr>\n",
       "    <tr>\n",
       "      <th>2</th>\n",
       "      <td>0.000000</td>\n",
       "      <td>0.89</td>\n",
       "      <td>3.9284</td>\n",
       "      <td>204.0</td>\n",
       "      <td>14.9569</td>\n",
       "      <td>1015.94</td>\n",
       "      <td>0</td>\n",
       "      <td>0</td>\n",
       "      <td>0</td>\n",
       "      <td>0</td>\n",
       "      <td>0</td>\n",
       "      <td>0</td>\n",
       "      <td>0</td>\n",
       "    </tr>\n",
       "    <tr>\n",
       "      <th>3</th>\n",
       "      <td>0.000000</td>\n",
       "      <td>0.83</td>\n",
       "      <td>14.1036</td>\n",
       "      <td>269.0</td>\n",
       "      <td>15.8263</td>\n",
       "      <td>1016.41</td>\n",
       "      <td>0</td>\n",
       "      <td>0</td>\n",
       "      <td>0</td>\n",
       "      <td>0</td>\n",
       "      <td>0</td>\n",
       "      <td>0</td>\n",
       "      <td>0</td>\n",
       "    </tr>\n",
       "    <tr>\n",
       "      <th>4</th>\n",
       "      <td>0.000000</td>\n",
       "      <td>0.83</td>\n",
       "      <td>11.0446</td>\n",
       "      <td>259.0</td>\n",
       "      <td>15.8263</td>\n",
       "      <td>1016.51</td>\n",
       "      <td>0</td>\n",
       "      <td>0</td>\n",
       "      <td>0</td>\n",
       "      <td>0</td>\n",
       "      <td>0</td>\n",
       "      <td>0</td>\n",
       "      <td>0</td>\n",
       "    </tr>\n",
       "    <tr>\n",
       "      <th>...</th>\n",
       "      <td>...</td>\n",
       "      <td>...</td>\n",
       "      <td>...</td>\n",
       "      <td>...</td>\n",
       "      <td>...</td>\n",
       "      <td>...</td>\n",
       "      <td>...</td>\n",
       "      <td>...</td>\n",
       "      <td>...</td>\n",
       "      <td>...</td>\n",
       "      <td>...</td>\n",
       "      <td>...</td>\n",
       "      <td>...</td>\n",
       "    </tr>\n",
       "    <tr>\n",
       "      <th>96448</th>\n",
       "      <td>24.905556</td>\n",
       "      <td>0.43</td>\n",
       "      <td>10.9963</td>\n",
       "      <td>31.0</td>\n",
       "      <td>16.1000</td>\n",
       "      <td>1014.36</td>\n",
       "      <td>0</td>\n",
       "      <td>0</td>\n",
       "      <td>0</td>\n",
       "      <td>0</td>\n",
       "      <td>0</td>\n",
       "      <td>0</td>\n",
       "      <td>0</td>\n",
       "    </tr>\n",
       "    <tr>\n",
       "      <th>96449</th>\n",
       "      <td>22.366667</td>\n",
       "      <td>0.48</td>\n",
       "      <td>10.0947</td>\n",
       "      <td>20.0</td>\n",
       "      <td>15.5526</td>\n",
       "      <td>1015.16</td>\n",
       "      <td>0</td>\n",
       "      <td>0</td>\n",
       "      <td>0</td>\n",
       "      <td>0</td>\n",
       "      <td>0</td>\n",
       "      <td>0</td>\n",
       "      <td>0</td>\n",
       "    </tr>\n",
       "    <tr>\n",
       "      <th>96450</th>\n",
       "      <td>21.016667</td>\n",
       "      <td>0.56</td>\n",
       "      <td>8.9838</td>\n",
       "      <td>30.0</td>\n",
       "      <td>16.1000</td>\n",
       "      <td>1015.66</td>\n",
       "      <td>0</td>\n",
       "      <td>0</td>\n",
       "      <td>0</td>\n",
       "      <td>0</td>\n",
       "      <td>0</td>\n",
       "      <td>0</td>\n",
       "      <td>0</td>\n",
       "    </tr>\n",
       "    <tr>\n",
       "      <th>96451</th>\n",
       "      <td>19.927778</td>\n",
       "      <td>0.60</td>\n",
       "      <td>10.5294</td>\n",
       "      <td>20.0</td>\n",
       "      <td>16.1000</td>\n",
       "      <td>1015.95</td>\n",
       "      <td>0</td>\n",
       "      <td>0</td>\n",
       "      <td>0</td>\n",
       "      <td>0</td>\n",
       "      <td>0</td>\n",
       "      <td>0</td>\n",
       "      <td>0</td>\n",
       "    </tr>\n",
       "    <tr>\n",
       "      <th>96452</th>\n",
       "      <td>18.350000</td>\n",
       "      <td>0.61</td>\n",
       "      <td>5.8765</td>\n",
       "      <td>39.0</td>\n",
       "      <td>15.5204</td>\n",
       "      <td>1016.16</td>\n",
       "      <td>0</td>\n",
       "      <td>0</td>\n",
       "      <td>0</td>\n",
       "      <td>0</td>\n",
       "      <td>0</td>\n",
       "      <td>0</td>\n",
       "      <td>0</td>\n",
       "    </tr>\n",
       "  </tbody>\n",
       "</table>\n",
       "<p>96453 rows × 13 columns</p>\n",
       "</div>"
      ],
      "text/plain": [
       "       previous_apparent_t  Humidity  Wind Speed (km/h)  \\\n",
       "0                 0.000000      0.89            14.1197   \n",
       "1                 0.000000      0.86            14.2646   \n",
       "2                 0.000000      0.89             3.9284   \n",
       "3                 0.000000      0.83            14.1036   \n",
       "4                 0.000000      0.83            11.0446   \n",
       "...                    ...       ...                ...   \n",
       "96448            24.905556      0.43            10.9963   \n",
       "96449            22.366667      0.48            10.0947   \n",
       "96450            21.016667      0.56             8.9838   \n",
       "96451            19.927778      0.60            10.5294   \n",
       "96452            18.350000      0.61             5.8765   \n",
       "\n",
       "       Wind Bearing (degrees)  Visibility (km)  Pressure (millibars)  \\\n",
       "0                       251.0          15.8263               1015.13   \n",
       "1                       259.0          15.8263               1015.63   \n",
       "2                       204.0          14.9569               1015.94   \n",
       "3                       269.0          15.8263               1016.41   \n",
       "4                       259.0          15.8263               1016.51   \n",
       "...                       ...              ...                   ...   \n",
       "96448                    31.0          16.1000               1014.36   \n",
       "96449                    20.0          15.5526               1015.16   \n",
       "96450                    30.0          16.1000               1015.66   \n",
       "96451                    20.0          16.1000               1015.95   \n",
       "96452                    39.0          15.5204               1016.16   \n",
       "\n",
       "       Summary_Breezy and Dry  Summary_Humid and Overcast  Summary_Rain  \\\n",
       "0                           0                           0             0   \n",
       "1                           0                           0             0   \n",
       "2                           0                           0             0   \n",
       "3                           0                           0             0   \n",
       "4                           0                           0             0   \n",
       "...                       ...                         ...           ...   \n",
       "96448                       0                           0             0   \n",
       "96449                       0                           0             0   \n",
       "96450                       0                           0             0   \n",
       "96451                       0                           0             0   \n",
       "96452                       0                           0             0   \n",
       "\n",
       "       Summary_Windy  Summary_Windy and Dry  Summary_Windy and Foggy  \\\n",
       "0                  0                      0                        0   \n",
       "1                  0                      0                        0   \n",
       "2                  0                      0                        0   \n",
       "3                  0                      0                        0   \n",
       "4                  0                      0                        0   \n",
       "...              ...                    ...                      ...   \n",
       "96448              0                      0                        0   \n",
       "96449              0                      0                        0   \n",
       "96450              0                      0                        0   \n",
       "96451              0                      0                        0   \n",
       "96452              0                      0                        0   \n",
       "\n",
       "       Precip Type_snow  \n",
       "0                     0  \n",
       "1                     0  \n",
       "2                     0  \n",
       "3                     0  \n",
       "4                     0  \n",
       "...                 ...  \n",
       "96448                 0  \n",
       "96449                 0  \n",
       "96450                 0  \n",
       "96451                 0  \n",
       "96452                 0  \n",
       "\n",
       "[96453 rows x 13 columns]"
      ]
     },
     "execution_count": 228,
     "metadata": {},
     "output_type": "execute_result"
    }
   ],
   "source": [
    "X_truncated = X_sm.drop(X_sm.T.iloc[np.where(vifs>12)].T.columns, axis=1)\n",
    "X_truncated"
   ]
  },
  {
   "cell_type": "markdown",
   "metadata": {},
   "source": [
    "Видим, что у нас остались только числовые признаки + несколько фиктивных переменных, отвечающих за определённое состояние + индикатор снежности.\n",
    "\n",
    "Возможно, для менее жёсткого исключения регрессоров, стоило последовательно исключать их по убыванию VIF вплоть до момента, пока у всех регрессоров собственный VIF не был бы равен 12 или меньше"
   ]
  },
  {
   "cell_type": "code",
   "execution_count": 230,
   "metadata": {
    "ExecuteTime": {
     "end_time": "2021-12-15T19:39:29.192670Z",
     "start_time": "2021-12-15T19:39:28.000552Z"
    }
   },
   "outputs": [
    {
     "name": "stdout",
     "output_type": "stream",
     "text": [
      "[ 3.61936081 23.68840208  3.7824654   4.12773556  8.82122835 52.76908768\n",
      "  1.0001718   1.00056146  1.00071431  1.00190705  1.00025955  1.00159293\n",
      "  1.55866815]\n"
     ]
    }
   ],
   "source": [
    "vifs = np.zeros(len(X_truncated.T))\n",
    "for i in range(len(X_truncated.T)):\n",
    "    vifs[i] = variance_inflation_factor(model.model.exog, i)\n",
    "print(vifs)"
   ]
  },
  {
   "cell_type": "markdown",
   "metadata": {},
   "source": [
    "Видим, что после исключения всех вредных переменных, у нас всё ещё есть две переменных, характеризующихся мультиколлинеарностью - влажность воздуха и атмосферное давление. Не будем исключать их, поскольку они оказывают большое влияние на зависимую переменную, а также играют действительно важную роль на формирование температуры, как было объяснено выше при интерпретации зависимостей"
   ]
  },
  {
   "cell_type": "markdown",
   "metadata": {},
   "source": [
    "В процессе исключения всего подряд, наверное зря выкинули константу, поскольку она немного ломает $R^2$. Вернём:"
   ]
  },
  {
   "cell_type": "code",
   "execution_count": 231,
   "metadata": {
    "ExecuteTime": {
     "end_time": "2021-12-15T19:42:28.053265Z",
     "start_time": "2021-12-15T19:42:27.946127Z"
    }
   },
   "outputs": [
    {
     "data": {
      "text/html": [
       "<table class=\"simpletable\">\n",
       "<caption>OLS Regression Results</caption>\n",
       "<tr>\n",
       "  <th>Dep. Variable:</th>     <td>Temperature (C)</td> <th>  R-squared:         </th>  <td>   0.852</td>  \n",
       "</tr>\n",
       "<tr>\n",
       "  <th>Model:</th>                   <td>OLS</td>       <th>  Adj. R-squared:    </th>  <td>   0.852</td>  \n",
       "</tr>\n",
       "<tr>\n",
       "  <th>Method:</th>             <td>Least Squares</td>  <th>  F-statistic:       </th>  <td>4.279e+04</td> \n",
       "</tr>\n",
       "<tr>\n",
       "  <th>Date:</th>             <td>Wed, 15 Dec 2021</td> <th>  Prob (F-statistic):</th>   <td>  0.00</td>   \n",
       "</tr>\n",
       "<tr>\n",
       "  <th>Time:</th>                 <td>22:42:28</td>     <th>  Log-Likelihood:    </th> <td>-2.6231e+05</td>\n",
       "</tr>\n",
       "<tr>\n",
       "  <th>No. Observations:</th>      <td> 96453</td>      <th>  AIC:               </th>  <td>5.246e+05</td> \n",
       "</tr>\n",
       "<tr>\n",
       "  <th>Df Residuals:</th>          <td> 96439</td>      <th>  BIC:               </th>  <td>5.248e+05</td> \n",
       "</tr>\n",
       "<tr>\n",
       "  <th>Df Model:</th>              <td>    13</td>      <th>                     </th>      <td> </td>     \n",
       "</tr>\n",
       "<tr>\n",
       "  <th>Covariance Type:</th>      <td>nonrobust</td>    <th>                     </th>      <td> </td>     \n",
       "</tr>\n",
       "</table>\n",
       "<table class=\"simpletable\">\n",
       "<tr>\n",
       "               <td></td>                 <th>coef</th>     <th>std err</th>      <th>t</th>      <th>P>|t|</th>  <th>[0.025</th>    <th>0.975]</th>  \n",
       "</tr>\n",
       "<tr>\n",
       "  <th>const</th>                      <td>  154.0864</td> <td>    1.765</td> <td>   87.323</td> <td> 0.000</td> <td>  150.628</td> <td>  157.545</td>\n",
       "</tr>\n",
       "<tr>\n",
       "  <th>previous_apparent_t</th>        <td>    0.5509</td> <td>    0.002</td> <td>  361.622</td> <td> 0.000</td> <td>    0.548</td> <td>    0.554</td>\n",
       "</tr>\n",
       "<tr>\n",
       "  <th>Humidity</th>                   <td>  -13.7690</td> <td>    0.078</td> <td> -176.331</td> <td> 0.000</td> <td>  -13.922</td> <td>  -13.616</td>\n",
       "</tr>\n",
       "<tr>\n",
       "  <th>Wind Speed (km/h)</th>          <td>   -0.1169</td> <td>    0.002</td> <td>  -62.023</td> <td> 0.000</td> <td>   -0.121</td> <td>   -0.113</td>\n",
       "</tr>\n",
       "<tr>\n",
       "  <th>Wind Bearing (degrees)</th>     <td>   -0.0010</td> <td>    0.000</td> <td>   -8.778</td> <td> 0.000</td> <td>   -0.001</td> <td>   -0.001</td>\n",
       "</tr>\n",
       "<tr>\n",
       "  <th>Visibility (km)</th>            <td>    0.0430</td> <td>    0.003</td> <td>   13.589</td> <td> 0.000</td> <td>    0.037</td> <td>    0.049</td>\n",
       "</tr>\n",
       "<tr>\n",
       "  <th>Pressure (millibars)</th>       <td>   -0.1342</td> <td>    0.002</td> <td>  -78.478</td> <td> 0.000</td> <td>   -0.138</td> <td>   -0.131</td>\n",
       "</tr>\n",
       "<tr>\n",
       "  <th>Summary_Breezy and Dry</th>     <td>    0.4472</td> <td>    3.672</td> <td>    0.122</td> <td> 0.903</td> <td>   -6.750</td> <td>    7.645</td>\n",
       "</tr>\n",
       "<tr>\n",
       "  <th>Summary_Humid and Overcast</th> <td>    1.5172</td> <td>    1.388</td> <td>    1.093</td> <td> 0.274</td> <td>   -1.204</td> <td>    4.238</td>\n",
       "</tr>\n",
       "<tr>\n",
       "  <th>Summary_Rain</th>               <td>    1.8383</td> <td>    1.162</td> <td>    1.583</td> <td> 0.114</td> <td>   -0.438</td> <td>    4.115</td>\n",
       "</tr>\n",
       "<tr>\n",
       "  <th>Summary_Windy</th>              <td>    0.1150</td> <td>    1.299</td> <td>    0.089</td> <td> 0.929</td> <td>   -2.432</td> <td>    2.662</td>\n",
       "</tr>\n",
       "<tr>\n",
       "  <th>Summary_Windy and Dry</th>      <td>    3.3932</td> <td>    3.672</td> <td>    0.924</td> <td> 0.355</td> <td>   -3.805</td> <td>   10.591</td>\n",
       "</tr>\n",
       "<tr>\n",
       "  <th>Summary_Windy and Foggy</th>    <td>    4.2910</td> <td>    1.837</td> <td>    2.335</td> <td> 0.020</td> <td>    0.690</td> <td>    7.892</td>\n",
       "</tr>\n",
       "<tr>\n",
       "  <th>Precip Type_snow</th>           <td>   -4.9265</td> <td>    0.045</td> <td> -109.986</td> <td> 0.000</td> <td>   -5.014</td> <td>   -4.839</td>\n",
       "</tr>\n",
       "</table>\n",
       "<table class=\"simpletable\">\n",
       "<tr>\n",
       "  <th>Omnibus:</th>       <td>5831.321</td> <th>  Durbin-Watson:     </th> <td>   0.165</td> \n",
       "</tr>\n",
       "<tr>\n",
       "  <th>Prob(Omnibus):</th>  <td> 0.000</td>  <th>  Jarque-Bera (JB):  </th> <td>22190.753</td>\n",
       "</tr>\n",
       "<tr>\n",
       "  <th>Skew:</th>           <td>-0.194</td>  <th>  Prob(JB):          </th> <td>    0.00</td> \n",
       "</tr>\n",
       "<tr>\n",
       "  <th>Kurtosis:</th>       <td> 5.317</td>  <th>  Cond. No.          </th> <td>3.21e+05</td> \n",
       "</tr>\n",
       "</table><br/><br/>Notes:<br/>[1] Standard Errors assume that the covariance matrix of the errors is correctly specified.<br/>[2] The condition number is large, 3.21e+05. This might indicate that there are<br/>strong multicollinearity or other numerical problems."
      ],
      "text/plain": [
       "<class 'statsmodels.iolib.summary.Summary'>\n",
       "\"\"\"\n",
       "                            OLS Regression Results                            \n",
       "==============================================================================\n",
       "Dep. Variable:        Temperature (C)   R-squared:                       0.852\n",
       "Model:                            OLS   Adj. R-squared:                  0.852\n",
       "Method:                 Least Squares   F-statistic:                 4.279e+04\n",
       "Date:                Wed, 15 Dec 2021   Prob (F-statistic):               0.00\n",
       "Time:                        22:42:28   Log-Likelihood:            -2.6231e+05\n",
       "No. Observations:               96453   AIC:                         5.246e+05\n",
       "Df Residuals:                   96439   BIC:                         5.248e+05\n",
       "Df Model:                          13                                         \n",
       "Covariance Type:            nonrobust                                         \n",
       "==============================================================================================\n",
       "                                 coef    std err          t      P>|t|      [0.025      0.975]\n",
       "----------------------------------------------------------------------------------------------\n",
       "const                        154.0864      1.765     87.323      0.000     150.628     157.545\n",
       "previous_apparent_t            0.5509      0.002    361.622      0.000       0.548       0.554\n",
       "Humidity                     -13.7690      0.078   -176.331      0.000     -13.922     -13.616\n",
       "Wind Speed (km/h)             -0.1169      0.002    -62.023      0.000      -0.121      -0.113\n",
       "Wind Bearing (degrees)        -0.0010      0.000     -8.778      0.000      -0.001      -0.001\n",
       "Visibility (km)                0.0430      0.003     13.589      0.000       0.037       0.049\n",
       "Pressure (millibars)          -0.1342      0.002    -78.478      0.000      -0.138      -0.131\n",
       "Summary_Breezy and Dry         0.4472      3.672      0.122      0.903      -6.750       7.645\n",
       "Summary_Humid and Overcast     1.5172      1.388      1.093      0.274      -1.204       4.238\n",
       "Summary_Rain                   1.8383      1.162      1.583      0.114      -0.438       4.115\n",
       "Summary_Windy                  0.1150      1.299      0.089      0.929      -2.432       2.662\n",
       "Summary_Windy and Dry          3.3932      3.672      0.924      0.355      -3.805      10.591\n",
       "Summary_Windy and Foggy        4.2910      1.837      2.335      0.020       0.690       7.892\n",
       "Precip Type_snow              -4.9265      0.045   -109.986      0.000      -5.014      -4.839\n",
       "==============================================================================\n",
       "Omnibus:                     5831.321   Durbin-Watson:                   0.165\n",
       "Prob(Omnibus):                  0.000   Jarque-Bera (JB):            22190.753\n",
       "Skew:                          -0.194   Prob(JB):                         0.00\n",
       "Kurtosis:                       5.317   Cond. No.                     3.21e+05\n",
       "==============================================================================\n",
       "\n",
       "Notes:\n",
       "[1] Standard Errors assume that the covariance matrix of the errors is correctly specified.\n",
       "[2] The condition number is large, 3.21e+05. This might indicate that there are\n",
       "strong multicollinearity or other numerical problems.\n",
       "\"\"\""
      ]
     },
     "execution_count": 231,
     "metadata": {},
     "output_type": "execute_result"
    }
   ],
   "source": [
    "X_truncated = sm.add_constant(X_truncated)\n",
    "model = sm.OLS(endog=y, exog=X_truncated).fit()\n",
    "\n",
    "model.summary()"
   ]
  },
  {
   "cell_type": "markdown",
   "metadata": {
    "id": "QmuQSZWS8ZL7"
   },
   "source": [
    "**Пункт 6.** Проведите как минимум три теста для идентификации гетероскедастичности. Если гетероскедастичность обнаружена, скорректируйте доверительные интервалы для коэффициентов каким-нибудь способом. Изменилась ли значимость каких-либо коэффициентов?"
   ]
  },
  {
   "cell_type": "markdown",
   "metadata": {},
   "source": [
    "Не будем мудрствовать лукаво и проведём 3 теста, которые были приведены на семинарах:"
   ]
  },
  {
   "cell_type": "code",
   "execution_count": 232,
   "metadata": {
    "ExecuteTime": {
     "end_time": "2021-12-15T19:45:30.688043Z",
     "start_time": "2021-12-15T19:45:30.628040Z"
    },
    "id": "I_2Ah5j_8ZL7"
   },
   "outputs": [
    {
     "data": {
      "text/plain": [
       "(1.0304623325106697, 0.0004931521178353133, 'increasing')"
      ]
     },
     "execution_count": 232,
     "metadata": {},
     "output_type": "execute_result"
    }
   ],
   "source": [
    "sms.het_goldfeldquandt(model.model.endog, model.model.exog)"
   ]
  },
  {
   "cell_type": "code",
   "execution_count": 233,
   "metadata": {
    "ExecuteTime": {
     "end_time": "2021-12-15T19:45:31.650147Z",
     "start_time": "2021-12-15T19:45:31.572983Z"
    }
   },
   "outputs": [
    {
     "data": {
      "text/plain": [
       "(540.9559725613938,\n",
       " 2.879370695616647e-107,\n",
       " 41.840620801510426,\n",
       " 1.3980328554767304e-107)"
      ]
     },
     "execution_count": 233,
     "metadata": {},
     "output_type": "execute_result"
    }
   ],
   "source": [
    "sms.het_breuschpagan(model.resid, model.model.exog)"
   ]
  },
  {
   "cell_type": "markdown",
   "metadata": {},
   "source": [
    "В соответствии с обоими тестами с семинаров (даже самым \"слепым\" по отношению к гетероскедастичности), можем заключить о присутствии гетероскедастичности в данных"
   ]
  },
  {
   "cell_type": "markdown",
   "metadata": {},
   "source": [
    "Тест Уайта сломался, не было времени разбираться в причинах, поэтому реализуем [тест Парка](https://ru.wikipedia.org/wiki/Тест_Парка)"
   ]
  },
  {
   "cell_type": "code",
   "execution_count": 246,
   "metadata": {
    "ExecuteTime": {
     "end_time": "2021-12-15T19:54:07.749930Z",
     "start_time": "2021-12-15T19:54:07.717846Z"
    }
   },
   "outputs": [
    {
     "data": {
      "text/html": [
       "<div>\n",
       "<style scoped>\n",
       "    .dataframe tbody tr th:only-of-type {\n",
       "        vertical-align: middle;\n",
       "    }\n",
       "\n",
       "    .dataframe tbody tr th {\n",
       "        vertical-align: top;\n",
       "    }\n",
       "\n",
       "    .dataframe thead th {\n",
       "        text-align: right;\n",
       "    }\n",
       "</style>\n",
       "<table border=\"1\" class=\"dataframe\">\n",
       "  <thead>\n",
       "    <tr style=\"text-align: right;\">\n",
       "      <th></th>\n",
       "      <th>const</th>\n",
       "      <th>previous_apparent_t</th>\n",
       "      <th>Humidity</th>\n",
       "      <th>Wind Speed (km/h)</th>\n",
       "      <th>Wind Bearing (degrees)</th>\n",
       "      <th>Visibility (km)</th>\n",
       "      <th>Pressure (millibars)</th>\n",
       "      <th>Summary_Breezy and Dry</th>\n",
       "      <th>Summary_Humid and Overcast</th>\n",
       "      <th>Summary_Rain</th>\n",
       "      <th>Summary_Windy</th>\n",
       "      <th>Summary_Windy and Dry</th>\n",
       "      <th>Summary_Windy and Foggy</th>\n",
       "      <th>Precip Type_snow</th>\n",
       "      <th>res</th>\n",
       "    </tr>\n",
       "  </thead>\n",
       "  <tbody>\n",
       "    <tr>\n",
       "      <th>0</th>\n",
       "      <td>1.0</td>\n",
       "      <td>0.000000</td>\n",
       "      <td>0.89</td>\n",
       "      <td>14.1197</td>\n",
       "      <td>251.0</td>\n",
       "      <td>15.8263</td>\n",
       "      <td>1015.13</td>\n",
       "      <td>0</td>\n",
       "      <td>0</td>\n",
       "      <td>0</td>\n",
       "      <td>0</td>\n",
       "      <td>0</td>\n",
       "      <td>0</td>\n",
       "      <td>0</td>\n",
       "      <td>5.091043</td>\n",
       "    </tr>\n",
       "    <tr>\n",
       "      <th>1</th>\n",
       "      <td>1.0</td>\n",
       "      <td>0.000000</td>\n",
       "      <td>0.86</td>\n",
       "      <td>14.2646</td>\n",
       "      <td>259.0</td>\n",
       "      <td>15.8263</td>\n",
       "      <td>1015.63</td>\n",
       "      <td>0</td>\n",
       "      <td>0</td>\n",
       "      <td>0</td>\n",
       "      <td>0</td>\n",
       "      <td>0</td>\n",
       "      <td>0</td>\n",
       "      <td>0</td>\n",
       "      <td>4.653157</td>\n",
       "    </tr>\n",
       "    <tr>\n",
       "      <th>2</th>\n",
       "      <td>1.0</td>\n",
       "      <td>0.000000</td>\n",
       "      <td>0.89</td>\n",
       "      <td>3.9284</td>\n",
       "      <td>204.0</td>\n",
       "      <td>14.9569</td>\n",
       "      <td>1015.94</td>\n",
       "      <td>0</td>\n",
       "      <td>0</td>\n",
       "      <td>0</td>\n",
       "      <td>0</td>\n",
       "      <td>0</td>\n",
       "      <td>0</td>\n",
       "      <td>0</td>\n",
       "      <td>3.905368</td>\n",
       "    </tr>\n",
       "    <tr>\n",
       "      <th>3</th>\n",
       "      <td>1.0</td>\n",
       "      <td>0.000000</td>\n",
       "      <td>0.83</td>\n",
       "      <td>14.1036</td>\n",
       "      <td>269.0</td>\n",
       "      <td>15.8263</td>\n",
       "      <td>1016.41</td>\n",
       "      <td>0</td>\n",
       "      <td>0</td>\n",
       "      <td>0</td>\n",
       "      <td>0</td>\n",
       "      <td>0</td>\n",
       "      <td>0</td>\n",
       "      <td>0</td>\n",
       "      <td>3.269040</td>\n",
       "    </tr>\n",
       "    <tr>\n",
       "      <th>4</th>\n",
       "      <td>1.0</td>\n",
       "      <td>0.000000</td>\n",
       "      <td>0.83</td>\n",
       "      <td>11.0446</td>\n",
       "      <td>259.0</td>\n",
       "      <td>15.8263</td>\n",
       "      <td>1016.51</td>\n",
       "      <td>0</td>\n",
       "      <td>0</td>\n",
       "      <td>0</td>\n",
       "      <td>0</td>\n",
       "      <td>0</td>\n",
       "      <td>0</td>\n",
       "      <td>0</td>\n",
       "      <td>3.381758</td>\n",
       "    </tr>\n",
       "    <tr>\n",
       "      <th>...</th>\n",
       "      <td>...</td>\n",
       "      <td>...</td>\n",
       "      <td>...</td>\n",
       "      <td>...</td>\n",
       "      <td>...</td>\n",
       "      <td>...</td>\n",
       "      <td>...</td>\n",
       "      <td>...</td>\n",
       "      <td>...</td>\n",
       "      <td>...</td>\n",
       "      <td>...</td>\n",
       "      <td>...</td>\n",
       "      <td>...</td>\n",
       "      <td>...</td>\n",
       "      <td>...</td>\n",
       "    </tr>\n",
       "    <tr>\n",
       "      <th>96448</th>\n",
       "      <td>1.0</td>\n",
       "      <td>24.905556</td>\n",
       "      <td>0.43</td>\n",
       "      <td>10.9963</td>\n",
       "      <td>31.0</td>\n",
       "      <td>16.1000</td>\n",
       "      <td>1014.36</td>\n",
       "      <td>0</td>\n",
       "      <td>0</td>\n",
       "      <td>0</td>\n",
       "      <td>0</td>\n",
       "      <td>0</td>\n",
       "      <td>0</td>\n",
       "      <td>0</td>\n",
       "      <td>0.885370</td>\n",
       "    </tr>\n",
       "    <tr>\n",
       "      <th>96449</th>\n",
       "      <td>1.0</td>\n",
       "      <td>22.366667</td>\n",
       "      <td>0.48</td>\n",
       "      <td>10.0947</td>\n",
       "      <td>20.0</td>\n",
       "      <td>15.5526</td>\n",
       "      <td>1015.16</td>\n",
       "      <td>0</td>\n",
       "      <td>0</td>\n",
       "      <td>0</td>\n",
       "      <td>0</td>\n",
       "      <td>0</td>\n",
       "      <td>0</td>\n",
       "      <td>0</td>\n",
       "      <td>1.553989</td>\n",
       "    </tr>\n",
       "    <tr>\n",
       "      <th>96450</th>\n",
       "      <td>1.0</td>\n",
       "      <td>21.016667</td>\n",
       "      <td>0.56</td>\n",
       "      <td>8.9838</td>\n",
       "      <td>30.0</td>\n",
       "      <td>16.1000</td>\n",
       "      <td>1015.66</td>\n",
       "      <td>0</td>\n",
       "      <td>0</td>\n",
       "      <td>0</td>\n",
       "      <td>0</td>\n",
       "      <td>0</td>\n",
       "      <td>0</td>\n",
       "      <td>0</td>\n",
       "      <td>0.778315</td>\n",
       "    </tr>\n",
       "    <tr>\n",
       "      <th>96451</th>\n",
       "      <td>1.0</td>\n",
       "      <td>19.927778</td>\n",
       "      <td>0.60</td>\n",
       "      <td>10.5294</td>\n",
       "      <td>20.0</td>\n",
       "      <td>16.1000</td>\n",
       "      <td>1015.95</td>\n",
       "      <td>0</td>\n",
       "      <td>0</td>\n",
       "      <td>0</td>\n",
       "      <td>0</td>\n",
       "      <td>0</td>\n",
       "      <td>0</td>\n",
       "      <td>0</td>\n",
       "      <td>1.622159</td>\n",
       "    </tr>\n",
       "    <tr>\n",
       "      <th>96452</th>\n",
       "      <td>1.0</td>\n",
       "      <td>18.350000</td>\n",
       "      <td>0.61</td>\n",
       "      <td>5.8765</td>\n",
       "      <td>39.0</td>\n",
       "      <td>15.5204</td>\n",
       "      <td>1016.16</td>\n",
       "      <td>0</td>\n",
       "      <td>0</td>\n",
       "      <td>0</td>\n",
       "      <td>0</td>\n",
       "      <td>0</td>\n",
       "      <td>0</td>\n",
       "      <td>0</td>\n",
       "      <td>1.073459</td>\n",
       "    </tr>\n",
       "  </tbody>\n",
       "</table>\n",
       "<p>96453 rows × 15 columns</p>\n",
       "</div>"
      ],
      "text/plain": [
       "       const  previous_apparent_t  Humidity  Wind Speed (km/h)  \\\n",
       "0        1.0             0.000000      0.89            14.1197   \n",
       "1        1.0             0.000000      0.86            14.2646   \n",
       "2        1.0             0.000000      0.89             3.9284   \n",
       "3        1.0             0.000000      0.83            14.1036   \n",
       "4        1.0             0.000000      0.83            11.0446   \n",
       "...      ...                  ...       ...                ...   \n",
       "96448    1.0            24.905556      0.43            10.9963   \n",
       "96449    1.0            22.366667      0.48            10.0947   \n",
       "96450    1.0            21.016667      0.56             8.9838   \n",
       "96451    1.0            19.927778      0.60            10.5294   \n",
       "96452    1.0            18.350000      0.61             5.8765   \n",
       "\n",
       "       Wind Bearing (degrees)  Visibility (km)  Pressure (millibars)  \\\n",
       "0                       251.0          15.8263               1015.13   \n",
       "1                       259.0          15.8263               1015.63   \n",
       "2                       204.0          14.9569               1015.94   \n",
       "3                       269.0          15.8263               1016.41   \n",
       "4                       259.0          15.8263               1016.51   \n",
       "...                       ...              ...                   ...   \n",
       "96448                    31.0          16.1000               1014.36   \n",
       "96449                    20.0          15.5526               1015.16   \n",
       "96450                    30.0          16.1000               1015.66   \n",
       "96451                    20.0          16.1000               1015.95   \n",
       "96452                    39.0          15.5204               1016.16   \n",
       "\n",
       "       Summary_Breezy and Dry  Summary_Humid and Overcast  Summary_Rain  \\\n",
       "0                           0                           0             0   \n",
       "1                           0                           0             0   \n",
       "2                           0                           0             0   \n",
       "3                           0                           0             0   \n",
       "4                           0                           0             0   \n",
       "...                       ...                         ...           ...   \n",
       "96448                       0                           0             0   \n",
       "96449                       0                           0             0   \n",
       "96450                       0                           0             0   \n",
       "96451                       0                           0             0   \n",
       "96452                       0                           0             0   \n",
       "\n",
       "       Summary_Windy  Summary_Windy and Dry  Summary_Windy and Foggy  \\\n",
       "0                  0                      0                        0   \n",
       "1                  0                      0                        0   \n",
       "2                  0                      0                        0   \n",
       "3                  0                      0                        0   \n",
       "4                  0                      0                        0   \n",
       "...              ...                    ...                      ...   \n",
       "96448              0                      0                        0   \n",
       "96449              0                      0                        0   \n",
       "96450              0                      0                        0   \n",
       "96451              0                      0                        0   \n",
       "96452              0                      0                        0   \n",
       "\n",
       "       Precip Type_snow       res  \n",
       "0                     0  5.091043  \n",
       "1                     0  4.653157  \n",
       "2                     0  3.905368  \n",
       "3                     0  3.269040  \n",
       "4                     0  3.381758  \n",
       "...                 ...       ...  \n",
       "96448                 0  0.885370  \n",
       "96449                 0  1.553989  \n",
       "96450                 0  0.778315  \n",
       "96451                 0  1.622159  \n",
       "96452                 0  1.073459  \n",
       "\n",
       "[96453 rows x 15 columns]"
      ]
     },
     "execution_count": 246,
     "metadata": {},
     "output_type": "execute_result"
    }
   ],
   "source": [
    "df_res = pd.concat([X_truncated, model.resid.rename(\"res\")], axis=1)\n",
    "df_res"
   ]
  },
  {
   "cell_type": "markdown",
   "metadata": {},
   "source": [
    "В качестве переменной, вызывающей гетероскедастичность, возьмём видимость, поскольку по t-значению при коэффициенте эта переменная кажется наиболее влияющей на зависимую переменную среди переменных, не содержащих отрицательные значения (надо логарифмировать её для теста)"
   ]
  },
  {
   "cell_type": "code",
   "execution_count": 253,
   "metadata": {
    "ExecuteTime": {
     "end_time": "2021-12-15T19:56:36.960558Z",
     "start_time": "2021-12-15T19:56:36.941555Z"
    }
   },
   "outputs": [],
   "source": [
    "df_res['ln_Humidity'] = np.log(df_res.Humidity)"
   ]
  },
  {
   "cell_type": "code",
   "execution_count": 254,
   "metadata": {
    "ExecuteTime": {
     "end_time": "2021-12-15T19:56:40.203180Z",
     "start_time": "2021-12-15T19:56:40.155638Z"
    }
   },
   "outputs": [
    {
     "data": {
      "text/html": [
       "<table class=\"simpletable\">\n",
       "<caption>OLS Regression Results</caption>\n",
       "<tr>\n",
       "  <th>Dep. Variable:</th>           <td>res</td>       <th>  R-squared:         </th>  <td>   0.000</td>  \n",
       "</tr>\n",
       "<tr>\n",
       "  <th>Model:</th>                   <td>OLS</td>       <th>  Adj. R-squared:    </th>  <td>   0.000</td>  \n",
       "</tr>\n",
       "<tr>\n",
       "  <th>Method:</th>             <td>Least Squares</td>  <th>  F-statistic:       </th>  <td>   23.67</td>  \n",
       "</tr>\n",
       "<tr>\n",
       "  <th>Date:</th>             <td>Wed, 15 Dec 2021</td> <th>  Prob (F-statistic):</th>  <td>1.15e-06</td>  \n",
       "</tr>\n",
       "<tr>\n",
       "  <th>Time:</th>                 <td>22:56:40</td>     <th>  Log-Likelihood:    </th> <td>-2.6230e+05</td>\n",
       "</tr>\n",
       "<tr>\n",
       "  <th>No. Observations:</th>      <td> 96453</td>      <th>  AIC:               </th>  <td>5.246e+05</td> \n",
       "</tr>\n",
       "<tr>\n",
       "  <th>Df Residuals:</th>          <td> 96451</td>      <th>  BIC:               </th>  <td>5.246e+05</td> \n",
       "</tr>\n",
       "<tr>\n",
       "  <th>Df Model:</th>              <td>     1</td>      <th>                     </th>      <td> </td>     \n",
       "</tr>\n",
       "<tr>\n",
       "  <th>Covariance Type:</th>      <td>nonrobust</td>    <th>                     </th>      <td> </td>     \n",
       "</tr>\n",
       "</table>\n",
       "<table class=\"simpletable\">\n",
       "<tr>\n",
       "       <td></td>          <th>coef</th>     <th>std err</th>      <th>t</th>      <th>P>|t|</th>  <th>[0.025</th>    <th>0.975]</th>  \n",
       "</tr>\n",
       "<tr>\n",
       "  <th>Intercept</th>   <td>   -0.0632</td> <td>    0.018</td> <td>   -3.598</td> <td> 0.000</td> <td>   -0.098</td> <td>   -0.029</td>\n",
       "</tr>\n",
       "<tr>\n",
       "  <th>ln_Humidity</th> <td>   -0.1791</td> <td>    0.037</td> <td>   -4.865</td> <td> 0.000</td> <td>   -0.251</td> <td>   -0.107</td>\n",
       "</tr>\n",
       "</table>\n",
       "<table class=\"simpletable\">\n",
       "<tr>\n",
       "  <th>Omnibus:</th>       <td>5844.940</td> <th>  Durbin-Watson:     </th> <td>   0.166</td> \n",
       "</tr>\n",
       "<tr>\n",
       "  <th>Prob(Omnibus):</th>  <td> 0.000</td>  <th>  Jarque-Bera (JB):  </th> <td>22094.418</td>\n",
       "</tr>\n",
       "<tr>\n",
       "  <th>Skew:</th>           <td>-0.199</td>  <th>  Prob(JB):          </th> <td>    0.00</td> \n",
       "</tr>\n",
       "<tr>\n",
       "  <th>Kurtosis:</th>       <td> 5.311</td>  <th>  Cond. No.          </th> <td>    3.54</td> \n",
       "</tr>\n",
       "</table><br/><br/>Notes:<br/>[1] Standard Errors assume that the covariance matrix of the errors is correctly specified."
      ],
      "text/plain": [
       "<class 'statsmodels.iolib.summary.Summary'>\n",
       "\"\"\"\n",
       "                            OLS Regression Results                            \n",
       "==============================================================================\n",
       "Dep. Variable:                    res   R-squared:                       0.000\n",
       "Model:                            OLS   Adj. R-squared:                  0.000\n",
       "Method:                 Least Squares   F-statistic:                     23.67\n",
       "Date:                Wed, 15 Dec 2021   Prob (F-statistic):           1.15e-06\n",
       "Time:                        22:56:40   Log-Likelihood:            -2.6230e+05\n",
       "No. Observations:               96453   AIC:                         5.246e+05\n",
       "Df Residuals:                   96451   BIC:                         5.246e+05\n",
       "Df Model:                           1                                         \n",
       "Covariance Type:            nonrobust                                         \n",
       "===============================================================================\n",
       "                  coef    std err          t      P>|t|      [0.025      0.975]\n",
       "-------------------------------------------------------------------------------\n",
       "Intercept      -0.0632      0.018     -3.598      0.000      -0.098      -0.029\n",
       "ln_Humidity    -0.1791      0.037     -4.865      0.000      -0.251      -0.107\n",
       "==============================================================================\n",
       "Omnibus:                     5844.940   Durbin-Watson:                   0.166\n",
       "Prob(Omnibus):                  0.000   Jarque-Bera (JB):            22094.418\n",
       "Skew:                          -0.199   Prob(JB):                         0.00\n",
       "Kurtosis:                       5.311   Cond. No.                         3.54\n",
       "==============================================================================\n",
       "\n",
       "Notes:\n",
       "[1] Standard Errors assume that the covariance matrix of the errors is correctly specified.\n",
       "\"\"\""
      ]
     },
     "execution_count": 254,
     "metadata": {},
     "output_type": "execute_result"
    }
   ],
   "source": [
    "model_res = smf.ols(data=df_res, formula='res ~ ln_Humidity').fit()\n",
    "\n",
    "model_res.summary()"
   ]
  },
  {
   "cell_type": "markdown",
   "metadata": {},
   "source": [
    "Видим, что и гипотеза о незначимости данной регрессии в целом, и о незначимости регрессора при влиянии на остатки исходной модели отвергается на любом разумном уровне значимости - можем заключить о присутствии гетероскедастичности, вызванной именно уровнем видимости."
   ]
  },
  {
   "cell_type": "markdown",
   "metadata": {},
   "source": [
    "По итогам проведённых тестов последовательно проведём две манипуляции: \n",
    "1. Сначала переоценим модель с учётом робастных стандартных ошибок\n",
    "2. затем уберём плохую переменную Humidity, отличающуюся и большим VIF, и гарантированно вызывающую гетероскедастичность"
   ]
  },
  {
   "cell_type": "code",
   "execution_count": 255,
   "metadata": {
    "ExecuteTime": {
     "end_time": "2021-12-15T20:02:04.519168Z",
     "start_time": "2021-12-15T20:02:04.371074Z"
    }
   },
   "outputs": [
    {
     "name": "stderr",
     "output_type": "stream",
     "text": [
      "C:\\Users\\zolotarev\\Anaconda3\\lib\\site-packages\\statsmodels\\base\\model.py:1832: ValueWarning: covariance of constraints does not have full rank. The number of constraints is 13, but rank is 12\n",
      "  warnings.warn('covariance of constraints does not have full '\n"
     ]
    },
    {
     "data": {
      "text/html": [
       "<table class=\"simpletable\">\n",
       "<caption>OLS Regression Results</caption>\n",
       "<tr>\n",
       "  <th>Dep. Variable:</th>     <td>Temperature (C)</td> <th>  R-squared:         </th>  <td>   0.852</td>  \n",
       "</tr>\n",
       "<tr>\n",
       "  <th>Model:</th>                   <td>OLS</td>       <th>  Adj. R-squared:    </th>  <td>   0.852</td>  \n",
       "</tr>\n",
       "<tr>\n",
       "  <th>Method:</th>             <td>Least Squares</td>  <th>  F-statistic:       </th>  <td>1.871e+05</td> \n",
       "</tr>\n",
       "<tr>\n",
       "  <th>Date:</th>             <td>Wed, 15 Dec 2021</td> <th>  Prob (F-statistic):</th>   <td>  0.00</td>   \n",
       "</tr>\n",
       "<tr>\n",
       "  <th>Time:</th>                 <td>23:02:04</td>     <th>  Log-Likelihood:    </th> <td>-2.6231e+05</td>\n",
       "</tr>\n",
       "<tr>\n",
       "  <th>No. Observations:</th>      <td> 96453</td>      <th>  AIC:               </th>  <td>5.246e+05</td> \n",
       "</tr>\n",
       "<tr>\n",
       "  <th>Df Residuals:</th>          <td> 96439</td>      <th>  BIC:               </th>  <td>5.248e+05</td> \n",
       "</tr>\n",
       "<tr>\n",
       "  <th>Df Model:</th>              <td>    13</td>      <th>                     </th>      <td> </td>     \n",
       "</tr>\n",
       "<tr>\n",
       "  <th>Covariance Type:</th>         <td>HC0</td>       <th>                     </th>      <td> </td>     \n",
       "</tr>\n",
       "</table>\n",
       "<table class=\"simpletable\">\n",
       "<tr>\n",
       "               <td></td>                 <th>coef</th>     <th>std err</th>      <th>z</th>      <th>P>|z|</th>  <th>[0.025</th>    <th>0.975]</th>  \n",
       "</tr>\n",
       "<tr>\n",
       "  <th>const</th>                      <td>  154.0864</td> <td>    1.856</td> <td>   83.032</td> <td> 0.000</td> <td>  150.449</td> <td>  157.724</td>\n",
       "</tr>\n",
       "<tr>\n",
       "  <th>previous_apparent_t</th>        <td>    0.5509</td> <td>    0.002</td> <td>  274.449</td> <td> 0.000</td> <td>    0.547</td> <td>    0.555</td>\n",
       "</tr>\n",
       "<tr>\n",
       "  <th>Humidity</th>                   <td>  -13.7690</td> <td>    0.093</td> <td> -147.916</td> <td> 0.000</td> <td>  -13.951</td> <td>  -13.587</td>\n",
       "</tr>\n",
       "<tr>\n",
       "  <th>Wind Speed (km/h)</th>          <td>   -0.1169</td> <td>    0.002</td> <td>  -57.687</td> <td> 0.000</td> <td>   -0.121</td> <td>   -0.113</td>\n",
       "</tr>\n",
       "<tr>\n",
       "  <th>Wind Bearing (degrees)</th>     <td>   -0.0010</td> <td>    0.000</td> <td>   -8.719</td> <td> 0.000</td> <td>   -0.001</td> <td>   -0.001</td>\n",
       "</tr>\n",
       "<tr>\n",
       "  <th>Visibility (km)</th>            <td>    0.0430</td> <td>    0.003</td> <td>   14.095</td> <td> 0.000</td> <td>    0.037</td> <td>    0.049</td>\n",
       "</tr>\n",
       "<tr>\n",
       "  <th>Pressure (millibars)</th>       <td>   -0.1342</td> <td>    0.002</td> <td>  -75.052</td> <td> 0.000</td> <td>   -0.138</td> <td>   -0.131</td>\n",
       "</tr>\n",
       "<tr>\n",
       "  <th>Summary_Breezy and Dry</th>     <td>    0.4472</td> <td>    0.053</td> <td>    8.418</td> <td> 0.000</td> <td>    0.343</td> <td>    0.551</td>\n",
       "</tr>\n",
       "<tr>\n",
       "  <th>Summary_Humid and Overcast</th> <td>    1.5172</td> <td>    0.627</td> <td>    2.421</td> <td> 0.015</td> <td>    0.289</td> <td>    2.745</td>\n",
       "</tr>\n",
       "<tr>\n",
       "  <th>Summary_Rain</th>               <td>    1.8383</td> <td>    0.302</td> <td>    6.092</td> <td> 0.000</td> <td>    1.247</td> <td>    2.430</td>\n",
       "</tr>\n",
       "<tr>\n",
       "  <th>Summary_Windy</th>              <td>    0.1150</td> <td>    0.515</td> <td>    0.223</td> <td> 0.823</td> <td>   -0.894</td> <td>    1.124</td>\n",
       "</tr>\n",
       "<tr>\n",
       "  <th>Summary_Windy and Dry</th>      <td>    3.3932</td> <td>    0.066</td> <td>   51.229</td> <td> 0.000</td> <td>    3.263</td> <td>    3.523</td>\n",
       "</tr>\n",
       "<tr>\n",
       "  <th>Summary_Windy and Foggy</th>    <td>    4.2910</td> <td>    1.294</td> <td>    3.315</td> <td> 0.001</td> <td>    1.754</td> <td>    6.828</td>\n",
       "</tr>\n",
       "<tr>\n",
       "  <th>Precip Type_snow</th>           <td>   -4.9265</td> <td>    0.048</td> <td> -101.951</td> <td> 0.000</td> <td>   -5.021</td> <td>   -4.832</td>\n",
       "</tr>\n",
       "</table>\n",
       "<table class=\"simpletable\">\n",
       "<tr>\n",
       "  <th>Omnibus:</th>       <td>5831.321</td> <th>  Durbin-Watson:     </th> <td>   0.165</td> \n",
       "</tr>\n",
       "<tr>\n",
       "  <th>Prob(Omnibus):</th>  <td> 0.000</td>  <th>  Jarque-Bera (JB):  </th> <td>22190.753</td>\n",
       "</tr>\n",
       "<tr>\n",
       "  <th>Skew:</th>           <td>-0.194</td>  <th>  Prob(JB):          </th> <td>    0.00</td> \n",
       "</tr>\n",
       "<tr>\n",
       "  <th>Kurtosis:</th>       <td> 5.317</td>  <th>  Cond. No.          </th> <td>3.21e+05</td> \n",
       "</tr>\n",
       "</table><br/><br/>Notes:<br/>[1] Standard Errors are heteroscedasticity robust (HC0)<br/>[2] The condition number is large, 3.21e+05. This might indicate that there are<br/>strong multicollinearity or other numerical problems."
      ],
      "text/plain": [
       "<class 'statsmodels.iolib.summary.Summary'>\n",
       "\"\"\"\n",
       "                            OLS Regression Results                            \n",
       "==============================================================================\n",
       "Dep. Variable:        Temperature (C)   R-squared:                       0.852\n",
       "Model:                            OLS   Adj. R-squared:                  0.852\n",
       "Method:                 Least Squares   F-statistic:                 1.871e+05\n",
       "Date:                Wed, 15 Dec 2021   Prob (F-statistic):               0.00\n",
       "Time:                        23:02:04   Log-Likelihood:            -2.6231e+05\n",
       "No. Observations:               96453   AIC:                         5.246e+05\n",
       "Df Residuals:                   96439   BIC:                         5.248e+05\n",
       "Df Model:                          13                                         \n",
       "Covariance Type:                  HC0                                         \n",
       "==============================================================================================\n",
       "                                 coef    std err          z      P>|z|      [0.025      0.975]\n",
       "----------------------------------------------------------------------------------------------\n",
       "const                        154.0864      1.856     83.032      0.000     150.449     157.724\n",
       "previous_apparent_t            0.5509      0.002    274.449      0.000       0.547       0.555\n",
       "Humidity                     -13.7690      0.093   -147.916      0.000     -13.951     -13.587\n",
       "Wind Speed (km/h)             -0.1169      0.002    -57.687      0.000      -0.121      -0.113\n",
       "Wind Bearing (degrees)        -0.0010      0.000     -8.719      0.000      -0.001      -0.001\n",
       "Visibility (km)                0.0430      0.003     14.095      0.000       0.037       0.049\n",
       "Pressure (millibars)          -0.1342      0.002    -75.052      0.000      -0.138      -0.131\n",
       "Summary_Breezy and Dry         0.4472      0.053      8.418      0.000       0.343       0.551\n",
       "Summary_Humid and Overcast     1.5172      0.627      2.421      0.015       0.289       2.745\n",
       "Summary_Rain                   1.8383      0.302      6.092      0.000       1.247       2.430\n",
       "Summary_Windy                  0.1150      0.515      0.223      0.823      -0.894       1.124\n",
       "Summary_Windy and Dry          3.3932      0.066     51.229      0.000       3.263       3.523\n",
       "Summary_Windy and Foggy        4.2910      1.294      3.315      0.001       1.754       6.828\n",
       "Precip Type_snow              -4.9265      0.048   -101.951      0.000      -5.021      -4.832\n",
       "==============================================================================\n",
       "Omnibus:                     5831.321   Durbin-Watson:                   0.165\n",
       "Prob(Omnibus):                  0.000   Jarque-Bera (JB):            22190.753\n",
       "Skew:                          -0.194   Prob(JB):                         0.00\n",
       "Kurtosis:                       5.317   Cond. No.                     3.21e+05\n",
       "==============================================================================\n",
       "\n",
       "Notes:\n",
       "[1] Standard Errors are heteroscedasticity robust (HC0)\n",
       "[2] The condition number is large, 3.21e+05. This might indicate that there are\n",
       "strong multicollinearity or other numerical problems.\n",
       "\"\"\""
      ]
     },
     "execution_count": 255,
     "metadata": {},
     "output_type": "execute_result"
    }
   ],
   "source": [
    "model = sm.OLS(endog=y, exog=X_truncated).fit(cov_type = 'HC0')\n",
    "\n",
    "model.summary()"
   ]
  },
  {
   "cell_type": "markdown",
   "metadata": {},
   "source": [
    "Видим, что по сравнению с исходной моделью доверительные интревалы для коэффициентов стали несколько шире, а также все дамми-переменные, которые раньше были незначимыми, теперь на уровне значимости 5% являются значимыми (гипотеза о незначимости в t-тесте не отвергается), за исключением фиктивной переменной, отвечающей за ветренную погоду"
   ]
  },
  {
   "cell_type": "code",
   "execution_count": 257,
   "metadata": {
    "ExecuteTime": {
     "end_time": "2021-12-15T20:04:29.804508Z",
     "start_time": "2021-12-15T20:04:29.793449Z"
    }
   },
   "outputs": [],
   "source": [
    "X_truncated.drop('Humidity', axis=1, inplace=True)"
   ]
  },
  {
   "cell_type": "code",
   "execution_count": 258,
   "metadata": {
    "ExecuteTime": {
     "end_time": "2021-12-15T20:04:31.655315Z",
     "start_time": "2021-12-15T20:04:31.552567Z"
    }
   },
   "outputs": [
    {
     "name": "stderr",
     "output_type": "stream",
     "text": [
      "C:\\Users\\zolotarev\\Anaconda3\\lib\\site-packages\\statsmodels\\base\\model.py:1832: ValueWarning: covariance of constraints does not have full rank. The number of constraints is 12, but rank is 11\n",
      "  warnings.warn('covariance of constraints does not have full '\n"
     ]
    },
    {
     "data": {
      "text/html": [
       "<table class=\"simpletable\">\n",
       "<caption>OLS Regression Results</caption>\n",
       "<tr>\n",
       "  <th>Dep. Variable:</th>     <td>Temperature (C)</td> <th>  R-squared:         </th>  <td>   0.805</td>  \n",
       "</tr>\n",
       "<tr>\n",
       "  <th>Model:</th>                   <td>OLS</td>       <th>  Adj. R-squared:    </th>  <td>   0.805</td>  \n",
       "</tr>\n",
       "<tr>\n",
       "  <th>Method:</th>             <td>Least Squares</td>  <th>  F-statistic:       </th>  <td>1.627e+05</td> \n",
       "</tr>\n",
       "<tr>\n",
       "  <th>Date:</th>             <td>Wed, 15 Dec 2021</td> <th>  Prob (F-statistic):</th>   <td>  0.00</td>   \n",
       "</tr>\n",
       "<tr>\n",
       "  <th>Time:</th>                 <td>23:04:31</td>     <th>  Log-Likelihood:    </th> <td>-2.7579e+05</td>\n",
       "</tr>\n",
       "<tr>\n",
       "  <th>No. Observations:</th>      <td> 96453</td>      <th>  AIC:               </th>  <td>5.516e+05</td> \n",
       "</tr>\n",
       "<tr>\n",
       "  <th>Df Residuals:</th>          <td> 96440</td>      <th>  BIC:               </th>  <td>5.517e+05</td> \n",
       "</tr>\n",
       "<tr>\n",
       "  <th>Df Model:</th>              <td>    12</td>      <th>                     </th>      <td> </td>     \n",
       "</tr>\n",
       "<tr>\n",
       "  <th>Covariance Type:</th>         <td>HC0</td>       <th>                     </th>      <td> </td>     \n",
       "</tr>\n",
       "</table>\n",
       "<table class=\"simpletable\">\n",
       "<tr>\n",
       "               <td></td>                 <th>coef</th>     <th>std err</th>      <th>z</th>      <th>P>|z|</th>  <th>[0.025</th>    <th>0.975]</th>  \n",
       "</tr>\n",
       "<tr>\n",
       "  <th>const</th>                      <td>   77.1354</td> <td>    1.935</td> <td>   39.855</td> <td> 0.000</td> <td>   73.342</td> <td>   80.929</td>\n",
       "</tr>\n",
       "<tr>\n",
       "  <th>previous_apparent_t</th>        <td>    0.6849</td> <td>    0.002</td> <td>  361.224</td> <td> 0.000</td> <td>    0.681</td> <td>    0.689</td>\n",
       "</tr>\n",
       "<tr>\n",
       "  <th>Wind Speed (km/h)</th>          <td>   -0.0135</td> <td>    0.002</td> <td>   -6.438</td> <td> 0.000</td> <td>   -0.018</td> <td>   -0.009</td>\n",
       "</tr>\n",
       "<tr>\n",
       "  <th>Wind Bearing (degrees)</th>     <td>   -0.0022</td> <td>    0.000</td> <td>  -17.892</td> <td> 0.000</td> <td>   -0.002</td> <td>   -0.002</td>\n",
       "</tr>\n",
       "<tr>\n",
       "  <th>Visibility (km)</th>            <td>    0.1782</td> <td>    0.003</td> <td>   52.115</td> <td> 0.000</td> <td>    0.171</td> <td>    0.185</td>\n",
       "</tr>\n",
       "<tr>\n",
       "  <th>Pressure (millibars)</th>       <td>   -0.0722</td> <td>    0.002</td> <td>  -38.149</td> <td> 0.000</td> <td>   -0.076</td> <td>   -0.068</td>\n",
       "</tr>\n",
       "<tr>\n",
       "  <th>Summary_Breezy and Dry</th>     <td>    3.2558</td> <td>    0.059</td> <td>   54.970</td> <td> 0.000</td> <td>    3.140</td> <td>    3.372</td>\n",
       "</tr>\n",
       "<tr>\n",
       "  <th>Summary_Humid and Overcast</th> <td>   -2.2972</td> <td>    0.665</td> <td>   -3.454</td> <td> 0.001</td> <td>   -3.601</td> <td>   -0.994</td>\n",
       "</tr>\n",
       "<tr>\n",
       "  <th>Summary_Rain</th>               <td>    0.9971</td> <td>    0.408</td> <td>    2.445</td> <td> 0.014</td> <td>    0.198</td> <td>    1.796</td>\n",
       "</tr>\n",
       "<tr>\n",
       "  <th>Summary_Windy</th>              <td>    0.2888</td> <td>    0.554</td> <td>    0.522</td> <td> 0.602</td> <td>   -0.796</td> <td>    1.374</td>\n",
       "</tr>\n",
       "<tr>\n",
       "  <th>Summary_Windy and Dry</th>      <td>    4.9653</td> <td>    0.077</td> <td>   64.404</td> <td> 0.000</td> <td>    4.814</td> <td>    5.116</td>\n",
       "</tr>\n",
       "<tr>\n",
       "  <th>Summary_Windy and Foggy</th>    <td>   -0.6293</td> <td>    1.508</td> <td>   -0.417</td> <td> 0.676</td> <td>   -3.585</td> <td>    2.326</td>\n",
       "</tr>\n",
       "<tr>\n",
       "  <th>Precip Type_snow</th>           <td>   -4.4495</td> <td>    0.053</td> <td>  -84.497</td> <td> 0.000</td> <td>   -4.553</td> <td>   -4.346</td>\n",
       "</tr>\n",
       "</table>\n",
       "<table class=\"simpletable\">\n",
       "<tr>\n",
       "  <th>Omnibus:</th>       <td>6503.909</td> <th>  Durbin-Watson:     </th> <td>   0.162</td> \n",
       "</tr>\n",
       "<tr>\n",
       "  <th>Prob(Omnibus):</th>  <td> 0.000</td>  <th>  Jarque-Bera (JB):  </th> <td>32196.806</td>\n",
       "</tr>\n",
       "<tr>\n",
       "  <th>Skew:</th>           <td> 0.076</td>  <th>  Prob(JB):          </th> <td>    0.00</td> \n",
       "</tr>\n",
       "<tr>\n",
       "  <th>Kurtosis:</th>       <td> 5.826</td>  <th>  Cond. No.          </th> <td>3.21e+05</td> \n",
       "</tr>\n",
       "</table><br/><br/>Notes:<br/>[1] Standard Errors are heteroscedasticity robust (HC0)<br/>[2] The condition number is large, 3.21e+05. This might indicate that there are<br/>strong multicollinearity or other numerical problems."
      ],
      "text/plain": [
       "<class 'statsmodels.iolib.summary.Summary'>\n",
       "\"\"\"\n",
       "                            OLS Regression Results                            \n",
       "==============================================================================\n",
       "Dep. Variable:        Temperature (C)   R-squared:                       0.805\n",
       "Model:                            OLS   Adj. R-squared:                  0.805\n",
       "Method:                 Least Squares   F-statistic:                 1.627e+05\n",
       "Date:                Wed, 15 Dec 2021   Prob (F-statistic):               0.00\n",
       "Time:                        23:04:31   Log-Likelihood:            -2.7579e+05\n",
       "No. Observations:               96453   AIC:                         5.516e+05\n",
       "Df Residuals:                   96440   BIC:                         5.517e+05\n",
       "Df Model:                          12                                         \n",
       "Covariance Type:                  HC0                                         \n",
       "==============================================================================================\n",
       "                                 coef    std err          z      P>|z|      [0.025      0.975]\n",
       "----------------------------------------------------------------------------------------------\n",
       "const                         77.1354      1.935     39.855      0.000      73.342      80.929\n",
       "previous_apparent_t            0.6849      0.002    361.224      0.000       0.681       0.689\n",
       "Wind Speed (km/h)             -0.0135      0.002     -6.438      0.000      -0.018      -0.009\n",
       "Wind Bearing (degrees)        -0.0022      0.000    -17.892      0.000      -0.002      -0.002\n",
       "Visibility (km)                0.1782      0.003     52.115      0.000       0.171       0.185\n",
       "Pressure (millibars)          -0.0722      0.002    -38.149      0.000      -0.076      -0.068\n",
       "Summary_Breezy and Dry         3.2558      0.059     54.970      0.000       3.140       3.372\n",
       "Summary_Humid and Overcast    -2.2972      0.665     -3.454      0.001      -3.601      -0.994\n",
       "Summary_Rain                   0.9971      0.408      2.445      0.014       0.198       1.796\n",
       "Summary_Windy                  0.2888      0.554      0.522      0.602      -0.796       1.374\n",
       "Summary_Windy and Dry          4.9653      0.077     64.404      0.000       4.814       5.116\n",
       "Summary_Windy and Foggy       -0.6293      1.508     -0.417      0.676      -3.585       2.326\n",
       "Precip Type_snow              -4.4495      0.053    -84.497      0.000      -4.553      -4.346\n",
       "==============================================================================\n",
       "Omnibus:                     6503.909   Durbin-Watson:                   0.162\n",
       "Prob(Omnibus):                  0.000   Jarque-Bera (JB):            32196.806\n",
       "Skew:                           0.076   Prob(JB):                         0.00\n",
       "Kurtosis:                       5.826   Cond. No.                     3.21e+05\n",
       "==============================================================================\n",
       "\n",
       "Notes:\n",
       "[1] Standard Errors are heteroscedasticity robust (HC0)\n",
       "[2] The condition number is large, 3.21e+05. This might indicate that there are\n",
       "strong multicollinearity or other numerical problems.\n",
       "\"\"\""
      ]
     },
     "execution_count": 258,
     "metadata": {},
     "output_type": "execute_result"
    }
   ],
   "source": [
    "model = sm.OLS(endog=y, exog=X_truncated).fit(cov_type = 'HC0')\n",
    "\n",
    "model.summary()"
   ]
  },
  {
   "cell_type": "markdown",
   "metadata": {},
   "source": [
    "Видим, что исключение Humidity не дало полного устранения мультиколлинеарности, однако теперь мы можем гарантированно быть уверенны в том, что гетероскедастичности стало меньше"
   ]
  },
  {
   "cell_type": "markdown",
   "metadata": {
    "id": "qjFHS7PU8ZL7"
   },
   "source": [
    "**Пункт 7.** Проведите какой-нибудь тест для идентификации эндогенности. Если эндогенность обнаружена, скорректируйте её каким-нибудь способом."
   ]
  },
  {
   "cell_type": "code",
   "execution_count": null,
   "metadata": {
    "id": "8SXYQlhc8ZL7"
   },
   "outputs": [],
   "source": []
  },
  {
   "cell_type": "markdown",
   "metadata": {
    "id": "CySxmzdO8ZL7"
   },
   "source": [
    "**Пункт 8.** Если после проведённых корректировок интерпретация каких-либо параметров модели изменилась, приведите новую интерпретацию. Сделайте финальный вывод о том, какие факторы влияют на температуру воздуха."
   ]
  },
  {
   "cell_type": "markdown",
   "metadata": {
    "id": "XIlrKF3Z8ZL7"
   },
   "source": [
    "Интерпретация уже интерпертированных ранее коэффициентов не изменилась значительно, поскольку знак при них не изменился. Однако некоторые фиктивные переменные стали значимыми и все они интерпретируются примерно так \"Если на улице так-то так-то, то в-среднем от знания этого факта прогноз температуры увеличится\\уменьшится на столько-то градусов, это можно объяснить тем, что когда на улице так-то так-то, то действительно обычно такое происходит в тёплую\\холодную погоду\""
   ]
  },
  {
   "cell_type": "markdown",
   "metadata": {
    "id": "72xV7r0a8ZL7"
   },
   "source": [
    "**Построение предиктивной модели.**"
   ]
  },
  {
   "cell_type": "markdown",
   "metadata": {
    "id": "xyI4J2GW8ZL7"
   },
   "source": [
    "Воспользуйтесь вашими знаниями из машинного обучения и постройте хорошую предиктивную линейную регрессионную модель для предсказания температуры воздуха. Используйте MAE для выбора лучшей модели. "
   ]
  },
  {
   "cell_type": "markdown",
   "metadata": {},
   "source": [
    "Поскольку мы имеем дело с датасетом, представляющим из себя временные ряды, здесь нельзя делать обычную кросс-валидацию, поэтому сделаем деление на трейн\\валидацию\\тест следующим образом:\n",
    "* трейн - первые 80% выборки по порядку\n",
    "* валидация - следующие 10%\n",
    "* тест - оставшиеся 10%\n",
    "\n",
    "Учитывая тот факт, что в датасете данные более чем за 10 лет, у нас гарантированно будет полный год, поэтому разница значений метрик в валидации\\тесте\\трейне может быть вызвана только аномалиями конкретных лет (сезон дождей, аномальный антициклон и т.д.), но не сезонностью, играющей важную роль в прогнозировании температуры воздуха"
   ]
  },
  {
   "cell_type": "code",
   "execution_count": 261,
   "metadata": {
    "ExecuteTime": {
     "end_time": "2021-12-15T20:12:41.296802Z",
     "start_time": "2021-12-15T20:12:41.289811Z"
    }
   },
   "outputs": [
    {
     "name": "stdout",
     "output_type": "stream",
     "text": [
      "77162 9644 9645\n"
     ]
    }
   ],
   "source": [
    "X_train = X.iloc[:int(len(X)*0.8)]\n",
    "X_val = X.iloc[int(len(X)*0.8)+1:int(len(X)*0.9)]\n",
    "X_test = X.iloc[int(len(X)*0.9)+1:]\n",
    "\n",
    "y_train = y.iloc[:int(len(y)*0.8)]\n",
    "y_val = y.iloc[int(len(y)*0.8)+1:int(len(y)*0.9)]\n",
    "y_test = y.iloc[int(len(y)*0.9)+1:]\n",
    "\n",
    "print(len(y_train), len(y_val), len(y_test))"
   ]
  },
  {
   "cell_type": "markdown",
   "metadata": {},
   "source": [
    "В качестве альтернативы регрессии будем обучать градиентный бустинг, поскольку через архитектуру решающих деревьев, кажется, можно довольно хорошо предсказывать погоду, особенно с имеющимися в нашем распоряжении данными\n",
    "\n",
    "На валидации подбираем лучший набор гиперпараметров, в тест вообще не заглядываем. Будем использовать его для сравнения с объясняющей моделью чуть попозже"
   ]
  },
  {
   "cell_type": "code",
   "execution_count": null,
   "metadata": {},
   "outputs": [],
   "source": []
  },
  {
   "cell_type": "code",
   "execution_count": 266,
   "metadata": {
    "ExecuteTime": {
     "end_time": "2021-12-15T20:27:11.149015Z",
     "start_time": "2021-12-15T20:19:33.940137Z"
    },
    "id": "burjDjtP8ZL8",
    "scrolled": true
   },
   "outputs": [
    {
     "name": "stderr",
     "output_type": "stream",
     "text": [
      "  0%|                                                                                           | 0/99 [00:00<?, ?it/s]"
     ]
    },
    {
     "name": "stdout",
     "output_type": "stream",
     "text": [
      "dict_keys(['learning_rate', 'l2_leaf_reg', 'iterations', 'depth'])\n",
      "dict_values([0.05, 7, 200, 12])\n"
     ]
    },
    {
     "name": "stderr",
     "output_type": "stream",
     "text": [
      "  1%|▊                                                                                  | 1/99 [00:13<22:50, 13.98s/it]"
     ]
    },
    {
     "name": "stdout",
     "output_type": "stream",
     "text": [
      "mae = 2.3332913040044145\n",
      "dict_values([0.001, 1, 200, 10])\n"
     ]
    },
    {
     "name": "stderr",
     "output_type": "stream",
     "text": [
      "  2%|█▋                                                                                 | 2/99 [00:18<13:53,  8.60s/it]"
     ]
    },
    {
     "name": "stdout",
     "output_type": "stream",
     "text": [
      "mae = 6.432284378866307\n",
      "dict_values([1e-05, 7, 1500, 8])\n"
     ]
    },
    {
     "name": "stderr",
     "output_type": "stream",
     "text": [
      "  3%|██▌                                                                                | 3/99 [00:34<18:34, 11.61s/it]"
     ]
    },
    {
     "name": "stdout",
     "output_type": "stream",
     "text": [
      "mae = 7.425295194559059\n",
      "dict_values([0.0001, 1, 500, 6])\n"
     ]
    },
    {
     "name": "stderr",
     "output_type": "stream",
     "text": [
      "  4%|███▎                                                                               | 4/99 [00:37<13:34,  8.57s/it]"
     ]
    },
    {
     "name": "stdout",
     "output_type": "stream",
     "text": [
      "mae = 7.230064398910769\n",
      "dict_values([0.1, 3, 200, 16])\n"
     ]
    },
    {
     "name": "stderr",
     "output_type": "stream",
     "text": [
      "  5%|████                                                                             | 5/99 [04:21<2:14:44, 86.00s/it]"
     ]
    },
    {
     "name": "stdout",
     "output_type": "stream",
     "text": [
      "mae = 2.3635689678891763\n",
      "dict_values([0.0001, 3, 500, 10])\n"
     ]
    },
    {
     "name": "stderr",
     "output_type": "stream",
     "text": [
      "  6%|████▉                                                                            | 6/99 [04:34<1:34:44, 61.12s/it]"
     ]
    },
    {
     "name": "stdout",
     "output_type": "stream",
     "text": [
      "mae = 7.221064455039904\n",
      "dict_values([0.0001, 3, 500, 16])\n"
     ]
    },
    {
     "name": "stderr",
     "output_type": "stream",
     "text": [
      "  6%|████▉                                                                            | 6/99 [07:37<1:58:06, 76.19s/it]\n"
     ]
    },
    {
     "ename": "KeyboardInterrupt",
     "evalue": "",
     "output_type": "error",
     "traceback": [
      "\u001b[1;31m---------------------------------------------------------------------------\u001b[0m",
      "\u001b[1;31mKeyboardInterrupt\u001b[0m                         Traceback (most recent call last)",
      "\u001b[1;32m<ipython-input-266-3928d7357d4b>\u001b[0m in \u001b[0;36m<module>\u001b[1;34m\u001b[0m\n\u001b[0;32m     18\u001b[0m                                     \u001b[0miterations\u001b[0m\u001b[1;33m=\u001b[0m\u001b[0mvalues\u001b[0m\u001b[1;33m[\u001b[0m\u001b[1;36m2\u001b[0m\u001b[1;33m]\u001b[0m\u001b[1;33m,\u001b[0m \u001b[0mlearning_rate\u001b[0m\u001b[1;33m=\u001b[0m\u001b[0mvalues\u001b[0m\u001b[1;33m[\u001b[0m\u001b[1;36m0\u001b[0m\u001b[1;33m]\u001b[0m\u001b[1;33m,\u001b[0m\u001b[1;33m\u001b[0m\u001b[1;33m\u001b[0m\u001b[0m\n\u001b[0;32m     19\u001b[0m                                     random_state=21)\n\u001b[1;32m---> 20\u001b[1;33m         cb_reg.fit(X=X_train, y=y_train, plot=False,\n\u001b[0m\u001b[0;32m     21\u001b[0m                    \u001b[0meval_set\u001b[0m\u001b[1;33m=\u001b[0m\u001b[1;33m[\u001b[0m\u001b[1;33m(\u001b[0m\u001b[0mX_val\u001b[0m\u001b[1;33m,\u001b[0m \u001b[0my_val\u001b[0m\u001b[1;33m)\u001b[0m\u001b[1;33m]\u001b[0m\u001b[1;33m,\u001b[0m\u001b[1;33m\u001b[0m\u001b[1;33m\u001b[0m\u001b[0m\n\u001b[0;32m     22\u001b[0m                   verbose=False)\n",
      "\u001b[1;32m~\\Anaconda3\\lib\\site-packages\\catboost\\core.py\u001b[0m in \u001b[0;36mfit\u001b[1;34m(self, X, y, cat_features, sample_weight, baseline, use_best_model, eval_set, verbose, logging_level, plot, column_description, verbose_eval, metric_period, silent, early_stopping_rounds, save_snapshot, snapshot_file, snapshot_interval, init_model, callbacks, log_cout, log_cerr)\u001b[0m\n\u001b[0;32m   5256\u001b[0m             \u001b[0mCatBoostRegressor\u001b[0m\u001b[1;33m.\u001b[0m\u001b[0m_check_is_compatible_loss\u001b[0m\u001b[1;33m(\u001b[0m\u001b[0mparams\u001b[0m\u001b[1;33m[\u001b[0m\u001b[1;34m'loss_function'\u001b[0m\u001b[1;33m]\u001b[0m\u001b[1;33m)\u001b[0m\u001b[1;33m\u001b[0m\u001b[1;33m\u001b[0m\u001b[0m\n\u001b[0;32m   5257\u001b[0m \u001b[1;33m\u001b[0m\u001b[0m\n\u001b[1;32m-> 5258\u001b[1;33m         return self._fit(X, y, cat_features, None, None, None, sample_weight, None, None, None, None, baseline,\n\u001b[0m\u001b[0;32m   5259\u001b[0m                          \u001b[0muse_best_model\u001b[0m\u001b[1;33m,\u001b[0m \u001b[0meval_set\u001b[0m\u001b[1;33m,\u001b[0m \u001b[0mverbose\u001b[0m\u001b[1;33m,\u001b[0m \u001b[0mlogging_level\u001b[0m\u001b[1;33m,\u001b[0m \u001b[0mplot\u001b[0m\u001b[1;33m,\u001b[0m \u001b[0mcolumn_description\u001b[0m\u001b[1;33m,\u001b[0m\u001b[1;33m\u001b[0m\u001b[1;33m\u001b[0m\u001b[0m\n\u001b[0;32m   5260\u001b[0m                          \u001b[0mverbose_eval\u001b[0m\u001b[1;33m,\u001b[0m \u001b[0mmetric_period\u001b[0m\u001b[1;33m,\u001b[0m \u001b[0msilent\u001b[0m\u001b[1;33m,\u001b[0m \u001b[0mearly_stopping_rounds\u001b[0m\u001b[1;33m,\u001b[0m\u001b[1;33m\u001b[0m\u001b[1;33m\u001b[0m\u001b[0m\n",
      "\u001b[1;32m~\\Anaconda3\\lib\\site-packages\\catboost\\core.py\u001b[0m in \u001b[0;36m_fit\u001b[1;34m(self, X, y, cat_features, text_features, embedding_features, pairs, sample_weight, group_id, group_weight, subgroup_id, pairs_weight, baseline, use_best_model, eval_set, verbose, logging_level, plot, column_description, verbose_eval, metric_period, silent, early_stopping_rounds, save_snapshot, snapshot_file, snapshot_interval, init_model, callbacks, log_cout, log_cerr)\u001b[0m\n\u001b[0;32m   1995\u001b[0m         \u001b[1;32mwith\u001b[0m \u001b[0mlog_fixup\u001b[0m\u001b[1;33m(\u001b[0m\u001b[0mlog_cout\u001b[0m\u001b[1;33m,\u001b[0m \u001b[0mlog_cerr\u001b[0m\u001b[1;33m)\u001b[0m\u001b[1;33m,\u001b[0m\u001b[0;31m \u001b[0m\u001b[0;31m\\\u001b[0m\u001b[1;33m\u001b[0m\u001b[1;33m\u001b[0m\u001b[0m\n\u001b[0;32m   1996\u001b[0m             \u001b[0mplot_wrapper\u001b[0m\u001b[1;33m(\u001b[0m\u001b[0mplot\u001b[0m\u001b[1;33m,\u001b[0m \u001b[1;33m[\u001b[0m\u001b[0m_get_train_dir\u001b[0m\u001b[1;33m(\u001b[0m\u001b[0mself\u001b[0m\u001b[1;33m.\u001b[0m\u001b[0mget_params\u001b[0m\u001b[1;33m(\u001b[0m\u001b[1;33m)\u001b[0m\u001b[1;33m)\u001b[0m\u001b[1;33m]\u001b[0m\u001b[1;33m)\u001b[0m\u001b[1;33m:\u001b[0m\u001b[1;33m\u001b[0m\u001b[1;33m\u001b[0m\u001b[0m\n\u001b[1;32m-> 1997\u001b[1;33m             self._train(\n\u001b[0m\u001b[0;32m   1998\u001b[0m                 \u001b[0mtrain_pool\u001b[0m\u001b[1;33m,\u001b[0m\u001b[1;33m\u001b[0m\u001b[1;33m\u001b[0m\u001b[0m\n\u001b[0;32m   1999\u001b[0m                 \u001b[0mtrain_params\u001b[0m\u001b[1;33m[\u001b[0m\u001b[1;34m\"eval_sets\"\u001b[0m\u001b[1;33m]\u001b[0m\u001b[1;33m,\u001b[0m\u001b[1;33m\u001b[0m\u001b[1;33m\u001b[0m\u001b[0m\n",
      "\u001b[1;32m~\\Anaconda3\\lib\\site-packages\\catboost\\core.py\u001b[0m in \u001b[0;36m_train\u001b[1;34m(self, train_pool, test_pool, params, allow_clear_pool, init_model)\u001b[0m\n\u001b[0;32m   1426\u001b[0m \u001b[1;33m\u001b[0m\u001b[0m\n\u001b[0;32m   1427\u001b[0m     \u001b[1;32mdef\u001b[0m \u001b[0m_train\u001b[0m\u001b[1;33m(\u001b[0m\u001b[0mself\u001b[0m\u001b[1;33m,\u001b[0m \u001b[0mtrain_pool\u001b[0m\u001b[1;33m,\u001b[0m \u001b[0mtest_pool\u001b[0m\u001b[1;33m,\u001b[0m \u001b[0mparams\u001b[0m\u001b[1;33m,\u001b[0m \u001b[0mallow_clear_pool\u001b[0m\u001b[1;33m,\u001b[0m \u001b[0minit_model\u001b[0m\u001b[1;33m)\u001b[0m\u001b[1;33m:\u001b[0m\u001b[1;33m\u001b[0m\u001b[1;33m\u001b[0m\u001b[0m\n\u001b[1;32m-> 1428\u001b[1;33m         \u001b[0mself\u001b[0m\u001b[1;33m.\u001b[0m\u001b[0m_object\u001b[0m\u001b[1;33m.\u001b[0m\u001b[0m_train\u001b[0m\u001b[1;33m(\u001b[0m\u001b[0mtrain_pool\u001b[0m\u001b[1;33m,\u001b[0m \u001b[0mtest_pool\u001b[0m\u001b[1;33m,\u001b[0m \u001b[0mparams\u001b[0m\u001b[1;33m,\u001b[0m \u001b[0mallow_clear_pool\u001b[0m\u001b[1;33m,\u001b[0m \u001b[0minit_model\u001b[0m\u001b[1;33m.\u001b[0m\u001b[0m_object\u001b[0m \u001b[1;32mif\u001b[0m \u001b[0minit_model\u001b[0m \u001b[1;32melse\u001b[0m \u001b[1;32mNone\u001b[0m\u001b[1;33m)\u001b[0m\u001b[1;33m\u001b[0m\u001b[1;33m\u001b[0m\u001b[0m\n\u001b[0m\u001b[0;32m   1429\u001b[0m         \u001b[0mself\u001b[0m\u001b[1;33m.\u001b[0m\u001b[0m_set_trained_model_attributes\u001b[0m\u001b[1;33m(\u001b[0m\u001b[1;33m)\u001b[0m\u001b[1;33m\u001b[0m\u001b[1;33m\u001b[0m\u001b[0m\n\u001b[0;32m   1430\u001b[0m \u001b[1;33m\u001b[0m\u001b[0m\n",
      "\u001b[1;32m_catboost.pyx\u001b[0m in \u001b[0;36m_catboost._CatBoost._train\u001b[1;34m()\u001b[0m\n",
      "\u001b[1;32m_catboost.pyx\u001b[0m in \u001b[0;36m_catboost._CatBoost._train\u001b[1;34m()\u001b[0m\n",
      "\u001b[1;31mKeyboardInterrupt\u001b[0m: "
     ]
    }
   ],
   "source": [
    "from tqdm import tqdm\n",
    "from catboost import CatBoostRegressor\n",
    "from sklearn.model_selection import ParameterSampler\n",
    "from sklearn.metrics import mean_absolute_error\n",
    "\n",
    "params = {'learning_rate': [0.00001, 0.0001, 0.001, 0.01, 0.05, 0.1, 0.2],\n",
    "        'depth': [4, 6, 8, 10, 12, 14, 16],\n",
    "        'l2_leaf_reg': [1, 3, 5, 7, 9],\n",
    "        'iterations': [200, 500, 1000, 1500]}\n",
    "param_list = list(ParameterSampler(param_distributions=params, n_iter=100, random_state=21))\n",
    "mae = np.zeros_like(np.arange(len(param_list)), dtype=float)\n",
    "print(param_list[0].keys())\n",
    "with tqdm(total=len(param_list)-1) as pbar:\n",
    "    for i in range(len(param_list)):\n",
    "        print(param_list[i].values())\n",
    "        values = [*param_list[i].values()]\n",
    "        cb_reg = CatBoostRegressor(depth=values[3], l2_leaf_reg=values[1], \n",
    "                                    iterations=values[2], learning_rate=values[0],\n",
    "                                    random_state=21)\n",
    "        cb_reg.fit(X=X_train, y=y_train, plot=False,\n",
    "                   eval_set=[(X_val, y_val)], \n",
    "                  verbose=False)\n",
    "        y_pred = cb_reg.predict(X_val)\n",
    "        mae[i] = mean_absolute_error(y_pred, y_val)\n",
    "        print('mae =', mae[i])\n",
    "        pbar.update(1)"
   ]
  },
  {
   "cell_type": "markdown",
   "metadata": {},
   "source": [
    "Блин, я не увидел \"линейную регрессионную\" в \"постройте хорошую предиктивную линейную регрессионную модель\", и поздно понял, что дальнейшие пункты для бустинга проверить не получится..."
   ]
  },
  {
   "cell_type": "markdown",
   "metadata": {},
   "source": [
    "В таком случае обучим gblinear из xgboost:"
   ]
  },
  {
   "cell_type": "code",
   "execution_count": 274,
   "metadata": {
    "ExecuteTime": {
     "end_time": "2021-12-15T20:35:31.354893Z",
     "start_time": "2021-12-15T20:32:38.003705Z"
    },
    "scrolled": true
   },
   "outputs": [
    {
     "name": "stderr",
     "output_type": "stream",
     "text": [
      "  0%|                                                                                           | 0/49 [00:00<?, ?it/s]"
     ]
    },
    {
     "name": "stdout",
     "output_type": "stream",
     "text": [
      "dict_keys(['updater', 'lambda', 'feature_selector', 'alpha'])\n",
      "dict_values(['coord_descent', 1, 'random', 0])\n"
     ]
    },
    {
     "name": "stderr",
     "output_type": "stream",
     "text": [
      "  2%|█▋                                                                                 | 1/49 [00:01<01:33,  1.94s/it]"
     ]
    },
    {
     "name": "stdout",
     "output_type": "stream",
     "text": [
      "mae = 2.8279048874800425\n",
      "dict_values(['coord_descent', 1, 'greedy', 0])\n"
     ]
    },
    {
     "name": "stderr",
     "output_type": "stream",
     "text": [
      "  4%|███▍                                                                               | 2/49 [00:09<04:02,  5.16s/it]"
     ]
    },
    {
     "name": "stdout",
     "output_type": "stream",
     "text": [
      "mae = 2.8303907164412463\n",
      "dict_values(['coord_descent', 0, 'thrifty', 7])\n"
     ]
    },
    {
     "name": "stderr",
     "output_type": "stream",
     "text": [
      "  6%|█████                                                                              | 3/49 [00:10<02:42,  3.54s/it]"
     ]
    },
    {
     "name": "stdout",
     "output_type": "stream",
     "text": [
      "mae = 3.131128528148322\n",
      "dict_values(['coord_descent', 7, 'shuffle', 7])\n"
     ]
    },
    {
     "name": "stderr",
     "output_type": "stream",
     "text": [
      "  8%|██████▊                                                                            | 4/49 [00:12<01:58,  2.64s/it]"
     ]
    },
    {
     "name": "stdout",
     "output_type": "stream",
     "text": [
      "mae = 3.2526132702201163\n",
      "dict_values(['coord_descent', 9, 'greedy', 9])\n"
     ]
    },
    {
     "name": "stderr",
     "output_type": "stream",
     "text": [
      " 10%|████████▍                                                                          | 5/49 [00:19<03:11,  4.35s/it]"
     ]
    },
    {
     "name": "stdout",
     "output_type": "stream",
     "text": [
      "mae = 3.3477214340332924\n",
      "dict_values(['coord_descent', 5, 'shuffle', 0])\n"
     ]
    },
    {
     "name": "stderr",
     "output_type": "stream",
     "text": [
      " 12%|██████████▏                                                                        | 6/49 [00:21<02:34,  3.59s/it]"
     ]
    },
    {
     "name": "stdout",
     "output_type": "stream",
     "text": [
      "mae = 2.884591900878073\n",
      "dict_values(['coord_descent', 3, 'cyclic', 9])\n"
     ]
    },
    {
     "name": "stderr",
     "output_type": "stream",
     "text": [
      " 14%|███████████▊                                                                       | 7/49 [00:23<02:02,  2.92s/it]"
     ]
    },
    {
     "name": "stdout",
     "output_type": "stream",
     "text": [
      "mae = 3.2335245614182515\n",
      "dict_values(['coord_descent', 5, 'cyclic', 7])\n"
     ]
    },
    {
     "name": "stderr",
     "output_type": "stream",
     "text": [
      " 16%|█████████████▌                                                                     | 8/49 [00:24<01:40,  2.44s/it]"
     ]
    },
    {
     "name": "stdout",
     "output_type": "stream",
     "text": [
      "mae = 3.216731496602661\n",
      "dict_values(['coord_descent', 3, 'random', 5])\n"
     ]
    },
    {
     "name": "stderr",
     "output_type": "stream",
     "text": [
      " 18%|███████████████▏                                                                   | 9/49 [00:26<01:24,  2.12s/it]"
     ]
    },
    {
     "name": "stdout",
     "output_type": "stream",
     "text": [
      "mae = 3.1348886267752345\n",
      "dict_values(['coord_descent', 3, 'cyclic', 0])\n"
     ]
    },
    {
     "name": "stderr",
     "output_type": "stream",
     "text": [
      " 20%|████████████████▋                                                                 | 10/49 [00:28<01:21,  2.09s/it]"
     ]
    },
    {
     "name": "stdout",
     "output_type": "stream",
     "text": [
      "mae = 2.860641519280933\n",
      "dict_values(['coord_descent', 3, 'thrifty', 5])\n"
     ]
    },
    {
     "name": "stderr",
     "output_type": "stream",
     "text": [
      " 22%|██████████████████▍                                                               | 11/49 [00:29<01:11,  1.89s/it]"
     ]
    },
    {
     "name": "stdout",
     "output_type": "stream",
     "text": [
      "mae = 3.13445268142698\n",
      "dict_values(['coord_descent', 1, 'shuffle', 5])\n"
     ]
    },
    {
     "name": "stderr",
     "output_type": "stream",
     "text": [
      " 24%|████████████████████                                                              | 12/49 [00:30<01:03,  1.72s/it]"
     ]
    },
    {
     "name": "stdout",
     "output_type": "stream",
     "text": [
      "mae = 3.1032996709934384\n",
      "dict_values(['coord_descent', 7, 'random', 9])\n"
     ]
    },
    {
     "name": "stderr",
     "output_type": "stream",
     "text": [
      " 27%|█████████████████████▊                                                            | 13/49 [00:32<00:57,  1.59s/it]"
     ]
    },
    {
     "name": "stdout",
     "output_type": "stream",
     "text": [
      "mae = 3.3091087472085015\n",
      "dict_values(['coord_descent', 5, 'greedy', 0])\n"
     ]
    },
    {
     "name": "stderr",
     "output_type": "stream",
     "text": [
      " 29%|███████████████████████▍                                                          | 14/49 [00:39<01:59,  3.41s/it]"
     ]
    },
    {
     "name": "stdout",
     "output_type": "stream",
     "text": [
      "mae = 2.8882649927760107\n",
      "dict_values(['coord_descent', 0, 'random', 5])\n"
     ]
    },
    {
     "name": "stderr",
     "output_type": "stream",
     "text": [
      " 31%|█████████████████████████                                                         | 15/49 [00:41<01:34,  2.79s/it]"
     ]
    },
    {
     "name": "stdout",
     "output_type": "stream",
     "text": [
      "mae = 3.088747922864574\n",
      "dict_values(['coord_descent', 9, 'greedy', 3])\n"
     ]
    },
    {
     "name": "stderr",
     "output_type": "stream",
     "text": [
      " 33%|██████████████████████████▊                                                       | 16/49 [00:52<02:57,  5.38s/it]"
     ]
    },
    {
     "name": "stdout",
     "output_type": "stream",
     "text": [
      "mae = 3.099041960300419\n",
      "dict_values(['coord_descent', 7, 'random', 7])\n"
     ]
    },
    {
     "name": "stderr",
     "output_type": "stream",
     "text": [
      " 35%|████████████████████████████▍                                                     | 17/49 [00:54<02:19,  4.37s/it]"
     ]
    },
    {
     "name": "stdout",
     "output_type": "stream",
     "text": [
      "mae = 3.2529654508167387\n",
      "dict_values(['coord_descent', 9, 'random', 0])\n"
     ]
    },
    {
     "name": "stderr",
     "output_type": "stream",
     "text": [
      " 37%|██████████████████████████████                                                    | 18/49 [00:57<02:05,  4.04s/it]"
     ]
    },
    {
     "name": "stdout",
     "output_type": "stream",
     "text": [
      "mae = 2.9370284742787183\n",
      "dict_values(['coord_descent', 3, 'greedy', 0])\n"
     ]
    },
    {
     "name": "stderr",
     "output_type": "stream",
     "text": [
      " 39%|███████████████████████████████▊                                                  | 19/49 [01:07<02:51,  5.73s/it]"
     ]
    },
    {
     "name": "stdout",
     "output_type": "stream",
     "text": [
      "mae = 2.8649414911763524\n",
      "dict_values(['coord_descent', 3, 'greedy', 7])\n"
     ]
    },
    {
     "name": "stderr",
     "output_type": "stream",
     "text": [
      " 41%|█████████████████████████████████▍                                                | 20/49 [01:15<03:03,  6.34s/it]"
     ]
    },
    {
     "name": "stdout",
     "output_type": "stream",
     "text": [
      "mae = 3.181665621129778\n",
      "dict_values(['coord_descent', 5, 'random', 1])\n"
     ]
    },
    {
     "name": "stderr",
     "output_type": "stream",
     "text": [
      " 43%|███████████████████████████████████▏                                              | 21/49 [01:16<02:14,  4.82s/it]"
     ]
    },
    {
     "name": "stdout",
     "output_type": "stream",
     "text": [
      "mae = 2.927794129542395\n",
      "dict_values(['coord_descent', 5, 'thrifty', 3])\n"
     ]
    },
    {
     "name": "stderr",
     "output_type": "stream",
     "text": [
      " 45%|████████████████████████████████████▊                                             | 22/49 [01:17<01:42,  3.81s/it]"
     ]
    },
    {
     "name": "stdout",
     "output_type": "stream",
     "text": [
      "mae = 3.043170478417415\n",
      "dict_values(['coord_descent', 0, 'greedy', 5])\n"
     ]
    },
    {
     "name": "stderr",
     "output_type": "stream",
     "text": [
      " 47%|██████████████████████████████████████▍                                           | 23/49 [01:25<02:09,  4.98s/it]"
     ]
    },
    {
     "name": "stdout",
     "output_type": "stream",
     "text": [
      "mae = 3.088273410989484\n",
      "dict_values(['coord_descent', 5, 'greedy', 9])\n"
     ]
    },
    {
     "name": "stderr",
     "output_type": "stream",
     "text": [
      " 49%|████████████████████████████████████████▏                                         | 24/49 [01:34<02:35,  6.21s/it]"
     ]
    },
    {
     "name": "stdout",
     "output_type": "stream",
     "text": [
      "mae = 3.270801989498765\n",
      "dict_values(['coord_descent', 5, 'thrifty', 5])\n"
     ]
    },
    {
     "name": "stderr",
     "output_type": "stream",
     "text": [
      " 51%|█████████████████████████████████████████▊                                        | 25/49 [01:36<01:54,  4.78s/it]"
     ]
    },
    {
     "name": "stdout",
     "output_type": "stream",
     "text": [
      "mae = 3.167195208123672\n",
      "dict_values(['coord_descent', 0, 'random', 1])\n"
     ]
    },
    {
     "name": "stderr",
     "output_type": "stream",
     "text": [
      " 53%|███████████████████████████████████████████▌                                      | 26/49 [01:37<01:26,  3.77s/it]"
     ]
    },
    {
     "name": "stdout",
     "output_type": "stream",
     "text": [
      "mae = 2.8710032324790076\n",
      "dict_values(['coord_descent', 7, 'greedy', 1])\n"
     ]
    },
    {
     "name": "stderr",
     "output_type": "stream",
     "text": [
      " 55%|█████████████████████████████████████████████▏                                    | 27/49 [01:44<01:45,  4.79s/it]"
     ]
    },
    {
     "name": "stdout",
     "output_type": "stream",
     "text": [
      "mae = 2.953432382302678\n",
      "dict_values(['coord_descent', 0, 'shuffle', 0])\n"
     ]
    },
    {
     "name": "stderr",
     "output_type": "stream",
     "text": [
      " 57%|██████████████████████████████████████████████▊                                   | 28/49 [01:46<01:23,  3.97s/it]"
     ]
    },
    {
     "name": "stdout",
     "output_type": "stream",
     "text": [
      "mae = 2.7421157591004732\n",
      "dict_values(['coord_descent', 7, 'greedy', 0])\n"
     ]
    },
    {
     "name": "stderr",
     "output_type": "stream",
     "text": [
      " 59%|████████████████████████████████████████████████▌                                 | 29/49 [01:55<01:48,  5.41s/it]"
     ]
    },
    {
     "name": "stdout",
     "output_type": "stream",
     "text": [
      "mae = 2.9120455292913254\n",
      "dict_values(['coord_descent', 5, 'shuffle', 7])\n"
     ]
    },
    {
     "name": "stderr",
     "output_type": "stream",
     "text": [
      " 61%|██████████████████████████████████████████████████▏                               | 30/49 [01:56<01:19,  4.19s/it]"
     ]
    },
    {
     "name": "stdout",
     "output_type": "stream",
     "text": [
      "mae = 3.21672770088568\n",
      "dict_values(['coord_descent', 7, 'shuffle', 1])\n"
     ]
    },
    {
     "name": "stderr",
     "output_type": "stream",
     "text": [
      " 63%|███████████████████████████████████████████████████▉                              | 31/49 [01:58<01:00,  3.36s/it]"
     ]
    },
    {
     "name": "stdout",
     "output_type": "stream",
     "text": [
      "mae = 2.9537632869366073\n",
      "dict_values(['coord_descent', 3, 'cyclic', 3])\n"
     ]
    },
    {
     "name": "stderr",
     "output_type": "stream",
     "text": [
      " 65%|█████████████████████████████████████████████████████▌                            | 32/49 [01:59<00:47,  2.79s/it]"
     ]
    },
    {
     "name": "stdout",
     "output_type": "stream",
     "text": [
      "mae = 3.0181149926736195\n",
      "dict_values(['coord_descent', 7, 'shuffle', 3])\n"
     ]
    },
    {
     "name": "stderr",
     "output_type": "stream",
     "text": [
      " 67%|███████████████████████████████████████████████████████▏                          | 33/49 [02:01<00:37,  2.36s/it]"
     ]
    },
    {
     "name": "stdout",
     "output_type": "stream",
     "text": [
      "mae = 3.0701655065994387\n",
      "dict_values(['coord_descent', 1, 'cyclic', 9])\n"
     ]
    },
    {
     "name": "stderr",
     "output_type": "stream",
     "text": [
      " 69%|████████████████████████████████████████████████████████▉                         | 34/49 [02:02<00:30,  2.06s/it]"
     ]
    },
    {
     "name": "stdout",
     "output_type": "stream",
     "text": [
      "mae = 3.197069772293729\n",
      "dict_values(['coord_descent', 7, 'random', 5])\n"
     ]
    },
    {
     "name": "stderr",
     "output_type": "stream",
     "text": [
      " 71%|██████████████████████████████████████████████████████████▌                       | 35/49 [02:03<00:26,  1.86s/it]"
     ]
    },
    {
     "name": "stdout",
     "output_type": "stream",
     "text": [
      "mae = 3.2013095379675076\n",
      "dict_values(['coord_descent', 3, 'thrifty', 0])\n"
     ]
    },
    {
     "name": "stderr",
     "output_type": "stream",
     "text": [
      " 73%|████████████████████████████████████████████████████████████▏                     | 36/49 [02:06<00:26,  2.05s/it]"
     ]
    },
    {
     "name": "stdout",
     "output_type": "stream",
     "text": [
      "mae = 2.8605523421715713\n",
      "dict_values(['coord_descent', 1, 'thrifty', 5])\n"
     ]
    },
    {
     "name": "stderr",
     "output_type": "stream",
     "text": [
      " 76%|█████████████████████████████████████████████████████████████▉                    | 37/49 [02:08<00:23,  1.95s/it]"
     ]
    },
    {
     "name": "stdout",
     "output_type": "stream",
     "text": [
      "mae = 3.103312387458712\n",
      "dict_values(['coord_descent', 3, 'thrifty', 7])\n"
     ]
    },
    {
     "name": "stderr",
     "output_type": "stream",
     "text": [
      " 78%|███████████████████████████████████████████████████████████████▌                  | 38/49 [02:10<00:21,  1.98s/it]"
     ]
    },
    {
     "name": "stdout",
     "output_type": "stream",
     "text": [
      "mae = 3.181619293024075\n",
      "dict_values(['coord_descent', 5, 'shuffle', 9])\n"
     ]
    },
    {
     "name": "stderr",
     "output_type": "stream",
     "text": [
      " 80%|█████████████████████████████████████████████████████████████████▎                | 39/49 [02:12<00:19,  1.99s/it]"
     ]
    },
    {
     "name": "stdout",
     "output_type": "stream",
     "text": [
      "mae = 3.270691830037794\n",
      "dict_values(['coord_descent', 5, 'cyclic', 9])\n"
     ]
    },
    {
     "name": "stderr",
     "output_type": "stream",
     "text": [
      " 82%|██████████████████████████████████████████████████████████████████▉               | 40/49 [02:13<00:16,  1.89s/it]"
     ]
    },
    {
     "name": "stdout",
     "output_type": "stream",
     "text": [
      "mae = 3.2706224556886476\n",
      "dict_values(['coord_descent', 1, 'shuffle', 1])\n"
     ]
    },
    {
     "name": "stderr",
     "output_type": "stream",
     "text": [
      " 84%|████████████████████████████████████████████████████████████████████▌             | 41/49 [02:15<00:14,  1.84s/it]"
     ]
    },
    {
     "name": "stdout",
     "output_type": "stream",
     "text": [
      "mae = 2.8796574431015842\n",
      "dict_values(['coord_descent', 0, 'thrifty', 9])\n"
     ]
    },
    {
     "name": "stderr",
     "output_type": "stream",
     "text": [
      " 86%|██████████████████████████████████████████████████████████████████████▎           | 42/49 [02:17<00:13,  1.96s/it]"
     ]
    },
    {
     "name": "stdout",
     "output_type": "stream",
     "text": [
      "mae = 3.179241669512717\n",
      "dict_values(['coord_descent', 0, 'thrifty', 5])\n"
     ]
    },
    {
     "name": "stderr",
     "output_type": "stream",
     "text": [
      " 88%|███████████████████████████████████████████████████████████████████████▉          | 43/49 [02:19<00:11,  1.88s/it]"
     ]
    },
    {
     "name": "stdout",
     "output_type": "stream",
     "text": [
      "mae = 3.088306756336775\n",
      "dict_values(['coord_descent', 9, 'greedy', 0])\n"
     ]
    },
    {
     "name": "stderr",
     "output_type": "stream",
     "text": [
      " 90%|█████████████████████████████████████████████████████████████████████████▋        | 44/49 [02:28<00:19,  3.95s/it]"
     ]
    },
    {
     "name": "stdout",
     "output_type": "stream",
     "text": [
      "mae = 2.937644315546166\n",
      "dict_values(['coord_descent', 1, 'shuffle', 7])\n"
     ]
    },
    {
     "name": "stderr",
     "output_type": "stream",
     "text": [
      " 92%|███████████████████████████████████████████████████████████████████████████▎      | 45/49 [02:30<00:13,  3.27s/it]"
     ]
    },
    {
     "name": "stdout",
     "output_type": "stream",
     "text": [
      "mae = 3.1477456503463475\n",
      "dict_values(['coord_descent', 3, 'shuffle', 3])\n"
     ]
    },
    {
     "name": "stderr",
     "output_type": "stream",
     "text": [
      " 94%|████████████████████████████████████████████████████████████████████████████▉     | 46/49 [02:31<00:08,  2.76s/it]"
     ]
    },
    {
     "name": "stdout",
     "output_type": "stream",
     "text": [
      "mae = 3.0171623011733635\n",
      "dict_values(['coord_descent', 3, 'random', 1])\n"
     ]
    },
    {
     "name": "stderr",
     "output_type": "stream",
     "text": [
      " 96%|██████████████████████████████████████████████████████████████████████████████▋   | 47/49 [02:33<00:04,  2.41s/it]"
     ]
    },
    {
     "name": "stdout",
     "output_type": "stream",
     "text": [
      "mae = 2.903025778219543\n",
      "dict_values(['coord_descent', 5, 'greedy', 7])\n"
     ]
    },
    {
     "name": "stderr",
     "output_type": "stream",
     "text": [
      " 98%|████████████████████████████████████████████████████████████████████████████████▎ | 48/49 [02:42<00:04,  4.37s/it]"
     ]
    },
    {
     "name": "stdout",
     "output_type": "stream",
     "text": [
      "mae = 3.2166606250978176\n",
      "dict_values(['coord_descent', 9, 'greedy', 7])\n"
     ]
    },
    {
     "name": "stderr",
     "output_type": "stream",
     "text": [
      "100%|██████████████████████████████████████████████████████████████████████████████████| 49/49 [02:51<00:00,  5.94s/it]"
     ]
    },
    {
     "name": "stdout",
     "output_type": "stream",
     "text": [
      "mae = 3.2892573401844887\n",
      "dict_values(['coord_descent', 5, 'random', 3])\n"
     ]
    },
    {
     "name": "stderr",
     "output_type": "stream",
     "text": [
      "50it [02:53,  3.47s/it]                                                                                                "
     ]
    },
    {
     "name": "stdout",
     "output_type": "stream",
     "text": [
      "mae = 3.0434504024759628\n"
     ]
    },
    {
     "name": "stderr",
     "output_type": "stream",
     "text": [
      "\n"
     ]
    }
   ],
   "source": [
    "import xgboost as xgb\n",
    "params = {'updater': ['coord_descent'],\n",
    "        'feature_selector': ['cyclic', 'shuffle', 'random', 'greedy', 'thrifty'],\n",
    "        'lambda': [0, 1, 3, 5, 7, 9],\n",
    "        'alpha': [0, 1, 3, 5, 7, 9]}\n",
    "param_list = list(ParameterSampler(param_distributions=params, n_iter=50, random_state=21))\n",
    "mae = np.zeros_like(np.arange(len(param_list)), dtype=float)\n",
    "print(param_list[0].keys())\n",
    "with tqdm(total=len(param_list)-1) as pbar:\n",
    "    for i in range(len(param_list)):\n",
    "        print(param_list[i].values())\n",
    "        values = [*param_list[i].values()]\n",
    "        xgb_reg = xgb.XGBRegressor(alpha=values[3], reg_lambda=values[1], \n",
    "                                    feature_selector=values[2], updater=values[0],\n",
    "                                    booster='gblinear', random_state=21)\n",
    "        xgb_reg.fit(X=X_train, y=y_train,\n",
    "                   eval_set=[(X_val, y_val)], verbose=False)\n",
    "        y_pred = xgb_reg.predict(X_val)\n",
    "        mae[i] = mean_absolute_error(y_pred, y_val)\n",
    "        print('mae =', mae[i])\n",
    "        pbar.update(1)"
   ]
  },
  {
   "cell_type": "code",
   "execution_count": 275,
   "metadata": {
    "ExecuteTime": {
     "end_time": "2021-12-15T20:36:23.597261Z",
     "start_time": "2021-12-15T20:36:23.590250Z"
    }
   },
   "outputs": [
    {
     "data": {
      "text/plain": [
       "2.7421157591004732"
      ]
     },
     "execution_count": 275,
     "metadata": {},
     "output_type": "execute_result"
    }
   ],
   "source": [
    "np.min(mae)"
   ]
  },
  {
   "cell_type": "markdown",
   "metadata": {
    "id": "trhzTsbT8ZL8"
   },
   "source": [
    "**Сравнение объясняющей и предиктивной моделей.**"
   ]
  },
  {
   "cell_type": "markdown",
   "metadata": {
    "id": "RokJ_-Kq8ZL8"
   },
   "source": [
    "**Пункт 1.** Является ли предиктивная модель значимой в целом? Что можно сказать о значимости отдельных коэффициентов? "
   ]
  },
  {
   "cell_type": "code",
   "execution_count": 277,
   "metadata": {
    "ExecuteTime": {
     "end_time": "2021-12-15T20:39:38.166170Z",
     "start_time": "2021-12-15T20:39:35.846282Z"
    }
   },
   "outputs": [
    {
     "name": "stdout",
     "output_type": "stream",
     "text": [
      "mae = 2.851950660648486\n",
      "r2 = 0.810237811939681\n"
     ]
    }
   ],
   "source": [
    "from sklearn.metrics import r2_score\n",
    "\n",
    "values = ['coord_descent', 0, 'shuffle', 0]\n",
    "xgb_reg = xgb.XGBRegressor(alpha=values[3], reg_lambda=values[1], \n",
    "                            feature_selector=values[2], updater=values[0],\n",
    "                            booster='gblinear', random_state=21)\n",
    "xgb_reg.fit(X, y)\n",
    "y_pred = xgb_reg.predict(X)\n",
    "print('mae =', mean_absolute_error(y_pred, y))\n",
    "print('r2 =', r2_score(y_pred, y))"
   ]
  },
  {
   "cell_type": "code",
   "execution_count": 286,
   "metadata": {
    "ExecuteTime": {
     "end_time": "2021-12-15T20:46:10.552604Z",
     "start_time": "2021-12-15T20:46:10.535159Z"
    },
    "id": "SxmgzbQ-8ZL8"
   },
   "outputs": [
    {
     "data": {
      "text/html": [
       "<div>\n",
       "<style scoped>\n",
       "    .dataframe tbody tr th:only-of-type {\n",
       "        vertical-align: middle;\n",
       "    }\n",
       "\n",
       "    .dataframe tbody tr th {\n",
       "        vertical-align: top;\n",
       "    }\n",
       "\n",
       "    .dataframe thead th {\n",
       "        text-align: right;\n",
       "    }\n",
       "</style>\n",
       "<table border=\"1\" class=\"dataframe\">\n",
       "  <thead>\n",
       "    <tr style=\"text-align: right;\">\n",
       "      <th></th>\n",
       "      <th>0</th>\n",
       "      <th>1</th>\n",
       "    </tr>\n",
       "  </thead>\n",
       "  <tbody>\n",
       "    <tr>\n",
       "      <th>0</th>\n",
       "      <td>previous_apparent_t</td>\n",
       "      <td>0.599582</td>\n",
       "    </tr>\n",
       "    <tr>\n",
       "      <th>1</th>\n",
       "      <td>Humidity</td>\n",
       "      <td>-9.731430</td>\n",
       "    </tr>\n",
       "    <tr>\n",
       "      <th>2</th>\n",
       "      <td>Wind Speed (km/h)</td>\n",
       "      <td>-0.048474</td>\n",
       "    </tr>\n",
       "    <tr>\n",
       "      <th>3</th>\n",
       "      <td>Wind Bearing (degrees)</td>\n",
       "      <td>-0.000719</td>\n",
       "    </tr>\n",
       "    <tr>\n",
       "      <th>4</th>\n",
       "      <td>Visibility (km)</td>\n",
       "      <td>0.104958</td>\n",
       "    </tr>\n",
       "    <tr>\n",
       "      <th>5</th>\n",
       "      <td>Pressure (millibars)</td>\n",
       "      <td>0.001867</td>\n",
       "    </tr>\n",
       "    <tr>\n",
       "      <th>6</th>\n",
       "      <td>Summary_Breezy</td>\n",
       "      <td>2.917010</td>\n",
       "    </tr>\n",
       "    <tr>\n",
       "      <th>7</th>\n",
       "      <td>Summary_Breezy and Dry</td>\n",
       "      <td>2.072420</td>\n",
       "    </tr>\n",
       "    <tr>\n",
       "      <th>8</th>\n",
       "      <td>Summary_Breezy and Foggy</td>\n",
       "      <td>3.754570</td>\n",
       "    </tr>\n",
       "    <tr>\n",
       "      <th>9</th>\n",
       "      <td>Summary_Breezy and Mostly Cloudy</td>\n",
       "      <td>2.418970</td>\n",
       "    </tr>\n",
       "    <tr>\n",
       "      <th>10</th>\n",
       "      <td>Summary_Breezy and Overcast</td>\n",
       "      <td>2.204480</td>\n",
       "    </tr>\n",
       "    <tr>\n",
       "      <th>11</th>\n",
       "      <td>Summary_Breezy and Partly Cloudy</td>\n",
       "      <td>1.651770</td>\n",
       "    </tr>\n",
       "    <tr>\n",
       "      <th>12</th>\n",
       "      <td>Summary_Clear</td>\n",
       "      <td>1.961760</td>\n",
       "    </tr>\n",
       "    <tr>\n",
       "      <th>13</th>\n",
       "      <td>Summary_Drizzle</td>\n",
       "      <td>3.447160</td>\n",
       "    </tr>\n",
       "    <tr>\n",
       "      <th>14</th>\n",
       "      <td>Summary_Dry</td>\n",
       "      <td>5.567420</td>\n",
       "    </tr>\n",
       "    <tr>\n",
       "      <th>15</th>\n",
       "      <td>Summary_Dry and Mostly Cloudy</td>\n",
       "      <td>3.454330</td>\n",
       "    </tr>\n",
       "    <tr>\n",
       "      <th>16</th>\n",
       "      <td>Summary_Dry and Partly Cloudy</td>\n",
       "      <td>4.170620</td>\n",
       "    </tr>\n",
       "    <tr>\n",
       "      <th>17</th>\n",
       "      <td>Summary_Foggy</td>\n",
       "      <td>2.392610</td>\n",
       "    </tr>\n",
       "    <tr>\n",
       "      <th>18</th>\n",
       "      <td>Summary_Humid and Mostly Cloudy</td>\n",
       "      <td>3.620120</td>\n",
       "    </tr>\n",
       "    <tr>\n",
       "      <th>19</th>\n",
       "      <td>Summary_Humid and Overcast</td>\n",
       "      <td>2.953410</td>\n",
       "    </tr>\n",
       "    <tr>\n",
       "      <th>20</th>\n",
       "      <td>Summary_Humid and Partly Cloudy</td>\n",
       "      <td>4.601770</td>\n",
       "    </tr>\n",
       "    <tr>\n",
       "      <th>21</th>\n",
       "      <td>Summary_Light Rain</td>\n",
       "      <td>2.773390</td>\n",
       "    </tr>\n",
       "    <tr>\n",
       "      <th>22</th>\n",
       "      <td>Summary_Mostly Cloudy</td>\n",
       "      <td>2.466750</td>\n",
       "    </tr>\n",
       "    <tr>\n",
       "      <th>23</th>\n",
       "      <td>Summary_Overcast</td>\n",
       "      <td>2.029650</td>\n",
       "    </tr>\n",
       "    <tr>\n",
       "      <th>24</th>\n",
       "      <td>Summary_Partly Cloudy</td>\n",
       "      <td>2.729610</td>\n",
       "    </tr>\n",
       "    <tr>\n",
       "      <th>25</th>\n",
       "      <td>Summary_Rain</td>\n",
       "      <td>4.289430</td>\n",
       "    </tr>\n",
       "    <tr>\n",
       "      <th>26</th>\n",
       "      <td>Summary_Windy</td>\n",
       "      <td>1.257180</td>\n",
       "    </tr>\n",
       "    <tr>\n",
       "      <th>27</th>\n",
       "      <td>Summary_Windy and Dry</td>\n",
       "      <td>4.561780</td>\n",
       "    </tr>\n",
       "    <tr>\n",
       "      <th>28</th>\n",
       "      <td>Summary_Windy and Foggy</td>\n",
       "      <td>4.761880</td>\n",
       "    </tr>\n",
       "    <tr>\n",
       "      <th>29</th>\n",
       "      <td>Summary_Windy and Mostly Cloudy</td>\n",
       "      <td>3.513500</td>\n",
       "    </tr>\n",
       "    <tr>\n",
       "      <th>30</th>\n",
       "      <td>Summary_Windy and Overcast</td>\n",
       "      <td>2.078450</td>\n",
       "    </tr>\n",
       "    <tr>\n",
       "      <th>31</th>\n",
       "      <td>Summary_Windy and Partly Cloudy</td>\n",
       "      <td>1.976490</td>\n",
       "    </tr>\n",
       "    <tr>\n",
       "      <th>32</th>\n",
       "      <td>Precip Type_snow</td>\n",
       "      <td>-5.191140</td>\n",
       "    </tr>\n",
       "  </tbody>\n",
       "</table>\n",
       "</div>"
      ],
      "text/plain": [
       "                                   0         1\n",
       "0                previous_apparent_t  0.599582\n",
       "1                           Humidity -9.731430\n",
       "2                  Wind Speed (km/h) -0.048474\n",
       "3             Wind Bearing (degrees) -0.000719\n",
       "4                    Visibility (km)  0.104958\n",
       "5               Pressure (millibars)  0.001867\n",
       "6                     Summary_Breezy  2.917010\n",
       "7             Summary_Breezy and Dry  2.072420\n",
       "8           Summary_Breezy and Foggy  3.754570\n",
       "9   Summary_Breezy and Mostly Cloudy  2.418970\n",
       "10       Summary_Breezy and Overcast  2.204480\n",
       "11  Summary_Breezy and Partly Cloudy  1.651770\n",
       "12                     Summary_Clear  1.961760\n",
       "13                   Summary_Drizzle  3.447160\n",
       "14                       Summary_Dry  5.567420\n",
       "15     Summary_Dry and Mostly Cloudy  3.454330\n",
       "16     Summary_Dry and Partly Cloudy  4.170620\n",
       "17                     Summary_Foggy  2.392610\n",
       "18   Summary_Humid and Mostly Cloudy  3.620120\n",
       "19        Summary_Humid and Overcast  2.953410\n",
       "20   Summary_Humid and Partly Cloudy  4.601770\n",
       "21                Summary_Light Rain  2.773390\n",
       "22             Summary_Mostly Cloudy  2.466750\n",
       "23                  Summary_Overcast  2.029650\n",
       "24             Summary_Partly Cloudy  2.729610\n",
       "25                      Summary_Rain  4.289430\n",
       "26                     Summary_Windy  1.257180\n",
       "27             Summary_Windy and Dry  4.561780\n",
       "28           Summary_Windy and Foggy  4.761880\n",
       "29   Summary_Windy and Mostly Cloudy  3.513500\n",
       "30        Summary_Windy and Overcast  2.078450\n",
       "31   Summary_Windy and Partly Cloudy  1.976490\n",
       "32                  Precip Type_snow -5.191140"
      ]
     },
     "execution_count": 286,
     "metadata": {},
     "output_type": "execute_result"
    }
   ],
   "source": [
    "pd.concat([pd.Series(X.columns), pd.Series(xgb_reg.coef_)], axis=1)"
   ]
  },
  {
   "cell_type": "markdown",
   "metadata": {},
   "source": [
    "Можем заключить о значимости проведённой регрессии в силу высокого значения доли объяснённой дисперсии для всей рассматриваемой выборки (поскольку существует сильная связь между значимостью регрессии и метрикой $R^2$, при достигнутом значении можно даже не заморачиваться с тестом на значимость регрессии в целом)\n",
    "\n",
    "Для отдельных коэффициентов значимость регрессии не проверил, поскольку строил регрессию не в statsmodels :(\n",
    "\n",
    "Но видно, что переменная влажности оказывает значимое влияние на целевую переменную, поскольку её значение сильно отлично от 0"
   ]
  },
  {
   "cell_type": "markdown",
   "metadata": {
    "id": "YCAdhE0K8ZL8"
   },
   "source": [
    "**Пункт 2.** Как различаются регрессоры объясняющей и предиктивной моделей? Есть ли такие регрессоры, которые вошли в одну, но не вошли в другую. Если да, приведите возможную содержательную интерпретацию этого явления."
   ]
  },
  {
   "cell_type": "code",
   "execution_count": 282,
   "metadata": {
    "ExecuteTime": {
     "end_time": "2021-12-15T20:45:02.490580Z",
     "start_time": "2021-12-15T20:45:02.473466Z"
    },
    "id": "iiP3Gdtg8ZL8"
   },
   "outputs": [
    {
     "data": {
      "text/plain": [
       "const                         77.135374\n",
       "previous_apparent_t            0.684908\n",
       "Wind Speed (km/h)             -0.013494\n",
       "Wind Bearing (degrees)        -0.002243\n",
       "Visibility (km)                0.178199\n",
       "Pressure (millibars)          -0.072203\n",
       "Summary_Breezy and Dry         3.255772\n",
       "Summary_Humid and Overcast    -2.297158\n",
       "Summary_Rain                   0.997103\n",
       "Summary_Windy                  0.288834\n",
       "Summary_Windy and Dry          4.965283\n",
       "Summary_Windy and Foggy       -0.629314\n",
       "Precip Type_snow              -4.449474\n",
       "dtype: float64"
      ]
     },
     "execution_count": 282,
     "metadata": {},
     "output_type": "execute_result"
    }
   ],
   "source": [
    "model.params"
   ]
  },
  {
   "cell_type": "markdown",
   "metadata": {},
   "source": [
    "Модели не совсем сравнимы, поскольку для предиктивной модели нас не так заботит проблема мультиколлинеарности (особенно в бустинге), поэтому туда включены все регрессоры, которые я изначально хотел использовать. При этом в бустинге нет константы, поэтому значения многих фиктивных переменных сильно больше, чем тех, которые остались в объясняющей модели. Коэффициент при фиктивной переменной снега в бустинге оказался больше по абсолютному значению, тогда как видимость оказывает в 2 раза большее влияние в объясняющей модели"
   ]
  },
  {
   "cell_type": "markdown",
   "metadata": {
    "id": "GUqVeL2r8ZL8"
   },
   "source": [
    "**Пункт 3.** На основе предыдущего анализа, сделайте вывод, можно ли использовать объясняющую модель для предсказания, а предиктивную -- для объяснений. Если да, то сравните предсказательную и объяснительную силу этих моделей на основе каких-нибудь метрик."
   ]
  },
  {
   "cell_type": "markdown",
   "metadata": {
    "id": "XMWoEeLG8ZL9"
   },
   "source": [
    "Объясняющую модель можно использовать для предсказания, поскольку на всей выборке доля объяснённой моделью дисперсии между двумя моделями сопоставима (уже посчитано, для объясняющей это 0.805, для предиктивной - 0.810), тогда как предиктивную также можно использовать для объяснения, пользуясь интерпретацией, аналогичной той, что была дана для коэффициентов объясняющей модели"
   ]
  },
  {
   "cell_type": "markdown",
   "metadata": {
    "id": "MN-mx7tU8ZL9"
   },
   "source": [
    "## Задача 2: \"Борьба с гетероскедастичностью\" (5 баллов)."
   ]
  },
  {
   "cell_type": "markdown",
   "metadata": {
    "id": "jFDgD-Ei8ZL9"
   },
   "source": [
    "Рассмотрим линейную регрессионную модель\n",
    "\n",
    "$$y_i = 10+2x_i+\\varepsilon_i$$\n",
    "\n",
    "$$x_i \\sim N(40, 4)$$\n",
    "\n",
    "$$\\varepsilon_i \\sim N(0,x_i^2)$$"
   ]
  },
  {
   "cell_type": "markdown",
   "metadata": {
    "id": "0JOZUjSt8ZL9"
   },
   "source": [
    "**Пункт 1.** Сгенерируйте выборку размера $n=50$. Оцените модель с помощью МНК. Прокомментируйте значимость регрессоров и проверьте  модель на гетероскедастичность при помощи вашего любимого теста. "
   ]
  },
  {
   "cell_type": "code",
   "execution_count": 71,
   "metadata": {
    "ExecuteTime": {
     "end_time": "2021-12-15T11:28:32.385874Z",
     "start_time": "2021-12-15T11:28:32.208636Z"
    },
    "id": "F8QB2p8W8ZL9"
   },
   "outputs": [
    {
     "data": {
      "image/png": "[encoded data removed]",
      "text/plain": [
       "<Figure size 1152x864 with 1 Axes>"
      ]
     },
     "metadata": {
      "needs_background": "light"
     },
     "output_type": "display_data"
    }
   ],
   "source": [
    "x = np.random.normal(loc=40.0, scale=2.0, size=50)\n",
    "eps = np.random.normal(loc=0.0, scale=x, size=50)\n",
    "y = 10+2*x+eps\n",
    "\n",
    "plt.figure(figsize=(16, 12))\n",
    "plt.scatter(x, y, label='Истинные точки')\n",
    "plt.plot(x, y-eps, c='g', label='Регрессия')\n",
    "plt.legend()\n",
    "plt.show()"
   ]
  },
  {
   "cell_type": "code",
   "execution_count": 72,
   "metadata": {
    "ExecuteTime": {
     "end_time": "2021-12-15T11:28:35.099005Z",
     "start_time": "2021-12-15T11:28:35.083735Z"
    }
   },
   "outputs": [
    {
     "data": {
      "text/html": [
       "<div>\n",
       "<style scoped>\n",
       "    .dataframe tbody tr th:only-of-type {\n",
       "        vertical-align: middle;\n",
       "    }\n",
       "\n",
       "    .dataframe tbody tr th {\n",
       "        vertical-align: top;\n",
       "    }\n",
       "\n",
       "    .dataframe thead th {\n",
       "        text-align: right;\n",
       "    }\n",
       "</style>\n",
       "<table border=\"1\" class=\"dataframe\">\n",
       "  <thead>\n",
       "    <tr style=\"text-align: right;\">\n",
       "      <th></th>\n",
       "      <th>x</th>\n",
       "      <th>y</th>\n",
       "    </tr>\n",
       "  </thead>\n",
       "  <tbody>\n",
       "    <tr>\n",
       "      <th>0</th>\n",
       "      <td>40.080120</td>\n",
       "      <td>32.900114</td>\n",
       "    </tr>\n",
       "    <tr>\n",
       "      <th>1</th>\n",
       "      <td>40.324972</td>\n",
       "      <td>34.739874</td>\n",
       "    </tr>\n",
       "    <tr>\n",
       "      <th>2</th>\n",
       "      <td>36.557294</td>\n",
       "      <td>133.976181</td>\n",
       "    </tr>\n",
       "    <tr>\n",
       "      <th>3</th>\n",
       "      <td>41.119734</td>\n",
       "      <td>77.709642</td>\n",
       "    </tr>\n",
       "    <tr>\n",
       "      <th>4</th>\n",
       "      <td>39.184713</td>\n",
       "      <td>137.672269</td>\n",
       "    </tr>\n",
       "  </tbody>\n",
       "</table>\n",
       "</div>"
      ],
      "text/plain": [
       "           x           y\n",
       "0  40.080120   32.900114\n",
       "1  40.324972   34.739874\n",
       "2  36.557294  133.976181\n",
       "3  41.119734   77.709642\n",
       "4  39.184713  137.672269"
      ]
     },
     "execution_count": 72,
     "metadata": {},
     "output_type": "execute_result"
    }
   ],
   "source": [
    "data = pd.DataFrame(np.vstack([x, y]).T, columns=['x', 'y'])\n",
    "data.head()"
   ]
  },
  {
   "cell_type": "code",
   "execution_count": 73,
   "metadata": {
    "ExecuteTime": {
     "end_time": "2021-12-15T11:28:36.655486Z",
     "start_time": "2021-12-15T11:28:36.628441Z"
    }
   },
   "outputs": [
    {
     "data": {
      "text/html": [
       "<table class=\"simpletable\">\n",
       "<caption>OLS Regression Results</caption>\n",
       "<tr>\n",
       "  <th>Dep. Variable:</th>            <td>y</td>        <th>  R-squared:         </th> <td>   0.011</td>\n",
       "</tr>\n",
       "<tr>\n",
       "  <th>Model:</th>                   <td>OLS</td>       <th>  Adj. R-squared:    </th> <td>  -0.009</td>\n",
       "</tr>\n",
       "<tr>\n",
       "  <th>Method:</th>             <td>Least Squares</td>  <th>  F-statistic:       </th> <td>  0.5463</td>\n",
       "</tr>\n",
       "<tr>\n",
       "  <th>Date:</th>             <td>Wed, 15 Dec 2021</td> <th>  Prob (F-statistic):</th>  <td> 0.463</td> \n",
       "</tr>\n",
       "<tr>\n",
       "  <th>Time:</th>                 <td>14:28:36</td>     <th>  Log-Likelihood:    </th> <td> -253.29</td>\n",
       "</tr>\n",
       "<tr>\n",
       "  <th>No. Observations:</th>      <td>    50</td>      <th>  AIC:               </th> <td>   510.6</td>\n",
       "</tr>\n",
       "<tr>\n",
       "  <th>Df Residuals:</th>          <td>    48</td>      <th>  BIC:               </th> <td>   514.4</td>\n",
       "</tr>\n",
       "<tr>\n",
       "  <th>Df Model:</th>              <td>     1</td>      <th>                     </th>     <td> </td>   \n",
       "</tr>\n",
       "<tr>\n",
       "  <th>Covariance Type:</th>      <td>nonrobust</td>    <th>                     </th>     <td> </td>   \n",
       "</tr>\n",
       "</table>\n",
       "<table class=\"simpletable\">\n",
       "<tr>\n",
       "      <td></td>         <th>coef</th>     <th>std err</th>      <th>t</th>      <th>P>|t|</th>  <th>[0.025</th>    <th>0.975]</th>  \n",
       "</tr>\n",
       "<tr>\n",
       "  <th>Intercept</th> <td>    4.5666</td> <td>  111.606</td> <td>    0.041</td> <td> 0.968</td> <td> -219.833</td> <td>  228.966</td>\n",
       "</tr>\n",
       "<tr>\n",
       "  <th>x</th>         <td>    2.0799</td> <td>    2.814</td> <td>    0.739</td> <td> 0.463</td> <td>   -3.578</td> <td>    7.738</td>\n",
       "</tr>\n",
       "</table>\n",
       "<table class=\"simpletable\">\n",
       "<tr>\n",
       "  <th>Omnibus:</th>       <td> 0.001</td> <th>  Durbin-Watson:     </th> <td>   1.871</td>\n",
       "</tr>\n",
       "<tr>\n",
       "  <th>Prob(Omnibus):</th> <td> 0.999</td> <th>  Jarque-Bera (JB):  </th> <td>   0.102</td>\n",
       "</tr>\n",
       "<tr>\n",
       "  <th>Skew:</th>          <td>-0.007</td> <th>  Prob(JB):          </th> <td>   0.950</td>\n",
       "</tr>\n",
       "<tr>\n",
       "  <th>Kurtosis:</th>      <td> 2.779</td> <th>  Cond. No.          </th> <td>    800.</td>\n",
       "</tr>\n",
       "</table><br/><br/>Notes:<br/>[1] Standard Errors assume that the covariance matrix of the errors is correctly specified."
      ],
      "text/plain": [
       "<class 'statsmodels.iolib.summary.Summary'>\n",
       "\"\"\"\n",
       "                            OLS Regression Results                            \n",
       "==============================================================================\n",
       "Dep. Variable:                      y   R-squared:                       0.011\n",
       "Model:                            OLS   Adj. R-squared:                 -0.009\n",
       "Method:                 Least Squares   F-statistic:                    0.5463\n",
       "Date:                Wed, 15 Dec 2021   Prob (F-statistic):              0.463\n",
       "Time:                        14:28:36   Log-Likelihood:                -253.29\n",
       "No. Observations:                  50   AIC:                             510.6\n",
       "Df Residuals:                      48   BIC:                             514.4\n",
       "Df Model:                           1                                         \n",
       "Covariance Type:            nonrobust                                         \n",
       "==============================================================================\n",
       "                 coef    std err          t      P>|t|      [0.025      0.975]\n",
       "------------------------------------------------------------------------------\n",
       "Intercept      4.5666    111.606      0.041      0.968    -219.833     228.966\n",
       "x              2.0799      2.814      0.739      0.463      -3.578       7.738\n",
       "==============================================================================\n",
       "Omnibus:                        0.001   Durbin-Watson:                   1.871\n",
       "Prob(Omnibus):                  0.999   Jarque-Bera (JB):                0.102\n",
       "Skew:                          -0.007   Prob(JB):                        0.950\n",
       "Kurtosis:                       2.779   Cond. No.                         800.\n",
       "==============================================================================\n",
       "\n",
       "Notes:\n",
       "[1] Standard Errors assume that the covariance matrix of the errors is correctly specified.\n",
       "\"\"\""
      ]
     },
     "execution_count": 73,
     "metadata": {},
     "output_type": "execute_result"
    }
   ],
   "source": [
    "model = smf.ols(data=data, formula='y ~ x').fit()\n",
    "\n",
    "model.summary()"
   ]
  },
  {
   "cell_type": "markdown",
   "metadata": {},
   "source": [
    "Гипотеза о незначимости для константы отвергается на уровне значимости $\\alpha=0.05$, в то время как гипотеза о незначимости для регрессора $X$ не отвергается на любом разумном уровне значимости"
   ]
  },
  {
   "cell_type": "markdown",
   "metadata": {},
   "source": [
    "Проведём тест Голдфельда-Куандта на гетероскедастичность:\n",
    "$$H_0: \\sigma^2_i = \\sigma^2$$\n",
    "$$H_1: \\sigma_i \\sim X_i$$"
   ]
  },
  {
   "cell_type": "code",
   "execution_count": 74,
   "metadata": {
    "ExecuteTime": {
     "end_time": "2021-12-15T11:28:46.892939Z",
     "start_time": "2021-12-15T11:28:46.879714Z"
    }
   },
   "outputs": [
    {
     "data": {
      "text/plain": [
       "(0.7054709960278469, 0.7954575698986486, 'increasing')"
      ]
     },
     "execution_count": 74,
     "metadata": {},
     "output_type": "execute_result"
    }
   ],
   "source": [
    "sms.het_goldfeldquandt(y=model.model.endog, x=model.model.exog, alternative='increasing')"
   ]
  },
  {
   "cell_type": "markdown",
   "metadata": {},
   "source": [
    "Гипотеза об отсутствии гетероскедастичности в модели не отвергается на любом общепринятом уровне значимости в соответствии с проведённым тестом Голдфельда-Куандта. Гетероскедастичность не выявлена"
   ]
  },
  {
   "cell_type": "code",
   "execution_count": 75,
   "metadata": {
    "ExecuteTime": {
     "end_time": "2021-12-15T11:28:51.658073Z",
     "start_time": "2021-12-15T11:28:51.643056Z"
    }
   },
   "outputs": [
    {
     "data": {
      "text/plain": [
       "(2.2000434604261434,\n",
       " 0.13800684656255377,\n",
       " 2.209250671870931,\n",
       " 0.14372464138326246)"
      ]
     },
     "execution_count": 75,
     "metadata": {},
     "output_type": "execute_result"
    }
   ],
   "source": [
    "sms.het_breuschpagan(model.resid, model.model.exog)"
   ]
  },
  {
   "cell_type": "markdown",
   "metadata": {},
   "source": [
    "Обе статистики лежат в окрестности 2.2, в обоих случаях гипотеза об отсутствии гетероскедастичности не отвергается с вероятностью ошибки первого рода >0.0"
   ]
  },
  {
   "cell_type": "markdown",
   "metadata": {
    "id": "DQ7q79V88ZL9"
   },
   "source": [
    "**Пункт 2.** Оцените модель с помощью WLS и выведите стандартные ошибки коэффициентов, устойчивые к гетероскедастичности. Сравните результаты оценки с результатами предыдущего пункта.\n",
    "\n",
    "**Hint:** [о WLS и его связи с FGLS](https://en.wikipedia.org/wiki/Generalized_least_squares). "
   ]
  },
  {
   "cell_type": "markdown",
   "metadata": {},
   "source": [
    "В рамках WLS мы рассматриваем $\\sigma_i^2$ как $\\sigma^2\\cdot\\omega_i$. В нашем случае $\\omega_i=x_i^2$. Значит нам необходимо всё поделить на $x_i$ (В соответствии с [этой статьёй](http://www3.grips.ac.jp/~yamanota/Lecture_Note_10_GLS_WLS_FGLS.pdf)) и найти МНК-оценку преобразованной модели:"
   ]
  },
  {
   "cell_type": "code",
   "execution_count": 76,
   "metadata": {
    "ExecuteTime": {
     "end_time": "2021-12-15T11:29:19.112702Z",
     "start_time": "2021-12-15T11:29:19.090630Z"
    }
   },
   "outputs": [
    {
     "data": {
      "text/html": [
       "<div>\n",
       "<style scoped>\n",
       "    .dataframe tbody tr th:only-of-type {\n",
       "        vertical-align: middle;\n",
       "    }\n",
       "\n",
       "    .dataframe tbody tr th {\n",
       "        vertical-align: top;\n",
       "    }\n",
       "\n",
       "    .dataframe thead th {\n",
       "        text-align: right;\n",
       "    }\n",
       "</style>\n",
       "<table border=\"1\" class=\"dataframe\">\n",
       "  <thead>\n",
       "    <tr style=\"text-align: right;\">\n",
       "      <th></th>\n",
       "      <th>const_weighted</th>\n",
       "      <th>y_weighted</th>\n",
       "    </tr>\n",
       "  </thead>\n",
       "  <tbody>\n",
       "    <tr>\n",
       "      <th>0</th>\n",
       "      <td>0.024950</td>\n",
       "      <td>0.820859</td>\n",
       "    </tr>\n",
       "    <tr>\n",
       "      <th>1</th>\n",
       "      <td>0.024799</td>\n",
       "      <td>0.861498</td>\n",
       "    </tr>\n",
       "    <tr>\n",
       "      <th>2</th>\n",
       "      <td>0.027354</td>\n",
       "      <td>3.664828</td>\n",
       "    </tr>\n",
       "    <tr>\n",
       "      <th>3</th>\n",
       "      <td>0.024319</td>\n",
       "      <td>1.889838</td>\n",
       "    </tr>\n",
       "    <tr>\n",
       "      <th>4</th>\n",
       "      <td>0.025520</td>\n",
       "      <td>3.513418</td>\n",
       "    </tr>\n",
       "  </tbody>\n",
       "</table>\n",
       "</div>"
      ],
      "text/plain": [
       "   const_weighted  y_weighted\n",
       "0        0.024950    0.820859\n",
       "1        0.024799    0.861498\n",
       "2        0.027354    3.664828\n",
       "3        0.024319    1.889838\n",
       "4        0.025520    3.513418"
      ]
     },
     "execution_count": 76,
     "metadata": {},
     "output_type": "execute_result"
    }
   ],
   "source": [
    "y_weighted = y/x\n",
    "const_weighted = 1/x\n",
    "x_weighted = x/x\n",
    "data = pd.DataFrame(np.vstack([const_weighted, y_weighted]).T, columns=['const_weighted', 'y_weighted'])\n",
    "data.head()"
   ]
  },
  {
   "cell_type": "markdown",
   "metadata": {},
   "source": [
    "Поскольку в рамках коррекции гетероскедастичности взвешенный $x$ прерватился в константу, мы можем просто применить МНК-оценивание из statsmodels, держа в уме, что константой будет оценка взвешенного $x$"
   ]
  },
  {
   "cell_type": "code",
   "execution_count": 80,
   "metadata": {
    "ExecuteTime": {
     "end_time": "2021-12-15T11:38:08.300089Z",
     "start_time": "2021-12-15T11:38:08.141047Z"
    }
   },
   "outputs": [
    {
     "data": {
      "image/png": "[encoded data removed]",
      "text/plain": [
       "<Figure size 1152x864 with 1 Axes>"
      ]
     },
     "metadata": {
      "needs_background": "light"
     },
     "output_type": "display_data"
    }
   ],
   "source": [
    "plt.figure(figsize=(16, 12))\n",
    "plt.scatter(const_weighted, y_weighted, label='Истинные точки')\n",
    "plt.plot(const_weighted, y_weighted-eps/x, c='g', label='Регрессия')\n",
    "plt.legend()\n",
    "plt.show()"
   ]
  },
  {
   "cell_type": "markdown",
   "metadata": {},
   "source": [
    "Видим, что получившаяся модель кажется не особо высококачественной и взвешивание наблюдений для устранения гетероскедастичности дало более равномерное распределение ошибок по ходу возрастания независимой переменной, однако не улучшило модель"
   ]
  },
  {
   "cell_type": "code",
   "execution_count": 77,
   "metadata": {
    "ExecuteTime": {
     "end_time": "2021-12-15T11:31:02.997997Z",
     "start_time": "2021-12-15T11:31:02.978993Z"
    },
    "id": "gl6QBC-u8ZL9"
   },
   "outputs": [
    {
     "data": {
      "text/html": [
       "<table class=\"simpletable\">\n",
       "<caption>WLS Regression Results</caption>\n",
       "<tr>\n",
       "  <th>Dep. Variable:</th>       <td>y_weighted</td>    <th>  R-squared:         </th> <td>   0.000</td>\n",
       "</tr>\n",
       "<tr>\n",
       "  <th>Model:</th>                   <td>WLS</td>       <th>  Adj. R-squared:    </th> <td>  -0.020</td>\n",
       "</tr>\n",
       "<tr>\n",
       "  <th>Method:</th>             <td>Least Squares</td>  <th>  F-statistic:       </th> <td> 0.02331</td>\n",
       "</tr>\n",
       "<tr>\n",
       "  <th>Date:</th>             <td>Wed, 15 Dec 2021</td> <th>  Prob (F-statistic):</th>  <td> 0.879</td> \n",
       "</tr>\n",
       "<tr>\n",
       "  <th>Time:</th>                 <td>14:31:02</td>     <th>  Log-Likelihood:    </th> <td> -68.834</td>\n",
       "</tr>\n",
       "<tr>\n",
       "  <th>No. Observations:</th>      <td>    50</td>      <th>  AIC:               </th> <td>   141.7</td>\n",
       "</tr>\n",
       "<tr>\n",
       "  <th>Df Residuals:</th>          <td>    48</td>      <th>  BIC:               </th> <td>   145.5</td>\n",
       "</tr>\n",
       "<tr>\n",
       "  <th>Df Model:</th>              <td>     1</td>      <th>                     </th>     <td> </td>   \n",
       "</tr>\n",
       "<tr>\n",
       "  <th>Covariance Type:</th>      <td>nonrobust</td>    <th>                     </th>     <td> </td>   \n",
       "</tr>\n",
       "</table>\n",
       "<table class=\"simpletable\">\n",
       "<tr>\n",
       "         <td></td>           <th>coef</th>     <th>std err</th>      <th>t</th>      <th>P>|t|</th>  <th>[0.025</th>    <th>0.975]</th>  \n",
       "</tr>\n",
       "<tr>\n",
       "  <th>Intercept</th>      <td>    1.7717</td> <td>    2.782</td> <td>    0.637</td> <td> 0.527</td> <td>   -3.822</td> <td>    7.365</td>\n",
       "</tr>\n",
       "<tr>\n",
       "  <th>const_weighted</th> <td>   16.7616</td> <td>  109.785</td> <td>    0.153</td> <td> 0.879</td> <td> -203.976</td> <td>  237.500</td>\n",
       "</tr>\n",
       "</table>\n",
       "<table class=\"simpletable\">\n",
       "<tr>\n",
       "  <th>Omnibus:</th>       <td> 0.035</td> <th>  Durbin-Watson:     </th> <td>   1.864</td>\n",
       "</tr>\n",
       "<tr>\n",
       "  <th>Prob(Omnibus):</th> <td> 0.983</td> <th>  Jarque-Bera (JB):  </th> <td>   0.212</td>\n",
       "</tr>\n",
       "<tr>\n",
       "  <th>Skew:</th>          <td>-0.026</td> <th>  Prob(JB):          </th> <td>   0.899</td>\n",
       "</tr>\n",
       "<tr>\n",
       "  <th>Kurtosis:</th>      <td> 2.685</td> <th>  Cond. No.          </th> <td>    794.</td>\n",
       "</tr>\n",
       "</table><br/><br/>Notes:<br/>[1] Standard Errors assume that the covariance matrix of the errors is correctly specified."
      ],
      "text/plain": [
       "<class 'statsmodels.iolib.summary.Summary'>\n",
       "\"\"\"\n",
       "                            WLS Regression Results                            \n",
       "==============================================================================\n",
       "Dep. Variable:             y_weighted   R-squared:                       0.000\n",
       "Model:                            WLS   Adj. R-squared:                 -0.020\n",
       "Method:                 Least Squares   F-statistic:                   0.02331\n",
       "Date:                Wed, 15 Dec 2021   Prob (F-statistic):              0.879\n",
       "Time:                        14:31:02   Log-Likelihood:                -68.834\n",
       "No. Observations:                  50   AIC:                             141.7\n",
       "Df Residuals:                      48   BIC:                             145.5\n",
       "Df Model:                           1                                         \n",
       "Covariance Type:            nonrobust                                         \n",
       "==================================================================================\n",
       "                     coef    std err          t      P>|t|      [0.025      0.975]\n",
       "----------------------------------------------------------------------------------\n",
       "Intercept          1.7717      2.782      0.637      0.527      -3.822       7.365\n",
       "const_weighted    16.7616    109.785      0.153      0.879    -203.976     237.500\n",
       "==============================================================================\n",
       "Omnibus:                        0.035   Durbin-Watson:                   1.864\n",
       "Prob(Omnibus):                  0.983   Jarque-Bera (JB):                0.212\n",
       "Skew:                          -0.026   Prob(JB):                        0.899\n",
       "Kurtosis:                       2.685   Cond. No.                         794.\n",
       "==============================================================================\n",
       "\n",
       "Notes:\n",
       "[1] Standard Errors assume that the covariance matrix of the errors is correctly specified.\n",
       "\"\"\""
      ]
     },
     "execution_count": 77,
     "metadata": {},
     "output_type": "execute_result"
    }
   ],
   "source": [
    "model2 = smf.wls(data=data, formula='y_weighted ~ const_weighted').fit()\n",
    "model2.summary()"
   ]
  },
  {
   "cell_type": "markdown",
   "metadata": {},
   "source": [
    "Видим, что теперь и для взвешенного $X$, и для взвешенной константы гипотеза о незначимости не отвергается на любом разумном уровне значимости"
   ]
  },
  {
   "cell_type": "markdown",
   "metadata": {},
   "source": [
    "Выведем стандартные ошибки коэффициентов, устойчивых к гетероскедастичности"
   ]
  },
  {
   "cell_type": "code",
   "execution_count": 79,
   "metadata": {
    "ExecuteTime": {
     "end_time": "2021-12-15T11:34:42.851143Z",
     "start_time": "2021-12-15T11:34:42.832777Z"
    }
   },
   "outputs": [
    {
     "data": {
      "text/plain": [
       "Intercept           2.896489\n",
       "const_weighted    113.451914\n",
       "dtype: float64"
      ]
     },
     "execution_count": 79,
     "metadata": {},
     "output_type": "execute_result"
    }
   ],
   "source": [
    "model2.HC0_se"
   ]
  },
  {
   "cell_type": "markdown",
   "metadata": {},
   "source": [
    "Видим, что значения коэффициентов очень сильно варьируются (как и без коррекции на устойчивость к гетероскедастичности), что говорит о слабой предсказательной силе модели и её адекватности в целом"
   ]
  },
  {
   "cell_type": "markdown",
   "metadata": {
    "id": "i1dJElPK8ZL9"
   },
   "source": [
    "**Пункт 3.** Повторите действия 1-2 пунктов $n=10000$. Прокомментируйте, почему поменялись или не поменялись результаты оценки моделей."
   ]
  },
  {
   "cell_type": "code",
   "execution_count": 83,
   "metadata": {
    "ExecuteTime": {
     "end_time": "2021-12-15T11:48:35.697175Z",
     "start_time": "2021-12-15T11:48:35.445645Z"
    },
    "id": "AjkAHptL8ZL9"
   },
   "outputs": [
    {
     "data": {
      "image/png": "[encoded data removed]",
      "text/plain": [
       "<Figure size 1152x864 with 1 Axes>"
      ]
     },
     "metadata": {
      "needs_background": "light"
     },
     "output_type": "display_data"
    }
   ],
   "source": [
    "x = np.random.normal(loc=40.0, scale=2.0, size=10000)\n",
    "eps = np.random.normal(loc=0.0, scale=x, size=10000)\n",
    "y = 10+2*x+eps\n",
    "\n",
    "plt.figure(figsize=(16, 12))\n",
    "plt.scatter(x, y, label='Истинные точки')\n",
    "plt.plot(x, y-eps, c='g', label='Регрессия')\n",
    "plt.legend()\n",
    "plt.show()"
   ]
  },
  {
   "cell_type": "code",
   "execution_count": 84,
   "metadata": {
    "ExecuteTime": {
     "end_time": "2021-12-15T11:48:40.583409Z",
     "start_time": "2021-12-15T11:48:40.551344Z"
    }
   },
   "outputs": [
    {
     "data": {
      "text/html": [
       "<table class=\"simpletable\">\n",
       "<caption>OLS Regression Results</caption>\n",
       "<tr>\n",
       "  <th>Dep. Variable:</th>            <td>y</td>        <th>  R-squared:         </th> <td>   0.009</td> \n",
       "</tr>\n",
       "<tr>\n",
       "  <th>Model:</th>                   <td>OLS</td>       <th>  Adj. R-squared:    </th> <td>   0.009</td> \n",
       "</tr>\n",
       "<tr>\n",
       "  <th>Method:</th>             <td>Least Squares</td>  <th>  F-statistic:       </th> <td>   94.90</td> \n",
       "</tr>\n",
       "<tr>\n",
       "  <th>Date:</th>             <td>Wed, 15 Dec 2021</td> <th>  Prob (F-statistic):</th> <td>2.52e-22</td> \n",
       "</tr>\n",
       "<tr>\n",
       "  <th>Time:</th>                 <td>14:48:40</td>     <th>  Log-Likelihood:    </th> <td> -51090.</td> \n",
       "</tr>\n",
       "<tr>\n",
       "  <th>No. Observations:</th>      <td> 10000</td>      <th>  AIC:               </th> <td>1.022e+05</td>\n",
       "</tr>\n",
       "<tr>\n",
       "  <th>Df Residuals:</th>          <td>  9998</td>      <th>  BIC:               </th> <td>1.022e+05</td>\n",
       "</tr>\n",
       "<tr>\n",
       "  <th>Df Model:</th>              <td>     1</td>      <th>                     </th>     <td> </td>    \n",
       "</tr>\n",
       "<tr>\n",
       "  <th>Covariance Type:</th>      <td>nonrobust</td>    <th>                     </th>     <td> </td>    \n",
       "</tr>\n",
       "</table>\n",
       "<table class=\"simpletable\">\n",
       "<tr>\n",
       "      <td></td>         <th>coef</th>     <th>std err</th>      <th>t</th>      <th>P>|t|</th>  <th>[0.025</th>    <th>0.975]</th>  \n",
       "</tr>\n",
       "<tr>\n",
       "  <th>Intercept</th> <td>   10.5888</td> <td>    8.045</td> <td>    1.316</td> <td> 0.188</td> <td>   -5.182</td> <td>   26.359</td>\n",
       "</tr>\n",
       "<tr>\n",
       "  <th>x</th>         <td>    1.9580</td> <td>    0.201</td> <td>    9.742</td> <td> 0.000</td> <td>    1.564</td> <td>    2.352</td>\n",
       "</tr>\n",
       "</table>\n",
       "<table class=\"simpletable\">\n",
       "<tr>\n",
       "  <th>Omnibus:</th>       <td> 1.620</td> <th>  Durbin-Watson:     </th> <td>   2.011</td>\n",
       "</tr>\n",
       "<tr>\n",
       "  <th>Prob(Omnibus):</th> <td> 0.445</td> <th>  Jarque-Bera (JB):  </th> <td>   1.602</td>\n",
       "</tr>\n",
       "<tr>\n",
       "  <th>Skew:</th>          <td>-0.014</td> <th>  Prob(JB):          </th> <td>   0.449</td>\n",
       "</tr>\n",
       "<tr>\n",
       "  <th>Kurtosis:</th>      <td> 3.055</td> <th>  Cond. No.          </th> <td>    805.</td>\n",
       "</tr>\n",
       "</table><br/><br/>Notes:<br/>[1] Standard Errors assume that the covariance matrix of the errors is correctly specified."
      ],
      "text/plain": [
       "<class 'statsmodels.iolib.summary.Summary'>\n",
       "\"\"\"\n",
       "                            OLS Regression Results                            \n",
       "==============================================================================\n",
       "Dep. Variable:                      y   R-squared:                       0.009\n",
       "Model:                            OLS   Adj. R-squared:                  0.009\n",
       "Method:                 Least Squares   F-statistic:                     94.90\n",
       "Date:                Wed, 15 Dec 2021   Prob (F-statistic):           2.52e-22\n",
       "Time:                        14:48:40   Log-Likelihood:                -51090.\n",
       "No. Observations:               10000   AIC:                         1.022e+05\n",
       "Df Residuals:                    9998   BIC:                         1.022e+05\n",
       "Df Model:                           1                                         \n",
       "Covariance Type:            nonrobust                                         \n",
       "==============================================================================\n",
       "                 coef    std err          t      P>|t|      [0.025      0.975]\n",
       "------------------------------------------------------------------------------\n",
       "Intercept     10.5888      8.045      1.316      0.188      -5.182      26.359\n",
       "x              1.9580      0.201      9.742      0.000       1.564       2.352\n",
       "==============================================================================\n",
       "Omnibus:                        1.620   Durbin-Watson:                   2.011\n",
       "Prob(Omnibus):                  0.445   Jarque-Bera (JB):                1.602\n",
       "Skew:                          -0.014   Prob(JB):                        0.449\n",
       "Kurtosis:                       3.055   Cond. No.                         805.\n",
       "==============================================================================\n",
       "\n",
       "Notes:\n",
       "[1] Standard Errors assume that the covariance matrix of the errors is correctly specified.\n",
       "\"\"\""
      ]
     },
     "execution_count": 84,
     "metadata": {},
     "output_type": "execute_result"
    }
   ],
   "source": [
    "data = pd.DataFrame(np.vstack([x, y]).T, columns=['x', 'y'])\n",
    "model = smf.ols(data=data, formula='y ~ x').fit()\n",
    "model.summary()"
   ]
  },
  {
   "cell_type": "markdown",
   "metadata": {},
   "source": [
    "Видим, что теперь коэффициент при независимой переменной является значимым на любом уровне значимости, как и сама модель в целом. Проведём тест на гетероскедастичность:"
   ]
  },
  {
   "cell_type": "code",
   "execution_count": 85,
   "metadata": {
    "ExecuteTime": {
     "end_time": "2021-12-15T11:49:40.714804Z",
     "start_time": "2021-12-15T11:49:40.705801Z"
    }
   },
   "outputs": [
    {
     "data": {
      "text/plain": [
       "(44.73485724411641,\n",
       " 2.256049931692788e-11,\n",
       " 44.92689007405649,\n",
       " 2.155632636293281e-11)"
      ]
     },
     "execution_count": 85,
     "metadata": {},
     "output_type": "execute_result"
    }
   ],
   "source": [
    "sms.het_breuschpagan(model.resid, model.model.exog)"
   ]
  },
  {
   "cell_type": "markdown",
   "metadata": {},
   "source": [
    "Тест Бреуша-Пагана на гетероскедастичность отвергает гипотезу об отсутствии гетероскедастичности в остатках на любом разумном уровне значимости"
   ]
  },
  {
   "cell_type": "markdown",
   "metadata": {},
   "source": [
    "Взвесим переменные на Х:"
   ]
  },
  {
   "cell_type": "code",
   "execution_count": 86,
   "metadata": {
    "ExecuteTime": {
     "end_time": "2021-12-15T11:51:08.467305Z",
     "start_time": "2021-12-15T11:51:08.449230Z"
    }
   },
   "outputs": [
    {
     "data": {
      "text/html": [
       "<div>\n",
       "<style scoped>\n",
       "    .dataframe tbody tr th:only-of-type {\n",
       "        vertical-align: middle;\n",
       "    }\n",
       "\n",
       "    .dataframe tbody tr th {\n",
       "        vertical-align: top;\n",
       "    }\n",
       "\n",
       "    .dataframe thead th {\n",
       "        text-align: right;\n",
       "    }\n",
       "</style>\n",
       "<table border=\"1\" class=\"dataframe\">\n",
       "  <thead>\n",
       "    <tr style=\"text-align: right;\">\n",
       "      <th></th>\n",
       "      <th>const_weighted</th>\n",
       "      <th>y_weighted</th>\n",
       "    </tr>\n",
       "  </thead>\n",
       "  <tbody>\n",
       "    <tr>\n",
       "      <th>0</th>\n",
       "      <td>0.024920</td>\n",
       "      <td>1.034508</td>\n",
       "    </tr>\n",
       "    <tr>\n",
       "      <th>1</th>\n",
       "      <td>0.024411</td>\n",
       "      <td>2.478683</td>\n",
       "    </tr>\n",
       "    <tr>\n",
       "      <th>2</th>\n",
       "      <td>0.025997</td>\n",
       "      <td>1.722970</td>\n",
       "    </tr>\n",
       "    <tr>\n",
       "      <th>3</th>\n",
       "      <td>0.024675</td>\n",
       "      <td>1.876698</td>\n",
       "    </tr>\n",
       "    <tr>\n",
       "      <th>4</th>\n",
       "      <td>0.023998</td>\n",
       "      <td>0.431399</td>\n",
       "    </tr>\n",
       "  </tbody>\n",
       "</table>\n",
       "</div>"
      ],
      "text/plain": [
       "   const_weighted  y_weighted\n",
       "0        0.024920    1.034508\n",
       "1        0.024411    2.478683\n",
       "2        0.025997    1.722970\n",
       "3        0.024675    1.876698\n",
       "4        0.023998    0.431399"
      ]
     },
     "execution_count": 86,
     "metadata": {},
     "output_type": "execute_result"
    }
   ],
   "source": [
    "y_weighted = y/x\n",
    "const_weighted = 1/x\n",
    "x_weighted = x/x\n",
    "data = pd.DataFrame(np.vstack([const_weighted, y_weighted]).T, columns=['const_weighted', 'y_weighted'])\n",
    "data.head()"
   ]
  },
  {
   "cell_type": "code",
   "execution_count": 89,
   "metadata": {
    "ExecuteTime": {
     "end_time": "2021-12-15T11:53:05.319503Z",
     "start_time": "2021-12-15T11:53:05.088482Z"
    }
   },
   "outputs": [
    {
     "data": {
      "image/png": "[encoded data removed]",
      "text/plain": [
       "<Figure size 1152x864 with 1 Axes>"
      ]
     },
     "metadata": {
      "needs_background": "light"
     },
     "output_type": "display_data"
    }
   ],
   "source": [
    "plt.figure(figsize=(16, 12))\n",
    "plt.scatter(const_weighted, y_weighted, label='Истинные точки')\n",
    "plt.plot(const_weighted, y_weighted-eps/x, c='g', label='Регрессия')\n",
    "plt.legend()\n",
    "plt.show()"
   ]
  },
  {
   "cell_type": "markdown",
   "metadata": {},
   "source": [
    "Визуально при взвешивании наблюдений изменился лишь угол наклона для независимой переменной, ну и в конце выборки значения стали чуть ближе к линии"
   ]
  },
  {
   "cell_type": "code",
   "execution_count": 87,
   "metadata": {
    "ExecuteTime": {
     "end_time": "2021-12-15T11:51:25.355652Z",
     "start_time": "2021-12-15T11:51:25.321656Z"
    }
   },
   "outputs": [
    {
     "data": {
      "text/html": [
       "<table class=\"simpletable\">\n",
       "<caption>WLS Regression Results</caption>\n",
       "<tr>\n",
       "  <th>Dep. Variable:</th>       <td>y_weighted</td>    <th>  R-squared:         </th> <td>   0.000</td> \n",
       "</tr>\n",
       "<tr>\n",
       "  <th>Model:</th>                   <td>WLS</td>       <th>  Adj. R-squared:    </th> <td>   0.000</td> \n",
       "</tr>\n",
       "<tr>\n",
       "  <th>Method:</th>             <td>Least Squares</td>  <th>  F-statistic:       </th> <td>   2.007</td> \n",
       "</tr>\n",
       "<tr>\n",
       "  <th>Date:</th>             <td>Wed, 15 Dec 2021</td> <th>  Prob (F-statistic):</th>  <td> 0.157</td>  \n",
       "</tr>\n",
       "<tr>\n",
       "  <th>Time:</th>                 <td>14:51:25</td>     <th>  Log-Likelihood:    </th> <td> -14196.</td> \n",
       "</tr>\n",
       "<tr>\n",
       "  <th>No. Observations:</th>      <td> 10000</td>      <th>  AIC:               </th> <td>2.840e+04</td>\n",
       "</tr>\n",
       "<tr>\n",
       "  <th>Df Residuals:</th>          <td>  9998</td>      <th>  BIC:               </th> <td>2.841e+04</td>\n",
       "</tr>\n",
       "<tr>\n",
       "  <th>Df Model:</th>              <td>     1</td>      <th>                     </th>     <td> </td>    \n",
       "</tr>\n",
       "<tr>\n",
       "  <th>Covariance Type:</th>      <td>nonrobust</td>    <th>                     </th>     <td> </td>    \n",
       "</tr>\n",
       "</table>\n",
       "<table class=\"simpletable\">\n",
       "<tr>\n",
       "         <td></td>           <th>coef</th>     <th>std err</th>      <th>t</th>      <th>P>|t|</th>  <th>[0.025</th>    <th>0.975]</th>  \n",
       "</tr>\n",
       "<tr>\n",
       "  <th>Intercept</th>      <td>    1.9414</td> <td>    0.199</td> <td>    9.733</td> <td> 0.000</td> <td>    1.550</td> <td>    2.332</td>\n",
       "</tr>\n",
       "<tr>\n",
       "  <th>const_weighted</th> <td>   11.2527</td> <td>    7.944</td> <td>    1.417</td> <td> 0.157</td> <td>   -4.319</td> <td>   26.824</td>\n",
       "</tr>\n",
       "</table>\n",
       "<table class=\"simpletable\">\n",
       "<tr>\n",
       "  <th>Omnibus:</th>       <td> 0.314</td> <th>  Durbin-Watson:     </th> <td>   2.011</td>\n",
       "</tr>\n",
       "<tr>\n",
       "  <th>Prob(Omnibus):</th> <td> 0.855</td> <th>  Jarque-Bera (JB):  </th> <td>   0.284</td>\n",
       "</tr>\n",
       "<tr>\n",
       "  <th>Skew:</th>          <td>-0.007</td> <th>  Prob(JB):          </th> <td>   0.868</td>\n",
       "</tr>\n",
       "<tr>\n",
       "  <th>Kurtosis:</th>      <td> 3.022</td> <th>  Cond. No.          </th> <td>    794.</td>\n",
       "</tr>\n",
       "</table><br/><br/>Notes:<br/>[1] Standard Errors assume that the covariance matrix of the errors is correctly specified."
      ],
      "text/plain": [
       "<class 'statsmodels.iolib.summary.Summary'>\n",
       "\"\"\"\n",
       "                            WLS Regression Results                            \n",
       "==============================================================================\n",
       "Dep. Variable:             y_weighted   R-squared:                       0.000\n",
       "Model:                            WLS   Adj. R-squared:                  0.000\n",
       "Method:                 Least Squares   F-statistic:                     2.007\n",
       "Date:                Wed, 15 Dec 2021   Prob (F-statistic):              0.157\n",
       "Time:                        14:51:25   Log-Likelihood:                -14196.\n",
       "No. Observations:               10000   AIC:                         2.840e+04\n",
       "Df Residuals:                    9998   BIC:                         2.841e+04\n",
       "Df Model:                           1                                         \n",
       "Covariance Type:            nonrobust                                         \n",
       "==================================================================================\n",
       "                     coef    std err          t      P>|t|      [0.025      0.975]\n",
       "----------------------------------------------------------------------------------\n",
       "Intercept          1.9414      0.199      9.733      0.000       1.550       2.332\n",
       "const_weighted    11.2527      7.944      1.417      0.157      -4.319      26.824\n",
       "==============================================================================\n",
       "Omnibus:                        0.314   Durbin-Watson:                   2.011\n",
       "Prob(Omnibus):                  0.855   Jarque-Bera (JB):                0.284\n",
       "Skew:                          -0.007   Prob(JB):                        0.868\n",
       "Kurtosis:                       3.022   Cond. No.                         794.\n",
       "==============================================================================\n",
       "\n",
       "Notes:\n",
       "[1] Standard Errors assume that the covariance matrix of the errors is correctly specified.\n",
       "\"\"\""
      ]
     },
     "execution_count": 87,
     "metadata": {},
     "output_type": "execute_result"
    }
   ],
   "source": [
    "model2 = smf.wls(data=data, formula='y_weighted ~ const_weighted').fit()\n",
    "model2.summary()"
   ]
  },
  {
   "cell_type": "code",
   "execution_count": 88,
   "metadata": {
    "ExecuteTime": {
     "end_time": "2021-12-15T11:52:09.106476Z",
     "start_time": "2021-12-15T11:52:09.089377Z"
    }
   },
   "outputs": [
    {
     "data": {
      "text/plain": [
       "Intercept         0.199449\n",
       "const_weighted    7.945000\n",
       "dtype: float64"
      ]
     },
     "execution_count": 88,
     "metadata": {},
     "output_type": "execute_result"
    }
   ],
   "source": [
    "model2.HC0_se"
   ]
  },
  {
   "cell_type": "markdown",
   "metadata": {},
   "source": [
    "По итогам выполнения данного пункта можно сделать вывод о том, что для выборки большего размера гетероскедастичность в остатках лучше идентифицируема, при этом стандартные ошибки оценок коэффициентов, устойчивых к гетероскедастичности, почти не отличаются от исходных стандартных ошибок модели. Это означает, что при увеличении выборки корректировка на гетероскедастичность через взвешивание наблюдений обладает бОльшим смыслом. Для проверки данного тезиса выведем статистику теста Бреуша-Пагана для взвешенной модели:"
   ]
  },
  {
   "cell_type": "code",
   "execution_count": 90,
   "metadata": {
    "ExecuteTime": {
     "end_time": "2021-12-15T11:56:06.465045Z",
     "start_time": "2021-12-15T11:56:06.451829Z"
    }
   },
   "outputs": [
    {
     "data": {
      "text/plain": [
       "(0.07327530579304131,\n",
       " 0.7866263007403923,\n",
       " 0.07326118755585145,\n",
       " 0.786651947569768)"
      ]
     },
     "execution_count": 90,
     "metadata": {},
     "output_type": "execute_result"
    }
   ],
   "source": [
    "sms.het_breuschpagan(model2.resid, model2.model.exog)"
   ]
  },
  {
   "cell_type": "markdown",
   "metadata": {},
   "source": [
    "Действительно, гетероскедастичности больше нет, модель обладает статистически эффективными оценками (хоть при этом и её качество стало околонулевым)"
   ]
  },
  {
   "cell_type": "markdown",
   "metadata": {
    "id": "sgdKTVXI8ZL9"
   },
   "source": [
    "**Пункт 4.** Оцените стандартные ошибки коэффициентов, устойчивые к гетероскедастичности, при помощи какого-нибудь метода бутстрэпа. Сравните результаты оценки с результатами предыдущего пункта."
   ]
  },
  {
   "cell_type": "markdown",
   "metadata": {
    "id": "x-FecnCD8ZL9"
   },
   "source": [
    "Не будем мудрствовать лукаво и возьмём код с семинара для Pairs Bootstap:"
   ]
  },
  {
   "cell_type": "code",
   "execution_count": 91,
   "metadata": {
    "ExecuteTime": {
     "end_time": "2021-12-15T12:15:11.670875Z",
     "start_time": "2021-12-15T12:15:10.998937Z"
    }
   },
   "outputs": [],
   "source": [
    "from statsmodels.api import OLS\n",
    "n_reps = 100\n",
    "coef_matr = np.zeros((n_reps, 2))\n",
    "\n",
    "for i in range(n_reps):\n",
    "    # 1. Строим бутстрэп-выборку\n",
    "    random_inds = np.random.randint(0, len(model.model.endog), size = len(model.model.endog))\n",
    "    y_b = model.model.endog[random_inds]\n",
    "    X_b = model.model.exog[random_inds, :]\n",
    "    \n",
    "    # 2. Оцениваем модель и сохраняем оценки\n",
    "    model_b = OLS(y_b, X_b).fit()\n",
    "    coefs = np.array(model_b.params).reshape(1, -1)\n",
    "    coef_matr[i, :] = coefs\n",
    "    \n",
    "# Центрируем оценку каждого коэффициента\n",
    "coef_matr = coef_matr - np.mean(coef_matr, axis = 0)\n",
    "\n",
    "# Собираем ковариационную матрицу\n",
    "cov_matr = 0\n",
    "for i in range(n_reps):\n",
    "    cov_matr += coef_matr[i, :].reshape(-1, 1) @ coef_matr[i, :].reshape(-1, 1).T"
   ]
  },
  {
   "cell_type": "markdown",
   "metadata": {},
   "source": [
    "Выведем полученную ковариационную матрицу для коэффициентов регрессионной модели:"
   ]
  },
  {
   "cell_type": "code",
   "execution_count": 92,
   "metadata": {
    "ExecuteTime": {
     "end_time": "2021-12-15T12:15:14.238831Z",
     "start_time": "2021-12-15T12:15:14.225817Z"
    }
   },
   "outputs": [
    {
     "data": {
      "text/html": [
       "<div>\n",
       "<style scoped>\n",
       "    .dataframe tbody tr th:only-of-type {\n",
       "        vertical-align: middle;\n",
       "    }\n",
       "\n",
       "    .dataframe tbody tr th {\n",
       "        vertical-align: top;\n",
       "    }\n",
       "\n",
       "    .dataframe thead th {\n",
       "        text-align: right;\n",
       "    }\n",
       "</style>\n",
       "<table border=\"1\" class=\"dataframe\">\n",
       "  <thead>\n",
       "    <tr style=\"text-align: right;\">\n",
       "      <th></th>\n",
       "      <th>Intercept</th>\n",
       "      <th>x</th>\n",
       "    </tr>\n",
       "  </thead>\n",
       "  <tbody>\n",
       "    <tr>\n",
       "      <th>Intercept</th>\n",
       "      <td>71.976311</td>\n",
       "      <td>-1.811047</td>\n",
       "    </tr>\n",
       "    <tr>\n",
       "      <th>x</th>\n",
       "      <td>-1.811047</td>\n",
       "      <td>0.045650</td>\n",
       "    </tr>\n",
       "  </tbody>\n",
       "</table>\n",
       "</div>"
      ],
      "text/plain": [
       "           Intercept         x\n",
       "Intercept  71.976311 -1.811047\n",
       "x          -1.811047  0.045650"
      ]
     },
     "execution_count": 92,
     "metadata": {},
     "output_type": "execute_result"
    }
   ],
   "source": [
    "pd.DataFrame(cov_matr / (n_reps - 1), columns = model.model.exog_names, index = model.model.exog_names)"
   ]
  },
  {
   "cell_type": "markdown",
   "metadata": {},
   "source": [
    "Вспомним, какая ковариационная матрица получилась в рамках предыдущего пункта:"
   ]
  },
  {
   "cell_type": "code",
   "execution_count": 99,
   "metadata": {
    "ExecuteTime": {
     "end_time": "2021-12-15T12:16:51.798388Z",
     "start_time": "2021-12-15T12:16:51.777282Z"
    }
   },
   "outputs": [
    {
     "data": {
      "text/html": [
       "<div>\n",
       "<style scoped>\n",
       "    .dataframe tbody tr th:only-of-type {\n",
       "        vertical-align: middle;\n",
       "    }\n",
       "\n",
       "    .dataframe tbody tr th {\n",
       "        vertical-align: top;\n",
       "    }\n",
       "\n",
       "    .dataframe thead th {\n",
       "        text-align: right;\n",
       "    }\n",
       "</style>\n",
       "<table border=\"1\" class=\"dataframe\">\n",
       "  <thead>\n",
       "    <tr style=\"text-align: right;\">\n",
       "      <th></th>\n",
       "      <th>Intercept</th>\n",
       "      <th>const_weighted</th>\n",
       "    </tr>\n",
       "  </thead>\n",
       "  <tbody>\n",
       "    <tr>\n",
       "      <th>Intercept</th>\n",
       "      <td>0.039784</td>\n",
       "      <td>-1.582482</td>\n",
       "    </tr>\n",
       "    <tr>\n",
       "      <th>const_weighted</th>\n",
       "      <td>-1.582482</td>\n",
       "      <td>63.105017</td>\n",
       "    </tr>\n",
       "  </tbody>\n",
       "</table>\n",
       "</div>"
      ],
      "text/plain": [
       "                Intercept  const_weighted\n",
       "Intercept        0.039784       -1.582482\n",
       "const_weighted  -1.582482       63.105017"
      ]
     },
     "execution_count": 99,
     "metadata": {},
     "output_type": "execute_result"
    }
   ],
   "source": [
    "model2.cov_params()"
   ]
  },
  {
   "cell_type": "markdown",
   "metadata": {},
   "source": [
    "Вспоминаем, что для моей реализации WLS необходимо поменять местами элементы ковариационной матрицы на главной диагонали и можем сделать вывод, что бутстрапирование выборки даёт менее состоятельные оценки ковариационной матрицы по сравнению с методом WLS.\n",
    "\n",
    "Для интереса сравним с исходной оценкой стандартных ошибок для регрессионной модели:"
   ]
  },
  {
   "cell_type": "code",
   "execution_count": 96,
   "metadata": {
    "ExecuteTime": {
     "end_time": "2021-12-15T12:16:03.256393Z",
     "start_time": "2021-12-15T12:16:03.239302Z"
    }
   },
   "outputs": [
    {
     "data": {
      "text/html": [
       "<div>\n",
       "<style scoped>\n",
       "    .dataframe tbody tr th:only-of-type {\n",
       "        vertical-align: middle;\n",
       "    }\n",
       "\n",
       "    .dataframe tbody tr th {\n",
       "        vertical-align: top;\n",
       "    }\n",
       "\n",
       "    .dataframe thead th {\n",
       "        text-align: right;\n",
       "    }\n",
       "</style>\n",
       "<table border=\"1\" class=\"dataframe\">\n",
       "  <thead>\n",
       "    <tr style=\"text-align: right;\">\n",
       "      <th></th>\n",
       "      <th>Intercept</th>\n",
       "      <th>x</th>\n",
       "    </tr>\n",
       "  </thead>\n",
       "  <tbody>\n",
       "    <tr>\n",
       "      <th>Intercept</th>\n",
       "      <td>64.727451</td>\n",
       "      <td>-1.615101</td>\n",
       "    </tr>\n",
       "    <tr>\n",
       "      <th>x</th>\n",
       "      <td>-1.615101</td>\n",
       "      <td>0.040401</td>\n",
       "    </tr>\n",
       "  </tbody>\n",
       "</table>\n",
       "</div>"
      ],
      "text/plain": [
       "           Intercept         x\n",
       "Intercept  64.727451 -1.615101\n",
       "x          -1.615101  0.040401"
      ]
     },
     "execution_count": 96,
     "metadata": {},
     "output_type": "execute_result"
    }
   ],
   "source": [
    "model.cov_params()"
   ]
  },
  {
   "cell_type": "markdown",
   "metadata": {},
   "source": [
    "Видим, что в рамках WLS у нас получаются наиболее маленькие значения элементов в рамках всей ковариационной матрицы, можем заключить об эмперически проверенной эффективности оценивания через метод WLS"
   ]
  },
  {
   "cell_type": "markdown",
   "metadata": {
    "id": "K93o6fnj8ZL-"
   },
   "source": [
    "**Пункт 5.** Оцените стандартные ошибки коэффициентов, устойчивые к гетероскедастичности, при помощи какой-нибудь из схем HC. Поменялось ли что-нибудь?"
   ]
  },
  {
   "cell_type": "markdown",
   "metadata": {},
   "source": [
    "Воспользуемся способом, изученным на семинаре: исправим только доверительные инетрвалы для параметров модели, оцениваемой при помощи МНК,так, чтобы они были устойчивы к гетероскедастичности. Тогда\n",
    "\n",
    "$$\n",
    "\\hat{\\mathrm{Var}}(\\hat{\\beta}_{OLS})_{HC} = (X'X)^{-1}X'\\hat{\\mathrm{Var}}(u)_{HC}X(X'X)^{-1}.\n",
    "$$"
   ]
  },
  {
   "cell_type": "markdown",
   "metadata": {},
   "source": [
    "В качестве $\\hat{\\mathrm{Var}}(u)_{HC_0}$ возьмём диагональную матрицу от квадратов оценённых остатков исходной модели - $\\mathrm{diag}(\\hat{u}^2_1, \\ldots, \\hat{u}^2_n)$"
   ]
  },
  {
   "cell_type": "code",
   "execution_count": 106,
   "metadata": {
    "ExecuteTime": {
     "end_time": "2021-12-15T12:27:44.580074Z",
     "start_time": "2021-12-15T12:27:44.554068Z"
    }
   },
   "outputs": [
    {
     "data": {
      "text/plain": [
       "(10000, 10000)"
      ]
     },
     "execution_count": 106,
     "metadata": {},
     "output_type": "execute_result"
    }
   ],
   "source": [
    "var_u = np.diag(np.power(model.resid, 2))\n",
    "var_u.shape"
   ]
  },
  {
   "cell_type": "code",
   "execution_count": 110,
   "metadata": {
    "ExecuteTime": {
     "end_time": "2021-12-15T12:30:57.722909Z",
     "start_time": "2021-12-15T12:30:57.646887Z"
    },
    "id": "Hp5i5il_8ZL-"
   },
   "outputs": [
    {
     "data": {
      "text/html": [
       "<div>\n",
       "<style scoped>\n",
       "    .dataframe tbody tr th:only-of-type {\n",
       "        vertical-align: middle;\n",
       "    }\n",
       "\n",
       "    .dataframe tbody tr th {\n",
       "        vertical-align: top;\n",
       "    }\n",
       "\n",
       "    .dataframe thead th {\n",
       "        text-align: right;\n",
       "    }\n",
       "</style>\n",
       "<table border=\"1\" class=\"dataframe\">\n",
       "  <thead>\n",
       "    <tr style=\"text-align: right;\">\n",
       "      <th></th>\n",
       "      <th>Intercept</th>\n",
       "      <th>x</th>\n",
       "    </tr>\n",
       "  </thead>\n",
       "  <tbody>\n",
       "    <tr>\n",
       "      <th>Intercept</th>\n",
       "      <td>64.674466</td>\n",
       "      <td>-1.621493</td>\n",
       "    </tr>\n",
       "    <tr>\n",
       "      <th>x</th>\n",
       "      <td>-1.621493</td>\n",
       "      <td>0.040754</td>\n",
       "    </tr>\n",
       "  </tbody>\n",
       "</table>\n",
       "</div>"
      ],
      "text/plain": [
       "           Intercept         x\n",
       "Intercept  64.674466 -1.621493\n",
       "x          -1.621493  0.040754"
      ]
     },
     "execution_count": 110,
     "metadata": {},
     "output_type": "execute_result"
    }
   ],
   "source": [
    "exog = model.model.exog\n",
    "Var_HC = np.linalg.inv(exog.T @ exog) @ exog.T @ var_u @ exog @ np.linalg.inv(exog.T @ exog)\n",
    "df_var_hc = pd.DataFrame(Var_HC, columns = model.model.exog_names, index = model.model.exog_names)\n",
    "df_var_hc"
   ]
  },
  {
   "cell_type": "code",
   "execution_count": 109,
   "metadata": {
    "ExecuteTime": {
     "end_time": "2021-12-15T12:29:07.504244Z",
     "start_time": "2021-12-15T12:29:07.492228Z"
    }
   },
   "outputs": [
    {
     "data": {
      "text/html": [
       "<div>\n",
       "<style scoped>\n",
       "    .dataframe tbody tr th:only-of-type {\n",
       "        vertical-align: middle;\n",
       "    }\n",
       "\n",
       "    .dataframe tbody tr th {\n",
       "        vertical-align: top;\n",
       "    }\n",
       "\n",
       "    .dataframe thead th {\n",
       "        text-align: right;\n",
       "    }\n",
       "</style>\n",
       "<table border=\"1\" class=\"dataframe\">\n",
       "  <thead>\n",
       "    <tr style=\"text-align: right;\">\n",
       "      <th></th>\n",
       "      <th>Intercept</th>\n",
       "      <th>x</th>\n",
       "    </tr>\n",
       "  </thead>\n",
       "  <tbody>\n",
       "    <tr>\n",
       "      <th>Intercept</th>\n",
       "      <td>64.727451</td>\n",
       "      <td>-1.615101</td>\n",
       "    </tr>\n",
       "    <tr>\n",
       "      <th>x</th>\n",
       "      <td>-1.615101</td>\n",
       "      <td>0.040401</td>\n",
       "    </tr>\n",
       "  </tbody>\n",
       "</table>\n",
       "</div>"
      ],
      "text/plain": [
       "           Intercept         x\n",
       "Intercept  64.727451 -1.615101\n",
       "x          -1.615101  0.040401"
      ]
     },
     "execution_count": 109,
     "metadata": {},
     "output_type": "execute_result"
    }
   ],
   "source": [
    "model.cov_params()"
   ]
  },
  {
   "cell_type": "markdown",
   "metadata": {},
   "source": [
    "Видим, что стандартная ошибка коэффициента для коснтанты уменьшилась примерно на 0.05 по сравнению с исходной моделью, тогда как все остальные коэффициенты незначительно увеличились, покажем изменения наглядно:"
   ]
  },
  {
   "cell_type": "code",
   "execution_count": 111,
   "metadata": {
    "ExecuteTime": {
     "end_time": "2021-12-15T12:31:06.521334Z",
     "start_time": "2021-12-15T12:31:06.505154Z"
    }
   },
   "outputs": [
    {
     "data": {
      "text/html": [
       "<div>\n",
       "<style scoped>\n",
       "    .dataframe tbody tr th:only-of-type {\n",
       "        vertical-align: middle;\n",
       "    }\n",
       "\n",
       "    .dataframe tbody tr th {\n",
       "        vertical-align: top;\n",
       "    }\n",
       "\n",
       "    .dataframe thead th {\n",
       "        text-align: right;\n",
       "    }\n",
       "</style>\n",
       "<table border=\"1\" class=\"dataframe\">\n",
       "  <thead>\n",
       "    <tr style=\"text-align: right;\">\n",
       "      <th></th>\n",
       "      <th>Intercept</th>\n",
       "      <th>x</th>\n",
       "    </tr>\n",
       "  </thead>\n",
       "  <tbody>\n",
       "    <tr>\n",
       "      <th>Intercept</th>\n",
       "      <td>0.999181</td>\n",
       "      <td>1.003958</td>\n",
       "    </tr>\n",
       "    <tr>\n",
       "      <th>x</th>\n",
       "      <td>1.003958</td>\n",
       "      <td>1.008735</td>\n",
       "    </tr>\n",
       "  </tbody>\n",
       "</table>\n",
       "</div>"
      ],
      "text/plain": [
       "           Intercept         x\n",
       "Intercept   0.999181  1.003958\n",
       "x           1.003958  1.008735"
      ]
     },
     "execution_count": 111,
     "metadata": {},
     "output_type": "execute_result"
    }
   ],
   "source": [
    "df_var_hc / model.cov_params()"
   ]
  },
  {
   "cell_type": "markdown",
   "metadata": {},
   "source": [
    "Можем заметить, что случившиеся изменения крайне незначительны, при этом нельзя уверенно сказать, что коррекция исходных оценок на гетероскедастичность дала положительный результат, поскольку для Х и ковариации оценок коэффициентов значения только увеличились, а это очень-очень плохо :("
   ]
  },
  {
   "cell_type": "markdown",
   "metadata": {
    "id": "tZ0N-70c8ZL-"
   },
   "source": [
    "**Пункт 6.** Сделайте итоговый вывод о значимости коэффициентов в модели. Очевиден ли он?"
   ]
  },
  {
   "cell_type": "markdown",
   "metadata": {
    "id": "ibLl5CpQ8ZL-"
   },
   "source": [
    "Посмотрим на p-значения t-статистик для коэффициентов"
   ]
  },
  {
   "cell_type": "code",
   "execution_count": 115,
   "metadata": {
    "ExecuteTime": {
     "end_time": "2021-12-15T13:13:53.412600Z",
     "start_time": "2021-12-15T13:13:53.402587Z"
    }
   },
   "outputs": [
    {
     "data": {
      "text/plain": [
       "Intercept    0.18811\n",
       "x            0.00000\n",
       "dtype: float16"
      ]
     },
     "execution_count": 115,
     "metadata": {},
     "output_type": "execute_result"
    }
   ],
   "source": [
    "model.pvalues.astype(np.float16)"
   ]
  },
  {
   "cell_type": "code",
   "execution_count": 116,
   "metadata": {
    "ExecuteTime": {
     "end_time": "2021-12-15T13:14:05.954950Z",
     "start_time": "2021-12-15T13:14:05.941918Z"
    }
   },
   "outputs": [
    {
     "data": {
      "text/plain": [
       "Intercept         0.000000\n",
       "const_weighted    0.156616\n",
       "dtype: float16"
      ]
     },
     "execution_count": 116,
     "metadata": {},
     "output_type": "execute_result"
    }
   ],
   "source": [
    "model2.pvalues.astype(np.float16)"
   ]
  },
  {
   "cell_type": "markdown",
   "metadata": {},
   "source": [
    "Видим, что для исходного и взвешенного Х в МНК и ДВМНК моделях гипотеза о незначимости коэффициента при независимой переменной отвергается на любом разумном уровне значимости. Это говорит о том, что Х оказывает существенное влияние на У, которое получилось идентифицировать в рамках моделирования регрессии. Однако на графиках выше для выборки размером 10000 наблюдений это не совсем очевидно, поскольку угол наклона линии регрессии находится на уровне нуля.\n",
    "\n",
    "В свою очередь, для исходной и взвешенной константы в МНК и ДВМНК гипотеза о незначимости коэффициента при константе не отвергается на уровне значимости как минимум 15%. Это означает, что точка пересечения линии регрессии с осью ОУ может лежать как выше оси ОХ, так и ниже её, то есть усреднённый результат зависимой переменной варьируется достаточно сильно, чтобы уверенно распознать значимое отличие от 0. Ну что ж, бывает, при этом с учётом столь большого значения ошибок модели это достаточно очевидный результат"
   ]
  },
  {
   "cell_type": "markdown",
   "metadata": {
    "id": "gyC-MKCh8ZL-"
   },
   "source": [
    "## Safe Area"
   ]
  },
  {
   "cell_type": "markdown",
   "metadata": {
    "id": "UZJUM3qC8ZL-"
   },
   "source": [
    "Если хотите, напишите здесь что угодно."
   ]
  },
  {
   "cell_type": "markdown",
   "metadata": {
    "id": "ruPo0Aq28ZL-"
   },
   "source": [
    "Желаю Саше Плахину успешного закрытия сессии, особенно желаю  10 по слупам. Если меня проверяет не Саша, то желаю счастливой предновогодней поры проверяющему, чтобы рождественский дух пришёл в ваш дом и у вас получилось бы немножко расслабиться после столь тяжёлого и напряжённого года"
   ]
  }
 ],
 "metadata": {
  "colab": {
   "name": "psmo_hw2.ipynb",
   "provenance": []
  },
  "hide_input": false,
  "kernelspec": {
   "display_name": "Python 3",
   "language": "python",
   "name": "python3"
  },
  "language_info": {
   "codemirror_mode": {
    "name": "ipython",
    "version": 3
   },
   "file_extension": ".py",
   "mimetype": "text/x-python",
   "name": "python",
   "nbconvert_exporter": "python",
   "pygments_lexer": "ipython3",
   "version": "3.8.8"
  },
  "latex_envs": {
   "LaTeX_envs_menu_present": true,
   "autoclose": true,
   "autocomplete": true,
   "bibliofile": "biblio.bib",
   "cite_by": "apalike",
   "current_citInitial": 1,
   "eqLabelWithNumbers": true,
   "eqNumInitial": 1,
   "hotkeys": {
    "equation": "Ctrl-E",
    "itemize": "Ctrl-I"
   },
   "labels_anchors": false,
   "latex_user_defs": false,
   "report_style_numbering": false,
   "user_envs_cfg": false
  },
  "toc": {
   "base_numbering": 1,
   "nav_menu": {},
   "number_sections": true,
   "sideBar": true,
   "skip_h1_title": false,
   "title_cell": "Table of Contents",
   "title_sidebar": "Contents",
   "toc_cell": false,
   "toc_position": {},
   "toc_section_display": true,
   "toc_window_display": false
  },
  "varInspector": {
   "cols": {
    "lenName": 16,
    "lenType": 16,
    "lenVar": 40
   },
   "kernels_config": {
    "python": {
     "delete_cmd_postfix": "",
     "delete_cmd_prefix": "del ",
     "library": "var_list.py",
     "varRefreshCmd": "print(var_dic_list())"
    },
    "r": {
     "delete_cmd_postfix": ") ",
     "delete_cmd_prefix": "rm(",
     "library": "var_list.r",
     "varRefreshCmd": "cat(var_dic_list()) "
    }
   },
   "types_to_exclude": [
    "module",
    "function",
    "builtin_function_or_method",
    "instance",
    "_Feature"
   ],
   "window_display": false
  }
 },
 "nbformat": 4,
 "nbformat_minor": 1
}
