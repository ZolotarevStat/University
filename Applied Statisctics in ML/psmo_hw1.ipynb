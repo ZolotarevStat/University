{
 "cells": [
  {
   "cell_type": "code",
   "execution_count": 48,
   "id": "a71ac787",
   "metadata": {
    "ExecuteTime": {
     "end_time": "2021-11-19T10:11:01.030234Z",
     "start_time": "2021-11-19T10:11:01.010217Z"
    }
   },
   "outputs": [
    {
     "data": {
      "text/plain": [
       "array([ 2.6650842 ,  0.03617287, -0.17206369])"
      ]
     },
     "execution_count": 48,
     "metadata": {},
     "output_type": "execute_result"
    }
   ],
   "source": [
    "import numpy as np\n",
    "\n",
    "X = np.array([[1, 1, 3.1], [1, 12, 2.2], [1, -3, 0.1], [1, 2, 0.5], [1, 0, 11.3]])\n",
    "Y = np.array([1.1, 2.5, 2.2, 4, 1])\n",
    "\n",
    "beta = np.linalg.inv(X.T @ X) @ X.T @ Y\n",
    "beta"
   ]
  },
  {
   "cell_type": "code",
   "execution_count": 49,
   "id": "bfde4120",
   "metadata": {
    "ExecuteTime": {
     "end_time": "2021-11-19T10:11:01.481879Z",
     "start_time": "2021-11-19T10:11:01.475874Z"
    }
   },
   "outputs": [
    {
     "data": {
      "text/plain": [
       "array([2.16785964, 2.72061849, 2.53935923, 2.65139809, 0.72076456])"
      ]
     },
     "execution_count": 49,
     "metadata": {},
     "output_type": "execute_result"
    }
   ],
   "source": [
    "Y_hat = X @ beta\n",
    "Y_hat"
   ]
  },
  {
   "cell_type": "code",
   "execution_count": 50,
   "id": "188d2f34",
   "metadata": {
    "ExecuteTime": {
     "end_time": "2021-11-19T10:11:02.012581Z",
     "start_time": "2021-11-19T10:11:01.998567Z"
    }
   },
   "outputs": [
    {
     "name": "stdout",
     "output_type": "stream",
     "text": [
      "TSS = 5.97\n",
      "ESS = 2.77\n",
      "RSS = 3.2\n",
      "R^2 = 0.46\n"
     ]
    }
   ],
   "source": [
    "TSS = np.sum(np.power(Y-np.mean(Y), 2))\n",
    "ESS = np.sum(np.power(Y_hat-np.mean(Y_hat), 2))\n",
    "RSS = np.sum(np.power(Y-Y_hat, 2))\n",
    "R_sq = ESS/TSS\n",
    "print(\"TSS =\", round(TSS, 2))\n",
    "print(\"ESS =\", round(ESS, 2))\n",
    "print(\"RSS =\", round(RSS, 2))\n",
    "print(\"R^2 =\", round(R_sq, 2))"
   ]
  },
  {
   "cell_type": "code",
   "execution_count": 10,
   "id": "f0098dca",
   "metadata": {
    "ExecuteTime": {
     "end_time": "2021-11-19T08:45:01.410654Z",
     "start_time": "2021-11-19T08:45:01.402117Z"
    }
   },
   "outputs": [
    {
     "data": {
      "text/plain": [
       "1.6004304828005549"
      ]
     },
     "execution_count": 10,
     "metadata": {},
     "output_type": "execute_result"
    }
   ],
   "source": [
    "n = X.shape[0]\n",
    "k = X.shape[1]\n",
    "sigma = RSS/(n-k)\n",
    "sigma"
   ]
  },
  {
   "cell_type": "code",
   "execution_count": 13,
   "id": "4059a8f5",
   "metadata": {
    "ExecuteTime": {
     "end_time": "2021-11-19T08:46:57.495878Z",
     "start_time": "2021-11-19T08:46:57.485871Z"
    }
   },
   "outputs": [
    {
     "data": {
      "text/plain": [
       "array([[ 0.64997409, -0.03581079, -0.0709134 ],\n",
       "       [-0.03581079,  0.01253028,  0.00166805],\n",
       "       [-0.0709134 ,  0.00166805,  0.0194506 ]])"
      ]
     },
     "execution_count": 13,
     "metadata": {},
     "output_type": "execute_result"
    }
   ],
   "source": [
    "var_beta = sigma * np.linalg.inv(X.T @ X) \n",
    "var_beta"
   ]
  },
  {
   "cell_type": "code",
   "execution_count": 24,
   "id": "34887201",
   "metadata": {
    "ExecuteTime": {
     "end_time": "2021-11-19T09:30:01.167817Z",
     "start_time": "2021-11-19T09:30:01.152087Z"
    }
   },
   "outputs": [
    {
     "name": "stdout",
     "output_type": "stream",
     "text": [
      "-76.91982325761974\n",
      "2.9199855803555175\n"
     ]
    }
   ],
   "source": [
    "from scipy.stats import t\n",
    "print((beta[1]-1)/var_beta[1,1])\n",
    "print(t.isf(q=0.05, df=5-3))"
   ]
  },
  {
   "cell_type": "code",
   "execution_count": 26,
   "id": "66b611a7",
   "metadata": {
    "ExecuteTime": {
     "end_time": "2021-11-19T09:34:45.191834Z",
     "start_time": "2021-11-19T09:34:45.172739Z"
    }
   },
   "outputs": [
    {
     "name": "stdout",
     "output_type": "stream",
     "text": [
      "-60.25847775356395\n",
      "1.88561808316415\n"
     ]
    }
   ],
   "source": [
    "print((beta[2]-1)/var_beta[2,2])\n",
    "print(t.isf(q=0.1, df=5-3))"
   ]
  },
  {
   "cell_type": "code",
   "execution_count": 72,
   "id": "4c25c946",
   "metadata": {
    "ExecuteTime": {
     "end_time": "2021-11-19T14:17:00.043227Z",
     "start_time": "2021-11-19T14:17:00.038236Z"
    }
   },
   "outputs": [
    {
     "data": {
      "text/plain": [
       "5.9719999999999995"
      ]
     },
     "execution_count": 72,
     "metadata": {},
     "output_type": "execute_result"
    }
   ],
   "source": [
    "RSS_r"
   ]
  },
  {
   "cell_type": "code",
   "execution_count": 71,
   "id": "a16d9e07",
   "metadata": {
    "ExecuteTime": {
     "end_time": "2021-11-19T14:16:55.675323Z",
     "start_time": "2021-11-19T14:16:55.655218Z"
    }
   },
   "outputs": [
    {
     "name": "stdout",
     "output_type": "stream",
     "text": [
      "F-наблюдаемое = 0.865748017230258\n",
      "F-критическое = 18.999999999999982\n",
      "p-value = 0.5359780585400384\n"
     ]
    }
   ],
   "source": [
    "from scipy.stats import f\n",
    "X_r = X[:, 0].reshape(-1, 1)\n",
    "beta_r = np.linalg.inv(X_r.T @ X_r) @ X_r.T @ Y\n",
    "Y_hat_r = np.ones_like(Y)*beta_r\n",
    "RSS_r = np.sum(np.power(Y-Y_hat_r, 2))\n",
    "F_obs = (RSS_r-RSS)/(X.shape[1]-1)/(RSS/(X.shape[0]-X.shape[1]))\n",
    "print(\"F-наблюдаемое =\", F_obs)\n",
    "print(\"F-критическое =\", f.isf(q=0.05, dfn=3-1, dfd=5-3))\n",
    "print(\"p-value =\", f.sf(F_obs, dfn=3-1, dfd=5-3))"
   ]
  },
  {
   "cell_type": "code",
   "execution_count": 81,
   "id": "9a001802",
   "metadata": {
    "ExecuteTime": {
     "end_time": "2021-11-19T14:21:27.685456Z",
     "start_time": "2021-11-19T14:21:27.667391Z"
    }
   },
   "outputs": [
    {
     "data": {
      "text/plain": [
       "5.623592646316851"
      ]
     },
     "execution_count": 81,
     "metadata": {},
     "output_type": "execute_result"
    }
   ],
   "source": [
    "RSS_r"
   ]
  },
  {
   "cell_type": "code",
   "execution_count": 77,
   "id": "b0e19f6b",
   "metadata": {
    "ExecuteTime": {
     "end_time": "2021-11-19T14:20:18.944832Z",
     "start_time": "2021-11-19T14:20:18.928842Z"
    }
   },
   "outputs": [
    {
     "name": "stdout",
     "output_type": "stream",
     "text": [
      "F-наблюдаемое = 0.7569000049524992\n",
      "F-критическое = 18.512820512820497\n",
      "p-value = 0.47602719507048197\n"
     ]
    }
   ],
   "source": [
    "X_r = np.vstack([X[:, 0], X[:,1]+X[:,2]]).T\n",
    "beta_r = np.linalg.inv(X_r.T @ X_r) @ X_r.T @ Y\n",
    "Y_hat_r = X_r @ beta_r\n",
    "RSS_r = np.sum(np.power(Y-Y_hat_r, 2))\n",
    "F_obs = (RSS_r-RSS)/(X.shape[1]-1)/(RSS/(X.shape[0]-X.shape[1]))\n",
    "print(\"F-наблюдаемое =\", F_obs)\n",
    "print(\"F-критическое =\", f.isf(q=0.05, dfn=3-2, dfd=5-3))\n",
    "print(\"p-value =\", f.sf(F_obs, dfn=3-2, dfd=5-3))"
   ]
  },
  {
   "cell_type": "code",
   "execution_count": null,
   "id": "3e412d10",
   "metadata": {},
   "outputs": [],
   "source": []
  },
  {
   "cell_type": "markdown",
   "id": "shaped-accuracy",
   "metadata": {
    "id": "shaped-accuracy"
   },
   "source": [
    "# Прикладная статистика в машинном обучении 2021-2022"
   ]
  },
  {
   "cell_type": "markdown",
   "id": "external-utilization",
   "metadata": {
    "id": "external-utilization"
   },
   "source": [
    "## Домашнее задание #1\n",
    "\n",
    "## Часть 2"
   ]
  },
  {
   "cell_type": "markdown",
   "id": "secondary-toddler",
   "metadata": {
    "id": "secondary-toddler"
   },
   "source": [
    "### Дедлайн: 29 октября 2021 года, 23:59"
   ]
  },
  {
   "cell_type": "markdown",
   "id": "healthy-jimmy",
   "metadata": {
    "id": "healthy-jimmy"
   },
   "source": [
    "**Правила игры**\n",
    "\n",
    "1. Домашнее задание состоит из двух частей. Часть 1 содержит 13 обязательных и две бонусных задачи и предполагает решение «от руки». Часть 2 содержит 3 обязательных задачи и предполагает программное решение.\n",
    "\n",
    "\n",
    "2. Домашнее задание оценивается в $80$ баллов. При этом часть 1 оценивается в $65$ баллов, а часть 2 – в $15$ баллов. По умолчанию за каждый пункт каждой задачи можно получить $1$ балл. Однако за некоторые пункты некоторых задач можно получить другое количество баллов, которое явно указано в скобках рядом с меткой пункта.\n",
    "\n",
    "\n",
    "3. Каждый пункт оценивается с промежутком $0.5$. Например, если за пункт можно получить максимум $1$ балл, то за полностью корректное решение ставится $1$ балл, за решение с небольшими ошибками ставится $0.5$ балла, за решение с серьёзными ошибками или неправильное решение ставится $0$ баллов. Для пунктов, за которые можно получить максимум $2$ балла, в зависимости от решения можно получить $2$, $1.5$, $1$ и т.д. баллов. При этом пункты проверяются независимо друг от друга: если пункт $t+1$ зависит от численных результатов пункта $t$, и в пункте $t$ допускается ошибка, из-за которой в пункт $t+1$ приходят неверные входные данные, то при корректном решении пункт $t+1$ оценивается в максимальное количество баллов, которое можно за него получить.\n",
    "\n",
    "\n",
    "4. Бонусные задачи $X$ и $Y$ приведены в конце части 1 и обозначены значком $\\dagger$. Эти задачи необязательны к решению и учитываются сверх установленных $80$ баллов. Баллы за корректно решённые бонусные задачи прибавляются к набранным баллам, даже если в сумме получается больше $80$ баллов (оценка за домашнюю работу в этом случае будет больше 10, и так и будет внесена в таблицу с оценками).\n",
    "\n",
    "\n",
    "5. Весь код должен быть написан на Python, R, C или C++.\n",
    "\n",
    "\n",
    "6. Решения принимаются до **29 октября 2021 года, 23:59 МСК** включительно. Работы, отправленные после дедлайна, проверяются, но **не оцениваются**. Дата и время сдачи определяются по последнему запушенному в репозиторий коммиту (можно увидеть на GitHub, наведя мышкой на указатель срока (например, 3 days ago) справа от файлов).\n",
    "\n",
    "\n",
    "7. Все решения нужно загрузить в личный репозиторий на [GitHub Classroom](https://classroom.github.com/a/KZaAKjaA).\n",
    "\n",
    "\n",
    "8. Репозиторий должен содержать: PDF-файл с решениями задач части 1 и файл с кодом с решениями задач части 2. Решение задач части 1 можно набрать в любом электронном редакторе или написать от руки, а затем сделать качественный скан. Все решения должны быть расположены в правильном порядке в одном файле. Файлы должны быть названы по типу «name\\_surname\\_group\\_hw1\\_part1.pdf» и «name\\_surname\\_group\\_hw1\\_part2.ext», где вместо ext может быть .py, .ipynb, .R, .c, .cpp. Если решение части 2 разбивается на несколько файлов кода, то в репозиторий нужно загрузить все файлы, а в README.md подробно указать, что содержит каждый файл. \n",
    "\n",
    "\n",
    "9. Разрешается использовать без доказательства любые результаты, встречавшиеся на лекциях или семинарах по курсу, если получение этих результатов не является вопросом задания. Разрешается использовать любые свободные источники с указанием ссылки на них.\n",
    "\n",
    "\n",
    "10. Плагиат не допускается. При обнаружении случаев списывания, $0$ за работу выставляется всем участникам нарушения, даже если можно установить, кто у кого списал. "
   ]
  },
  {
   "cell_type": "markdown",
   "id": "expensive-present",
   "metadata": {
    "id": "expensive-present"
   },
   "source": [
    "---"
   ]
  },
  {
   "cell_type": "code",
   "execution_count": 1,
   "id": "0e4b3ec5",
   "metadata": {
    "ExecuteTime": {
     "end_time": "2021-11-19T19:46:34.924769Z",
     "start_time": "2021-11-19T19:46:33.965077Z"
    }
   },
   "outputs": [],
   "source": [
    "import pandas as pd\n",
    "\n",
    "import matplotlib.pyplot as plt\n",
    "import seaborn as sns"
   ]
  },
  {
   "cell_type": "markdown",
   "id": "perceived-silicon",
   "metadata": {
    "id": "perceived-silicon"
   },
   "source": [
    "#### Задача 14. Divide et impera!\n",
    "\n",
    "Файле `14.csv` содержит данные, которые являются смесью гауссиан. \n",
    "\n",
    "**[a]** Постройте гистограмму выборки. Изучите гистограмму и сделайте предположения о количестве гауссиан, а также задайте разумный вектор начальных параметров $\\theta$.\n",
    "\n",
    "**[б]** **(3 балла)** Реализуйте EM-алгоритм для нахождения оценки $\\hat{\\theta}$. Итоговые формулы представьте только в виде кода (то есть не требуется отдельно прикладывать или техать вывод формул).\n",
    "\n",
    "**[в]** Постройте график $Q$ в зависимости от числа итераций.\n",
    "\n",
    "**[г]** Являются ли полученные оценки параметров адекватными (адекватность оцените визуально по гистограмме). Если нет, приведите возможную причину провала EM-алгоритма. "
   ]
  },
  {
   "cell_type": "code",
   "execution_count": 2,
   "id": "c450a267",
   "metadata": {
    "ExecuteTime": {
     "end_time": "2021-11-19T19:46:37.911532Z",
     "start_time": "2021-11-19T19:46:37.896455Z"
    }
   },
   "outputs": [],
   "source": [
    "import os\n",
    "os.chdir('C:/Users/zolotarev/Documents/Учёба/ПСМО')"
   ]
  },
  {
   "cell_type": "code",
   "execution_count": 3,
   "id": "prompt-lightning",
   "metadata": {
    "ExecuteTime": {
     "end_time": "2021-11-19T19:46:41.729042Z",
     "start_time": "2021-11-19T19:46:41.697876Z"
    },
    "id": "prompt-lightning"
   },
   "outputs": [
    {
     "data": {
      "text/html": [
       "<div>\n",
       "<style scoped>\n",
       "    .dataframe tbody tr th:only-of-type {\n",
       "        vertical-align: middle;\n",
       "    }\n",
       "\n",
       "    .dataframe tbody tr th {\n",
       "        vertical-align: top;\n",
       "    }\n",
       "\n",
       "    .dataframe thead th {\n",
       "        text-align: right;\n",
       "    }\n",
       "</style>\n",
       "<table border=\"1\" class=\"dataframe\">\n",
       "  <thead>\n",
       "    <tr style=\"text-align: right;\">\n",
       "      <th></th>\n",
       "      <th>X</th>\n",
       "    </tr>\n",
       "  </thead>\n",
       "  <tbody>\n",
       "    <tr>\n",
       "      <th>0</th>\n",
       "      <td>25.000141</td>\n",
       "    </tr>\n",
       "    <tr>\n",
       "      <th>1</th>\n",
       "      <td>2.996731</td>\n",
       "    </tr>\n",
       "    <tr>\n",
       "      <th>2</th>\n",
       "      <td>-0.673019</td>\n",
       "    </tr>\n",
       "    <tr>\n",
       "      <th>3</th>\n",
       "      <td>2.998876</td>\n",
       "    </tr>\n",
       "    <tr>\n",
       "      <th>4</th>\n",
       "      <td>25.000178</td>\n",
       "    </tr>\n",
       "    <tr>\n",
       "      <th>...</th>\n",
       "      <td>...</td>\n",
       "    </tr>\n",
       "    <tr>\n",
       "      <th>13995</th>\n",
       "      <td>3.954072</td>\n",
       "    </tr>\n",
       "    <tr>\n",
       "      <th>13996</th>\n",
       "      <td>3.002716</td>\n",
       "    </tr>\n",
       "    <tr>\n",
       "      <th>13997</th>\n",
       "      <td>6.085865</td>\n",
       "    </tr>\n",
       "    <tr>\n",
       "      <th>13998</th>\n",
       "      <td>2.983889</td>\n",
       "    </tr>\n",
       "    <tr>\n",
       "      <th>13999</th>\n",
       "      <td>25.001072</td>\n",
       "    </tr>\n",
       "  </tbody>\n",
       "</table>\n",
       "<p>14000 rows × 1 columns</p>\n",
       "</div>"
      ],
      "text/plain": [
       "               X\n",
       "0      25.000141\n",
       "1       2.996731\n",
       "2      -0.673019\n",
       "3       2.998876\n",
       "4      25.000178\n",
       "...          ...\n",
       "13995   3.954072\n",
       "13996   3.002716\n",
       "13997   6.085865\n",
       "13998   2.983889\n",
       "13999  25.001072\n",
       "\n",
       "[14000 rows x 1 columns]"
      ]
     },
     "execution_count": 3,
     "metadata": {},
     "output_type": "execute_result"
    }
   ],
   "source": [
    "data14 = pd.read_csv('./14.csv', \n",
    "                     usecols=[1])\n",
    "data14"
   ]
  },
  {
   "cell_type": "markdown",
   "id": "8db6450c",
   "metadata": {},
   "source": [
    "##### (а) Постройте гистограмму выборки. Изучите гистограмму и сделайте предположения о количестве гауссиан, а также задайте разумный вектор начальных параметров $\\theta$."
   ]
  },
  {
   "cell_type": "code",
   "execution_count": 4,
   "id": "b1e801de",
   "metadata": {
    "ExecuteTime": {
     "end_time": "2021-11-19T19:46:45.281457Z",
     "start_time": "2021-11-19T19:46:45.272455Z"
    }
   },
   "outputs": [
    {
     "data": {
      "text/plain": [
       "26.935203774213925"
      ]
     },
     "execution_count": 4,
     "metadata": {},
     "output_type": "execute_result"
    }
   ],
   "source": [
    "np.max(data14.X)"
   ]
  },
  {
   "cell_type": "code",
   "execution_count": 5,
   "id": "68cff92f",
   "metadata": {
    "ExecuteTime": {
     "end_time": "2021-11-19T19:46:47.363518Z",
     "start_time": "2021-11-19T19:46:46.081576Z"
    }
   },
   "outputs": [
    {
     "data": {
      "image/png": "[encoded data removed]",
      "text/plain": [
       "<Figure size 1296x720 with 1 Axes>"
      ]
     },
     "metadata": {
      "needs_background": "light"
     },
     "output_type": "display_data"
    }
   ],
   "source": [
    "plt.figure(figsize=(18, 10))\n",
    "plt.hist(data14.X, bins=500)\n",
    "plt.xticks(np.arange(-2, 27, 0.5), rotation=45)\n",
    "plt.xlabel(\"Значение Х\")\n",
    "plt.ylabel(\"Частота встречаемости Х\")\n",
    "plt.ylim(0, 100)\n",
    "plt.show()"
   ]
  },
  {
   "cell_type": "markdown",
   "id": "ff912a0c",
   "metadata": {},
   "source": [
    "Чуть-чуть обрезал верхние участки гистограммных столбцов, чтобы можно было содержательно предположить количество гауссиан в выборке.\n",
    "\n",
    "На приведённом графике отчётливо видно, что выборка состоит из 4 полноценных гауссиан с увеличивающейся по мере увеличения мат ожидания дисперсией. Однако также отчётливо видно два вырожденных распределения, для которых, вероятно, также нужно выделить 2 гауссианы с около-нулевой дисперсией.\n",
    "\n",
    "$$X_1 \\sim N(0, sigma), -2<X<2$$\n",
    "$$X_2 \\sim N(4, sigma*1.5), 2<X<5.5$$\n",
    "$$X_3 \\sim N(0, sigma*0.2), 2.9<X<3.1$$\n",
    "$$X_4 \\sim N(0, sigma*2), 5.5<X<10$$\n",
    "$$X_5 \\sim N(0, sigma*4), 10<X<27$$\n",
    "$$X_6 \\sim N(0, sigma*0.1), 24.8<X<25.2$$"
   ]
  },
  {
   "cell_type": "markdown",
   "id": "85f239da",
   "metadata": {},
   "source": [
    "Зададим следующий вектор начальных параметров:"
   ]
  },
  {
   "cell_type": "code",
   "execution_count": 6,
   "id": "6f602947",
   "metadata": {
    "ExecuteTime": {
     "end_time": "2021-11-19T19:46:51.476053Z",
     "start_time": "2021-11-19T19:46:51.432479Z"
    }
   },
   "outputs": [],
   "source": [
    "sigma2_1 = data14.X.loc[data14.X<2].var()\n",
    "p_1 = len(data14.X.loc[data14.X<2])/len(data14)*0.7\n",
    "sigma2_2 = data14.X.loc[(data14.X>2) & (data14.X<6)].var()\n",
    "p_2 = len(data14.X.loc[(data14.X>2) & (data14.X<6)])/len(data14)*0.7\n",
    "sigma2_3 = data14.X.loc[(data14.X>2.9) & (data14.X<3.1)].var()\n",
    "p_3 = len(data14.X.loc[(data14.X>2.9) & (data14.X<3.1)])/len(data14)*0.7\n",
    "sigma2_4 = data14.X.loc[(data14.X>5) & (data14.X<10)].var()\n",
    "p_4 = len(data14.X.loc[(data14.X>5) & (data14.X<10)])/len(data14)*0.7\n",
    "sigma2_5 = data14.X.loc[(data14.X>9) & (data14.X<27)].var()\n",
    "p_5 = len(data14.X.loc[(data14.X>9) & (data14.X<27)])/len(data14)*0.7\n",
    "sigma2_6 = data14.X.loc[(data14.X>24.8) & (data14.X<25.2)].var()\n",
    "p_6 = 1-p_1-p_2-p_3-p_4-p_5"
   ]
  },
  {
   "cell_type": "code",
   "execution_count": 7,
   "id": "7b424e09",
   "metadata": {
    "ExecuteTime": {
     "end_time": "2021-11-19T19:46:52.230587Z",
     "start_time": "2021-11-19T19:46:52.217579Z"
    }
   },
   "outputs": [
    {
     "data": {
      "text/plain": [
       "18"
      ]
     },
     "execution_count": 7,
     "metadata": {},
     "output_type": "execute_result"
    }
   ],
   "source": [
    "# theta = (mu_1, sigma2_1, p_1, \n",
    "#          mu2, sigma2_2, p_2,\n",
    "#          mu_3, sigma2_3, p_3,\n",
    "#          mu_4, sigma2_4, p_4, \n",
    "#          mu_5, sigma2_5)\n",
    "# (воспользовались эвристикой)\n",
    "theta = np.array([0, sigma2_1, p_1,\n",
    "                 4, sigma2_2, p_2,\n",
    "                 3, sigma2_3, p_3,\n",
    "                 8, sigma2_4, p_4,\n",
    "                 17, sigma2_5, p_5,\n",
    "                 25, sigma2_6, p_6])\n",
    "len(theta)"
   ]
  },
  {
   "cell_type": "markdown",
   "id": "195c0963",
   "metadata": {},
   "source": [
    "##### (б) Реализуйте EM-алгоритм для нахождения оценки $\\hat{\\theta}$. Итоговые формулы представьте только в виде кода (то есть не требуется отдельно прикладывать или техать вывод формул)."
   ]
  },
  {
   "cell_type": "code",
   "execution_count": 8,
   "id": "76cf6af2",
   "metadata": {
    "ExecuteTime": {
     "end_time": "2021-11-19T19:46:56.095613Z",
     "start_time": "2021-11-19T19:46:56.084570Z"
    }
   },
   "outputs": [],
   "source": [
    "# Задайте плотность x\n",
    "def f(x, mu, sigma2):\n",
    "    return 1 / np.sqrt(2 * np.pi * sigma2) * np.exp(-1/2 * 1/sigma2 * (x - mu)**2)\n",
    "\n",
    "x = data14.X\n"
   ]
  },
  {
   "cell_type": "code",
   "execution_count": 9,
   "id": "6f6e6c25",
   "metadata": {
    "ExecuteTime": {
     "end_time": "2021-11-19T19:46:57.889715Z",
     "start_time": "2021-11-19T19:46:57.724226Z"
    }
   },
   "outputs": [
    {
     "data": {
      "text/plain": [
       "0        0.000000e+00\n",
       "1        8.580548e-11\n",
       "2        9.999831e-01\n",
       "3        8.014482e-11\n",
       "4        0.000000e+00\n",
       "             ...     \n",
       "13995    2.797227e-15\n",
       "13996    7.846876e-11\n",
       "13997    9.233265e-33\n",
       "13998    3.004233e-10\n",
       "13999    0.000000e+00\n",
       "Name: X, Length: 14000, dtype: float64"
      ]
     },
     "execution_count": 9,
     "metadata": {},
     "output_type": "execute_result"
    }
   ],
   "source": [
    "# Рассчитайте распределение латентных переменных на наших данных\n",
    "p_z_1 = f(x, mu = theta[0], sigma2 = theta[1]) * theta[2] / \\\n",
    "            (theta[2] * f(x, mu = theta[0], sigma2 = theta[1]) + \\\n",
    "             (theta[5]) * f(x, mu = theta[3], sigma2 = theta[4]) + \\\n",
    "             (theta[8]) * f(x, mu = theta[6], sigma2 = theta[7]) + \\\n",
    "             (theta[11]) * f(x, mu = theta[9], sigma2 = theta[10]) + \\\n",
    "             (theta[14]) * f(x, mu = theta[12], sigma2 = theta[13]) + \\\n",
    "             (theta[17]) * f(x, mu = theta[15], sigma2 = theta[16]))\n",
    "\n",
    "p_z_2 = (theta[5]) * f(x, mu = theta[3], sigma2 = theta[4]) / \\\n",
    "            (theta[2] * f(x, mu = theta[0], sigma2 = theta[1]) + \\\n",
    "             (theta[5]) * f(x, mu = theta[3], sigma2 = theta[4]) + \\\n",
    "             (theta[8]) * f(x, mu = theta[6], sigma2 = theta[7]) + \\\n",
    "             (theta[11]) * f(x, mu = theta[9], sigma2 = theta[10]) + \\\n",
    "             (theta[14]) * f(x, mu = theta[12], sigma2 = theta[13]) + \\\n",
    "             (theta[17]) * f(x, mu = theta[15], sigma2 = theta[16]))\n",
    "\n",
    "p_z_3 = (theta[8]) * f(x, mu = theta[6], sigma2 = theta[7])/ \\\n",
    "            (theta[2] * f(x, mu = theta[0], sigma2 = theta[1]) + \\\n",
    "             (theta[5]) * f(x, mu = theta[3], sigma2 = theta[4]) + \\\n",
    "             (theta[8]) * f(x, mu = theta[6], sigma2 = theta[7]) + \\\n",
    "             (theta[11]) * f(x, mu = theta[9], sigma2 = theta[10]) + \\\n",
    "             (theta[14]) * f(x, mu = theta[12], sigma2 = theta[13]) + \\\n",
    "             (theta[17]) * f(x, mu = theta[15], sigma2 = theta[16]))\n",
    "\n",
    "p_z_4 = (theta[11]) * f(x, mu = theta[9], sigma2 = theta[10]) / \\\n",
    "            (theta[2] * f(x, mu = theta[0], sigma2 = theta[1]) + \\\n",
    "             (theta[5]) * f(x, mu = theta[3], sigma2 = theta[4]) + \\\n",
    "             (theta[8]) * f(x, mu = theta[6], sigma2 = theta[7]) + \\\n",
    "             (theta[11]) * f(x, mu = theta[9], sigma2 = theta[10]) + \\\n",
    "             (theta[14]) * f(x, mu = theta[12], sigma2 = theta[13]) + \\\n",
    "             (theta[17]) * f(x, mu = theta[15], sigma2 = theta[16]))\n",
    "\n",
    "p_z_5 = (theta[14]) * f(x, mu = theta[12], sigma2 = theta[13]) / \\\n",
    "            (theta[2] * f(x, mu = theta[0], sigma2 = theta[1]) + \\\n",
    "             (theta[5]) * f(x, mu = theta[3], sigma2 = theta[4]) + \\\n",
    "             (theta[8]) * f(x, mu = theta[6], sigma2 = theta[7]) + \\\n",
    "             (theta[11]) * f(x, mu = theta[9], sigma2 = theta[10]) + \\\n",
    "             (theta[14]) * f(x, mu = theta[12], sigma2 = theta[13]) + \\\n",
    "             (theta[17]) * f(x, mu = theta[15], sigma2 = theta[16]))\n",
    "\n",
    "p_z_6 = (theta[17]) * f(x, mu = theta[15], sigma2 = theta[16]) / \\\n",
    "            (theta[2] * f(x, mu = theta[0], sigma2 = theta[1]) + \\\n",
    "             (theta[5]) * f(x, mu = theta[3], sigma2 = theta[4]) + \\\n",
    "             (theta[8]) * f(x, mu = theta[6], sigma2 = theta[7]) + \\\n",
    "             (theta[11]) * f(x, mu = theta[9], sigma2 = theta[10]) + \\\n",
    "             (theta[14]) * f(x, mu = theta[12], sigma2 = theta[13]) + \\\n",
    "             (theta[17]) * f(x, mu = theta[15], sigma2 = theta[16]))\n",
    "\n",
    "p_z_1"
   ]
  },
  {
   "cell_type": "code",
   "execution_count": 10,
   "id": "ec3b309d",
   "metadata": {
    "ExecuteTime": {
     "end_time": "2021-11-19T19:47:01.311364Z",
     "start_time": "2021-11-19T19:47:01.288361Z"
    }
   },
   "outputs": [
    {
     "data": {
      "text/plain": [
       "array([0.00000000e+00, 2.40183562e-01, 1.00000000e-01, 4.00000000e+00,\n",
       "       2.17433134e-01, 2.50300000e-01, 3.00000000e+00, 1.13278384e-04,\n",
       "       2.01100000e-01, 8.00000000e+00, 8.14939275e-01, 5.11500000e-02,\n",
       "       1.70000000e+01, 1.41837542e+01, 3.05800000e-01, 2.50000000e+01,\n",
       "       5.74932320e-06, 9.16500000e-02])"
      ]
     },
     "execution_count": 10,
     "metadata": {},
     "output_type": "execute_result"
    }
   ],
   "source": [
    "# Реализуйте формулы для одного M-шага\n",
    "mu_1 = np.sum(p_z_1 * x) / np.sum(p_z_1)\n",
    "mu_2 = np.sum(p_z_2 * x) / np.sum(p_z_2)\n",
    "mu_3 = np.sum(p_z_3 * x) / np.sum(p_z_3)\n",
    "mu_4 = np.sum(p_z_4 * x) / np.sum(p_z_4)\n",
    "mu_5 = np.sum(p_z_5 * x) / np.sum(p_z_5)\n",
    "mu_6 = np.sum(p_z_6 * x) / np.sum(p_z_6)\n",
    "sigma2_1 = np.sum((x - mu_1) ** 2 * p_z_1)/ np.sum(p_z_1)\n",
    "sigma2_2 = np.sum((x - mu_2) ** 2 * p_z_2)/ np.sum(p_z_2)\n",
    "sigma2_3 = np.sum((x - mu_3) ** 2 * p_z_3)/ np.sum(p_z_3)\n",
    "sigma2_4 = np.sum((x - mu_4) ** 2 * p_z_4)/ np.sum(p_z_4)\n",
    "sigma2_5 = np.sum((x - mu_5) ** 2 * p_z_5)/ np.sum(p_z_5)\n",
    "sigma2_6 = np.sum((x - mu_6) ** 2 * p_z_6)/ np.sum(p_z_6)\n",
    "p_1 = np.sum(p_z_1) / len(x)\n",
    "p_2 = np.sum(p_z_2) / len(x)\n",
    "p_3 = np.sum(p_z_3) / len(x)\n",
    "p_4 = np.sum(p_z_4) / len(x)\n",
    "p_5 = np.sum(p_z_5) / len(x)\n",
    "p_6 = np.sum(p_z_6) / len(x)\n",
    "theta_new = np.array([mu_1, sigma2_1, p_1,\n",
    "                 mu_2, sigma2_2, p_2,\n",
    "                 mu_3, sigma2_3, p_3,\n",
    "                 mu_4, sigma2_4, p_4,\n",
    "                 mu_5, sigma2_5, p_5,\n",
    "                 mu_6, sigma2_6, p_6])\n",
    "theta"
   ]
  },
  {
   "cell_type": "code",
   "execution_count": 11,
   "id": "f5cbf52f",
   "metadata": {
    "ExecuteTime": {
     "end_time": "2021-11-19T19:47:03.991558Z",
     "start_time": "2021-11-19T19:47:03.985546Z"
    }
   },
   "outputs": [
    {
     "data": {
      "text/plain": [
       "array([-7.91472387e-03,  2.39871971e-01,  1.42842226e-01,  3.99046412e+00,\n",
       "        2.52804116e-01,  7.24542763e-02,  3.00032231e+00,  9.79035520e-05,\n",
       "        2.84629402e-01,  7.95040463e+00,  5.93996382e-01,  6.25285509e-02,\n",
       "        1.59631084e+01,  1.52939039e+01,  8.04902599e-02,  2.50000303e+01,\n",
       "        1.01464637e-06,  3.57055284e-01])"
      ]
     },
     "execution_count": 11,
     "metadata": {},
     "output_type": "execute_result"
    }
   ],
   "source": [
    "theta_new"
   ]
  },
  {
   "cell_type": "code",
   "execution_count": 12,
   "id": "91f74ef8",
   "metadata": {
    "ExecuteTime": {
     "end_time": "2021-11-19T19:47:04.768573Z",
     "start_time": "2021-11-19T19:47:04.764565Z"
    }
   },
   "outputs": [],
   "source": [
    "# Логарифм функции плотности x\n",
    "def lnf(x, mu, sigma2):\n",
    "    return -1/2 * np.log(2 * np.pi * sigma2) - 1/2 * (x - mu) ** 2 / sigma2"
   ]
  },
  {
   "cell_type": "code",
   "execution_count": 13,
   "id": "7d38ca52",
   "metadata": {
    "ExecuteTime": {
     "end_time": "2021-11-19T19:47:05.560654Z",
     "start_time": "2021-11-19T19:47:05.556642Z"
    }
   },
   "outputs": [],
   "source": [
    "theta_new = np.array([mu_1, sigma2_1, p_1,\n",
    "                 mu_2, sigma2_2, p_2,\n",
    "                 mu_3, sigma2_3, p_3,\n",
    "                 mu_4, sigma2_4, p_4,\n",
    "                 mu_5, sigma2_5, p_5,\n",
    "                 mu_6, sigma2_6, p_6])"
   ]
  },
  {
   "cell_type": "code",
   "execution_count": 14,
   "id": "a0609a20",
   "metadata": {
    "ExecuteTime": {
     "end_time": "2021-11-19T19:47:07.093799Z",
     "start_time": "2021-11-19T19:47:07.080742Z"
    }
   },
   "outputs": [],
   "source": [
    "def Q_f(x, theta, p_z_1, p_z_2, p_z_3, p_z_4, p_z_5, p_z_6):\n",
    "    ell1 = lnf(x, theta[0], theta[1]) + np.log(theta[2])\n",
    "    ell2 = lnf(x, theta[3], theta[4]) + np.log(theta[5])\n",
    "    ell3 = lnf(x, theta[6], theta[7]) + np.log(theta[8])\n",
    "    ell4 = lnf(x, theta[9], theta[10]) + np.log(theta[11])\n",
    "    ell5 = lnf(x, theta[12], theta[13]) + np.log(theta[14])\n",
    "    ell6 = lnf(x, theta[15], theta[16]) + np.log(theta[17])\n",
    "    return np.sum(p_z_1 * ell1 + p_z_2 * ell2 + p_z_3 * ell3 +\\\n",
    "                 p_z_4 * ell4 + p_z_5 * ell5 + p_z_6 * ell6)"
   ]
  },
  {
   "cell_type": "code",
   "execution_count": 15,
   "id": "3537c3bd",
   "metadata": {
    "ExecuteTime": {
     "end_time": "2021-11-19T19:47:07.824931Z",
     "start_time": "2021-11-19T19:47:07.726753Z"
    }
   },
   "outputs": [],
   "source": [
    "def EM(x, theta, n=100, eps=1e-4):\n",
    "    \n",
    "    Q_history = []\n",
    "    \n",
    "    for i in range(n):\n",
    "        \n",
    "        # E-step\n",
    "        p_z_1 = f(x, mu = theta[0], sigma2 = theta[1]) * theta[2] / \\\n",
    "            (theta[2] * f(x, mu = theta[0], sigma2 = theta[1]) + \\\n",
    "             (theta[5]) * f(x, mu = theta[3], sigma2 = theta[4]) + \\\n",
    "             (theta[8]) * f(x, mu = theta[6], sigma2 = theta[7]) + \\\n",
    "             (theta[11]) * f(x, mu = theta[9], sigma2 = theta[10]) + \\\n",
    "             (theta[14]) * f(x, mu = theta[12], sigma2 = theta[13]) + \\\n",
    "             (theta[17]) * f(x, mu = theta[15], sigma2 = theta[16]))\n",
    "\n",
    "        p_z_2 = (theta[5]) * f(x, mu = theta[3], sigma2 = theta[4]) / \\\n",
    "                    (theta[2] * f(x, mu = theta[0], sigma2 = theta[1]) + \\\n",
    "                     (theta[5]) * f(x, mu = theta[3], sigma2 = theta[4]) + \\\n",
    "                     (theta[8]) * f(x, mu = theta[6], sigma2 = theta[7]) + \\\n",
    "                     (theta[11]) * f(x, mu = theta[9], sigma2 = theta[10]) + \\\n",
    "                     (theta[14]) * f(x, mu = theta[12], sigma2 = theta[13]) + \\\n",
    "                     (theta[17]) * f(x, mu = theta[15], sigma2 = theta[16]))\n",
    "\n",
    "        p_z_3 = (theta[8]) * f(x, mu = theta[6], sigma2 = theta[7])/ \\\n",
    "                    (theta[2] * f(x, mu = theta[0], sigma2 = theta[1]) + \\\n",
    "                     (theta[5]) * f(x, mu = theta[3], sigma2 = theta[4]) + \\\n",
    "                     (theta[8]) * f(x, mu = theta[6], sigma2 = theta[7]) + \\\n",
    "                     (theta[11]) * f(x, mu = theta[9], sigma2 = theta[10]) + \\\n",
    "                     (theta[14]) * f(x, mu = theta[12], sigma2 = theta[13]) + \\\n",
    "                     (theta[17]) * f(x, mu = theta[15], sigma2 = theta[16]))\n",
    "\n",
    "        p_z_4 = (theta[11]) * f(x, mu = theta[9], sigma2 = theta[10]) / \\\n",
    "                    (theta[2] * f(x, mu = theta[0], sigma2 = theta[1]) + \\\n",
    "                     (theta[5]) * f(x, mu = theta[3], sigma2 = theta[4]) + \\\n",
    "                     (theta[8]) * f(x, mu = theta[6], sigma2 = theta[7]) + \\\n",
    "                     (theta[11]) * f(x, mu = theta[9], sigma2 = theta[10]) + \\\n",
    "                     (theta[14]) * f(x, mu = theta[12], sigma2 = theta[13]) + \\\n",
    "                     (theta[17]) * f(x, mu = theta[15], sigma2 = theta[16]))\n",
    "\n",
    "        p_z_5 = (theta[14]) * f(x, mu = theta[12], sigma2 = theta[13]) / \\\n",
    "                    (theta[2] * f(x, mu = theta[0], sigma2 = theta[1]) + \\\n",
    "                     (theta[5]) * f(x, mu = theta[3], sigma2 = theta[4]) + \\\n",
    "                     (theta[8]) * f(x, mu = theta[6], sigma2 = theta[7]) + \\\n",
    "                     (theta[11]) * f(x, mu = theta[9], sigma2 = theta[10]) + \\\n",
    "                     (theta[14]) * f(x, mu = theta[12], sigma2 = theta[13]) + \\\n",
    "                     (theta[17]) * f(x, mu = theta[15], sigma2 = theta[16]))\n",
    "\n",
    "        p_z_6 = (theta[17]) * f(x, mu = theta[15], sigma2 = theta[16]) / \\\n",
    "                    (theta[2] * f(x, mu = theta[0], sigma2 = theta[1]) + \\\n",
    "                     (theta[5]) * f(x, mu = theta[3], sigma2 = theta[4]) + \\\n",
    "                     (theta[8]) * f(x, mu = theta[6], sigma2 = theta[7]) + \\\n",
    "                     (theta[11]) * f(x, mu = theta[9], sigma2 = theta[10]) + \\\n",
    "                     (theta[14]) * f(x, mu = theta[12], sigma2 = theta[13]) + \\\n",
    "                     (theta[17]) * f(x, mu = theta[15], sigma2 = theta[16]))\n",
    "        \n",
    "        Q_history.append(Q_f(x, theta, p_z_1, p_z_2, p_z_3, p_z_4, p_z_5, p_z_6))\n",
    "        \n",
    "        if i > 0:\n",
    "            if (Q_history[i] - Q_history[i-1])**2 < eps:\n",
    "                break\n",
    "        \n",
    "        # M-step\n",
    "        mu_1 = np.sum(p_z_1 * x) / np.sum(p_z_1)\n",
    "        mu_2 = np.sum(p_z_2 * x) / np.sum(p_z_2)\n",
    "        mu_3 = np.sum(p_z_3 * x) / np.sum(p_z_3)\n",
    "        mu_4 = np.sum(p_z_4 * x) / np.sum(p_z_4)\n",
    "        mu_5 = np.sum(p_z_5 * x) / np.sum(p_z_5)\n",
    "        mu_6 = np.sum(p_z_6 * x) / np.sum(p_z_6)\n",
    "        sigma2_1 = np.sum((x - mu_1) ** 2 * p_z_1)/ np.sum(p_z_1)\n",
    "        sigma2_2 = np.sum((x - mu_2) ** 2 * p_z_2)/ np.sum(p_z_2)\n",
    "        sigma2_3 = np.sum((x - mu_3) ** 2 * p_z_3)/ np.sum(p_z_3)\n",
    "        sigma2_4 = np.sum((x - mu_4) ** 2 * p_z_4)/ np.sum(p_z_4)\n",
    "        sigma2_5 = np.sum((x - mu_5) ** 2 * p_z_5)/ np.sum(p_z_5)\n",
    "        sigma2_6 = np.sum((x - mu_6) ** 2 * p_z_6)/ np.sum(p_z_6)\n",
    "        p_1 = np.sum(p_z_1) / len(x)\n",
    "        p_2 = np.sum(p_z_2) / len(x)\n",
    "        p_3 = np.sum(p_z_3) / len(x)\n",
    "        p_4 = np.sum(p_z_4) / len(x)\n",
    "        p_5 = np.sum(p_z_5) / len(x)\n",
    "        p_6 = np.sum(p_z_6) / len(x)\n",
    "        theta_new = np.array([mu_1, sigma2_1, p_1,\n",
    "                         mu_2, sigma2_2, p_2,\n",
    "                         mu_3, sigma2_3, p_3,\n",
    "                         mu_4, sigma2_4, p_4,\n",
    "                         mu_5, sigma2_5, p_5,\n",
    "                         mu_6, sigma2_6, p_6])\n",
    "        \n",
    "        theta = theta_new\n",
    "    \n",
    "    return (theta, Q_history)"
   ]
  },
  {
   "cell_type": "code",
   "execution_count": 16,
   "id": "d257e557",
   "metadata": {
    "ExecuteTime": {
     "end_time": "2021-11-19T19:47:10.955461Z",
     "start_time": "2021-11-19T19:47:09.221239Z"
    }
   },
   "outputs": [
    {
     "data": {
      "text/plain": [
       "array([-7.80466575e-03,  2.40046639e-01,  1.42856229e-01,  4.00864066e+00,\n",
       "        2.40027164e-01,  7.12548478e-02,  3.00033350e+00,  9.87252114e-05,\n",
       "        2.85908528e-01,  8.02341063e+00,  6.90405875e-01,  7.14163092e-02,\n",
       "        1.68921887e+01,  9.08577289e+00,  7.14232074e-02,  2.50000303e+01,\n",
       "        1.01467845e-06,  3.57140878e-01])"
      ]
     },
     "execution_count": 16,
     "metadata": {},
     "output_type": "execute_result"
    }
   ],
   "source": [
    "theta, Q = EM(x, theta)\n",
    "theta"
   ]
  },
  {
   "cell_type": "markdown",
   "id": "aa57826e",
   "metadata": {},
   "source": [
    "##### (в) Постройте график $Q$ в зависимости от числа итераций."
   ]
  },
  {
   "cell_type": "code",
   "execution_count": 17,
   "id": "e716c78c",
   "metadata": {
    "ExecuteTime": {
     "end_time": "2021-11-19T19:47:13.208197Z",
     "start_time": "2021-11-19T19:47:13.097571Z"
    }
   },
   "outputs": [
    {
     "data": {
      "text/plain": [
       "[<matplotlib.lines.Line2D at 0x16289f88640>]"
      ]
     },
     "execution_count": 17,
     "metadata": {},
     "output_type": "execute_result"
    },
    {
     "data": {
      "image/png": "[encoded data removed]",
      "text/plain": [
       "<Figure size 432x288 with 1 Axes>"
      ]
     },
     "metadata": {
      "needs_background": "light"
     },
     "output_type": "display_data"
    }
   ],
   "source": [
    "plt.plot(Q)"
   ]
  },
  {
   "cell_type": "markdown",
   "id": "32030e9e",
   "metadata": {},
   "source": [
    "##### (г) Являются ли полученные оценки параметров адекватными (адекватность оцените визуально по гистограмме). Если нет, приведите возможную причину провала EM-алгоритма. "
   ]
  },
  {
   "cell_type": "code",
   "execution_count": 18,
   "id": "7fb7b475",
   "metadata": {
    "ExecuteTime": {
     "end_time": "2021-11-19T19:47:15.594072Z",
     "start_time": "2021-11-19T19:47:15.480741Z"
    }
   },
   "outputs": [],
   "source": [
    "p_z_1 = f(x, mu = theta[0], sigma2 = theta[1]) * theta[2] / \\\n",
    "            (theta[2] * f(x, mu = theta[0], sigma2 = theta[1]) + \\\n",
    "             (theta[5]) * f(x, mu = theta[3], sigma2 = theta[4]) + \\\n",
    "             (theta[8]) * f(x, mu = theta[6], sigma2 = theta[7]) + \\\n",
    "             (theta[11]) * f(x, mu = theta[9], sigma2 = theta[10]) + \\\n",
    "             (theta[14]) * f(x, mu = theta[12], sigma2 = theta[13]) + \\\n",
    "             (theta[17]) * f(x, mu = theta[15], sigma2 = theta[16]))\n",
    "\n",
    "p_z_2 = (theta[5]) * f(x, mu = theta[3], sigma2 = theta[4]) / \\\n",
    "        (theta[2] * f(x, mu = theta[0], sigma2 = theta[1]) + \\\n",
    "         (theta[5]) * f(x, mu = theta[3], sigma2 = theta[4]) + \\\n",
    "         (theta[8]) * f(x, mu = theta[6], sigma2 = theta[7]) + \\\n",
    "         (theta[11]) * f(x, mu = theta[9], sigma2 = theta[10]) + \\\n",
    "         (theta[14]) * f(x, mu = theta[12], sigma2 = theta[13]) + \\\n",
    "         (theta[17]) * f(x, mu = theta[15], sigma2 = theta[16]))\n",
    "\n",
    "p_z_3 = (theta[8]) * f(x, mu = theta[6], sigma2 = theta[7])/ \\\n",
    "        (theta[2] * f(x, mu = theta[0], sigma2 = theta[1]) + \\\n",
    "         (theta[5]) * f(x, mu = theta[3], sigma2 = theta[4]) + \\\n",
    "         (theta[8]) * f(x, mu = theta[6], sigma2 = theta[7]) + \\\n",
    "         (theta[11]) * f(x, mu = theta[9], sigma2 = theta[10]) + \\\n",
    "         (theta[14]) * f(x, mu = theta[12], sigma2 = theta[13]) + \\\n",
    "         (theta[17]) * f(x, mu = theta[15], sigma2 = theta[16]))\n",
    "\n",
    "p_z_4 = (theta[11]) * f(x, mu = theta[9], sigma2 = theta[10]) / \\\n",
    "        (theta[2] * f(x, mu = theta[0], sigma2 = theta[1]) + \\\n",
    "         (theta[5]) * f(x, mu = theta[3], sigma2 = theta[4]) + \\\n",
    "         (theta[8]) * f(x, mu = theta[6], sigma2 = theta[7]) + \\\n",
    "         (theta[11]) * f(x, mu = theta[9], sigma2 = theta[10]) + \\\n",
    "         (theta[14]) * f(x, mu = theta[12], sigma2 = theta[13]) + \\\n",
    "         (theta[17]) * f(x, mu = theta[15], sigma2 = theta[16]))\n",
    "\n",
    "p_z_5 = (theta[14]) * f(x, mu = theta[12], sigma2 = theta[13]) / \\\n",
    "        (theta[2] * f(x, mu = theta[0], sigma2 = theta[1]) + \\\n",
    "         (theta[5]) * f(x, mu = theta[3], sigma2 = theta[4]) + \\\n",
    "         (theta[8]) * f(x, mu = theta[6], sigma2 = theta[7]) + \\\n",
    "         (theta[11]) * f(x, mu = theta[9], sigma2 = theta[10]) + \\\n",
    "         (theta[14]) * f(x, mu = theta[12], sigma2 = theta[13]) + \\\n",
    "         (theta[17]) * f(x, mu = theta[15], sigma2 = theta[16]))\n",
    "\n",
    "p_z_6 = (theta[17]) * f(x, mu = theta[15], sigma2 = theta[16]) / \\\n",
    "        (theta[2] * f(x, mu = theta[0], sigma2 = theta[1]) + \\\n",
    "         (theta[5]) * f(x, mu = theta[3], sigma2 = theta[4]) + \\\n",
    "         (theta[8]) * f(x, mu = theta[6], sigma2 = theta[7]) + \\\n",
    "         (theta[11]) * f(x, mu = theta[9], sigma2 = theta[10]) + \\\n",
    "         (theta[14]) * f(x, mu = theta[12], sigma2 = theta[13]) + \\\n",
    "         (theta[17]) * f(x, mu = theta[15], sigma2 = theta[16]))\n",
    "\n",
    "pseudo_probas = np.vstack([p_z_1, p_z_2, p_z_3, p_z_4, p_z_5, p_z_6])\n",
    "clusters = np.argmax(pseudo_probas, axis=0)"
   ]
  },
  {
   "cell_type": "code",
   "execution_count": 19,
   "id": "400d6c80",
   "metadata": {
    "ExecuteTime": {
     "end_time": "2021-11-19T19:47:16.275009Z",
     "start_time": "2021-11-19T19:47:16.265943Z"
    }
   },
   "outputs": [
    {
     "data": {
      "text/plain": [
       "array([2000,  991, 4010, 1010,  989, 5000], dtype=int64)"
      ]
     },
     "execution_count": 19,
     "metadata": {},
     "output_type": "execute_result"
    }
   ],
   "source": [
    "np.bincount(clusters)"
   ]
  },
  {
   "cell_type": "code",
   "execution_count": 45,
   "id": "be1e058d",
   "metadata": {
    "ExecuteTime": {
     "end_time": "2021-11-19T19:51:43.565239Z",
     "start_time": "2021-11-19T19:51:43.137321Z"
    }
   },
   "outputs": [
    {
     "data": {
      "image/png": "[encoded data removed]",
      "text/plain": [
       "<Figure size 1152x720 with 1 Axes>"
      ]
     },
     "metadata": {
      "needs_background": "light"
     },
     "output_type": "display_data"
    }
   ],
   "source": [
    "plt.figure(figsize=(16, 10))\n",
    "plt.hist(x[clusters==1], alpha = 0.6, bins=50)\n",
    "plt.hist(x[clusters==2], alpha = 0.9, bins=50)\n",
    "plt.hist(x[clusters==3], alpha = 0.6, bins=50)\n",
    "plt.hist(x[clusters==4], alpha = 0.6, bins=50)\n",
    "plt.hist(x[clusters==5], alpha = 0.6, color='cyan', bins=5)\n",
    "plt.hist(x[clusters==6], alpha = 0.9, color='black', bins=5)\n",
    "plt.ylim(0, 200)\n",
    "plt.show()"
   ]
  },
  {
   "cell_type": "markdown",
   "id": "26305081",
   "metadata": {},
   "source": [
    "Видим, что в целом 4 прикинутых изначально распределения действительно весьма успешно определились ЕМ-алгоритмом, однако нормальное распределение в окрестности 0 и вырожденное распределение в окрестности 25 куда-то испарились. Возможно, при более детальном подходе к визуализации работы алгоритма получилось бы найти, куда же они спрятались..."
   ]
  },
  {
   "cell_type": "markdown",
   "id": "directed-hypothesis",
   "metadata": {
    "id": "directed-hypothesis"
   },
   "source": [
    "#### Задача 15. Из контрольной прошлого года\n",
    "\n",
    "В контрольной работе прошлого года была такая задача:\n",
    "\n",
    "> У меня есть три монетки. Они выпадают орлом с вероятностями $p_1$, $p_2$ и $p_3 = 1$. Я провожу эксперимент из 100 раундов. В каждом раунде я равновероятно выбираю одну из монеток, подбрасываю её два раза и записываю число выпавших орлов. После окончания эксперимента у меня на бумажке остаётся 100 записанных чисел. Какая монетка подкидывалась в каждом раунде, я не помню.\n",
    "\n",
    "На контрольной требовалось описать EM-алгоритм для нахождения $\\hat{p}_1$ и $\\hat{p}_2$.\n",
    "\n",
    "**[а]** **(3 балла)** В файле `15.csv` приведена описанная выборка из 100 чисел. Реализуйте EM-алгоритм для нахождения $\\hat{p}_1$ и $\\hat{p}_2$.\n",
    "\n",
    "**[б]** Постройте график $Q$ в зависимости от числа итераций.\n",
    "\n",
    "**[в]** Изучите выборку и прокомментируйте адекватность полученных оценок."
   ]
  },
  {
   "cell_type": "code",
   "execution_count": 11,
   "id": "entertaining-column",
   "metadata": {
    "ExecuteTime": {
     "end_time": "2021-09-11T08:39:43.362835Z",
     "start_time": "2021-09-11T08:39:42.914281Z"
    },
    "id": "entertaining-column"
   },
   "outputs": [
    {
     "data": {
      "text/html": [
       "<div>\n",
       "<style scoped>\n",
       "    .dataframe tbody tr th:only-of-type {\n",
       "        vertical-align: middle;\n",
       "    }\n",
       "\n",
       "    .dataframe tbody tr th {\n",
       "        vertical-align: top;\n",
       "    }\n",
       "\n",
       "    .dataframe thead th {\n",
       "        text-align: right;\n",
       "    }\n",
       "</style>\n",
       "<table border=\"1\" class=\"dataframe\">\n",
       "  <thead>\n",
       "    <tr style=\"text-align: right;\">\n",
       "      <th></th>\n",
       "      <th>X</th>\n",
       "    </tr>\n",
       "  </thead>\n",
       "  <tbody>\n",
       "    <tr>\n",
       "      <th>0</th>\n",
       "      <td>2</td>\n",
       "    </tr>\n",
       "    <tr>\n",
       "      <th>1</th>\n",
       "      <td>1</td>\n",
       "    </tr>\n",
       "    <tr>\n",
       "      <th>2</th>\n",
       "      <td>2</td>\n",
       "    </tr>\n",
       "    <tr>\n",
       "      <th>3</th>\n",
       "      <td>2</td>\n",
       "    </tr>\n",
       "    <tr>\n",
       "      <th>4</th>\n",
       "      <td>0</td>\n",
       "    </tr>\n",
       "    <tr>\n",
       "      <th>...</th>\n",
       "      <td>...</td>\n",
       "    </tr>\n",
       "    <tr>\n",
       "      <th>95</th>\n",
       "      <td>1</td>\n",
       "    </tr>\n",
       "    <tr>\n",
       "      <th>96</th>\n",
       "      <td>2</td>\n",
       "    </tr>\n",
       "    <tr>\n",
       "      <th>97</th>\n",
       "      <td>2</td>\n",
       "    </tr>\n",
       "    <tr>\n",
       "      <th>98</th>\n",
       "      <td>1</td>\n",
       "    </tr>\n",
       "    <tr>\n",
       "      <th>99</th>\n",
       "      <td>2</td>\n",
       "    </tr>\n",
       "  </tbody>\n",
       "</table>\n",
       "<p>100 rows × 1 columns</p>\n",
       "</div>"
      ],
      "text/plain": [
       "    X\n",
       "0   2\n",
       "1   1\n",
       "2   2\n",
       "3   2\n",
       "4   0\n",
       ".. ..\n",
       "95  1\n",
       "96  2\n",
       "97  2\n",
       "98  1\n",
       "99  2\n",
       "\n",
       "[100 rows x 1 columns]"
      ]
     },
     "execution_count": 11,
     "metadata": {},
     "output_type": "execute_result"
    }
   ],
   "source": [
    "data15 = pd.read_csv('https://raw.githubusercontent.com/V-Marco/psmo_21_22/main/hw/hw1/15.csv', \n",
    "                     usecols=[1])\n",
    "data15"
   ]
  },
  {
   "cell_type": "code",
   "execution_count": 12,
   "id": "da355b25",
   "metadata": {
    "ExecuteTime": {
     "end_time": "2021-09-11T08:39:59.504824Z",
     "start_time": "2021-09-11T08:39:59.447672Z"
    }
   },
   "outputs": [
    {
     "data": {
      "text/plain": [
       "X\n",
       "2    38\n",
       "1    32\n",
       "0    30\n",
       "dtype: int64"
      ]
     },
     "execution_count": 12,
     "metadata": {},
     "output_type": "execute_result"
    }
   ],
   "source": [
    "data15.value_counts()"
   ]
  },
  {
   "cell_type": "markdown",
   "id": "b5ce7d28",
   "metadata": {},
   "source": [
    "##### (a) Реализуйте EM-алгоритм для нахождения $\\hat{p}_1$ и $\\hat{p}_2$."
   ]
  },
  {
   "cell_type": "code",
   "execution_count": null,
   "id": "fc9e1c20",
   "metadata": {},
   "outputs": [],
   "source": []
  },
  {
   "cell_type": "markdown",
   "id": "5b13249d",
   "metadata": {},
   "source": [
    "##### (б) Постройте график $Q$ в зависимости от числа итераций."
   ]
  },
  {
   "cell_type": "code",
   "execution_count": null,
   "id": "e0bcdd57",
   "metadata": {},
   "outputs": [],
   "source": []
  },
  {
   "cell_type": "markdown",
   "id": "8af04158",
   "metadata": {},
   "source": [
    "##### (в) Изучите выборку и прокомментируйте адекватность полученных оценок."
   ]
  },
  {
   "cell_type": "code",
   "execution_count": null,
   "id": "046d3f65",
   "metadata": {},
   "outputs": [],
   "source": []
  },
  {
   "cell_type": "markdown",
   "id": "passing-spine",
   "metadata": {
    "id": "passing-spine"
   },
   "source": [
    "#### Задача 16. Бутстраппируем!\n",
    "\n",
    "Исследователь Валентин каждый день ловит покемонов. По причинам, которые Валентин предпочитает не раскрывать, он совершает ровно 15 попыток поймать покемона за день. Каждая попытка может окончиться успехом с некоторой вероятностью. В файле `16.csv` представлены наблюдения о пойманных покемонах за 3 года. \n",
    "\n",
    "**[а]** Сделайте предположение о том, какое распределение имеет число пойманных за день покемонов. Это распределение должно иметь один неизвестный параметр.\n",
    "\n",
    "**[б]** Найдите точечную оценку неизвестного параметра методом максимального правдоподобия.\n",
    "\n",
    "**[в]** **(2 балла)** Постройте 95%-ый доверительный интервал для неизвестного параметра при помощи методов **Reverse bootstrap percentile**, **t-bootstrap** и **параметрического бутстрэпа**. "
   ]
  },
  {
   "cell_type": "code",
   "execution_count": 15,
   "id": "minor-detection",
   "metadata": {
    "ExecuteTime": {
     "end_time": "2021-09-11T08:45:10.206990Z",
     "start_time": "2021-09-11T08:45:10.014821Z"
    },
    "id": "minor-detection"
   },
   "outputs": [
    {
     "data": {
      "text/html": [
       "<div>\n",
       "<style scoped>\n",
       "    .dataframe tbody tr th:only-of-type {\n",
       "        vertical-align: middle;\n",
       "    }\n",
       "\n",
       "    .dataframe tbody tr th {\n",
       "        vertical-align: top;\n",
       "    }\n",
       "\n",
       "    .dataframe thead th {\n",
       "        text-align: right;\n",
       "    }\n",
       "</style>\n",
       "<table border=\"1\" class=\"dataframe\">\n",
       "  <thead>\n",
       "    <tr style=\"text-align: right;\">\n",
       "      <th></th>\n",
       "      <th>X</th>\n",
       "    </tr>\n",
       "  </thead>\n",
       "  <tbody>\n",
       "    <tr>\n",
       "      <th>0</th>\n",
       "      <td>10</td>\n",
       "    </tr>\n",
       "    <tr>\n",
       "      <th>1</th>\n",
       "      <td>9</td>\n",
       "    </tr>\n",
       "    <tr>\n",
       "      <th>2</th>\n",
       "      <td>11</td>\n",
       "    </tr>\n",
       "    <tr>\n",
       "      <th>3</th>\n",
       "      <td>9</td>\n",
       "    </tr>\n",
       "    <tr>\n",
       "      <th>4</th>\n",
       "      <td>9</td>\n",
       "    </tr>\n",
       "    <tr>\n",
       "      <th>...</th>\n",
       "      <td>...</td>\n",
       "    </tr>\n",
       "    <tr>\n",
       "      <th>1090</th>\n",
       "      <td>8</td>\n",
       "    </tr>\n",
       "    <tr>\n",
       "      <th>1091</th>\n",
       "      <td>10</td>\n",
       "    </tr>\n",
       "    <tr>\n",
       "      <th>1092</th>\n",
       "      <td>8</td>\n",
       "    </tr>\n",
       "    <tr>\n",
       "      <th>1093</th>\n",
       "      <td>13</td>\n",
       "    </tr>\n",
       "    <tr>\n",
       "      <th>1094</th>\n",
       "      <td>10</td>\n",
       "    </tr>\n",
       "  </tbody>\n",
       "</table>\n",
       "<p>1095 rows × 1 columns</p>\n",
       "</div>"
      ],
      "text/plain": [
       "       X\n",
       "0     10\n",
       "1      9\n",
       "2     11\n",
       "3      9\n",
       "4      9\n",
       "...   ..\n",
       "1090   8\n",
       "1091  10\n",
       "1092   8\n",
       "1093  13\n",
       "1094  10\n",
       "\n",
       "[1095 rows x 1 columns]"
      ]
     },
     "execution_count": 15,
     "metadata": {},
     "output_type": "execute_result"
    }
   ],
   "source": [
    "data16 = pd.read_csv('https://raw.githubusercontent.com/V-Marco/psmo_21_22/main/hw/hw1/16.csv', \n",
    "                     usecols=[1])\n",
    "data16"
   ]
  },
  {
   "cell_type": "markdown",
   "id": "e410320c",
   "metadata": {},
   "source": [
    "##### (a) Сделайте предположение о том, какое распределение имеет число пойманных за день покемонов. Это распределение должно иметь один неизвестный параметр"
   ]
  },
  {
   "cell_type": "markdown",
   "id": "c5ea3fef",
   "metadata": {},
   "source": [
    "Без каких-либо расчётов кажется, что распределение, содержащее в себе лишь один неизвестный параметр и имеющее при этом ограниченное количество попыток, известное нам - это биномиальное с параметрами $n=15$, $p=p_T$"
   ]
  },
  {
   "cell_type": "code",
   "execution_count": 39,
   "id": "0dd908eb",
   "metadata": {
    "ExecuteTime": {
     "end_time": "2021-09-11T09:04:41.027259Z",
     "start_time": "2021-09-11T09:04:40.992015Z"
    }
   },
   "outputs": [
    {
     "data": {
      "text/plain": [
       "X \n",
       "4       3\n",
       "5       8\n",
       "6      37\n",
       "7      62\n",
       "8     146\n",
       "9     218\n",
       "10    219\n",
       "11    197\n",
       "12    130\n",
       "13     53\n",
       "14     20\n",
       "15      2\n",
       "dtype: int64"
      ]
     },
     "execution_count": 39,
     "metadata": {},
     "output_type": "execute_result"
    }
   ],
   "source": [
    "data16.value_counts().sort_index()"
   ]
  },
  {
   "cell_type": "code",
   "execution_count": 34,
   "id": "4274f004",
   "metadata": {
    "ExecuteTime": {
     "end_time": "2021-09-11T09:00:30.777780Z",
     "start_time": "2021-09-11T09:00:30.522767Z"
    }
   },
   "outputs": [
    {
     "data": {
      "text/plain": [
       "[<matplotlib.lines.Line2D at 0x17e8cbe0ac0>]"
      ]
     },
     "execution_count": 34,
     "metadata": {},
     "output_type": "execute_result"
    },
    {
     "data": {
      "image/png": "[encoded data removed]",
      "text/plain": [
       "<Figure size 432x288 with 1 Axes>"
      ]
     },
     "metadata": {
      "needs_background": "light"
     },
     "output_type": "display_data"
    }
   ],
   "source": [
    "plt.plot(sorted(data16['X'].unique()), \n",
    "            data16.value_counts().sort_index().values)"
   ]
  },
  {
   "cell_type": "code",
   "execution_count": 38,
   "id": "5001c136",
   "metadata": {
    "ExecuteTime": {
     "end_time": "2021-09-11T09:03:49.950581Z",
     "start_time": "2021-09-11T09:03:49.585918Z"
    }
   },
   "outputs": [
    {
     "data": {
      "text/plain": [
       "<AxesSubplot:xlabel='X', ylabel='Density'>"
      ]
     },
     "execution_count": 38,
     "metadata": {},
     "output_type": "execute_result"
    },
    {
     "data": {
      "image/png": "[encoded data removed]",
      "text/plain": [
       "<Figure size 432x288 with 1 Axes>"
      ]
     },
     "metadata": {
      "needs_background": "light"
     },
     "output_type": "display_data"
    }
   ],
   "source": [
    "sns.kdeplot(data=data16, x=\"X\", fill=True)"
   ]
  },
  {
   "cell_type": "markdown",
   "id": "9a3ba75a",
   "metadata": {},
   "source": [
    "После проведения визуального анализа имеющихся данных можно сделать вывод, что гипотеза о соответствии рапределения ряда биномиальному не отвергается"
   ]
  },
  {
   "cell_type": "markdown",
   "id": "a090693c",
   "metadata": {},
   "source": [
    "##### (б) Найдите точечную оценку неизвестного параметра методом максимального правдоподобия"
   ]
  },
  {
   "cell_type": "code",
   "execution_count": 40,
   "id": "bd2b0748",
   "metadata": {
    "ExecuteTime": {
     "end_time": "2021-09-11T09:13:46.232612Z",
     "start_time": "2021-09-11T09:13:46.216859Z"
    }
   },
   "outputs": [
    {
     "data": {
      "text/plain": [
       "10754"
      ]
     },
     "execution_count": 40,
     "metadata": {},
     "output_type": "execute_result"
    }
   ],
   "source": [
    "np.sum(data16.X)"
   ]
  },
  {
   "cell_type": "markdown",
   "id": "1b6eeb76",
   "metadata": {},
   "source": [
    "$\\hat{p} = \\frac{1}{N\\cdot n}\\sum_{i=1}^{N} x_i$\n",
    "\n",
    "$N=1094$\n",
    "\n",
    "$n=15$\n",
    "\n",
    "$\\sum_{i=1}^{N} x_i = 10754$\n",
    "\n",
    "$\\hat{p} = \\frac{1}{1094\\cdot 15}\\cdot 10754 = 0.6553$"
   ]
  },
  {
   "cell_type": "code",
   "execution_count": 46,
   "id": "a45d0122",
   "metadata": {
    "ExecuteTime": {
     "end_time": "2021-09-11T09:15:31.235321Z",
     "start_time": "2021-09-11T09:15:31.205568Z"
    }
   },
   "outputs": [
    {
     "data": {
      "text/plain": [
       "0.6553321145642901"
      ]
     },
     "execution_count": 46,
     "metadata": {},
     "output_type": "execute_result"
    }
   ],
   "source": [
    "p_hat = 10754/(1094*15)\n",
    "p_hat"
   ]
  },
  {
   "cell_type": "markdown",
   "id": "46468692",
   "metadata": {},
   "source": [
    "##### (в) Постройте 95%-ый доверительный интервал для неизвестного параметра при помощи методов **Reverse bootstrap percentile**, **t-bootstrap** и **параметрического бутстрэпа**."
   ]
  },
  {
   "cell_type": "code",
   "execution_count": null,
   "id": "2dadc13a",
   "metadata": {},
   "outputs": [],
   "source": []
  }
 ],
 "metadata": {
  "colab": {
   "name": "psmo_hw1.ipynb",
   "provenance": []
  },
  "kernelspec": {
   "display_name": "Python 3",
   "language": "python",
   "name": "python3"
  },
  "language_info": {
   "codemirror_mode": {
    "name": "ipython",
    "version": 3
   },
   "file_extension": ".py",
   "mimetype": "text/x-python",
   "name": "python",
   "nbconvert_exporter": "python",
   "pygments_lexer": "ipython3",
   "version": "3.8.8"
  },
  "toc": {
   "base_numbering": 1,
   "nav_menu": {},
   "number_sections": true,
   "sideBar": true,
   "skip_h1_title": false,
   "title_cell": "Table of Contents",
   "title_sidebar": "Contents",
   "toc_cell": false,
   "toc_position": {},
   "toc_section_display": true,
   "toc_window_display": false
  },
  "varInspector": {
   "cols": {
    "lenName": 16,
    "lenType": 16,
    "lenVar": 40
   },
   "kernels_config": {
    "python": {
     "delete_cmd_postfix": "",
     "delete_cmd_prefix": "del ",
     "library": "var_list.py",
     "varRefreshCmd": "print(var_dic_list())"
    },
    "r": {
     "delete_cmd_postfix": ") ",
     "delete_cmd_prefix": "rm(",
     "library": "var_list.r",
     "varRefreshCmd": "cat(var_dic_list()) "
    }
   },
   "types_to_exclude": [
    "module",
    "function",
    "builtin_function_or_method",
    "instance",
    "_Feature"
   ],
   "window_display": false
  }
 },
 "nbformat": 4,
 "nbformat_minor": 5
}
