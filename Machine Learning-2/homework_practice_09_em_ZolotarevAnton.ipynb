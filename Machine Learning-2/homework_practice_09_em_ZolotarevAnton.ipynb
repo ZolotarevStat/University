{
  "nbformat": 4,
  "nbformat_minor": 0,
  "metadata": {
    "kernelspec": {
      "display_name": "Python 3",
      "language": "python",
      "name": "python3"
    },
    "language_info": {
      "codemirror_mode": {
        "name": "ipython",
        "version": 3
      },
      "file_extension": ".py",
      "mimetype": "text/x-python",
      "name": "python",
      "nbconvert_exporter": "python",
      "pygments_lexer": "ipython3",
      "version": "3.8.5"
    },
    "colab": {
      "name": "homework-practice-09-em-ZolotarevAnton.ipynb",
      "provenance": [],
      "collapsed_sections": []
    }
  },
  "cells": [
    {
      "cell_type": "markdown",
      "metadata": {
        "id": "4f6HVkwbGP49"
      },
      "source": [
        "# Машинное обучение, ФКН ВШЭ\n",
        "\n",
        "# Практическое задание 9. EM-алгоритм\n",
        "\n",
        "## Общая информация\n",
        "Дата выдачи: 24.02.2021\n",
        "\n",
        "Мягкий дедлайн: 12.03.2021 01:59 MSK\n",
        "\n",
        "Жёсткий дедлайн: 16.03.2021 01:59 MSK\n",
        "\n",
        "## Оценивание и штрафы\n",
        "Каждая из задач имеет определенную «стоимость» (указана в скобках около задачи). Максимальная оценка за работу (без учёта бонусов) — 15 баллов.\n",
        "\n",
        "Сдавать задание после указанного жёсткого срока сдачи нельзя. При выставлении неполного балла за задание в связи с наличием ошибок на усмотрение проверяющего предусмотрена возможность исправить работу на указанных в ответном письме условиях.\n",
        "\n",
        "Задание выполняется самостоятельно. «Похожие» решения считаются плагиатом и все задействованные студенты (в том числе те, у кого списали) не могут получить за него больше 0 баллов (подробнее о плагиате см. на странице курса). Если вы нашли решение какого-то из заданий (или его часть) в открытом источнике, необходимо указать ссылку на этот источник в отдельном блоке в конце вашей работы (скорее всего вы будете не единственным, кто это нашел, поэтому чтобы исключить подозрение в плагиате, необходима ссылка на источник).\n",
        "\n",
        "Неэффективная реализация кода может негативно отразиться на оценке.\n",
        "\n",
        "## Формат сдачи\n",
        "Задания сдаются через систему anytask. Посылка должна содержать:\n",
        "* Ноутбук homework-practice-09-em-Username.ipynb\n",
        "* Модули preprocessing.py, metrics.py, models.py, содержащие написанный вами код\n",
        "* Ссылки на посылки в Яндекс.Контест для всех функций и классов, которые вы реализовали\n",
        "\n",
        "Ссылка на Яндекс.Контест: https://contest.yandex.ru/contest/25534\n",
        "\n",
        "Username — ваша фамилия и имя на латинице именно в таком порядке"
      ]
    },
    {
      "cell_type": "markdown",
      "metadata": {
        "id": "ZAJx3zgGGP5J"
      },
      "source": [
        "# Generative model of Labels, Abilities, and Difficulties (GLAD)\n",
        "\n",
        "В [семинаре 15](https://github.com/esokolov/ml-course-hse/blob/master/2020-spring/seminars/sem15-em.pdf) мы рассмотрели задачу восстановления истинной разметки по меткам от экспертов (которым мы не можем доверять в полной мере, более того, их предсказания могут расходиться).\n",
        "\n",
        "Рассмотрим следующую вероятностную модель:\n",
        "\n",
        "$$ p(L, Z | \\alpha, \\beta) = \\prod_{i=1}^{n} \\prod_{j=1}^m \\sigma(\\alpha_j\\beta_i)^{[l_{ij}=z_i]}\\sigma(-\\alpha_j\\beta_i)^{1-[l_{ij}=z_i]} p(z_j)$$\n",
        "\n",
        "где $l_{ij} -$ ответ $j$-го эксперта на задачу $i$, $z_j -$ истинная разметка, $\\alpha_i, \\beta_j-$ уровень экспертизы и сложность задачи соответственно. Для более подробного описания модели можно прочитать материалы семинара, а также [оригинальную статью](http://papers.nips.cc/paper/3644-whose-vote-should-count-more-optimal-integration-of-labels-from-labelers-of-unknown-expertise.pdf). Априорное распределение положим равномерным: $p(z_i) = 0.5$."
      ]
    },
    {
      "cell_type": "code",
      "metadata": {
        "id": "8akG9srXGP5L"
      },
      "source": [
        "import numpy as np\n",
        "seed = 0xDEADF00D\n",
        "np.random.seed(seed)"
      ],
      "execution_count": null,
      "outputs": []
    },
    {
      "cell_type": "code",
      "metadata": {
        "id": "UiTLGHr4GP5M"
      },
      "source": [
        "L = np.load('L.npy')\n",
        "n, m = L.shape"
      ],
      "execution_count": null,
      "outputs": []
    },
    {
      "cell_type": "markdown",
      "metadata": {
        "id": "5JfStZwHGP5M"
      },
      "source": [
        "**Задание 1. (2 балла)** Реализуйте EM-алгоритм для заданной выше модели. Вы можете воспользоваться предложенными шаблонами или написать свои. \n",
        "\n",
        "Обратите внимание, что правдоподобие моделирует не вероятность метки $l_{ij}$ принять значение 1 или 0, а вероятность того, что она равна скрытой переменной $z_i$, т.е. $p(l_{ij} = z_j|z_j, \\alpha_j, \\beta_i) \\neq p(l_{ij} = 1|\\alpha_j, \\beta_i) $. При этом заранее неизвестно, какая из скрытых переменных соответствует метке 1. Не забывайте, что параметры $\\beta_i$ должны быть неотрицательными; для этого оптимизируйте $\\log \\beta$. На M-шаге можете использовать как один шаг градиентного спуска, так и несколько: разумные результаты у вас должны получаться вне зависимости от числа итераций.\n",
        "\n",
        "Также при работе с вероятностями не забывайте о точности:\n",
        "1. Используйте логарифмы вероятностей.\n",
        "2. $\\log \\sigma(a)$ лучше преобразовать в $\\log \\sigma(a) = -\\log(1 + \\exp(-a)) = -\\mathrm{softplus}(-a) $\n",
        "3. Ещё полезные функции: `scipy.special.expit`, `scipy.special.logsumexp`, `np.log1p`\n",
        "\n",
        "Для отладки может быть полезно проверить градиент с помощью `scipy.optimize.check_grad`."
      ]
    },
    {
      "cell_type": "code",
      "metadata": {
        "id": "BocSrejL2-XN"
      },
      "source": [
        "from scipy.special import expit, logit\n",
        "from scipy.special import logsumexp\n",
        "from scipy.optimize import check_grad\n",
        "from math import isnan"
      ],
      "execution_count": null,
      "outputs": []
    },
    {
      "cell_type": "code",
      "metadata": {
        "id": "W3b5I5ttGP5N"
      },
      "source": [
        "def softplus(x):\n",
        "    '''stable version of log(1 + exp(x))'''\n",
        "    c = (x > 20) * 1.\n",
        "    return np.log1p(np.exp(x * (1-c)) * (1-c)) + x * c"
      ],
      "execution_count": null,
      "outputs": []
    },
    {
      "cell_type": "code",
      "metadata": {
        "id": "3qIeWGiuGP5N",
        "cellView": "code"
      },
      "source": [
        "def posterior(alpha, beta, L):\n",
        "    \"\"\" Posterior over true labels z p(z|l, \\alpha, \\beta)\n",
        "    Args:\n",
        "        alpha: ndarray of shape (n_experts).\n",
        "        beta: ndarray of shape (n_problems).\n",
        "        L: ndarray of shape (n_problems, n_experts).\n",
        "\n",
        "    Formula:\n",
        "        q_i(z_i) = p(z_i)*П(p(l|z, alpha, beta))=\n",
        "        e^gamma(i, z) / sum(e^(gamma(i, t)))\n",
        "\n",
        "        gamma(i, t) = 0.5 + sum_j \n",
        "          ( [l_ij=t]*log (expit(a_j * b_i)) + [l_ij!=t]*log (expit(-a_j * b_i)) )\n",
        " \n",
        "      Output:\n",
        "        q: ndarray of shape (n_problems, 2)\n",
        "    \"\"\"\n",
        "    sum_t0 = np.zeros_like(L, dtype=float)\n",
        "\n",
        "    for i in range(len(beta)):\n",
        "      for j in range(len(alpha)):\n",
        "        if L[i, j]==0:\n",
        "          sum_t0[i, j] = np.log(expit(alpha[j]*beta[i]))\n",
        "        else:\n",
        "          sum_t0[i, j] = np.log(expit(-alpha[j]*beta[i]))\n",
        "\n",
        "    gamma = np.zeros((n, 2))\n",
        "\n",
        "    for i in range(len(beta)):\n",
        "      for z in range(2):\n",
        "        gamma[i, z]=np.log(0.5)+np.sum(sum_t0[i])\n",
        "\n",
        "    q = np.zeros((n, 2))\n",
        "\n",
        "    for i in range(len(beta)):\n",
        "      for t in range(2):\n",
        "        q[i, t] = np.exp(gamma[i, t])/(np.exp(gamma[i, 0])+np.exp(gamma[i, 1]))\n",
        "    return q\n",
        "\n",
        "\n",
        "def log_likelihood(alpha, beta, L, z):\n",
        "    \"\"\" p(l=z|z, \\alpha, \\beta)\n",
        "    Args:\n",
        "        alpha: ndarray of shape (n_experts).\n",
        "        beta: ndarray of shape (n_problems).\n",
        "        L: ndarray of shape (n_problems, n_experts).\n",
        "        z: ndarray of shape (n_problems).\n",
        "    \n",
        "    Как я понял, мы получаем z из написанной выше функции так:\n",
        "      q = posterior(alpha, beta, L)\n",
        "      z = np.argmax(q, axis=0)\n",
        "    На выходе должны получить матрицу размерностью (n_problems, n_experts), \n",
        "    в которой записаны вероятности того, что данный экспертом ответ \n",
        "    равен найденной на Е-шаге скрытой переменной \n",
        "    \"\"\"\n",
        "    sum_t0 = np.zeros_like(L)\n",
        "\n",
        "    for i in range(len(beta)):\n",
        "      for j in range(len(alpha)):\n",
        "        if L[i, j]==0:\n",
        "          sum_t0[i, j] = np.log(expit(alpha[j]*beta[i]))\n",
        "        else:\n",
        "          sum_t0[i, j] = np.log(expit(-alpha[j]*beta[i]))\n",
        "\n",
        "    log_l = np.zeros_like(L)\n",
        "    for i in range(len(beta)):\n",
        "      log_l[i] = z[i]*sum_t0[i]\n",
        "    return log_l\n",
        "\n",
        "\n",
        "def alpha_grad_lb(alpha, beta, L, q):\n",
        "    \"\"\" Gradient of lower bound wrt alpha\n",
        "    Args:\n",
        "        alpha: ndarray of shape (n_experts).\n",
        "        beta: ndarray of shape (n_problems).\n",
        "        L: ndarray of shape (n_problems, n_experts).\n",
        "        q: ndarray of shape (2, n_problems).\n",
        "    \"\"\"\n",
        "    \n",
        "    grad_a = np.zeros_like(alpha)\n",
        "    sum_t0 = np.zeros_like(L, dtype=float)\n",
        "\n",
        "    for i in range(len(beta)):\n",
        "      for j in range(len(alpha)):\n",
        "        for t in range(2):\n",
        "          if L[i, j]==0:\n",
        "            sum_t0[i, j] += q[i, t]*beta[i]*np.log(expit(-alpha[j]*beta[i]))\n",
        "          else:\n",
        "            sum_t0[i, j] += q[i, t]*beta[i]*np.log(expit(alpha[j]*beta[i]))\n",
        "    grad_a = np.sum(sum_t0, axis=0)\n",
        "    return grad_a\n",
        "\n",
        "def logbeta_grad_lb(alpha, beta, L, q):\n",
        "    \"\"\" Gradient of lower bound wrt alpha\n",
        "    Args:\n",
        "        alpha: ndarray of shape (n_experts).\n",
        "        beta: ndarray of shape (n_problems).\n",
        "        L: ndarray of shape (n_problems, n_experts).\n",
        "        q: ndarray of shape (2, n_problems).\n",
        "    \"\"\"\n",
        "    grad_b = np.zeros_like(beta)\n",
        "    sum_t0 = np.zeros_like(L, dtype=float)\n",
        "\n",
        "    for i in range(len(beta)):\n",
        "      for j in range(len(alpha)):\n",
        "        for t in range(2):\n",
        "          if L[i, j]==0:\n",
        "            sum_t0[i, j] += q[i, t]*beta[i]*alpha[j]*np.log(expit(-alpha[j]*beta[i]))\n",
        "          else:\n",
        "            sum_t0[i, j] += q[i, t]*beta[i]*alpha[j]*np.log(expit(alpha[j]*beta[i]))\n",
        "    grad_b = np.sum(sum_t0, axis=1)\n",
        "\n",
        "    return grad_b\n",
        "\n",
        "\n",
        "def lower_bound(alpha, beta, L, q):\n",
        "    \"\"\" Lower bound\n",
        "    Args:\n",
        "        alpha: ndarray of shape (n_experts).\n",
        "        beta: ndarray of shape (n_problems).\n",
        "        L: ndarray of shape (n_problems, n_experts).\n",
        "        q: ndarray of shape (2, n_problems).\n",
        "    \"\"\"\n",
        "    grad_a = alpha_grad_lb(alpha, beta, L, q).reshape((-1, len(alpha)))\n",
        "    grad_b = logbeta_grad_lb(alpha, beta, L, q).reshape((len(beta), -1))\n",
        "    return grad_b @ grad_a"
      ],
      "execution_count": null,
      "outputs": []
    },
    {
      "cell_type": "code",
      "metadata": {
        "id": "MAFBkkFrGP5O"
      },
      "source": [
        "def em(L, n_steps=1000, lr=1e-3):\n",
        "    # initialize parameters\n",
        "    alpha, logbeta = np.random.randn(m), np.random.randn(n)\n",
        "    q = np.ones((2, len(logbeta))) * 0.5\n",
        "\n",
        "    for step in range(n_steps):\n",
        "        # E-step\n",
        "        q = posterior(alpha, logbeta, L)\n",
        "        \n",
        "        # M-step\n",
        "        alpha += lr * alpha_grad_lb(alpha, logbeta, L, q)\n",
        "        logbeta += lr * logbeta_grad_lb(alpha, logbeta, L, q)\n",
        "\n",
        "    return alpha, np.exp(logbeta), q"
      ],
      "execution_count": null,
      "outputs": []
    },
    {
      "cell_type": "code",
      "metadata": {
        "id": "NkCLzxKqGP5P"
      },
      "source": [
        "alpha, beta, q = em(L)"
      ],
      "execution_count": null,
      "outputs": []
    },
    {
      "cell_type": "markdown",
      "metadata": {
        "id": "7wuq_SCEGP5P"
      },
      "source": [
        "**Задание 2. (1 балл)** Загрузите настоящую разметку. Посчитайте `accuracy` разметки, полученной с помощью обычного голосования по большинству среди экспертов, и сравните его с качеством, полученным с помощью EM-алгоритма. Помните, что алгоритму не важно, какая метка 0, а какая 1, поэтому если получите качество <0.5, то просто поменяйте метки классов (не забудьте также поменять знак у $\\alpha$). "
      ]
    },
    {
      "cell_type": "code",
      "metadata": {
        "id": "BguWW6nWGP5Q"
      },
      "source": [
        "y = np.load('y.npy')\n",
        "# (∩ ￣ー￣)⊃ ✳✨✳✨✳✨✳"
      ],
      "execution_count": null,
      "outputs": []
    },
    {
      "cell_type": "code",
      "metadata": {
        "colab": {
          "base_uri": "https://localhost:8080/"
        },
        "id": "TA8OS2IBfXRJ",
        "outputId": "08f6e9e9-dcbc-46c0-f94d-cd2e0de85b7c"
      },
      "source": [
        "from scipy import stats\n",
        "y_experts = stats.mode(L, axis=1)[0]\n",
        "y_experts"
      ],
      "execution_count": null,
      "outputs": [
        {
          "output_type": "execute_result",
          "data": {
            "text/plain": [
              "array([[1],\n",
              "       [1],\n",
              "       [1],\n",
              "       ...,\n",
              "       [0],\n",
              "       [0],\n",
              "       [0]])"
            ]
          },
          "metadata": {
            "tags": []
          },
          "execution_count": 32
        }
      ]
    },
    {
      "cell_type": "code",
      "metadata": {
        "colab": {
          "base_uri": "https://localhost:8080/"
        },
        "id": "8ghCNvYofpQV",
        "outputId": "8d2397c9-f713-43f8-a815-443d30b2a411"
      },
      "source": [
        "from sklearn.metrics import accuracy_score\n",
        "accuracy_score(y_experts, y)"
      ],
      "execution_count": null,
      "outputs": [
        {
          "output_type": "execute_result",
          "data": {
            "text/plain": [
              "0.904"
            ]
          },
          "metadata": {
            "tags": []
          },
          "execution_count": 33
        }
      ]
    },
    {
      "cell_type": "code",
      "metadata": {
        "id": "-jjPZ2Gaf1U-"
      },
      "source": [
        "y_em = np.argmax(q, axis=1)"
      ],
      "execution_count": null,
      "outputs": []
    },
    {
      "cell_type": "code",
      "metadata": {
        "colab": {
          "base_uri": "https://localhost:8080/"
        },
        "id": "nsQ_rqxhfx90",
        "outputId": "d2b4b465-88fe-408c-e99b-3666904c3536"
      },
      "source": [
        "accuracy_score(y_em, y)"
      ],
      "execution_count": null,
      "outputs": [
        {
          "output_type": "execute_result",
          "data": {
            "text/plain": [
              "0.5045"
            ]
          },
          "metadata": {
            "tags": []
          },
          "execution_count": 176
        }
      ]
    },
    {
      "cell_type": "markdown",
      "metadata": {
        "id": "cf8yeZVo87qV"
      },
      "source": [
        "Если сравнить точность оценок, выданных экспертами и ЕМ-алгоритмом, то становится очевидно, что я реализовал алгоритм неправильно. "
      ]
    },
    {
      "cell_type": "markdown",
      "metadata": {
        "id": "NP4txZclGP5Q"
      },
      "source": [
        "**Задание 3. (0.5 балла)** Попробуйте проинтерпретировать полученные коэфициенты $\\alpha$. Есть ли в выборке эксперты, которые намеренно голосуют неверно? Как это можно понять по альфам? Продемонстрируйте, что эксперты действительно чаще голосуют за неверный класс. Постройте график зависимости доли врено размеченных экспертом объектов от коэффициента $\\alpha$. Прокомментируйте результаты."
      ]
    },
    {
      "cell_type": "code",
      "metadata": {
        "colab": {
          "base_uri": "https://localhost:8080/"
        },
        "id": "bCGNMHz7rSOe",
        "outputId": "c52debd2-5546-48b9-a2b3-1ee0345b08fb"
      },
      "source": [
        "alpha[alpha<0]"
      ],
      "execution_count": null,
      "outputs": [
        {
          "output_type": "execute_result",
          "data": {
            "text/plain": [
              "array([-1535.43690492, -1770.39887023, -1553.67258565, -1597.25348047,\n",
              "       -1556.10457255, -1696.02808171, -1660.23325479, -1486.18063625,\n",
              "       -2533.20760999, -1666.8290079 , -2362.61086086, -1751.42186918,\n",
              "       -1477.49480548, -1568.9062368 , -1593.30153105, -1905.47777434,\n",
              "       -1561.42522059, -1716.51282086, -1718.97687451, -1644.21409687])"
            ]
          },
          "metadata": {
            "tags": []
          },
          "execution_count": 177
        }
      ]
    },
    {
      "cell_type": "code",
      "metadata": {
        "id": "g9jGgdlAGP5Q",
        "colab": {
          "base_uri": "https://localhost:8080/"
        },
        "outputId": "04b3aca7-be93-49c6-ea24-48306edf422c"
      },
      "source": [
        "alpha[alpha<(np.mean(alpha)-np.std(alpha))]"
      ],
      "execution_count": null,
      "outputs": [
        {
          "output_type": "execute_result",
          "data": {
            "text/plain": [
              "array([-2533.20760999, -2362.61086086])"
            ]
          },
          "metadata": {
            "tags": []
          },
          "execution_count": 178
        }
      ]
    },
    {
      "cell_type": "markdown",
      "metadata": {
        "id": "5xR7_Z2fkDCn"
      },
      "source": [
        "Видим, что все 20 экспертов из 20 со значением альфы меньше 0 (из них лишь у одного альфа незначительно меньше 0), что свидетельствует о том, что они систематически дают неверные ответы (и о том, что алгоритм реализован неверно).\n",
        "\n",
        "При этом можно выделить 2 экспертов, которые имеют альфу, значительно отличающиеся в худшую сторону от среднего по выборке экспертов."
      ]
    },
    {
      "cell_type": "code",
      "metadata": {
        "id": "8zYNVFLDkhUT"
      },
      "source": [
        "naughty_experts = np.where(alpha<(np.mean(alpha)-np.std(alpha)))"
      ],
      "execution_count": null,
      "outputs": []
    },
    {
      "cell_type": "code",
      "metadata": {
        "id": "-5g7dwdMm-RS"
      },
      "source": [
        "data_naughty_experts = L[:, naughty_experts].reshape(L.shape[0], -1)"
      ],
      "execution_count": null,
      "outputs": []
    },
    {
      "cell_type": "code",
      "metadata": {
        "colab": {
          "base_uri": "https://localhost:8080/"
        },
        "id": "3Y90SAD-nNqd",
        "outputId": "2c954d42-6c31-4fee-b7eb-334deff408c6"
      },
      "source": [
        "data_naughty_experts.shape"
      ],
      "execution_count": null,
      "outputs": [
        {
          "output_type": "execute_result",
          "data": {
            "text/plain": [
              "(2000, 2)"
            ]
          },
          "metadata": {
            "tags": []
          },
          "execution_count": 190
        }
      ]
    },
    {
      "cell_type": "code",
      "metadata": {
        "colab": {
          "base_uri": "https://localhost:8080/"
        },
        "id": "GAUxaq5EmcLu",
        "outputId": "8465c07d-6ed4-4e4f-afd9-2a488b8466b4"
      },
      "source": [
        "y_experts = stats.mode(data_naughty_experts, axis=1)[0]\n",
        "y_experts.shape"
      ],
      "execution_count": null,
      "outputs": [
        {
          "output_type": "execute_result",
          "data": {
            "text/plain": [
              "(2000, 1)"
            ]
          },
          "metadata": {
            "tags": []
          },
          "execution_count": 191
        }
      ]
    },
    {
      "cell_type": "code",
      "metadata": {
        "colab": {
          "base_uri": "https://localhost:8080/"
        },
        "id": "5Q_vZQ7Mldzh",
        "outputId": "1f477ac1-a08b-4862-9569-670cbf010cff"
      },
      "source": [
        "accuracy_score(y_experts, y)"
      ],
      "execution_count": null,
      "outputs": [
        {
          "output_type": "execute_result",
          "data": {
            "text/plain": [
              "0.086"
            ]
          },
          "metadata": {
            "tags": []
          },
          "execution_count": 192
        }
      ]
    },
    {
      "cell_type": "markdown",
      "metadata": {
        "id": "mHOWYPclrxSI"
      },
      "source": [
        "Действительно, эксперты, для которых альфа значительно ниже среднего, выдают в разы худшую точность, чем вся совокупность экспертов. Теперь попробуем визуализировать зависимость доли верных ответов от значения альфы:"
      ]
    },
    {
      "cell_type": "code",
      "metadata": {
        "id": "kuX36gYoBlIl"
      },
      "source": [
        "acc_exp = np.zeros_like(alpha)\n",
        "for i in range(L.shape[1]):\n",
        "  acc_exp[i] = accuracy_score(L[:,i], y)"
      ],
      "execution_count": null,
      "outputs": []
    },
    {
      "cell_type": "code",
      "metadata": {
        "colab": {
          "base_uri": "https://localhost:8080/"
        },
        "id": "7BduuqTIC3nr",
        "outputId": "dcc7e144-29e5-411b-e685-dbe387a38eaa"
      },
      "source": [
        "acc_exp"
      ],
      "execution_count": null,
      "outputs": [
        {
          "output_type": "execute_result",
          "data": {
            "text/plain": [
              "array([0.697 , 0.709 , 0.919 , 0.6745, 0.6965, 0.917 , 0.686 , 0.9065,\n",
              "       0.0905, 0.704 , 0.0825, 0.082 , 0.911 , 0.681 , 0.6835, 0.679 ,\n",
              "       0.7015, 0.909 , 0.088 , 0.9105])"
            ]
          },
          "metadata": {
            "tags": []
          },
          "execution_count": 163
        }
      ]
    },
    {
      "cell_type": "code",
      "metadata": {
        "id": "sRwmtbJu-sZE"
      },
      "source": [
        "import matplotlib.pyplot as plt"
      ],
      "execution_count": null,
      "outputs": []
    },
    {
      "cell_type": "code",
      "metadata": {
        "colab": {
          "base_uri": "https://localhost:8080/",
          "height": 358
        },
        "id": "RX-U7WrVrMB6",
        "outputId": "d71003df-eb0b-4601-971c-43226a816d64"
      },
      "source": [
        "plt.figure(figsize=(9, 5))\n",
        "plt.scatter(alpha, acc_exp)\n",
        "plt.xlabel(\"Значения альфы\", size=14)\n",
        "plt.ylabel(\"Точность разметки экспертом\", size=14)\n",
        "plt.xticks(size=14)\n",
        "plt.yticks(size=14)\n",
        "plt.title(\"Зависимость между значениями альфы и точностью оценок экспертов\", size=14)\n",
        "plt.grid(b=1, linestyle='--', linewidth=0.5, color='0.5')\n",
        "plt.show()"
      ],
      "execution_count": null,
      "outputs": [
        {
          "output_type": "display_data",
          "data": {
            "image/png": "[encoded data removed]",
            "text/plain": [
              "<Figure size 648x360 with 1 Axes>"
            ]
          },
          "metadata": {
            "tags": [],
            "needs_background": "light"
          }
        }
      ]
    },
    {
      "cell_type": "code",
      "metadata": {
        "id": "jRNADFtmO5Vm"
      },
      "source": [
        "data_naughty_experts = L[:, np.where(acc_exp<0.2)].reshape(L.shape[0], -1)"
      ],
      "execution_count": null,
      "outputs": []
    },
    {
      "cell_type": "code",
      "metadata": {
        "id": "IQMAGf5TPbWy"
      },
      "source": [
        "data_naughty_experts = 1-data_naughty_experts"
      ],
      "execution_count": null,
      "outputs": []
    },
    {
      "cell_type": "code",
      "metadata": {
        "id": "W6j5vWn9PgTz"
      },
      "source": [
        "corrected_data = np.concatenate((L[:, np.where(acc_exp>=0.2)].reshape(2000, 16), data_naughty_experts), axis=1)"
      ],
      "execution_count": null,
      "outputs": []
    },
    {
      "cell_type": "code",
      "metadata": {
        "id": "nKVOBHXHQDxQ"
      },
      "source": [
        "y_experts = stats.mode(corrected_data, axis=1)[0]"
      ],
      "execution_count": null,
      "outputs": []
    },
    {
      "cell_type": "code",
      "metadata": {
        "colab": {
          "base_uri": "https://localhost:8080/"
        },
        "id": "pREI8Gr5QYhM",
        "outputId": "4dc71620-fdb5-4f57-b624-f9bbae0e9035"
      },
      "source": [
        "accuracy_score(y_experts, y)"
      ],
      "execution_count": null,
      "outputs": [
        {
          "output_type": "execute_result",
          "data": {
            "text/plain": [
              "0.9525"
            ]
          },
          "metadata": {
            "tags": []
          },
          "execution_count": 211
        }
      ]
    },
    {
      "cell_type": "markdown",
      "metadata": {
        "id": "7S5M08ZvQcRj"
      },
      "source": [
        "Так, мы можем с помощью простого преобразования для разметки вредными экспертами значительно улучшить качество модели и получить почти 100%-ый результат."
      ]
    },
    {
      "cell_type": "markdown",
      "metadata": {
        "id": "eClwgTa3GP5R"
      },
      "source": [
        "**Задание 4. (бонус, 2 балла)**  Как уже было замечено выше, модели не важно, какой класс 1, а какой 0. Скажем, если все эксперты оказались максимально противными и ставят метку с точностью наоборот, то у вас будет полная согласованность между экспертами, при этом невозможно понять правильно они разметили выборку или нет, смотря только на такую разметку. Чтобы избежать этого, можно включать в выборку вопрос с заведомо известным ответом, тогда вы сможете определить, ставит ли эксперт специально неверные метки.\n",
        "\n",
        "Чтобы обощить данную модель на случай заданий с заведомо известной меткой, достоточно не делать для них E-шаг, а всегда полагать апостериорное распределение вырожденным в истинном классе. Реализуйте данную модель и используйте истинную разметку *для нескольких* задач из обучения. Проинтерпретируйте полученные результаты."
      ]
    },
    {
      "cell_type": "markdown",
      "metadata": {
        "id": "J3z8JOst8DYt"
      },
      "source": [
        "Вторую часть можете даже не смотреть. Я её не делал. "
      ]
    },
    {
      "cell_type": "markdown",
      "metadata": {
        "id": "segjMIGEGP5R"
      },
      "source": [
        "# Выравнивание слов (Word Alignment)"
      ]
    },
    {
      "cell_type": "markdown",
      "metadata": {
        "id": "L6rRGcb9GP5S"
      },
      "source": [
        "EM-алгоритм также применяют на практике для настройки параметров модели выравнивания слов, более сложные модификации которой используются в статистическом машинном переводе. Мы не будем подробно обсуждать применение word alignment для перевода и ограничимся следующей целью: пусть у нас есть параллельный корпус из предложений на исходном языке и их переводов на целевой язык (в этом задании используются английский и чешский соответственно). \n",
        "\n",
        "Первая задача — определить с помощью этого корпуса, как переводится каждое отдельное слово на целевом языке. Вторая задача — для произвольной пары из предложения и его перевода установить, переводом какого слова в исходном предложении является каждое слово в целевом предложении. Оказывается, у обеих задач существует элегантное и эффективное решение при введении правильной вероятностной модели: в этой части задания вам предстоит его реализовать и оценить результаты работы. Но обо всём по порядку :)\n",
        "\n",
        "---\n",
        "\n",
        "Перед тем, как заниматься машинным обучением, давайте разберёмся с данными и метриками в интересующей нас задаче. В ячейке ниже загружается и разархивируется параллельный английско-чешский корпус, в котором есть разметка выравнивания слов. Нетрудно заметить, что формат XML-файла, использованный его авторами, не вполне стандартный: нет готовой команды , которая позволила бы получить список пар предложений вместе с выравниваниями. Это значит, что нужно разобраться с форматом и написать парсер самостоятельно, используя встроенные средства Python, например, модуль [xml](https://docs.python.org/3.7/library/xml.html)."
      ]
    },
    {
      "cell_type": "code",
      "metadata": {
        "id": "tXizLLkpGP5U",
        "colab": {
          "base_uri": "https://localhost:8080/"
        },
        "outputId": "6590b1f3-3eb3-48a0-b7eb-cf601c3526f0"
      },
      "source": [
        "%%bash\n",
        "wget -q https://lindat.mff.cuni.cz/repository/xmlui/bitstream/handle/11234/1-1804/CzEnAli_1.0.tar.gz -O CzEnAli_1.0.tar.gz\n",
        "mkdir -p data\n",
        "tar -xzf CzEnAli_1.0.tar.gz -C data/\n",
        "head -n 20 data/merged_data/project_syndicate/project_syndicate_bacchetta1.wa"
      ],
      "execution_count": null,
      "outputs": [
        {
          "output_type": "stream",
          "text": [
            "<?xml version=\"1.0\" encoding=\"utf-8\" ?>\n",
            "<sentences>\n",
            "<s id=\"project_syndicate_bacchetta1-s1\">\r\n",
            "  <english>Are the Dollar 's Days Numbered ?</english>\n",
            "  <czech>Jsou dny dolaru sečteny ?</czech>\n",
            "  <sure>1-1 3-3 5-2 6-4 7-5</sure>\n",
            "  <possible>2-2 4-3</possible>\n",
            "</s>\n",
            "<s id=\"project_syndicate_bacchetta1-s2\">\r\n",
            "  <english>Philippe Bacchetta and Eric van Wincoop</english>\n",
            "  <czech>Philippe Bacchetta and Eric van Wincoop</czech>\n",
            "  <sure>1-1 2-2 3-3 4-4 5-5 6-6</sure>\n",
            "  <possible></possible>\n",
            "</s>\n",
            "<s id=\"project_syndicate_bacchetta1-s3\">\r\n",
            "  <english>A year ago , the dollar bestrode the world like a colossus .</english>\n",
            "  <czech>Ještě před rokem dolar dominoval světu jako imperátor .</czech>\n",
            "  <sure>10-7 12-8 13-9 2-3 3-2 6-4 7-5 9-6</sure>\n",
            "  <possible>1-3 11-8 3-1 5-4 8-6</possible>\n",
            "</s>\n"
          ],
          "name": "stdout"
        }
      ]
    },
    {
      "cell_type": "markdown",
      "metadata": {
        "id": "kHgU36dPGP5W"
      },
      "source": [
        "**Задание -2. (0.5 балла)** Реализуйте функцию `extract_sentences`, которая принимает на вход путь к файлу с XML-разметкой, используемой в этом датасете, и возвращает список параллельных предложений, а также список из «уверенных» (sure) и «возможных» (possible) пар выравниваний. Отправьте вашу реализацию в Яндекс.Контест, чтобы убедиться в её корректности; в следующей ячейке ноутбука соберите все пары размеченных предложений из датасета в два списка `all_sentences` (список `SentencePair`) и `all_targets` (список LabeledAlignment).\n",
        "\n",
        "Здесь и далее соблюдайте сигнатуры функций и пользуйтесь объявленными в модуле `preprocessing.py` классами для организации данных. Стоит заметить, что предложения уже токенизированы (даже отделена пунктуация), поэтому предобработку текстов совершать не нужно. Обратите внимание на формат хранения выравниваний: нумерация начинается с 1 (в таком виде и нужно сохранять), первым в паре идёт слово из англоязычного предложения."
      ]
    },
    {
      "cell_type": "code",
      "metadata": {
        "colab": {
          "base_uri": "https://localhost:8080/",
          "height": 203
        },
        "id": "zb025XqLRPTA",
        "outputId": "150c91d5-6ad6-4d1b-9cc5-fec6b64a798f"
      },
      "source": [
        "import xml.parsers.expat\n",
        "\n",
        "# 3 handler functions\n",
        "def start_element(name, attrs):\n",
        "    print('Start element:', name, attrs)\n",
        "def end_element(name):\n",
        "    print('End element:', name)\n",
        "def char_data(data):\n",
        "    print('Character data:', repr(data))\n",
        "\n",
        "p = xml.parsers.expat.ParserCreate()\n",
        "\n",
        "p.StartElementHandler = start_element\n",
        "p.EndElementHandler = end_element\n",
        "p.CharacterDataHandler = char_data\n",
        "\n",
        "p.Parse('data\\data\\merged_data\\celex\\celex_21990A0714.wa')"
      ],
      "execution_count": null,
      "outputs": [
        {
          "output_type": "error",
          "ename": "ExpatError",
          "evalue": "ignored",
          "traceback": [
            "\u001b[0;31m---------------------------------------------------------------------------\u001b[0m",
            "\u001b[0;31mExpatError\u001b[0m                                Traceback (most recent call last)",
            "\u001b[0;32m<ipython-input-220-385fac1fcaf4>\u001b[0m in \u001b[0;36m<module>\u001b[0;34m()\u001b[0m\n\u001b[1;32m     15\u001b[0m \u001b[0mp\u001b[0m\u001b[0;34m.\u001b[0m\u001b[0mCharacterDataHandler\u001b[0m \u001b[0;34m=\u001b[0m \u001b[0mchar_data\u001b[0m\u001b[0;34m\u001b[0m\u001b[0;34m\u001b[0m\u001b[0m\n\u001b[1;32m     16\u001b[0m \u001b[0;34m\u001b[0m\u001b[0m\n\u001b[0;32m---> 17\u001b[0;31m \u001b[0mp\u001b[0m\u001b[0;34m.\u001b[0m\u001b[0mParse\u001b[0m\u001b[0;34m(\u001b[0m\u001b[0;34m'data\\data\\merged_data\\celex\\celex_21990A0714.wa'\u001b[0m\u001b[0;34m)\u001b[0m\u001b[0;34m\u001b[0m\u001b[0;34m\u001b[0m\u001b[0m\n\u001b[0m",
            "\u001b[0;31mExpatError\u001b[0m: not well-formed (invalid token): line 1, column 4"
          ]
        }
      ]
    },
    {
      "cell_type": "code",
      "metadata": {
        "id": "aLrTPZrbGP5W"
      },
      "source": [
        "import glob\n",
        "from preprocessing import extract_sentences\n",
        "\n",
        "all_sentences = []\n",
        "all_targets = []\n",
        "# (´◕▽◕)⊃━☆"
      ],
      "execution_count": null,
      "outputs": []
    },
    {
      "cell_type": "markdown",
      "metadata": {
        "id": "Ba9LxRSZGP5X"
      },
      "source": [
        "**Задание -1. (0.5 балла)** Реализуйте функции `get_token_to_index` и `tokenize_sents` из модуля `preprocessing.py`, постройте словари token->index для обоих языков и постройте список из `TokenizedSentencePair` по выборке. Реализации функций также отправьте в Яндекс.Контест."
      ]
    },
    {
      "cell_type": "code",
      "metadata": {
        "id": "zI4oTUjAGP5Y"
      },
      "source": [
        "from preprocessing import get_token_to_index, tokenize_sents\n",
        "\n",
        "t_idx_src, t_idx_tgt = get_token_to_index(all_sentences)\n",
        "tokenized_sentences = tokenize_sents(all_sentences, t_idx_src, t_idx_tgt)"
      ],
      "execution_count": null,
      "outputs": []
    },
    {
      "cell_type": "markdown",
      "metadata": {
        "id": "n1JypS2wGP5Y"
      },
      "source": [
        "В качестве бейзлайна для этой задачи мы возьмём способ выравнивания слов по коэффициенту Дайса: слово в исходном языке является переводом слова на целевом языке, если они часто встречаются в одних и тех же предложениях и редко встречаются по отдельности. \n",
        "\n",
        "Математически это записывается по аналогии с мерой Жаккара: пусть $c(x,y)$ — число параллельных предложений, в которых есть и $x$ (на исходном языке), и $y$ (на целевом языке), а $c(x)$ и $c(y)$ — суммарное количество предложений, в которых встречается слово $x$ и $y$ соответственно. Тогда $\\textrm{Dice}(x,y)=\\frac{2 \\cdot c(x,y)}{c(x) + c(y)}$ — характеристика «похожести» слов $x$ и $y$. Она равна 1, если слова встречаются только в контексте друг друга (не бывает предложений только со словом $x$ без $y$ в переводе и наоборот), равна 0, если слова никогда не встречаются в параллельных предложениях и находится между пороговыми значениями в остальных случаях.\n",
        "\n",
        "В файле `models.py` описан абстрактный класс `BaseAligner`, наследником которого должны являться все модели в задании, а также приведён пример реализации `DiceAligner` выравнивания слов описанным выше путём. Ниже вы можете увидеть, как применять эту модель."
      ]
    },
    {
      "cell_type": "code",
      "metadata": {
        "id": "HWzqx6NsGP5Z"
      },
      "source": [
        "from models import DiceAligner\n",
        "\n",
        "baseline = DiceAligner(len(t_idx_src), len(t_idx_tgt), threshold=0.01)\n",
        "baseline.fit(tokenized_sentences)"
      ],
      "execution_count": null,
      "outputs": []
    },
    {
      "cell_type": "markdown",
      "metadata": {
        "id": "WIiBfTT4GP5Z"
      },
      "source": [
        "Чтобы оценить качество модели выравнивания, пользуясь имеющейся разметкой, существует ряд автоматических метрик. Они подразумевают, что в разметке есть два вида выравниваний — «уверенные» (sure) и «возможные» (possible). Обозначим для конкретного предложения первое множество выравниваний $S$, второе — $P$, а предсказанные выравнивания — $A$; причём, в отличие от разметки в файле, $S\\subseteq P$. Тогда можно предложить три метрики, используя только операции над этими множествами:\n",
        "\n",
        "Precision $=\\frac{|A\\cap P|}{|A|}$. Отражает, какая доля предсказанных нами выравниваний вообще корректна; если мы дадим в качестве ответа все возможные пары слов в предложении, эта метрика сильно просядет.\n",
        "\n",
        "Recall $=\\frac{|A\\cap S|}{|S|}$. Эта метрика показывает, какую долю «уверенных» выравниваний мы обнаружили. Если мы попытаемся сделать слишком консервативную модель, которая выдаёт 0 или 1 предсказание на нетривиальных предложениях, полнота получится крайне низкая. \n",
        "\n",
        "Alignment Error Rate (AER) $=1-\\frac{|A\\cap P|+|A\\cap S|}{|A|+|S|}$. Метрика является комбинацией двух предыдущих и отслеживает общее качество работы системы, штрафуя оба описанных выше вида нежелаемого поведения модели. \n",
        "\n",
        "**Задание 0. (0.5 балла)** Реализуйте функции compute_precision, compute_recall, compute_aer из модуля metrics.py. Оцените качество бейзлайнового метода. Обратите внимание, что нужно использовать микро-усреднение во всех функциях: необходимо просуммировать числитель и знаменатель по всем предложениям и только потом делить."
      ]
    },
    {
      "cell_type": "code",
      "metadata": {
        "id": "pl3PlUQLGP5Z"
      },
      "source": [
        "from metrics import compute_aer\n",
        "\n",
        "compute_aer(all_targets,baseline.align(tokenized_sentences))"
      ],
      "execution_count": null,
      "outputs": []
    },
    {
      "cell_type": "markdown",
      "metadata": {
        "id": "AZMLsVwPGP5a"
      },
      "source": [
        "Теперь мы можем перейти к базовой вероятностной модели для выравнивания слов. Пусть $S=(s_1,\\ldots,s_n)$ исходное предложение, $T=(t_1,\\ldots,t_m)$ — его перевод. В роли латентных переменных будут выступать выравнивания $A=(a_1,\\ldots,a_m)$ каждого слова в целевом предложении, причём $a_i\\in\\{1,\\ldots,n\\}$ (считаем, что каждое слово в $t$ является переводом какого-то слова из $s$). Параметрами модели является матрица условных вероятностей перевода: каждый её элемент $\\theta(y|x)=p(y|x)$ отражает вероятность того, что переводом слова $x$ с исходного языка на целевой является слово $y$ (нормировка, соответственно, совершается по словарю целевого языка). Правдоподобие латентных переменных и предложения на целевом языке в этой модели записывается так:\n",
        "\n",
        "$$\n",
        "p(A,T|S)=\\prod_{i=1}^m p(a_i)p(t_i|a_i,S)=\\prod_{i=1}^m \\frac{1}{n}\\theta(t_i|s_{a_i}).\n",
        "$$ "
      ]
    },
    {
      "cell_type": "markdown",
      "metadata": {
        "id": "0Jube5JwGP5a"
      },
      "source": [
        "**Задание 1. (2 балла)** Выведите шаги EM-алгоритма для этой модели, а также получите выражение для подсчёта нижней оценки правдоподобия ($\\mathcal{L}$ в обозначениях лекции и семинара). **Обратите внимание, что на M-шаге нужно найти аналитический максимум по параметрам.**"
      ]
    },
    {
      "cell_type": "markdown",
      "metadata": {
        "id": "B4-jbMsMGP5a"
      },
      "source": [
        "(∩｀-´)⊃━☆ﾟ.*･｡ﾟ"
      ]
    },
    {
      "cell_type": "markdown",
      "metadata": {
        "id": "v4IQO4a0GP5a"
      },
      "source": [
        "**Задание 2. (2.5 балла)** Реализуйте все методы класса `WordAligner` в соответствии с полученными вами формулами. Протестируйте вашу реализацию через Яндекс.Контест, а здесь обучите модель и посчитайте её AER на истинной разметке. Чтобы предсказать выравнивание для пары предложений в этой модели, следует выбирать в соответствие для слова в целевом предложении с индексом $i$ позицию, соответствующую максимуму апостериорного распределения $p(a_i|T,S)$."
      ]
    },
    {
      "cell_type": "code",
      "metadata": {
        "id": "w9P1vSpSGP5b"
      },
      "source": [
        "from models import WordAligner\n",
        "\n",
        "word_aligner = WordAligner(len(t_idx_src), len(t_idx_tgt), 20)\n",
        "word_aligner.fit(tokenized_sentences);\n",
        "\n",
        "# ༼つ ಠ益ಠ༽つ ─=≡ΣO))"
      ],
      "execution_count": null,
      "outputs": []
    },
    {
      "cell_type": "markdown",
      "metadata": {
        "id": "oyjjEGd_GP5b"
      },
      "source": [
        "Заметим, что таблицу вероятностей перевода можно использовать и саму по себе для построения словарей. Пример работы показан ниже: метод хоть и работает, но мягко говоря, неидально — слишком мало данных."
      ]
    },
    {
      "cell_type": "code",
      "metadata": {
        "id": "p8uOD99RGP5b"
      },
      "source": [
        "idx_token_tgt = {index:token for token, index in t_idx_tgt.items()}"
      ],
      "execution_count": null,
      "outputs": []
    },
    {
      "cell_type": "code",
      "metadata": {
        "id": "QkdUhbNSGP5b"
      },
      "source": [
        "[idx_token_tgt[i] for i in word_aligner.translation_probs[t_idx_src['Mr']].argsort()[-3:]]"
      ],
      "execution_count": null,
      "outputs": []
    },
    {
      "cell_type": "code",
      "metadata": {
        "id": "Z_hBvGKDGP5b"
      },
      "source": [
        "[idx_token_tgt[i] for i in word_aligner.translation_probs[t_idx_src['Mrs']].argsort()[-3:]]"
      ],
      "execution_count": null,
      "outputs": []
    },
    {
      "cell_type": "code",
      "metadata": {
        "scrolled": true,
        "id": "4zcq9H43GP5c"
      },
      "source": [
        "[idx_token_tgt[i] for i in word_aligner.translation_probs[t_idx_src['water']].argsort()[-3:]]"
      ],
      "execution_count": null,
      "outputs": []
    },
    {
      "cell_type": "code",
      "metadata": {
        "id": "b5IWSZDHGP5c"
      },
      "source": [
        "[idx_token_tgt[i] for i in word_aligner.translation_probs[t_idx_src['depended']].argsort()[-3:]]"
      ],
      "execution_count": null,
      "outputs": []
    },
    {
      "cell_type": "code",
      "metadata": {
        "id": "4oyUbuhpGP5c"
      },
      "source": [
        "[idx_token_tgt[i] for i in word_aligner.translation_probs[t_idx_src['on']].argsort()[-3:]]"
      ],
      "execution_count": null,
      "outputs": []
    },
    {
      "cell_type": "markdown",
      "metadata": {
        "id": "V5ahzOQXGP5d"
      },
      "source": [
        "**Задание 3. (0.5 балла)** Мы смогли получить матрицу условных вероятностей перевода исходного языка в целевой. Можно ли, пользуясь этой матрицей и ещё какими-то статистиками по параллельному корпусу, получить вероятности перевода целевого языка в исходный? Реализуйте такой метод и приведите ниже пример его работы, показав пару удачных переводов."
      ]
    },
    {
      "cell_type": "code",
      "metadata": {
        "id": "lkHZlkcjGP5d"
      },
      "source": [
        "# (>ω<)ノ—==ΞΞ☆*✲ﾟ"
      ],
      "execution_count": null,
      "outputs": []
    },
    {
      "cell_type": "markdown",
      "metadata": {
        "id": "vStK6g70GP5d"
      },
      "source": [
        "**Задание 4. (0.5 балла)** Визуализируйте полученные выравнивания для нескольких предложений в виде heatmap: по одной из осей располагаются токены исходного текста, по другой — токены его перевода, на пересечении позиций $i$ и $j$ — 0 либо 1 в зависимости от того, является ли в обученной модели $a_i$ равным $j$. Можете ли вы их проинтерпретировать? Постройте аналогичный график, но без дискретизации, а визуализируя напрямую апостериорное распределение. Можете ли вы найти ситуации, в которых модель не уверена, переводом какого слова является слово $i$?"
      ]
    },
    {
      "cell_type": "code",
      "metadata": {
        "id": "WIedJPPGGP5d"
      },
      "source": [
        "# (•̀ 3 •́)━★☆.*･｡ﾟ"
      ],
      "execution_count": null,
      "outputs": []
    },
    {
      "cell_type": "markdown",
      "metadata": {
        "id": "FXccCXMAGP5d"
      },
      "source": [
        "Заметим, что при задании модели мы сделали довольно сильное предположение о том, что вероятности выбора слова для выравнивания никак не зависят от позиции слова в целевом предложении. Можно сделать эти вероятности настраиваемыми параметрами, получив прямоугольную матрицу $\\phi_{m,n}(j|i)=p(a_i=j|m,n)$ для каждой пары длин предложений $m,n$: по-прежнему мы получаем распределение над индексами в исходном предложении. Тогда модель приобретает вид\n",
        "$$\n",
        "p(A,T|S)=\\prod_{i=1}^m p(a_i|m,n)p(t_i| a_i, S)=\\prod_{i=1}^m \\phi_{m,n}(a_i|i)\\theta(t_i|s_{a_i}).\n",
        "$$"
      ]
    },
    {
      "cell_type": "markdown",
      "metadata": {
        "id": "dTO4MgzjGP5e"
      },
      "source": [
        "**Задание 5. (1.5 балла)** Выведите шаги EM-алгоритма для этой модели, а также получите выражение для подсчёта нижней оценки правдоподобия."
      ]
    },
    {
      "cell_type": "markdown",
      "metadata": {
        "id": "6-W15VosGP5e"
      },
      "source": [
        "ଘ(๑˃̵ᴗ˂̵)━☆ﾟ.*･｡ﾟ"
      ]
    },
    {
      "cell_type": "markdown",
      "metadata": {
        "id": "IPUudk80GP5e"
      },
      "source": [
        "**Задание 6. (2 балла)** Реализуйте все методы класса `WordPositionAligner`, протестируйте их корректность через Яндекс.Контест. Обучите модель, оцените её качество на истинной разметке и сравните его с качеством предыдущей более простой модели. Проиллюстрируйте влияние стартовых параметров на результат, проинициализировав эту модель параметрами модели из задания 2 (важно, чтобы суммарное число эпох обучения в обоих сценариях оставалось тем же)."
      ]
    },
    {
      "cell_type": "code",
      "metadata": {
        "id": "j0skRXNIGP5e"
      },
      "source": [
        "from models import WordPositionAligner\n",
        "# (≧ ◡ ≦)━★☆.*･｡ﾟ"
      ],
      "execution_count": null,
      "outputs": []
    },
    {
      "cell_type": "markdown",
      "metadata": {
        "id": "QnGDU-xYGP5e"
      },
      "source": [
        "**Задание 7. (1 балл)** В предыдущих пунктах мы никак не заостряли внимание на предобработке текстов, что может негативно влиять на результаты обученной модели. Например, сейчас метод выравнивания учитывает регистр, а слова на чешском языке вдобавок обладают богатой морфологией и большим количеством диакритических знаков. Если сократить количество параметров модели (различных слов), можно ускорить обучение и добиться лучших результатов, потому что статистики по словам будут считаться по большему числу параллельных предложений.\n",
        "\n",
        "Примените к исходным данным [Unicode-нормализацию](https://en.wikipedia.org/wiki/Unicode_equivalence#Normalization), приведите их к нижнему регистру и обучите модель выравнивания заново. Сравните качество и скорость обучения с предыдущими результатами и сделайте выводы. Если вы найдете в данных ещё какие-то проблемы, которые можно исправить более грамотной предобработкой, также продемонстрируйте, как их решение влияет на качество.\n",
        "\n",
        "**Важно:** здесь и далее в процессе обработки данных у вас может получаться, что из тестовых данных будут удалены предложения из-за отсутствия слов в словаре. Если такое всё же произошло, для корректности сравнения считайте AER вашей модели на удалённых предложениях равным 1."
      ]
    },
    {
      "cell_type": "code",
      "metadata": {
        "id": "6rLLrk_DGP5f"
      },
      "source": [
        "# (੭•̀ω•́)੭̸*✩⁺˚"
      ],
      "execution_count": null,
      "outputs": []
    },
    {
      "cell_type": "markdown",
      "metadata": {
        "id": "bquW066GGP5f"
      },
      "source": [
        "**Задание 7. (бонус, до 3 баллов)** \n",
        "\n",
        "Улучшите качество получившейся системы настолько, насколько сможете. За каждые 5 процентов, на которые AER на тех же данных получается меньше, чем минимум ошибки всех предыдущих моделей, вы получите по 1 бонусному баллу.\n",
        "\n",
        "Ниже приведены несколько идей, которые могут помочь вам повысить \n",
        "\n",
        "* Модифицировать модель: как вы можете понять, недостатком второго реализованного вами подхода является избыточное число параметров из-за необходимости подерживать отдельную матрицу для каждой различной пары длин предложений в корпусе. В статье https://www.aclweb.org/anthology/N13-1073.pdf приведён способ снижения числа параметров, задающих априорное распределение позиций выравнивания, который позволяет в десять раз быстрее обучать модель и получать лучшее качество.\n",
        "* Агрегация по двум направлениям: в статье https://www.aclweb.org/anthology/J03-1002/ утверждается, что асимметричность выравниваний вредит качеству, потому что из-за выбранной модели одному слову в целевом предложении не может соответствовать два слова в исходном предложении. Для решения этой проблемы (и улучшения метрик, разумеется) авторы предлагают несколько алгоритмов, которые можно попробовать применить в этом задании.\n",
        "* Использовать больше обучающих данных. В корпусе, которым мы пользуемся, только пара тысяч предложений, чего может не хватать для по-настоящему хорошей модели выравнивания. Разумеется, неразмеченных параллельных английско-чешских корпусов гораздо больше, поэтому можно воспользоваться ими. Хорошая точка для старта — данные с соревнования по машинному переводу  [воркшопа WMT](http://www.statmt.org/wmt20/translation-task.html).\n",
        "* В языках часто существуют слова наподобие артиклей или предлогов, которым не соответствует ни одно слово в переводе. Все рассмотренные в рамках задания модели это не учитывают, возможно, добавление возможности перевода в «нулевой» токен улучшит качество модели (при тестировании такие выравнивания имеет смысл выбрасывать)"
      ]
    },
    {
      "cell_type": "code",
      "metadata": {
        "id": "akFkCq7sGP5f"
      },
      "source": [
        "# ┐_(ツ)_┌━☆ﾟ.*･｡ﾟ"
      ],
      "execution_count": null,
      "outputs": []
    }
  ]
}