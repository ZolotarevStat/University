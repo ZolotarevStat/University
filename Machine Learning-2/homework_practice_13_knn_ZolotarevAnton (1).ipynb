{
  "nbformat": 4,
  "nbformat_minor": 0,
  "metadata": {
    "colab": {
      "name": "homework-practice-13-knn-ZolotarevAnton.ipynb",
      "provenance": [],
      "collapsed_sections": []
    },
    "kernelspec": {
      "display_name": "Python 3",
      "language": "python",
      "name": "python3"
    },
    "language_info": {
      "codemirror_mode": {
        "name": "ipython",
        "version": 3
      },
      "file_extension": ".py",
      "mimetype": "text/x-python",
      "name": "python",
      "nbconvert_exporter": "python",
      "pygments_lexer": "ipython3",
      "version": "3.9.5"
    },
    "widgets": {
      "application/vnd.jupyter.widget-state+json": {
        "c4a5bef9a2c0429086eb47099ef06a66": {
          "model_module": "@jupyter-widgets/controls",
          "model_name": "HBoxModel",
          "state": {
            "_view_name": "HBoxView",
            "_dom_classes": [],
            "_model_name": "HBoxModel",
            "_view_module": "@jupyter-widgets/controls",
            "_model_module_version": "1.5.0",
            "_view_count": null,
            "_view_module_version": "1.5.0",
            "box_style": "",
            "layout": "IPY_MODEL_6b811f3ea1844e92af63ddf0300fc342",
            "_model_module": "@jupyter-widgets/controls",
            "children": [
              "IPY_MODEL_86ff978e514d440d9e33696aed46745f",
              "IPY_MODEL_7f1cf5e8eef3450291c99b55b8b2d638"
            ]
          }
        },
        "6b811f3ea1844e92af63ddf0300fc342": {
          "model_module": "@jupyter-widgets/base",
          "model_name": "LayoutModel",
          "state": {
            "_view_name": "LayoutView",
            "grid_template_rows": null,
            "right": null,
            "justify_content": null,
            "_view_module": "@jupyter-widgets/base",
            "overflow": null,
            "_model_module_version": "1.2.0",
            "_view_count": null,
            "flex_flow": null,
            "width": null,
            "min_width": null,
            "border": null,
            "align_items": null,
            "bottom": null,
            "_model_module": "@jupyter-widgets/base",
            "top": null,
            "grid_column": null,
            "overflow_y": null,
            "overflow_x": null,
            "grid_auto_flow": null,
            "grid_area": null,
            "grid_template_columns": null,
            "flex": null,
            "_model_name": "LayoutModel",
            "justify_items": null,
            "grid_row": null,
            "max_height": null,
            "align_content": null,
            "visibility": null,
            "align_self": null,
            "height": null,
            "min_height": null,
            "padding": null,
            "grid_auto_rows": null,
            "grid_gap": null,
            "max_width": null,
            "order": null,
            "_view_module_version": "1.2.0",
            "grid_template_areas": null,
            "object_position": null,
            "object_fit": null,
            "grid_auto_columns": null,
            "margin": null,
            "display": null,
            "left": null
          }
        },
        "86ff978e514d440d9e33696aed46745f": {
          "model_module": "@jupyter-widgets/controls",
          "model_name": "FloatProgressModel",
          "state": {
            "_view_name": "ProgressView",
            "style": "IPY_MODEL_2e0eb86896c14c0da75eb81b898d23cf",
            "_dom_classes": [],
            "description": "100%",
            "_model_name": "FloatProgressModel",
            "bar_style": "danger",
            "max": 10000,
            "_view_module": "@jupyter-widgets/controls",
            "_model_module_version": "1.5.0",
            "value": 9999,
            "_view_count": null,
            "_view_module_version": "1.5.0",
            "orientation": "horizontal",
            "min": 0,
            "description_tooltip": null,
            "_model_module": "@jupyter-widgets/controls",
            "layout": "IPY_MODEL_f2b2f66e0c7f431699466e037fb8dc88"
          }
        },
        "7f1cf5e8eef3450291c99b55b8b2d638": {
          "model_module": "@jupyter-widgets/controls",
          "model_name": "HTMLModel",
          "state": {
            "_view_name": "HTMLView",
            "style": "IPY_MODEL_c27198254b1240b4a20d61b9521aae15",
            "_dom_classes": [],
            "description": "",
            "_model_name": "HTMLModel",
            "placeholder": "​",
            "_view_module": "@jupyter-widgets/controls",
            "_model_module_version": "1.5.0",
            "value": " 9999/10000 [15:40&lt;00:00, 11.02it/s]",
            "_view_count": null,
            "_view_module_version": "1.5.0",
            "description_tooltip": null,
            "_model_module": "@jupyter-widgets/controls",
            "layout": "IPY_MODEL_851cebb017844dc986c1743f4f6d94b0"
          }
        },
        "2e0eb86896c14c0da75eb81b898d23cf": {
          "model_module": "@jupyter-widgets/controls",
          "model_name": "ProgressStyleModel",
          "state": {
            "_view_name": "StyleView",
            "_model_name": "ProgressStyleModel",
            "description_width": "initial",
            "_view_module": "@jupyter-widgets/base",
            "_model_module_version": "1.5.0",
            "_view_count": null,
            "_view_module_version": "1.2.0",
            "bar_color": null,
            "_model_module": "@jupyter-widgets/controls"
          }
        },
        "f2b2f66e0c7f431699466e037fb8dc88": {
          "model_module": "@jupyter-widgets/base",
          "model_name": "LayoutModel",
          "state": {
            "_view_name": "LayoutView",
            "grid_template_rows": null,
            "right": null,
            "justify_content": null,
            "_view_module": "@jupyter-widgets/base",
            "overflow": null,
            "_model_module_version": "1.2.0",
            "_view_count": null,
            "flex_flow": null,
            "width": null,
            "min_width": null,
            "border": null,
            "align_items": null,
            "bottom": null,
            "_model_module": "@jupyter-widgets/base",
            "top": null,
            "grid_column": null,
            "overflow_y": null,
            "overflow_x": null,
            "grid_auto_flow": null,
            "grid_area": null,
            "grid_template_columns": null,
            "flex": null,
            "_model_name": "LayoutModel",
            "justify_items": null,
            "grid_row": null,
            "max_height": null,
            "align_content": null,
            "visibility": null,
            "align_self": null,
            "height": null,
            "min_height": null,
            "padding": null,
            "grid_auto_rows": null,
            "grid_gap": null,
            "max_width": null,
            "order": null,
            "_view_module_version": "1.2.0",
            "grid_template_areas": null,
            "object_position": null,
            "object_fit": null,
            "grid_auto_columns": null,
            "margin": null,
            "display": null,
            "left": null
          }
        },
        "c27198254b1240b4a20d61b9521aae15": {
          "model_module": "@jupyter-widgets/controls",
          "model_name": "DescriptionStyleModel",
          "state": {
            "_view_name": "StyleView",
            "_model_name": "DescriptionStyleModel",
            "description_width": "",
            "_view_module": "@jupyter-widgets/base",
            "_model_module_version": "1.5.0",
            "_view_count": null,
            "_view_module_version": "1.2.0",
            "_model_module": "@jupyter-widgets/controls"
          }
        },
        "851cebb017844dc986c1743f4f6d94b0": {
          "model_module": "@jupyter-widgets/base",
          "model_name": "LayoutModel",
          "state": {
            "_view_name": "LayoutView",
            "grid_template_rows": null,
            "right": null,
            "justify_content": null,
            "_view_module": "@jupyter-widgets/base",
            "overflow": null,
            "_model_module_version": "1.2.0",
            "_view_count": null,
            "flex_flow": null,
            "width": null,
            "min_width": null,
            "border": null,
            "align_items": null,
            "bottom": null,
            "_model_module": "@jupyter-widgets/base",
            "top": null,
            "grid_column": null,
            "overflow_y": null,
            "overflow_x": null,
            "grid_auto_flow": null,
            "grid_area": null,
            "grid_template_columns": null,
            "flex": null,
            "_model_name": "LayoutModel",
            "justify_items": null,
            "grid_row": null,
            "max_height": null,
            "align_content": null,
            "visibility": null,
            "align_self": null,
            "height": null,
            "min_height": null,
            "padding": null,
            "grid_auto_rows": null,
            "grid_gap": null,
            "max_width": null,
            "order": null,
            "_view_module_version": "1.2.0",
            "grid_template_areas": null,
            "object_position": null,
            "object_fit": null,
            "grid_auto_columns": null,
            "margin": null,
            "display": null,
            "left": null
          }
        },
        "a997f974f1044f238c4a874367e9a297": {
          "model_module": "@jupyter-widgets/controls",
          "model_name": "HBoxModel",
          "state": {
            "_view_name": "HBoxView",
            "_dom_classes": [],
            "_model_name": "HBoxModel",
            "_view_module": "@jupyter-widgets/controls",
            "_model_module_version": "1.5.0",
            "_view_count": null,
            "_view_module_version": "1.5.0",
            "box_style": "",
            "layout": "IPY_MODEL_e74f89e4e2124dba8757c8f3f605ded6",
            "_model_module": "@jupyter-widgets/controls",
            "children": [
              "IPY_MODEL_cca311bd0aff4d249a749b995c67fd24",
              "IPY_MODEL_e5872c2cced749cf95349816bae67c99"
            ]
          }
        },
        "e74f89e4e2124dba8757c8f3f605ded6": {
          "model_module": "@jupyter-widgets/base",
          "model_name": "LayoutModel",
          "state": {
            "_view_name": "LayoutView",
            "grid_template_rows": null,
            "right": null,
            "justify_content": null,
            "_view_module": "@jupyter-widgets/base",
            "overflow": null,
            "_model_module_version": "1.2.0",
            "_view_count": null,
            "flex_flow": null,
            "width": null,
            "min_width": null,
            "border": null,
            "align_items": null,
            "bottom": null,
            "_model_module": "@jupyter-widgets/base",
            "top": null,
            "grid_column": null,
            "overflow_y": null,
            "overflow_x": null,
            "grid_auto_flow": null,
            "grid_area": null,
            "grid_template_columns": null,
            "flex": null,
            "_model_name": "LayoutModel",
            "justify_items": null,
            "grid_row": null,
            "max_height": null,
            "align_content": null,
            "visibility": null,
            "align_self": null,
            "height": null,
            "min_height": null,
            "padding": null,
            "grid_auto_rows": null,
            "grid_gap": null,
            "max_width": null,
            "order": null,
            "_view_module_version": "1.2.0",
            "grid_template_areas": null,
            "object_position": null,
            "object_fit": null,
            "grid_auto_columns": null,
            "margin": null,
            "display": null,
            "left": null
          }
        },
        "cca311bd0aff4d249a749b995c67fd24": {
          "model_module": "@jupyter-widgets/controls",
          "model_name": "FloatProgressModel",
          "state": {
            "_view_name": "ProgressView",
            "style": "IPY_MODEL_375e6de7fd3f4ffeb00fd5ff7d625a5b",
            "_dom_classes": [],
            "description": "100%",
            "_model_name": "FloatProgressModel",
            "bar_style": "danger",
            "max": 10000,
            "_view_module": "@jupyter-widgets/controls",
            "_model_module_version": "1.5.0",
            "value": 9998,
            "_view_count": null,
            "_view_module_version": "1.5.0",
            "orientation": "horizontal",
            "min": 0,
            "description_tooltip": null,
            "_model_module": "@jupyter-widgets/controls",
            "layout": "IPY_MODEL_0b049188d8d6424892801a9dfd5d7562"
          }
        },
        "e5872c2cced749cf95349816bae67c99": {
          "model_module": "@jupyter-widgets/controls",
          "model_name": "HTMLModel",
          "state": {
            "_view_name": "HTMLView",
            "style": "IPY_MODEL_403c555c966d41a5875cd9d5474e890e",
            "_dom_classes": [],
            "description": "",
            "_model_name": "HTMLModel",
            "placeholder": "​",
            "_view_module": "@jupyter-widgets/controls",
            "_model_module_version": "1.5.0",
            "value": " 9998/10000 [11:19&lt;00:00, 16.99it/s]",
            "_view_count": null,
            "_view_module_version": "1.5.0",
            "description_tooltip": null,
            "_model_module": "@jupyter-widgets/controls",
            "layout": "IPY_MODEL_43fb4f04a813475e9af44b2aa0f8973c"
          }
        },
        "375e6de7fd3f4ffeb00fd5ff7d625a5b": {
          "model_module": "@jupyter-widgets/controls",
          "model_name": "ProgressStyleModel",
          "state": {
            "_view_name": "StyleView",
            "_model_name": "ProgressStyleModel",
            "description_width": "initial",
            "_view_module": "@jupyter-widgets/base",
            "_model_module_version": "1.5.0",
            "_view_count": null,
            "_view_module_version": "1.2.0",
            "bar_color": null,
            "_model_module": "@jupyter-widgets/controls"
          }
        },
        "0b049188d8d6424892801a9dfd5d7562": {
          "model_module": "@jupyter-widgets/base",
          "model_name": "LayoutModel",
          "state": {
            "_view_name": "LayoutView",
            "grid_template_rows": null,
            "right": null,
            "justify_content": null,
            "_view_module": "@jupyter-widgets/base",
            "overflow": null,
            "_model_module_version": "1.2.0",
            "_view_count": null,
            "flex_flow": null,
            "width": null,
            "min_width": null,
            "border": null,
            "align_items": null,
            "bottom": null,
            "_model_module": "@jupyter-widgets/base",
            "top": null,
            "grid_column": null,
            "overflow_y": null,
            "overflow_x": null,
            "grid_auto_flow": null,
            "grid_area": null,
            "grid_template_columns": null,
            "flex": null,
            "_model_name": "LayoutModel",
            "justify_items": null,
            "grid_row": null,
            "max_height": null,
            "align_content": null,
            "visibility": null,
            "align_self": null,
            "height": null,
            "min_height": null,
            "padding": null,
            "grid_auto_rows": null,
            "grid_gap": null,
            "max_width": null,
            "order": null,
            "_view_module_version": "1.2.0",
            "grid_template_areas": null,
            "object_position": null,
            "object_fit": null,
            "grid_auto_columns": null,
            "margin": null,
            "display": null,
            "left": null
          }
        },
        "403c555c966d41a5875cd9d5474e890e": {
          "model_module": "@jupyter-widgets/controls",
          "model_name": "DescriptionStyleModel",
          "state": {
            "_view_name": "StyleView",
            "_model_name": "DescriptionStyleModel",
            "description_width": "",
            "_view_module": "@jupyter-widgets/base",
            "_model_module_version": "1.5.0",
            "_view_count": null,
            "_view_module_version": "1.2.0",
            "_model_module": "@jupyter-widgets/controls"
          }
        },
        "43fb4f04a813475e9af44b2aa0f8973c": {
          "model_module": "@jupyter-widgets/base",
          "model_name": "LayoutModel",
          "state": {
            "_view_name": "LayoutView",
            "grid_template_rows": null,
            "right": null,
            "justify_content": null,
            "_view_module": "@jupyter-widgets/base",
            "overflow": null,
            "_model_module_version": "1.2.0",
            "_view_count": null,
            "flex_flow": null,
            "width": null,
            "min_width": null,
            "border": null,
            "align_items": null,
            "bottom": null,
            "_model_module": "@jupyter-widgets/base",
            "top": null,
            "grid_column": null,
            "overflow_y": null,
            "overflow_x": null,
            "grid_auto_flow": null,
            "grid_area": null,
            "grid_template_columns": null,
            "flex": null,
            "_model_name": "LayoutModel",
            "justify_items": null,
            "grid_row": null,
            "max_height": null,
            "align_content": null,
            "visibility": null,
            "align_self": null,
            "height": null,
            "min_height": null,
            "padding": null,
            "grid_auto_rows": null,
            "grid_gap": null,
            "max_width": null,
            "order": null,
            "_view_module_version": "1.2.0",
            "grid_template_areas": null,
            "object_position": null,
            "object_fit": null,
            "grid_auto_columns": null,
            "margin": null,
            "display": null,
            "left": null
          }
        },
        "abc9a1a4488646728e99bdca4790cba8": {
          "model_module": "@jupyter-widgets/controls",
          "model_name": "HBoxModel",
          "state": {
            "_view_name": "HBoxView",
            "_dom_classes": [],
            "_model_name": "HBoxModel",
            "_view_module": "@jupyter-widgets/controls",
            "_model_module_version": "1.5.0",
            "_view_count": null,
            "_view_module_version": "1.5.0",
            "box_style": "",
            "layout": "IPY_MODEL_aae1da34d1ce4c58aeaa18fc2fb443f4",
            "_model_module": "@jupyter-widgets/controls",
            "children": [
              "IPY_MODEL_e8866994a9c641abbf779a929983aa48",
              "IPY_MODEL_38fc519063b2493a87451de9e8d27c8e"
            ]
          }
        },
        "aae1da34d1ce4c58aeaa18fc2fb443f4": {
          "model_module": "@jupyter-widgets/base",
          "model_name": "LayoutModel",
          "state": {
            "_view_name": "LayoutView",
            "grid_template_rows": null,
            "right": null,
            "justify_content": null,
            "_view_module": "@jupyter-widgets/base",
            "overflow": null,
            "_model_module_version": "1.2.0",
            "_view_count": null,
            "flex_flow": null,
            "width": null,
            "min_width": null,
            "border": null,
            "align_items": null,
            "bottom": null,
            "_model_module": "@jupyter-widgets/base",
            "top": null,
            "grid_column": null,
            "overflow_y": null,
            "overflow_x": null,
            "grid_auto_flow": null,
            "grid_area": null,
            "grid_template_columns": null,
            "flex": null,
            "_model_name": "LayoutModel",
            "justify_items": null,
            "grid_row": null,
            "max_height": null,
            "align_content": null,
            "visibility": null,
            "align_self": null,
            "height": null,
            "min_height": null,
            "padding": null,
            "grid_auto_rows": null,
            "grid_gap": null,
            "max_width": null,
            "order": null,
            "_view_module_version": "1.2.0",
            "grid_template_areas": null,
            "object_position": null,
            "object_fit": null,
            "grid_auto_columns": null,
            "margin": null,
            "display": null,
            "left": null
          }
        },
        "e8866994a9c641abbf779a929983aa48": {
          "model_module": "@jupyter-widgets/controls",
          "model_name": "FloatProgressModel",
          "state": {
            "_view_name": "ProgressView",
            "style": "IPY_MODEL_492d137c29a2449484e563eabe9921d4",
            "_dom_classes": [],
            "description": "100%",
            "_model_name": "FloatProgressModel",
            "bar_style": "danger",
            "max": 10000,
            "_view_module": "@jupyter-widgets/controls",
            "_model_module_version": "1.5.0",
            "value": 9998,
            "_view_count": null,
            "_view_module_version": "1.5.0",
            "orientation": "horizontal",
            "min": 0,
            "description_tooltip": null,
            "_model_module": "@jupyter-widgets/controls",
            "layout": "IPY_MODEL_3df2c9bf010e44e0bc166b3e0d9c67bc"
          }
        },
        "38fc519063b2493a87451de9e8d27c8e": {
          "model_module": "@jupyter-widgets/controls",
          "model_name": "HTMLModel",
          "state": {
            "_view_name": "HTMLView",
            "style": "IPY_MODEL_475e6afb6ded4cc79106581db97ac702",
            "_dom_classes": [],
            "description": "",
            "_model_name": "HTMLModel",
            "placeholder": "​",
            "_view_module": "@jupyter-widgets/controls",
            "_model_module_version": "1.5.0",
            "value": " 9998/10000 [01:32&lt;00:00, 154.32it/s]",
            "_view_count": null,
            "_view_module_version": "1.5.0",
            "description_tooltip": null,
            "_model_module": "@jupyter-widgets/controls",
            "layout": "IPY_MODEL_4e991a09dc1e46d08b21b07b19366866"
          }
        },
        "492d137c29a2449484e563eabe9921d4": {
          "model_module": "@jupyter-widgets/controls",
          "model_name": "ProgressStyleModel",
          "state": {
            "_view_name": "StyleView",
            "_model_name": "ProgressStyleModel",
            "description_width": "initial",
            "_view_module": "@jupyter-widgets/base",
            "_model_module_version": "1.5.0",
            "_view_count": null,
            "_view_module_version": "1.2.0",
            "bar_color": null,
            "_model_module": "@jupyter-widgets/controls"
          }
        },
        "3df2c9bf010e44e0bc166b3e0d9c67bc": {
          "model_module": "@jupyter-widgets/base",
          "model_name": "LayoutModel",
          "state": {
            "_view_name": "LayoutView",
            "grid_template_rows": null,
            "right": null,
            "justify_content": null,
            "_view_module": "@jupyter-widgets/base",
            "overflow": null,
            "_model_module_version": "1.2.0",
            "_view_count": null,
            "flex_flow": null,
            "width": null,
            "min_width": null,
            "border": null,
            "align_items": null,
            "bottom": null,
            "_model_module": "@jupyter-widgets/base",
            "top": null,
            "grid_column": null,
            "overflow_y": null,
            "overflow_x": null,
            "grid_auto_flow": null,
            "grid_area": null,
            "grid_template_columns": null,
            "flex": null,
            "_model_name": "LayoutModel",
            "justify_items": null,
            "grid_row": null,
            "max_height": null,
            "align_content": null,
            "visibility": null,
            "align_self": null,
            "height": null,
            "min_height": null,
            "padding": null,
            "grid_auto_rows": null,
            "grid_gap": null,
            "max_width": null,
            "order": null,
            "_view_module_version": "1.2.0",
            "grid_template_areas": null,
            "object_position": null,
            "object_fit": null,
            "grid_auto_columns": null,
            "margin": null,
            "display": null,
            "left": null
          }
        },
        "475e6afb6ded4cc79106581db97ac702": {
          "model_module": "@jupyter-widgets/controls",
          "model_name": "DescriptionStyleModel",
          "state": {
            "_view_name": "StyleView",
            "_model_name": "DescriptionStyleModel",
            "description_width": "",
            "_view_module": "@jupyter-widgets/base",
            "_model_module_version": "1.5.0",
            "_view_count": null,
            "_view_module_version": "1.2.0",
            "_model_module": "@jupyter-widgets/controls"
          }
        },
        "4e991a09dc1e46d08b21b07b19366866": {
          "model_module": "@jupyter-widgets/base",
          "model_name": "LayoutModel",
          "state": {
            "_view_name": "LayoutView",
            "grid_template_rows": null,
            "right": null,
            "justify_content": null,
            "_view_module": "@jupyter-widgets/base",
            "overflow": null,
            "_model_module_version": "1.2.0",
            "_view_count": null,
            "flex_flow": null,
            "width": null,
            "min_width": null,
            "border": null,
            "align_items": null,
            "bottom": null,
            "_model_module": "@jupyter-widgets/base",
            "top": null,
            "grid_column": null,
            "overflow_y": null,
            "overflow_x": null,
            "grid_auto_flow": null,
            "grid_area": null,
            "grid_template_columns": null,
            "flex": null,
            "_model_name": "LayoutModel",
            "justify_items": null,
            "grid_row": null,
            "max_height": null,
            "align_content": null,
            "visibility": null,
            "align_self": null,
            "height": null,
            "min_height": null,
            "padding": null,
            "grid_auto_rows": null,
            "grid_gap": null,
            "max_width": null,
            "order": null,
            "_view_module_version": "1.2.0",
            "grid_template_areas": null,
            "object_position": null,
            "object_fit": null,
            "grid_auto_columns": null,
            "margin": null,
            "display": null,
            "left": null
          }
        },
        "d52e559da64341c28dc215f2501340e3": {
          "model_module": "@jupyter-widgets/controls",
          "model_name": "HBoxModel",
          "state": {
            "_view_name": "HBoxView",
            "_dom_classes": [],
            "_model_name": "HBoxModel",
            "_view_module": "@jupyter-widgets/controls",
            "_model_module_version": "1.5.0",
            "_view_count": null,
            "_view_module_version": "1.5.0",
            "box_style": "",
            "layout": "IPY_MODEL_b9ae362fd6524685a752e3417c9022d9",
            "_model_module": "@jupyter-widgets/controls",
            "children": [
              "IPY_MODEL_094219646f264ca7ba5c71fd00980d51",
              "IPY_MODEL_7c33704996354e57b73d2e7b91b1191d"
            ]
          }
        },
        "b9ae362fd6524685a752e3417c9022d9": {
          "model_module": "@jupyter-widgets/base",
          "model_name": "LayoutModel",
          "state": {
            "_view_name": "LayoutView",
            "grid_template_rows": null,
            "right": null,
            "justify_content": null,
            "_view_module": "@jupyter-widgets/base",
            "overflow": null,
            "_model_module_version": "1.2.0",
            "_view_count": null,
            "flex_flow": null,
            "width": null,
            "min_width": null,
            "border": null,
            "align_items": null,
            "bottom": null,
            "_model_module": "@jupyter-widgets/base",
            "top": null,
            "grid_column": null,
            "overflow_y": null,
            "overflow_x": null,
            "grid_auto_flow": null,
            "grid_area": null,
            "grid_template_columns": null,
            "flex": null,
            "_model_name": "LayoutModel",
            "justify_items": null,
            "grid_row": null,
            "max_height": null,
            "align_content": null,
            "visibility": null,
            "align_self": null,
            "height": null,
            "min_height": null,
            "padding": null,
            "grid_auto_rows": null,
            "grid_gap": null,
            "max_width": null,
            "order": null,
            "_view_module_version": "1.2.0",
            "grid_template_areas": null,
            "object_position": null,
            "object_fit": null,
            "grid_auto_columns": null,
            "margin": null,
            "display": null,
            "left": null
          }
        },
        "094219646f264ca7ba5c71fd00980d51": {
          "model_module": "@jupyter-widgets/controls",
          "model_name": "FloatProgressModel",
          "state": {
            "_view_name": "ProgressView",
            "style": "IPY_MODEL_8ce2c2a6dd6b44a5af16b7413d06116b",
            "_dom_classes": [],
            "description": "100%",
            "_model_name": "FloatProgressModel",
            "bar_style": "danger",
            "max": 10000,
            "_view_module": "@jupyter-widgets/controls",
            "_model_module_version": "1.5.0",
            "value": 9997,
            "_view_count": null,
            "_view_module_version": "1.5.0",
            "orientation": "horizontal",
            "min": 0,
            "description_tooltip": null,
            "_model_module": "@jupyter-widgets/controls",
            "layout": "IPY_MODEL_d8087b7f16164c38bb3f593196bff9c6"
          }
        },
        "7c33704996354e57b73d2e7b91b1191d": {
          "model_module": "@jupyter-widgets/controls",
          "model_name": "HTMLModel",
          "state": {
            "_view_name": "HTMLView",
            "style": "IPY_MODEL_55575d93cc5e4a49b978b3f1182230eb",
            "_dom_classes": [],
            "description": "",
            "_model_name": "HTMLModel",
            "placeholder": "​",
            "_view_module": "@jupyter-widgets/controls",
            "_model_module_version": "1.5.0",
            "value": " 9997/10000 [03:58&lt;00:00, 57.12it/s]",
            "_view_count": null,
            "_view_module_version": "1.5.0",
            "description_tooltip": null,
            "_model_module": "@jupyter-widgets/controls",
            "layout": "IPY_MODEL_c52b0b8a2a98404fa9c1c33858744bce"
          }
        },
        "8ce2c2a6dd6b44a5af16b7413d06116b": {
          "model_module": "@jupyter-widgets/controls",
          "model_name": "ProgressStyleModel",
          "state": {
            "_view_name": "StyleView",
            "_model_name": "ProgressStyleModel",
            "description_width": "initial",
            "_view_module": "@jupyter-widgets/base",
            "_model_module_version": "1.5.0",
            "_view_count": null,
            "_view_module_version": "1.2.0",
            "bar_color": null,
            "_model_module": "@jupyter-widgets/controls"
          }
        },
        "d8087b7f16164c38bb3f593196bff9c6": {
          "model_module": "@jupyter-widgets/base",
          "model_name": "LayoutModel",
          "state": {
            "_view_name": "LayoutView",
            "grid_template_rows": null,
            "right": null,
            "justify_content": null,
            "_view_module": "@jupyter-widgets/base",
            "overflow": null,
            "_model_module_version": "1.2.0",
            "_view_count": null,
            "flex_flow": null,
            "width": null,
            "min_width": null,
            "border": null,
            "align_items": null,
            "bottom": null,
            "_model_module": "@jupyter-widgets/base",
            "top": null,
            "grid_column": null,
            "overflow_y": null,
            "overflow_x": null,
            "grid_auto_flow": null,
            "grid_area": null,
            "grid_template_columns": null,
            "flex": null,
            "_model_name": "LayoutModel",
            "justify_items": null,
            "grid_row": null,
            "max_height": null,
            "align_content": null,
            "visibility": null,
            "align_self": null,
            "height": null,
            "min_height": null,
            "padding": null,
            "grid_auto_rows": null,
            "grid_gap": null,
            "max_width": null,
            "order": null,
            "_view_module_version": "1.2.0",
            "grid_template_areas": null,
            "object_position": null,
            "object_fit": null,
            "grid_auto_columns": null,
            "margin": null,
            "display": null,
            "left": null
          }
        },
        "55575d93cc5e4a49b978b3f1182230eb": {
          "model_module": "@jupyter-widgets/controls",
          "model_name": "DescriptionStyleModel",
          "state": {
            "_view_name": "StyleView",
            "_model_name": "DescriptionStyleModel",
            "description_width": "",
            "_view_module": "@jupyter-widgets/base",
            "_model_module_version": "1.5.0",
            "_view_count": null,
            "_view_module_version": "1.2.0",
            "_model_module": "@jupyter-widgets/controls"
          }
        },
        "c52b0b8a2a98404fa9c1c33858744bce": {
          "model_module": "@jupyter-widgets/base",
          "model_name": "LayoutModel",
          "state": {
            "_view_name": "LayoutView",
            "grid_template_rows": null,
            "right": null,
            "justify_content": null,
            "_view_module": "@jupyter-widgets/base",
            "overflow": null,
            "_model_module_version": "1.2.0",
            "_view_count": null,
            "flex_flow": null,
            "width": null,
            "min_width": null,
            "border": null,
            "align_items": null,
            "bottom": null,
            "_model_module": "@jupyter-widgets/base",
            "top": null,
            "grid_column": null,
            "overflow_y": null,
            "overflow_x": null,
            "grid_auto_flow": null,
            "grid_area": null,
            "grid_template_columns": null,
            "flex": null,
            "_model_name": "LayoutModel",
            "justify_items": null,
            "grid_row": null,
            "max_height": null,
            "align_content": null,
            "visibility": null,
            "align_self": null,
            "height": null,
            "min_height": null,
            "padding": null,
            "grid_auto_rows": null,
            "grid_gap": null,
            "max_width": null,
            "order": null,
            "_view_module_version": "1.2.0",
            "grid_template_areas": null,
            "object_position": null,
            "object_fit": null,
            "grid_auto_columns": null,
            "margin": null,
            "display": null,
            "left": null
          }
        },
        "570141e565674ec28ceccdcb370651b2": {
          "model_module": "@jupyter-widgets/controls",
          "model_name": "HBoxModel",
          "state": {
            "_view_name": "HBoxView",
            "_dom_classes": [],
            "_model_name": "HBoxModel",
            "_view_module": "@jupyter-widgets/controls",
            "_model_module_version": "1.5.0",
            "_view_count": null,
            "_view_module_version": "1.5.0",
            "box_style": "",
            "layout": "IPY_MODEL_972b10a29bff41669fe5a5aa9c3a6564",
            "_model_module": "@jupyter-widgets/controls",
            "children": [
              "IPY_MODEL_a4683b42b1f1473d8667a40d56275cf4",
              "IPY_MODEL_afa30186ebf74a959b36493f639e87f5"
            ]
          }
        },
        "972b10a29bff41669fe5a5aa9c3a6564": {
          "model_module": "@jupyter-widgets/base",
          "model_name": "LayoutModel",
          "state": {
            "_view_name": "LayoutView",
            "grid_template_rows": null,
            "right": null,
            "justify_content": null,
            "_view_module": "@jupyter-widgets/base",
            "overflow": null,
            "_model_module_version": "1.2.0",
            "_view_count": null,
            "flex_flow": null,
            "width": null,
            "min_width": null,
            "border": null,
            "align_items": null,
            "bottom": null,
            "_model_module": "@jupyter-widgets/base",
            "top": null,
            "grid_column": null,
            "overflow_y": null,
            "overflow_x": null,
            "grid_auto_flow": null,
            "grid_area": null,
            "grid_template_columns": null,
            "flex": null,
            "_model_name": "LayoutModel",
            "justify_items": null,
            "grid_row": null,
            "max_height": null,
            "align_content": null,
            "visibility": null,
            "align_self": null,
            "height": null,
            "min_height": null,
            "padding": null,
            "grid_auto_rows": null,
            "grid_gap": null,
            "max_width": null,
            "order": null,
            "_view_module_version": "1.2.0",
            "grid_template_areas": null,
            "object_position": null,
            "object_fit": null,
            "grid_auto_columns": null,
            "margin": null,
            "display": null,
            "left": null
          }
        },
        "a4683b42b1f1473d8667a40d56275cf4": {
          "model_module": "@jupyter-widgets/controls",
          "model_name": "FloatProgressModel",
          "state": {
            "_view_name": "ProgressView",
            "style": "IPY_MODEL_f1279bf17b9c4768aa7a12bc6d025b7e",
            "_dom_classes": [],
            "description": "100%",
            "_model_name": "FloatProgressModel",
            "bar_style": "danger",
            "max": 10000,
            "_view_module": "@jupyter-widgets/controls",
            "_model_module_version": "1.5.0",
            "value": 9997,
            "_view_count": null,
            "_view_module_version": "1.5.0",
            "orientation": "horizontal",
            "min": 0,
            "description_tooltip": null,
            "_model_module": "@jupyter-widgets/controls",
            "layout": "IPY_MODEL_1e912707ddaf43af9f3dafec9e61d89c"
          }
        },
        "afa30186ebf74a959b36493f639e87f5": {
          "model_module": "@jupyter-widgets/controls",
          "model_name": "HTMLModel",
          "state": {
            "_view_name": "HTMLView",
            "style": "IPY_MODEL_f1d1debd2fd349309543c6af5efe49cc",
            "_dom_classes": [],
            "description": "",
            "_model_name": "HTMLModel",
            "placeholder": "​",
            "_view_module": "@jupyter-widgets/controls",
            "_model_module_version": "1.5.0",
            "value": " 9997/10000 [06:45&lt;00:00, 27.19it/s]",
            "_view_count": null,
            "_view_module_version": "1.5.0",
            "description_tooltip": null,
            "_model_module": "@jupyter-widgets/controls",
            "layout": "IPY_MODEL_2cb47a58605c46a2a52d255749b63222"
          }
        },
        "f1279bf17b9c4768aa7a12bc6d025b7e": {
          "model_module": "@jupyter-widgets/controls",
          "model_name": "ProgressStyleModel",
          "state": {
            "_view_name": "StyleView",
            "_model_name": "ProgressStyleModel",
            "description_width": "initial",
            "_view_module": "@jupyter-widgets/base",
            "_model_module_version": "1.5.0",
            "_view_count": null,
            "_view_module_version": "1.2.0",
            "bar_color": null,
            "_model_module": "@jupyter-widgets/controls"
          }
        },
        "1e912707ddaf43af9f3dafec9e61d89c": {
          "model_module": "@jupyter-widgets/base",
          "model_name": "LayoutModel",
          "state": {
            "_view_name": "LayoutView",
            "grid_template_rows": null,
            "right": null,
            "justify_content": null,
            "_view_module": "@jupyter-widgets/base",
            "overflow": null,
            "_model_module_version": "1.2.0",
            "_view_count": null,
            "flex_flow": null,
            "width": null,
            "min_width": null,
            "border": null,
            "align_items": null,
            "bottom": null,
            "_model_module": "@jupyter-widgets/base",
            "top": null,
            "grid_column": null,
            "overflow_y": null,
            "overflow_x": null,
            "grid_auto_flow": null,
            "grid_area": null,
            "grid_template_columns": null,
            "flex": null,
            "_model_name": "LayoutModel",
            "justify_items": null,
            "grid_row": null,
            "max_height": null,
            "align_content": null,
            "visibility": null,
            "align_self": null,
            "height": null,
            "min_height": null,
            "padding": null,
            "grid_auto_rows": null,
            "grid_gap": null,
            "max_width": null,
            "order": null,
            "_view_module_version": "1.2.0",
            "grid_template_areas": null,
            "object_position": null,
            "object_fit": null,
            "grid_auto_columns": null,
            "margin": null,
            "display": null,
            "left": null
          }
        },
        "f1d1debd2fd349309543c6af5efe49cc": {
          "model_module": "@jupyter-widgets/controls",
          "model_name": "DescriptionStyleModel",
          "state": {
            "_view_name": "StyleView",
            "_model_name": "DescriptionStyleModel",
            "description_width": "",
            "_view_module": "@jupyter-widgets/base",
            "_model_module_version": "1.5.0",
            "_view_count": null,
            "_view_module_version": "1.2.0",
            "_model_module": "@jupyter-widgets/controls"
          }
        },
        "2cb47a58605c46a2a52d255749b63222": {
          "model_module": "@jupyter-widgets/base",
          "model_name": "LayoutModel",
          "state": {
            "_view_name": "LayoutView",
            "grid_template_rows": null,
            "right": null,
            "justify_content": null,
            "_view_module": "@jupyter-widgets/base",
            "overflow": null,
            "_model_module_version": "1.2.0",
            "_view_count": null,
            "flex_flow": null,
            "width": null,
            "min_width": null,
            "border": null,
            "align_items": null,
            "bottom": null,
            "_model_module": "@jupyter-widgets/base",
            "top": null,
            "grid_column": null,
            "overflow_y": null,
            "overflow_x": null,
            "grid_auto_flow": null,
            "grid_area": null,
            "grid_template_columns": null,
            "flex": null,
            "_model_name": "LayoutModel",
            "justify_items": null,
            "grid_row": null,
            "max_height": null,
            "align_content": null,
            "visibility": null,
            "align_self": null,
            "height": null,
            "min_height": null,
            "padding": null,
            "grid_auto_rows": null,
            "grid_gap": null,
            "max_width": null,
            "order": null,
            "_view_module_version": "1.2.0",
            "grid_template_areas": null,
            "object_position": null,
            "object_fit": null,
            "grid_auto_columns": null,
            "margin": null,
            "display": null,
            "left": null
          }
        },
        "407083d0a41c4315853542ccfb58c6ba": {
          "model_module": "@jupyter-widgets/controls",
          "model_name": "HBoxModel",
          "state": {
            "_view_name": "HBoxView",
            "_dom_classes": [],
            "_model_name": "HBoxModel",
            "_view_module": "@jupyter-widgets/controls",
            "_model_module_version": "1.5.0",
            "_view_count": null,
            "_view_module_version": "1.5.0",
            "box_style": "",
            "layout": "IPY_MODEL_d2742d5a30ce48beab286939a70e109d",
            "_model_module": "@jupyter-widgets/controls",
            "children": [
              "IPY_MODEL_912f879f567148a1bdf4189932fa9089",
              "IPY_MODEL_7be8fcc87df340c8a9b1e18156322d5a"
            ]
          }
        },
        "d2742d5a30ce48beab286939a70e109d": {
          "model_module": "@jupyter-widgets/base",
          "model_name": "LayoutModel",
          "state": {
            "_view_name": "LayoutView",
            "grid_template_rows": null,
            "right": null,
            "justify_content": null,
            "_view_module": "@jupyter-widgets/base",
            "overflow": null,
            "_model_module_version": "1.2.0",
            "_view_count": null,
            "flex_flow": null,
            "width": null,
            "min_width": null,
            "border": null,
            "align_items": null,
            "bottom": null,
            "_model_module": "@jupyter-widgets/base",
            "top": null,
            "grid_column": null,
            "overflow_y": null,
            "overflow_x": null,
            "grid_auto_flow": null,
            "grid_area": null,
            "grid_template_columns": null,
            "flex": null,
            "_model_name": "LayoutModel",
            "justify_items": null,
            "grid_row": null,
            "max_height": null,
            "align_content": null,
            "visibility": null,
            "align_self": null,
            "height": null,
            "min_height": null,
            "padding": null,
            "grid_auto_rows": null,
            "grid_gap": null,
            "max_width": null,
            "order": null,
            "_view_module_version": "1.2.0",
            "grid_template_areas": null,
            "object_position": null,
            "object_fit": null,
            "grid_auto_columns": null,
            "margin": null,
            "display": null,
            "left": null
          }
        },
        "912f879f567148a1bdf4189932fa9089": {
          "model_module": "@jupyter-widgets/controls",
          "model_name": "FloatProgressModel",
          "state": {
            "_view_name": "ProgressView",
            "style": "IPY_MODEL_d43e1ee3134a4535b4273831be5c2fd1",
            "_dom_classes": [],
            "description": "100%",
            "_model_name": "FloatProgressModel",
            "bar_style": "danger",
            "max": 10000,
            "_view_module": "@jupyter-widgets/controls",
            "_model_module_version": "1.5.0",
            "value": 9998,
            "_view_count": null,
            "_view_module_version": "1.5.0",
            "orientation": "horizontal",
            "min": 0,
            "description_tooltip": null,
            "_model_module": "@jupyter-widgets/controls",
            "layout": "IPY_MODEL_ced0b5391dcd439ba4856f7691fee82f"
          }
        },
        "7be8fcc87df340c8a9b1e18156322d5a": {
          "model_module": "@jupyter-widgets/controls",
          "model_name": "HTMLModel",
          "state": {
            "_view_name": "HTMLView",
            "style": "IPY_MODEL_c0169553d27948dba3f1f7a1e29cdf5b",
            "_dom_classes": [],
            "description": "",
            "_model_name": "HTMLModel",
            "placeholder": "​",
            "_view_module": "@jupyter-widgets/controls",
            "_model_module_version": "1.5.0",
            "value": " 9998/10000 [04:41&lt;00:00, 40.41it/s]",
            "_view_count": null,
            "_view_module_version": "1.5.0",
            "description_tooltip": null,
            "_model_module": "@jupyter-widgets/controls",
            "layout": "IPY_MODEL_e71d6343e6e64dfeb49fc5e0b0061bbf"
          }
        },
        "d43e1ee3134a4535b4273831be5c2fd1": {
          "model_module": "@jupyter-widgets/controls",
          "model_name": "ProgressStyleModel",
          "state": {
            "_view_name": "StyleView",
            "_model_name": "ProgressStyleModel",
            "description_width": "initial",
            "_view_module": "@jupyter-widgets/base",
            "_model_module_version": "1.5.0",
            "_view_count": null,
            "_view_module_version": "1.2.0",
            "bar_color": null,
            "_model_module": "@jupyter-widgets/controls"
          }
        },
        "ced0b5391dcd439ba4856f7691fee82f": {
          "model_module": "@jupyter-widgets/base",
          "model_name": "LayoutModel",
          "state": {
            "_view_name": "LayoutView",
            "grid_template_rows": null,
            "right": null,
            "justify_content": null,
            "_view_module": "@jupyter-widgets/base",
            "overflow": null,
            "_model_module_version": "1.2.0",
            "_view_count": null,
            "flex_flow": null,
            "width": null,
            "min_width": null,
            "border": null,
            "align_items": null,
            "bottom": null,
            "_model_module": "@jupyter-widgets/base",
            "top": null,
            "grid_column": null,
            "overflow_y": null,
            "overflow_x": null,
            "grid_auto_flow": null,
            "grid_area": null,
            "grid_template_columns": null,
            "flex": null,
            "_model_name": "LayoutModel",
            "justify_items": null,
            "grid_row": null,
            "max_height": null,
            "align_content": null,
            "visibility": null,
            "align_self": null,
            "height": null,
            "min_height": null,
            "padding": null,
            "grid_auto_rows": null,
            "grid_gap": null,
            "max_width": null,
            "order": null,
            "_view_module_version": "1.2.0",
            "grid_template_areas": null,
            "object_position": null,
            "object_fit": null,
            "grid_auto_columns": null,
            "margin": null,
            "display": null,
            "left": null
          }
        },
        "c0169553d27948dba3f1f7a1e29cdf5b": {
          "model_module": "@jupyter-widgets/controls",
          "model_name": "DescriptionStyleModel",
          "state": {
            "_view_name": "StyleView",
            "_model_name": "DescriptionStyleModel",
            "description_width": "",
            "_view_module": "@jupyter-widgets/base",
            "_model_module_version": "1.5.0",
            "_view_count": null,
            "_view_module_version": "1.2.0",
            "_model_module": "@jupyter-widgets/controls"
          }
        },
        "e71d6343e6e64dfeb49fc5e0b0061bbf": {
          "model_module": "@jupyter-widgets/base",
          "model_name": "LayoutModel",
          "state": {
            "_view_name": "LayoutView",
            "grid_template_rows": null,
            "right": null,
            "justify_content": null,
            "_view_module": "@jupyter-widgets/base",
            "overflow": null,
            "_model_module_version": "1.2.0",
            "_view_count": null,
            "flex_flow": null,
            "width": null,
            "min_width": null,
            "border": null,
            "align_items": null,
            "bottom": null,
            "_model_module": "@jupyter-widgets/base",
            "top": null,
            "grid_column": null,
            "overflow_y": null,
            "overflow_x": null,
            "grid_auto_flow": null,
            "grid_area": null,
            "grid_template_columns": null,
            "flex": null,
            "_model_name": "LayoutModel",
            "justify_items": null,
            "grid_row": null,
            "max_height": null,
            "align_content": null,
            "visibility": null,
            "align_self": null,
            "height": null,
            "min_height": null,
            "padding": null,
            "grid_auto_rows": null,
            "grid_gap": null,
            "max_width": null,
            "order": null,
            "_view_module_version": "1.2.0",
            "grid_template_areas": null,
            "object_position": null,
            "object_fit": null,
            "grid_auto_columns": null,
            "margin": null,
            "display": null,
            "left": null
          }
        },
        "69b5a34e19934a56ae9ae0bece65d4ef": {
          "model_module": "@jupyter-widgets/controls",
          "model_name": "HBoxModel",
          "state": {
            "_view_name": "HBoxView",
            "_dom_classes": [],
            "_model_name": "HBoxModel",
            "_view_module": "@jupyter-widgets/controls",
            "_model_module_version": "1.5.0",
            "_view_count": null,
            "_view_module_version": "1.5.0",
            "box_style": "",
            "layout": "IPY_MODEL_2c29de64f0ac4455a12ec88471a8be98",
            "_model_module": "@jupyter-widgets/controls",
            "children": [
              "IPY_MODEL_8b447f2f04b4483c9b14cb7af3ff3207",
              "IPY_MODEL_1db8b9473ff5432bbfa11a4204017bf5"
            ]
          }
        },
        "2c29de64f0ac4455a12ec88471a8be98": {
          "model_module": "@jupyter-widgets/base",
          "model_name": "LayoutModel",
          "state": {
            "_view_name": "LayoutView",
            "grid_template_rows": null,
            "right": null,
            "justify_content": null,
            "_view_module": "@jupyter-widgets/base",
            "overflow": null,
            "_model_module_version": "1.2.0",
            "_view_count": null,
            "flex_flow": null,
            "width": null,
            "min_width": null,
            "border": null,
            "align_items": null,
            "bottom": null,
            "_model_module": "@jupyter-widgets/base",
            "top": null,
            "grid_column": null,
            "overflow_y": null,
            "overflow_x": null,
            "grid_auto_flow": null,
            "grid_area": null,
            "grid_template_columns": null,
            "flex": null,
            "_model_name": "LayoutModel",
            "justify_items": null,
            "grid_row": null,
            "max_height": null,
            "align_content": null,
            "visibility": null,
            "align_self": null,
            "height": null,
            "min_height": null,
            "padding": null,
            "grid_auto_rows": null,
            "grid_gap": null,
            "max_width": null,
            "order": null,
            "_view_module_version": "1.2.0",
            "grid_template_areas": null,
            "object_position": null,
            "object_fit": null,
            "grid_auto_columns": null,
            "margin": null,
            "display": null,
            "left": null
          }
        },
        "8b447f2f04b4483c9b14cb7af3ff3207": {
          "model_module": "@jupyter-widgets/controls",
          "model_name": "FloatProgressModel",
          "state": {
            "_view_name": "ProgressView",
            "style": "IPY_MODEL_2914d6e31afa4c099b30eff122802873",
            "_dom_classes": [],
            "description": "100%",
            "_model_name": "FloatProgressModel",
            "bar_style": "danger",
            "max": 10000,
            "_view_module": "@jupyter-widgets/controls",
            "_model_module_version": "1.5.0",
            "value": 9999,
            "_view_count": null,
            "_view_module_version": "1.5.0",
            "orientation": "horizontal",
            "min": 0,
            "description_tooltip": null,
            "_model_module": "@jupyter-widgets/controls",
            "layout": "IPY_MODEL_8da8eb8b015d4a23956987fde3182c9c"
          }
        },
        "1db8b9473ff5432bbfa11a4204017bf5": {
          "model_module": "@jupyter-widgets/controls",
          "model_name": "HTMLModel",
          "state": {
            "_view_name": "HTMLView",
            "style": "IPY_MODEL_d7505f9b73d44ef285c5150ad3f3b111",
            "_dom_classes": [],
            "description": "",
            "_model_name": "HTMLModel",
            "placeholder": "​",
            "_view_module": "@jupyter-widgets/controls",
            "_model_module_version": "1.5.0",
            "value": " 9999/10000 [05:02&lt;00:00, 37.52it/s]",
            "_view_count": null,
            "_view_module_version": "1.5.0",
            "description_tooltip": null,
            "_model_module": "@jupyter-widgets/controls",
            "layout": "IPY_MODEL_689ede75e4f245a6995e15722bce1b81"
          }
        },
        "2914d6e31afa4c099b30eff122802873": {
          "model_module": "@jupyter-widgets/controls",
          "model_name": "ProgressStyleModel",
          "state": {
            "_view_name": "StyleView",
            "_model_name": "ProgressStyleModel",
            "description_width": "initial",
            "_view_module": "@jupyter-widgets/base",
            "_model_module_version": "1.5.0",
            "_view_count": null,
            "_view_module_version": "1.2.0",
            "bar_color": null,
            "_model_module": "@jupyter-widgets/controls"
          }
        },
        "8da8eb8b015d4a23956987fde3182c9c": {
          "model_module": "@jupyter-widgets/base",
          "model_name": "LayoutModel",
          "state": {
            "_view_name": "LayoutView",
            "grid_template_rows": null,
            "right": null,
            "justify_content": null,
            "_view_module": "@jupyter-widgets/base",
            "overflow": null,
            "_model_module_version": "1.2.0",
            "_view_count": null,
            "flex_flow": null,
            "width": null,
            "min_width": null,
            "border": null,
            "align_items": null,
            "bottom": null,
            "_model_module": "@jupyter-widgets/base",
            "top": null,
            "grid_column": null,
            "overflow_y": null,
            "overflow_x": null,
            "grid_auto_flow": null,
            "grid_area": null,
            "grid_template_columns": null,
            "flex": null,
            "_model_name": "LayoutModel",
            "justify_items": null,
            "grid_row": null,
            "max_height": null,
            "align_content": null,
            "visibility": null,
            "align_self": null,
            "height": null,
            "min_height": null,
            "padding": null,
            "grid_auto_rows": null,
            "grid_gap": null,
            "max_width": null,
            "order": null,
            "_view_module_version": "1.2.0",
            "grid_template_areas": null,
            "object_position": null,
            "object_fit": null,
            "grid_auto_columns": null,
            "margin": null,
            "display": null,
            "left": null
          }
        },
        "d7505f9b73d44ef285c5150ad3f3b111": {
          "model_module": "@jupyter-widgets/controls",
          "model_name": "DescriptionStyleModel",
          "state": {
            "_view_name": "StyleView",
            "_model_name": "DescriptionStyleModel",
            "description_width": "",
            "_view_module": "@jupyter-widgets/base",
            "_model_module_version": "1.5.0",
            "_view_count": null,
            "_view_module_version": "1.2.0",
            "_model_module": "@jupyter-widgets/controls"
          }
        },
        "689ede75e4f245a6995e15722bce1b81": {
          "model_module": "@jupyter-widgets/base",
          "model_name": "LayoutModel",
          "state": {
            "_view_name": "LayoutView",
            "grid_template_rows": null,
            "right": null,
            "justify_content": null,
            "_view_module": "@jupyter-widgets/base",
            "overflow": null,
            "_model_module_version": "1.2.0",
            "_view_count": null,
            "flex_flow": null,
            "width": null,
            "min_width": null,
            "border": null,
            "align_items": null,
            "bottom": null,
            "_model_module": "@jupyter-widgets/base",
            "top": null,
            "grid_column": null,
            "overflow_y": null,
            "overflow_x": null,
            "grid_auto_flow": null,
            "grid_area": null,
            "grid_template_columns": null,
            "flex": null,
            "_model_name": "LayoutModel",
            "justify_items": null,
            "grid_row": null,
            "max_height": null,
            "align_content": null,
            "visibility": null,
            "align_self": null,
            "height": null,
            "min_height": null,
            "padding": null,
            "grid_auto_rows": null,
            "grid_gap": null,
            "max_width": null,
            "order": null,
            "_view_module_version": "1.2.0",
            "grid_template_areas": null,
            "object_position": null,
            "object_fit": null,
            "grid_auto_columns": null,
            "margin": null,
            "display": null,
            "left": null
          }
        },
        "ba3d689579c14f0cb04b749a690345f4": {
          "model_module": "@jupyter-widgets/controls",
          "model_name": "HBoxModel",
          "state": {
            "_view_name": "HBoxView",
            "_dom_classes": [],
            "_model_name": "HBoxModel",
            "_view_module": "@jupyter-widgets/controls",
            "_model_module_version": "1.5.0",
            "_view_count": null,
            "_view_module_version": "1.5.0",
            "box_style": "",
            "layout": "IPY_MODEL_43038a3fab5a4573bcaabc8ddda6e153",
            "_model_module": "@jupyter-widgets/controls",
            "children": [
              "IPY_MODEL_71d821f1b451413aa7423e34d7eec632",
              "IPY_MODEL_60712e1642c046668c6955c284905b88"
            ]
          }
        },
        "43038a3fab5a4573bcaabc8ddda6e153": {
          "model_module": "@jupyter-widgets/base",
          "model_name": "LayoutModel",
          "state": {
            "_view_name": "LayoutView",
            "grid_template_rows": null,
            "right": null,
            "justify_content": null,
            "_view_module": "@jupyter-widgets/base",
            "overflow": null,
            "_model_module_version": "1.2.0",
            "_view_count": null,
            "flex_flow": null,
            "width": null,
            "min_width": null,
            "border": null,
            "align_items": null,
            "bottom": null,
            "_model_module": "@jupyter-widgets/base",
            "top": null,
            "grid_column": null,
            "overflow_y": null,
            "overflow_x": null,
            "grid_auto_flow": null,
            "grid_area": null,
            "grid_template_columns": null,
            "flex": null,
            "_model_name": "LayoutModel",
            "justify_items": null,
            "grid_row": null,
            "max_height": null,
            "align_content": null,
            "visibility": null,
            "align_self": null,
            "height": null,
            "min_height": null,
            "padding": null,
            "grid_auto_rows": null,
            "grid_gap": null,
            "max_width": null,
            "order": null,
            "_view_module_version": "1.2.0",
            "grid_template_areas": null,
            "object_position": null,
            "object_fit": null,
            "grid_auto_columns": null,
            "margin": null,
            "display": null,
            "left": null
          }
        },
        "71d821f1b451413aa7423e34d7eec632": {
          "model_module": "@jupyter-widgets/controls",
          "model_name": "FloatProgressModel",
          "state": {
            "_view_name": "ProgressView",
            "style": "IPY_MODEL_c88f15ec8a9240d799e0de478165d96f",
            "_dom_classes": [],
            "description": "100%",
            "_model_name": "FloatProgressModel",
            "bar_style": "danger",
            "max": 10000,
            "_view_module": "@jupyter-widgets/controls",
            "_model_module_version": "1.5.0",
            "value": 9994,
            "_view_count": null,
            "_view_module_version": "1.5.0",
            "orientation": "horizontal",
            "min": 0,
            "description_tooltip": null,
            "_model_module": "@jupyter-widgets/controls",
            "layout": "IPY_MODEL_ad78c4cf95f145738ce8f3fd50144ead"
          }
        },
        "60712e1642c046668c6955c284905b88": {
          "model_module": "@jupyter-widgets/controls",
          "model_name": "HTMLModel",
          "state": {
            "_view_name": "HTMLView",
            "style": "IPY_MODEL_d2540c7bd2b4492fa665b0fb3c81d631",
            "_dom_classes": [],
            "description": "",
            "_model_name": "HTMLModel",
            "placeholder": "​",
            "_view_module": "@jupyter-widgets/controls",
            "_model_module_version": "1.5.0",
            "value": " 9994/10000 [03:14&lt;00:00, 59.02it/s]",
            "_view_count": null,
            "_view_module_version": "1.5.0",
            "description_tooltip": null,
            "_model_module": "@jupyter-widgets/controls",
            "layout": "IPY_MODEL_b5058e4a55ad48ff896aad73897805b1"
          }
        },
        "c88f15ec8a9240d799e0de478165d96f": {
          "model_module": "@jupyter-widgets/controls",
          "model_name": "ProgressStyleModel",
          "state": {
            "_view_name": "StyleView",
            "_model_name": "ProgressStyleModel",
            "description_width": "initial",
            "_view_module": "@jupyter-widgets/base",
            "_model_module_version": "1.5.0",
            "_view_count": null,
            "_view_module_version": "1.2.0",
            "bar_color": null,
            "_model_module": "@jupyter-widgets/controls"
          }
        },
        "ad78c4cf95f145738ce8f3fd50144ead": {
          "model_module": "@jupyter-widgets/base",
          "model_name": "LayoutModel",
          "state": {
            "_view_name": "LayoutView",
            "grid_template_rows": null,
            "right": null,
            "justify_content": null,
            "_view_module": "@jupyter-widgets/base",
            "overflow": null,
            "_model_module_version": "1.2.0",
            "_view_count": null,
            "flex_flow": null,
            "width": null,
            "min_width": null,
            "border": null,
            "align_items": null,
            "bottom": null,
            "_model_module": "@jupyter-widgets/base",
            "top": null,
            "grid_column": null,
            "overflow_y": null,
            "overflow_x": null,
            "grid_auto_flow": null,
            "grid_area": null,
            "grid_template_columns": null,
            "flex": null,
            "_model_name": "LayoutModel",
            "justify_items": null,
            "grid_row": null,
            "max_height": null,
            "align_content": null,
            "visibility": null,
            "align_self": null,
            "height": null,
            "min_height": null,
            "padding": null,
            "grid_auto_rows": null,
            "grid_gap": null,
            "max_width": null,
            "order": null,
            "_view_module_version": "1.2.0",
            "grid_template_areas": null,
            "object_position": null,
            "object_fit": null,
            "grid_auto_columns": null,
            "margin": null,
            "display": null,
            "left": null
          }
        },
        "d2540c7bd2b4492fa665b0fb3c81d631": {
          "model_module": "@jupyter-widgets/controls",
          "model_name": "DescriptionStyleModel",
          "state": {
            "_view_name": "StyleView",
            "_model_name": "DescriptionStyleModel",
            "description_width": "",
            "_view_module": "@jupyter-widgets/base",
            "_model_module_version": "1.5.0",
            "_view_count": null,
            "_view_module_version": "1.2.0",
            "_model_module": "@jupyter-widgets/controls"
          }
        },
        "b5058e4a55ad48ff896aad73897805b1": {
          "model_module": "@jupyter-widgets/base",
          "model_name": "LayoutModel",
          "state": {
            "_view_name": "LayoutView",
            "grid_template_rows": null,
            "right": null,
            "justify_content": null,
            "_view_module": "@jupyter-widgets/base",
            "overflow": null,
            "_model_module_version": "1.2.0",
            "_view_count": null,
            "flex_flow": null,
            "width": null,
            "min_width": null,
            "border": null,
            "align_items": null,
            "bottom": null,
            "_model_module": "@jupyter-widgets/base",
            "top": null,
            "grid_column": null,
            "overflow_y": null,
            "overflow_x": null,
            "grid_auto_flow": null,
            "grid_area": null,
            "grid_template_columns": null,
            "flex": null,
            "_model_name": "LayoutModel",
            "justify_items": null,
            "grid_row": null,
            "max_height": null,
            "align_content": null,
            "visibility": null,
            "align_self": null,
            "height": null,
            "min_height": null,
            "padding": null,
            "grid_auto_rows": null,
            "grid_gap": null,
            "max_width": null,
            "order": null,
            "_view_module_version": "1.2.0",
            "grid_template_areas": null,
            "object_position": null,
            "object_fit": null,
            "grid_auto_columns": null,
            "margin": null,
            "display": null,
            "left": null
          }
        },
        "1fb420edd9d04cbaa4d6654b3712305f": {
          "model_module": "@jupyter-widgets/controls",
          "model_name": "HBoxModel",
          "state": {
            "_view_name": "HBoxView",
            "_dom_classes": [],
            "_model_name": "HBoxModel",
            "_view_module": "@jupyter-widgets/controls",
            "_model_module_version": "1.5.0",
            "_view_count": null,
            "_view_module_version": "1.5.0",
            "box_style": "",
            "layout": "IPY_MODEL_2f0488a93e65487f95028dca111d5e36",
            "_model_module": "@jupyter-widgets/controls",
            "children": [
              "IPY_MODEL_47d57eb1268844d1b5f381fc955ba68d",
              "IPY_MODEL_1c11cfc8f90d40a2afcb237aee9b3725"
            ]
          }
        },
        "2f0488a93e65487f95028dca111d5e36": {
          "model_module": "@jupyter-widgets/base",
          "model_name": "LayoutModel",
          "state": {
            "_view_name": "LayoutView",
            "grid_template_rows": null,
            "right": null,
            "justify_content": null,
            "_view_module": "@jupyter-widgets/base",
            "overflow": null,
            "_model_module_version": "1.2.0",
            "_view_count": null,
            "flex_flow": null,
            "width": null,
            "min_width": null,
            "border": null,
            "align_items": null,
            "bottom": null,
            "_model_module": "@jupyter-widgets/base",
            "top": null,
            "grid_column": null,
            "overflow_y": null,
            "overflow_x": null,
            "grid_auto_flow": null,
            "grid_area": null,
            "grid_template_columns": null,
            "flex": null,
            "_model_name": "LayoutModel",
            "justify_items": null,
            "grid_row": null,
            "max_height": null,
            "align_content": null,
            "visibility": null,
            "align_self": null,
            "height": null,
            "min_height": null,
            "padding": null,
            "grid_auto_rows": null,
            "grid_gap": null,
            "max_width": null,
            "order": null,
            "_view_module_version": "1.2.0",
            "grid_template_areas": null,
            "object_position": null,
            "object_fit": null,
            "grid_auto_columns": null,
            "margin": null,
            "display": null,
            "left": null
          }
        },
        "47d57eb1268844d1b5f381fc955ba68d": {
          "model_module": "@jupyter-widgets/controls",
          "model_name": "FloatProgressModel",
          "state": {
            "_view_name": "ProgressView",
            "style": "IPY_MODEL_ffc479393fc94de4bddfe4a68251166b",
            "_dom_classes": [],
            "description": "  0%",
            "_model_name": "FloatProgressModel",
            "bar_style": "danger",
            "max": 10000,
            "_view_module": "@jupyter-widgets/controls",
            "_model_module_version": "1.5.0",
            "value": 0,
            "_view_count": null,
            "_view_module_version": "1.5.0",
            "orientation": "horizontal",
            "min": 0,
            "description_tooltip": null,
            "_model_module": "@jupyter-widgets/controls",
            "layout": "IPY_MODEL_9a055cdef7e44a16a8916c2317e6702e"
          }
        },
        "1c11cfc8f90d40a2afcb237aee9b3725": {
          "model_module": "@jupyter-widgets/controls",
          "model_name": "HTMLModel",
          "state": {
            "_view_name": "HTMLView",
            "style": "IPY_MODEL_34f841afd596430e972794e101723fa9",
            "_dom_classes": [],
            "description": "",
            "_model_name": "HTMLModel",
            "placeholder": "​",
            "_view_module": "@jupyter-widgets/controls",
            "_model_module_version": "1.5.0",
            "value": " 0/10000 [00:00&lt;?, ?it/s]",
            "_view_count": null,
            "_view_module_version": "1.5.0",
            "description_tooltip": null,
            "_model_module": "@jupyter-widgets/controls",
            "layout": "IPY_MODEL_adf10ff6245e44cfb9c5209bba0354a6"
          }
        },
        "ffc479393fc94de4bddfe4a68251166b": {
          "model_module": "@jupyter-widgets/controls",
          "model_name": "ProgressStyleModel",
          "state": {
            "_view_name": "StyleView",
            "_model_name": "ProgressStyleModel",
            "description_width": "initial",
            "_view_module": "@jupyter-widgets/base",
            "_model_module_version": "1.5.0",
            "_view_count": null,
            "_view_module_version": "1.2.0",
            "bar_color": null,
            "_model_module": "@jupyter-widgets/controls"
          }
        },
        "9a055cdef7e44a16a8916c2317e6702e": {
          "model_module": "@jupyter-widgets/base",
          "model_name": "LayoutModel",
          "state": {
            "_view_name": "LayoutView",
            "grid_template_rows": null,
            "right": null,
            "justify_content": null,
            "_view_module": "@jupyter-widgets/base",
            "overflow": null,
            "_model_module_version": "1.2.0",
            "_view_count": null,
            "flex_flow": null,
            "width": null,
            "min_width": null,
            "border": null,
            "align_items": null,
            "bottom": null,
            "_model_module": "@jupyter-widgets/base",
            "top": null,
            "grid_column": null,
            "overflow_y": null,
            "overflow_x": null,
            "grid_auto_flow": null,
            "grid_area": null,
            "grid_template_columns": null,
            "flex": null,
            "_model_name": "LayoutModel",
            "justify_items": null,
            "grid_row": null,
            "max_height": null,
            "align_content": null,
            "visibility": null,
            "align_self": null,
            "height": null,
            "min_height": null,
            "padding": null,
            "grid_auto_rows": null,
            "grid_gap": null,
            "max_width": null,
            "order": null,
            "_view_module_version": "1.2.0",
            "grid_template_areas": null,
            "object_position": null,
            "object_fit": null,
            "grid_auto_columns": null,
            "margin": null,
            "display": null,
            "left": null
          }
        },
        "34f841afd596430e972794e101723fa9": {
          "model_module": "@jupyter-widgets/controls",
          "model_name": "DescriptionStyleModel",
          "state": {
            "_view_name": "StyleView",
            "_model_name": "DescriptionStyleModel",
            "description_width": "",
            "_view_module": "@jupyter-widgets/base",
            "_model_module_version": "1.5.0",
            "_view_count": null,
            "_view_module_version": "1.2.0",
            "_model_module": "@jupyter-widgets/controls"
          }
        },
        "adf10ff6245e44cfb9c5209bba0354a6": {
          "model_module": "@jupyter-widgets/base",
          "model_name": "LayoutModel",
          "state": {
            "_view_name": "LayoutView",
            "grid_template_rows": null,
            "right": null,
            "justify_content": null,
            "_view_module": "@jupyter-widgets/base",
            "overflow": null,
            "_model_module_version": "1.2.0",
            "_view_count": null,
            "flex_flow": null,
            "width": null,
            "min_width": null,
            "border": null,
            "align_items": null,
            "bottom": null,
            "_model_module": "@jupyter-widgets/base",
            "top": null,
            "grid_column": null,
            "overflow_y": null,
            "overflow_x": null,
            "grid_auto_flow": null,
            "grid_area": null,
            "grid_template_columns": null,
            "flex": null,
            "_model_name": "LayoutModel",
            "justify_items": null,
            "grid_row": null,
            "max_height": null,
            "align_content": null,
            "visibility": null,
            "align_self": null,
            "height": null,
            "min_height": null,
            "padding": null,
            "grid_auto_rows": null,
            "grid_gap": null,
            "max_width": null,
            "order": null,
            "_view_module_version": "1.2.0",
            "grid_template_areas": null,
            "object_position": null,
            "object_fit": null,
            "grid_auto_columns": null,
            "margin": null,
            "display": null,
            "left": null
          }
        },
        "dd682358effd49e7ac477bfbcfa9c499": {
          "model_module": "@jupyter-widgets/controls",
          "model_name": "HBoxModel",
          "state": {
            "_view_name": "HBoxView",
            "_dom_classes": [],
            "_model_name": "HBoxModel",
            "_view_module": "@jupyter-widgets/controls",
            "_model_module_version": "1.5.0",
            "_view_count": null,
            "_view_module_version": "1.5.0",
            "box_style": "",
            "layout": "IPY_MODEL_177b1c06fa194123b117b8b6c5f2cb94",
            "_model_module": "@jupyter-widgets/controls",
            "children": [
              "IPY_MODEL_586d34a443e4434581fe2b5961fb983e",
              "IPY_MODEL_78c56949386247abbc5600a418a00f2c"
            ]
          }
        },
        "177b1c06fa194123b117b8b6c5f2cb94": {
          "model_module": "@jupyter-widgets/base",
          "model_name": "LayoutModel",
          "state": {
            "_view_name": "LayoutView",
            "grid_template_rows": null,
            "right": null,
            "justify_content": null,
            "_view_module": "@jupyter-widgets/base",
            "overflow": null,
            "_model_module_version": "1.2.0",
            "_view_count": null,
            "flex_flow": null,
            "width": null,
            "min_width": null,
            "border": null,
            "align_items": null,
            "bottom": null,
            "_model_module": "@jupyter-widgets/base",
            "top": null,
            "grid_column": null,
            "overflow_y": null,
            "overflow_x": null,
            "grid_auto_flow": null,
            "grid_area": null,
            "grid_template_columns": null,
            "flex": null,
            "_model_name": "LayoutModel",
            "justify_items": null,
            "grid_row": null,
            "max_height": null,
            "align_content": null,
            "visibility": null,
            "align_self": null,
            "height": null,
            "min_height": null,
            "padding": null,
            "grid_auto_rows": null,
            "grid_gap": null,
            "max_width": null,
            "order": null,
            "_view_module_version": "1.2.0",
            "grid_template_areas": null,
            "object_position": null,
            "object_fit": null,
            "grid_auto_columns": null,
            "margin": null,
            "display": null,
            "left": null
          }
        },
        "586d34a443e4434581fe2b5961fb983e": {
          "model_module": "@jupyter-widgets/controls",
          "model_name": "FloatProgressModel",
          "state": {
            "_view_name": "ProgressView",
            "style": "IPY_MODEL_f1f2dc09af9f4e48939d37d309138ec6",
            "_dom_classes": [],
            "description": "100%",
            "_model_name": "FloatProgressModel",
            "bar_style": "danger",
            "max": 10000,
            "_view_module": "@jupyter-widgets/controls",
            "_model_module_version": "1.5.0",
            "value": 9999,
            "_view_count": null,
            "_view_module_version": "1.5.0",
            "orientation": "horizontal",
            "min": 0,
            "description_tooltip": null,
            "_model_module": "@jupyter-widgets/controls",
            "layout": "IPY_MODEL_170eabaa15834e7b91fae1cbc8fb8f33"
          }
        },
        "78c56949386247abbc5600a418a00f2c": {
          "model_module": "@jupyter-widgets/controls",
          "model_name": "HTMLModel",
          "state": {
            "_view_name": "HTMLView",
            "style": "IPY_MODEL_86e66c78e3824c2a873e6b566a7e3c15",
            "_dom_classes": [],
            "description": "",
            "_model_name": "HTMLModel",
            "placeholder": "​",
            "_view_module": "@jupyter-widgets/controls",
            "_model_module_version": "1.5.0",
            "value": " 9999/10000 [34:45&lt;00:00,  4.81it/s]",
            "_view_count": null,
            "_view_module_version": "1.5.0",
            "description_tooltip": null,
            "_model_module": "@jupyter-widgets/controls",
            "layout": "IPY_MODEL_71f4a69307c34c369f5acbb82dd6c351"
          }
        },
        "f1f2dc09af9f4e48939d37d309138ec6": {
          "model_module": "@jupyter-widgets/controls",
          "model_name": "ProgressStyleModel",
          "state": {
            "_view_name": "StyleView",
            "_model_name": "ProgressStyleModel",
            "description_width": "initial",
            "_view_module": "@jupyter-widgets/base",
            "_model_module_version": "1.5.0",
            "_view_count": null,
            "_view_module_version": "1.2.0",
            "bar_color": null,
            "_model_module": "@jupyter-widgets/controls"
          }
        },
        "170eabaa15834e7b91fae1cbc8fb8f33": {
          "model_module": "@jupyter-widgets/base",
          "model_name": "LayoutModel",
          "state": {
            "_view_name": "LayoutView",
            "grid_template_rows": null,
            "right": null,
            "justify_content": null,
            "_view_module": "@jupyter-widgets/base",
            "overflow": null,
            "_model_module_version": "1.2.0",
            "_view_count": null,
            "flex_flow": null,
            "width": null,
            "min_width": null,
            "border": null,
            "align_items": null,
            "bottom": null,
            "_model_module": "@jupyter-widgets/base",
            "top": null,
            "grid_column": null,
            "overflow_y": null,
            "overflow_x": null,
            "grid_auto_flow": null,
            "grid_area": null,
            "grid_template_columns": null,
            "flex": null,
            "_model_name": "LayoutModel",
            "justify_items": null,
            "grid_row": null,
            "max_height": null,
            "align_content": null,
            "visibility": null,
            "align_self": null,
            "height": null,
            "min_height": null,
            "padding": null,
            "grid_auto_rows": null,
            "grid_gap": null,
            "max_width": null,
            "order": null,
            "_view_module_version": "1.2.0",
            "grid_template_areas": null,
            "object_position": null,
            "object_fit": null,
            "grid_auto_columns": null,
            "margin": null,
            "display": null,
            "left": null
          }
        },
        "86e66c78e3824c2a873e6b566a7e3c15": {
          "model_module": "@jupyter-widgets/controls",
          "model_name": "DescriptionStyleModel",
          "state": {
            "_view_name": "StyleView",
            "_model_name": "DescriptionStyleModel",
            "description_width": "",
            "_view_module": "@jupyter-widgets/base",
            "_model_module_version": "1.5.0",
            "_view_count": null,
            "_view_module_version": "1.2.0",
            "_model_module": "@jupyter-widgets/controls"
          }
        },
        "71f4a69307c34c369f5acbb82dd6c351": {
          "model_module": "@jupyter-widgets/base",
          "model_name": "LayoutModel",
          "state": {
            "_view_name": "LayoutView",
            "grid_template_rows": null,
            "right": null,
            "justify_content": null,
            "_view_module": "@jupyter-widgets/base",
            "overflow": null,
            "_model_module_version": "1.2.0",
            "_view_count": null,
            "flex_flow": null,
            "width": null,
            "min_width": null,
            "border": null,
            "align_items": null,
            "bottom": null,
            "_model_module": "@jupyter-widgets/base",
            "top": null,
            "grid_column": null,
            "overflow_y": null,
            "overflow_x": null,
            "grid_auto_flow": null,
            "grid_area": null,
            "grid_template_columns": null,
            "flex": null,
            "_model_name": "LayoutModel",
            "justify_items": null,
            "grid_row": null,
            "max_height": null,
            "align_content": null,
            "visibility": null,
            "align_self": null,
            "height": null,
            "min_height": null,
            "padding": null,
            "grid_auto_rows": null,
            "grid_gap": null,
            "max_width": null,
            "order": null,
            "_view_module_version": "1.2.0",
            "grid_template_areas": null,
            "object_position": null,
            "object_fit": null,
            "grid_auto_columns": null,
            "margin": null,
            "display": null,
            "left": null
          }
        }
      }
    }
  },
  "cells": [
    {
      "cell_type": "markdown",
      "metadata": {
        "id": "g5MRyF5As2jU"
      },
      "source": [
        "# Машинное обучение, ФКН ВШЭ\n",
        "\n",
        "# Практическое задание 13. Поиск ближайших соседей\n",
        "\n",
        "## Общая информация\n",
        "\n",
        "Дата выдачи: 07.06.2021\n",
        "\n",
        "Жёсткий дедлайн: 19.06.2021 05:59 MSK\n",
        "\n",
        "## Оценивание и штрафы\n",
        "\n",
        "Каждая из задач имеет определенную «стоимость» (указана в скобках около задачи). Максимальная оценка за работу — 10 баллов.\n",
        "\n",
        "Сдавать задание после указанного жёсткого срока сдачи нельзя. При выставлении неполного балла за задание в связи с наличием ошибок на усмотрение проверяющего предусмотрена возможность исправить работу на указанных в ответном письме условиях.\n",
        "\n",
        "Задание выполняется самостоятельно. «Похожие» решения считаются плагиатом и все задействованные студенты (в том числе те, у кого списали) не могут получить за него больше 0 баллов (подробнее о плагиате см. на странице курса). Если вы нашли решение какого-то из заданий (или его часть) в открытом источнике, необходимо указать ссылку на этот источник в отдельном блоке в конце вашей работы (скорее всего вы будете не единственным, кто это нашел, поэтому чтобы исключить подозрение в плагиате, необходима ссылка на источник).\n",
        "\n",
        "Неэффективная реализация кода может негативно отразиться на оценке.\n",
        "\n",
        "## Формат сдачи\n",
        "\n",
        "Задания сдаются через систему anytask. Посылка должна содержать:\n",
        "\n",
        "* Ноутбук homework-practice-13-knn-Username.ipynb\n",
        "\n",
        "Username — ваша фамилия на латинице.\n",
        "\n",
        "---"
      ]
    },
    {
      "cell_type": "markdown",
      "metadata": {
        "id": "-62AfykGM--i"
      },
      "source": [
        "# Вам нужно реализовать один из алгоритмов на выбор - LSH или NSW"
      ]
    },
    {
      "cell_type": "markdown",
      "metadata": {
        "id": "VoNukam0s2jU"
      },
      "source": [
        "\n",
        "В этом задании мы будем работать с датасетом [FashionMnist](https://github.com/zalandoresearch/fashion-mnist) изображений предметов одежды и обуви. В файле уже находится массив со 100 найденными соседями каждого тестового объекта по евклидовой метрике, однако мы для начала (чтобы реализовать метод случайных проекций) попробуем найти 100 ближайших соседей для каждого объекта по косинусной близости."
      ]
    },
    {
      "cell_type": "code",
      "metadata": {
        "id": "69ZzHf0us2jU"
      },
      "source": [
        "! wget -nc -q http://ann-benchmarks.com/fashion-mnist-784-euclidean.hdf5"
      ],
      "execution_count": 1,
      "outputs": []
    },
    {
      "cell_type": "code",
      "metadata": {
        "colab": {
          "base_uri": "https://localhost:8080/"
        },
        "id": "iEF8H9qys2jV",
        "outputId": "f03372e6-1018-48ad-ec62-7b08bf582c9f"
      },
      "source": [
        "import h5py\n",
        "\n",
        "\n",
        "with h5py.File('fashion-mnist-784-euclidean.hdf5', 'r') as f:\n",
        "    train = f['train'][()]\n",
        "    test = f['test'][()]\n",
        "    true_neighbors_eucl = f['neighbors'][()]\n",
        "\n",
        "print(train.shape)\n",
        "print(test.shape)\n",
        "print(true_neighbors_eucl.shape)"
      ],
      "execution_count": 2,
      "outputs": [
        {
          "output_type": "stream",
          "text": [
            "(60000, 784)\n",
            "(10000, 784)\n",
            "(10000, 100)\n"
          ],
          "name": "stdout"
        }
      ]
    },
    {
      "cell_type": "code",
      "metadata": {
        "colab": {
          "base_uri": "https://localhost:8080/",
          "height": 242
        },
        "id": "-cAT3zpPs2jV",
        "outputId": "99408a59-fddc-4f5a-e31f-9538d65887be"
      },
      "source": [
        "import matplotlib.pyplot as plt\n",
        "\n",
        "\n",
        "plt.figure(figsize=(16, 4))\n",
        "\n",
        "plt.subplot(141)\n",
        "plt.imshow(train[0].reshape(28, 28))\n",
        "\n",
        "plt.subplot(142)\n",
        "plt.imshow(train[1].reshape(28, 28))\n",
        "\n",
        "plt.subplot(143)\n",
        "plt.imshow(train[3].reshape(28, 28))\n",
        "\n",
        "plt.subplot(144)\n",
        "plt.imshow(train[5].reshape(28, 28))\n",
        "\n",
        "plt.show()"
      ],
      "execution_count": 3,
      "outputs": [
        {
          "output_type": "display_data",
          "data": {
            "image/png": "[encoded data removed]",
            "text/plain": [
              "<Figure size 1152x288 with 4 Axes>"
            ]
          },
          "metadata": {
            "tags": [],
            "needs_background": "light"
          }
        }
      ]
    },
    {
      "cell_type": "markdown",
      "metadata": {
        "id": "kGWk6iu-s2jW"
      },
      "source": [
        "В библиотеке `scikit-learn` есть модуль с алгоритмами поиска ближайших соседей, помогающий решать задачи классификации и регрессии. В этом задании, однако, нас будет интересовать не классификация, а качество и скорость решения непосредственно задачи поиска. Определим для этого две метрики:\n",
        "\n",
        "* **Recall**: доля «настоящих соседей», которых нашёл алгоритм поиска. Пример: если вам необходимо найти 100 ближайших соседей, и из 100 возвращённых алгоритмом объектов 93 действительно находятся в множестве ближайших, то полнота равна 0.93.\n",
        "\n",
        "\n",
        "* **Queries per second (QPS), также requests per second (RPS)**: число запросов, на которое алгоритм успевает ответить за одну секунду. Часто эту характеристику вычисляют как $\\dfrac{num\\_queries}{total\\_time}$, где $num\\_queries$ — общее число запросов, а $total\\_time$ — суммарное время их выполнения; однако, так как некоторые реализации в задании умеют группировать запросы и выполнять несколько параллельно, мы будем осуществлять их по отдельности и усреднять величину $\\dfrac{1}{request\\_time}$.\n",
        "\n",
        "Хотя в классе `NearestNeighbors` нет методов приближённого поиска ближайших соседей, мы воспользуемся им, чтобы найти 100 ближайших объектов по косинусной близости, сформировав таким образом правильные ответы для приближённых методов. Алгоритмы `kd_tree` и `ball_tree` в этом классе не поддерживают `metric=cosine`, поэтому распараллелим полный перебор:"
      ]
    },
    {
      "cell_type": "code",
      "metadata": {
        "id": "V9kju2evs2jW"
      },
      "source": [
        "from sklearn.neighbors import NearestNeighbors\n",
        "\n",
        "\n",
        "sklearn_index = NearestNeighbors(\n",
        "    n_neighbors=100,\n",
        "    algorithm='brute',\n",
        "    metric='cosine',\n",
        "    n_jobs=-1\n",
        ")\n",
        "\n",
        "sklearn_index.fit(train)\n",
        "\n",
        "true_neighbors_cosine = sklearn_index.kneighbors(\n",
        "    test,\n",
        "    n_neighbors=100,\n",
        "    return_distance=False\n",
        ")"
      ],
      "execution_count": 4,
      "outputs": []
    },
    {
      "cell_type": "code",
      "metadata": {
        "id": "JrVkZgDdM--s"
      },
      "source": [
        "from tqdm.auto import tqdm\n",
        "from time import perf_counter\n",
        "import numpy as np\n",
        "\n",
        "def compute_recall_qps(query_func: callable, test_set: np.ndarray, true_neighbors: np.ndarray, **kwargs):\n",
        "    \"\"\"\n",
        "    Given a function that returns a list of nearest neighbors, estimate its recall and speed.\n",
        "    Args:\n",
        "        query_func: function with signature (query, k_neighbors, **kwargs).\n",
        "            Returns a list of k_neighbors approximate nearest neighbors for a query\n",
        "        test_set: array with shape (num_objects, dim). Contains query vectors for recall evaluation\n",
        "        true_neighbors: array of indices with shape (num_objects, num_neighbors). Contains ground truth data for\n",
        "            recall evaluation. k_neighbors from query_func is inferred from its shape\n",
        "        **kwargs: passed to query_func\n",
        "    Returns:\n",
        "        avg_recall: average recall of query_func over the test set\n",
        "        qps: number of queries per second handled by query_func \n",
        "    \"\"\"\n",
        "    recalls = []\n",
        "    query_times = []\n",
        "\n",
        "    for sample, neighbors_for_sample in zip(test_set, tqdm(true_neighbors)):\n",
        "        start = perf_counter()\n",
        "\n",
        "        approx_neighbors = query_func(sample, k_neighbors=neighbors_for_sample.shape[0], **kwargs)\n",
        "\n",
        "        query_times.append(1 / (perf_counter() - start))\n",
        "\n",
        "        set_true = set(neighbors_for_sample.tolist())\n",
        "        hits = sum(1 for neighbor in approx_neighbors if neighbor in set_true)\n",
        "\n",
        "        recalls.append(hits / len(set_true))\n",
        "\n",
        "    return np.mean(recalls), np.mean(query_times)"
      ],
      "execution_count": 5,
      "outputs": []
    },
    {
      "cell_type": "markdown",
      "metadata": {
        "id": "8ehlHxnMEKqg"
      },
      "source": [
        "**Задание 1. (7 баллов)**\n",
        "\n",
        "Реализуйте все методы класса `LSHIndex` или [`NSWIndex`](https://publications.hse.ru/mirror/pubs/share/folder/x5p6h7thif/direct/128296059), а затем постройте индекс по датасету `FashionMNIST` и подсчитайте recall вашего решения. \n",
        "\n",
        "Чтобы для удобства вместо косинусной близости считать скалярное произведение, и обучающую, и тестовую части датасета можно нормировать заранее."
      ]
    },
    {
      "cell_type": "code",
      "metadata": {
        "id": "_w1qFon6S--m"
      },
      "source": [
        "import numpy as np"
      ],
      "execution_count": 6,
      "outputs": []
    },
    {
      "cell_type": "code",
      "metadata": {
        "colab": {
          "base_uri": "https://localhost:8080/"
        },
        "id": "Bho122S6S83F",
        "outputId": "0d6feec8-9aeb-425e-e77f-d3ab82a52954"
      },
      "source": [
        "np.linalg.norm(train, axis=1).reshape((-1, 1))"
      ],
      "execution_count": 7,
      "outputs": [
        {
          "output_type": "execute_result",
          "data": {
            "text/plain": [
              "array([[3941.9375],\n",
              "       [4135.156 ],\n",
              "       [1727.5121],\n",
              "       ...,\n",
              "       [3748.563 ],\n",
              "       [1610.87  ],\n",
              "       [1483.911 ]], dtype=float32)"
            ]
          },
          "metadata": {
            "tags": []
          },
          "execution_count": 7
        }
      ]
    },
    {
      "cell_type": "code",
      "metadata": {
        "id": "tADpKU2TSV3X"
      },
      "source": [
        "train /= np.linalg.norm(train, axis=1).reshape((-1, 1))\n",
        "test /= np.linalg.norm(test, axis=1).reshape((-1, 1))"
      ],
      "execution_count": 8,
      "outputs": []
    },
    {
      "cell_type": "markdown",
      "metadata": {
        "id": "fbCzT2zSyzcP"
      },
      "source": [
        "Получается, мы хотим найти 100 ближайших соседей для каждого наблюдения тестовой выборки, базируясь на данных из обучающей выборки. Для поиска соседей воспользуемся композициями хэш-функций."
      ]
    },
    {
      "cell_type": "code",
      "metadata": {
        "id": "XofvLioNs2jW"
      },
      "source": [
        "# LSH\n",
        "\n",
        "\n",
        "def compute_hashes(matrices, query):\n",
        "    \"\"\"\n",
        "    Compute hash values for each hash table and a given vector.\n",
        "    Args:\n",
        "        matrices: np.array of shape (NUM_TABLES, NUM_BITS, dim), last axis represents\n",
        "            random hyperplanes for each hash bit of each table\n",
        "        query: vector to be hashed\n",
        "    Returns:\n",
        "        hashes: np.array of shape (NUM_TABLES, ), contains hash values for each table as unsigned integers\n",
        "    \"\"\"\n",
        "\n",
        "    # YOUR CODE HERE\n",
        "    # по аналогии с лекцией бинаризуем sign(x), где в качестве x используется умножение матрицы будущей композиции хэшей на хэшируемый вектор \n",
        "    binary_matrix = (np.sign(matrices@query)+1)*0.5\n",
        "    \n",
        "    # помимо бинарного вектора для расчёта хэшей полезно будет знать индекс каждого ненулевого значения функции\n",
        "    indexes = np.arange(0, matrices.shape[1])+1\n",
        "\n",
        "    return binary_matrix @ indexes\n",
        "\n",
        "\n",
        "class LSHIndex:\n",
        "\n",
        "    def __init__(self, vectors, projection_matrices):\n",
        "        \"\"\"\n",
        "        Build the index and store vectors for efficient neighbors search.\n",
        "        Args:\n",
        "            vectors: Training data, np.array (num_vectors, dim). Each k-NN query looks for neighbors in this set\n",
        "            projection_matrices: np.array of shape (NUM_TABLES, NUM_BITS, dim), last axis represents\n",
        "                random hyperplanes for each hash bit of each table\n",
        "        \"\"\"\n",
        "\n",
        "        # YOUR CODE HERE\n",
        "        self.vectors = vectors\n",
        "        self.matrices = projection_matrices\n",
        "\n",
        "        # вспомогательный вектор для расчёта индексов при хэш-функциях\n",
        "        binary_vec = ((np.sign(self.matrices @ self.vectors.T)+1)*0.5).T\n",
        "        binary_vec = np.swapaxes(binary_vec, 1, 2)\n",
        "        self.hash_vec = binary_vec @ (np.arange(0, self.matrices.shape[1])+1)\n",
        "\n",
        "    def query(self, query, k_neighbors):\n",
        "        \"\"\"\n",
        "        A helper function to perform a k-NN query.\n",
        "        Args:\n",
        "            query: a normalized query vector the neighbors of which we need to find\n",
        "            k_neighbors: the number of neighbors to return\n",
        "        Returns:\n",
        "            neighbors: a list of indices in the dataset\n",
        "                used to build the index. Vectors at these positions represent approximate k nearest neighbors of\n",
        "                the query, indices do not need to be sorted by any property\n",
        "        \"\"\"\n",
        "        hashes = compute_hashes(np.asarray(self.matrices), query)\n",
        "\n",
        "        return self._search_neighbors(query, k_neighbors, hashes)\n",
        "\n",
        "    def _search_neighbors(self, query, k_neighbors, hashes):\n",
        "        \"\"\"\n",
        "        All the fun happens here. Given a sample, its hashes and the number  of neighbors, locate nearest neighbors\n",
        "            wrt cosine similarity using the hash tables built during index construction.\n",
        "        Args:\n",
        "            query: a normalized query vector the neighbors of which we need to find\n",
        "            k_neighbors: the number of neighbors to return\n",
        "            hashes: an array containing hash values of query for each hash table\n",
        "        Returns:\n",
        "            neighbors: a list of indices in the dataset\n",
        "                used to build the index. Vectors at these positions represent approximate k nearest neighbors of\n",
        "                the query, indices do not need to be sorted by any property\n",
        "        \"\"\"\n",
        "\n",
        "        # YOUR CODE HERE\n",
        "        # определение возможных соседей (мб сосед если хотя бы одно значение хэша совпало) \n",
        "        neighbors_potentionally = np.unique(np.where(hashes==self.hash_vec)[0])\n",
        "        \n",
        "        # расчёт расстояний\n",
        "        dist = 1 - self.vectors[neighbors_potentionally] @ query\n",
        "        \n",
        "        return neighbors_potentionally[dist.argsort()[:k_neighbors]]"
      ],
      "execution_count": 10,
      "outputs": []
    },
    {
      "cell_type": "code",
      "metadata": {
        "id": "5k--3otNM--z",
        "cellView": "form"
      },
      "source": [
        "#@title NSW не сделал (да и не надо было, у Глеба там столько проблем возникло)\n",
        "# NSW\n",
        "\n",
        "\n",
        "class NSWIndex:\n",
        "\n",
        "    def __init__(self, vectors, num_neighbors, num_construction_runs):\n",
        "        \"\"\"\n",
        "        Build the index and store vectors for efficient neighbors search.\n",
        "        Args:\n",
        "            vectors: Training data, np.array (num_vectors, dim). Each k-NN query looks for neighbors in this set\n",
        "            num_neighbors: how many neighbors to look for during sequential insertion\n",
        "            num_construction_runs: number of search attempts in k-NN search during construction\n",
        "        \"\"\"\n",
        "        # YOUR CODE HERE\n",
        "\n",
        "        raise NotImplementedError\n",
        "\n",
        "    def query(self, query, k_neighbors, num_search_runs):\n",
        "        \"\"\"\n",
        "        A helper function to perform a k-NN query. Used to ensure that _knn_search can be called with GIL lifted.\n",
        "        Args:\n",
        "            query: a normalized query vector the neighbors of which we need to find\n",
        "            k_neighbors: the number of neighbors to return\n",
        "            num_search_runs: number of search attempts (parameter m in the NSW paper)\n",
        "        Returns:\n",
        "            neighbors: a list of indices in the dataset used to build the index. Vectors at these positions\n",
        "            represent approximate k nearest neighbors of the query, indices do not need to be sorted\n",
        "        \"\"\"\n",
        "        return self._knn_search(query, k_neighbors, num_search_runs)\n",
        "\n",
        "    def _knn_search(self, query, k_neighbors, num_search_runs):\n",
        "        \"\"\"\n",
        "        Run the NSW search algorithm in a constructed graph.\n",
        "        Args:\n",
        "            query: a normalized query vector the neighbors of which we need to find\n",
        "            k_neighbors: the number of neighbors to return\n",
        "            num_search_runs: number of search attempts (parameter m in the NSW paper)\n",
        "        Returns:\n",
        "            neighbors: a list of indices in the dataset used to build the index. Vectors at these positions\n",
        "            represent approximate k nearest neighbors of the query, indices do not need to be sorted\n",
        "        \"\"\"\n",
        "        # YOUR CODE HERE\n",
        "\n",
        "        raise NotImplementedError"
      ],
      "execution_count": null,
      "outputs": []
    },
    {
      "cell_type": "markdown",
      "metadata": {
        "id": "oYz7M6Xds2jX"
      },
      "source": [
        "Функции для подсчета нужных метрик"
      ]
    },
    {
      "cell_type": "markdown",
      "metadata": {
        "id": "lj5vf5tNfuDw"
      },
      "source": [
        "Попробуем посмотреть как хорошо написанный алгоритм справляется с задачей для поиска всех возможных соседей из тестовой выборки"
      ]
    },
    {
      "cell_type": "code",
      "metadata": {
        "id": "yfd6lAo4qvvZ"
      },
      "source": [
        "mat = np.random.randn(100, 20, 784)\n",
        "lsh = LSHIndex(train, mat)"
      ],
      "execution_count": 11,
      "outputs": []
    },
    {
      "cell_type": "markdown",
      "metadata": {
        "id": "zpW1MndDsX4X"
      },
      "source": [
        "Сразу заведём списочек, чтобы учитывать получившиеся результаты во втором задании"
      ]
    },
    {
      "cell_type": "code",
      "metadata": {
        "id": "tP3gW5-5rzXb"
      },
      "source": [
        "lsh_res = []"
      ],
      "execution_count": 12,
      "outputs": []
    },
    {
      "cell_type": "code",
      "metadata": {
        "id": "O8368wQzs2jY",
        "colab": {
          "base_uri": "https://localhost:8080/",
          "height": 65,
          "referenced_widgets": [
            "c4a5bef9a2c0429086eb47099ef06a66",
            "6b811f3ea1844e92af63ddf0300fc342",
            "86ff978e514d440d9e33696aed46745f",
            "7f1cf5e8eef3450291c99b55b8b2d638",
            "2e0eb86896c14c0da75eb81b898d23cf",
            "f2b2f66e0c7f431699466e037fb8dc88",
            "c27198254b1240b4a20d61b9521aae15",
            "851cebb017844dc986c1743f4f6d94b0"
          ]
        },
        "outputId": "bfd29d20-db91-4908-a54e-2712eb108029"
      },
      "source": [
        "# YOUR CODE HERE\n",
        "\n",
        "recall, qps = compute_recall_qps(lsh.query, test, true_neighbors_cosine)\n",
        "lsh_res.append((recall, qps))\n",
        "print(recall, qps)\n",
        "\n",
        "assert recall >= 0.95"
      ],
      "execution_count": 13,
      "outputs": [
        {
          "output_type": "display_data",
          "data": {
            "application/vnd.jupyter.widget-view+json": {
              "model_id": "c4a5bef9a2c0429086eb47099ef06a66",
              "version_minor": 0,
              "version_major": 2
            },
            "text/plain": [
              "HBox(children=(FloatProgress(value=0.0, max=10000.0), HTML(value='')))"
            ]
          },
          "metadata": {
            "tags": []
          }
        },
        {
          "output_type": "stream",
          "text": [
            "0.978193 11.247818552815842\n"
          ],
          "name": "stdout"
        }
      ]
    },
    {
      "cell_type": "code",
      "metadata": {
        "id": "4kTT1DFIfhw2"
      },
      "source": [
        "mat = np.random.randn(5, 3, 784)\n",
        "lsh = LSHIndex(train, mat)"
      ],
      "execution_count": 14,
      "outputs": []
    },
    {
      "cell_type": "code",
      "metadata": {
        "colab": {
          "base_uri": "https://localhost:8080/",
          "height": 65,
          "referenced_widgets": [
            "a997f974f1044f238c4a874367e9a297",
            "e74f89e4e2124dba8757c8f3f605ded6",
            "cca311bd0aff4d249a749b995c67fd24",
            "e5872c2cced749cf95349816bae67c99",
            "375e6de7fd3f4ffeb00fd5ff7d625a5b",
            "0b049188d8d6424892801a9dfd5d7562",
            "403c555c966d41a5875cd9d5474e890e",
            "43fb4f04a813475e9af44b2aa0f8973c"
          ]
        },
        "id": "GJYH6PqvfiG5",
        "outputId": "d5380249-2cc3-4b76-9488-5bb98e4c462f"
      },
      "source": [
        "recall, qps = compute_recall_qps(lsh.query, test, true_neighbors_cosine)\n",
        "lsh_res.append((recall, qps))\n",
        "print(recall, qps)\n",
        "assert recall >= 0.95"
      ],
      "execution_count": 15,
      "outputs": [
        {
          "output_type": "display_data",
          "data": {
            "application/vnd.jupyter.widget-view+json": {
              "model_id": "a997f974f1044f238c4a874367e9a297",
              "version_minor": 0,
              "version_major": 2
            },
            "text/plain": [
              "HBox(children=(FloatProgress(value=0.0, max=10000.0), HTML(value='')))"
            ]
          },
          "metadata": {
            "tags": []
          }
        },
        {
          "output_type": "stream",
          "text": [
            "0.9890950000000001 15.983628009552863\n"
          ],
          "name": "stdout"
        }
      ]
    },
    {
      "cell_type": "markdown",
      "metadata": {
        "id": "L00QMvmIhvlA"
      },
      "source": [
        "Прогнал несколько раз и заметил, что чем меньше хэш-функций берётся для каждой композиции (при одинаковом количестве векторов в композиции), тем дольше отрабатывает функция и тем выше точность. Наверное, это логично, учитывая то, что мы пытаемся ужать размерность пространства в этих функциях. \n",
        "\n",
        "При этом на большом количестве хэш-функций, вероятно, теряем какие-то важные признаки при запоминании обучающей выборки или, что более вероятно, в случае малой размерности хэш-функции вероятность попадания в массив потенциальных соседей ниже, из-за чего качество и увеличивается.\n",
        "\n",
        "Надеюсь, не написал какую-нибудь лютую глупость..."
      ]
    },
    {
      "cell_type": "markdown",
      "metadata": {
        "id": "f-82d1ZfEe3J"
      },
      "source": [
        "Визуализируйте пример работы алгоритма: найдите 5 ближайших соседей для нескольких объектов тестовой выборки и покажите, каким изображениям они соответствуют (вместе с самим запросом)."
      ]
    },
    {
      "cell_type": "code",
      "metadata": {
        "id": "g2Ho_mPks2jY",
        "colab": {
          "base_uri": "https://localhost:8080/",
          "height": 955
        },
        "outputId": "15758f7e-20a9-466e-e27b-7ad877d5a980"
      },
      "source": [
        "# YOUR CODE HERE\n",
        "for i in np.random.choice(10000, 5):\n",
        "    neighbors = lsh.query(test[i], 5)\n",
        "    \n",
        "    plt.figure(figsize=(15, 5))\n",
        "    plt.subplot(151)\n",
        "    plt.imshow(test[i].reshape(28, 28))\n",
        "    for j in range(5):\n",
        "        plt.subplot(151+j)\n",
        "        plt.imshow(train[neighbors[j]].reshape(28, 28))\n",
        "\n",
        "    plt.show()"
      ],
      "execution_count": 17,
      "outputs": [
        {
          "output_type": "stream",
          "text": [
            "/usr/local/lib/python3.7/dist-packages/ipykernel_launcher.py:9: MatplotlibDeprecationWarning: Adding an axes using the same arguments as a previous axes currently reuses the earlier instance.  In a future version, a new instance will always be created and returned.  Meanwhile, this warning can be suppressed, and the future behavior ensured, by passing a unique label to each axes instance.\n",
            "  if __name__ == '__main__':\n"
          ],
          "name": "stderr"
        },
        {
          "output_type": "display_data",
          "data": {
            "image/png": "[encoded data removed]",
            "text/plain": [
              "<Figure size 1080x360 with 5 Axes>"
            ]
          },
          "metadata": {
            "tags": [],
            "needs_background": "light"
          }
        },
        {
          "output_type": "display_data",
          "data": {
            "image/png": "[encoded data removed]",
            "text/plain": [
              "<Figure size 1080x360 with 5 Axes>"
            ]
          },
          "metadata": {
            "tags": [],
            "needs_background": "light"
          }
        },
        {
          "output_type": "display_data",
          "data": {
            "image/png": "[encoded data removed]",
            "text/plain": [
              "<Figure size 1080x360 with 5 Axes>"
            ]
          },
          "metadata": {
            "tags": [],
            "needs_background": "light"
          }
        },
        {
          "output_type": "display_data",
          "data": {
            "image/png": "[encoded data removed]",
            "text/plain": [
              "<Figure size 1080x360 with 5 Axes>"
            ]
          },
          "metadata": {
            "tags": [],
            "needs_background": "light"
          }
        },
        {
          "output_type": "display_data",
          "data": {
            "image/png": "[encoded data removed]",
            "text/plain": [
              "<Figure size 1080x360 with 5 Axes>"
            ]
          },
          "metadata": {
            "tags": [],
            "needs_background": "light"
          }
        }
      ]
    },
    {
      "cell_type": "markdown",
      "metadata": {
        "id": "6dkcqq6DlJEY"
      },
      "source": [
        "Обулись, оделись, всё похоже, ура!"
      ]
    },
    {
      "cell_type": "markdown",
      "metadata": {
        "id": "qOBxfVzds2jY"
      },
      "source": [
        "**Задание 2. (3 балла)**\n",
        "\n",
        "Исследуйте и покажите на графиках зависимость recall и QPS от размера хэша и числа хэш-таблиц в случае `LSH` или `num_construction_runs` и `num_search_runs` в случае NSW.\n",
        "\n",
        "Сравните вашу реализацию с классом `sklearn.neighbors.NearestNeighbors`: так как для косинусной близости в этом классе поддерживается только `algorithm='brute'`, вы получите время работы точного поиска ближайших соседей. Для честности сравнения укажите в конструкторе метода `n_jobs` равным 1 и при замерах времени проводите поиск соседей для каждого объекта отдельно.\n",
        "\n",
        "Отметьте соответствующую ему точку на графике recall-QPS, а затем с помощью перебора гиперпараметров постройте кривую в этих координатах для вашей реализации (нужно протестировать хотя бы 5 различных комбинаций). При построении можете вдохновляться графиками с сайта [ann-benchmarks](http://ann-benchmarks.com/):\n",
        "\n",
        "![](http://ann-benchmarks.com/fashion-mnist-784-euclidean_100_euclidean.png)"
      ]
    },
    {
      "cell_type": "code",
      "metadata": {
        "colab": {
          "base_uri": "https://localhost:8080/",
          "height": 208,
          "referenced_widgets": [
            "abc9a1a4488646728e99bdca4790cba8",
            "aae1da34d1ce4c58aeaa18fc2fb443f4",
            "e8866994a9c641abbf779a929983aa48",
            "38fc519063b2493a87451de9e8d27c8e",
            "492d137c29a2449484e563eabe9921d4",
            "3df2c9bf010e44e0bc166b3e0d9c67bc",
            "475e6afb6ded4cc79106581db97ac702",
            "4e991a09dc1e46d08b21b07b19366866",
            "d52e559da64341c28dc215f2501340e3",
            "b9ae362fd6524685a752e3417c9022d9",
            "094219646f264ca7ba5c71fd00980d51",
            "7c33704996354e57b73d2e7b91b1191d",
            "8ce2c2a6dd6b44a5af16b7413d06116b",
            "d8087b7f16164c38bb3f593196bff9c6",
            "55575d93cc5e4a49b978b3f1182230eb",
            "c52b0b8a2a98404fa9c1c33858744bce",
            "570141e565674ec28ceccdcb370651b2",
            "972b10a29bff41669fe5a5aa9c3a6564",
            "a4683b42b1f1473d8667a40d56275cf4",
            "afa30186ebf74a959b36493f639e87f5",
            "f1279bf17b9c4768aa7a12bc6d025b7e",
            "1e912707ddaf43af9f3dafec9e61d89c",
            "f1d1debd2fd349309543c6af5efe49cc",
            "2cb47a58605c46a2a52d255749b63222",
            "407083d0a41c4315853542ccfb58c6ba",
            "d2742d5a30ce48beab286939a70e109d",
            "912f879f567148a1bdf4189932fa9089",
            "7be8fcc87df340c8a9b1e18156322d5a",
            "d43e1ee3134a4535b4273831be5c2fd1",
            "ced0b5391dcd439ba4856f7691fee82f",
            "c0169553d27948dba3f1f7a1e29cdf5b",
            "e71d6343e6e64dfeb49fc5e0b0061bbf",
            "69b5a34e19934a56ae9ae0bece65d4ef",
            "2c29de64f0ac4455a12ec88471a8be98",
            "8b447f2f04b4483c9b14cb7af3ff3207",
            "1db8b9473ff5432bbfa11a4204017bf5",
            "2914d6e31afa4c099b30eff122802873",
            "8da8eb8b015d4a23956987fde3182c9c",
            "d7505f9b73d44ef285c5150ad3f3b111",
            "689ede75e4f245a6995e15722bce1b81",
            "ba3d689579c14f0cb04b749a690345f4",
            "43038a3fab5a4573bcaabc8ddda6e153",
            "71d821f1b451413aa7423e34d7eec632",
            "60712e1642c046668c6955c284905b88",
            "c88f15ec8a9240d799e0de478165d96f",
            "ad78c4cf95f145738ce8f3fd50144ead",
            "d2540c7bd2b4492fa665b0fb3c81d631",
            "b5058e4a55ad48ff896aad73897805b1"
          ]
        },
        "id": "HZCYLe4Zjw8d",
        "outputId": "8dad33c1-5f10-4de4-d064-65182b805de1"
      },
      "source": [
        "# YOUR CODE HERE\n",
        "for hash_number, hash_size in [(2, 10), (3, 8), (4, 6), (5, 8), (8, 10), (10, 20)]:\n",
        "    projection_matrices = np.random.normal(size=(hash_number, hash_size, 784)) \n",
        "    lsh = LSHIndex(train, projection_matrices)\n",
        "    recall, qps = compute_recall_qps(lsh.query, test, true_neighbors_cosine)\n",
        "    lsh_res.append((recall, qps))"
      ],
      "execution_count": 18,
      "outputs": [
        {
          "output_type": "display_data",
          "data": {
            "application/vnd.jupyter.widget-view+json": {
              "model_id": "abc9a1a4488646728e99bdca4790cba8",
              "version_minor": 0,
              "version_major": 2
            },
            "text/plain": [
              "HBox(children=(FloatProgress(value=0.0, max=10000.0), HTML(value='')))"
            ]
          },
          "metadata": {
            "tags": []
          }
        },
        {
          "output_type": "display_data",
          "data": {
            "application/vnd.jupyter.widget-view+json": {
              "model_id": "d52e559da64341c28dc215f2501340e3",
              "version_minor": 0,
              "version_major": 2
            },
            "text/plain": [
              "HBox(children=(FloatProgress(value=0.0, max=10000.0), HTML(value='')))"
            ]
          },
          "metadata": {
            "tags": []
          }
        },
        {
          "output_type": "display_data",
          "data": {
            "application/vnd.jupyter.widget-view+json": {
              "model_id": "570141e565674ec28ceccdcb370651b2",
              "version_minor": 0,
              "version_major": 2
            },
            "text/plain": [
              "HBox(children=(FloatProgress(value=0.0, max=10000.0), HTML(value='')))"
            ]
          },
          "metadata": {
            "tags": []
          }
        },
        {
          "output_type": "display_data",
          "data": {
            "application/vnd.jupyter.widget-view+json": {
              "model_id": "407083d0a41c4315853542ccfb58c6ba",
              "version_minor": 0,
              "version_major": 2
            },
            "text/plain": [
              "HBox(children=(FloatProgress(value=0.0, max=10000.0), HTML(value='')))"
            ]
          },
          "metadata": {
            "tags": []
          }
        },
        {
          "output_type": "display_data",
          "data": {
            "application/vnd.jupyter.widget-view+json": {
              "model_id": "69b5a34e19934a56ae9ae0bece65d4ef",
              "version_minor": 0,
              "version_major": 2
            },
            "text/plain": [
              "HBox(children=(FloatProgress(value=0.0, max=10000.0), HTML(value='')))"
            ]
          },
          "metadata": {
            "tags": []
          }
        },
        {
          "output_type": "display_data",
          "data": {
            "application/vnd.jupyter.widget-view+json": {
              "model_id": "ba3d689579c14f0cb04b749a690345f4",
              "version_minor": 0,
              "version_major": 2
            },
            "text/plain": [
              "HBox(children=(FloatProgress(value=0.0, max=10000.0), HTML(value='')))"
            ]
          },
          "metadata": {
            "tags": []
          }
        }
      ]
    },
    {
      "cell_type": "code",
      "metadata": {
        "colab": {
          "base_uri": "https://localhost:8080/"
        },
        "id": "W3uA5Ayc4hth",
        "outputId": "a4fcbe59-0dd3-4c9e-d4b8-ee982b9d9365"
      },
      "source": [
        "lsh_res"
      ],
      "execution_count": 19,
      "outputs": [
        {
          "output_type": "execute_result",
          "data": {
            "text/plain": [
              "[(0.978193, 11.247818552815842),\n",
              " (0.9890950000000001, 15.983628009552863),\n",
              " (0.39818600000000004, 168.92603814791775),\n",
              " (0.698549, 65.674065406311),\n",
              " (0.8705230000000002, 33.48826304803011),\n",
              " (0.8596400000000002, 42.74809554918305),\n",
              " (0.8501080000000002, 39.56464811548536),\n",
              " (0.6492479999999999, 63.36626974385376)]"
            ]
          },
          "metadata": {
            "tags": []
          },
          "execution_count": 19
        }
      ]
    },
    {
      "cell_type": "markdown",
      "metadata": {
        "id": "rHnYoN2Q4qaP"
      },
      "source": [
        "Отсортируем значения, чтобы на графике получилась красивая линия"
      ]
    },
    {
      "cell_type": "code",
      "metadata": {
        "id": "0QngOYpUQRIl"
      },
      "source": [
        "lsh_res = np.array(sorted(lsh_res, key=lambda tup: tup[0]))"
      ],
      "execution_count": 21,
      "outputs": []
    },
    {
      "cell_type": "code",
      "metadata": {
        "id": "q3WyZMrPQRIl",
        "colab": {
          "base_uri": "https://localhost:8080/",
          "height": 337,
          "referenced_widgets": [
            "1fb420edd9d04cbaa4d6654b3712305f",
            "2f0488a93e65487f95028dca111d5e36",
            "47d57eb1268844d1b5f381fc955ba68d",
            "1c11cfc8f90d40a2afcb237aee9b3725",
            "ffc479393fc94de4bddfe4a68251166b",
            "9a055cdef7e44a16a8916c2317e6702e",
            "34f841afd596430e972794e101723fa9",
            "adf10ff6245e44cfb9c5209bba0354a6"
          ]
        },
        "outputId": "8be8511c-252d-4af3-b50b-2cc43008a9bb"
      },
      "source": [
        "sklearn_index = NearestNeighbors(\n",
        "    n_neighbors=100,\n",
        "    algorithm='brute',\n",
        "    metric='cosine',\n",
        "    n_jobs=1\n",
        ")\n",
        "\n",
        "sklearn_index.fit(train)\n",
        "\n",
        "recall_sklearn, qps_sklearn = compute_recall_qps(sklearn_index.kneighbors, \n",
        "                                       test, true_neighbors_cosine)"
      ],
      "execution_count": 22,
      "outputs": [
        {
          "output_type": "display_data",
          "data": {
            "application/vnd.jupyter.widget-view+json": {
              "model_id": "1fb420edd9d04cbaa4d6654b3712305f",
              "version_minor": 0,
              "version_major": 2
            },
            "text/plain": [
              "HBox(children=(FloatProgress(value=0.0, max=10000.0), HTML(value='')))"
            ]
          },
          "metadata": {
            "tags": []
          }
        },
        {
          "output_type": "error",
          "ename": "TypeError",
          "evalue": "ignored",
          "traceback": [
            "\u001b[0;31m---------------------------------------------------------------------------\u001b[0m",
            "\u001b[0;31mTypeError\u001b[0m                                 Traceback (most recent call last)",
            "\u001b[0;32m<ipython-input-22-d9bfe6dc2d78>\u001b[0m in \u001b[0;36m<module>\u001b[0;34m()\u001b[0m\n\u001b[1;32m      9\u001b[0m \u001b[0;34m\u001b[0m\u001b[0m\n\u001b[1;32m     10\u001b[0m recall_sklearn, qps_sklearn = compute_recall_qps(sklearn_index.kneighbors, \n\u001b[0;32m---> 11\u001b[0;31m                                        test, true_neighbors_cosine)\n\u001b[0m",
            "\u001b[0;32m<ipython-input-5-0fccd1aa9c41>\u001b[0m in \u001b[0;36mcompute_recall_qps\u001b[0;34m(query_func, test_set, true_neighbors, **kwargs)\u001b[0m\n\u001b[1;32m     23\u001b[0m         \u001b[0mstart\u001b[0m \u001b[0;34m=\u001b[0m \u001b[0mperf_counter\u001b[0m\u001b[0;34m(\u001b[0m\u001b[0;34m)\u001b[0m\u001b[0;34m\u001b[0m\u001b[0;34m\u001b[0m\u001b[0m\n\u001b[1;32m     24\u001b[0m \u001b[0;34m\u001b[0m\u001b[0m\n\u001b[0;32m---> 25\u001b[0;31m         \u001b[0mapprox_neighbors\u001b[0m \u001b[0;34m=\u001b[0m \u001b[0mquery_func\u001b[0m\u001b[0;34m(\u001b[0m\u001b[0msample\u001b[0m\u001b[0;34m,\u001b[0m \u001b[0mk_neighbors\u001b[0m\u001b[0;34m=\u001b[0m\u001b[0mneighbors_for_sample\u001b[0m\u001b[0;34m.\u001b[0m\u001b[0mshape\u001b[0m\u001b[0;34m[\u001b[0m\u001b[0;36m0\u001b[0m\u001b[0;34m]\u001b[0m\u001b[0;34m,\u001b[0m \u001b[0;34m**\u001b[0m\u001b[0mkwargs\u001b[0m\u001b[0;34m)\u001b[0m\u001b[0;34m\u001b[0m\u001b[0;34m\u001b[0m\u001b[0m\n\u001b[0m\u001b[1;32m     26\u001b[0m \u001b[0;34m\u001b[0m\u001b[0m\n\u001b[1;32m     27\u001b[0m         \u001b[0mquery_times\u001b[0m\u001b[0;34m.\u001b[0m\u001b[0mappend\u001b[0m\u001b[0;34m(\u001b[0m\u001b[0;36m1\u001b[0m \u001b[0;34m/\u001b[0m \u001b[0;34m(\u001b[0m\u001b[0mperf_counter\u001b[0m\u001b[0;34m(\u001b[0m\u001b[0;34m)\u001b[0m \u001b[0;34m-\u001b[0m \u001b[0mstart\u001b[0m\u001b[0;34m)\u001b[0m\u001b[0;34m)\u001b[0m\u001b[0;34m\u001b[0m\u001b[0;34m\u001b[0m\u001b[0m\n",
            "\u001b[0;31mTypeError\u001b[0m: kneighbors() got an unexpected keyword argument 'k_neighbors'"
          ]
        }
      ]
    },
    {
      "cell_type": "code",
      "metadata": {
        "colab": {
          "base_uri": "https://localhost:8080/"
        },
        "id": "4orfea-ArtrQ",
        "outputId": "1c562e8a-b802-4f1b-f0cd-6f238dd7a319"
      },
      "source": [
        "sklearn_index.kneighbors()"
      ],
      "execution_count": 23,
      "outputs": [
        {
          "output_type": "execute_result",
          "data": {
            "text/plain": [
              "(array([[0.04358137, 0.04673779, 0.04802597, ..., 0.07661867, 0.07663798,\n",
              "         0.07664454],\n",
              "        [0.03229034, 0.0326255 , 0.03354913, ..., 0.04584253, 0.04594183,\n",
              "         0.04596686],\n",
              "        [0.02789807, 0.0483799 , 0.05960333, ..., 0.09353495, 0.09362316,\n",
              "         0.09367979],\n",
              "        ...,\n",
              "        [0.04119772, 0.04256654, 0.04335749, ..., 0.07443845, 0.07444847,\n",
              "         0.07451069],\n",
              "        [0.06255525, 0.0637126 , 0.06580472, ..., 0.10044348, 0.10052967,\n",
              "         0.10071182],\n",
              "        [0.1458795 , 0.17465979, 0.17688125, ..., 0.24219984, 0.24231362,\n",
              "         0.24235404]], dtype=float32),\n",
              " array([[25719, 27655, 18078, ..., 14687, 31794,   594],\n",
              "        [31949, 42564, 37550, ..., 15155, 36393, 57750],\n",
              "        [54027, 53513,  1071, ..., 38150, 39160,   160],\n",
              "        ...,\n",
              "        [22416, 45348, 26586, ..., 32693, 28147, 20074],\n",
              "        [43681,  6956, 54322, ..., 57628,  2437, 44915],\n",
              "        [40600, 29249, 51258, ..., 22636, 23055, 57597]]))"
            ]
          },
          "metadata": {
            "tags": []
          },
          "execution_count": 23
        }
      ]
    },
    {
      "cell_type": "markdown",
      "metadata": {
        "id": "4fkm3Y6BvQ-y"
      },
      "source": [
        "Видимо, исходная прописанная в шаблоне функция составлена чисто под нашу реализацию LSH, надо чуть-чуть переписать её"
      ]
    },
    {
      "cell_type": "code",
      "metadata": {
        "id": "COUWBO5SvXwE"
      },
      "source": [
        "def compute_recall_qps(query_func: callable, test_set: np.ndarray, true_neighbors: np.ndarray, **kwargs):\n",
        "    \"\"\"\n",
        "    Given a function that returns a list of nearest neighbors, estimate its recall and speed.\n",
        "    Args:\n",
        "        query_func: function with signature (query, k_neighbors, **kwargs).\n",
        "            Returns a list of k_neighbors approximate nearest neighbors for a query\n",
        "        test_set: array with shape (num_objects, dim). Contains query vectors for recall evaluation\n",
        "        true_neighbors: array of indices with shape (num_objects, num_neighbors). Contains ground truth data for\n",
        "            recall evaluation. k_neighbors from query_func is inferred from its shape\n",
        "        **kwargs: passed to query_func\n",
        "    Returns:\n",
        "        avg_recall: average recall of query_func over the test set\n",
        "        qps: number of queries per second handled by query_func \n",
        "    \"\"\"\n",
        "    recalls = []\n",
        "    query_times = []\n",
        "\n",
        "    for sample, neighbors_for_sample in zip(test_set, tqdm(true_neighbors)):\n",
        "        start = perf_counter()\n",
        "        \n",
        "        approx_neighbors = sklearn_index.kneighbors(sample.reshape(1,-1), n_neighbors=100, return_distance=False)[0]\n",
        "\n",
        "        query_times.append(1 / (perf_counter() - start))\n",
        "\n",
        "        set_true = set(neighbors_for_sample.tolist())\n",
        "        hits = sum(1 for neighbor in approx_neighbors if neighbor in set_true)\n",
        "\n",
        "        recalls.append(hits / len(set_true))\n",
        "\n",
        "    return np.mean(recalls), np.mean(query_times)"
      ],
      "execution_count": 24,
      "outputs": []
    },
    {
      "cell_type": "code",
      "metadata": {
        "colab": {
          "base_uri": "https://localhost:8080/",
          "height": 48,
          "referenced_widgets": [
            "dd682358effd49e7ac477bfbcfa9c499",
            "177b1c06fa194123b117b8b6c5f2cb94",
            "586d34a443e4434581fe2b5961fb983e",
            "78c56949386247abbc5600a418a00f2c",
            "f1f2dc09af9f4e48939d37d309138ec6",
            "170eabaa15834e7b91fae1cbc8fb8f33",
            "86e66c78e3824c2a873e6b566a7e3c15",
            "71f4a69307c34c369f5acbb82dd6c351"
          ]
        },
        "id": "htmRsG09vf-W",
        "outputId": "a913fb9f-6e36-47b0-be8b-f98e54df97ae"
      },
      "source": [
        "sklearn_index = NearestNeighbors(\n",
        "    n_neighbors=100,\n",
        "    algorithm='brute',\n",
        "    metric='cosine',\n",
        "    n_jobs=1\n",
        ")\n",
        "\n",
        "sklearn_index.fit(train)\n",
        "\n",
        "recall_sklearn, qps_sklearn = compute_recall_qps(sklearn_index.kneighbors, \n",
        "                                       test, true_neighbors_cosine)"
      ],
      "execution_count": 25,
      "outputs": [
        {
          "output_type": "display_data",
          "data": {
            "application/vnd.jupyter.widget-view+json": {
              "model_id": "dd682358effd49e7ac477bfbcfa9c499",
              "version_minor": 0,
              "version_major": 2
            },
            "text/plain": [
              "HBox(children=(FloatProgress(value=0.0, max=10000.0), HTML(value='')))"
            ]
          },
          "metadata": {
            "tags": []
          }
        }
      ]
    },
    {
      "cell_type": "code",
      "metadata": {
        "id": "zhlqMeOEQRIl",
        "colab": {
          "base_uri": "https://localhost:8080/",
          "height": 621
        },
        "outputId": "f6f3666b-9934-4bdb-9f17-585867100222"
      },
      "source": [
        "plt.figure(figsize=(20, 10))\n",
        "plt.plot(recall_sklearn, qps_sklearn, color='b', marker='*', markersize=30, label='sklearn')\n",
        "plt.plot(lsh_res[:, 0], lsh_res[:, 1], color='cyan', marker='.', linestyle='-.', markersize=30, linewidth=3, label='мой LSH')\n",
        "plt.xlabel('Recall')\n",
        "plt.ylabel('queries per second')\n",
        "plt.title('Зависимость между Recall и QPS')\n",
        "plt.legend(markerscale=0.5)\n",
        "plt.show()"
      ],
      "execution_count": 30,
      "outputs": [
        {
          "output_type": "display_data",
          "data": {
            "image/png": "[encoded data removed]",
            "text/plain": [
              "<Figure size 1440x720 with 1 Axes>"
            ]
          },
          "metadata": {
            "tags": [],
            "needs_background": "light"
          }
        }
      ]
    },
    {
      "cell_type": "markdown",
      "metadata": {
        "id": "AMPY7u3JAljA"
      },
      "source": [
        "Видим, что при качественном подборе гиперпараметров размера композции хэш-функции и длины самих хэш-функций можно получить значения, приводящие к нелинейному строению представленной ломанной LSH. И кажется, что при композиции хэш-функций размерностью 5 с 3 аргументами в хэш-функции у нас получается наилучший баланс качества и скорости работы (в 3 раза быстрее обычного KNN, по качеству почти никак не уступает). Если нам важно получить достойный результат как можно быстрее, LSH явно превсходит обычный KNN."
      ]
    },
    {
      "cell_type": "markdown",
      "metadata": {
        "id": "C8c_MeSAM-_F"
      },
      "source": [
        "**Бонус. (0.01 балла)**\n",
        "\n",
        "Приложите свой любимый рецепт (необязательно завтрака) и расскажите, почему он вам так нравится."
      ]
    },
    {
      "cell_type": "markdown",
      "metadata": {
        "id": "B5a6M-5iM-_F"
      },
      "source": [
        "Мог бы привести легендарный рецепт плова из мемов 10-ых годов, но лучше буду соблюдать академическую этику и приведу по-настоящему любимый рецепт. Его электронный аналог [тут](https://www.iamcook.ru/showrecipe/10703).\n",
        "\n",
        "\n",
        "1.   Берём 1-2кг картошки, 2 луковицы, покупаем в ближайшем продуктовом филе куриной грудки.\n",
        "2.   Режем филе на небольшие полоски, чтобы быстрее прожарились, кладём на разогретую сковороду и солим плюс обильно перчим\n",
        "3. Пока курица жарится, включаем режим турбо, чтобы помыть и почистить картофель\n",
        "4. Нарезаем картошку на небольшие ломтики, предварительно разрезав каждую напополам. Надеюсь, успеваем кинуть на сковороду пока курица не превратилась в угли\n",
        "5. Чтобы ничего не сгорело, лучше вообще делать это на разных сковородках\n",
        "6. Жарим и курицу, и картошку до золотистых корочек (минут 25 курицу, минут 20-25 картошку)\n",
        "7. Когда картошка вроде бы уже не прям сырая (можно проверить вилкой или ножом), надо посолить её и добавить предварительно нарезанный лук (чтобы не щипало глазки, я обычно мою его под холодной водой до нарезки). И да, лук не зелёный, а нормальный\n",
        "8. Когда всё приготовилось, кладём небольшой кусочек масла на картошку и кушаем\n",
        "9. При желании можно добавить к столу маринованные огурцы, грибы или помидоры\n",
        "10. Не переедаем, чтобы потом не болел живот, остатки складываем в пластиковую форму для хранения и после охлаждения кладём в холодильник.\n",
        "\n",
        "Почему нравится? Картошка и курица достаточно дешёвые, их несложно найти в любом продуктовом, для приготовления не надо выдумывать вообще ничего сложного, тупо постоять 10 минут над чисткой картофеля и 30 минут над плитой. Параллельно можно послушать лекцию Евгения Андреевича про LSH.\n",
        "\n",
        "P.s. Не понимаю, как любимый рецепт связан с темой этой домашки, но ладно\n",
        "\n",
        "\n",
        "\n"
      ]
    }
  ]
}